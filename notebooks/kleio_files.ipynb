{
 "cells": [
  {
   "cell_type": "code",
   "execution_count": 5,
   "metadata": {},
   "outputs": [
    {
     "name": "stdout",
     "output_type": "stream",
     "text": [
      "Token: wuw8\n",
      "URL: http://127.0.0.1:8091\n",
      "Kleio Home: /Users/jrc/mhk-home/sources/dehergne-locations/sources\n",
      "Number of kleio files in server: 29\n",
      "Number of kleio files needing translation: 1\n",
      "Number of kleio files with errors: 0\n",
      "Number of kleio files with warnings: 0\n"
     ]
    }
   ],
   "source": [
    "from typing import List\n",
    "from timelink.kleio import KleioServer, KleioFile\n",
    "\n",
    "\n",
    "kleio_home=\"../sources\"\n",
    "\n",
    "kserver: KleioServer = KleioServer.start(kleio_home=kleio_home)\n",
    "\n",
    "token = kserver.get_token()\n",
    "url = kserver.get_url()\n",
    "khome = kserver.get_kleio_home()\n",
    "\n",
    "print(f\"Token: {token[:4]}\")\n",
    "print(f\"URL: {url}\")\n",
    "print(f\"Kleio Home: {khome}\")\n",
    "\n",
    "# TODO KleioServer.stats() will return dict { 'Total': int, 'Translatable (T)': int, 'Errors found (E)': int, 'Warnings (W)': int, 'Valid (V)': int}\n",
    "all_files: List[KleioFile] = kserver.translation_status(path='',recurse='yes')\n",
    "print(f\"Number of kleio files in server: {len(all_files)}\")\n",
    "need_translation: List[KleioFile] = [f for f in all_files if f.status=='T']\n",
    "print(f\"Number of kleio files needing translation: {len(need_translation)}\")\n",
    "with_errors: List[KleioFile] = [f for f in all_files if f.status=='E']\n",
    "print(f\"Number of kleio files with errors: {len(with_errors)}\")\n",
    "with_warnings: List[KleioFile] = [f for f in all_files if f.status=='W']\n",
    "print(f\"Number of kleio files with warnings: {len(with_warnings)}\")"
   ]
  },
  {
   "cell_type": "markdown",
   "metadata": {},
   "source": [
    "## List of files in the directory"
   ]
  },
  {
   "cell_type": "code",
   "execution_count": 9,
   "metadata": {},
   "outputs": [
    {
     "name": "stdout",
     "output_type": "stream",
     "text": [
      "E dehergne-p.cli 2023-11-01 10:42:58 2023-11-01T11:47:00+00:00\n",
      "V dehergne-a.cli 2023-10-13 08:10:28 2022-11-01T08:57:00+00:00\n",
      "V dehergne-b.cli 2023-10-13 08:10:28 2021-09-23T15:53:00+00:00\n",
      "V dehergne-c.cli 2023-10-13 08:10:28 2022-10-31T06:36:00+00:00\n",
      "V dehergne-d.cli 2023-10-13 08:10:28 2023-03-10T01:52:00+00:00\n",
      "V dehergne-e.cli 2023-10-13 08:10:28 2021-09-23T11:59:00+00:00\n",
      "V dehergne-f.cli 2023-10-13 08:10:28 2021-09-23T11:59:00+00:00\n",
      "V dehergne-g.cli 2023-10-13 08:10:28 2021-09-23T11:59:00+00:00\n",
      "V dehergne-h.cli 2023-10-13 08:10:28 2021-09-23T11:59:00+00:00\n",
      "V dehergne-i.cli 2023-10-13 08:10:28 2021-09-23T11:59:00+00:00\n",
      "V dehergne-j.cli 2023-10-13 08:10:28 2021-09-23T11:59:00+00:00\n",
      "V dehergne-k.cli 2023-10-13 08:10:28 2021-09-23T11:59:00+00:00\n",
      "V dehergne-l.cli 2023-10-13 08:10:28 2021-09-23T12:02:00+00:00\n",
      "V dehergne-locations-1644.cli 2023-10-13 08:10:28 2022-12-14T10:52:00+00:00\n",
      "V dehergne-locations-1701.cli 2023-10-13 08:10:28 2021-10-18T09:53:00+00:00\n",
      "V dehergne-m.cli 2023-10-13 08:10:28 2021-09-23T12:02:00+00:00\n",
      "V dehergne-n.cli 2023-10-13 08:10:28 2021-09-23T12:02:00+00:00\n",
      "V dehergne-o.cli 2023-10-13 08:10:28 2021-09-23T12:02:00+00:00\n",
      "V dehergne-other.cli 2023-10-13 08:10:28 2022-12-12T11:52:00+00:00\n",
      "V dehergne-q.cli 2023-10-13 08:10:28 2021-09-23T12:02:00+00:00\n",
      "V dehergne-r.cli 2023-10-13 08:10:28 2021-10-11T16:01:00+00:00\n",
      "V dehergne-s.cli 2023-10-13 08:10:28 2021-10-11T14:52:00+00:00\n",
      "V dehergne-t.cli 2023-10-13 08:10:28 2021-09-23T12:03:00+00:00\n",
      "V dehergne-u.cli 2023-10-13 08:10:28 2021-09-23T12:04:00+00:00\n",
      "V dehergne-v.cli 2023-10-13 08:10:28 2021-09-23T12:04:00+00:00\n",
      "V dehergne-w.cli 2023-10-13 08:10:28 2021-09-23T12:03:00+00:00\n",
      "V dehergne-x.cli 2023-10-13 08:10:28 2021-09-23T12:03:00+00:00\n",
      "V dehergne-y.cli 2023-10-13 08:10:28 2021-09-23T15:06:00+00:00\n",
      "V dehergne-z.cli 2023-10-13 08:10:28 2021-09-23T15:06:00+00:00\n"
     ]
    }
   ],
   "source": [
    "from typing import List\n",
    "from timelink.kleio.schemas import KleioFile\n",
    "\n",
    "kfiles: List[KleioFile] = kserver.translation_status(path='',recurse='yes',status=None)\n",
    "\n",
    "for kfile in sorted(kfiles, key=lambda kfile: kfile.status.value+kfile.path):\n",
    "    print(kfile.status.value,kfile.path,kfile.modified_string, kfile.translated_string)"
   ]
  },
  {
   "cell_type": "markdown",
   "metadata": {},
   "source": [
    "## Need translation"
   ]
  },
  {
   "cell_type": "code",
   "execution_count": 7,
   "metadata": {},
   "outputs": [
    {
     "name": "stdout",
     "output_type": "stream",
     "text": [
      "T dehergne-p.cli\n"
     ]
    }
   ],
   "source": [
    "for kfile in kserver.translation_status(path='',recurse='yes',status='T'):\n",
    "    print(kfile.status.value, kfile.path)\n",
    "    kserver.translate(kfile.path, recurse='no', spawn='no')"
   ]
  },
  {
   "cell_type": "markdown",
   "metadata": {},
   "source": [
    "## Translate new and updates files\n"
   ]
  },
  {
   "cell_type": "code",
   "execution_count": 8,
   "metadata": {},
   "outputs": [
    {
     "name": "stdout",
     "output_type": "stream",
     "text": [
      "No files need to be translated\n"
     ]
    }
   ],
   "source": [
    "import time\n",
    "\n",
    "kfile: KleioFile\n",
    "for kfile in kserver.translation_status(path='',recurse='yes', status='T'):\n",
    "    print(kfile.path)\n",
    "    kserver.translate(kfile.path, recurse='yes', spawn='yes')\n",
    "\n",
    "while len(kserver.translation_status(path='',recurse='yes',status='P')) > 0:\n",
    "    print(\"Waiting for translation to finish...\")\n",
    "    time.sleep(5)\n",
    "print(\"No files need to be translated\")"
   ]
  },
  {
   "cell_type": "markdown",
   "metadata": {},
   "source": [
    "## Files with errors"
   ]
  },
  {
   "cell_type": "code",
   "execution_count": 39,
   "metadata": {},
   "outputs": [
    {
     "name": "stdout",
     "output_type": "stream",
     "text": [
      "ERROR E reference_sources/paroquiais/baptismos/bap-com-celebrantes.cli\n",
      "ERROR E reference_sources/varia/nommiz.cli\n",
      "ERROR E reference_sources/notariais/notarial80.cli\n",
      "ERROR E reference_sources/paroquiais/obitos/ob1688.cli\n",
      "ERROR E reference_sources/paroquiais/obitos/ob1688b.cli\n",
      "ERROR E reference_sources/paroquiais/obitos/obiteirasproblem.cli\n",
      "ERROR E reference_sources/paroquiais/obitos/obitoShort_id_id.cli\n"
     ]
    }
   ],
   "source": [
    "for kfile in kserver.translation_status(path='',recurse='yes',status='E'):\n",
    "    print(\"ERROR\",kfile.status.value, kfile.path)"
   ]
  },
  {
   "cell_type": "markdown",
   "metadata": {},
   "source": [
    "## Files with warnings"
   ]
  },
  {
   "cell_type": "code",
   "execution_count": 40,
   "metadata": {},
   "outputs": [
    {
     "name": "stdout",
     "output_type": "stream",
     "text": [
      "Import W reference_sources/varia/EmpFAfonso.cli\n",
      "Import W reference_sources/varia/glopes-lap1561.cli\n"
     ]
    }
   ],
   "source": [
    "for kfile in kserver.translation_status(path='',recurse='yes',status='W'):\n",
    "    print(\"Import\",kfile.status.value, kfile.path)"
   ]
  },
  {
   "cell_type": "markdown",
   "metadata": {},
   "source": [
    "## Valid translations"
   ]
  },
  {
   "cell_type": "code",
   "execution_count": 4,
   "metadata": {},
   "outputs": [
    {
     "name": "stdout",
     "output_type": "stream",
     "text": [
      "Import V /rest/exports/reference_sources/varia/Devedores.xml\n",
      "Import V /rest/exports/reference_sources/varia/auc-alunos-264605-A-140337-140771.xml\n",
      "Import V /rest/exports/reference_sources/varia/auc_cartulario18.xml\n",
      "Import V /rest/exports/reference_sources/paroquiais/baptismos/bapt1714.xml\n",
      "Import V /rest/exports/reference_sources/paroquiais/baptismos/bapteirasproblem1.xml\n",
      "Import V /rest/exports/reference_sources/paroquiais/baptismos/bapteirasproblem2.xml\n",
      "Import V /rest/exports/reference_sources/paroquiais/casamentos/cas1714-1722-com-celebrante.xml\n",
      "Import V /rest/exports/reference_sources/paroquiais/casamentos/cas1714-1722.xml\n",
      "Import V /rest/exports/reference_sources/roisdeconfessados/coja-rol-1841.xml\n",
      "Import V /rest/exports/reference_sources/paroquiais/crisma/crisma1753.xml\n",
      "Import V /rest/exports/reference_sources/varia/dehergne-a.xml\n",
      "Import V /rest/exports/reference_sources/notariais/docsregiospontepisc.xml\n",
      "Import V /rest/exports/reference_sources/varia/eleicoes1.xml\n",
      "Import V /rest/exports/reference_sources/varia/genealdiversas.xml\n",
      "Import V /rest/exports/reference_sources/varia/ivcc.xml\n",
      "Import V /rest/exports/reference_sources/varia/lrazao516pe.xml\n",
      "Import V /rest/exports/reference_sources/varia/misMesa.xml\n",
      "Import V /rest/exports/reference_sources/varia/mp758-santiago-beduido.xml\n",
      "Import V /rest/exports/reference_sources/notariais/notlousa1.xml\n",
      "Import V /rest/exports/reference_sources/paroquiais/obitos/obit1714.xml\n",
      "Import V /rest/exports/reference_sources/paroquiais/obitos/obitoShort.xml\n",
      "Import V /rest/exports/reference_sources/paroquiais/obitos/obitoShort_id.xml\n",
      "Import V /rest/exports/reference_sources/notariais/perdoes.xml\n",
      "Import V /rest/exports/reference_sources/varia/quotes.xml\n",
      "Import V /rest/exports/reference_sources/paroquiais/baptismos/rogeriodomingos_bap_problem.xml\n",
      "Import V /rest/exports/reference_sources/roisdeconfessados/rol1.xml\n",
      "Import V /rest/exports/reference_sources/roisdeconfessados/rol2.xml\n",
      "Import V /rest/exports/reference_sources/roisdeconfessados/rol3.xml\n",
      "Import V /rest/exports/reference_sources/varia/sourecoimbrabispcoimbra_apontamentosd.xml\n",
      "Import V /rest/exports/reference_sources/paroquiais/obitos/testeParentescos.xml\n",
      "Import V /rest/exports/reference_sources/varia/vereacao.xml\n",
      "Import V /rest/exports/reference_sources/varia/xpto_comuns_soure.xml\n"
     ]
    }
   ],
   "source": [
    "for kfile in kserver.translation_status(path='',recurse='yes',status='V'):\n",
    "    print(\"Import\",kfile.status.value, kfile.xml_url)\n"
   ]
  },
  {
   "cell_type": "markdown",
   "metadata": {},
   "source": [
    "## Import files"
   ]
  },
  {
   "cell_type": "markdown",
   "metadata": {},
   "source": [
    "Setup database connection"
   ]
  },
  {
   "cell_type": "code",
   "execution_count": 41,
   "metadata": {},
   "outputs": [],
   "source": [
    "from timelink.api.database import TimelinkDatabase\n",
    "\n",
    "\n",
    "db_dir = '../database/sqlite/'\n",
    "db_name = 'timelink'\n",
    "db: TimelinkDatabase = TimelinkDatabase(db_name=db_name, db_path=db_dir)"
   ]
  },
  {
   "cell_type": "markdown",
   "metadata": {},
   "source": [
    "## Import files"
   ]
  },
  {
   "cell_type": "code",
   "execution_count": 42,
   "metadata": {},
   "outputs": [
    {
     "name": "stdout",
     "output_type": "stream",
     "text": [
      "Importing notlousa1.cli reference_sources/notariais/notlousa1.cli\n",
      "Error: '<' not supported between instances of 'NoneType' and 'int'\n",
      "Importing perdoes.cli reference_sources/notariais/perdoes.cli\n",
      "Storing 23 postponed relations\n",
      "{'database': sqlite:////Users/jrc/develop/timelink-py/tests/timelink-home/sources/test-project/database/sqlite/timelink.sqlite,\n",
      " 'datetime': 1698155366.637417,\n",
      " 'entities_processed': 643,\n",
      " 'entity_rate': 135.55586466114394,\n",
      " 'errors': [],\n",
      " 'file': '/rest/exports/reference_sources/notariais/perdoes.xml',\n",
      " 'import_time_seconds': 4.743431806564331,\n",
      " 'machine': 'jrc-air-m2.local',\n",
      " 'nerrors': 0,\n",
      " 'person_rate': 24.665686104749366}\n"
     ]
    }
   ],
   "source": [
    "from datetime import timezone\n",
    "import pprint\n",
    "from typing import List\n",
    "from timelink.kleio.schemas import KleioFile, import_status_enum\n",
    "from timelink.kleio.importer import import_from_xml\n",
    "from timelink.api.models import KleioImportedFile\n",
    "from timelink.api.database import get_import_status\n",
    "\n",
    "to_import: List[KleioFile]\n",
    "    \n",
    "# get valid files from Kleio Server\n",
    "to_import: List[KleioFile] = kserver.translation_status(path='',recurse='yes',status='V')\n",
    "\n",
    "# TODO: TimelinkDatabase.update_imports(KleioServer, path or list_of_files)\n",
    "# \n",
    "to_import = db.get_import_status(to_import)\n",
    "for file in to_import:\n",
    "    if file.import_status==import_status_enum.U or\\\n",
    "        file.import_status==import_status_enum.N:\n",
    "        print(\"Importing\",file.name, file.path)\n",
    "        with db.session() as session:\n",
    "            try:\n",
    "                stats = import_from_xml(file.xml_url, \n",
    "                                        session=session,\n",
    "                                        options={\"return_stats\": True,\n",
    "                                                 \"kleio_token\": token,\n",
    "                                                 \"kleio_url\": url,\n",
    "                                                 \"mode\":\"TL\"})\n",
    "                pprint.pprint(stats)\n",
    "            except Exception as e:\n",
    "                print(f\"Error: {e}\")\n",
    "                continue   \n"
   ]
  },
  {
   "cell_type": "markdown",
   "metadata": {},
   "source": []
  },
  {
   "cell_type": "markdown",
   "metadata": {},
   "source": [
    "## Imported files"
   ]
  },
  {
   "cell_type": "code",
   "execution_count": 43,
   "metadata": {},
   "outputs": [
    {
     "name": "stdout",
     "output_type": "stream",
     "text": [
      "Number of imported files:  33\n",
      "0:0:/kleio-home/kleio/reference_sources/notariais/docsregiospontepisc.cli\n",
      "0:0:/kleio-home/kleio/reference_sources/paroquiais/baptismos/bapt1714.cli\n",
      "0:0:/kleio-home/kleio/reference_sources/paroquiais/baptismos/bapteirasproblem1.cli\n",
      "0:0:/kleio-home/kleio/reference_sources/paroquiais/baptismos/bapteirasproblem2.cli\n",
      "0:0:/kleio-home/kleio/reference_sources/paroquiais/baptismos/rogeriodomingos_bap_problem.cli\n",
      "0:0:/kleio-home/kleio/reference_sources/paroquiais/casamentos/cas1714-1722-com-celebrante.cli\n",
      "0:0:/kleio-home/kleio/reference_sources/paroquiais/casamentos/cas1714-1722.cli\n",
      "0:0:/kleio-home/kleio/reference_sources/paroquiais/crisma/crisma1753.cli\n",
      "0:0:/kleio-home/kleio/reference_sources/paroquiais/obitos/obit1714.cli\n",
      "0:0:/kleio-home/kleio/reference_sources/paroquiais/obitos/obitoShort.cli\n",
      "0:0:/kleio-home/kleio/reference_sources/paroquiais/obitos/obitoShort_id.cli\n",
      "0:0:/kleio-home/kleio/reference_sources/paroquiais/obitos/testeParentescos.cli\n",
      "0:0:/kleio-home/kleio/reference_sources/roisdeconfessados/coja-rol-1841.cli\n",
      "1:0:/kleio-home/kleio/reference_sources/roisdeconfessados/rol1.cli\n",
      "ERROR: rol1.cli line 4 ** integrity error fonte$rol1: (sqlite3.IntegrityError) UNIQUE constraint failed: entities.id\n",
      "[SQL: INSERT INTO entities (id, class, inside, the_order, the_level, the_line, groupname, updated, \"indexed\") VALUES (?, ?, ?, ?, ?, ?, ?, ?, ?)]\n",
      "[parameters: ('rol1', 'source', None, '1', '1', '4', 'fonte', '2023-10-22 11:46:20.786562', None)]\n",
      "(Background on this error at: https://sqlalche.me/e/20/gkpj)\n",
      "0:0:/kleio-home/kleio/reference_sources/roisdeconfessados/rol2.cli\n",
      "0:0:/kleio-home/kleio/reference_sources/roisdeconfessados/rol3.cli\n",
      "0:0:/kleio-home/kleio/reference_sources/varia/Devedores.cli\n",
      "0:0:/kleio-home/kleio/reference_sources/varia/auc-alunos-264605-A-140337-140771.cli\n",
      "0:0:/kleio-home/kleio/reference_sources/varia/auc_cartulario18.cli\n",
      "0:0:/kleio-home/kleio/reference_sources/varia/dehergne-a.cli\n",
      "0:0:/kleio-home/kleio/reference_sources/varia/eleicoes1.cli\n",
      "0:0:/kleio-home/kleio/reference_sources/varia/genealdiversas.cli\n",
      "0:0:/kleio-home/kleio/reference_sources/varia/ivcc.cli\n",
      "0:0:/kleio-home/kleio/reference_sources/varia/lrazao516pe.cli\n",
      "0:0:/kleio-home/kleio/reference_sources/varia/misMesa.cli\n",
      "0:0:/kleio-home/kleio/reference_sources/varia/mp758-santiago-beduido.cli\n",
      "0:0:/kleio-home/kleio/reference_sources/varia/quotes.cli\n",
      "0:0:/kleio-home/kleio/reference_sources/varia/sourecoimbrabispcoimbra_apontamentosd.cli\n",
      "0:0:/kleio-home/kleio/reference_sources/varia/vereacao.cli\n",
      "0:0:/kleio-home/kleio/reference_sources/varia/xpto_comuns_soure.kleio\n",
      "0:0:/kleio-home/reference_sources/notariais/perdoes.cli\n",
      "0:0:/kleio-home/reference_sources/paroquiais/baptismos/bapt1714.cli\n",
      "0:0:/kleio-home/reference_sources/varia/misMesa.cli\n"
     ]
    }
   ],
   "source": [
    "from timelink.api.models import KleioImportedFile\n",
    "\n",
    "imports = db.get_imported_files()\n",
    "print(\"Number of imported files: \", len(imports))\n",
    "file: KleioImportedFile\n",
    "for file in sorted(imports, key=lambda f: f.path):\n",
    "    print(f\"{file.nerrors}:{file.nwarnings}:{file.path}\")\n",
    "    if file.nerrors > 0:\n",
    "        print(file.error_rpt)\n",
    "    if file.nwarnings > 0:\n",
    "        print(file.warning_rpt)"
   ]
  }
 ],
 "metadata": {
  "kernelspec": {
   "display_name": ".venv",
   "language": "python",
   "name": "python3"
  },
  "language_info": {
   "codemirror_mode": {
    "name": "ipython",
    "version": 3
   },
   "file_extension": ".py",
   "mimetype": "text/x-python",
   "name": "python",
   "nbconvert_exporter": "python",
   "pygments_lexer": "ipython3",
   "version": "3.10.10"
  },
  "orig_nbformat": 4
 },
 "nbformat": 4,
 "nbformat_minor": 2
}
