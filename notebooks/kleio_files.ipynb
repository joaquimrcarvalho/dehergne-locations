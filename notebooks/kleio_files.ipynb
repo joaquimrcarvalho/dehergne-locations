{
 "cells": [
  {
   "cell_type": "code",
   "execution_count": 1,
   "metadata": {},
   "outputs": [
    {
     "name": "stdout",
     "output_type": "stream",
     "text": [
      "Kleio Home Found: /Users/jrc/mhk-home/sources/dehergne-locations\n",
      "Token: bmwK\n",
      "URL: http://127.0.0.1:8088\n",
      "Kleio Home: /Users/jrc/mhk-home/sources/dehergne-locations\n"
     ]
    }
   ],
   "source": [
    "from timelink.kleio import KleioServer\n",
    "from timelink.kleio import KleioServer\n",
    "\n",
    "kleio_home_found = KleioServer.find_local_kleio_home()\n",
    "print(f\"Kleio Home Found: {kleio_home_found}\")\n",
    "\n",
    "kserver: KleioServer = KleioServer.start(kleio_home=kleio_home_found)\n",
    "#kserver: KleioServer = KleioServer.attach(kleio_home=kleio_home_found,token=\"mytoken\",url=\"http://localhost:4040\")\n",
    "token = kserver.get_token()\n",
    "url = kserver.get_url()\n",
    "khome = kserver.get_kleio_home()\n",
    "\n",
    "print(f\"Token: {token[:4]}\")\n",
    "print(f\"URL: {url}\")\n",
    "print(f\"Kleio Home: {khome}\")\n"
   ]
  },
  {
   "cell_type": "markdown",
   "metadata": {},
   "source": [
    "# get the list of files in the directory"
   ]
  },
  {
   "cell_type": "code",
   "execution_count": 2,
   "metadata": {},
   "outputs": [
    {
     "name": "stdout",
     "output_type": "stream",
     "text": [
      "T http://127.0.0.1:8088/rest/sources/sources/dehergne-locations-1644.cli?token=bmwKZDWc6RZ3xDB3LreESMxe4OagpK6t 2024-01-20 14:54:14 2023-11-02T02:19:00+00:00\n",
      "V http://127.0.0.1:8088/rest/sources/sources/dehergne-a.cli?token=bmwKZDWc6RZ3xDB3LreESMxe4OagpK6t 2023-11-01 13:37:59 2023-10-13T04:46:00+00:00\n",
      "V http://127.0.0.1:8088/rest/sources/sources/dehergne-b.cli?token=bmwKZDWc6RZ3xDB3LreESMxe4OagpK6t 2023-11-01 13:37:59 2023-10-13T04:47:00+00:00\n",
      "V http://127.0.0.1:8088/rest/sources/sources/dehergne-c.cli?token=bmwKZDWc6RZ3xDB3LreESMxe4OagpK6t 2023-11-01 13:37:59 2023-10-13T04:47:00+00:00\n",
      "V http://127.0.0.1:8088/rest/sources/sources/dehergne-d.cli?token=bmwKZDWc6RZ3xDB3LreESMxe4OagpK6t 2023-11-01 13:37:59 2023-10-13T04:47:00+00:00\n",
      "V http://127.0.0.1:8088/rest/sources/sources/dehergne-e.cli?token=bmwKZDWc6RZ3xDB3LreESMxe4OagpK6t 2023-11-01 13:37:59 2023-10-13T04:47:00+00:00\n",
      "V http://127.0.0.1:8088/rest/sources/sources/dehergne-f.cli?token=bmwKZDWc6RZ3xDB3LreESMxe4OagpK6t 2023-11-01 13:37:59 2023-10-13T04:47:00+00:00\n",
      "V http://127.0.0.1:8088/rest/sources/sources/dehergne-g.cli?token=bmwKZDWc6RZ3xDB3LreESMxe4OagpK6t 2023-11-01 13:37:59 2023-10-13T04:47:00+00:00\n",
      "V http://127.0.0.1:8088/rest/sources/sources/dehergne-h.cli?token=bmwKZDWc6RZ3xDB3LreESMxe4OagpK6t 2023-11-01 13:37:59 2023-10-13T04:47:00+00:00\n",
      "V http://127.0.0.1:8088/rest/sources/sources/dehergne-i.cli?token=bmwKZDWc6RZ3xDB3LreESMxe4OagpK6t 2023-11-01 13:37:59 2023-07-16T20:43:00+00:00\n",
      "V http://127.0.0.1:8088/rest/sources/sources/dehergne-j.cli?token=bmwKZDWc6RZ3xDB3LreESMxe4OagpK6t 2023-11-01 13:37:59 2023-07-16T20:43:00+00:00\n",
      "V http://127.0.0.1:8088/rest/sources/sources/dehergne-k.cli?token=bmwKZDWc6RZ3xDB3LreESMxe4OagpK6t 2023-11-01 13:37:59 2023-10-13T04:47:00+00:00\n",
      "V http://127.0.0.1:8088/rest/sources/sources/dehergne-l.cli?token=bmwKZDWc6RZ3xDB3LreESMxe4OagpK6t 2023-11-01 13:37:59 2023-10-13T04:46:00+00:00\n",
      "V http://127.0.0.1:8088/rest/sources/sources/dehergne-locations-1701.cli?token=bmwKZDWc6RZ3xDB3LreESMxe4OagpK6t 2023-11-01 13:37:59 2023-06-30T19:52:00+00:00\n",
      "V http://127.0.0.1:8088/rest/sources/sources/dehergne-m.cli?token=bmwKZDWc6RZ3xDB3LreESMxe4OagpK6t 2023-11-01 13:37:59 2023-10-13T04:46:00+00:00\n",
      "V http://127.0.0.1:8088/rest/sources/sources/dehergne-n.cli?token=bmwKZDWc6RZ3xDB3LreESMxe4OagpK6t 2023-11-01 13:37:59 2023-10-13T04:46:00+00:00\n",
      "V http://127.0.0.1:8088/rest/sources/sources/dehergne-o.cli?token=bmwKZDWc6RZ3xDB3LreESMxe4OagpK6t 2023-11-01 13:37:59 2023-10-13T04:46:00+00:00\n",
      "V http://127.0.0.1:8088/rest/sources/sources/dehergne-other.cli?token=bmwKZDWc6RZ3xDB3LreESMxe4OagpK6t 2023-11-01 13:37:59 2023-10-13T04:46:00+00:00\n",
      "V http://127.0.0.1:8088/rest/sources/sources/dehergne-p.cli?token=bmwKZDWc6RZ3xDB3LreESMxe4OagpK6t 2023-11-01 13:37:59 2023-10-13T04:46:00+00:00\n",
      "V http://127.0.0.1:8088/rest/sources/sources/dehergne-q.cli?token=bmwKZDWc6RZ3xDB3LreESMxe4OagpK6t 2023-11-01 13:37:59 2023-10-13T04:46:00+00:00\n",
      "V http://127.0.0.1:8088/rest/sources/sources/dehergne-r.cli?token=bmwKZDWc6RZ3xDB3LreESMxe4OagpK6t 2023-11-01 13:37:59 2023-10-13T04:46:00+00:00\n",
      "V http://127.0.0.1:8088/rest/sources/sources/dehergne-s.cli?token=bmwKZDWc6RZ3xDB3LreESMxe4OagpK6t 2023-11-01 13:37:59 2023-10-13T04:46:00+00:00\n",
      "V http://127.0.0.1:8088/rest/sources/sources/dehergne-t.cli?token=bmwKZDWc6RZ3xDB3LreESMxe4OagpK6t 2023-11-01 13:37:59 2023-10-13T04:47:00+00:00\n",
      "V http://127.0.0.1:8088/rest/sources/sources/dehergne-u.cli?token=bmwKZDWc6RZ3xDB3LreESMxe4OagpK6t 2023-11-01 13:37:59 2023-10-13T04:47:00+00:00\n",
      "V http://127.0.0.1:8088/rest/sources/sources/dehergne-v.cli?token=bmwKZDWc6RZ3xDB3LreESMxe4OagpK6t 2023-11-01 13:37:59 2023-10-13T04:47:00+00:00\n",
      "V http://127.0.0.1:8088/rest/sources/sources/dehergne-w.cli?token=bmwKZDWc6RZ3xDB3LreESMxe4OagpK6t 2023-11-01 13:37:59 2023-10-13T04:47:00+00:00\n",
      "V http://127.0.0.1:8088/rest/sources/sources/dehergne-x.cli?token=bmwKZDWc6RZ3xDB3LreESMxe4OagpK6t 2023-11-01 13:37:59 2023-10-13T04:47:00+00:00\n",
      "V http://127.0.0.1:8088/rest/sources/sources/dehergne-y.cli?token=bmwKZDWc6RZ3xDB3LreESMxe4OagpK6t 2023-11-01 13:38:00 2023-10-13T04:47:00+00:00\n",
      "V http://127.0.0.1:8088/rest/sources/sources/dehergne-z.cli?token=bmwKZDWc6RZ3xDB3LreESMxe4OagpK6t 2023-11-01 13:38:00 2023-10-13T04:47:00+00:00\n"
     ]
    }
   ],
   "source": [
    "from typing import List\n",
    "from timelink.kleio.schemas import KleioFile\n",
    "\n",
    "kfiles: List[KleioFile] = kserver.translation_status(path='sources',recurse='yes',status=None)\n",
    "\n",
    "for kfile in sorted(kfiles, key=lambda kfile: kfile.status.value+kfile.path):\n",
    "    print(kfile.status.value,url+kfile.source_url+f\"?token={token}\",kfile.modified_string, kfile.translated_string)"
   ]
  },
  {
   "cell_type": "markdown",
   "metadata": {},
   "source": [
    "### Translate new and updated files"
   ]
  },
  {
   "cell_type": "code",
   "execution_count": 3,
   "metadata": {},
   "outputs": [
    {
     "name": "stdout",
     "output_type": "stream",
     "text": [
      "T sources/dehergne-locations-1644.cli\n"
     ]
    }
   ],
   "source": [
    "for kfile in kserver.translation_status(path='sources',recurse='yes',status='T'):\n",
    "    print(kfile.status.value, kfile.path)\n",
    "    kserver.translate(kfile.path, recurse='no', spawn='no')"
   ]
  },
  {
   "cell_type": "markdown",
   "metadata": {},
   "source": [
    "### List files translated sucessfully. Status=\"V\""
   ]
  },
  {
   "cell_type": "code",
   "execution_count": 4,
   "metadata": {},
   "outputs": [],
   "source": [
    "for kfile in kserver.translation_status(path='sources',recurse='yes',status='V'):\n",
    "    print(\"Import\",kfile.status.value, kfile.xml_url)\n"
   ]
  },
  {
   "cell_type": "markdown",
   "metadata": {},
   "source": [
    "### List files with errors"
   ]
  },
  {
   "cell_type": "code",
   "execution_count": 5,
   "metadata": {},
   "outputs": [],
   "source": [
    "for kfile in kserver.translation_status(path='sources/api',recurse='yes',status='E'):\n",
    "    print(\"ERROR\",kfile.status.value, kfile.path)"
   ]
  },
  {
   "cell_type": "markdown",
   "metadata": {},
   "source": [
    "### List files with warnings"
   ]
  },
  {
   "cell_type": "code",
   "execution_count": 28,
   "metadata": {},
   "outputs": [
    {
     "name": "stdout",
     "output_type": "stream",
     "text": [
      "Import W sources/api/varia/EmpFAfonso.cli\n",
      "Import W sources/reference_translations/varia/EmpFAfonso.cli\n",
      "Import W sources/test_translations/varia/EmpFAfonso.cli\n",
      "Import W sources/api/varia/cartas.cli\n",
      "Import W sources/reference_translations/varia/cartas.cli\n",
      "Import W sources/test_translations/varia/cartas.cli\n",
      "Import W sources/api/varia/glopes-lap1561.cli\n",
      "Import W sources/reference_translations/varia/glopes-lap1561.cli\n",
      "Import W sources/test_translations/varia/glopes-lap1561.cli\n"
     ]
    }
   ],
   "source": [
    "for kfile in kserver.translation_status(path='',recurse='yes',status='W'):\n",
    "    print(\"Import\",kfile.status.value, kfile.path)"
   ]
  },
  {
   "cell_type": "code",
   "execution_count": 14,
   "metadata": {},
   "outputs": [],
   "source": [
    "for kfile in kserver.translation_status(path='',recurse='yes',status='P'):\n",
    "    print(\"Processing\",kfile.status.value, kfile.path)"
   ]
  },
  {
   "cell_type": "code",
   "execution_count": 15,
   "metadata": {},
   "outputs": [],
   "source": [
    "for kfile in kserver.translation_status(path='',recurse='yes',status='Q'):\n",
    "    print(\"Queued\",kfile.status.value, kfile.path)"
   ]
  }
 ],
 "metadata": {
  "kernelspec": {
   "display_name": ".venv",
   "language": "python",
   "name": "python3"
  },
  "language_info": {
   "codemirror_mode": {
    "name": "ipython",
    "version": 3
   },
   "file_extension": ".py",
   "mimetype": "text/x-python",
   "name": "python",
   "nbconvert_exporter": "python",
   "pygments_lexer": "ipython3",
   "version": "3.10.9"
  },
  "orig_nbformat": 4
 },
 "nbformat": 4,
 "nbformat_minor": 2
}
