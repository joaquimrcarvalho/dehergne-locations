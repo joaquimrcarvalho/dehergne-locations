{
 "cells": [
  {
   "cell_type": "markdown",
   "id": "fed3983b",
   "metadata": {},
   "source": [
    "# Index of Notebooks\n",
    "\n",
    "This notebook serves as an index for all the other notebooks in this project. Click on the links below to navigate to the respective notebooks."
   ]
  },
  {
   "cell_type": "markdown",
   "id": "c7b9be54",
   "metadata": {},
   "source": [
    "## List of Notebooks\n",
    "\n",
    "- [0-kleio-files](./0-kleio-files.ipynb): Manage Kleio files.\n",
    "- [dehergne_analysis](./dehergne_analysis.ipynb): Analyze the Dehergne repertoire.\n",
    "- [nationality](./nationality.ipynb): Analyze nationalities.\n",
    "- [dehergne-locations](./dehergne-locations.ipynb): Analysis of geographical information.\n",
    "- [dehergne-locations-nodate](./dehergne-locations-nodate.ipynb): Locations without dates.\n",
    "- [dehergne-residences](./dehergne-residences.ipynb): Analyze Jesuit residences.\n",
    "- [wicki-viagens](./wicki-viagens.ipynb): Voyages from Portugal to India.\n",
    "- [kleio-to-doc](./kleio-to-doc.ipynb): Convert Kleio files to Word documents.\n",
    "- [who-was-where](./who-was-where.ipynb): Analyze who was where.\n",
    "\n",
    "### Deprecated under development\n",
    "\n",
    "- [database-overview](./database-overview.ipynb): Overview of the database.\n",
    "- [jesuit-networks](./jesuit-networks.ipynb): Explore Jesuit networks.\n",
    "- [sandbox](./sandbox.ipynb): Sandbox for testing.\n",
    "  \n",
    "### Tutorials and Examples\n",
    "\n",
    "- [9-tutorial](./9-tutorial.ipynb): Tutorial for using Timelink.\n",
    "- [1-receipts](./1-receipts.ipynb): Analyze receipts.\n",
    "\n",
    "### Setup \n",
    "\n",
    "- [0-vscode_setup](./0-vscode_setup.ipynb): Setup VSCode for this project.\n",
    "- [check_version_of_timelink.ipynb](./check_version_of_timelink.ipynb): Check the version of Timelink.\n",
    "- [extensions_for_this_notebook](./extensions_for_this_notebook.ipynb): Extensions for this notebook.\n",
    "\n"
   ]
  },
  {
   "cell_type": "markdown",
   "id": "23ceb8a4",
   "metadata": {},
   "source": []
  }
 ],
 "metadata": {
  "kernelspec": {
   "display_name": ".venv",
   "language": "python",
   "name": "python3"
  },
  "language_info": {
   "name": "python",
   "version": "3.13.2"
  }
 },
 "nbformat": 4,
 "nbformat_minor": 5
}
