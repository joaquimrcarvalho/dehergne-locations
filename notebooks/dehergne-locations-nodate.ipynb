{
 "cells": [
  {
   "cell_type": "markdown",
   "id": "b3fa5f95",
   "metadata": {},
   "source": [
    "# List attributes and relations with no date"
   ]
  },
  {
   "cell_type": "code",
   "execution_count": 2,
   "id": "5ff59e6f",
   "metadata": {},
   "outputs": [
    {
     "name": "stderr",
     "output_type": "stream",
     "text": [
      "WARNING:root:Reusing existing container stoic_joliot\n"
     ]
    },
    {
     "name": "stdout",
     "output_type": "stream",
     "text": [
      "Timelink version: 1.1.25\n",
      "Project name: dehergne-repertoire\n",
      "Project home: /Users/jrc/develop/dehergne-repertoire\n",
      "Database type: sqlite\n",
      "Database name: dehergne_repertoire\n",
      "Kleio image: timelinkserver/kleio-server\n",
      "Kleio server token: CH4xG...\n",
      "Kleio server URL: http://127.0.0.1:8088\n",
      "Kleio server home: /Users/jrc/develop/dehergne-repertoire\n",
      "Kleio server container: stoic_joliot\n",
      "Kleio version requested: latest\n",
      "Kleio server version: 12.7.579 (2025-01-29 17:45:15)\n",
      "SQLite directory: /Users/jrc/develop/dehergne-repertoire/database/sqlite\n",
      "Database version: 6ccf1ef385a6\n",
      "Call print_info(show_token=True) to show the Kleio Server token\n",
      "Call print_info(show_password=True) to show the Postgres password\n",
      "TimelinkNotebook(project_name=dehergne-repertoire, project_home=/Users/jrc/develop/dehergne-repertoire, db_type=sqlite, db_name=dehergne_repertoire, kleio_image=timelinkserver/kleio-server, kleio_version=latest, postgres_image=postgres, postgres_version=latest)\n"
     ]
    }
   ],
   "source": [
    "\n",
    "from timelink.notebooks import TimelinkNotebook\n",
    "\n",
    "tlnb = TimelinkNotebook()\n",
    "tlnb.print_info()"
   ]
  },
  {
   "cell_type": "markdown",
   "id": "721ebb3e",
   "metadata": {},
   "source": [
    "## Attributes of interest"
   ]
  },
  {
   "cell_type": "code",
   "execution_count": null,
   "id": "06641035",
   "metadata": {},
   "outputs": [],
   "source": [
    "attributes = [\n",
    "    \"estadia\",\n",
    "    \"estadia-x\",\n",
    "    \"partida\",\n",
    "    \"jesuita-votos-local\"\n",
    "    \"chegada\",\n",
    "    \"morte\",\n",
    "]\n"
   ]
  },
  {
   "cell_type": "code",
   "execution_count": 9,
   "id": "f38744ab",
   "metadata": {},
   "outputs": [
    {
     "data": {
      "text/plain": [
       "[Column('id', String(), table=<nattributes>, primary_key=True, nullable=False),\n",
       " Column('name', String(), table=<nattributes>),\n",
       " Column('sex', String(length=1), table=<nattributes>),\n",
       " Column('attr_id', String(), table=<nattributes>, primary_key=True, nullable=False),\n",
       " Column('the_type', String(), table=<nattributes>),\n",
       " Column('the_value', String(), table=<nattributes>),\n",
       " Column('the_date', String(), table=<nattributes>),\n",
       " Column('pobs', String(), table=<nattributes>),\n",
       " Column('aobs', String(), table=<nattributes>)]"
      ]
     },
     "execution_count": 9,
     "metadata": {},
     "output_type": "execute_result"
    }
   ],
   "source": [
    "from sqlalchemy import select\n",
    "\n",
    "attr = tlnb.db.get_view(\"nattributes\")\n",
    "tlnb.db.describe(attr)"
   ]
  },
  {
   "cell_type": "code",
   "execution_count": 13,
   "id": "82d398da",
   "metadata": {},
   "outputs": [
    {
     "name": "stdout",
     "output_type": "stream",
     "text": [
      "Number of rows: 640\n",
      "deh-adam-algenler Adam Algenler estadia Brasil\n",
      "deh-andre-pereira André Pereira estadia Macau\n",
      "deh-antoine-chomel-ref2 Antoine Chomel estadia China\n",
      "deh-antoine-chomel-ref3 André Chomel estadia Toulouse\n",
      "deh-antonio-de-almeida António de Almeida estadia Macau\n",
      "deh-antonio-de-andrade António de Andrade estadia Himalaias\n",
      "deh-antonio-de-andrade António de Andrade estadia Tsaparang, Tibete\n",
      "deh-antonio-de-melo António de Melo estadia Sião\n",
      "deh-antonio-de-melo António de Melo estadia Tonquim\n",
      "deh-antonio-de-torres António de Torres estadia Tchampa\n",
      "deh-antonio-de-torres António de Torres estadia Macau\n",
      "deh-antonio-diaz Antonio Díaz estadia Índia\n",
      "deh-antonio-ferreira António Ferreira estadia Macau\n",
      "deh-antonio-francisco-cardim António Francisco Cardim estadia Goa\n",
      "deh-antonio-francisco-cardim António Francisco Cardim estadia Moçambique\n"
     ]
    }
   ],
   "source": [
    "\n",
    "# get attributes the the_date == 0\n",
    "#  and the_type in attributes\n",
    "stmt = select(attr.c.id,\n",
    "              attr.c.name,\n",
    "              attr.c.the_type,\n",
    "              attr.c.the_value).where(\n",
    "    attr.c.the_date == 0,\n",
    "    attr.c.the_type.in_(attributes),\n",
    ").order_by(attr.c.id)\n",
    "\n",
    "with tlnb.db.session() as session:\n",
    "    # Execute the statement\n",
    "    result = session.execute(stmt).all()\n",
    "    # Print the result\n",
    "    # Print number os rows in result\n",
    "    print(f\"Number of rows: {len(result)}\")\n",
    "    for r in result[0:15]:\n",
    "        print(r.id,\n",
    "              r.name,\n",
    "              r.the_type,\n",
    "              r.the_value)\n"
   ]
  }
 ],
 "metadata": {
  "kernelspec": {
   "display_name": ".venv",
   "language": "python",
   "name": "python3"
  },
  "language_info": {
   "codemirror_mode": {
    "name": "ipython",
    "version": 3
   },
   "file_extension": ".py",
   "mimetype": "text/x-python",
   "name": "python",
   "nbconvert_exporter": "python",
   "pygments_lexer": "ipython3",
   "version": "3.10.16"
  }
 },
 "nbformat": 4,
 "nbformat_minor": 5
}
