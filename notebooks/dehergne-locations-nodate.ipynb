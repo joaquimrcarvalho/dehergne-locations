{
 "cells": [
  {
   "cell_type": "markdown",
   "id": "b3fa5f95",
   "metadata": {},
   "source": [
    "# List attributes and relations with no date"
   ]
  },
  {
   "cell_type": "code",
   "execution_count": 1,
   "id": "5ff59e6f",
   "metadata": {},
   "outputs": [
    {
     "name": "stderr",
     "output_type": "stream",
     "text": [
      "WARNING:root:Reusing existing container interesting_proskuriakova\n"
     ]
    },
    {
     "name": "stdout",
     "output_type": "stream",
     "text": [
      "Timelink version: 1.1.25\n",
      "Project name: dehergne\n",
      "Project home: /Users/jrc/mhk-home/sources/dehergne\n",
      "Database type: sqlite\n",
      "Database name: dehergne\n",
      "Kleio image: timelinkserver/kleio-server\n",
      "Kleio server token: fyKCz...\n",
      "Kleio server URL: http://127.0.0.1:8094\n",
      "Kleio server home: /Users/jrc/mhk-home/sources/dehergne\n",
      "Kleio server container: interesting_proskuriakova\n",
      "Kleio version requested: latest\n",
      "Kleio server version: 12.8.593 (2025-03-16 21:55:53)\n",
      "SQLite directory: /Users/jrc/mhk-home/sources/dehergne/database/sqlite\n",
      "Database version: 6ccf1ef385a6\n",
      "Call print_info(show_token=True) to show the Kleio Server token\n",
      "Call print_info(show_password=True) to show the Postgres password\n",
      "TimelinkNotebook(project_name=dehergne, project_home=/Users/jrc/mhk-home/sources/dehergne, db_type=sqlite, db_name=dehergne, kleio_image=timelinkserver/kleio-server, kleio_version=latest, postgres_image=postgres, postgres_version=latest)\n"
     ]
    }
   ],
   "source": [
    "\n",
    "from timelink.notebooks import TimelinkNotebook\n",
    "\n",
    "tlnb = TimelinkNotebook()\n",
    "tlnb.print_info()"
   ]
  },
  {
   "cell_type": "markdown",
   "id": "721ebb3e",
   "metadata": {},
   "source": [
    "## Attributes of interest"
   ]
  },
  {
   "cell_type": "code",
   "execution_count": 2,
   "id": "06641035",
   "metadata": {},
   "outputs": [],
   "source": [
    "attributes = [\n",
    "    \"estadia\",\n",
    "    \"partida\",\n",
    "    \"chegada\",\n",
    "    \"morte\",\n",
    "]\n"
   ]
  },
  {
   "cell_type": "code",
   "execution_count": 3,
   "id": "f38744ab",
   "metadata": {},
   "outputs": [
    {
     "data": {
      "text/plain": [
       "[Column('id', String(), table=<nattributes>, primary_key=True, nullable=False),\n",
       " Column('name', String(), table=<nattributes>),\n",
       " Column('sex', String(length=1), table=<nattributes>),\n",
       " Column('attr_id', String(), table=<nattributes>, primary_key=True, nullable=False),\n",
       " Column('the_type', String(), table=<nattributes>),\n",
       " Column('the_value', String(), table=<nattributes>),\n",
       " Column('the_date', String(), table=<nattributes>),\n",
       " Column('pobs', String(), table=<nattributes>),\n",
       " Column('aobs', String(), table=<nattributes>)]"
      ]
     },
     "execution_count": 3,
     "metadata": {},
     "output_type": "execute_result"
    }
   ],
   "source": [
    "from sqlalchemy import select\n",
    "\n",
    "attr = tlnb.db.get_view(\"nattributes\")\n",
    "tlnb.db.describe(attr)"
   ]
  },
  {
   "cell_type": "code",
   "execution_count": 13,
   "id": "82d398da",
   "metadata": {},
   "outputs": [
    {
     "name": "stdout",
     "output_type": "stream",
     "text": [
      "deh-adam-algenler Adam Algenler estadia Brasil\n",
      "deh-andre-nicolas-forgeot André-Nicolas Forgeot estadia Macau\n",
      "deh-andre-pereira André Pereira estadia Évora (Universidade)\n",
      "deh-andre-pereira André Pereira estadia Macau\n",
      "deh-andrea-giovanni-lubelli Andrea-Giovanni Lubelli estadia Salcete, Índia\n",
      "deh-andrea-giovanni-lubelli Andrea-Giovanni Lubelli estadia Macau\n",
      "deh-andrea-giovanni-lubelli Andrea-Giovanni Lubelli estadia Macau\n",
      "deh-andrea-giovanni-lubelli Andrea-Giovanni Lubelli estadia Tonquim\n",
      "deh-andrea-giovanni-lubelli Andrea-Giovanni Lubelli estadia Shansi-Shensi\n",
      "deh-andrea-giovanni-lubelli Andrea-Giovanni Lubelli estadia Hukwang\n",
      "deh-andreas-manker Andreas Manker estadia Cádiz\n",
      "deh-andreas-manker Andreas Manker estadia Filipinas\n",
      "deh-andrius-rudamina Andrius Rudamina estadia Foochow, Fukien\n",
      "deh-antoine-chomel Antoine Chomel estadia Turquia\n",
      "deh-antoine-chomel Antoine Chomel estadia Pérsia\n"
     ]
    }
   ],
   "source": [
    "\n",
    "# get attributes the the_date == 0\n",
    "#  and the_type in attributes\n",
    "stmt = select(attr.c.id,\n",
    "              attr.c.name,\n",
    "              attr.c.the_type,\n",
    "              attr.c.the_value).where(\n",
    "    attr.c.the_date == 0,\n",
    "    attr.c.the_type.in_(attributes),\n",
    ").order_by(attr.c.id)\n",
    "\n",
    "with tlnb.db.session() as session:\n",
    "    # Execute the statement\n",
    "    result = session.execute(stmt).all()\n",
    "    # Print the result\n",
    "    for r in result[0:15]:\n",
    "        print(r.id,\n",
    "              r.name,\n",
    "              r.the_type,\n",
    "              r.the_value)\n"
   ]
  }
 ],
 "metadata": {
  "kernelspec": {
   "display_name": ".venv",
   "language": "python",
   "name": "python3"
  },
  "language_info": {
   "codemirror_mode": {
    "name": "ipython",
    "version": 3
   },
   "file_extension": ".py",
   "mimetype": "text/x-python",
   "name": "python",
   "nbconvert_exporter": "python",
   "pygments_lexer": "ipython3",
   "version": "3.10.16"
  }
 },
 "nbformat": 4,
 "nbformat_minor": 5
}
