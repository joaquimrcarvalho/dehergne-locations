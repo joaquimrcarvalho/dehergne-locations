{
 "cells": [
  {
   "attachments": {},
   "cell_type": "markdown",
   "metadata": {},
   "source": [
    "# Managing Kleio files"
   ]
  },
  {
   "cell_type": "markdown",
   "metadata": {},
   "source": [
    "> First time use: follow instructions in the [README.md](README.md) file in this directory."
   ]
  },
  {
   "cell_type": "markdown",
   "metadata": {},
   "source": [
    "## Initial setup\n",
    "\n",
    "Create a TimelinkNotebook object. This will be the interface for most of your interactions with Timelink.\n",
    "\n",
    "The first time you run this notebook, you will be prompted to install ìpykernel. This is required to run Timelink in a notebook.\n",
    "\n",
    "Note:\n",
    "* First time run takes a little time as the required Docker images are downloaded.\n",
    "* Timelink will default to using sqlite as the database, see [Receipts notebook for more control](1-receipts.ipynb)\n"
   ]
  },
  {
   "cell_type": "code",
   "execution_count": 1,
   "metadata": {
    "ExecuteTime": {
     "end_time": "2024-01-28T11:49:18.183923Z",
     "start_time": "2024-01-28T11:49:17.066125Z"
    }
   },
   "outputs": [
    {
     "name": "stderr",
     "output_type": "stream",
     "text": [
      "WARNING:root:Kleio server not ready, retrying in 1 seconds: [Errno 54] Connection reset by peer\n"
     ]
    },
    {
     "name": "stdout",
     "output_type": "stream",
     "text": [
      "Timelink version: 1.1.25\n",
      "Project name: dehergne-repertoire\n",
      "Project home: /Users/jrc/develop/dehergne-repertoire\n",
      "Database type: sqlite\n",
      "Database name: dehergne_repertoire\n",
      "Kleio image: timelinkserver/kleio-server\n",
      "Kleio server token: CH4xG...\n",
      "Kleio server URL: http://127.0.0.1:8088\n",
      "Kleio server home: /Users/jrc/develop/dehergne-repertoire\n",
      "Kleio server container: stoic_joliot\n",
      "Kleio version requested: latest\n",
      "Kleio server version: 12.7.579 (2025-01-29 17:45:15)\n",
      "SQLite directory: /Users/jrc/develop/dehergne-repertoire/database/sqlite\n",
      "Database version: 6ccf1ef385a6\n",
      "Call print_info(show_token=True) to show the Kleio Server token\n",
      "Call print_info(show_password=True) to show the Postgres password\n",
      "TimelinkNotebook(project_name=dehergne-repertoire, project_home=/Users/jrc/develop/dehergne-repertoire, db_type=sqlite, db_name=dehergne_repertoire, kleio_image=timelinkserver/kleio-server, kleio_version=latest, postgres_image=postgres, postgres_version=latest)\n"
     ]
    }
   ],
   "source": [
    "from timelink.notebooks import TimelinkNotebook\n",
    "\n",
    "tlnb = TimelinkNotebook()\n",
    "tlnb.print_info()\n"
   ]
  },
  {
   "cell_type": "markdown",
   "metadata": {},
   "source": [
    "TimelinkNotebook created a database to store data and a Kleio server to \n",
    "translate transcriptions in Kleio notation into data that can be imported\n",
    "into a database.\n",
    "\n",
    "To get information about the database and the Kleio server do ```tnlb.print_info()```"
   ]
  },
  {
   "cell_type": "markdown",
   "metadata": {},
   "source": [
    "### Database status\n",
    "\n",
    "Count the number of rows in each table in the database.\n"
   ]
  },
  {
   "cell_type": "code",
   "execution_count": 2,
   "metadata": {},
   "outputs": [
    {
     "data": {
      "text/html": [
       "<div>\n",
       "<style scoped>\n",
       "    .dataframe tbody tr th:only-of-type {\n",
       "        vertical-align: middle;\n",
       "    }\n",
       "\n",
       "    .dataframe tbody tr th {\n",
       "        vertical-align: top;\n",
       "    }\n",
       "\n",
       "    .dataframe thead th {\n",
       "        text-align: right;\n",
       "    }\n",
       "</style>\n",
       "<table border=\"1\" class=\"dataframe\">\n",
       "  <thead>\n",
       "    <tr style=\"text-align: right;\">\n",
       "      <th></th>\n",
       "      <th>table</th>\n",
       "      <th>count</th>\n",
       "    </tr>\n",
       "  </thead>\n",
       "  <tbody>\n",
       "    <tr>\n",
       "      <th>0</th>\n",
       "      <td>acts</td>\n",
       "      <td>28</td>\n",
       "    </tr>\n",
       "    <tr>\n",
       "      <th>1</th>\n",
       "      <td>alembic_version</td>\n",
       "      <td>1</td>\n",
       "    </tr>\n",
       "    <tr>\n",
       "      <th>2</th>\n",
       "      <td>aregisters</td>\n",
       "      <td>0</td>\n",
       "    </tr>\n",
       "    <tr>\n",
       "      <th>3</th>\n",
       "      <td>attributes</td>\n",
       "      <td>26741</td>\n",
       "    </tr>\n",
       "    <tr>\n",
       "      <th>4</th>\n",
       "      <td>blinks</td>\n",
       "      <td>48</td>\n",
       "    </tr>\n",
       "    <tr>\n",
       "      <th>5</th>\n",
       "      <td>class_attributes</td>\n",
       "      <td>58</td>\n",
       "    </tr>\n",
       "    <tr>\n",
       "      <th>6</th>\n",
       "      <td>classes</td>\n",
       "      <td>10</td>\n",
       "    </tr>\n",
       "    <tr>\n",
       "      <th>7</th>\n",
       "      <td>entities</td>\n",
       "      <td>32877</td>\n",
       "    </tr>\n",
       "    <tr>\n",
       "      <th>8</th>\n",
       "      <td>geoentities</td>\n",
       "      <td>359</td>\n",
       "    </tr>\n",
       "    <tr>\n",
       "      <th>9</th>\n",
       "      <td>kleiofiles</td>\n",
       "      <td>29</td>\n",
       "    </tr>\n",
       "    <tr>\n",
       "      <th>10</th>\n",
       "      <td>links</td>\n",
       "      <td>99</td>\n",
       "    </tr>\n",
       "    <tr>\n",
       "      <th>11</th>\n",
       "      <td>objects</td>\n",
       "      <td>0</td>\n",
       "    </tr>\n",
       "    <tr>\n",
       "      <th>12</th>\n",
       "      <td>persons</td>\n",
       "      <td>2132</td>\n",
       "    </tr>\n",
       "    <tr>\n",
       "      <th>13</th>\n",
       "      <td>relations</td>\n",
       "      <td>3532</td>\n",
       "    </tr>\n",
       "    <tr>\n",
       "      <th>14</th>\n",
       "      <td>rentities</td>\n",
       "      <td>46</td>\n",
       "    </tr>\n",
       "    <tr>\n",
       "      <th>15</th>\n",
       "      <td>sources</td>\n",
       "      <td>29</td>\n",
       "    </tr>\n",
       "    <tr>\n",
       "      <th>16</th>\n",
       "      <td>syslog</td>\n",
       "      <td>0</td>\n",
       "    </tr>\n",
       "    <tr>\n",
       "      <th>17</th>\n",
       "      <td>syspar</td>\n",
       "      <td>0</td>\n",
       "    </tr>\n",
       "  </tbody>\n",
       "</table>\n",
       "</div>"
      ],
      "text/plain": [
       "               table  count\n",
       "0               acts     28\n",
       "1    alembic_version      1\n",
       "2         aregisters      0\n",
       "3         attributes  26741\n",
       "4             blinks     48\n",
       "5   class_attributes     58\n",
       "6            classes     10\n",
       "7           entities  32877\n",
       "8        geoentities    359\n",
       "9         kleiofiles     29\n",
       "10             links     99\n",
       "11           objects      0\n",
       "12           persons   2132\n",
       "13         relations   3532\n",
       "14         rentities     46\n",
       "15           sources     29\n",
       "16            syslog      0\n",
       "17            syspar      0"
      ]
     },
     "execution_count": 2,
     "metadata": {},
     "output_type": "execute_result"
    }
   ],
   "source": [
    "tlnb.table_row_count_df()"
   ]
  },
  {
   "cell_type": "markdown",
   "metadata": {},
   "source": [
    "### Show the kleio files available "
   ]
  },
  {
   "cell_type": "code",
   "execution_count": 3,
   "metadata": {},
   "outputs": [
    {
     "data": {
      "text/html": [
       "<div>\n",
       "<style scoped>\n",
       "    .dataframe tbody tr th:only-of-type {\n",
       "        vertical-align: middle;\n",
       "    }\n",
       "\n",
       "    .dataframe tbody tr th {\n",
       "        vertical-align: top;\n",
       "    }\n",
       "\n",
       "    .dataframe thead th {\n",
       "        text-align: right;\n",
       "    }\n",
       "</style>\n",
       "<table border=\"1\" class=\"dataframe\">\n",
       "  <thead>\n",
       "    <tr style=\"text-align: right;\">\n",
       "      <th></th>\n",
       "      <th>name</th>\n",
       "      <th>status</th>\n",
       "      <th>errors</th>\n",
       "      <th>warnings</th>\n",
       "    </tr>\n",
       "  </thead>\n",
       "  <tbody>\n",
       "    <tr>\n",
       "      <th>0</th>\n",
       "      <td>dehergne-0-abrev.cli</td>\n",
       "      <td>V</td>\n",
       "      <td>0</td>\n",
       "      <td>0</td>\n",
       "    </tr>\n",
       "    <tr>\n",
       "      <th>1</th>\n",
       "      <td>dehergne-a.cli</td>\n",
       "      <td>V</td>\n",
       "      <td>0</td>\n",
       "      <td>0</td>\n",
       "    </tr>\n",
       "    <tr>\n",
       "      <th>2</th>\n",
       "      <td>dehergne-b.cli</td>\n",
       "      <td>V</td>\n",
       "      <td>0</td>\n",
       "      <td>0</td>\n",
       "    </tr>\n",
       "    <tr>\n",
       "      <th>3</th>\n",
       "      <td>dehergne-c.cli</td>\n",
       "      <td>V</td>\n",
       "      <td>0</td>\n",
       "      <td>0</td>\n",
       "    </tr>\n",
       "    <tr>\n",
       "      <th>4</th>\n",
       "      <td>dehergne-d.cli</td>\n",
       "      <td>V</td>\n",
       "      <td>0</td>\n",
       "      <td>0</td>\n",
       "    </tr>\n",
       "    <tr>\n",
       "      <th>5</th>\n",
       "      <td>dehergne-e.cli</td>\n",
       "      <td>V</td>\n",
       "      <td>0</td>\n",
       "      <td>0</td>\n",
       "    </tr>\n",
       "    <tr>\n",
       "      <th>6</th>\n",
       "      <td>dehergne-f.cli</td>\n",
       "      <td>V</td>\n",
       "      <td>0</td>\n",
       "      <td>0</td>\n",
       "    </tr>\n",
       "    <tr>\n",
       "      <th>7</th>\n",
       "      <td>dehergne-g.cli</td>\n",
       "      <td>V</td>\n",
       "      <td>0</td>\n",
       "      <td>0</td>\n",
       "    </tr>\n",
       "    <tr>\n",
       "      <th>8</th>\n",
       "      <td>dehergne-h.cli</td>\n",
       "      <td>V</td>\n",
       "      <td>0</td>\n",
       "      <td>0</td>\n",
       "    </tr>\n",
       "    <tr>\n",
       "      <th>9</th>\n",
       "      <td>dehergne-i.cli</td>\n",
       "      <td>V</td>\n",
       "      <td>0</td>\n",
       "      <td>0</td>\n",
       "    </tr>\n",
       "    <tr>\n",
       "      <th>10</th>\n",
       "      <td>dehergne-j.cli</td>\n",
       "      <td>V</td>\n",
       "      <td>0</td>\n",
       "      <td>0</td>\n",
       "    </tr>\n",
       "    <tr>\n",
       "      <th>11</th>\n",
       "      <td>dehergne-k.cli</td>\n",
       "      <td>V</td>\n",
       "      <td>0</td>\n",
       "      <td>0</td>\n",
       "    </tr>\n",
       "    <tr>\n",
       "      <th>12</th>\n",
       "      <td>dehergne-l.cli</td>\n",
       "      <td>V</td>\n",
       "      <td>0</td>\n",
       "      <td>0</td>\n",
       "    </tr>\n",
       "    <tr>\n",
       "      <th>13</th>\n",
       "      <td>dehergne-locations-1644.cli</td>\n",
       "      <td>V</td>\n",
       "      <td>0</td>\n",
       "      <td>0</td>\n",
       "    </tr>\n",
       "    <tr>\n",
       "      <th>14</th>\n",
       "      <td>dehergne-locations-1701.cli</td>\n",
       "      <td>V</td>\n",
       "      <td>0</td>\n",
       "      <td>0</td>\n",
       "    </tr>\n",
       "    <tr>\n",
       "      <th>15</th>\n",
       "      <td>dehergne-m.cli</td>\n",
       "      <td>V</td>\n",
       "      <td>0</td>\n",
       "      <td>0</td>\n",
       "    </tr>\n",
       "    <tr>\n",
       "      <th>16</th>\n",
       "      <td>dehergne-n.cli</td>\n",
       "      <td>V</td>\n",
       "      <td>0</td>\n",
       "      <td>0</td>\n",
       "    </tr>\n",
       "    <tr>\n",
       "      <th>17</th>\n",
       "      <td>dehergne-o.cli</td>\n",
       "      <td>V</td>\n",
       "      <td>0</td>\n",
       "      <td>0</td>\n",
       "    </tr>\n",
       "    <tr>\n",
       "      <th>18</th>\n",
       "      <td>dehergne-p.cli</td>\n",
       "      <td>T</td>\n",
       "      <td>0</td>\n",
       "      <td>0</td>\n",
       "    </tr>\n",
       "    <tr>\n",
       "      <th>19</th>\n",
       "      <td>dehergne-q.cli</td>\n",
       "      <td>V</td>\n",
       "      <td>0</td>\n",
       "      <td>0</td>\n",
       "    </tr>\n",
       "    <tr>\n",
       "      <th>20</th>\n",
       "      <td>dehergne-r.cli</td>\n",
       "      <td>V</td>\n",
       "      <td>0</td>\n",
       "      <td>0</td>\n",
       "    </tr>\n",
       "    <tr>\n",
       "      <th>21</th>\n",
       "      <td>dehergne-s.cli</td>\n",
       "      <td>V</td>\n",
       "      <td>0</td>\n",
       "      <td>0</td>\n",
       "    </tr>\n",
       "    <tr>\n",
       "      <th>22</th>\n",
       "      <td>dehergne-t.cli</td>\n",
       "      <td>V</td>\n",
       "      <td>0</td>\n",
       "      <td>0</td>\n",
       "    </tr>\n",
       "    <tr>\n",
       "      <th>23</th>\n",
       "      <td>dehergne-u.cli</td>\n",
       "      <td>V</td>\n",
       "      <td>0</td>\n",
       "      <td>0</td>\n",
       "    </tr>\n",
       "    <tr>\n",
       "      <th>24</th>\n",
       "      <td>dehergne-v.cli</td>\n",
       "      <td>V</td>\n",
       "      <td>0</td>\n",
       "      <td>0</td>\n",
       "    </tr>\n",
       "    <tr>\n",
       "      <th>25</th>\n",
       "      <td>dehergne-w.cli</td>\n",
       "      <td>V</td>\n",
       "      <td>0</td>\n",
       "      <td>0</td>\n",
       "    </tr>\n",
       "    <tr>\n",
       "      <th>26</th>\n",
       "      <td>dehergne-x.cli</td>\n",
       "      <td>V</td>\n",
       "      <td>0</td>\n",
       "      <td>0</td>\n",
       "    </tr>\n",
       "    <tr>\n",
       "      <th>27</th>\n",
       "      <td>dehergne-y.cli</td>\n",
       "      <td>V</td>\n",
       "      <td>0</td>\n",
       "      <td>0</td>\n",
       "    </tr>\n",
       "    <tr>\n",
       "      <th>28</th>\n",
       "      <td>dehergne-z.cli</td>\n",
       "      <td>V</td>\n",
       "      <td>0</td>\n",
       "      <td>0</td>\n",
       "    </tr>\n",
       "  </tbody>\n",
       "</table>\n",
       "</div>"
      ],
      "text/plain": [
       "                           name status  errors  warnings\n",
       "0          dehergne-0-abrev.cli      V       0         0\n",
       "1                dehergne-a.cli      V       0         0\n",
       "2                dehergne-b.cli      V       0         0\n",
       "3                dehergne-c.cli      V       0         0\n",
       "4                dehergne-d.cli      V       0         0\n",
       "5                dehergne-e.cli      V       0         0\n",
       "6                dehergne-f.cli      V       0         0\n",
       "7                dehergne-g.cli      V       0         0\n",
       "8                dehergne-h.cli      V       0         0\n",
       "9                dehergne-i.cli      V       0         0\n",
       "10               dehergne-j.cli      V       0         0\n",
       "11               dehergne-k.cli      V       0         0\n",
       "12               dehergne-l.cli      V       0         0\n",
       "13  dehergne-locations-1644.cli      V       0         0\n",
       "14  dehergne-locations-1701.cli      V       0         0\n",
       "15               dehergne-m.cli      V       0         0\n",
       "16               dehergne-n.cli      V       0         0\n",
       "17               dehergne-o.cli      V       0         0\n",
       "18               dehergne-p.cli      T       0         0\n",
       "19               dehergne-q.cli      V       0         0\n",
       "20               dehergne-r.cli      V       0         0\n",
       "21               dehergne-s.cli      V       0         0\n",
       "22               dehergne-t.cli      V       0         0\n",
       "23               dehergne-u.cli      V       0         0\n",
       "24               dehergne-v.cli      V       0         0\n",
       "25               dehergne-w.cli      V       0         0\n",
       "26               dehergne-x.cli      V       0         0\n",
       "27               dehergne-y.cli      V       0         0\n",
       "28               dehergne-z.cli      V       0         0"
      ]
     },
     "execution_count": 3,
     "metadata": {},
     "output_type": "execute_result"
    }
   ],
   "source": [
    "kleio_files = tlnb.get_kleio_files()\n",
    "kleio_files[['name','status','errors','warnings']]"
   ]
  },
  {
   "cell_type": "markdown",
   "metadata": {},
   "source": [
    "## Optionally clean translations "
   ]
  },
  {
   "cell_type": "code",
   "execution_count": null,
   "metadata": {},
   "outputs": [
    {
     "name": "stderr",
     "output_type": "stream",
     "text": [
      "INFO:root:Request translation of T sources/dehergne-l.cli\n",
      "2025-04-14 15:35:34,866 - INFO - Request translation of T sources/dehergne-l.cli\n",
      "INFO:root:Importing sources/dehergne-l.cli\n",
      "2025-04-14 15:35:43,225 - INFO - Importing sources/dehergne-l.cli\n"
     ]
    }
   ],
   "source": [
    "# NBVAL_IGNORE_OUTPUT\n",
    "\n",
    "# tlnb.kleio_server.translation_clean(\"\", recurse=\"yes\")\n",
    "tlnb.db.update_from_sources(path='', with_import_errors=True)"
   ]
  },
  {
   "cell_type": "markdown",
   "metadata": {},
   "source": [
    "\n",
    "# Update the database from Kleio sources.\n",
    "\n",
    "Updates source translations and imports into database sources with no errors.\n",
    "\n",
    "Only changed files since last import, or new files, will be processed."
   ]
  },
  {
   "cell_type": "code",
   "execution_count": null,
   "metadata": {
    "ExecuteTime": {
     "end_time": "2024-01-28T11:49:58.486757Z",
     "start_time": "2024-01-28T11:49:58.160084Z"
    }
   },
   "outputs": [
    {
     "data": {
      "text/html": [
       "<style>.jp-OutputArea-output { font-size: 1.5em; }</style>"
      ],
      "text/plain": [
       "<IPython.core.display.HTML object>"
      ]
     },
     "metadata": {},
     "output_type": "display_data"
    },
    {
     "name": "stderr",
     "output_type": "stream",
     "text": [
      "INFO:root:Monitoring changes in /Users/jrc/develop/dehergne-repertoire\n",
      "2025-04-14 15:35:20,199 - INFO - Monitoring changes in /Users/jrc/develop/dehergne-repertoire\n"
     ]
    },
    {
     "name": "stdout",
     "output_type": "stream",
     "text": [
      "kleio_home_path: /Users/jrc/develop/dehergne-repertoire\n"
     ]
    },
    {
     "ename": "KeyboardInterrupt",
     "evalue": "",
     "output_type": "error",
     "traceback": [
      "\u001b[31m---------------------------------------------------------------------------\u001b[39m",
      "\u001b[31mKeyboardInterrupt\u001b[39m                         Traceback (most recent call last)",
      "\u001b[36mCell\u001b[39m\u001b[36m \u001b[39m\u001b[32mIn[5]\u001b[39m\u001b[32m, line 34\u001b[39m\n\u001b[32m     31\u001b[39m             tlnb.update_from_sources(path=\u001b[33m'\u001b[39m\u001b[33m'\u001b[39m)\n\u001b[32m     32\u001b[39m         previous_files = current_files\n\u001b[32m---> \u001b[39m\u001b[32m34\u001b[39m \u001b[43mmonitor_kleio_home\u001b[49m\u001b[43m(\u001b[49m\u001b[43mkleio_home_path\u001b[49m\u001b[43m)\u001b[49m\n",
      "\u001b[36mCell\u001b[39m\u001b[36m \u001b[39m\u001b[32mIn[5]\u001b[39m\u001b[32m, line 26\u001b[39m, in \u001b[36mmonitor_kleio_home\u001b[39m\u001b[34m(path)\u001b[39m\n\u001b[32m     24\u001b[39m previous_files = {f: os.path.getmtime(os.path.join(path, f)) \u001b[38;5;28;01mfor\u001b[39;00m f \u001b[38;5;129;01min\u001b[39;00m os.listdir(path)}\n\u001b[32m     25\u001b[39m \u001b[38;5;28;01mwhile\u001b[39;00m \u001b[38;5;28;01mTrue\u001b[39;00m:\n\u001b[32m---> \u001b[39m\u001b[32m26\u001b[39m     \u001b[43mtime\u001b[49m\u001b[43m.\u001b[49m\u001b[43msleep\u001b[49m\u001b[43m(\u001b[49m\u001b[32;43m10\u001b[39;49m\u001b[43m)\u001b[49m  \u001b[38;5;66;03m# Check every 10 seconds\u001b[39;00m\n\u001b[32m     27\u001b[39m     current_files = {f: os.path.getmtime(os.path.join(path, f)) \u001b[38;5;28;01mfor\u001b[39;00m f \u001b[38;5;129;01min\u001b[39;00m os.listdir(path)}\n\u001b[32m     28\u001b[39m     changed_files = [f \u001b[38;5;28;01mfor\u001b[39;00m f \u001b[38;5;129;01min\u001b[39;00m current_files \u001b[38;5;28;01mif\u001b[39;00m f \u001b[38;5;129;01mnot\u001b[39;00m \u001b[38;5;129;01min\u001b[39;00m previous_files \u001b[38;5;129;01mor\u001b[39;00m current_files[f] != previous_files[f]]\n",
      "\u001b[31mKeyboardInterrupt\u001b[39m: "
     ]
    }
   ],
   "source": [
    "import logging\n",
    "import os\n",
    "import time\n",
    "logging.basicConfig(level=logging.INFO)\n",
    "# show logging in the notebook\n",
    "from IPython.display import display, HTML\n",
    "display(HTML(\"<style>.jp-OutputArea-output { font-size: 1.5em; }</style>\"))\n",
    "# Set up logging to display in the notebook\n",
    "logger = logging.getLogger()\n",
    "logger.setLevel(logging.INFO)\n",
    "handler = logging.StreamHandler()\n",
    "handler.setLevel(logging.INFO)\n",
    "formatter = logging.Formatter('%(asctime)s - %(levelname)s - %(message)s')\n",
    "handler.setFormatter(formatter)\n",
    "logger.addHandler(handler)\n",
    "# Set up the logging configuration\n",
    "# Set the logging level to INFO\n",
    "# Set the format for the log messages\n",
    "kleio_home_path = tlnb.kleio_server.get_kleio_home()\n",
    "print(f\"kleio_home_path: {kleio_home_path}\")\n",
    "# Monitor the directory for changes\n",
    "def monitor_kleio_home(path):\n",
    "    logging.info(f\"Monitoring changes in {path}\")\n",
    "    previous_files = {f: os.path.getmtime(os.path.join(path, f)) for f in os.listdir(path)}\n",
    "    while True:\n",
    "        time.sleep(10)  # Check every 10 seconds\n",
    "        current_files = {f: os.path.getmtime(os.path.join(path, f)) for f in os.listdir(path)}\n",
    "        changed_files = [f for f in current_files if f not in previous_files or current_files[f] != previous_files[f]]\n",
    "        if changed_files:\n",
    "            logging.info(f\"Detected changes in files: {changed_files}\")\n",
    "            tlnb.update_from_sources(path='')\n",
    "        previous_files = current_files\n",
    "tlnb.db.update_from_sources(path='', with_import_errors=True)\n",
    "monitor_kleio_home(kleio_home_path)"
   ]
  },
  {
   "cell_type": "code",
   "execution_count": null,
   "metadata": {},
   "outputs": [],
   "source": []
  },
  {
   "cell_type": "markdown",
   "metadata": {},
   "source": [
    "## Check the status of the files"
   ]
  },
  {
   "cell_type": "markdown",
   "metadata": {},
   "source": [
    "Check the import status of the translated files\n",
    "\n",
    "* I: Imported\n",
    "* E: Imported with error\n",
    "* W: Imported with warnings no errors\n",
    "* N: Not imported\n",
    "* U: Translation updated need to reimport"
   ]
  },
  {
   "cell_type": "markdown",
   "metadata": {},
   "source": [
    "### Check a translation report\n",
    "\n",
    "If needed to check for errors.\n"
   ]
  },
  {
   "cell_type": "code",
   "execution_count": 22,
   "metadata": {},
   "outputs": [
    {
     "data": {
      "text/html": [
       "<div>\n",
       "<style scoped>\n",
       "    .dataframe tbody tr th:only-of-type {\n",
       "        vertical-align: middle;\n",
       "    }\n",
       "\n",
       "    .dataframe tbody tr th {\n",
       "        vertical-align: top;\n",
       "    }\n",
       "\n",
       "    .dataframe thead th {\n",
       "        text-align: right;\n",
       "    }\n",
       "</style>\n",
       "<table border=\"1\" class=\"dataframe\">\n",
       "  <thead>\n",
       "    <tr style=\"text-align: right;\">\n",
       "      <th></th>\n",
       "      <th>name</th>\n",
       "      <th>errors</th>\n",
       "      <th>warnings</th>\n",
       "      <th>import_status</th>\n",
       "      <th>import_errors</th>\n",
       "      <th>import_warnings</th>\n",
       "      <th>path</th>\n",
       "    </tr>\n",
       "  </thead>\n",
       "  <tbody>\n",
       "  </tbody>\n",
       "</table>\n",
       "</div>"
      ],
      "text/plain": [
       "Empty DataFrame\n",
       "Columns: [name, errors, warnings, import_status, import_errors, import_warnings, path]\n",
       "Index: []"
      ]
     },
     "execution_count": 22,
     "metadata": {},
     "output_type": "execute_result"
    }
   ],
   "source": [
    "\n",
    "# get the import status\n",
    "imported_files_df = tlnb.get_import_status()\n",
    "errors = imported_files_df[(imported_files_df[\"errors\"] > 0) | (imported_files_df[\"import_errors\"] > 0)]\n",
    "errors[[\"name\", \"errors\", \"warnings\", \"import_status\", \"import_errors\", \"import_warnings\", \"path\"]].sort_values(\"name\")"
   ]
  },
  {
   "cell_type": "code",
   "execution_count": 23,
   "metadata": {},
   "outputs": [
    {
     "name": "stdout",
     "output_type": "stream",
     "text": [
      "No errors found\n"
     ]
    }
   ],
   "source": [
    "file_number=list(errors.index.unique())\n",
    "if len(file_number) > 0:\n",
    "    rpt = tlnb.get_translation_report(imported_files_df, file_number)\n",
    "    print(rpt)\n",
    "else:\n",
    "    print(\"No errors found\")\n",
    "\n"
   ]
  },
  {
   "cell_type": "markdown",
   "metadata": {},
   "source": [
    "### Get the import report for a file\n",
    "\n",
    "In case there are errors in the import phase check the import report."
   ]
  },
  {
   "cell_type": "code",
   "execution_count": 24,
   "metadata": {},
   "outputs": [
    {
     "data": {
      "text/html": [
       "<div>\n",
       "<style scoped>\n",
       "    .dataframe tbody tr th:only-of-type {\n",
       "        vertical-align: middle;\n",
       "    }\n",
       "\n",
       "    .dataframe tbody tr th {\n",
       "        vertical-align: top;\n",
       "    }\n",
       "\n",
       "    .dataframe thead th {\n",
       "        text-align: right;\n",
       "    }\n",
       "</style>\n",
       "<table border=\"1\" class=\"dataframe\">\n",
       "  <thead>\n",
       "    <tr style=\"text-align: right;\">\n",
       "      <th></th>\n",
       "      <th>import_status</th>\n",
       "      <th>import_errors</th>\n",
       "      <th>import_warnings</th>\n",
       "      <th>name</th>\n",
       "      <th>imported</th>\n",
       "      <th>errors</th>\n",
       "      <th>warnings</th>\n",
       "      <th>path</th>\n",
       "    </tr>\n",
       "  </thead>\n",
       "  <tbody>\n",
       "  </tbody>\n",
       "</table>\n",
       "</div>"
      ],
      "text/plain": [
       "Empty DataFrame\n",
       "Columns: [import_status, import_errors, import_warnings, name, imported, errors, warnings, path]\n",
       "Index: []"
      ]
     },
     "execution_count": 24,
     "metadata": {},
     "output_type": "execute_result"
    }
   ],
   "source": [
    "ierrors = imported_files_df[imported_files_df.import_errors>0][[\"import_status\", \"import_errors\",\"import_warnings\",\"name\",\"imported\",\"errors\",\"warnings\",\"path\"]].sort_values(\"name\")\n",
    "ierrors"
   ]
  },
  {
   "cell_type": "code",
   "execution_count": 25,
   "metadata": {},
   "outputs": [
    {
     "name": "stdout",
     "output_type": "stream",
     "text": [
      "\n"
     ]
    }
   ],
   "source": [
    "\n",
    "rpt = tlnb.get_import_rpt(imported_files_df, rows=list(ierrors.index), match_path=True)\n",
    "print(rpt)"
   ]
  },
  {
   "cell_type": "code",
   "execution_count": 45,
   "metadata": {},
   "outputs": [
    {
     "data": {
      "text/plain": [
       "'No import report found'"
      ]
     },
     "execution_count": 45,
     "metadata": {},
     "output_type": "execute_result"
    }
   ],
   "source": [
    "tlnb.get_import_rpt('sources/dehergne-a.cli')"
   ]
  }
 ],
 "metadata": {
  "kernelspec": {
   "display_name": ".venv",
   "language": "python",
   "name": "python3"
  },
  "language_info": {
   "codemirror_mode": {
    "name": "ipython",
    "version": 3
   },
   "file_extension": ".py",
   "mimetype": "text/x-python",
   "name": "python",
   "nbconvert_exporter": "python",
   "pygments_lexer": "ipython3",
   "version": "3.13.2"
  },
  "orig_nbformat": 4
 },
 "nbformat": 4,
 "nbformat_minor": 2
}
