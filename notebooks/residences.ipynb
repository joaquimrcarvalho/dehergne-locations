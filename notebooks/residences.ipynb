{
 "cells": [
  {
   "cell_type": "markdown",
   "metadata": {},
   "source": [
    "## Analysis of the list of jesuit communities in China (\"Chrétientés\") by Dehergne\n",
    "\n",
    "\n",
    "This notebook analyzes the list of Jesuit communities in China, as compiled by Dehergne in his work \n",
    "\"Repertoire des jésuites de Chine, 1552-1773\" (Paris, 1973). \n",
    "\n",
    "This notebook produces tables with the names of communties, their wkidata code, and comments related to\n",
    "modern chinese spelling of the place name. \n",
    "\n",
    "The notebook also uses records related to place names in individual missionary entries in the \"Repertoire\"\n",
    "to list all the people present in a community at a given point in time.\n",
    "\n",
    "Excel files produced in this notebook:\n",
    "- inferences/residences-1644.xlsx\n",
    "- inferences/residences-1701.xlsx\n",
    "- inferences/residences-1644-1701.xlsx\n",
    "- inferences/residences-names-1644-1701.xlsx\n",
    "- inferences/residences-1644-1701-no-wikidata.xlsx'\n"
   ]
  },
  {
   "cell_type": "code",
   "execution_count": 936,
   "metadata": {},
   "outputs": [
    {
     "name": "stdout",
     "output_type": "stream",
     "text": [
      "Timelink version: 1.1.26\n"
     ]
    }
   ],
   "source": [
    "import timelink\n",
    "\n",
    "print(\"Timelink version:\", timelink.__version__)"
   ]
  },
  {
   "cell_type": "markdown",
   "metadata": {},
   "source": [
    "### Setup"
   ]
  },
  {
   "cell_type": "code",
   "execution_count": 937,
   "metadata": {},
   "outputs": [
    {
     "name": "stderr",
     "output_type": "stream",
     "text": [
      "WARNING:root:Reusing existing container priceless_lumiere\n"
     ]
    }
   ],
   "source": [
    "\n",
    "from timelink.notebooks import TimelinkNotebook\n",
    "\n",
    "tlnb = TimelinkNotebook()\n",
    "# tlnb.print_info()"
   ]
  },
  {
   "cell_type": "markdown",
   "metadata": {},
   "source": [
    "## The residences of the Jesuits in China\n",
    "The Repertoir includes two lists of Jesuits residences in China.\n",
    "\n",
    "One reports to 1644 [Planche: Carte des Chrétientés Chinoises de la fin des Ming (1644)](../sources/dehergne-locations-1644.cli)\n",
    "and the second to 1701  [VII. Carte des résidences de Chine en l'année 1701](../sources/dehergne-locations-1701.cli).\n"
   ]
  },
  {
   "cell_type": "markdown",
   "metadata": {},
   "source": [
    "Function to extract the wikidate associated with the name of a residence."
   ]
  },
  {
   "cell_type": "code",
   "execution_count": 938,
   "metadata": {},
   "outputs": [],
   "source": [
    "import re\n",
    "\n",
    "def get_wikidata_id(geo_entity, if_missing=''):\n",
    "    \"\"\" Check the obs field for wikidata links\n",
    "\n",
    "    Returns a tuple of the cleaned comment and the wikidata id\"\"\"\n",
    "    extra_info = geo_entity.extra_info\n",
    "    name_comment = extra_info.get('name', {}).get('comment','')\n",
    "    name_original = extra_info.get('name', {}).get('original','')\n",
    "\n",
    "    pattern = r'@wikidata\\:\\s*(Q[0-9]*)'\n",
    "    wikidata_in_comment = re.findall(pattern, name_comment)\n",
    "    comment_without_wikidata = re.sub(pattern, '', name_comment)\n",
    "    # Sometimes the wikidata id is in the original name\n",
    "    wikidata_in_original = re.findall(pattern, name_original)\n",
    "    original_without_wikidata = re.sub(pattern, '', name_original)\n",
    "    return comment_without_wikidata + original_without_wikidata, wikidata_in_comment[0] if wikidata_in_comment else wikidata_in_original[0] if wikidata_in_original else if_missing\n",
    "\n",
    "# extract from the \"comment\" column\n",
    "def extract_coordinates(comment):\n",
    "    \"\"\"\n",
    "    Parse various coordinate formats from text comment and return a tuple (lat, lon).\n",
    "    Supported formats:\n",
    "      1. 'coordinates: <lat><N/S>, <lon><E/W>'\n",
    "      2. 'latitude: <decimal>, longitude: <decimal>'\n",
    "      3. Signed decimal degrees: '<+ or -><decimal>, <+ or -><decimal>'\n",
    "      4. DMS: '<deg>°<min>'<sec>\"<N/S> <deg>°<min>'<sec>\"<E/W>'\n",
    "    \"\"\"\n",
    "    if not comment:\n",
    "        return None\n",
    "    # Return None if comment does not contain \"coordinates:\" nor \"latitude:\" nor \"longitude:\"\n",
    "    if not re.search(r'coordinates:|latitude:|longitude:', comment, flags=re.IGNORECASE):\n",
    "        return None\n",
    "\n",
    "    # 1. explicit coordinate tag\n",
    "    m = re.search(r'coordinates:\\s*([-\\d.]+)([NS]),\\s*([-\\d.]+)([EW])', comment, flags=re.IGNORECASE)\n",
    "    if m:\n",
    "        lat, ns, lon, ew = m.groups()\n",
    "        lat = float(lat) * (1 if ns == 'N' else -1)\n",
    "        lon = float(lon) * (1 if ew == 'E' else -1)\n",
    "        return (lat, lon)\n",
    "\n",
    "    # 2. labeled decimal degrees\n",
    "    m = re.search(r'latitude:\\s*([-\\d.]+),\\s*longitude:\\s*([-\\d.]+)', comment, flags=re.IGNORECASE)\n",
    "    if m:\n",
    "        lat, lon = m.groups()\n",
    "        return (float(lat), float(lon))\n",
    "\n",
    "    # 3. signed decimal degrees with +/− signs\n",
    "    m = re.search(r'([-+]?\\d+(?:\\.\\d+)?),\\s*([-+]?\\d+(?:\\.\\d+)?)', comment, flags=re.IGNORECASE)\n",
    "    if m:\n",
    "        lat, lon = m.groups()\n",
    "        return (float(lat), float(lon))\n",
    "\n",
    "    # 4. DMS format\n",
    "    dms = re.search(r'(\\d+)°(\\d+)\\'(\\d+\\.?\\d*)\"([NS])[\\s,]+(\\d+)°(\\d+)\\'(\\d+\\.?\\d*)\"([EW])', comment)\n",
    "    if dms:\n",
    "        d, m1, s, ns, D, m2, s2, ew = dms.groups()\n",
    "        def dms_to_decimal(deg, minu, sec, hemi):\n",
    "            dd = float(deg) + float(minu) / 60 + float(sec) / 3600\n",
    "            return dd * (1 if hemi in ('N', 'E') else -1)\n",
    "        lat = dms_to_decimal(d, m1, s, ns)\n",
    "        lon = dms_to_decimal(D, m2, s2, ew)\n",
    "        return (lat, lon)\n",
    "\n",
    "    raise ValueError(f\"Could not parse coordinates from comment: {comment}\")\n"
   ]
  },
  {
   "cell_type": "code",
   "execution_count": 939,
   "metadata": {},
   "outputs": [
    {
     "name": "stdout",
     "output_type": "stream",
     "text": [
      "Comment: coordinates: 48.8588443N, 2.2943506E => Coordinates: (48.8588443, 2.2943506)\n",
      "Comment: latitude: 48.8588443, longitude: 2.2943506 => Coordinates: (48.8588443, 2.2943506)\n",
      "Comment: coordinates:48.8588443, 2.2943506 => Coordinates: (48.8588443, 2.2943506)\n",
      "Comment: coordinates:48°51'31.84\"N 2°17'39.66\"E => Coordinates: (48.85884444444444, 2.2943499999999997)\n",
      "Comment: latitude:26.4269, longitude:111.9940 => Coordinates: (26.4269, 111.994)\n",
      "Comment: In the Chinese translation it is recognized as “章浦”（漳浦）, which is wrong. It should be \"后坂\", because \"Aupua\" corresponds to the pronunciation of \"后坂\" in the southern Fujian dialect. In Dehergne(1957), it has another transcription \"Heupuen\", coordinates: 24.50213852506329N, 117.6917197408656E => Coordinates: (24.50213852506329, 117.6917197408656)\n",
      "Comment: provinces, coordinates:32°3'39\"N, 118°46'44\"E  => Coordinates: (32.06083333333333, 118.77888888888889)\n",
      "Comment: there, coordinates: 34.55258137628194N,109.04672038131238E/ => Coordinates: (34.55258137628194, 109.04672038131238)\n",
      "Comment: coordinates: 31°35'0\"N, 105°58'19\"E => Coordinates: (31.583333333333332, 105.97194444444445)\n",
      "Comment: coordinates: 30.845691234919308N, 121.3179093082612E => Coordinates: (30.845691234919308, 121.3179093082612)\n",
      "Comment: No coordinates here => Coordinates: None\n"
     ]
    }
   ],
   "source": [
    "# test the extract_coordinates function\n",
    "\n",
    "test_comments = [\n",
    "    \"coordinates: 48.8588443N, 2.2943506E\",\n",
    "    \"latitude: 48.8588443, longitude: 2.2943506\",\n",
    "    \"coordinates:48.8588443, 2.2943506\",\n",
    "    \"coordinates:48°51'31.84\\\"N 2°17'39.66\\\"E\",\n",
    "    \"latitude:26.4269, longitude:111.9940\",\n",
    "    \"\"\"In the Chinese translation it is recognized as “章浦”（漳浦）, which is wrong. It should be \"后坂\", because \"Aupua\" corresponds to the pronunciation of \"后坂\" in the southern Fujian dialect. In Dehergne(1957), it has another transcription \"Heupuen\", coordinates: 24.50213852506329N, 117.6917197408656E\"\"\",\n",
    "     \"\"\"provinces, coordinates:32°3'39\"N, 118°46'44\"E \"\"\",\n",
    "     \"there, coordinates: 34.55258137628194N,109.04672038131238E/\",\n",
    "     \"\"\"coordinates: 31°35'0\"N, 105°58'19\"E\"\"\",\n",
    "     \"coordinates: 30.845691234919308N, 121.3179093082612E\",\n",
    "\"No coordinates here\",\n",
    "]\n",
    "\n",
    "for comment in test_comments:\n",
    "    try:\n",
    "        coords = extract_coordinates(comment)\n",
    "        print(f\"Comment: {comment} => Coordinates: {coords}\")\n",
    "    except ValueError as e:\n",
    "        print(f\"Comment: {comment} => Error: {e}\")"
   ]
  },
  {
   "cell_type": "markdown",
   "metadata": {},
   "source": [
    "## List of residences in 1644"
   ]
  },
  {
   "cell_type": "code",
   "execution_count": 940,
   "metadata": {},
   "outputs": [
    {
     "name": "stdout",
     "output_type": "stream",
     "text": [
      "deh-r1644-chekiang Chekiang Q16967 Tche-kiang, today Zhejiang, 浙江,  @dehergne:396\n",
      "  Hangchou Q4970 Hang-tcheou, today Hangzhou, 杭州, \n",
      "    Fuyang Q1011103 Fou-yang, today Fuyang, 富阳, \n",
      "    Jenho Q9385136 Jen-houo, today Renhe, 仁和县 (), Historical county name, coordinates: 30.448897N, 120.307504E\n",
      "  Chüchow Q58235 K'iu-tcheou, today Quzhou, 衢州, , in the Chinese translation it is recognized as “遂州”, which is wrong, both phonetically and geographically. In Dehergne(1957), it is noted as \"衢州\".\n",
      "  Huchow Q42664 Hou-tcheou, today Huzhou, 湖州, \n",
      "    Tehtsing Q1191987 \"Tehtsing du Huchow, Té-ts'ingTeching# today Deqing, 德清, \"\n",
      "  Kashing Q58178 Kia-hing, today Jiaxing, 嘉兴, \n",
      "    Kashan Q1361347 Kia-chan, today Jiashan, 嘉善, Kaosham\n",
      "    Tangsi Q10931032 \"T'ang-k'i Tangchi\", today Tangqi, 塘栖 , in the Chinese translation it is recognized as “塘拪”\n",
      "    Tsungteh Q10270889 Tch'ong-té,today Chongde, 崇德县 , Historical county name, located in the present Chongfu 崇福镇Tsungteh (Shihmen)\n",
      "    Tungsiang Q1204548 T'ong-hiang, today Tongxiang, 桐乡, \n",
      "  Kinhwa Q58210 Kin-hoa,Chinhua,today Jinhua, 金华, \n",
      "    Lanchi Q1023793 (qui deviendra em 1656 R des OP)Lan-k'i， today Lanxi, 兰溪, \n",
      "    Tungyang Q1023774 Tong-yang, today Dongyang, 东阳, \n",
      "  Ningpo Q42780 (v. 1540?)Ning-pouo,today Ningbo, 宁波, \n",
      "    Wuking No wikidata (?) Uchim,Ou kin, Dehergne(1957) did not give its Chinese name. In the Chinese translation it is recognized as “五井村”, which cannot be found.bourg de Wuking\n",
      "    Tinghai Q1226419 T'ing-hai, today Dinghai, 定海, \n",
      "    Tzeki Q706161 Ts'e-k'i,Tsuchi, today Cixi, 慈溪, \n",
      "  Shaoshing Q706161 Chao-hing,Shaohsing, today Shaoxing, 绍兴, \n",
      "  Wenchow Q42635 Wen-tcheou, today Wenzhou, 温州, \n",
      "    Juian Q713357 Joei-ngan, today Rui'an, 瑞安, \n",
      "deh-r1644-fukien Fukien Q41705 Fou-kien, today Fujian, 福建,  @dehergne:397\n",
      "  Foochow Q68481 Fuzhou，Fou-tcheou,Fuchou，today Fuzhou, 福州, \n",
      "    Hungtang Q11146687 today Hongtang, 洪塘, , in the Chinese translation it is written as “宏塘”, and in Dehergne(1957) it is \"洪堂\". But actually this place is written with the characters \"洪塘\".bourg de Hungtang\n",
      "    Machang Q1033221 today Machang, 马厂村,  (Changshan district),The Wikidata Q17033140 is that of \"马厂街基督教堂\" Machang Street Christian Church, but no coordinatesbourg de Machang, Machang\n",
      "    Diongloh Q766619 today Changle,长乐, Diongloh (Tch'ang-lo), Tch'ang-lo,Changlo\n",
      "    Hoihow Q5639130 Haikeu, today Haikou, 海口镇, bourg de Hoihow (Haikeu)\n",
      "    Niensien No wikidata (?) Dehergne(1957, p30): \"A côté de Hai keu on cite, en 1639, une chrétienté \" Nien sien \", dont nous ignorons tout.\"bourg de Niensien\n",
      "    Futsing Q262208 Fou-ts'ing, Fuching, today Fuqing, 福清, \n",
      "    Kutien Q1168209 Kou-t'ien, today Gutian, 古田, \n",
      "    Lienkong Q204827 Lien-kiang,Lienchiang, today Lianjiang, 连江, \n",
      "  Changchow Q68814 Zhangzhou, today Zhangzhou, 漳州, Changchow (Lungki)\n",
      "    Aupua Q14420305 today Houban, 后坂 (), (@geonames:1977135), coordinates: 24.50213852506329N, 117.6917197408656EAu-poa,Heupuen\n",
      "  Chüanchow Q68695 Quanzhou, Ts'iuen-tcheou, today Quanzhou, 泉州, \n",
      "    Amoy Q68744 Hia-men,Shamen, today Xiamen, 厦门, ,Amoy (Szeming)\n",
      "    Anhai Q4764330 Ngan-hai,today Anhai,安海, principaux bourgs\n",
      "    Hweian Q1374978 Hoei-ngan, today Hui'an, 惠安, \n",
      "    Tsingkiang Q128883 Chingchiang ,Tsin-kiang, today Jingjiang, 靖江, . In the original book (Dehergne, 1973), it is written as \"Tsinkiang\" (without g), which is wrongly spelled, because from both phonetic and geographical points of view, it should be Tsingkiang 靖江. In Dehergne(1973), it is written as Tsingjiang. And in the Chinese translation, it is also recognized as \"靖江\".Tsinkiang\n",
      "    Yungchun Q1337868 Yong-tch'oen,Yungchin, today Yongchun, 永春, \n",
      "  Funing Q241877 Fou-ning, today Funing, 福宁,, historical administrative division. The Wikidata code is of its administrative center Xiapu 霞浦Funing (tcheou indép.)\n",
      "    Fuan Q1374581 Fou-ngan, today Fu'an, 福安, \n",
      "    Hiapoey Q28794829 Apuy, today Xiapi, 下邳, in the Chinese translation, it is recognized as \"霞浦\", but actually it is not. In Dehergne(1957), it is noted as \"下邳\", coordinates: 26.832013826263175N,119.77591087254943E geonames:8579733 (China, FujianNingde Shi, xiapicun), Ningde Shi -> Hiapoey (Apuy)\n",
      "    Lokia Q1152183 \"\"\"Lukiahsiang,Lokahoeng, today Luojiaxiang, 罗家巷, in the Chinese translation, it is recognized as 闾峡, but in Dehergne(1957), it is noted as 罗家巷. 罗家巷 now is in 罗江. coordinates: 26.971131830911116N, 119.67270683499889E geonames:8579942 Luojiangcun circa  \"\"\"principaux bourgs\n",
      "    Muyang Q14471971 today Muyang, 穆阳, principaux bourgs, Mou-yang\n",
      "    Tingteo No wikidata (?) 藤头？顶头？ in the Chinese translation it is recognized as “丁岛”, which is wrong, in Dehergne(1957, p.35), says \"identification de la localité n'est pas facile.\" And several possible Chinese names were given, not sure which is the right one.\n",
      "    Ningteh Q68919 today Ningde, 宁德, Ning-té,Ningte\n",
      "    Showning Q1149660 Cheou-ning, today Shouning, 寿宁, \n",
      "  Hinghwa Q68579 Hing-hoa,Hsinghua, today Xinghua, 兴化, wikidata:Q17498990, 兴化县，the wikidata code of it does not contain coordinate information, which can be substituted by ，the present-day Putian 莆田\n",
      "    Putien Q17031936 P'ou-t'ien, today Putian, 莆田, \n",
      "    Sienyu Q1337926 Sien-yeou, today Xianyou, 仙游, \n",
      "  Kienning Q639862 Kienning (Kienow), Kien-yang, today Jianyang, 建阳, \n",
      "    Kienyang Q639862 Kien-yang, today Jianyang, 建阳, \n",
      "    Chungan Q94945 Tch'ong-ngan, today Chong'an, 崇安, , Today the city's name changed to be Wuyishan 武夷山市, and the wikidata code is that of Wuyishan\n",
      "  Shaowu Q1025451 Chao-ou, today Shaowu, 邵武, \n",
      "    Kienning hien Q781559 Kien-ning,Chienning, today Jianning Xian, 建宁县, \n",
      "    Taining Q1375194 T'ai-ning, today Taining, 泰宁, \n",
      "  Tingchow Q7808213 T'ing-tcheou, today Tingzhou, 汀州, \n",
      "    Ninghwa Q1198091 Ning-hoa, today Ninghua, 宁化, \n",
      "    Tsingliu Q1198324 Tsing-lowou,Chingliu, today Qingliu, 清流, \n",
      "  Yenping Q1337959 Yen-p'ing, today Yanping, 延平, \n",
      "    Shahsien Q1198385 today Shaxian, 沙县 Cha\n",
      "  Taiwan Q22502 today Taiwan, 台湾, Formose (Taiwan), Formosa\n",
      "    Kilung Q249996 Ki-long, Jilong, today Keelung, 基隆, \n",
      "    Tamsui Q570509 \n",
      "    Taparri Q7420445 \"\"\"hoje：大包里 in the Chinese translation it is recognized as 塔巴里,in Dehergne(1957) it is noted as 大包里, which cannot be found in the map. Dehergne(1957) puts it as \"Peninsule de Masu, à 1 lieue nord-ouest de San Salvador (社寮)\"\n",
      "                today's Santissima Trinidad ， with Masu coordinates:25.201218764354735N, 121.68618375811317E\"\"\"\n",
      "    Camarri No wikidata today Jinbaoli, 金包里, in the Chinese translation it is recognized as “噶玛兰”, but in Dehergne(1957) it is noted as \"金包里\". It is an area in the Northern Taiwan, coordinates: 25.22189808588497N, 121.6382892794898EQuimauri\n",
      "    Santiago Q31106 today Cape Santiago, 三貂角, Kakinauan, Samitiao\n",
      "deh-r1644-honan Honan Q43684 today Henan, 河南, \n",
      "  Kaifeng Q208471 Kaifeng (Pienleang) «chrétiens de la Croix» (D'Elu II 319 sq) v. 1550., chrétienté v. 1623, K'ai-fong, today Kaifeng, 开封, \n",
      "    Yüanwu Q10911308 Yuen-ou, today Yuanwu, 原武, \n",
      "  Kweiteh Q404817 Koei-té,Kueite, today Guide, 归德, \n",
      "deh-r1644-hukwang Hukwang Q1014420 Huguang?, Hou-Quang, today Huguang,湖广, wikidata:Q2235155 for coordinates we use Wuchang District , where the head quarters of vice-roy of Huguang (wikidata:Q11563236) was located.\n",
      "  Wuchang Q1014420 do Hupei?, Ou-tch'ang, today Wuchang, 武昌, \n",
      "    Tungshan Q1356703 T'ong-chan, today Tongshan, 通山, \n",
      "  Anlu Q557934 do Hupei?, Ngan-lou, today Anlu, 安陆, \n",
      "    Kingmen Q71323 Kingmen, King-men,Chingmen, today Jingmen, 荆门, \n",
      "  Hwangchow Q927929 do Hupei?, Hoang-tcheou, today Huangzhou, 黄州, \n",
      "    Kichow Q71323 Kichow (Kichun), King-men,Chingmen, today Jingmen, 荆门, \n",
      "  Kingchow Q14135188 do Hupei?, K'i-tcheou,Chichou, today Qizhou, 蕲州, \n",
      "    Kungan Q1198857 Kong-ngan, today Gong'an, 公安, \n",
      "    Meng kia k´i No wikidata (?) in the Chinese translation it is recognized as “孟家集”, but 孟家集 is in Shandong province, not in Hubei. Dehergne(1957) said \"Meng-kia-k´i à la frontière du Hunan, ancienne chrétienté des Ming\"au bourg de Meng kia k´i\n",
      "    Shihshow Q1359319 Che-cheou, today Shishou, 石首, \n",
      "deh-r1644-hunan Hunan Q45761 Hou-nan, today Hunan, 湖南, \n",
      "  Yungchow Q266014 do Hunan?, Yong-tcheou, today Yongzhou, 永州, \n",
      "    Kiyang Q1199641 K'i-yang,Chiyang, today Qiyang, 祁阳, \n",
      "    Paishui No wikidata \"\"\"Dehergne (1957) \"Dés 1587, à Pascivi=Paishui (Pé-choei) 白水 du Kiyang (K'i-yang) 祁陽 hien au nord-est de Yungchow,...\" coordinates:26.4269N, 111.9940E\"\"\"\n",
      "deh-r1644-kiangnan Kiangnan Q11133842 \"\"\"Jiangnan?today Jiangnan, 江南,  (no coordinates), former province of China, corresponding to modern-day Jiangsu and Anhui provinces, coordinates:32°3'39\"N, 118°46'44\"E (Nankjing)\"\"\"KIANGNAN ou NANKING\n",
      "deh-r1644-anhwei Anhwei Q40956 Anhui, Ngon-hoei, today Anhui, 安徽, \n",
      "  Chuchow Q114045 Chuchow, today Chuzhou, 滁州, \n",
      "  Hweichow Q4358404 Hoei-tcheou, today Huizhou, 徽州, \n",
      "    Wuyan hien Q1357710 Ou-yuen, today Wuyuan Xian, 婺源县, , Wuyuan historically was in Anhui province, but now it is in the present-day Jiangxi province\n",
      "    Tungmen No wikidata (?) In Dehergne(1957, p51): \"Chrétienté au Wuyüan (Ou-yuen) hien, à la frontière du Kiangsi, et se nomme Tungmen, à l'ouest du Wuyüan, route de Kingtehchen.\" in the Chinese translation it is recogniazed as “东门村”, but it seems that there is no 东门村 in this area.Wuyuän hien le bourg de Tungmen\n",
      "deh-r1644-kiangsu Kiangsu Q16963 Jiangju, today Jiangsu, 江苏, \n",
      "  Nanking Q16666 Nanjing, Nan-king,Nanching, today Nanjing, 南京, \n",
      "    Siaolingwei Q8044278 Hiao-ling-wei,Hsiaolingwei, today Xiaolingwei, 孝陵卫, \n",
      "    Kaowang Q13721719 today Gaowang, 高旺,  (no coord.), in the Chinese translation, it is written as “高望”, which should be “高旺”, coordinates: 32°3'53\"N, 118°38'24\"E (江浦街道 Q11134699)\n",
      "    Lungtan Q31853195 today Longtan, 龙潭, \n",
      "  Changchow Q57970 today Changzhou, 常州, Changchow (Wutsin)\n",
      "    Ihing Q1015788 I-hing,Ihsing, today Yixing, 宜兴, \n",
      "    Tsinkiang Q428587 Chingchiang, today Jingjiang, 靖江, , In the original book (Dehergne, 1973), it is written as \"Tsinkiang\" (without g), which is wrongly spelled, because from both phonetic and geographical points of view, it should be Tsingkiang 靖江. In Dehergne(1973), it is written as Tsingjiang. And in the Chinese translation, it is also recognized as \"靖江\".\n",
      "    Wusih Q42651 Ou-si,Wuhsi, today Wuxi, 无锡, \n",
      "    Wutsin Q1197421 ?\n",
      "  Chinkiang Q57958 Tchen-kiang,Chenchiang, today Zhenjiang, 镇江, \n",
      "    Tanyang Q925293 Tan-yang, today Danyang, 丹阳, \n",
      "  Hwaian Q57818 Hoai-ngan, today Huai'an, 淮安, \n",
      "  Soochow Q42622 Sou-tcheou, Suchou, today Suzhou, 苏州, Soochow (Wuhsien)\n",
      "    Changshu Q113497198 today Wuxian, 吴县,  (no coord.), former city in Jiangsu, coordinates: 31°15'52\"N, 120°37'41\"E (Q943850 Wuzhong District)\n",
      "    Kiating Q662101 Kia-ting,Chiating, today Jiading, 嘉定, \n",
      "    Tsungming Q788812 Tch'ong-ming,Chungming, today Chongming, 崇明, Tsungming (île)\n",
      "  Sungkiang Q11104671 Song-kiang,Sungching, today Songjiang, 松江, \n",
      "    Kaokia No wikidata (?) today Gaojia, 高家, in the Chinese translation it is recognized as “高家岗”, which actually is not in that area. It should be “高家”. Dehergne(1957, p60) said \"'Cao kia' près de Cié pao (=Tsipao) est citée dans l'annuelle de 1643 (JS 122 185). Il y a un 高家 plus près de Sungkiang, à l'est.\"\n",
      "    Mo ka pang No wikidata Ma kia pim, today Majiabang, 马家浜, in the Chinese translation it is recognized as “穆喀榜”, which is wrong. Dehergne(1957, p60) said it is \"马家滨\" at \"sud de Sung-kiang\". In the present day it might be \"马家浜\" to the south Songjiang, coordinates: 30.845691234919308N, 121.3179093082612E\n",
      "    Chwansha Q11055382 Tch'oan-cha, today Chuansha, 川沙, \n",
      "    Fenghsien Q662694 Fong-hien,Fenghsien, today Fengxian, 奉贤, Fenghsien (Vongtsié)\n",
      "    Kinshan Q662241 Kin-chan,Chinshan, today Jinshan, 金山, \n",
      "    Chuking Q11094342 Tchou-king,Chuching, today Zhujing, 朱泾, , in the Chinese traslation it is written as “诸泾”, which should be “朱泾”\n",
      "    Shanghai Q8686 Chang-hai, today Shanghai, 上海, \n",
      "    Tsingpu Q46536920 Ts'ing-p'ou,Chingpu, today Qingpu, 青浦, \n",
      "    Tsipao Q1875153 Tsi-pao,Chipao, today Qibao, 七宝, \n",
      "  Yangchow Q57906 Yang-tcheou, today Yangzhou, 扬州, \n",
      "    Kaoyu Q1253949 Kao-yeou, today Gaoyou, 高邮, \n",
      "    Paoshan Q661828 Pao-chan, today Baoshan, 宝山, \n",
      "    Fushan No wikidata today Fushan, 福山村, coordinates: 31.800210981845982N, 120.7617947082488E\n",
      "deh-r1644-kiangsi Kiangsi Q57052 Jiangxi, Kiang-si, today Jiangxi, 江西, \n",
      "  Nanchang Q171943 Nan-tch'ang, today Nanchang, 南昌, \n",
      "  Kienchang Q11065388 Kien-tch'ang,Chienchang, today Jianchang, 建昌, \n",
      "  Nanan Q28794376 Nan-ngan, today Nan'an, 南安, \n",
      "    Nancheng Q521512 Nan-tch'eng, today Nancheng, 南城, \n",
      "    Nanfeng Q1356725 Nan-fong, today Nanfeng, 南丰, \n",
      "deh-r1644-kwangsi Kwangsi Q15176 Guangxi, Koang-si, today Guangxi, 广西, \n",
      "  Kweilin Q189633 Koei-lin, today Guilin, 桂林, \n",
      "  Wuchow Q571652 Ou-tcheou, today Wuzhou, 梧州, \n",
      "deh-r1644-kwangtung Kwangtung Q15175 Guangdong, today Guangdong, 广东, \n",
      "  Macau Q14773 Macau, today Macao, 澳门, \n",
      "    Tsingchow Q3319473 Tsingchow,Ts'ing-tcheou, today Ilha Verde, 青州, Ilha Verde (Tsingchow)\n",
      "    Wantchai Q14342082 Lapa,Wantchai, today Wanzai, 湾仔, Lappa (Wantchai)\n",
      "  Cantão Q16572 Koang-tcheou, today Guangzhou, 广州, \n",
      "    Tungkun Q59218 Tong-koan,Tungkuan, today Dongguan, 东莞, \n",
      "    Quon yao No wikidata today Guanyao, 官窑, In the Chinses translation it is recognized as “高要村”，which is wrong. in Dehergne(1957), it is noted as \"官窑\", coordinates: 23.314954073028765N, 113.22132587290358E\n",
      "    Lampacao Q6482357 Lampacau,Lampacão, today 浪白滘, 浪白澳, \n",
      "  Kiungchow Q1081204 K'iong-tcheou,Chiungchou, today Qiongzhou, 琼州, Kiungchow (île de Hainan)\n",
      "    Tingan Q1022249 Ting-ngan, today Ding'an, 定安, \n",
      "    Bankao No wikidata today Xiangou, 仙沟, In the Chinese translation it is recognized as \"板桥\", but in Dehergne (1957), it is noted as \"仙沟\". coordinates: 19.678430033709233N, 110.3760945797476E\n",
      "    Lungmo Q11181853 Lummo, today Longmen, 龙门, , in the Chinese translation it is written as “龙末”, but but in Dehergne (1957), it is noted as \"龙门\"\n",
      "  Luichow Q1209167 Lei-tcheou, today Leizhou, 雷州, \n",
      "  Namyung Q934465 Nan-hiong, today Nanxiong, 南雄, Namyung (alors fou)\n",
      "  Schiuchow Q1346617 Chao-tcheou, today Shaozhou, 韶州, , historical administrative division. The Wikidata code is of its administrative center Qujiang 曲江, which is in the present-day City of Shaoguan 韶关.Shiuchow (Chao-tcheou)\n",
      "    Makia No wikidata Machia, today Majia, 马家, Dehergne(1957) said Makia\"马家\" is \"à 15 kilomètres au sud de la ville\" (de Shiuchow), which should be to the south of Shiuchow, but I only found one \"马家\" in that area, but it is to the west of the city (coordinates: 24.75569541392557, 113.15960996554436), which might not be the right place.\n",
      "    Tsintsun No wikidata Cinçun, today Jingcun, 靖村, coordinates:24.840448198893206N, 113.54394322209676E. In the original book (Dehergne, 1973), it is written as \"Tsintsun\" (without g), which is wrongly spelled. In Dehergne(1973), it is written as Tsingtsun, with the Chinese name 靖村 noted. It is \"à une heure et demie de marche au nord-ouest de Siuchow.\" In the Chinese traslation, it is recognized as \"青村\", which is wrong.\n",
      "    Hwangtsun No wikidata Vançun, today Huangcun, 黄村, coordinates: 24.900778941203768N, 113.60398607001083E Dehergne(1957): \"à une heure de chemin au nord de Shiuchow\".\n",
      "    Hwanghsiaping No wikidata (?) Hwanghsiaping, today Vankaxen, 黄下坪？, In the Chinese translation, it is recognized as \"黄下坪\". Dehergne(1957):\"Hwanghsiaping (\" Vankaxen \") à 15 li à l'ouest de Shiuchow.\" But it cannot be found in the map.\n",
      "    Motikang No wikidata Mochi, today Madigang, 麻地岗, In the Chinese translation, it is recognized as “末岗”, but in Dehergne(1957), it is noted as “麻地岗”., coordinates: 24.68899887552694N, 113.57599418283718E\n",
      "    Yangsiang No wikidata (?) In the Chinese translation, it is recognized as “英洋”, which is wrong. In Dehergne(1957), it is noted as \"杨姓村\". But it cannot be found in the map.\n",
      "  Shiuhing Q59164 Tchao-k'ing, Chaoching, today Zhaoqing, 肇庆, Shiuhing (Tchao-k'ing, actuel Hoyiu)\n",
      "deh-r1644-kwichow Kwichow Q47097 Koei-Tcheou, today Guizhou, 贵州, \n",
      "deh-r1644-pequim-provincia Pequim Q956 \n",
      "  Pequim, Q956 today 北京, Peking (Shuntien) (1598), 1601\n",
      "    Chala Q4578286 Chala (cimetière et chapelle)\n",
      "    Tacheng Q1156678 Ta-tch'eng,today Dacheng, 大城县. \n",
      "    Tientsin Q11736 T'ien-tsin,Tienchin, today Tianjin, 天津, Tientsin\n",
      "    Tungchow Q393836 T'ong-tcheou, today Tongzhou, 通州, ?\n",
      "  Chengting Q197678 Tcheng-ting, today Zhengding, 正定, \n",
      "    Tingchow Q645183 Ting tcheou, today Dingzhou, 定州, \n",
      "  Hokien Q1601618 Ho-kien, today Hejian, 河间, \n",
      "    Ningtsin Q1197955 Ning-tsin,Ningchin, today Ningjin, 宁津, \n",
      "    Wukiao Q474923 Ou-k'iao,Wuchiao,today Wuqiao, 吴桥, \n",
      "  Paoting Q58584 Paoting (Tsingyüan), today Baoding, 保定, \n",
      "    Kaoyang Q1196631 Kao-yang, today Gaoyang, 高阳, \n",
      "    Shulu Q1015480 Chou-lou, today Shulu, 束鹿, , Now the city name is Xinji 辛集. Wikidata code is that of Xinji\n",
      "deh-r1644-shansi Shansi Q46913 Chan-si, today Shanxi, 山西, \n",
      "  Taiyuan Q72778 T'ai-yuen, today Taiyuan, 太原, \n",
      "    Pingting Q1196978 P'ing-ting, today Pingding, 平定州, , Now it is Pingding County 平定县Pingting tcheou\n",
      "  Pingyang Q73156 P'ing-yang, today Pingyang Fu, 平阳府, wikidata:Q15905472, historical administrative division. Now it is in Linfen 临汾 Pingyang (Linfen)\n",
      "    Kiangchow Q1197219 Chiangchou, today Jiangzhou, 绛州, , historical administrative division. Now it is Xinjiang 新绛. Wikidata code is that of 新绛\n",
      "    Kianghsien Q1197307 Kiang hien, today Jiangxian, 绛县, Kianghsien (au Sud de Kiangchow)\n",
      "    Kuwo Q1332080 K'iu-wo,Chüwu, Quwo, 曲沃, \n",
      "    Puchow Q14105968 P'ou-tcheou, today Puzhou, 蒲州, today Q14105968, pas encore fou\n",
      "    Siahsien Q612136 Hia hien, today Xiaxian, 夏县, , Dehergne(1957) noted it as “夏县”. In the Chinese translation, it is recognized as \"隰县\",which is wrong.\n",
      "    Taiping Q18111423 today Taiping, 太平,  (no coord.), historical administrative division. Now its administrative center is Fencheng 汾城, wikidata:Q11137504 (coordinates: 35°49'10\"N, 111°16'20\"E)Taiping (Fencheng)\n",
      "  Tsechow Q197104 today Fencheng, 汾城, \n",
      "    Tsishan Q197104 today Zezhou, 泽州, \n",
      "    Yungtsi Q473451 Tsi-chan,Chishan, today Jishan, 稷山, \n",
      "deh-r1644-shangtung Shangtung Q43407 Chan-tong, Shandong, 山东, \n",
      "  Tsinan Q170247 Tsi-nan, today Jinan, 济南, \n",
      "    Taian Q217681 T'ai-ngan, today Tai'an, 泰安, Taian tcheou\n",
      "    Kwanchang No wikidata (?) In Dehergne(1957), there is no \"Kwanchang\". In the Chinese translation, it is recognized as “官昌”，but cannot be found in the map.\n",
      "    Manchwang Q14782428 Muon choam, today Manzhuang, 满庄, \n",
      "    Tsiho Q1198234 today Qihe, 齐河, \n",
      "    Wuting Q17008118 \"\"\"Ou-ting, today Wuding, 武定,  (no coord.) located in today's Huimin County (coordinates: 37°28'44\"N, 117°29'52\"E)\"\"\"[Wuting, alors tcheou, Hweimin]\n",
      "    Pinchow Q373687 \n",
      "    Yucheng Q373687 Pin-tcheou, today Binzhou, 滨州, \n",
      "  Tengchow Q10428329 Teng-tcheou, today Dengzhou, 登州, Tengchow (Penglai)\n",
      "  Tsingchow Q1360781 Ts'ing-tcheou, Chingchou, today Qingzhou, 青州, Tsingchow (Yitu)\n",
      "  Tungchang Q10870440 Tong-tch'ang, today Dungchang, 东昌, \n",
      "    Peichingtien No wikidata (?) Dehergne(1957)did not give the Chinese name of Peichingtien.In the Chinese translation, it is recognized as “北辛店村”，but the pronunciation dose not match. In addition, the “北辛店村”of Shandong is far from Dongchang.\n",
      "    Lintsing Q1207099 Lin-ts'ing,Linching, today Linqing, 临清, Lintsing tcheou\n",
      "deh-r1644-shensi Shensi Q47974 Chen-si , today Shaanxi @dehergne:399\n",
      "  Sian Q5826 Hsian, today Xi'an, 西安, Sun (Changan)\n",
      "    Chowchih Q198072 today Zhouzhi, 周至, , In the Chinese translation, it is written as “盩厔”. Before 1964, 周至was written as “盩厔”.\n",
      "    Kaoling Q280060 Kao-ling, today Gaoling, 高陵, \n",
      "    Kiao-tou No wikidata Kiao-tou (ou Tungyüanfang) Kiao-tou and Tungyüanfang are the same place. The Chinese translation recognized it as “贾都”, which might be wrong, as “贾都” cannot be found. Tungyüanfang in the Chinese reanslation it is recognized as “东院房”, but in Dehergne(1957), it is noted as \"通远坊\". And there is a \"通远天主堂\"(Tongyuan Catholic Church) there, coordinates: 34.55258137628194N,109.04672038131238E\n",
      "    Hwachow Q727188 How-tcheou, today Huazhou, 华州, \n",
      "    Sanyuan Q1201362 Sanyuan, 三原, \n",
      "    Shangchow Q1339355 Changtcheou, today Shangzhou, 商州, \n",
      "  Hanchung Q515573 How-tcheou, today Huazhou, 华州, Hanchung (Nancheng)\n",
      "    Chengku Q1069968 Tch'eng-kou, today Chenggu, 城固, \n",
      "    Siao tchai tse No wikidata (?) In Dehergne(1957), it is noted as \"小塞子\", and in the Chinese translation, it is recognized as \"小寨子村\"。 But both places are not “ près de Cheng” as said in Dehergne(1957).\n",
      "    Yanghsien Q1201504 Yang Hien, today Yangxian, 洋县, \n",
      "deh-r1644-szechwan Szechwan Q19770 Se-tch'oan, today Sichuan, 四川, \n",
      "  Chengtu Q30002 Tch'eng-tou, today Chengdu, 成都, today Chengtu (Hwayang)\n",
      "    Mienchow Q10475921 Mien tcheou, today Mianzhou, 绵州, today  (no coord.) Mienchow is an historical administrative division, now it is located in the city of Mianyang (Q426130, coordinates: 31°28'1\"N, 104°44'18\"E)\n",
      "  Chungking Q11725 Tch'ong-K'ing,Chungching, today Chongqing, 重庆, Chungking (Pahsien)\n",
      "  Paoning Q10887586 \"\"\"Pao-ning, today Baoning, 保宁,  (no coord.), 保宁府 historical administrative division of China, where 阆中 was in (same as Langzhong: Q1200170 coordinates: 31°35'0\"N, 105°58'19\"E\"\"\")Paoning (Langchung)\n",
      "deh-r1644-yunnan Yunnan Q43194 today Yunnan, 云南, \n"
     ]
    }
   ],
   "source": [
    "import pandas as pd\n",
    "from sqlalchemy import select\n",
    "\n",
    "geo1, geo2, geo3 = tlnb.db.get_model(['geo1','geo2','geo3'])\n",
    "stmt = select(geo1).where(geo1.inside == 'deh-chre-1644')\n",
    "\n",
    "place_list = []\n",
    "\n",
    "with tlnb.db.session() as session:\n",
    "    result = session.execute(stmt).fetchall()\n",
    "    for province, in result:\n",
    "        comment, wikidata = get_wikidata_id(province, if_missing='No wikidata')\n",
    "        print(province.id, province.name, wikidata, comment)\n",
    "        place_list.append({'province': province.name,\n",
    "                           'id': province.id,\n",
    "                           'level': 'province',\n",
    "                           'name': province.name,\n",
    "                           'name_original': province.with_extra_info().name,\n",
    "                           'province_wikidata_id': wikidata,\n",
    "                           'wikidata_id': wikidata,\n",
    "                           'comment': comment})\n",
    "        fous = session.execute(select(geo2).where(geo2.inside == province.id)).fetchall()\n",
    "        province_wikdata = wikidata\n",
    "        for fou, in fous:\n",
    "\n",
    "            comment, wikidata = get_wikidata_id(fou, if_missing='No wikidata')\n",
    "            print(' ', fou.name,  wikidata, comment)\n",
    "            place_list.append({'province': province.name,\n",
    "                               'province_id': province.id,\n",
    "                               'province_wikidata_id': province_wikdata,\n",
    "                               'id': fou.id,\n",
    "                               'level': 'fou',\n",
    "                               'fou':fou.name,\n",
    "                               'name': fou.name,\n",
    "                               'name_original': fou.with_extra_info().name,\n",
    "                               'fou_wikidata_id': wikidata,\n",
    "                               'wikidata_id': wikidata,\n",
    "                               'comment': comment})\n",
    "            geo3s = session.execute(select(geo3).where(geo3.inside == fou.id)).fetchall()\n",
    "            fou_wikidata = wikidata\n",
    "            for tcheou_hien, in geo3s:\n",
    "                comment, wikidata = get_wikidata_id(tcheou_hien, if_missing='No wikidata')\n",
    "                print('   ', tcheou_hien.name, wikidata,comment,  )\n",
    "                place_list.append({'province': province.name,\n",
    "                                    'province_id': province.id,\n",
    "                                    'province_wikidata_id': province_wikdata,\n",
    "                                    'fou_id': fou.id,\n",
    "                                    'fou_wikidata_id': fou_wikidata,\n",
    "                                    'id': tcheou_hien.id,\n",
    "                                    'level': 'tcheou-hien',\n",
    "                                    'fou':fou.name,\n",
    "                                    'name': tcheou_hien.name,\n",
    "                                    'name_original': tcheou_hien.with_extra_info().name,\n",
    "                                    'wikidata_id': wikidata,\n",
    "                                    'comment': comment})\n"
   ]
  },
  {
   "cell_type": "markdown",
   "metadata": {},
   "source": [
    "Show one place in kleio"
   ]
  },
  {
   "cell_type": "code",
   "execution_count": 941,
   "metadata": {},
   "outputs": [
    {
     "name": "stdout",
     "output_type": "stream",
     "text": [
      "geo2$Chüanchow#Quanzhou, Ts'iuen-tcheou, today Quanzhou, 泉州, @wikidata:Q68695/geo2\n",
      "  atr$activa/sim/1625#cerca de\n",
      "  atr$residencia-missao/Dominicanos/1632\n",
      "  atr$geoentity:name@wikidata/\"https://www.wikidata.org/wiki/Q68695\"#Quanzhou, Ts'iuen-tcheou, today Quanzhou, 泉州, @wikidata:Q68695%Q68695/1644\n",
      "  atr$residencia-missao/Jesuíta/<1645#antes de\n",
      "  geo3$Amoy#Hia-men,Shamen, today Xiamen, 厦门, @wikidata:Q68744,%Amoy (Szeming)/geo3\n",
      "    atr$residencia-missao/Dominicanos/1594%tentatives OP 1594\n",
      "    atr$geoentity:name@wikidata/\"https://www.wikidata.org/wiki/Q68744\"#Hia-men,Shamen, today Xiamen, 厦门, @wikidata:Q68744,%Q68744/1644\n",
      "    atr$alternative-name@wikidata/\"https://www.wikidata.org/wiki/Q1374907\"%Siming/1644\n",
      "    atr$alternative-name/Siming#today 思明, @wikidata:Q1374907, Siming is the historical name and the current central district of Xiamen in the Chinese translation it is written as“四明” (wrong character)/1644\n",
      "  geo3$Anhai#Ngan-hai,today Anhai,安海, @wikidata:Q4764330%principaux bourgs/geo3\n",
      "    atr$activa/sim/1634\n",
      "    atr$geoentity:name@wikidata/\"https://www.wikidata.org/wiki/Q4764330\"#Ngan-hai,today Anhai,安海, @wikidata:Q4764330%Q4764330/1644\n",
      "  geo3$Hweian#Hoei-ngan, today Hui'an, 惠安, @wikidata:Q1374978/geo3\n",
      "    atr$activa/sim/1636\n",
      "    atr$geoentity:name@wikidata/\"https://www.wikidata.org/wiki/Q1374978\"#Hoei-ngan, today Hui'an, 惠安, @wikidata:Q1374978%Q1374978/1644\n",
      "  geo3$Tsingkiang#\"\"\"Chingchiang ,Tsin-kiang, today Jingjiang, 靖江, @wikidata:Q128883. In the original book (Dehergne, 1973), it is written as \"Tsinkiang\" (without g), which is wrongly spelled, because from both phonetic and geographical points of view, it should be Tsingkiang 靖江. In Dehergne(1973), it is written as Tsingjiang. And in the Chinese translation, it is also recognized as \"靖江\".\"\"\"%Tsinkiang/geo3\n",
      "    atr$activa/sim/1635\n",
      "    atr$geoentity:name@wikidata/\"https://www.wikidata.org/wiki/Q128883\"#\"\"\"Chingchiang ,Tsin-kiang, today Jingjiang, 靖江, @wikidata:Q128883. In the original book (Dehergne, 1973), it is written as \"Tsinkiang\" (without g), which is wrongly spelled, because from both phonetic and geographical points of view, it should be Tsingkiang 靖江. In Dehergne(1973), it is written as Tsingjiang. And in the Chinese translation, it is also recognized as \"靖江\".\"\"\"%Q128883/1644\n",
      "  geo3$Yungchun#Yong-tch'oen,Yungchin, today Yongchun, 永春, @wikidata:Q1337868/geo3\n",
      "    atr$activa/sim/1635\n",
      "    atr$geoentity:name@wikidata/\"https://www.wikidata.org/wiki/Q1337868\"#Yong-tch'oen,Yungchin, today Yongchun, 永春, @wikidata:Q1337868%Q1337868/1644\n"
     ]
    }
   ],
   "source": [
    "place_kleio_id = \"deh-r1644-chuanchow\"\n",
    "\n",
    "from timelink.api.models import Geoentity\n",
    "\n",
    "with tlnb.db.session() as session:\n",
    "    geo_place = session.get(Geoentity, place_kleio_id)\n",
    "    print(geo_place.to_kleio(show_contained=True))\n",
    "\n"
   ]
  },
  {
   "cell_type": "code",
   "execution_count": 942,
   "metadata": {},
   "outputs": [
    {
     "name": "stdout",
     "output_type": "stream",
     "text": [
      "<class 'pandas.core.frame.DataFrame'>\n",
      "RangeIndex: 215 entries, 0 to 214\n",
      "Data columns (total 12 columns):\n",
      " #   Column                Non-Null Count  Dtype \n",
      "---  ------                --------------  ----- \n",
      " 0   province              215 non-null    object\n",
      " 1   id                    215 non-null    object\n",
      " 2   level                 215 non-null    object\n",
      " 3   name                  215 non-null    object\n",
      " 4   name_original         215 non-null    object\n",
      " 5   province_wikidata_id  215 non-null    object\n",
      " 6   wikidata_id           215 non-null    object\n",
      " 7   comment               215 non-null    object\n",
      " 8   province_id           197 non-null    object\n",
      " 9   fou                   197 non-null    object\n",
      " 10  fou_wikidata_id       197 non-null    object\n",
      " 11  fou_id                135 non-null    object\n",
      "dtypes: object(12)\n",
      "memory usage: 20.3+ KB\n"
     ]
    },
    {
     "data": {
      "text/html": [
       "<div>\n",
       "<style scoped>\n",
       "    .dataframe tbody tr th:only-of-type {\n",
       "        vertical-align: middle;\n",
       "    }\n",
       "\n",
       "    .dataframe tbody tr th {\n",
       "        vertical-align: top;\n",
       "    }\n",
       "\n",
       "    .dataframe thead th {\n",
       "        text-align: right;\n",
       "    }\n",
       "</style>\n",
       "<table border=\"1\" class=\"dataframe\">\n",
       "  <thead>\n",
       "    <tr style=\"text-align: right;\">\n",
       "      <th></th>\n",
       "      <th>year</th>\n",
       "      <th>id</th>\n",
       "      <th>level</th>\n",
       "      <th>province</th>\n",
       "      <th>fou</th>\n",
       "      <th>name</th>\n",
       "      <th>name_original</th>\n",
       "      <th>province_wikidata_id</th>\n",
       "      <th>fou_wikidata_id</th>\n",
       "      <th>wikidata_id</th>\n",
       "      <th>comment</th>\n",
       "    </tr>\n",
       "  </thead>\n",
       "  <tbody>\n",
       "    <tr>\n",
       "      <th>89</th>\n",
       "      <td>1644</td>\n",
       "      <td>deh-r1644-chuchow-tcheou</td>\n",
       "      <td>fou</td>\n",
       "      <td>Anhwei</td>\n",
       "      <td>Chuchow</td>\n",
       "      <td>Chuchow</td>\n",
       "      <td>Chuchow%Chuchow, today Chuzhou, 滁州, @wikidata:...</td>\n",
       "      <td>Q40956</td>\n",
       "      <td>Q114045</td>\n",
       "      <td>Q114045</td>\n",
       "      <td>Chuchow, today Chuzhou, 滁州,</td>\n",
       "    </tr>\n",
       "    <tr>\n",
       "      <th>90</th>\n",
       "      <td>1644</td>\n",
       "      <td>deh-r1644-hweichow</td>\n",
       "      <td>fou</td>\n",
       "      <td>Anhwei</td>\n",
       "      <td>Hweichow</td>\n",
       "      <td>Hweichow</td>\n",
       "      <td>Hweichow#Hoei-tcheou, today Huizhou, 徽州, @wiki...</td>\n",
       "      <td>Q40956</td>\n",
       "      <td>Q4358404</td>\n",
       "      <td>Q4358404</td>\n",
       "      <td>Hoei-tcheou, today Huizhou, 徽州,</td>\n",
       "    </tr>\n",
       "    <tr>\n",
       "      <th>92</th>\n",
       "      <td>1644</td>\n",
       "      <td>deh-r1644-tungment</td>\n",
       "      <td>tcheou-hien</td>\n",
       "      <td>Anhwei</td>\n",
       "      <td>Hweichow</td>\n",
       "      <td>Tungmen</td>\n",
       "      <td>Tungmen#\"\"\"(?) In Dehergne(1957, p51): \"Chréti...</td>\n",
       "      <td>Q40956</td>\n",
       "      <td>Q4358404</td>\n",
       "      <td>No wikidata</td>\n",
       "      <td>(?) In Dehergne(1957, p51): \"Chrétienté au Wuy...</td>\n",
       "    </tr>\n",
       "    <tr>\n",
       "      <th>91</th>\n",
       "      <td>1644</td>\n",
       "      <td>deh-r1644-wuyan-hien</td>\n",
       "      <td>tcheou-hien</td>\n",
       "      <td>Anhwei</td>\n",
       "      <td>Hweichow</td>\n",
       "      <td>Wuyan hien</td>\n",
       "      <td>Wuyan hien#Ou-yuen, today Wuyuan Xian, 婺源县, @w...</td>\n",
       "      <td>Q40956</td>\n",
       "      <td>Q4358404</td>\n",
       "      <td>Q1357710</td>\n",
       "      <td>Ou-yuen, today Wuyuan Xian, 婺源县, , Wuyuan hist...</td>\n",
       "    </tr>\n",
       "    <tr>\n",
       "      <th>88</th>\n",
       "      <td>1644</td>\n",
       "      <td>deh-r1644-anhwei</td>\n",
       "      <td>province</td>\n",
       "      <td>Anhwei</td>\n",
       "      <td>NaN</td>\n",
       "      <td>Anhwei</td>\n",
       "      <td>Anhwei#Anhui, Ngon-hoei, today Anhui, 安徽, @wik...</td>\n",
       "      <td>Q40956</td>\n",
       "      <td>NaN</td>\n",
       "      <td>Q40956</td>\n",
       "      <td>Anhui, Ngon-hoei, today Anhui, 安徽,</td>\n",
       "    </tr>\n",
       "  </tbody>\n",
       "</table>\n",
       "</div>"
      ],
      "text/plain": [
       "    year                        id        level province       fou  \\\n",
       "89  1644  deh-r1644-chuchow-tcheou          fou   Anhwei   Chuchow   \n",
       "90  1644        deh-r1644-hweichow          fou   Anhwei  Hweichow   \n",
       "92  1644        deh-r1644-tungment  tcheou-hien   Anhwei  Hweichow   \n",
       "91  1644      deh-r1644-wuyan-hien  tcheou-hien   Anhwei  Hweichow   \n",
       "88  1644          deh-r1644-anhwei     province   Anhwei       NaN   \n",
       "\n",
       "          name                                      name_original  \\\n",
       "89     Chuchow  Chuchow%Chuchow, today Chuzhou, 滁州, @wikidata:...   \n",
       "90    Hweichow  Hweichow#Hoei-tcheou, today Huizhou, 徽州, @wiki...   \n",
       "92     Tungmen  Tungmen#\"\"\"(?) In Dehergne(1957, p51): \"Chréti...   \n",
       "91  Wuyan hien  Wuyan hien#Ou-yuen, today Wuyuan Xian, 婺源县, @w...   \n",
       "88      Anhwei  Anhwei#Anhui, Ngon-hoei, today Anhui, 安徽, @wik...   \n",
       "\n",
       "   province_wikidata_id fou_wikidata_id  wikidata_id  \\\n",
       "89               Q40956         Q114045      Q114045   \n",
       "90               Q40956        Q4358404     Q4358404   \n",
       "92               Q40956        Q4358404  No wikidata   \n",
       "91               Q40956        Q4358404     Q1357710   \n",
       "88               Q40956             NaN       Q40956   \n",
       "\n",
       "                                              comment  \n",
       "89                       Chuchow, today Chuzhou, 滁州,   \n",
       "90                   Hoei-tcheou, today Huizhou, 徽州,   \n",
       "92  (?) In Dehergne(1957, p51): \"Chrétienté au Wuy...  \n",
       "91  Ou-yuen, today Wuyuan Xian, 婺源县, , Wuyuan hist...  \n",
       "88                Anhui, Ngon-hoei, today Anhui, 安徽,   "
      ]
     },
     "execution_count": 942,
     "metadata": {},
     "output_type": "execute_result"
    }
   ],
   "source": [
    "pd.set_option('display.max_rows', 300)\n",
    "# create a dataframe from the list\n",
    "places_1644_df = pd.DataFrame(place_list)\n",
    "places_1644_df.info()\n",
    "places_1644_df['year'] = 1644\n",
    "cols=['year','id','level','province',  'fou','name', 'name_original', 'province_wikidata_id', 'fou_wikidata_id','wikidata_id', 'comment']\n",
    "places_1644_df[cols].sort_values(by=['province', 'fou', 'name']).head()"
   ]
  },
  {
   "cell_type": "markdown",
   "metadata": {},
   "source": [
    "Export list of residences in 1644 to a file and list of wikidata\n",
    "ids so they can be used to fetch coordinates and other information.\n",
    "\n",
    "Ensure that notebook `wikidata-linked-data.ipynb` has been run after the next cell to update cache of linked data.\n"
   ]
  },
  {
   "cell_type": "code",
   "execution_count": 943,
   "metadata": {},
   "outputs": [],
   "source": [
    "places_1644_df.to_excel('../inferences/residences-1644.xlsx', index=False)\n",
    "# save to wikidata ids directory\n",
    "places_1644_df['wikidata_id'].to_csv('../inferences/wikidata-references/residences-1644.csv', index=False)"
   ]
  },
  {
   "cell_type": "markdown",
   "metadata": {},
   "source": [
    "### Load wikidata data\n",
    "\n",
    "Requires that `wikidata-linked-data.ipynb` has been run first to generate the `locations_wikidata_info` file used here.\n"
   ]
  },
  {
   "cell_type": "code",
   "execution_count": 944,
   "metadata": {},
   "outputs": [
    {
     "name": "stdout",
     "output_type": "stream",
     "text": [
      "Loading locations wikidata info from ../inferences/wikidata-references/locations_wikidata_info.xlsx\n"
     ]
    },
    {
     "data": {
      "text/html": [
       "<div>\n",
       "<style scoped>\n",
       "    .dataframe tbody tr th:only-of-type {\n",
       "        vertical-align: middle;\n",
       "    }\n",
       "\n",
       "    .dataframe tbody tr th {\n",
       "        vertical-align: top;\n",
       "    }\n",
       "\n",
       "    .dataframe thead th {\n",
       "        text-align: right;\n",
       "    }\n",
       "</style>\n",
       "<table border=\"1\" class=\"dataframe\">\n",
       "  <thead>\n",
       "    <tr style=\"text-align: right;\">\n",
       "      <th></th>\n",
       "      <th>level</th>\n",
       "      <th>province</th>\n",
       "      <th>fou</th>\n",
       "      <th>name</th>\n",
       "      <th>wikidata_id</th>\n",
       "      <th>coordinates</th>\n",
       "      <th>latitude</th>\n",
       "      <th>longitude</th>\n",
       "      <th>comment</th>\n",
       "      <th>province_wikidata_id</th>\n",
       "      <th>fou_wikidata_id</th>\n",
       "    </tr>\n",
       "  </thead>\n",
       "  <tbody>\n",
       "    <tr>\n",
       "      <th>89</th>\n",
       "      <td>fou</td>\n",
       "      <td>Anhwei</td>\n",
       "      <td>Chuchow</td>\n",
       "      <td>Chuchow</td>\n",
       "      <td>Q114045</td>\n",
       "      <td>(32.30621, 118.31148)</td>\n",
       "      <td>32.30621</td>\n",
       "      <td>118.31148</td>\n",
       "      <td>Chuchow, today Chuzhou, 滁州,</td>\n",
       "      <td>Q40956</td>\n",
       "      <td>Q114045</td>\n",
       "    </tr>\n",
       "    <tr>\n",
       "      <th>90</th>\n",
       "      <td>fou</td>\n",
       "      <td>Anhwei</td>\n",
       "      <td>Hweichow</td>\n",
       "      <td>Hweichow</td>\n",
       "      <td>Q4358404</td>\n",
       "      <td>(29.869722222222222, 118.42194444444445)</td>\n",
       "      <td>29.86972222222222</td>\n",
       "      <td>118.4219444444444</td>\n",
       "      <td>Hoei-tcheou, today Huizhou, 徽州,</td>\n",
       "      <td>Q40956</td>\n",
       "      <td>Q4358404</td>\n",
       "    </tr>\n",
       "    <tr>\n",
       "      <th>92</th>\n",
       "      <td>tcheou-hien</td>\n",
       "      <td>Anhwei</td>\n",
       "      <td>Hweichow</td>\n",
       "      <td>Tungmen</td>\n",
       "      <td>No wikidata</td>\n",
       "      <td>NaN</td>\n",
       "      <td>NaN</td>\n",
       "      <td>NaN</td>\n",
       "      <td>(?) In Dehergne(1957, p51): \"Chrétienté au Wuy...</td>\n",
       "      <td>Q40956</td>\n",
       "      <td>Q4358404</td>\n",
       "    </tr>\n",
       "    <tr>\n",
       "      <th>91</th>\n",
       "      <td>tcheou-hien</td>\n",
       "      <td>Anhwei</td>\n",
       "      <td>Hweichow</td>\n",
       "      <td>Wuyan hien</td>\n",
       "      <td>Q1357710</td>\n",
       "      <td>(29.25, 117.85)</td>\n",
       "      <td>29.25</td>\n",
       "      <td>117.85</td>\n",
       "      <td>Ou-yuen, today Wuyuan Xian, 婺源县, , Wuyuan hist...</td>\n",
       "      <td>Q40956</td>\n",
       "      <td>Q4358404</td>\n",
       "    </tr>\n",
       "    <tr>\n",
       "      <th>88</th>\n",
       "      <td>province</td>\n",
       "      <td>Anhwei</td>\n",
       "      <td>NaN</td>\n",
       "      <td>Anhwei</td>\n",
       "      <td>Q40956</td>\n",
       "      <td>(31.833333333333, 117)</td>\n",
       "      <td>31.833333333333</td>\n",
       "      <td>117</td>\n",
       "      <td>Anhui, Ngon-hoei, today Anhui, 安徽,</td>\n",
       "      <td>Q40956</td>\n",
       "      <td>NaN</td>\n",
       "    </tr>\n",
       "    <tr>\n",
       "      <th>4</th>\n",
       "      <td>fou</td>\n",
       "      <td>Chekiang</td>\n",
       "      <td>Chüchow</td>\n",
       "      <td>Chüchow</td>\n",
       "      <td>Q58235</td>\n",
       "      <td>(28.95445, 118.8763)</td>\n",
       "      <td>28.95445</td>\n",
       "      <td>118.8763</td>\n",
       "      <td>K'iu-tcheou, today Quzhou, 衢州, , in the Chines...</td>\n",
       "      <td>Q16967</td>\n",
       "      <td>Q58235</td>\n",
       "    </tr>\n",
       "    <tr>\n",
       "      <th>2</th>\n",
       "      <td>tcheou-hien</td>\n",
       "      <td>Chekiang</td>\n",
       "      <td>Hangchou</td>\n",
       "      <td>Fuyang</td>\n",
       "      <td>Q1011103</td>\n",
       "      <td>(30.04998, 119.93697)</td>\n",
       "      <td>30.04998</td>\n",
       "      <td>119.93697</td>\n",
       "      <td>Fou-yang, today Fuyang, 富阳,</td>\n",
       "      <td>Q16967</td>\n",
       "      <td>Q4970</td>\n",
       "    </tr>\n",
       "    <tr>\n",
       "      <th>1</th>\n",
       "      <td>fou</td>\n",
       "      <td>Chekiang</td>\n",
       "      <td>Hangchou</td>\n",
       "      <td>Hangchou</td>\n",
       "      <td>Q4970</td>\n",
       "      <td>(30.25, 120.1675)</td>\n",
       "      <td>30.25</td>\n",
       "      <td>120.1675</td>\n",
       "      <td>Hang-tcheou, today Hangzhou, 杭州,</td>\n",
       "      <td>Q16967</td>\n",
       "      <td>Q4970</td>\n",
       "    </tr>\n",
       "    <tr>\n",
       "      <th>3</th>\n",
       "      <td>tcheou-hien</td>\n",
       "      <td>Chekiang</td>\n",
       "      <td>Hangchou</td>\n",
       "      <td>Jenho</td>\n",
       "      <td>Q9385136</td>\n",
       "      <td>NaN</td>\n",
       "      <td>NaN</td>\n",
       "      <td>NaN</td>\n",
       "      <td>Jen-houo, today Renhe, 仁和县 (), Historical coun...</td>\n",
       "      <td>Q16967</td>\n",
       "      <td>Q4970</td>\n",
       "    </tr>\n",
       "    <tr>\n",
       "      <th>5</th>\n",
       "      <td>fou</td>\n",
       "      <td>Chekiang</td>\n",
       "      <td>Huchow</td>\n",
       "      <td>Huchow</td>\n",
       "      <td>Q42664</td>\n",
       "      <td>(30.8925, 120.0875)</td>\n",
       "      <td>30.8925</td>\n",
       "      <td>120.0875</td>\n",
       "      <td>Hou-tcheou, today Huzhou, 湖州,</td>\n",
       "      <td>Q16967</td>\n",
       "      <td>Q42664</td>\n",
       "    </tr>\n",
       "    <tr>\n",
       "      <th>6</th>\n",
       "      <td>tcheou-hien</td>\n",
       "      <td>Chekiang</td>\n",
       "      <td>Huchow</td>\n",
       "      <td>Tehtsing</td>\n",
       "      <td>Q1191987</td>\n",
       "      <td>(30.53808, 119.96297)</td>\n",
       "      <td>30.53808</td>\n",
       "      <td>119.96297</td>\n",
       "      <td>\"Tehtsing du Huchow, Té-ts'ingTeching# today D...</td>\n",
       "      <td>Q16967</td>\n",
       "      <td>Q42664</td>\n",
       "    </tr>\n",
       "    <tr>\n",
       "      <th>8</th>\n",
       "      <td>tcheou-hien</td>\n",
       "      <td>Chekiang</td>\n",
       "      <td>Kashing</td>\n",
       "      <td>Kashan</td>\n",
       "      <td>Q1361347</td>\n",
       "      <td>(30.84525, 120.9164)</td>\n",
       "      <td>30.84525</td>\n",
       "      <td>120.9164</td>\n",
       "      <td>Kia-chan, today Jiashan, 嘉善, Kaosham</td>\n",
       "      <td>Q16967</td>\n",
       "      <td>Q58178</td>\n",
       "    </tr>\n",
       "    <tr>\n",
       "      <th>7</th>\n",
       "      <td>fou</td>\n",
       "      <td>Chekiang</td>\n",
       "      <td>Kashing</td>\n",
       "      <td>Kashing</td>\n",
       "      <td>Q58178</td>\n",
       "      <td>(30.7522, 120.75)</td>\n",
       "      <td>30.7522</td>\n",
       "      <td>120.75</td>\n",
       "      <td>Kia-hing, today Jiaxing, 嘉兴,</td>\n",
       "      <td>Q16967</td>\n",
       "      <td>Q58178</td>\n",
       "    </tr>\n",
       "    <tr>\n",
       "      <th>9</th>\n",
       "      <td>tcheou-hien</td>\n",
       "      <td>Chekiang</td>\n",
       "      <td>Kashing</td>\n",
       "      <td>Tangsi</td>\n",
       "      <td>Q10931032</td>\n",
       "      <td>(30.4783, 120.18254)</td>\n",
       "      <td>30.4783</td>\n",
       "      <td>120.18254</td>\n",
       "      <td>\"T'ang-k'i Tangchi\", today Tangqi, 塘栖 , in the...</td>\n",
       "      <td>Q16967</td>\n",
       "      <td>Q58178</td>\n",
       "    </tr>\n",
       "    <tr>\n",
       "      <th>10</th>\n",
       "      <td>tcheou-hien</td>\n",
       "      <td>Chekiang</td>\n",
       "      <td>Kashing</td>\n",
       "      <td>Tsungteh</td>\n",
       "      <td>Q10270889</td>\n",
       "      <td>(30.530555555555555, 120.43555555555555)</td>\n",
       "      <td>30.53055555555556</td>\n",
       "      <td>120.4355555555556</td>\n",
       "      <td>Tch'ong-té,today Chongde, 崇德县 , Historical cou...</td>\n",
       "      <td>Q16967</td>\n",
       "      <td>Q58178</td>\n",
       "    </tr>\n",
       "    <tr>\n",
       "      <th>11</th>\n",
       "      <td>tcheou-hien</td>\n",
       "      <td>Chekiang</td>\n",
       "      <td>Kashing</td>\n",
       "      <td>Tungsiang</td>\n",
       "      <td>Q1204548</td>\n",
       "      <td>(30.6326, 120.54744)</td>\n",
       "      <td>30.6326</td>\n",
       "      <td>120.54744</td>\n",
       "      <td>T'ong-hiang, today Tongxiang, 桐乡,</td>\n",
       "      <td>Q16967</td>\n",
       "      <td>Q58178</td>\n",
       "    </tr>\n",
       "    <tr>\n",
       "      <th>12</th>\n",
       "      <td>fou</td>\n",
       "      <td>Chekiang</td>\n",
       "      <td>Kinhwa</td>\n",
       "      <td>Kinhwa</td>\n",
       "      <td>Q58210</td>\n",
       "      <td>(29.10462, 119.64937)</td>\n",
       "      <td>29.10462</td>\n",
       "      <td>119.64937</td>\n",
       "      <td>Kin-hoa,Chinhua,today Jinhua, 金华,</td>\n",
       "      <td>Q16967</td>\n",
       "      <td>Q58210</td>\n",
       "    </tr>\n",
       "    <tr>\n",
       "      <th>13</th>\n",
       "      <td>tcheou-hien</td>\n",
       "      <td>Chekiang</td>\n",
       "      <td>Kinhwa</td>\n",
       "      <td>Lanchi</td>\n",
       "      <td>Q1023793</td>\n",
       "      <td>(29.216667, 119.472222)</td>\n",
       "      <td>29.216667</td>\n",
       "      <td>119.472222</td>\n",
       "      <td>(qui deviendra em 1656 R des OP)Lan-k'i， today...</td>\n",
       "      <td>Q16967</td>\n",
       "      <td>Q58210</td>\n",
       "    </tr>\n",
       "    <tr>\n",
       "      <th>14</th>\n",
       "      <td>tcheou-hien</td>\n",
       "      <td>Chekiang</td>\n",
       "      <td>Kinhwa</td>\n",
       "      <td>Tungyang</td>\n",
       "      <td>Q1023774</td>\n",
       "      <td>(29.27853, 120.22822)</td>\n",
       "      <td>29.27853</td>\n",
       "      <td>120.22822</td>\n",
       "      <td>Tong-yang, today Dongyang, 东阳,</td>\n",
       "      <td>Q16967</td>\n",
       "      <td>Q58210</td>\n",
       "    </tr>\n",
       "    <tr>\n",
       "      <th>15</th>\n",
       "      <td>fou</td>\n",
       "      <td>Chekiang</td>\n",
       "      <td>Ningpo</td>\n",
       "      <td>Ningpo</td>\n",
       "      <td>Q42780</td>\n",
       "      <td>(29.875, 121.54916666667)</td>\n",
       "      <td>29.875</td>\n",
       "      <td>121.54916666667</td>\n",
       "      <td>(v. 1540?)Ning-pouo,today Ningbo, 宁波,</td>\n",
       "      <td>Q16967</td>\n",
       "      <td>Q42780</td>\n",
       "    </tr>\n",
       "  </tbody>\n",
       "</table>\n",
       "</div>"
      ],
      "text/plain": [
       "          level  province       fou        name  wikidata_id  \\\n",
       "89          fou    Anhwei   Chuchow     Chuchow      Q114045   \n",
       "90          fou    Anhwei  Hweichow    Hweichow     Q4358404   \n",
       "92  tcheou-hien    Anhwei  Hweichow     Tungmen  No wikidata   \n",
       "91  tcheou-hien    Anhwei  Hweichow  Wuyan hien     Q1357710   \n",
       "88     province    Anhwei       NaN      Anhwei       Q40956   \n",
       "4           fou  Chekiang   Chüchow     Chüchow       Q58235   \n",
       "2   tcheou-hien  Chekiang  Hangchou      Fuyang     Q1011103   \n",
       "1           fou  Chekiang  Hangchou    Hangchou        Q4970   \n",
       "3   tcheou-hien  Chekiang  Hangchou       Jenho     Q9385136   \n",
       "5           fou  Chekiang    Huchow      Huchow       Q42664   \n",
       "6   tcheou-hien  Chekiang    Huchow    Tehtsing     Q1191987   \n",
       "8   tcheou-hien  Chekiang   Kashing      Kashan     Q1361347   \n",
       "7           fou  Chekiang   Kashing     Kashing       Q58178   \n",
       "9   tcheou-hien  Chekiang   Kashing      Tangsi    Q10931032   \n",
       "10  tcheou-hien  Chekiang   Kashing    Tsungteh    Q10270889   \n",
       "11  tcheou-hien  Chekiang   Kashing   Tungsiang     Q1204548   \n",
       "12          fou  Chekiang    Kinhwa      Kinhwa       Q58210   \n",
       "13  tcheou-hien  Chekiang    Kinhwa      Lanchi     Q1023793   \n",
       "14  tcheou-hien  Chekiang    Kinhwa    Tungyang     Q1023774   \n",
       "15          fou  Chekiang    Ningpo      Ningpo       Q42780   \n",
       "\n",
       "                                 coordinates           latitude  \\\n",
       "89                     (32.30621, 118.31148)           32.30621   \n",
       "90  (29.869722222222222, 118.42194444444445)  29.86972222222222   \n",
       "92                                       NaN                NaN   \n",
       "91                           (29.25, 117.85)              29.25   \n",
       "88                    (31.833333333333, 117)    31.833333333333   \n",
       "4                       (28.95445, 118.8763)           28.95445   \n",
       "2                      (30.04998, 119.93697)           30.04998   \n",
       "1                          (30.25, 120.1675)              30.25   \n",
       "3                                        NaN                NaN   \n",
       "5                        (30.8925, 120.0875)            30.8925   \n",
       "6                      (30.53808, 119.96297)           30.53808   \n",
       "8                       (30.84525, 120.9164)           30.84525   \n",
       "7                          (30.7522, 120.75)            30.7522   \n",
       "9                       (30.4783, 120.18254)            30.4783   \n",
       "10  (30.530555555555555, 120.43555555555555)  30.53055555555556   \n",
       "11                      (30.6326, 120.54744)            30.6326   \n",
       "12                     (29.10462, 119.64937)           29.10462   \n",
       "13                   (29.216667, 119.472222)          29.216667   \n",
       "14                     (29.27853, 120.22822)           29.27853   \n",
       "15                 (29.875, 121.54916666667)             29.875   \n",
       "\n",
       "            longitude                                            comment  \\\n",
       "89          118.31148                       Chuchow, today Chuzhou, 滁州,    \n",
       "90  118.4219444444444                   Hoei-tcheou, today Huizhou, 徽州,    \n",
       "92                NaN  (?) In Dehergne(1957, p51): \"Chrétienté au Wuy...   \n",
       "91             117.85  Ou-yuen, today Wuyuan Xian, 婺源县, , Wuyuan hist...   \n",
       "88                117                Anhui, Ngon-hoei, today Anhui, 安徽,    \n",
       "4            118.8763  K'iu-tcheou, today Quzhou, 衢州, , in the Chines...   \n",
       "2           119.93697                       Fou-yang, today Fuyang, 富阳,    \n",
       "1            120.1675                  Hang-tcheou, today Hangzhou, 杭州,    \n",
       "3                 NaN  Jen-houo, today Renhe, 仁和县 (), Historical coun...   \n",
       "5            120.0875                     Hou-tcheou, today Huzhou, 湖州,    \n",
       "6           119.96297  \"Tehtsing du Huchow, Té-ts'ingTeching# today D...   \n",
       "8            120.9164               Kia-chan, today Jiashan, 嘉善, Kaosham   \n",
       "7              120.75                      Kia-hing, today Jiaxing, 嘉兴,    \n",
       "9           120.18254  \"T'ang-k'i Tangchi\", today Tangqi, 塘栖 , in the...   \n",
       "10  120.4355555555556  Tch'ong-té,today Chongde, 崇德县 , Historical cou...   \n",
       "11          120.54744                 T'ong-hiang, today Tongxiang, 桐乡,    \n",
       "12          119.64937                 Kin-hoa,Chinhua,today Jinhua, 金华,    \n",
       "13         119.472222  (qui deviendra em 1656 R des OP)Lan-k'i， today...   \n",
       "14          120.22822                    Tong-yang, today Dongyang, 东阳,    \n",
       "15    121.54916666667             (v. 1540?)Ning-pouo,today Ningbo, 宁波,    \n",
       "\n",
       "   province_wikidata_id fou_wikidata_id  \n",
       "89               Q40956         Q114045  \n",
       "90               Q40956        Q4358404  \n",
       "92               Q40956        Q4358404  \n",
       "91               Q40956        Q4358404  \n",
       "88               Q40956             NaN  \n",
       "4                Q16967          Q58235  \n",
       "2                Q16967           Q4970  \n",
       "1                Q16967           Q4970  \n",
       "3                Q16967           Q4970  \n",
       "5                Q16967          Q42664  \n",
       "6                Q16967          Q42664  \n",
       "8                Q16967          Q58178  \n",
       "7                Q16967          Q58178  \n",
       "9                Q16967          Q58178  \n",
       "10               Q16967          Q58178  \n",
       "11               Q16967          Q58178  \n",
       "12               Q16967          Q58210  \n",
       "13               Q16967          Q58210  \n",
       "14               Q16967          Q58210  \n",
       "15               Q16967          Q42780  "
      ]
     },
     "execution_count": 944,
     "metadata": {},
     "output_type": "execute_result"
    }
   ],
   "source": [
    "# load wikidata data\n",
    "from dehergne_util import locations_wikidata_info_file\n",
    "\n",
    "# load the locations wikidata info from xlsx file\n",
    "print(\"Loading locations wikidata info from\", locations_wikidata_info_file)\n",
    "locations_wikidata_info = pd.read_excel(locations_wikidata_info_file, dtype=str)\n",
    "locations_wikidata_info.set_index('wikidata_id', inplace=True)\n",
    "\n",
    "# merge the two dataframes\n",
    "merged_df = pd.merge(places_1644_df, locations_wikidata_info, on='wikidata_id', how='left')\n",
    "cols = ['level', 'province', 'fou', 'name', 'wikidata_id', 'coordinates','latitude','longitude','comment', 'province_wikidata_id', 'fou_wikidata_id']\n",
    "merged_df[cols].sort_values(by=['province', 'fou', 'name']).head(20)"
   ]
  },
  {
   "cell_type": "markdown",
   "metadata": {},
   "source": [
    "Missing coordinates"
   ]
  },
  {
   "cell_type": "code",
   "execution_count": 945,
   "metadata": {},
   "outputs": [
    {
     "name": "stdout",
     "output_type": "stream",
     "text": [
      "Rows with missing coordinates (33):\n"
     ]
    },
    {
     "data": {
      "text/html": [
       "<div>\n",
       "<style scoped>\n",
       "    .dataframe tbody tr th:only-of-type {\n",
       "        vertical-align: middle;\n",
       "    }\n",
       "\n",
       "    .dataframe tbody tr th {\n",
       "        vertical-align: top;\n",
       "    }\n",
       "\n",
       "    .dataframe thead th {\n",
       "        text-align: right;\n",
       "    }\n",
       "</style>\n",
       "<table border=\"1\" class=\"dataframe\">\n",
       "  <thead>\n",
       "    <tr style=\"text-align: right;\">\n",
       "      <th></th>\n",
       "      <th>level</th>\n",
       "      <th>province</th>\n",
       "      <th>fou</th>\n",
       "      <th>name</th>\n",
       "      <th>wikidata_id</th>\n",
       "      <th>coordinates</th>\n",
       "      <th>latitude</th>\n",
       "      <th>longitude</th>\n",
       "      <th>comment</th>\n",
       "      <th>province_wikidata_id</th>\n",
       "      <th>fou_wikidata_id</th>\n",
       "    </tr>\n",
       "  </thead>\n",
       "  <tbody>\n",
       "    <tr>\n",
       "      <th>92</th>\n",
       "      <td>tcheou-hien</td>\n",
       "      <td>Anhwei</td>\n",
       "      <td>Hweichow</td>\n",
       "      <td>Tungmen</td>\n",
       "      <td>No wikidata</td>\n",
       "      <td>NaN</td>\n",
       "      <td>NaN</td>\n",
       "      <td>NaN</td>\n",
       "      <td>(?) In Dehergne(1957, p51): \"Chrétienté au Wuy...</td>\n",
       "      <td>Q40956</td>\n",
       "      <td>Q4358404</td>\n",
       "    </tr>\n",
       "    <tr>\n",
       "      <th>3</th>\n",
       "      <td>tcheou-hien</td>\n",
       "      <td>Chekiang</td>\n",
       "      <td>Hangchou</td>\n",
       "      <td>Jenho</td>\n",
       "      <td>Q9385136</td>\n",
       "      <td>NaN</td>\n",
       "      <td>NaN</td>\n",
       "      <td>NaN</td>\n",
       "      <td>Jen-houo, today Renhe, 仁和县 (), Historical coun...</td>\n",
       "      <td>Q16967</td>\n",
       "      <td>Q4970</td>\n",
       "    </tr>\n",
       "    <tr>\n",
       "      <th>16</th>\n",
       "      <td>tcheou-hien</td>\n",
       "      <td>Chekiang</td>\n",
       "      <td>Ningpo</td>\n",
       "      <td>Wuking</td>\n",
       "      <td>No wikidata</td>\n",
       "      <td>NaN</td>\n",
       "      <td>NaN</td>\n",
       "      <td>NaN</td>\n",
       "      <td>(?) Uchim,Ou kin, Dehergne(1957) did not give ...</td>\n",
       "      <td>Q16967</td>\n",
       "      <td>Q42780</td>\n",
       "    </tr>\n",
       "    <tr>\n",
       "      <th>33</th>\n",
       "      <td>tcheou-hien</td>\n",
       "      <td>Fukien</td>\n",
       "      <td>Changchow</td>\n",
       "      <td>Aupua</td>\n",
       "      <td>Q14420305</td>\n",
       "      <td>NaN</td>\n",
       "      <td>NaN</td>\n",
       "      <td>NaN</td>\n",
       "      <td>today Houban, 后坂 (), (@geonames:1977135), coor...</td>\n",
       "      <td>Q41705</td>\n",
       "      <td>Q68814</td>\n",
       "    </tr>\n",
       "    <tr>\n",
       "      <th>38</th>\n",
       "      <td>tcheou-hien</td>\n",
       "      <td>Fukien</td>\n",
       "      <td>Chüanchow</td>\n",
       "      <td>Tsingkiang</td>\n",
       "      <td>Q128883</td>\n",
       "      <td>NaN</td>\n",
       "      <td>NaN</td>\n",
       "      <td>NaN</td>\n",
       "      <td>Chingchiang ,Tsin-kiang, today Jingjiang, 靖江, ...</td>\n",
       "      <td>Q41705</td>\n",
       "      <td>Q68695</td>\n",
       "    </tr>\n",
       "    <tr>\n",
       "      <th>28</th>\n",
       "      <td>tcheou-hien</td>\n",
       "      <td>Fukien</td>\n",
       "      <td>Foochow</td>\n",
       "      <td>Niensien</td>\n",
       "      <td>No wikidata</td>\n",
       "      <td>NaN</td>\n",
       "      <td>NaN</td>\n",
       "      <td>NaN</td>\n",
       "      <td>(?) Dehergne(1957, p30): \"A côté de Hai keu ...</td>\n",
       "      <td>Q41705</td>\n",
       "      <td>Q68481</td>\n",
       "    </tr>\n",
       "    <tr>\n",
       "      <th>45</th>\n",
       "      <td>tcheou-hien</td>\n",
       "      <td>Fukien</td>\n",
       "      <td>Funing</td>\n",
       "      <td>Tingteo</td>\n",
       "      <td>No wikidata</td>\n",
       "      <td>NaN</td>\n",
       "      <td>NaN</td>\n",
       "      <td>NaN</td>\n",
       "      <td>(?) 藤头？顶头？ in the Chinese translation it is re...</td>\n",
       "      <td>Q41705</td>\n",
       "      <td>Q241877</td>\n",
       "    </tr>\n",
       "    <tr>\n",
       "      <th>66</th>\n",
       "      <td>tcheou-hien</td>\n",
       "      <td>Fukien</td>\n",
       "      <td>Taiwan</td>\n",
       "      <td>Camarri</td>\n",
       "      <td>No wikidata</td>\n",
       "      <td>NaN</td>\n",
       "      <td>NaN</td>\n",
       "      <td>NaN</td>\n",
       "      <td>today Jinbaoli, 金包里, in the Chinese translatio...</td>\n",
       "      <td>Q41705</td>\n",
       "      <td>Q22502</td>\n",
       "    </tr>\n",
       "    <tr>\n",
       "      <th>65</th>\n",
       "      <td>tcheou-hien</td>\n",
       "      <td>Fukien</td>\n",
       "      <td>Taiwan</td>\n",
       "      <td>Taparri</td>\n",
       "      <td>Q7420445</td>\n",
       "      <td>NaN</td>\n",
       "      <td>NaN</td>\n",
       "      <td>NaN</td>\n",
       "      <td>\"\"\"hoje：大包里 in the Chinese translation it is r...</td>\n",
       "      <td>Q41705</td>\n",
       "      <td>Q22502</td>\n",
       "    </tr>\n",
       "    <tr>\n",
       "      <th>81</th>\n",
       "      <td>tcheou-hien</td>\n",
       "      <td>Hukwang</td>\n",
       "      <td>Kingchow</td>\n",
       "      <td>Meng kia k´i</td>\n",
       "      <td>No wikidata</td>\n",
       "      <td>NaN</td>\n",
       "      <td>NaN</td>\n",
       "      <td>NaN</td>\n",
       "      <td>(?) in the Chinese translation it is recognize...</td>\n",
       "      <td>Q1014420</td>\n",
       "      <td>Q14135188</td>\n",
       "    </tr>\n",
       "    <tr>\n",
       "      <th>86</th>\n",
       "      <td>tcheou-hien</td>\n",
       "      <td>Hunan</td>\n",
       "      <td>Yungchow</td>\n",
       "      <td>Paishui</td>\n",
       "      <td>No wikidata</td>\n",
       "      <td>NaN</td>\n",
       "      <td>NaN</td>\n",
       "      <td>NaN</td>\n",
       "      <td>\"\"\"Dehergne (1957) \"Dés 1587, à Pascivi=Paishu...</td>\n",
       "      <td>Q45761</td>\n",
       "      <td>Q266014</td>\n",
       "    </tr>\n",
       "    <tr>\n",
       "      <th>87</th>\n",
       "      <td>province</td>\n",
       "      <td>Kiangnan</td>\n",
       "      <td>NaN</td>\n",
       "      <td>Kiangnan</td>\n",
       "      <td>Q11133842</td>\n",
       "      <td>NaN</td>\n",
       "      <td>NaN</td>\n",
       "      <td>NaN</td>\n",
       "      <td>\"\"\"Jiangnan?today Jiangnan, 江南,  (no coordinat...</td>\n",
       "      <td>Q11133842</td>\n",
       "      <td>NaN</td>\n",
       "    </tr>\n",
       "    <tr>\n",
       "      <th>96</th>\n",
       "      <td>tcheou-hien</td>\n",
       "      <td>Kiangsu</td>\n",
       "      <td>Nanking</td>\n",
       "      <td>Kaowang</td>\n",
       "      <td>Q13721719</td>\n",
       "      <td>NaN</td>\n",
       "      <td>NaN</td>\n",
       "      <td>NaN</td>\n",
       "      <td>today Gaowang, 高旺,  (no coord.), in the Chines...</td>\n",
       "      <td>Q16963</td>\n",
       "      <td>Q16666</td>\n",
       "    </tr>\n",
       "    <tr>\n",
       "      <th>107</th>\n",
       "      <td>tcheou-hien</td>\n",
       "      <td>Kiangsu</td>\n",
       "      <td>Soochow</td>\n",
       "      <td>Changshu</td>\n",
       "      <td>Q113497198</td>\n",
       "      <td>NaN</td>\n",
       "      <td>NaN</td>\n",
       "      <td>NaN</td>\n",
       "      <td>today Wuxian, 吴县,  (no coord.), former city in...</td>\n",
       "      <td>Q16963</td>\n",
       "      <td>Q42622</td>\n",
       "    </tr>\n",
       "    <tr>\n",
       "      <th>111</th>\n",
       "      <td>tcheou-hien</td>\n",
       "      <td>Kiangsu</td>\n",
       "      <td>Sungkiang</td>\n",
       "      <td>Kaokia</td>\n",
       "      <td>No wikidata</td>\n",
       "      <td>NaN</td>\n",
       "      <td>NaN</td>\n",
       "      <td>NaN</td>\n",
       "      <td>(?) today Gaojia, 高家, in the Chinese translati...</td>\n",
       "      <td>Q16963</td>\n",
       "      <td>Q11104671</td>\n",
       "    </tr>\n",
       "    <tr>\n",
       "      <th>112</th>\n",
       "      <td>tcheou-hien</td>\n",
       "      <td>Kiangsu</td>\n",
       "      <td>Sungkiang</td>\n",
       "      <td>Mo ka pang</td>\n",
       "      <td>No wikidata</td>\n",
       "      <td>NaN</td>\n",
       "      <td>NaN</td>\n",
       "      <td>NaN</td>\n",
       "      <td>Ma kia pim, today Majiabang, 马家浜, in the Chine...</td>\n",
       "      <td>Q16963</td>\n",
       "      <td>Q11104671</td>\n",
       "    </tr>\n",
       "    <tr>\n",
       "      <th>123</th>\n",
       "      <td>tcheou-hien</td>\n",
       "      <td>Kiangsu</td>\n",
       "      <td>Yangchow</td>\n",
       "      <td>Fushan</td>\n",
       "      <td>No wikidata</td>\n",
       "      <td>NaN</td>\n",
       "      <td>NaN</td>\n",
       "      <td>NaN</td>\n",
       "      <td>today Fushan, 福山村, coordinates: 31.80021098184...</td>\n",
       "      <td>Q16963</td>\n",
       "      <td>Q57906</td>\n",
       "    </tr>\n",
       "    <tr>\n",
       "      <th>139</th>\n",
       "      <td>tcheou-hien</td>\n",
       "      <td>Kwangtung</td>\n",
       "      <td>Cantão</td>\n",
       "      <td>Quon yao</td>\n",
       "      <td>No wikidata</td>\n",
       "      <td>NaN</td>\n",
       "      <td>NaN</td>\n",
       "      <td>NaN</td>\n",
       "      <td>today Guanyao, 官窑, In the Chinses translation ...</td>\n",
       "      <td>Q15175</td>\n",
       "      <td>Q16572</td>\n",
       "    </tr>\n",
       "    <tr>\n",
       "      <th>143</th>\n",
       "      <td>tcheou-hien</td>\n",
       "      <td>Kwangtung</td>\n",
       "      <td>Kiungchow</td>\n",
       "      <td>Bankao</td>\n",
       "      <td>No wikidata</td>\n",
       "      <td>NaN</td>\n",
       "      <td>NaN</td>\n",
       "      <td>NaN</td>\n",
       "      <td>today Xiangou, 仙沟, In the Chinese translation ...</td>\n",
       "      <td>Q15175</td>\n",
       "      <td>Q1081204</td>\n",
       "    </tr>\n",
       "    <tr>\n",
       "      <th>151</th>\n",
       "      <td>tcheou-hien</td>\n",
       "      <td>Kwangtung</td>\n",
       "      <td>Schiuchow</td>\n",
       "      <td>Hwanghsiaping</td>\n",
       "      <td>No wikidata</td>\n",
       "      <td>NaN</td>\n",
       "      <td>NaN</td>\n",
       "      <td>NaN</td>\n",
       "      <td>(?) Hwanghsiaping, today Vankaxen, 黄下坪？, In th...</td>\n",
       "      <td>Q15175</td>\n",
       "      <td>Q1346617</td>\n",
       "    </tr>\n",
       "    <tr>\n",
       "      <th>150</th>\n",
       "      <td>tcheou-hien</td>\n",
       "      <td>Kwangtung</td>\n",
       "      <td>Schiuchow</td>\n",
       "      <td>Hwangtsun</td>\n",
       "      <td>No wikidata</td>\n",
       "      <td>NaN</td>\n",
       "      <td>NaN</td>\n",
       "      <td>NaN</td>\n",
       "      <td>Vançun, today Huangcun, 黄村, coordinates: 24.90...</td>\n",
       "      <td>Q15175</td>\n",
       "      <td>Q1346617</td>\n",
       "    </tr>\n",
       "    <tr>\n",
       "      <th>148</th>\n",
       "      <td>tcheou-hien</td>\n",
       "      <td>Kwangtung</td>\n",
       "      <td>Schiuchow</td>\n",
       "      <td>Makia</td>\n",
       "      <td>No wikidata</td>\n",
       "      <td>NaN</td>\n",
       "      <td>NaN</td>\n",
       "      <td>NaN</td>\n",
       "      <td>Machia, today Majia, 马家, Dehergne(1957) said M...</td>\n",
       "      <td>Q15175</td>\n",
       "      <td>Q1346617</td>\n",
       "    </tr>\n",
       "    <tr>\n",
       "      <th>152</th>\n",
       "      <td>tcheou-hien</td>\n",
       "      <td>Kwangtung</td>\n",
       "      <td>Schiuchow</td>\n",
       "      <td>Motikang</td>\n",
       "      <td>No wikidata</td>\n",
       "      <td>NaN</td>\n",
       "      <td>NaN</td>\n",
       "      <td>NaN</td>\n",
       "      <td>Mochi, today Madigang, 麻地岗, In the Chinese tra...</td>\n",
       "      <td>Q15175</td>\n",
       "      <td>Q1346617</td>\n",
       "    </tr>\n",
       "    <tr>\n",
       "      <th>149</th>\n",
       "      <td>tcheou-hien</td>\n",
       "      <td>Kwangtung</td>\n",
       "      <td>Schiuchow</td>\n",
       "      <td>Tsintsun</td>\n",
       "      <td>No wikidata</td>\n",
       "      <td>NaN</td>\n",
       "      <td>NaN</td>\n",
       "      <td>NaN</td>\n",
       "      <td>Cinçun, today Jingcun, 靖村, coordinates:24.8404...</td>\n",
       "      <td>Q15175</td>\n",
       "      <td>Q1346617</td>\n",
       "    </tr>\n",
       "    <tr>\n",
       "      <th>153</th>\n",
       "      <td>tcheou-hien</td>\n",
       "      <td>Kwangtung</td>\n",
       "      <td>Schiuchow</td>\n",
       "      <td>Yangsiang</td>\n",
       "      <td>No wikidata</td>\n",
       "      <td>NaN</td>\n",
       "      <td>NaN</td>\n",
       "      <td>NaN</td>\n",
       "      <td>(?) In the Chinese translation, it is recogniz...</td>\n",
       "      <td>Q15175</td>\n",
       "      <td>Q1346617</td>\n",
       "    </tr>\n",
       "    <tr>\n",
       "      <th>186</th>\n",
       "      <td>tcheou-hien</td>\n",
       "      <td>Shangtung</td>\n",
       "      <td>Tsinan</td>\n",
       "      <td>Kwanchang</td>\n",
       "      <td>No wikidata</td>\n",
       "      <td>NaN</td>\n",
       "      <td>NaN</td>\n",
       "      <td>NaN</td>\n",
       "      <td>(?) In Dehergne(1957), there is no \"Kwanchang\"...</td>\n",
       "      <td>Q43407</td>\n",
       "      <td>Q170247</td>\n",
       "    </tr>\n",
       "    <tr>\n",
       "      <th>189</th>\n",
       "      <td>tcheou-hien</td>\n",
       "      <td>Shangtung</td>\n",
       "      <td>Tsinan</td>\n",
       "      <td>Wuting</td>\n",
       "      <td>Q17008118</td>\n",
       "      <td>NaN</td>\n",
       "      <td>NaN</td>\n",
       "      <td>NaN</td>\n",
       "      <td>\"\"\"Ou-ting, today Wuding, 武定,  (no coord.) loc...</td>\n",
       "      <td>Q43407</td>\n",
       "      <td>Q170247</td>\n",
       "    </tr>\n",
       "    <tr>\n",
       "      <th>195</th>\n",
       "      <td>tcheou-hien</td>\n",
       "      <td>Shangtung</td>\n",
       "      <td>Tungchang</td>\n",
       "      <td>Peichingtien</td>\n",
       "      <td>No wikidata</td>\n",
       "      <td>NaN</td>\n",
       "      <td>NaN</td>\n",
       "      <td>NaN</td>\n",
       "      <td>(?) Dehergne(1957)did not give the Chinese nam...</td>\n",
       "      <td>Q43407</td>\n",
       "      <td>Q10870440</td>\n",
       "    </tr>\n",
       "    <tr>\n",
       "      <th>179</th>\n",
       "      <td>tcheou-hien</td>\n",
       "      <td>Shansi</td>\n",
       "      <td>Pingyang</td>\n",
       "      <td>Taiping</td>\n",
       "      <td>Q18111423</td>\n",
       "      <td>NaN</td>\n",
       "      <td>NaN</td>\n",
       "      <td>NaN</td>\n",
       "      <td>today Taiping, 太平,  (no coord.), historical ad...</td>\n",
       "      <td>Q46913</td>\n",
       "      <td>Q73156</td>\n",
       "    </tr>\n",
       "    <tr>\n",
       "      <th>207</th>\n",
       "      <td>tcheou-hien</td>\n",
       "      <td>Shensi</td>\n",
       "      <td>Hanchung</td>\n",
       "      <td>Siao tchai tse</td>\n",
       "      <td>No wikidata</td>\n",
       "      <td>NaN</td>\n",
       "      <td>NaN</td>\n",
       "      <td>NaN</td>\n",
       "      <td>(?) In Dehergne(1957), it is noted as \"小塞子\", a...</td>\n",
       "      <td>Q47974</td>\n",
       "      <td>Q515573</td>\n",
       "    </tr>\n",
       "    <tr>\n",
       "      <th>201</th>\n",
       "      <td>tcheou-hien</td>\n",
       "      <td>Shensi</td>\n",
       "      <td>Sian</td>\n",
       "      <td>Kiao-tou</td>\n",
       "      <td>No wikidata</td>\n",
       "      <td>NaN</td>\n",
       "      <td>NaN</td>\n",
       "      <td>NaN</td>\n",
       "      <td>Kiao-tou (ou Tungyüanfang) Kiao-tou and Tungyü...</td>\n",
       "      <td>Q47974</td>\n",
       "      <td>Q5826</td>\n",
       "    </tr>\n",
       "    <tr>\n",
       "      <th>211</th>\n",
       "      <td>tcheou-hien</td>\n",
       "      <td>Szechwan</td>\n",
       "      <td>Chengtu</td>\n",
       "      <td>Mienchow</td>\n",
       "      <td>Q10475921</td>\n",
       "      <td>NaN</td>\n",
       "      <td>NaN</td>\n",
       "      <td>NaN</td>\n",
       "      <td>Mien tcheou, today Mianzhou, 绵州, today  (no co...</td>\n",
       "      <td>Q19770</td>\n",
       "      <td>Q30002</td>\n",
       "    </tr>\n",
       "    <tr>\n",
       "      <th>213</th>\n",
       "      <td>fou</td>\n",
       "      <td>Szechwan</td>\n",
       "      <td>Paoning</td>\n",
       "      <td>Paoning</td>\n",
       "      <td>Q10887586</td>\n",
       "      <td>NaN</td>\n",
       "      <td>NaN</td>\n",
       "      <td>NaN</td>\n",
       "      <td>\"\"\"Pao-ning, today Baoning, 保宁,  (no coord.), ...</td>\n",
       "      <td>Q19770</td>\n",
       "      <td>Q10887586</td>\n",
       "    </tr>\n",
       "  </tbody>\n",
       "</table>\n",
       "</div>"
      ],
      "text/plain": [
       "           level   province        fou            name  wikidata_id  \\\n",
       "92   tcheou-hien     Anhwei   Hweichow         Tungmen  No wikidata   \n",
       "3    tcheou-hien   Chekiang   Hangchou           Jenho     Q9385136   \n",
       "16   tcheou-hien   Chekiang     Ningpo          Wuking  No wikidata   \n",
       "33   tcheou-hien     Fukien  Changchow           Aupua    Q14420305   \n",
       "38   tcheou-hien     Fukien  Chüanchow      Tsingkiang      Q128883   \n",
       "28   tcheou-hien     Fukien    Foochow        Niensien  No wikidata   \n",
       "45   tcheou-hien     Fukien     Funing         Tingteo  No wikidata   \n",
       "66   tcheou-hien     Fukien     Taiwan         Camarri  No wikidata   \n",
       "65   tcheou-hien     Fukien     Taiwan         Taparri     Q7420445   \n",
       "81   tcheou-hien    Hukwang   Kingchow    Meng kia k´i  No wikidata   \n",
       "86   tcheou-hien      Hunan   Yungchow         Paishui  No wikidata   \n",
       "87      province   Kiangnan        NaN        Kiangnan    Q11133842   \n",
       "96   tcheou-hien    Kiangsu    Nanking         Kaowang    Q13721719   \n",
       "107  tcheou-hien    Kiangsu    Soochow        Changshu   Q113497198   \n",
       "111  tcheou-hien    Kiangsu  Sungkiang          Kaokia  No wikidata   \n",
       "112  tcheou-hien    Kiangsu  Sungkiang      Mo ka pang  No wikidata   \n",
       "123  tcheou-hien    Kiangsu   Yangchow          Fushan  No wikidata   \n",
       "139  tcheou-hien  Kwangtung     Cantão        Quon yao  No wikidata   \n",
       "143  tcheou-hien  Kwangtung  Kiungchow          Bankao  No wikidata   \n",
       "151  tcheou-hien  Kwangtung  Schiuchow   Hwanghsiaping  No wikidata   \n",
       "150  tcheou-hien  Kwangtung  Schiuchow       Hwangtsun  No wikidata   \n",
       "148  tcheou-hien  Kwangtung  Schiuchow           Makia  No wikidata   \n",
       "152  tcheou-hien  Kwangtung  Schiuchow        Motikang  No wikidata   \n",
       "149  tcheou-hien  Kwangtung  Schiuchow        Tsintsun  No wikidata   \n",
       "153  tcheou-hien  Kwangtung  Schiuchow       Yangsiang  No wikidata   \n",
       "186  tcheou-hien  Shangtung     Tsinan       Kwanchang  No wikidata   \n",
       "189  tcheou-hien  Shangtung     Tsinan          Wuting    Q17008118   \n",
       "195  tcheou-hien  Shangtung  Tungchang    Peichingtien  No wikidata   \n",
       "179  tcheou-hien     Shansi   Pingyang         Taiping    Q18111423   \n",
       "207  tcheou-hien     Shensi   Hanchung  Siao tchai tse  No wikidata   \n",
       "201  tcheou-hien     Shensi       Sian        Kiao-tou  No wikidata   \n",
       "211  tcheou-hien   Szechwan    Chengtu        Mienchow    Q10475921   \n",
       "213          fou   Szechwan    Paoning         Paoning    Q10887586   \n",
       "\n",
       "    coordinates latitude longitude  \\\n",
       "92          NaN      NaN       NaN   \n",
       "3           NaN      NaN       NaN   \n",
       "16          NaN      NaN       NaN   \n",
       "33          NaN      NaN       NaN   \n",
       "38          NaN      NaN       NaN   \n",
       "28          NaN      NaN       NaN   \n",
       "45          NaN      NaN       NaN   \n",
       "66          NaN      NaN       NaN   \n",
       "65          NaN      NaN       NaN   \n",
       "81          NaN      NaN       NaN   \n",
       "86          NaN      NaN       NaN   \n",
       "87          NaN      NaN       NaN   \n",
       "96          NaN      NaN       NaN   \n",
       "107         NaN      NaN       NaN   \n",
       "111         NaN      NaN       NaN   \n",
       "112         NaN      NaN       NaN   \n",
       "123         NaN      NaN       NaN   \n",
       "139         NaN      NaN       NaN   \n",
       "143         NaN      NaN       NaN   \n",
       "151         NaN      NaN       NaN   \n",
       "150         NaN      NaN       NaN   \n",
       "148         NaN      NaN       NaN   \n",
       "152         NaN      NaN       NaN   \n",
       "149         NaN      NaN       NaN   \n",
       "153         NaN      NaN       NaN   \n",
       "186         NaN      NaN       NaN   \n",
       "189         NaN      NaN       NaN   \n",
       "195         NaN      NaN       NaN   \n",
       "179         NaN      NaN       NaN   \n",
       "207         NaN      NaN       NaN   \n",
       "201         NaN      NaN       NaN   \n",
       "211         NaN      NaN       NaN   \n",
       "213         NaN      NaN       NaN   \n",
       "\n",
       "                                               comment province_wikidata_id  \\\n",
       "92   (?) In Dehergne(1957, p51): \"Chrétienté au Wuy...               Q40956   \n",
       "3    Jen-houo, today Renhe, 仁和县 (), Historical coun...               Q16967   \n",
       "16   (?) Uchim,Ou kin, Dehergne(1957) did not give ...               Q16967   \n",
       "33   today Houban, 后坂 (), (@geonames:1977135), coor...               Q41705   \n",
       "38   Chingchiang ,Tsin-kiang, today Jingjiang, 靖江, ...               Q41705   \n",
       "28   (?) Dehergne(1957, p30): \"A côté de Hai keu ...               Q41705   \n",
       "45   (?) 藤头？顶头？ in the Chinese translation it is re...               Q41705   \n",
       "66   today Jinbaoli, 金包里, in the Chinese translatio...               Q41705   \n",
       "65   \"\"\"hoje：大包里 in the Chinese translation it is r...               Q41705   \n",
       "81   (?) in the Chinese translation it is recognize...             Q1014420   \n",
       "86   \"\"\"Dehergne (1957) \"Dés 1587, à Pascivi=Paishu...               Q45761   \n",
       "87   \"\"\"Jiangnan?today Jiangnan, 江南,  (no coordinat...            Q11133842   \n",
       "96   today Gaowang, 高旺,  (no coord.), in the Chines...               Q16963   \n",
       "107  today Wuxian, 吴县,  (no coord.), former city in...               Q16963   \n",
       "111  (?) today Gaojia, 高家, in the Chinese translati...               Q16963   \n",
       "112  Ma kia pim, today Majiabang, 马家浜, in the Chine...               Q16963   \n",
       "123  today Fushan, 福山村, coordinates: 31.80021098184...               Q16963   \n",
       "139  today Guanyao, 官窑, In the Chinses translation ...               Q15175   \n",
       "143  today Xiangou, 仙沟, In the Chinese translation ...               Q15175   \n",
       "151  (?) Hwanghsiaping, today Vankaxen, 黄下坪？, In th...               Q15175   \n",
       "150  Vançun, today Huangcun, 黄村, coordinates: 24.90...               Q15175   \n",
       "148  Machia, today Majia, 马家, Dehergne(1957) said M...               Q15175   \n",
       "152  Mochi, today Madigang, 麻地岗, In the Chinese tra...               Q15175   \n",
       "149  Cinçun, today Jingcun, 靖村, coordinates:24.8404...               Q15175   \n",
       "153  (?) In the Chinese translation, it is recogniz...               Q15175   \n",
       "186  (?) In Dehergne(1957), there is no \"Kwanchang\"...               Q43407   \n",
       "189  \"\"\"Ou-ting, today Wuding, 武定,  (no coord.) loc...               Q43407   \n",
       "195  (?) Dehergne(1957)did not give the Chinese nam...               Q43407   \n",
       "179  today Taiping, 太平,  (no coord.), historical ad...               Q46913   \n",
       "207  (?) In Dehergne(1957), it is noted as \"小塞子\", a...               Q47974   \n",
       "201  Kiao-tou (ou Tungyüanfang) Kiao-tou and Tungyü...               Q47974   \n",
       "211  Mien tcheou, today Mianzhou, 绵州, today  (no co...               Q19770   \n",
       "213  \"\"\"Pao-ning, today Baoning, 保宁,  (no coord.), ...               Q19770   \n",
       "\n",
       "    fou_wikidata_id  \n",
       "92         Q4358404  \n",
       "3             Q4970  \n",
       "16           Q42780  \n",
       "33           Q68814  \n",
       "38           Q68695  \n",
       "28           Q68481  \n",
       "45          Q241877  \n",
       "66           Q22502  \n",
       "65           Q22502  \n",
       "81        Q14135188  \n",
       "86          Q266014  \n",
       "87              NaN  \n",
       "96           Q16666  \n",
       "107          Q42622  \n",
       "111       Q11104671  \n",
       "112       Q11104671  \n",
       "123          Q57906  \n",
       "139          Q16572  \n",
       "143        Q1081204  \n",
       "151        Q1346617  \n",
       "150        Q1346617  \n",
       "148        Q1346617  \n",
       "152        Q1346617  \n",
       "149        Q1346617  \n",
       "153        Q1346617  \n",
       "186         Q170247  \n",
       "189         Q170247  \n",
       "195       Q10870440  \n",
       "179          Q73156  \n",
       "207         Q515573  \n",
       "201           Q5826  \n",
       "211          Q30002  \n",
       "213       Q10887586  "
      ]
     },
     "execution_count": 945,
     "metadata": {},
     "output_type": "execute_result"
    }
   ],
   "source": [
    "# list rows where coordinates are not available\n",
    "missing_coords = merged_df[merged_df['coordinates'].isna()]\n",
    "print(f\"Rows with missing coordinates ({len(missing_coords)}):\")\n",
    "missing_coords[cols].sort_values(by=['province', 'fou', 'name'])\n"
   ]
  },
  {
   "cell_type": "markdown",
   "metadata": {},
   "source": [
    "Scan comments for specific mentions of coordinates"
   ]
  },
  {
   "cell_type": "code",
   "execution_count": 946,
   "metadata": {},
   "outputs": [
    {
     "name": "stdout",
     "output_type": "stream",
     "text": [
      "\n",
      "Looking for coordinates of: deh-r1644-jenho Jenho\n",
      "Jen-houo, today Renhe, 仁和县 (), Historical county name, coordinates: 30.448897N, 120.307504E\n",
      "Found coordinates: (30.448897, 120.307504)\n",
      "\n",
      "Looking for coordinates of: deh-r1644-wuking Wuking\n",
      "No coordinates found in comment for row: 16 Wuking\n",
      "\n",
      "Looking for coordinates of: deh-r1644-niensien Niensien\n",
      "No coordinates found in comment for row: 28 Niensien\n",
      "\n",
      "Looking for coordinates of: deh-r1644-aupua Aupua\n",
      "today Houban, 后坂 (), (@geonames:1977135), coordinates: 24.50213852506329N, 117.6917197408656EAu-poa,Heupuen\n",
      "Found coordinates: (24.50213852506329, 117.6917197408656)\n",
      "\n",
      "Looking for coordinates of: deh-r1644-tsinkiang Tsingkiang\n",
      "No coordinates found in comment for row: 38 Tsingkiang\n",
      "\n",
      "Looking for coordinates of: deh-r1644-tingteo Tingteo\n",
      "No coordinates found in comment for row: 45 Tingteo\n",
      "\n",
      "Looking for coordinates of: deh-r1644-taparri Taparri\n",
      "\"\"\"hoje：大包里 in the Chinese translation it is recognized as 塔巴里,in Dehergne(1957) it is noted as 大包里, which cannot be found in the map. Dehergne(1957) puts it as \"Peninsule de Masu, à 1 lieue nord-ouest de San Salvador (社寮)\"\n",
      "                today's Santissima Trinidad ， with Masu coordinates:25.201218764354735N, 121.68618375811317E\"\"\"\n",
      "Found coordinates: (25.201218764354735, 121.68618375811317)\n",
      "\n",
      "Looking for coordinates of: deh-r1644-camarri Camarri\n",
      "today Jinbaoli, 金包里, in the Chinese translation it is recognized as “噶玛兰”, but in Dehergne(1957) it is noted as \"金包里\". It is an area in the Northern Taiwan, coordinates: 25.22189808588497N, 121.6382892794898EQuimauri\n",
      "Found coordinates: (25.22189808588497, 121.6382892794898)\n",
      "\n",
      "Looking for coordinates of: deh-r1644-meng-kia-ki Meng kia k´i\n",
      "No coordinates found in comment for row: 81 Meng kia k´i\n",
      "\n",
      "Looking for coordinates of: deh-r1644-paishui Paishui\n",
      "\"\"\"Dehergne (1957) \"Dés 1587, à Pascivi=Paishui (Pé-choei) 白水 du Kiyang (K'i-yang) 祁陽 hien au nord-est de Yungchow,...\" coordinates:26.4269N, 111.9940E\"\"\"\n",
      "Found coordinates: (26.4269, 111.994)\n",
      "\n",
      "Looking for coordinates of: deh-r1644-kiangnan Kiangnan\n",
      "\"\"\"Jiangnan?today Jiangnan, 江南,  (no coordinates), former province of China, corresponding to modern-day Jiangsu and Anhui provinces, coordinates:32°3'39\"N, 118°46'44\"E (Nankjing)\"\"\"KIANGNAN ou NANKING\n",
      "Found coordinates: (32.06083333333333, 118.77888888888889)\n",
      "\n",
      "Looking for coordinates of: deh-r1644-tungment Tungmen\n",
      "No coordinates found in comment for row: 92 Tungmen\n",
      "\n",
      "Looking for coordinates of: deh-r1644-kaowang Kaowang\n",
      "today Gaowang, 高旺,  (no coord.), in the Chinese translation, it is written as “高望”, which should be “高旺”, coordinates: 32°3'53\"N, 118°38'24\"E (江浦街道 Q11134699)\n",
      "Found coordinates: (32.06472222222222, 118.64)\n",
      "\n",
      "Looking for coordinates of: deh-r1644-changshu Changshu\n",
      "today Wuxian, 吴县,  (no coord.), former city in Jiangsu, coordinates: 31°15'52\"N, 120°37'41\"E (Q943850 Wuzhong District)\n",
      "Found coordinates: (31.264444444444443, 120.62805555555555)\n",
      "\n",
      "Looking for coordinates of: deh-r1644-kaokia Kaokia\n",
      "No coordinates found in comment for row: 111 Kaokia\n",
      "\n",
      "Looking for coordinates of: deh-r1644-mo-ka-pang Mo ka pang\n",
      "Ma kia pim, today Majiabang, 马家浜, in the Chinese translation it is recognized as “穆喀榜”, which is wrong. Dehergne(1957, p60) said it is \"马家滨\" at \"sud de Sung-kiang\". In the present day it might be \"马家浜\" to the south Songjiang, coordinates: 30.845691234919308N, 121.3179093082612E\n",
      "Found coordinates: (30.845691234919308, 121.3179093082612)\n",
      "\n",
      "Looking for coordinates of: deh-r1644-fushan Fushan\n",
      "today Fushan, 福山村, coordinates: 31.800210981845982N, 120.7617947082488E\n",
      "Found coordinates: (31.800210981845982, 120.7617947082488)\n",
      "\n",
      "Looking for coordinates of: deh-r1644-quon-yao Quon yao\n",
      "today Guanyao, 官窑, In the Chinses translation it is recognized as “高要村”，which is wrong. in Dehergne(1957), it is noted as \"官窑\", coordinates: 23.314954073028765N, 113.22132587290358E\n",
      "Found coordinates: (23.314954073028765, 113.22132587290358)\n",
      "\n",
      "Looking for coordinates of: deh-r1644-bankao Bankao\n",
      "today Xiangou, 仙沟, In the Chinese translation it is recognized as \"板桥\", but in Dehergne (1957), it is noted as \"仙沟\". coordinates: 19.678430033709233N, 110.3760945797476E\n",
      "Found coordinates: (19.678430033709233, 110.3760945797476)\n",
      "\n",
      "Looking for coordinates of: deh-r1644-makia Makia\n",
      "Machia, today Majia, 马家, Dehergne(1957) said Makia\"马家\" is \"à 15 kilomètres au sud de la ville\" (de Shiuchow), which should be to the south of Shiuchow, but I only found one \"马家\" in that area, but it is to the west of the city (coordinates: 24.75569541392557, 113.15960996554436), which might not be the right place.\n",
      "Found coordinates: (24.75569541392557, 113.15960996554436)\n",
      "\n",
      "Looking for coordinates of: deh-r1644-tsintsun Tsintsun\n",
      "Cinçun, today Jingcun, 靖村, coordinates:24.840448198893206N, 113.54394322209676E. In the original book (Dehergne, 1973), it is written as \"Tsintsun\" (without g), which is wrongly spelled. In Dehergne(1973), it is written as Tsingtsun, with the Chinese name 靖村 noted. It is \"à une heure et demie de marche au nord-ouest de Siuchow.\" In the Chinese traslation, it is recognized as \"青村\", which is wrong.\n",
      "Found coordinates: (24.840448198893206, 113.54394322209676)\n",
      "\n",
      "Looking for coordinates of: deh-r1644-hwangtsun Hwangtsun\n",
      "Vançun, today Huangcun, 黄村, coordinates: 24.900778941203768N, 113.60398607001083E Dehergne(1957): \"à une heure de chemin au nord de Shiuchow\".\n",
      "Found coordinates: (24.900778941203768, 113.60398607001083)\n",
      "\n",
      "Looking for coordinates of: deh-r1644-hwanghsiaping Hwanghsiaping\n",
      "No coordinates found in comment for row: 151 Hwanghsiaping\n",
      "\n",
      "Looking for coordinates of: deh-r1644-motikang Motikang\n",
      "Mochi, today Madigang, 麻地岗, In the Chinese translation, it is recognized as “末岗”, but in Dehergne(1957), it is noted as “麻地岗”., coordinates: 24.68899887552694N, 113.57599418283718E\n",
      "Found coordinates: (24.68899887552694, 113.57599418283718)\n",
      "\n",
      "Looking for coordinates of: deh-r1644-yangsiang Yangsiang\n",
      "No coordinates found in comment for row: 153 Yangsiang\n",
      "\n",
      "Looking for coordinates of: deh-r1644-taiping Taiping\n",
      "today Taiping, 太平,  (no coord.), historical administrative division. Now its administrative center is Fencheng 汾城, wikidata:Q11137504 (coordinates: 35°49'10\"N, 111°16'20\"E)Taiping (Fencheng)\n",
      "Found coordinates: (35.81944444444445, 111.27222222222223)\n",
      "\n",
      "Looking for coordinates of: deh-r1644-kwanchang Kwanchang\n",
      "No coordinates found in comment for row: 186 Kwanchang\n",
      "\n",
      "Looking for coordinates of: deh-r1644-wuting Wuting\n",
      "\"\"\"Ou-ting, today Wuding, 武定,  (no coord.) located in today's Huimin County (coordinates: 37°28'44\"N, 117°29'52\"E)\"\"\"[Wuting, alors tcheou, Hweimin]\n",
      "Found coordinates: (37.47888888888889, 117.49777777777778)\n",
      "\n",
      "Looking for coordinates of: deh-r1644-peichingtien Peichingtien\n",
      "No coordinates found in comment for row: 195 Peichingtien\n",
      "\n",
      "Looking for coordinates of: deh-r1644-kiao-tou Kiao-tou\n",
      "Kiao-tou (ou Tungyüanfang) Kiao-tou and Tungyüanfang are the same place. The Chinese translation recognized it as “贾都”, which might be wrong, as “贾都” cannot be found. Tungyüanfang in the Chinese reanslation it is recognized as “东院房”, but in Dehergne(1957), it is noted as \"通远坊\". And there is a \"通远天主堂\"(Tongyuan Catholic Church) there, coordinates: 34.55258137628194N,109.04672038131238E\n",
      "Found coordinates: (34.55258137628194, 109.04672038131238)\n",
      "\n",
      "Looking for coordinates of: deh-r1644-siao-tchai-tse Siao tchai tse\n",
      "No coordinates found in comment for row: 207 Siao tchai tse\n",
      "\n",
      "Looking for coordinates of: deh-r1644-mienchow Mienchow\n",
      "Mien tcheou, today Mianzhou, 绵州, today  (no coord.) Mienchow is an historical administrative division, now it is located in the city of Mianyang (Q426130, coordinates: 31°28'1\"N, 104°44'18\"E)\n",
      "Found coordinates: (31.466944444444444, 104.73833333333333)\n",
      "\n",
      "Looking for coordinates of: deh-r1644-paoning Paoning\n",
      "\"\"\"Pao-ning, today Baoning, 保宁,  (no coord.), 保宁府 historical administrative division of China, where 阆中 was in (same as Langzhong: Q1200170 coordinates: 31°35'0\"N, 105°58'19\"E\"\"\")Paoning (Langchung)\n",
      "Found coordinates: (31.583333333333332, 105.97194444444445)\n"
     ]
    }
   ],
   "source": [
    "# set the coordinates for the places that have coordinates in the comment column\n",
    "# interate rows with iterrows\n",
    "for index, row in merged_df[merged_df['coordinates'].isna()].iterrows():\n",
    "    print()\n",
    "    print(\"Looking for coordinates of:\", row['id'], row['name'])\n",
    "    # if row['comment'] is not NaN and contains \"coordinates\", \"latitude\", or \"longitude\"\n",
    "    if not re.search(r'coordinates:|latitude:|longitude:', row['comment'], flags=re.IGNORECASE):\n",
    "        print(\"No coordinates found in comment for row:\", index, row['name'])\n",
    "        continue\n",
    "    print(row['comment'])\n",
    "    coords = extract_coordinates(row['comment'])\n",
    "    if coords:\n",
    "        print(\"Found coordinates:\", coords)\n",
    "        merged_df.at[index, 'coordinates'] = coords\n",
    "        merged_df.at[index, 'latitude'] = coords[0]\n",
    "        merged_df.at[index, 'longitude'] = coords[1]\n"
   ]
  },
  {
   "cell_type": "markdown",
   "metadata": {},
   "source": [
    "List places with no coordinates\n"
   ]
  },
  {
   "cell_type": "code",
   "execution_count": 947,
   "metadata": {},
   "outputs": [
    {
     "data": {
      "text/html": [
       "<div>\n",
       "<style scoped>\n",
       "    .dataframe tbody tr th:only-of-type {\n",
       "        vertical-align: middle;\n",
       "    }\n",
       "\n",
       "    .dataframe tbody tr th {\n",
       "        vertical-align: top;\n",
       "    }\n",
       "\n",
       "    .dataframe thead th {\n",
       "        text-align: right;\n",
       "    }\n",
       "</style>\n",
       "<table border=\"1\" class=\"dataframe\">\n",
       "  <thead>\n",
       "    <tr style=\"text-align: right;\">\n",
       "      <th></th>\n",
       "      <th>province</th>\n",
       "      <th>id</th>\n",
       "      <th>level</th>\n",
       "      <th>name</th>\n",
       "      <th>name_original</th>\n",
       "      <th>province_wikidata_id</th>\n",
       "      <th>wikidata_id</th>\n",
       "      <th>comment</th>\n",
       "      <th>province_id</th>\n",
       "      <th>fou</th>\n",
       "      <th>...</th>\n",
       "      <th>portuguese_description</th>\n",
       "      <th>coordinates</th>\n",
       "      <th>latitude</th>\n",
       "      <th>longitude</th>\n",
       "      <th>administrative_entity_id</th>\n",
       "      <th>administrative_entity_label_en</th>\n",
       "      <th>administrative_entity_label_zh</th>\n",
       "      <th>country_id</th>\n",
       "      <th>country_label</th>\n",
       "      <th>label</th>\n",
       "    </tr>\n",
       "  </thead>\n",
       "  <tbody>\n",
       "    <tr>\n",
       "      <th>16</th>\n",
       "      <td>Chekiang</td>\n",
       "      <td>deh-r1644-wuking</td>\n",
       "      <td>tcheou-hien</td>\n",
       "      <td>Wuking</td>\n",
       "      <td>Wuking#(?) Uchim,Ou kin, Dehergne(1957) did no...</td>\n",
       "      <td>Q16967</td>\n",
       "      <td>No wikidata</td>\n",
       "      <td>(?) Uchim,Ou kin, Dehergne(1957) did not give ...</td>\n",
       "      <td>deh-r1644-chekiang</td>\n",
       "      <td>Ningpo</td>\n",
       "      <td>...</td>\n",
       "      <td>NaN</td>\n",
       "      <td>NaN</td>\n",
       "      <td>NaN</td>\n",
       "      <td>NaN</td>\n",
       "      <td>NaN</td>\n",
       "      <td>NaN</td>\n",
       "      <td>NaN</td>\n",
       "      <td>NaN</td>\n",
       "      <td>NaN</td>\n",
       "      <td>NaN</td>\n",
       "    </tr>\n",
       "    <tr>\n",
       "      <th>28</th>\n",
       "      <td>Fukien</td>\n",
       "      <td>deh-r1644-niensien</td>\n",
       "      <td>tcheou-hien</td>\n",
       "      <td>Niensien</td>\n",
       "      <td>Niensien#\"\"\"(?) Dehergne(1957, p30): \"A côté...</td>\n",
       "      <td>Q41705</td>\n",
       "      <td>No wikidata</td>\n",
       "      <td>(?) Dehergne(1957, p30): \"A côté de Hai keu ...</td>\n",
       "      <td>deh-r1644-fukien</td>\n",
       "      <td>Foochow</td>\n",
       "      <td>...</td>\n",
       "      <td>NaN</td>\n",
       "      <td>NaN</td>\n",
       "      <td>NaN</td>\n",
       "      <td>NaN</td>\n",
       "      <td>NaN</td>\n",
       "      <td>NaN</td>\n",
       "      <td>NaN</td>\n",
       "      <td>NaN</td>\n",
       "      <td>NaN</td>\n",
       "      <td>NaN</td>\n",
       "    </tr>\n",
       "    <tr>\n",
       "      <th>38</th>\n",
       "      <td>Fukien</td>\n",
       "      <td>deh-r1644-tsinkiang</td>\n",
       "      <td>tcheou-hien</td>\n",
       "      <td>Tsingkiang</td>\n",
       "      <td>Tsingkiang#\"\"\"Chingchiang ,Tsin-kiang, today J...</td>\n",
       "      <td>Q41705</td>\n",
       "      <td>Q128883</td>\n",
       "      <td>Chingchiang ,Tsin-kiang, today Jingjiang, 靖江, ...</td>\n",
       "      <td>deh-r1644-fukien</td>\n",
       "      <td>Chüanchow</td>\n",
       "      <td>...</td>\n",
       "      <td>NaN</td>\n",
       "      <td>NaN</td>\n",
       "      <td>NaN</td>\n",
       "      <td>NaN</td>\n",
       "      <td>NaN</td>\n",
       "      <td>NaN</td>\n",
       "      <td>NaN</td>\n",
       "      <td>NaN</td>\n",
       "      <td>NaN</td>\n",
       "      <td>NaN</td>\n",
       "    </tr>\n",
       "    <tr>\n",
       "      <th>45</th>\n",
       "      <td>Fukien</td>\n",
       "      <td>deh-r1644-tingteo</td>\n",
       "      <td>tcheou-hien</td>\n",
       "      <td>Tingteo</td>\n",
       "      <td>Tingteo#\"\"\"(?) 藤头？顶头？ in the Chinese translati...</td>\n",
       "      <td>Q41705</td>\n",
       "      <td>No wikidata</td>\n",
       "      <td>(?) 藤头？顶头？ in the Chinese translation it is re...</td>\n",
       "      <td>deh-r1644-fukien</td>\n",
       "      <td>Funing</td>\n",
       "      <td>...</td>\n",
       "      <td>NaN</td>\n",
       "      <td>NaN</td>\n",
       "      <td>NaN</td>\n",
       "      <td>NaN</td>\n",
       "      <td>NaN</td>\n",
       "      <td>NaN</td>\n",
       "      <td>NaN</td>\n",
       "      <td>NaN</td>\n",
       "      <td>NaN</td>\n",
       "      <td>NaN</td>\n",
       "    </tr>\n",
       "    <tr>\n",
       "      <th>81</th>\n",
       "      <td>Hukwang</td>\n",
       "      <td>deh-r1644-meng-kia-ki</td>\n",
       "      <td>tcheou-hien</td>\n",
       "      <td>Meng kia k´i</td>\n",
       "      <td>Meng kia k´i#\"\"\"(?) in the Chinese translation...</td>\n",
       "      <td>Q1014420</td>\n",
       "      <td>No wikidata</td>\n",
       "      <td>(?) in the Chinese translation it is recognize...</td>\n",
       "      <td>deh-r1644-hukwang</td>\n",
       "      <td>Kingchow</td>\n",
       "      <td>...</td>\n",
       "      <td>NaN</td>\n",
       "      <td>NaN</td>\n",
       "      <td>NaN</td>\n",
       "      <td>NaN</td>\n",
       "      <td>NaN</td>\n",
       "      <td>NaN</td>\n",
       "      <td>NaN</td>\n",
       "      <td>NaN</td>\n",
       "      <td>NaN</td>\n",
       "      <td>NaN</td>\n",
       "    </tr>\n",
       "    <tr>\n",
       "      <th>92</th>\n",
       "      <td>Anhwei</td>\n",
       "      <td>deh-r1644-tungment</td>\n",
       "      <td>tcheou-hien</td>\n",
       "      <td>Tungmen</td>\n",
       "      <td>Tungmen#\"\"\"(?) In Dehergne(1957, p51): \"Chréti...</td>\n",
       "      <td>Q40956</td>\n",
       "      <td>No wikidata</td>\n",
       "      <td>(?) In Dehergne(1957, p51): \"Chrétienté au Wuy...</td>\n",
       "      <td>deh-r1644-anhwei</td>\n",
       "      <td>Hweichow</td>\n",
       "      <td>...</td>\n",
       "      <td>NaN</td>\n",
       "      <td>NaN</td>\n",
       "      <td>NaN</td>\n",
       "      <td>NaN</td>\n",
       "      <td>NaN</td>\n",
       "      <td>NaN</td>\n",
       "      <td>NaN</td>\n",
       "      <td>NaN</td>\n",
       "      <td>NaN</td>\n",
       "      <td>NaN</td>\n",
       "    </tr>\n",
       "    <tr>\n",
       "      <th>111</th>\n",
       "      <td>Kiangsu</td>\n",
       "      <td>deh-r1644-kaokia</td>\n",
       "      <td>tcheou-hien</td>\n",
       "      <td>Kaokia</td>\n",
       "      <td>Kaokia#\"\"\"(?) today Gaojia, 高家, in the Chinese...</td>\n",
       "      <td>Q16963</td>\n",
       "      <td>No wikidata</td>\n",
       "      <td>(?) today Gaojia, 高家, in the Chinese translati...</td>\n",
       "      <td>deh-r1644-kiangsu</td>\n",
       "      <td>Sungkiang</td>\n",
       "      <td>...</td>\n",
       "      <td>NaN</td>\n",
       "      <td>NaN</td>\n",
       "      <td>NaN</td>\n",
       "      <td>NaN</td>\n",
       "      <td>NaN</td>\n",
       "      <td>NaN</td>\n",
       "      <td>NaN</td>\n",
       "      <td>NaN</td>\n",
       "      <td>NaN</td>\n",
       "      <td>NaN</td>\n",
       "    </tr>\n",
       "    <tr>\n",
       "      <th>151</th>\n",
       "      <td>Kwangtung</td>\n",
       "      <td>deh-r1644-hwanghsiaping</td>\n",
       "      <td>tcheou-hien</td>\n",
       "      <td>Hwanghsiaping</td>\n",
       "      <td>Hwanghsiaping#\"\"\"(?) Hwanghsiaping, today Vank...</td>\n",
       "      <td>Q15175</td>\n",
       "      <td>No wikidata</td>\n",
       "      <td>(?) Hwanghsiaping, today Vankaxen, 黄下坪？, In th...</td>\n",
       "      <td>deh-r1644-kwangtung</td>\n",
       "      <td>Schiuchow</td>\n",
       "      <td>...</td>\n",
       "      <td>NaN</td>\n",
       "      <td>NaN</td>\n",
       "      <td>NaN</td>\n",
       "      <td>NaN</td>\n",
       "      <td>NaN</td>\n",
       "      <td>NaN</td>\n",
       "      <td>NaN</td>\n",
       "      <td>NaN</td>\n",
       "      <td>NaN</td>\n",
       "      <td>NaN</td>\n",
       "    </tr>\n",
       "    <tr>\n",
       "      <th>153</th>\n",
       "      <td>Kwangtung</td>\n",
       "      <td>deh-r1644-yangsiang</td>\n",
       "      <td>tcheou-hien</td>\n",
       "      <td>Yangsiang</td>\n",
       "      <td>Yangsiang#\"\"\"(?) In the Chinese translation, i...</td>\n",
       "      <td>Q15175</td>\n",
       "      <td>No wikidata</td>\n",
       "      <td>(?) In the Chinese translation, it is recogniz...</td>\n",
       "      <td>deh-r1644-kwangtung</td>\n",
       "      <td>Schiuchow</td>\n",
       "      <td>...</td>\n",
       "      <td>NaN</td>\n",
       "      <td>NaN</td>\n",
       "      <td>NaN</td>\n",
       "      <td>NaN</td>\n",
       "      <td>NaN</td>\n",
       "      <td>NaN</td>\n",
       "      <td>NaN</td>\n",
       "      <td>NaN</td>\n",
       "      <td>NaN</td>\n",
       "      <td>NaN</td>\n",
       "    </tr>\n",
       "    <tr>\n",
       "      <th>186</th>\n",
       "      <td>Shangtung</td>\n",
       "      <td>deh-r1644-kwanchang</td>\n",
       "      <td>tcheou-hien</td>\n",
       "      <td>Kwanchang</td>\n",
       "      <td>Kwanchang#\"\"\"(?) In Dehergne(1957), there is n...</td>\n",
       "      <td>Q43407</td>\n",
       "      <td>No wikidata</td>\n",
       "      <td>(?) In Dehergne(1957), there is no \"Kwanchang\"...</td>\n",
       "      <td>deh-r1644-shangtung</td>\n",
       "      <td>Tsinan</td>\n",
       "      <td>...</td>\n",
       "      <td>NaN</td>\n",
       "      <td>NaN</td>\n",
       "      <td>NaN</td>\n",
       "      <td>NaN</td>\n",
       "      <td>NaN</td>\n",
       "      <td>NaN</td>\n",
       "      <td>NaN</td>\n",
       "      <td>NaN</td>\n",
       "      <td>NaN</td>\n",
       "      <td>NaN</td>\n",
       "    </tr>\n",
       "    <tr>\n",
       "      <th>195</th>\n",
       "      <td>Shangtung</td>\n",
       "      <td>deh-r1644-peichingtien</td>\n",
       "      <td>tcheou-hien</td>\n",
       "      <td>Peichingtien</td>\n",
       "      <td>Peichingtien#(?) Dehergne(1957)did not give th...</td>\n",
       "      <td>Q43407</td>\n",
       "      <td>No wikidata</td>\n",
       "      <td>(?) Dehergne(1957)did not give the Chinese nam...</td>\n",
       "      <td>deh-r1644-shangtung</td>\n",
       "      <td>Tungchang</td>\n",
       "      <td>...</td>\n",
       "      <td>NaN</td>\n",
       "      <td>NaN</td>\n",
       "      <td>NaN</td>\n",
       "      <td>NaN</td>\n",
       "      <td>NaN</td>\n",
       "      <td>NaN</td>\n",
       "      <td>NaN</td>\n",
       "      <td>NaN</td>\n",
       "      <td>NaN</td>\n",
       "      <td>NaN</td>\n",
       "    </tr>\n",
       "    <tr>\n",
       "      <th>207</th>\n",
       "      <td>Shensi</td>\n",
       "      <td>deh-r1644-siao-tchai-tse</td>\n",
       "      <td>tcheou-hien</td>\n",
       "      <td>Siao tchai tse</td>\n",
       "      <td>Siao tchai tse#\"\"\"(?) In Dehergne(1957), it is...</td>\n",
       "      <td>Q47974</td>\n",
       "      <td>No wikidata</td>\n",
       "      <td>(?) In Dehergne(1957), it is noted as \"小塞子\", a...</td>\n",
       "      <td>deh-r1644-shensi</td>\n",
       "      <td>Hanchung</td>\n",
       "      <td>...</td>\n",
       "      <td>NaN</td>\n",
       "      <td>NaN</td>\n",
       "      <td>NaN</td>\n",
       "      <td>NaN</td>\n",
       "      <td>NaN</td>\n",
       "      <td>NaN</td>\n",
       "      <td>NaN</td>\n",
       "      <td>NaN</td>\n",
       "      <td>NaN</td>\n",
       "      <td>NaN</td>\n",
       "    </tr>\n",
       "  </tbody>\n",
       "</table>\n",
       "<p>12 rows × 28 columns</p>\n",
       "</div>"
      ],
      "text/plain": [
       "      province                        id        level            name  \\\n",
       "16    Chekiang          deh-r1644-wuking  tcheou-hien          Wuking   \n",
       "28      Fukien        deh-r1644-niensien  tcheou-hien        Niensien   \n",
       "38      Fukien       deh-r1644-tsinkiang  tcheou-hien      Tsingkiang   \n",
       "45      Fukien         deh-r1644-tingteo  tcheou-hien         Tingteo   \n",
       "81     Hukwang     deh-r1644-meng-kia-ki  tcheou-hien    Meng kia k´i   \n",
       "92      Anhwei        deh-r1644-tungment  tcheou-hien         Tungmen   \n",
       "111    Kiangsu          deh-r1644-kaokia  tcheou-hien          Kaokia   \n",
       "151  Kwangtung   deh-r1644-hwanghsiaping  tcheou-hien   Hwanghsiaping   \n",
       "153  Kwangtung       deh-r1644-yangsiang  tcheou-hien       Yangsiang   \n",
       "186  Shangtung       deh-r1644-kwanchang  tcheou-hien       Kwanchang   \n",
       "195  Shangtung    deh-r1644-peichingtien  tcheou-hien    Peichingtien   \n",
       "207     Shensi  deh-r1644-siao-tchai-tse  tcheou-hien  Siao tchai tse   \n",
       "\n",
       "                                         name_original province_wikidata_id  \\\n",
       "16   Wuking#(?) Uchim,Ou kin, Dehergne(1957) did no...               Q16967   \n",
       "28   Niensien#\"\"\"(?) Dehergne(1957, p30): \"A côté...               Q41705   \n",
       "38   Tsingkiang#\"\"\"Chingchiang ,Tsin-kiang, today J...               Q41705   \n",
       "45   Tingteo#\"\"\"(?) 藤头？顶头？ in the Chinese translati...               Q41705   \n",
       "81   Meng kia k´i#\"\"\"(?) in the Chinese translation...             Q1014420   \n",
       "92   Tungmen#\"\"\"(?) In Dehergne(1957, p51): \"Chréti...               Q40956   \n",
       "111  Kaokia#\"\"\"(?) today Gaojia, 高家, in the Chinese...               Q16963   \n",
       "151  Hwanghsiaping#\"\"\"(?) Hwanghsiaping, today Vank...               Q15175   \n",
       "153  Yangsiang#\"\"\"(?) In the Chinese translation, i...               Q15175   \n",
       "186  Kwanchang#\"\"\"(?) In Dehergne(1957), there is n...               Q43407   \n",
       "195  Peichingtien#(?) Dehergne(1957)did not give th...               Q43407   \n",
       "207  Siao tchai tse#\"\"\"(?) In Dehergne(1957), it is...               Q47974   \n",
       "\n",
       "     wikidata_id                                            comment  \\\n",
       "16   No wikidata  (?) Uchim,Ou kin, Dehergne(1957) did not give ...   \n",
       "28   No wikidata  (?) Dehergne(1957, p30): \"A côté de Hai keu ...   \n",
       "38       Q128883  Chingchiang ,Tsin-kiang, today Jingjiang, 靖江, ...   \n",
       "45   No wikidata  (?) 藤头？顶头？ in the Chinese translation it is re...   \n",
       "81   No wikidata  (?) in the Chinese translation it is recognize...   \n",
       "92   No wikidata  (?) In Dehergne(1957, p51): \"Chrétienté au Wuy...   \n",
       "111  No wikidata  (?) today Gaojia, 高家, in the Chinese translati...   \n",
       "151  No wikidata  (?) Hwanghsiaping, today Vankaxen, 黄下坪？, In th...   \n",
       "153  No wikidata  (?) In the Chinese translation, it is recogniz...   \n",
       "186  No wikidata  (?) In Dehergne(1957), there is no \"Kwanchang\"...   \n",
       "195  No wikidata  (?) Dehergne(1957)did not give the Chinese nam...   \n",
       "207  No wikidata  (?) In Dehergne(1957), it is noted as \"小塞子\", a...   \n",
       "\n",
       "             province_id        fou  ... portuguese_description coordinates  \\\n",
       "16    deh-r1644-chekiang     Ningpo  ...                    NaN         NaN   \n",
       "28      deh-r1644-fukien    Foochow  ...                    NaN         NaN   \n",
       "38      deh-r1644-fukien  Chüanchow  ...                    NaN         NaN   \n",
       "45      deh-r1644-fukien     Funing  ...                    NaN         NaN   \n",
       "81     deh-r1644-hukwang   Kingchow  ...                    NaN         NaN   \n",
       "92      deh-r1644-anhwei   Hweichow  ...                    NaN         NaN   \n",
       "111    deh-r1644-kiangsu  Sungkiang  ...                    NaN         NaN   \n",
       "151  deh-r1644-kwangtung  Schiuchow  ...                    NaN         NaN   \n",
       "153  deh-r1644-kwangtung  Schiuchow  ...                    NaN         NaN   \n",
       "186  deh-r1644-shangtung     Tsinan  ...                    NaN         NaN   \n",
       "195  deh-r1644-shangtung  Tungchang  ...                    NaN         NaN   \n",
       "207     deh-r1644-shensi   Hanchung  ...                    NaN         NaN   \n",
       "\n",
       "     latitude longitude administrative_entity_id  \\\n",
       "16        NaN       NaN                      NaN   \n",
       "28        NaN       NaN                      NaN   \n",
       "38        NaN       NaN                      NaN   \n",
       "45        NaN       NaN                      NaN   \n",
       "81        NaN       NaN                      NaN   \n",
       "92        NaN       NaN                      NaN   \n",
       "111       NaN       NaN                      NaN   \n",
       "151       NaN       NaN                      NaN   \n",
       "153       NaN       NaN                      NaN   \n",
       "186       NaN       NaN                      NaN   \n",
       "195       NaN       NaN                      NaN   \n",
       "207       NaN       NaN                      NaN   \n",
       "\n",
       "    administrative_entity_label_en administrative_entity_label_zh country_id  \\\n",
       "16                             NaN                            NaN        NaN   \n",
       "28                             NaN                            NaN        NaN   \n",
       "38                             NaN                            NaN        NaN   \n",
       "45                             NaN                            NaN        NaN   \n",
       "81                             NaN                            NaN        NaN   \n",
       "92                             NaN                            NaN        NaN   \n",
       "111                            NaN                            NaN        NaN   \n",
       "151                            NaN                            NaN        NaN   \n",
       "153                            NaN                            NaN        NaN   \n",
       "186                            NaN                            NaN        NaN   \n",
       "195                            NaN                            NaN        NaN   \n",
       "207                            NaN                            NaN        NaN   \n",
       "\n",
       "    country_label label  \n",
       "16            NaN   NaN  \n",
       "28            NaN   NaN  \n",
       "38            NaN   NaN  \n",
       "45            NaN   NaN  \n",
       "81            NaN   NaN  \n",
       "92            NaN   NaN  \n",
       "111           NaN   NaN  \n",
       "151           NaN   NaN  \n",
       "153           NaN   NaN  \n",
       "186           NaN   NaN  \n",
       "195           NaN   NaN  \n",
       "207           NaN   NaN  \n",
       "\n",
       "[12 rows x 28 columns]"
      ]
     },
     "execution_count": 947,
     "metadata": {},
     "output_type": "execute_result"
    }
   ],
   "source": [
    "# List rows in merged_df where the 'coordinates' column is NaN\n",
    "missing_coords_df = merged_df[merged_df['coordinates'].isna()]\n",
    "missing_coords_df"
   ]
  },
  {
   "cell_type": "markdown",
   "metadata": {},
   "source": [
    "### Map the structure of residences linking places to their enclosing administrative units."
   ]
  },
  {
   "cell_type": "code",
   "execution_count": 948,
   "metadata": {},
   "outputs": [
    {
     "name": "stderr",
     "output_type": "stream",
     "text": [
      "52708.06s - pydevd: Sending message related to process being replaced timed-out after 5 seconds\n"
     ]
    },
    {
     "name": "stdout",
     "output_type": "stream",
     "text": [
      ".bash_profile RUN!\n",
      "Requirement already satisfied: plotly in /Users/jrc/mhk-home/sources/dehergne/.venv/lib/python3.10/site-packages (6.1.2)\n",
      "Requirement already satisfied: narwhals>=1.15.1 in /Users/jrc/mhk-home/sources/dehergne/.venv/lib/python3.10/site-packages (from plotly) (1.41.0)\n",
      "Requirement already satisfied: packaging in /Users/jrc/mhk-home/sources/dehergne/.venv/lib/python3.10/site-packages (from plotly) (23.2)\n",
      "Note: you may need to restart the kernel to use updated packages.\n"
     ]
    }
   ],
   "source": [
    "%pip install plotly"
   ]
  },
  {
   "cell_type": "code",
   "execution_count": 949,
   "metadata": {},
   "outputs": [
    {
     "name": "stdout",
     "output_type": "stream",
     "text": [
      " id: deh-r1644-chuchow-tcheou Level: fou Province: Anhwei Q40956, Fou: Chuchow Q114045, Tcheou/Hien: Chuchow\n",
      "    Chuchow Chuchow, today Chuzhou, 滁州,  Chuzhou(prefecture-level city in Anhui, China) 滁州市(中国安徽省的地级市)\n",
      "    Fou: Chuchow (Wikidata ID: Q114045)\n",
      " id: deh-r1644-hweichow Level: fou Province: Anhwei Q40956, Fou: Hweichow Q4358404, Tcheou/Hien: Hweichow\n",
      "    Hweichow Hoei-tcheou, today Huizhou, 徽州,  Huizhou(region in Anhui and Jiangxi, China) 徽州(nan)\n",
      "    Fou: Hweichow (Wikidata ID: Q4358404)\n",
      " id: deh-r1644-tungment Level: tcheou-hien Province: Anhwei Q40956, Fou: Hweichow Q4358404, Tcheou/Hien: Tungmen\n",
      "    Tungmen (?) In Dehergne(1957, p51): \"Chrétienté au Wuyüan (Ou-yuen) hien, à la frontière du Kiangsi, et se nomme Tungmen, à l'ouest du Wuyüan, route de Kingtehchen.\" in the Chinese translation it is recogniazed as “东门村”, but it seems that there is no 东门村 in this area.Wuyuän hien le bourg de Tungmen nan(nan) nan(nan)\n",
      " id: deh-r1644-wuyan-hien Level: tcheou-hien Province: Anhwei Q40956, Fou: Hweichow Q4358404, Tcheou/Hien: Wuyan hien\n",
      "    Wuyan hien Ou-yuen, today Wuyuan Xian, 婺源县, , Wuyuan historically was in Anhui province, but now it is in the present-day Jiangxi province Wuyuan County(county in Shangrao, Jiangxi, China) 婺源县(中国江西省上饶市下辖县)\n",
      " id: deh-r1644-anhwei Level: province Province: Anhwei Q40956, Fou: nan nan, Tcheou/Hien: Anhwei\n",
      "    Anhwei Anhui, Ngon-hoei, today Anhui, 安徽,  Anhui(province of China) 安徽省(中華人民共和國省份)\n",
      "    Province: Anhwei (Wikidata ID: Q40956)\n",
      " id: deh-r1644-chuchow Level: fou Province: Chekiang Q16967, Fou: Chüchow Q58235, Tcheou/Hien: Chüchow\n",
      "    Chüchow K'iu-tcheou, today Quzhou, 衢州, , in the Chinese translation it is recognized as “遂州”, which is wrong, both phonetically and geographically. In Dehergne(1957), it is noted as \"衢州\". Quzhou(prefecture-level city in Zhejiang, China) 衢州市(中国浙江省的地级市)\n",
      "    Fou: Chüchow (Wikidata ID: Q58235)\n",
      " id: deh-r1644-fuyang Level: tcheou-hien Province: Chekiang Q16967, Fou: Hangchou Q4970, Tcheou/Hien: Fuyang\n",
      "    Fuyang Fou-yang, today Fuyang, 富阳,  Fuyang District(district of Zhejiang Province, China) 富阳区(中国浙江省杭州市的市辖区)\n",
      " id: deh-r1644-hangchou Level: fou Province: Chekiang Q16967, Fou: Hangchou Q4970, Tcheou/Hien: Hangchou\n",
      "    Hangchou Hang-tcheou, today Hangzhou, 杭州,  Hangzhou(capital of Zhejiang Province, China) 杭州市(亞洲城市，中華人民共和國浙江省省會)\n",
      "    Fou: Hangchou (Wikidata ID: Q4970)\n",
      " id: deh-r1644-jenho Level: tcheou-hien Province: Chekiang Q16967, Fou: Hangchou Q4970, Tcheou/Hien: Jenho\n",
      "    Jenho Jen-houo, today Renhe, 仁和县 (), Historical county name, coordinates: 30.448897N, 120.307504E Renhe(historical administrative division of China) 仁和县(中國古代行政區劃)\n",
      " id: deh-r1644-huchow Level: fou Province: Chekiang Q16967, Fou: Huchow Q42664, Tcheou/Hien: Huchow\n",
      "    Huchow Hou-tcheou, today Huzhou, 湖州,  Huzhou(prefecture-level city in Zhejiang, China) 湖州市(中国浙江省的地级市)\n",
      "    Fou: Huchow (Wikidata ID: Q42664)\n",
      " id: deh-r1644-huchow-geo1-46 Level: tcheou-hien Province: Chekiang Q16967, Fou: Huchow Q42664, Tcheou/Hien: Tehtsing\n",
      "    Tehtsing \"Tehtsing du Huchow, Té-ts'ingTeching# today Deqing, 德清, \" Deqing County(county in Zhejiang, China) 德清县(中国浙江省湖州市下辖县)\n",
      " id: deh-r1644-kaosham Level: tcheou-hien Province: Chekiang Q16967, Fou: Kashing Q58178, Tcheou/Hien: Kashan\n",
      "    Kashan Kia-chan, today Jiashan, 嘉善, Kaosham Jiashan County(county of Jiaxing, Zhejiang Province, China) 嘉善县(中国浙江省嘉兴市的县)\n",
      " id: deh-r1644-kashing Level: fou Province: Chekiang Q16967, Fou: Kashing Q58178, Tcheou/Hien: Kashing\n",
      "    Kashing Kia-hing, today Jiaxing, 嘉兴,  Jiaxing(prefecture-level city in Zhejiang, China) 嘉兴市(中国浙江省的地级市)\n",
      "    Fou: Kashing (Wikidata ID: Q58178)\n",
      " id: deh-r1644-tangsi Level: tcheou-hien Province: Chekiang Q16967, Fou: Kashing Q58178, Tcheou/Hien: Tangsi\n",
      "    Tangsi \"T'ang-k'i Tangchi\", today Tangqi, 塘栖 , in the Chinese translation it is recognized as “塘拪” Tangxi(Town in Hangzhou, China) 塘栖镇(杭州市临平区的一个下辖镇)\n",
      " id: deh-r1644-tsungteh Level: tcheou-hien Province: Chekiang Q16967, Fou: Kashing Q58178, Tcheou/Hien: Tsungteh\n",
      "    Tsungteh Tch'ong-té,today Chongde, 崇德县 , Historical county name, located in the present Chongfu 崇福镇Tsungteh (Shihmen) Chongde County(historical county in Zhejiang, China) 崇德县(中国浙江省旧县名)\n",
      " id: deh-r1644-tungsiang Level: tcheou-hien Province: Chekiang Q16967, Fou: Kashing Q58178, Tcheou/Hien: Tungsiang\n",
      "    Tungsiang T'ong-hiang, today Tongxiang, 桐乡,  Tongxiang City(County-level city in Zhejiang Province, China) 桐乡市(中国浙江省嘉兴市下辖的县级市)\n",
      " id: deh-r1644-kinhwa Level: fou Province: Chekiang Q16967, Fou: Kinhwa Q58210, Tcheou/Hien: Kinhwa\n",
      "    Kinhwa Kin-hoa,Chinhua,today Jinhua, 金华,  Jinhua(prefecture-level city in Zhejiang, China) 金华市(中国浙江省中部的地级市)\n",
      "    Fou: Kinhwa (Wikidata ID: Q58210)\n",
      " id: deh-r1644-lanchi Level: tcheou-hien Province: Chekiang Q16967, Fou: Kinhwa Q58210, Tcheou/Hien: Lanchi\n",
      "    Lanchi (qui deviendra em 1656 R des OP)Lan-k'i， today Lanxi, 兰溪,  Lanxi(county-level city in Zhejiang, China) 兰溪市(中国浙江省金华市代管的一个县级城市)\n",
      " id: deh-r1644-tungyang Level: tcheou-hien Province: Chekiang Q16967, Fou: Kinhwa Q58210, Tcheou/Hien: Tungyang\n",
      "    Tungyang Tong-yang, today Dongyang, 东阳,  Dongyang(county-level city) 东阳市(浙江省金华市下辖的县级市)\n",
      " id: deh-r1644-ningpo Level: fou Province: Chekiang Q16967, Fou: Ningpo Q42780, Tcheou/Hien: Ningpo\n",
      "    Ningpo (v. 1540?)Ning-pouo,today Ningbo, 宁波,  Ningbo(prefecture-level city in Zhejiang, China) 宁波市(浙江省的第二大城市，副省级市)\n",
      "    Fou: Ningpo (Wikidata ID: Q42780)\n",
      " id: deh-r1644-tinghai Level: tcheou-hien Province: Chekiang Q16967, Fou: Ningpo Q42780, Tcheou/Hien: Tinghai\n",
      "    Tinghai T'ing-hai, today Dinghai, 定海,  Dinghai District(district of Zhejiang Province, China) 定海区(nan)\n",
      " id: deh-r1644-tzeki Level: tcheou-hien Province: Chekiang Q16967, Fou: Ningpo Q42780, Tcheou/Hien: Tzeki\n",
      "    Tzeki Ts'e-k'i,Tsuchi, today Cixi, 慈溪,  Cixi City(county-level city in Ningbo, Zhejiang Province, China) 慈溪市(中国浙江省宁波市代管的一个县级市)\n",
      " id: deh-r1644-wuking Level: tcheou-hien Province: Chekiang Q16967, Fou: Ningpo Q42780, Tcheou/Hien: Wuking\n",
      "    Wuking (?) Uchim,Ou kin, Dehergne(1957) did not give its Chinese name. In the Chinese translation it is recognized as “五井村”, which cannot be found.bourg de Wuking nan(nan) nan(nan)\n",
      " id: deh-r1644-shaoshing Level: fou Province: Chekiang Q16967, Fou: Shaoshing Q706161, Tcheou/Hien: Shaoshing\n",
      "    Shaoshing Chao-hing,Shaohsing, today Shaoxing, 绍兴,  Cixi City(county-level city in Ningbo, Zhejiang Province, China) 慈溪市(中国浙江省宁波市代管的一个县级市)\n",
      "    Fou: Shaoshing (Wikidata ID: Q706161)\n",
      " id: deh-r1644-juian Level: tcheou-hien Province: Chekiang Q16967, Fou: Wenchow Q42635, Tcheou/Hien: Juian\n",
      "    Juian Joei-ngan, today Rui'an, 瑞安,  Rui'an(county-level city in China's Zhejiang province) 瑞安市(中国浙江省温州市的县级市)\n",
      " id: deh-r1644-wenchow Level: fou Province: Chekiang Q16967, Fou: Wenchow Q42635, Tcheou/Hien: Wenchow\n",
      "    Wenchow Wen-tcheou, today Wenzhou, 温州,  Wenzhou(prefecture-level city in Zhejiang, China) 温州市(中国浙江省的地级市)\n",
      "    Fou: Wenchow (Wikidata ID: Q42635)\n",
      " id: deh-r1644-chekiang Level: province Province: Chekiang Q16967, Fou: nan nan, Tcheou/Hien: Chekiang\n",
      "    Chekiang Tche-kiang, today Zhejiang, 浙江,  @dehergne:396 Zhejiang(province of China) 浙江省(中華人民共和國東部省份)\n",
      "    Province: Chekiang (Wikidata ID: Q16967)\n",
      " id: deh-r1644-aupua Level: tcheou-hien Province: Fukien Q41705, Fou: Changchow Q68814, Tcheou/Hien: Aupua\n",
      "    Aupua today Houban, 后坂 (), (@geonames:1977135), coordinates: 24.50213852506329N, 117.6917197408656EAu-poa,Heupuen Houban(village in China) 后坂村(nan)\n",
      " id: deh-r1644-changchow Level: fou Province: Fukien Q41705, Fou: Changchow Q68814, Tcheou/Hien: Changchow\n",
      "    Changchow Zhangzhou, today Zhangzhou, 漳州, Changchow (Lungki) Zhangzhou(prefecture-level city in Fujian, China) 漳州市(中国福建省的地级市)\n",
      "    Fou: Changchow (Wikidata ID: Q68814)\n",
      " id: deh-r1644-amoy Level: tcheou-hien Province: Fukien Q41705, Fou: Chüanchow Q68695, Tcheou/Hien: Amoy\n",
      "    Amoy Hia-men,Shamen, today Xiamen, 厦门, ,Amoy (Szeming) Xiamen(prefecture-level city in Fujian, China) 厦门市(中國福建省的副省級市)\n",
      " id: deh-r1644-anhai Level: tcheou-hien Province: Fukien Q41705, Fou: Chüanchow Q68695, Tcheou/Hien: Anhai\n",
      "    Anhai Ngan-hai,today Anhai,安海, principaux bourgs Anhai Town(town in Fujian Province, China) 安海镇(晋江市的一个镇)\n",
      " id: deh-r1644-chuanchow Level: fou Province: Fukien Q41705, Fou: Chüanchow Q68695, Tcheou/Hien: Chüanchow\n",
      "    Chüanchow Quanzhou, Ts'iuen-tcheou, today Quanzhou, 泉州,  Quanzhou(prefecture-level city in Fujian, China) 泉州市(中国福建省的地级市)\n",
      "    Fou: Chüanchow (Wikidata ID: Q68695)\n",
      " id: deh-r1644-hweian Level: tcheou-hien Province: Fukien Q41705, Fou: Chüanchow Q68695, Tcheou/Hien: Hweian\n",
      "    Hweian Hoei-ngan, today Hui'an, 惠安,  Hui'an County(county) 惠安县(中国福建泉州的县)\n",
      " id: deh-r1644-tsinkiang Level: tcheou-hien Province: Fukien Q41705, Fou: Chüanchow Q68695, Tcheou/Hien: Tsingkiang\n",
      "    Tsingkiang Chingchiang ,Tsin-kiang, today Jingjiang, 靖江, . In the original book (Dehergne, 1973), it is written as \"Tsinkiang\" (without g), which is wrongly spelled, because from both phonetic and geographical points of view, it should be Tsingkiang 靖江. In Dehergne(1973), it is written as Tsingjiang. And in the Chinese translation, it is also recognized as \"靖江\".Tsinkiang nan(nan) nan(nan)\n",
      " id: deh-r1644-yungchun Level: tcheou-hien Province: Fukien Q41705, Fou: Chüanchow Q68695, Tcheou/Hien: Yungchun\n",
      "    Yungchun Yong-tch'oen,Yungchin, today Yongchun, 永春,  Yongchun County(county in Quanzhou, Fujian, China) 永春县(中国福建省泉州市下辖县)\n",
      " id: deh-r1644-diongloh Level: tcheou-hien Province: Fukien Q41705, Fou: Foochow Q68481, Tcheou/Hien: Diongloh\n",
      "    Diongloh today Changle,长乐, Diongloh (Tch'ang-lo), Tch'ang-lo,Changlo Changle District(district in Fuzhou, Fujian, China) 长乐区(中国福建省福州市的区)\n",
      " id: deh-r1644-foochow Level: fou Province: Fukien Q41705, Fou: Foochow Q68481, Tcheou/Hien: Foochow\n",
      "    Foochow Fuzhou，Fou-tcheou,Fuchou，today Fuzhou, 福州,  Fuzhou(capital city of Fujian province, China) 福州市(中国福建省省会，地级市)\n",
      "    Fou: Foochow (Wikidata ID: Q68481)\n",
      " id: deh-r1644-futsing Level: tcheou-hien Province: Fukien Q41705, Fou: Foochow Q68481, Tcheou/Hien: Futsing\n",
      "    Futsing Fou-ts'ing, Fuching, today Fuqing, 福清,  Fuqing(county-level city in Fuzhou, Fujian, China) 福清市(中国福建省福州市下辖县级市)\n",
      " id: deh-r1644-hoihow Level: tcheou-hien Province: Fukien Q41705, Fou: Foochow Q68481, Tcheou/Hien: Hoihow\n",
      "    Hoihow Haikeu, today Haikou, 海口镇, bourg de Hoihow (Haikeu) Haikou Town (Fuqing City)(town in Fujian Province, China) 海口镇 (福清市)(福州市的一个镇)\n",
      " id: deh-r1644-hungtang Level: tcheou-hien Province: Fukien Q41705, Fou: Foochow Q68481, Tcheou/Hien: Hungtang\n",
      "    Hungtang today Hongtang, 洪塘, , in the Chinese translation it is written as “宏塘”, and in Dehergne(1957) it is \"洪堂\". But actually this place is written with the characters \"洪塘\".bourg de Hungtang nan(human settlement in People's Republic of China) 洪塘 (福州)(nan)\n",
      " id: deh-r1644-kutien Level: tcheou-hien Province: Fukien Q41705, Fou: Foochow Q68481, Tcheou/Hien: Kutien\n",
      "    Kutien Kou-t'ien, today Gutian, 古田,  Gutian County(county in Fujian Province, China) 古田县(福建省的县份)\n",
      " id: deh-r1644-lienkong Level: tcheou-hien Province: Fukien Q41705, Fou: Foochow Q68481, Tcheou/Hien: Lienkong\n",
      "    Lienkong Lien-kiang,Lienchiang, today Lianjiang, 连江,  Lianjiang County(county in Fujian, China) 连江县(福建县份，主体部分今由中华人民共和国控制)\n",
      " id: deh-r1644-machang Level: tcheou-hien Province: Fukien Q41705, Fou: Foochow Q68481, Tcheou/Hien: Machang\n",
      "    Machang today Machang, 马厂村,  (Changshan district),The Wikidata Q17033140 is that of \"马厂街基督教堂\" Machang Street Christian Church, but no coordinatesbourg de Machang, Machang Cangshan District(district of Fuzhou, Fujian, China) 仓山区(中国福建省福州市市辖区)\n",
      " id: deh-r1644-niensien Level: tcheou-hien Province: Fukien Q41705, Fou: Foochow Q68481, Tcheou/Hien: Niensien\n",
      "    Niensien (?) Dehergne(1957, p30): \"A côté de Hai keu on cite, en 1639, une chrétienté \" Nien sien \", dont nous ignorons tout.\"bourg de Niensien nan(nan) nan(nan)\n",
      " id: deh-r1644-fuan Level: tcheou-hien Province: Fukien Q41705, Fou: Funing Q241877, Tcheou/Hien: Fuan\n",
      "    Fuan Fou-ngan, today Fu'an, 福安,  Fu'an(county-level city) 福安市(中国福建省宁德市代管的县级市)\n",
      " id: deh-r1644-funing Level: fou Province: Fukien Q41705, Fou: Funing Q241877, Tcheou/Hien: Funing\n",
      "    Funing Fou-ning, today Funing, 福宁,, historical administrative division. The Wikidata code is of its administrative center Xiapu 霞浦Funing (tcheou indép.) Xiapu County(county) 霞浦县(福建省宁德市下辖县)\n",
      "    Fou: Funing (Wikidata ID: Q241877)\n",
      " id: deh-r1644-hiapoey Level: tcheou-hien Province: Fukien Q41705, Fou: Funing Q241877, Tcheou/Hien: Hiapoey\n",
      "    Hiapoey Apuy, today Xiapi, 下邳, in the Chinese translation, it is recognized as \"霞浦\", but actually it is not. In Dehergne(1957), it is noted as \"下邳\", coordinates: 26.832013826263175N,119.77591087254943E geonames:8579733 (China, FujianNingde Shi, xiapicun), Ningde Shi -> Hiapoey (Apuy) Ningde Shi(nan) nan(nan)\n",
      " id: deh-r1644-lokia Level: tcheou-hien Province: Fukien Q41705, Fou: Funing Q241877, Tcheou/Hien: Lokia\n",
      "    Lokia \"\"\"Lukiahsiang,Lokahoeng, today Luojiaxiang, 罗家巷, in the Chinese translation, it is recognized as 闾峡, but in Dehergne(1957), it is noted as 罗家巷. 罗家巷 now is in 罗江. coordinates: 26.971131830911116N, 119.67270683499889E geonames:8579942 Luojiangcun circa  \"\"\"principaux bourgs Luojiang District(district of China) 洛江区(nan)\n",
      " id: deh-r1644-muyang Level: tcheou-hien Province: Fukien Q41705, Fou: Funing Q241877, Tcheou/Hien: Muyang\n",
      "    Muyang today Muyang, 穆阳, principaux bourgs, Mou-yang Muyang Town(town in Fujian Province, China) 穆阳镇(nan)\n",
      " id: deh-r1644-ningteh Level: tcheou-hien Province: Fukien Q41705, Fou: Funing Q241877, Tcheou/Hien: Ningteh\n",
      "    Ningteh today Ningde, 宁德, Ning-té,Ningte Ningde(prefecture-level city in Fujian, People's Republic of China) 宁德市(中国福建省的地级市)\n",
      " id: deh-r1644-showning Level: tcheou-hien Province: Fukien Q41705, Fou: Funing Q241877, Tcheou/Hien: Showning\n",
      "    Showning Cheou-ning, today Shouning, 寿宁,  Shouning County(county) 寿宁县(nan)\n",
      " id: deh-r1644-tingteo Level: tcheou-hien Province: Fukien Q41705, Fou: Funing Q241877, Tcheou/Hien: Tingteo\n",
      "    Tingteo (?) 藤头？顶头？ in the Chinese translation it is recognized as “丁岛”, which is wrong, in Dehergne(1957, p.35), says \"identification de la localité n'est pas facile.\" And several possible Chinese names were given, not sure which is the right one. nan(nan) nan(nan)\n",
      " id: deh-r1644-hinghwa Level: fou Province: Fukien Q41705, Fou: Hinghwa Q68579, Tcheou/Hien: Hinghwa\n",
      "    Hinghwa Hing-hoa,Hsinghua, today Xinghua, 兴化, wikidata:Q17498990, 兴化县，the wikidata code of it does not contain coordinate information, which can be substituted by ，the present-day Putian 莆田 Putian(prefecture-level city in Fujian, China) 莆田市(中华人民共和国福建省地级市)\n",
      "    Fou: Hinghwa (Wikidata ID: Q68579)\n",
      " id: deh-r1644-putien Level: tcheou-hien Province: Fukien Q41705, Fou: Hinghwa Q68579, Tcheou/Hien: Putien\n",
      "    Putien P'ou-t'ien, today Putian, 莆田,  Putian Xian(ancient county of China) 莆田縣(中国历史地名, 福建省莆田市)\n",
      " id: deh-r1644-sienyu Level: tcheou-hien Province: Fukien Q41705, Fou: Hinghwa Q68579, Tcheou/Hien: Sienyu\n",
      "    Sienyu Sien-yeou, today Xianyou, 仙游,  Xianyou County(county) 仙游县(中国福建省莆田市代管县)\n",
      " id: deh-r1644-chungan Level: tcheou-hien Province: Fukien Q41705, Fou: Kienning Q639862, Tcheou/Hien: Chungan\n",
      "    Chungan Tch'ong-ngan, today Chong'an, 崇安, , Today the city's name changed to be Wuyishan 武夷山市, and the wikidata code is that of Wuyishan Wuyishan(county-level city in Nanping, China) 武夷山市(nan)\n",
      " id: deh-r1644-kienning Level: fou Province: Fukien Q41705, Fou: Kienning Q639862, Tcheou/Hien: Kienning\n",
      "    Kienning Kienning (Kienow), Kien-yang, today Jianyang, 建阳,  Jianyang District(district of Nanping, Fujian, China) 建阳区(nan)\n",
      "    Fou: Kienning (Wikidata ID: Q639862)\n",
      " id: deh-r1644-kienyang Level: tcheou-hien Province: Fukien Q41705, Fou: Kienning Q639862, Tcheou/Hien: Kienyang\n",
      "    Kienyang Kien-yang, today Jianyang, 建阳,  Jianyang District(district of Nanping, Fujian, China) 建阳区(nan)\n",
      " id: deh-r1644-kienning-hien Level: tcheou-hien Province: Fukien Q41705, Fou: Shaowu Q1025451, Tcheou/Hien: Kienning hien\n",
      "    Kienning hien Kien-ning,Chienning, today Jianning Xian, 建宁县,  Jianning County(county) 建宁县(中国福建省三明市下辖县)\n",
      " id: deh-r1644-shaowu Level: fou Province: Fukien Q41705, Fou: Shaowu Q1025451, Tcheou/Hien: Shaowu\n",
      "    Shaowu Chao-ou, today Shaowu, 邵武,  Shaowu(county-level city) 邵武市(福建省南平市代管的县级市)\n",
      "    Fou: Shaowu (Wikidata ID: Q1025451)\n",
      " id: deh-r1644-taining Level: tcheou-hien Province: Fukien Q41705, Fou: Shaowu Q1025451, Tcheou/Hien: Taining\n",
      "    Taining T'ai-ning, today Taining, 泰宁,  Taining County(county) 泰宁县(nan)\n",
      " id: deh-r1644-camarri Level: tcheou-hien Province: Fukien Q41705, Fou: Taiwan Q22502, Tcheou/Hien: Camarri\n",
      "    Camarri today Jinbaoli, 金包里, in the Chinese translation it is recognized as “噶玛兰”, but in Dehergne(1957) it is noted as \"金包里\". It is an area in the Northern Taiwan, coordinates: 25.22189808588497N, 121.6382892794898EQuimauri nan(nan) nan(nan)\n",
      " id: deh-r1644-kilung Level: tcheou-hien Province: Fukien Q41705, Fou: Taiwan Q22502, Tcheou/Hien: Kilung\n",
      "    Kilung Ki-long, Jilong, today Keelung, 基隆,  Keelung(provincial-level city and the northernmost city in Taiwan) 基隆市(臺灣（中華民國）省轄市、臺灣最北的都市)\n",
      " id: deh-r1644-santiago Level: tcheou-hien Province: Fukien Q41705, Fou: Taiwan Q22502, Tcheou/Hien: Santiago\n",
      "    Santiago today Cape Santiago, 三貂角, Kakinauan, Samitiao Cape Santiago(cape located in Taiwan) 三貂角(位於台灣東北部的岬角)\n",
      " id: deh-r1644-taiwan Level: fou Province: Fukien Q41705, Fou: Taiwan Q22502, Tcheou/Hien: Taiwan\n",
      "    Taiwan today Taiwan, 台湾, Formose (Taiwan), Formosa Taiwan Island(island in East Asia; main land of the Republic of China (Taiwan)) 臺灣島(位於西太平洋的東亞島嶼)\n",
      "    Fou: Taiwan (Wikidata ID: Q22502)\n",
      " id: deh-r1644-taiwan-geo2-45 Level: tcheou-hien Province: Fukien Q41705, Fou: Taiwan Q22502, Tcheou/Hien: Tamsui\n",
      "    Tamsui Tamsui District(A district in New Taipei City, Taiwan) 淡水區(臺灣新北市的市轄區)\n",
      " id: deh-r1644-taparri Level: tcheou-hien Province: Fukien Q41705, Fou: Taiwan Q22502, Tcheou/Hien: Taparri\n",
      "    Taparri \"\"\"hoje：大包里 in the Chinese translation it is recognized as 塔巴里,in Dehergne(1957) it is noted as 大包里, which cannot be found in the map. Dehergne(1957) puts it as \"Peninsule de Masu, à 1 lieue nord-ouest de San Salvador (社寮)\"\n",
      "                today's Santissima Trinidad ， with Masu coordinates:25.201218764354735N, 121.68618375811317E\"\"\" Santisima Trinidad(former bay on the northeast coast of Taiwan at Keelung) nan(nan)\n",
      " id: deh-r1644-ninghwa Level: tcheou-hien Province: Fukien Q41705, Fou: Tingchow Q7808213, Tcheou/Hien: Ninghwa\n",
      "    Ninghwa Ning-hoa, today Ninghua, 宁化,  Ninghua County(county) 宁化县(中国福建省三明市下辖县)\n",
      " id: deh-r1644-tingchow2 Level: fou Province: Fukien Q41705, Fou: Tingchow Q7808213, Tcheou/Hien: Tingchow\n",
      "    Tingchow T'ing-tcheou, today Tingzhou, 汀州,  Tingzhou Town(town in Fujian Province, China) 汀州镇(nan)\n",
      "    Fou: Tingchow (Wikidata ID: Q7808213)\n",
      " id: deh-r1644-tsingliu Level: tcheou-hien Province: Fukien Q41705, Fou: Tingchow Q7808213, Tcheou/Hien: Tsingliu\n",
      "    Tsingliu Tsing-lowou,Chingliu, today Qingliu, 清流,  Qingliu County(county) 清流县(位於中華人民共和國福建省的縣)\n",
      " id: deh-r1644-shahsien Level: tcheou-hien Province: Fukien Q41705, Fou: Yenping Q1337959, Tcheou/Hien: Shahsien\n",
      "    Shahsien today Shaxian, 沙县 Cha Shaxian District(district in Sanming, Fujian, China) 沙县区(中国福建省三明市的市辖区)\n",
      " id: deh-r1644-yenping Level: fou Province: Fukien Q41705, Fou: Yenping Q1337959, Tcheou/Hien: Yenping\n",
      "    Yenping Yen-p'ing, today Yanping, 延平,  Yanping District(district of China) 延平区(中国福建省南平市下辖区)\n",
      "    Fou: Yenping (Wikidata ID: Q1337959)\n",
      " id: deh-r1644-fukien Level: province Province: Fukien Q41705, Fou: nan nan, Tcheou/Hien: Fukien\n",
      "    Fukien Fou-kien, today Fujian, 福建,  @dehergne:397 Fujian(province of the People's Republic of China, covering the mountainous coast opposite Taiwan) 福建省(中华人民共和国省份)\n",
      "    Province: Fukien (Wikidata ID: Q41705)\n",
      " id: deh-r1644-kaifeng Level: fou Province: Honan Q43684, Fou: Kaifeng Q208471, Tcheou/Hien: Kaifeng\n",
      "    Kaifeng Kaifeng (Pienleang) «chrétiens de la Croix» (D'Elu II 319 sq) v. 1550., chrétienté v. 1623, K'ai-fong, today Kaifeng, 开封,  Kaifeng(prefecture-level city in Henan, China, a former capital of China) 開封市(中國河南省的地級市)\n",
      "    Fou: Kaifeng (Wikidata ID: Q208471)\n",
      " id: deh-r1644-yuanwu Level: tcheou-hien Province: Honan Q43684, Fou: Kaifeng Q208471, Tcheou/Hien: Yüanwu\n",
      "    Yüanwu Yuen-ou, today Yuanwu, 原武,  Yuanwu Town(nan) 原武镇(中华人民共和国境内的一个乡镇级行政单位)\n",
      " id: deh-r1644-kweiteh Level: fou Province: Honan Q43684, Fou: Kweiteh Q404817, Tcheou/Hien: Kweiteh\n",
      "    Kweiteh Koei-té,Kueite, today Guide, 归德,  Shangqiu(prefecture-level city in Henan, China) 商丘市(中國河南省的地級市)\n",
      "    Fou: Kweiteh (Wikidata ID: Q404817)\n",
      " id: deh-r1644-honan Level: province Province: Honan Q43684, Fou: nan nan, Tcheou/Hien: Honan\n",
      "    Honan today Henan, 河南,  Henan(province of the People's Republic of China (1949-)) 河南省(中华人民共和国省份)\n",
      "    Province: Honan (Wikidata ID: Q43684)\n",
      " id: deh-r1644-anlu Level: fou Province: Hukwang Q1014420, Fou: Anlu Q557934, Tcheou/Hien: Anlu\n",
      "    Anlu do Hupei?, Ngan-lou, today Anlu, 安陆,  Anlu(county-level city) 安陆市(中国湖北省孝感市代管的一个县级市)\n",
      "    Fou: Anlu (Wikidata ID: Q557934)\n",
      " id: deh-r1644-kingmen Level: tcheou-hien Province: Hukwang Q1014420, Fou: Anlu Q557934, Tcheou/Hien: Kingmen\n",
      "    Kingmen Kingmen, King-men,Chingmen, today Jingmen, 荆门,  Jingmen(prefecture-level city in Hubei, China) 荆门市(中国湖北省中部的地级市)\n",
      " id: deh-r1644-hwangchow Level: fou Province: Hukwang Q1014420, Fou: Hwangchow Q927929, Tcheou/Hien: Hwangchow\n",
      "    Hwangchow do Hupei?, Hoang-tcheou, today Huangzhou, 黄州,  Huangzhou District(district in Huanggang, Hubei, China) 黄州区(湖北省黄冈市辖区)\n",
      "    Fou: Hwangchow (Wikidata ID: Q927929)\n",
      " id: deh-r1644-kichow Level: tcheou-hien Province: Hukwang Q1014420, Fou: Hwangchow Q927929, Tcheou/Hien: Kichow\n",
      "    Kichow Kichow (Kichun), King-men,Chingmen, today Jingmen, 荆门,  Jingmen(prefecture-level city in Hubei, China) 荆门市(中国湖北省中部的地级市)\n",
      " id: deh-r1644-kingchow Level: fou Province: Hukwang Q1014420, Fou: Kingchow Q14135188, Tcheou/Hien: Kingchow\n",
      "    Kingchow do Hupei?, K'i-tcheou,Chichou, today Qizhou, 蕲州,  Qizhou Town(nan) 蕲州镇(nan)\n",
      "    Fou: Kingchow (Wikidata ID: Q14135188)\n",
      " id: deh-r1644-kungan Level: tcheou-hien Province: Hukwang Q1014420, Fou: Kingchow Q14135188, Tcheou/Hien: Kungan\n",
      "    Kungan Kong-ngan, today Gong'an, 公安,  Gong'an County(county in Jingzhou, Hubei) 公安县(中国湖北省荆州市辖县)\n",
      " id: deh-r1644-meng-kia-ki Level: tcheou-hien Province: Hukwang Q1014420, Fou: Kingchow Q14135188, Tcheou/Hien: Meng kia k´i\n",
      "    Meng kia k´i (?) in the Chinese translation it is recognized as “孟家集”, but 孟家集 is in Shandong province, not in Hubei. Dehergne(1957) said \"Meng-kia-k´i à la frontière du Hunan, ancienne chrétienté des Ming\"au bourg de Meng kia k´i nan(nan) nan(nan)\n",
      " id: deh-r1644-shihshow Level: tcheou-hien Province: Hukwang Q1014420, Fou: Kingchow Q14135188, Tcheou/Hien: Shihshow\n",
      "    Shihshow Che-cheou, today Shishou, 石首,  Shishou(county-level city in Jingzhou, Hubei province, China) 石首市(中国湖北省荆州市代管的县级市)\n",
      " id: deh-r1644-tungshan Level: tcheou-hien Province: Hukwang Q1014420, Fou: Wuchang Q1014420, Tcheou/Hien: Tungshan\n",
      "    Tungshan T'ong-chan, today Tongshan, 通山,  Tongshan County(county in Hubei province, China) 通山县(中國湖北咸寧市下轄的縣)\n",
      " id: deh-r1644-wuchang Level: fou Province: Hukwang Q1014420, Fou: Wuchang Q1014420, Tcheou/Hien: Wuchang\n",
      "    Wuchang do Hupei?, Ou-tch'ang, today Wuchang, 武昌,  Wuchang District(district of Wuhan in Hubei Province, China) 武昌区(武汉市中心城区之一)\n",
      "    Fou: Wuchang (Wikidata ID: Q1014420)\n",
      " id: deh-r1644-hukwang Level: province Province: Hukwang Q1014420, Fou: nan nan, Tcheou/Hien: Hukwang\n",
      "    Hukwang Huguang?, Hou-Quang, today Huguang,湖广, wikidata:Q2235155 for coordinates we use Wuchang District , where the head quarters of vice-roy of Huguang (wikidata:Q11563236) was located. Wuchang District(district of Wuhan in Hubei Province, China) 武昌区(武汉市中心城区之一)\n",
      "    Province: Hukwang (Wikidata ID: Q1014420)\n",
      " id: deh-r1644-kiyang Level: tcheou-hien Province: Hunan Q45761, Fou: Yungchow Q266014, Tcheou/Hien: Kiyang\n",
      "    Kiyang K'i-yang,Chiyang, today Qiyang, 祁阳,  Qiyang(county-level city in Yongzhou, Hunan, China) 祁阳市(中国湖南省永州市代管的县级市)\n",
      " id: deh-r1644-paishui Level: tcheou-hien Province: Hunan Q45761, Fou: Yungchow Q266014, Tcheou/Hien: Paishui\n",
      "    Paishui \"\"\"Dehergne (1957) \"Dés 1587, à Pascivi=Paishui (Pé-choei) 白水 du Kiyang (K'i-yang) 祁陽 hien au nord-est de Yungchow,...\" coordinates:26.4269N, 111.9940E\"\"\" nan(nan) nan(nan)\n",
      " id: deh-r1644-yungchow Level: fou Province: Hunan Q45761, Fou: Yungchow Q266014, Tcheou/Hien: Yungchow\n",
      "    Yungchow do Hunan?, Yong-tcheou, today Yongzhou, 永州,  Yongzhou(prefecture-level city in Hunan, China) 永州市(中国湖南省南部的地级市)\n",
      "    Fou: Yungchow (Wikidata ID: Q266014)\n",
      " id: deh-r1644-hunan Level: province Province: Hunan Q45761, Fou: nan nan, Tcheou/Hien: Hunan\n",
      "    Hunan Hou-nan, today Hunan, 湖南,  Hunan(landlocked province in China) 湖南省(中国省份)\n",
      "    Province: Hunan (Wikidata ID: Q45761)\n",
      " id: deh-r1644-kiangnan Level: province Province: Kiangnan Q11133842, Fou: nan nan, Tcheou/Hien: Kiangnan\n",
      "    Kiangnan \"\"\"Jiangnan?today Jiangnan, 江南,  (no coordinates), former province of China, corresponding to modern-day Jiangsu and Anhui provinces, coordinates:32°3'39\"N, 118°46'44\"E (Nankjing)\"\"\"KIANGNAN ou NANKING Jiangnan(Province of the Qing Empire covering the area of modern Shanghai, Jiangsu, and Anhui) 江南省(大清帝国省份)\n",
      "    Province: Kiangnan (Wikidata ID: Q11133842)\n",
      " id: deh-r1644-kienchang Level: fou Province: Kiangsi Q57052, Fou: Kienchang Q11065388, Tcheou/Hien: Kienchang\n",
      "    Kienchang Kien-tch'ang,Chienchang, today Jianchang, 建昌,  Jianchang Town(nan) 建昌镇(中国江西省抚州市南城县下辖镇)\n",
      "    Fou: Kienchang (Wikidata ID: Q11065388)\n",
      " id: deh-r1644-nanan Level: fou Province: Kiangsi Q57052, Fou: Nanan Q28794376, Tcheou/Hien: Nanan\n",
      "    Nanan Nan-ngan, today Nan'an, 南安,  Nan'an Town, Dayu(nan) 南安镇 (大余县)(nan)\n",
      "    Fou: Nanan (Wikidata ID: Q28794376)\n",
      " id: deh-r1644-nancheng Level: tcheou-hien Province: Kiangsi Q57052, Fou: Nanan Q28794376, Tcheou/Hien: Nancheng\n",
      "    Nancheng Nan-tch'eng, today Nancheng, 南城,  Nancheng County(county) 南城县(中华人民共和国境内的一个县份)\n",
      " id: deh-r1644-nanfeng Level: tcheou-hien Province: Kiangsi Q57052, Fou: Nanan Q28794376, Tcheou/Hien: Nanfeng\n",
      "    Nanfeng Nan-fong, today Nanfeng, 南丰,  Nanfeng County(county) 南丰县(中国江西省抚州市下辖县)\n",
      " id: deh-r1644-nanchang Level: fou Province: Kiangsi Q57052, Fou: Nanchang Q171943, Tcheou/Hien: Nanchang\n",
      "    Nanchang Nan-tch'ang, today Nanchang, 南昌,  Nanchang(capital of Jiangxi province, China) 南昌市(中國江西省省會，地級市)\n",
      "    Fou: Nanchang (Wikidata ID: Q171943)\n",
      " id: deh-r1644-kiangsi Level: province Province: Kiangsi Q57052, Fou: nan nan, Tcheou/Hien: Kiangsi\n",
      "    Kiangsi Jiangxi, Kiang-si, today Jiangxi, 江西,  Jiangxi(province of central China, located around the Gan River south of the Yangtze) 江西省(中华人民共和国省份)\n",
      "    Province: Kiangsi (Wikidata ID: Q57052)\n",
      " id: deh-r1644-changchow-fou Level: fou Province: Kiangsu Q16963, Fou: Changchow Q57970, Tcheou/Hien: Changchow\n",
      "    Changchow today Changzhou, 常州, Changchow (Wutsin) Changzhou(prefecture-level city in Jiangsu, China) 常州市(中國江蘇省的地級市)\n",
      "    Fou: Changchow (Wikidata ID: Q57970)\n",
      " id: deh-r1644-ihing Level: tcheou-hien Province: Kiangsu Q16963, Fou: Changchow Q57970, Tcheou/Hien: Ihing\n",
      "    Ihing I-hing,Ihsing, today Yixing, 宜兴,  Yixing(county-level city in Wuxi, Jiangsu Province, China) 宜兴市(中国江苏省无锡市代管的县级市)\n",
      " id: deh-r1644-tsinkiang-tchou Level: tcheou-hien Province: Kiangsu Q16963, Fou: Changchow Q57970, Tcheou/Hien: Tsinkiang\n",
      "    Tsinkiang Chingchiang, today Jingjiang, 靖江, , In the original book (Dehergne, 1973), it is written as \"Tsinkiang\" (without g), which is wrongly spelled, because from both phonetic and geographical points of view, it should be Tsingkiang 靖江. In Dehergne(1973), it is written as Tsingjiang. And in the Chinese translation, it is also recognized as \"靖江\". Jingjiang(county-level city) 靖江市(中国江苏省的县级市)\n",
      " id: deh-r1644-wusih Level: tcheou-hien Province: Kiangsu Q16963, Fou: Changchow Q57970, Tcheou/Hien: Wusih\n",
      "    Wusih Ou-si,Wuhsi, today Wuxi, 无锡,  Wuxi(prefecture-level city in Jiangsu, China) 无锡市(中國江蘇省的地級市)\n",
      " id: deh-r1644-wutsin Level: tcheou-hien Province: Kiangsu Q16963, Fou: Changchow Q57970, Tcheou/Hien: Wutsin\n",
      "    Wutsin ? Wujin District(district of Jiangsu Province, China) 武进区(江蘇省常州市的市辖区)\n",
      " id: deh-r1644-chinkiang Level: fou Province: Kiangsu Q16963, Fou: Chinkiang Q57958, Tcheou/Hien: Chinkiang\n",
      "    Chinkiang Tchen-kiang,Chenchiang, today Zhenjiang, 镇江,  Zhenjiang(prefecture-level city in Jiangsu, China) 鎮江市(中國江蘇省的地級市)\n",
      "    Fou: Chinkiang (Wikidata ID: Q57958)\n",
      " id: deh-r1644-tanyang Level: tcheou-hien Province: Kiangsu Q16963, Fou: Chinkiang Q57958, Tcheou/Hien: Tanyang\n",
      "    Tanyang Tan-yang, today Danyang, 丹阳,  Danyang(County-level city in Jiangsu Province, China) 丹阳市(中国江苏省的县级市)\n",
      " id: deh-r1644-hwaian Level: fou Province: Kiangsu Q16963, Fou: Hwaian Q57818, Tcheou/Hien: Hwaian\n",
      "    Hwaian Hoai-ngan, today Huai'an, 淮安,  Huai'an(prefecture-level city in Jiangsu, China) 淮安市(中国江苏省的地级市)\n",
      "    Fou: Hwaian (Wikidata ID: Q57818)\n",
      " id: deh-r1644-kaowang Level: tcheou-hien Province: Kiangsu Q16963, Fou: Nanking Q16666, Tcheou/Hien: Kaowang\n",
      "    Kaowang today Gaowang, 高旺,  (no coord.), in the Chinese translation, it is written as “高望”, which should be “高旺”, coordinates: 32°3'53\"N, 118°38'24\"E (江浦街道 Q11134699) nan(nan) 高旺社区(nan)\n",
      " id: deh-r1644-lungtan Level: tcheou-hien Province: Kiangsu Q16963, Fou: Nanking Q16666, Tcheou/Hien: Lungtan\n",
      "    Lungtan today Longtan, 龙潭,  Longtan Subdistrict(nan) 龙潭街道(nan)\n",
      " id: deh-r1644-nanking Level: fou Province: Kiangsu Q16963, Fou: Nanking Q16666, Tcheou/Hien: Nanking\n",
      "    Nanking Nanjing, Nan-king,Nanching, today Nanjing, 南京,  Nanjing(capital city of Jiangsu Province, China, former capital of the Republic of China and China's Ming dynasty) 南京市(中国江苏省省会，副省级城市)\n",
      "    Fou: Nanking (Wikidata ID: Q16666)\n",
      " id: deh-r1644-siaolingwei Level: tcheou-hien Province: Kiangsu Q16963, Fou: Nanking Q16666, Tcheou/Hien: Siaolingwei\n",
      "    Siaolingwei Hiao-ling-wei,Hsiaolingwei, today Xiaolingwei, 孝陵卫,  Xiaolingwei Subdistrict(nan) 孝陵卫街道(nan)\n",
      " id: deh-r1644-changshu Level: tcheou-hien Province: Kiangsu Q16963, Fou: Soochow Q42622, Tcheou/Hien: Changshu\n",
      "    Changshu today Wuxian, 吴县,  (no coord.), former city in Jiangsu, coordinates: 31°15'52\"N, 120°37'41\"E (Q943850 Wuzhong District) Wuxian City(former city in Jiangsu, China) 吳縣市(已經撤銷的縣級市)\n",
      " id: deh-r1644-kiating Level: tcheou-hien Province: Kiangsu Q16963, Fou: Soochow Q42622, Tcheou/Hien: Kiating\n",
      "    Kiating Kia-ting,Chiating, today Jiading, 嘉定,  Jiading(district of Shanghai, China, and former separate city) 嘉定區(中國上海市的市轄區)\n",
      " id: deh-r1644-soochow Level: fou Province: Kiangsu Q16963, Fou: Soochow Q42622, Tcheou/Hien: Soochow\n",
      "    Soochow Sou-tcheou, Suchou, today Suzhou, 苏州, Soochow (Wuhsien) Suzhou(prefecture-level city in Jiangsu, China, former capital of the kingdom of Wu) 苏州市(中国江苏省下辖的地级市)\n",
      "    Fou: Soochow (Wikidata ID: Q42622)\n",
      " id: deh-r1644-tsungming Level: tcheou-hien Province: Kiangsu Q16963, Fou: Soochow Q42622, Tcheou/Hien: Tsungming\n",
      "    Tsungming Tch'ong-ming,Chungming, today Chongming, 崇明, Tsungming (île) Chongming District(District) 崇明区(中國上海市行政區)\n",
      " id: deh-r1644-chuking Level: tcheou-hien Province: Kiangsu Q16963, Fou: Sungkiang Q11104671, Tcheou/Hien: Chuking\n",
      "    Chuking Tchou-king,Chuching, today Zhujing, 朱泾, , in the Chinese traslation it is written as “诸泾”, which should be “朱泾” Zhujing Town(nan) 朱泾镇(nan)\n",
      " id: deh-r1644-chwansha Level: tcheou-hien Province: Kiangsu Q16963, Fou: Sungkiang Q11104671, Tcheou/Hien: Chwansha\n",
      "    Chwansha Tch'oan-cha, today Chuansha, 川沙,  Chuansha County(former county of Shanghai, China) 川沙县(nan)\n",
      " id: deh-r1644-fenghsien Level: tcheou-hien Province: Kiangsu Q16963, Fou: Sungkiang Q11104671, Tcheou/Hien: Fenghsien\n",
      "    Fenghsien Fong-hien,Fenghsien, today Fengxian, 奉贤, Fenghsien (Vongtsié) Fengxian District(district of Shanghai, China) 奉贤区(中国上海市的市辖区)\n",
      " id: deh-r1644-kaokia Level: tcheou-hien Province: Kiangsu Q16963, Fou: Sungkiang Q11104671, Tcheou/Hien: Kaokia\n",
      "    Kaokia (?) today Gaojia, 高家, in the Chinese translation it is recognized as “高家岗”, which actually is not in that area. It should be “高家”. Dehergne(1957, p60) said \"'Cao kia' près de Cié pao (=Tsipao) est citée dans l'annuelle de 1643 (JS 122 185). Il y a un 高家 plus près de Sungkiang, à l'est.\" nan(nan) nan(nan)\n",
      " id: deh-r1644-kinshan Level: tcheou-hien Province: Kiangsu Q16963, Fou: Sungkiang Q11104671, Tcheou/Hien: Kinshan\n",
      "    Kinshan Kin-chan,Chinshan, today Jinshan, 金山,  Jinshan District(district of Shanghai, China) 金山区(中国上海市的市辖区)\n",
      " id: deh-r1644-mo-ka-pang Level: tcheou-hien Province: Kiangsu Q16963, Fou: Sungkiang Q11104671, Tcheou/Hien: Mo ka pang\n",
      "    Mo ka pang Ma kia pim, today Majiabang, 马家浜, in the Chinese translation it is recognized as “穆喀榜”, which is wrong. Dehergne(1957, p60) said it is \"马家滨\" at \"sud de Sung-kiang\". In the present day it might be \"马家浜\" to the south Songjiang, coordinates: 30.845691234919308N, 121.3179093082612E nan(nan) nan(nan)\n",
      " id: deh-r1644-shanghai Level: tcheou-hien Province: Kiangsu Q16963, Fou: Sungkiang Q11104671, Tcheou/Hien: Shanghai\n",
      "    Shanghai Chang-hai, today Shanghai, 上海,  Shanghai(provincial-level municipality in China) 上海市(中华人民共和国直辖市)\n",
      " id: deh-r1644-sungkiang Level: fou Province: Kiangsu Q16963, Fou: Sungkiang Q11104671, Tcheou/Hien: Sungkiang\n",
      "    Sungkiang Song-kiang,Sungching, today Songjiang, 松江,  Songjiang Fu(ancient superior prefecture of China) 松江府(中国历史行政地区)\n",
      "    Fou: Sungkiang (Wikidata ID: Q11104671)\n",
      " id: deh-r1644-tsingpu Level: tcheou-hien Province: Kiangsu Q16963, Fou: Sungkiang Q11104671, Tcheou/Hien: Tsingpu\n",
      "    Tsingpu Ts'ing-p'ou,Chingpu, today Qingpu, 青浦,  Qingpu Xian(ancient county-level place of China) 青浦县(中国历史地名)\n",
      " id: deh-r1644-tsipao Level: tcheou-hien Province: Kiangsu Q16963, Fou: Sungkiang Q11104671, Tcheou/Hien: Tsipao\n",
      "    Tsipao Tsi-pao,Chipao, today Qibao, 七宝,  Qibao(town in Shanghai, People's Republic of China) 七宝镇(上海闵行区的古镇)\n",
      " id: deh-r1644-fushan Level: tcheou-hien Province: Kiangsu Q16963, Fou: Yangchow Q57906, Tcheou/Hien: Fushan\n",
      "    Fushan today Fushan, 福山村, coordinates: 31.800210981845982N, 120.7617947082488E nan(nan) nan(nan)\n",
      " id: deh-r1644-kaoyu Level: tcheou-hien Province: Kiangsu Q16963, Fou: Yangchow Q57906, Tcheou/Hien: Kaoyu\n",
      "    Kaoyu Kao-yeou, today Gaoyou, 高邮,  Gaoyou(county-level city) 高邮市(中国江苏省扬州市的县级市)\n",
      " id: deh-r1644-paoshan Level: tcheou-hien Province: Kiangsu Q16963, Fou: Yangchow Q57906, Tcheou/Hien: Paoshan\n",
      "    Paoshan Pao-chan, today Baoshan, 宝山,  Baoshan District(district of Shanghai, China) 宝山区(中国上海市的市辖区)\n",
      " id: deh-r1644-yangchow Level: fou Province: Kiangsu Q16963, Fou: Yangchow Q57906, Tcheou/Hien: Yangchow\n",
      "    Yangchow Yang-tcheou, today Yangzhou, 扬州,  Yangzhou(prefecture-level city in Jiangsu, People's Republic of China) 扬州市(中国江苏省的地级市)\n",
      "    Fou: Yangchow (Wikidata ID: Q57906)\n",
      " id: deh-r1644-kiangsu Level: province Province: Kiangsu Q16963, Fou: nan nan, Tcheou/Hien: Kiangsu\n",
      "    Kiangsu Jiangju, today Jiangsu, 江苏,  Jiangsu(province of China) 江苏省(中華人民共和國省份)\n",
      "    Province: Kiangsu (Wikidata ID: Q16963)\n",
      " id: deh-r1644-kweilin Level: fou Province: Kwangsi Q15176, Fou: Kweilin Q189633, Tcheou/Hien: Kweilin\n",
      "    Kweilin Koei-lin, today Guilin, 桂林,  Guilin(prefecture-level city in Guangxi, China) 桂林市(中华人民共和国广西壮族自治区下辖地级市)\n",
      "    Fou: Kweilin (Wikidata ID: Q189633)\n",
      " id: deh-r1644-wuchow Level: fou Province: Kwangsi Q15176, Fou: Wuchow Q571652, Tcheou/Hien: Wuchow\n",
      "    Wuchow Ou-tcheou, today Wuzhou, 梧州,  Wuzhou(prefecture-level city in Guangxi, China) 梧州市(中国广西壮族自治区的地级市)\n",
      "    Fou: Wuchow (Wikidata ID: Q571652)\n",
      " id: deh-r1644-kwangsi Level: province Province: Kwangsi Q15176, Fou: nan nan, Tcheou/Hien: Kwangsi\n",
      "    Kwangsi Guangxi, Koang-si, today Guangxi, 广西,  Guangxi(Provincial area of China organized in 1958 as an autonomous region for the Zhuang people) 广西壮族自治区(位于中国南方沿海的壮族自治区)\n",
      "    Province: Kwangsi (Wikidata ID: Q15176)\n",
      " id: deh-r1644-cantao Level: fou Province: Kwangtung Q15175, Fou: Cantão Q16572, Tcheou/Hien: Cantão\n",
      "    Cantão Koang-tcheou, today Guangzhou, 广州,  Guangzhou(capital city of Guangdong Province, China) 广州市(广东省的省会)\n",
      "    Fou: Cantão (Wikidata ID: Q16572)\n",
      " id: deh-r1644-lampacao Level: tcheou-hien Province: Kwangtung Q15175, Fou: Cantão Q16572, Tcheou/Hien: Lampacao\n",
      "    Lampacao Lampacau,Lampacão, today 浪白滘, 浪白澳,  Lampacau(nan) nan(nan)\n",
      " id: deh-r1644-quon-yao Level: tcheou-hien Province: Kwangtung Q15175, Fou: Cantão Q16572, Tcheou/Hien: Quon yao\n",
      "    Quon yao today Guanyao, 官窑, In the Chinses translation it is recognized as “高要村”，which is wrong. in Dehergne(1957), it is noted as \"官窑\", coordinates: 23.314954073028765N, 113.22132587290358E nan(nan) nan(nan)\n",
      " id: deh-r1644-tungkun Level: tcheou-hien Province: Kwangtung Q15175, Fou: Cantão Q16572, Tcheou/Hien: Tungkun\n",
      "    Tungkun Tong-koan,Tungkuan, today Dongguan, 东莞,  Dongguan(prefecture-level city in Guangdong, China) 东莞市(中国广东省的地级市)\n",
      " id: deh-r1644-bankao Level: tcheou-hien Province: Kwangtung Q15175, Fou: Kiungchow Q1081204, Tcheou/Hien: Bankao\n",
      "    Bankao today Xiangou, 仙沟, In the Chinese translation it is recognized as \"板桥\", but in Dehergne (1957), it is noted as \"仙沟\". coordinates: 19.678430033709233N, 110.3760945797476E nan(nan) nan(nan)\n",
      " id: deh-r1644-kiungchow Level: fou Province: Kwangtung Q15175, Fou: Kiungchow Q1081204, Tcheou/Hien: Kiungchow\n",
      "    Kiungchow K'iong-tcheou,Chiungchou, today Qiongzhou, 琼州, Kiungchow (île de Hainan) Hainan Island(island in China which makes up the majority of the province of the same name) 海南島(南中國海的島嶼)\n",
      "    Fou: Kiungchow (Wikidata ID: Q1081204)\n",
      " id: deh-r1644-lungmo Level: tcheou-hien Province: Kwangtung Q15175, Fou: Kiungchow Q1081204, Tcheou/Hien: Lungmo\n",
      "    Lungmo Lummo, today Longmen, 龙门, , in the Chinese translation it is written as “龙末”, but but in Dehergne (1957), it is noted as \"龙门\" Longmen Town(nan) 龙门镇(nan)\n",
      " id: deh-r1644-tingan Level: tcheou-hien Province: Kwangtung Q15175, Fou: Kiungchow Q1081204, Tcheou/Hien: Tingan\n",
      "    Tingan Ting-ngan, today Ding'an, 定安,  Ding'an County(county in Hainan, China) 定安县(海南省的一个直辖县)\n",
      " id: deh-r1644-luichow Level: fou Province: Kwangtung Q15175, Fou: Luichow Q1209167, Tcheou/Hien: Luichow\n",
      "    Luichow Lei-tcheou, today Leizhou, 雷州,  Leizhou(county-level city in Guangdong, China) 雷州市(中国广东省湛江市代管县级市)\n",
      "    Fou: Luichow (Wikidata ID: Q1209167)\n",
      " id: deh-r1644-macau Level: fou Province: Kwangtung Q15175, Fou: Macau Q14773, Tcheou/Hien: Macau\n",
      "    Macau Macau, today Macao, 澳门,  Macau(special administrative region of China) 澳門(中華人民共和國澳門特別行政區)\n",
      "    Fou: Macau (Wikidata ID: Q14773)\n",
      " id: deh-r1644-tsingchow Level: tcheou-hien Province: Kwangtung Q15175, Fou: Macau Q14773, Tcheou/Hien: Tsingchow\n",
      "    Tsingchow Tsingchow,Ts'ing-tcheou, today Ilha Verde, 青州, Ilha Verde (Tsingchow) Ilha Verde(island in Macau) 青洲(澳門地名)\n",
      " id: deh-r1644-wantchai Level: tcheou-hien Province: Kwangtung Q15175, Fou: Macau Q14773, Tcheou/Hien: Wantchai\n",
      "    Wantchai Lapa,Wantchai, today Wanzai, 湾仔, Lappa (Wantchai) Wanzai Subdistrict(subdistrict of Guangdong Province, China) 湾仔街道(nan)\n",
      " id: deh-r1644-namyung Level: fou Province: Kwangtung Q15175, Fou: Namyung Q934465, Tcheou/Hien: Namyung\n",
      "    Namyung Nan-hiong, today Nanxiong, 南雄, Namyung (alors fou) Nanxiong(subprefecture-level city in Guangdong, China) 南雄市(中國廣東省縣級市)\n",
      "    Fou: Namyung (Wikidata ID: Q934465)\n",
      " id: deh-r1644-hwanghsiaping Level: tcheou-hien Province: Kwangtung Q15175, Fou: Schiuchow Q1346617, Tcheou/Hien: Hwanghsiaping\n",
      "    Hwanghsiaping (?) Hwanghsiaping, today Vankaxen, 黄下坪？, In the Chinese translation, it is recognized as \"黄下坪\". Dehergne(1957):\"Hwanghsiaping (\" Vankaxen \") à 15 li à l'ouest de Shiuchow.\" But it cannot be found in the map. nan(nan) nan(nan)\n",
      " id: deh-r1644-hwangtsun Level: tcheou-hien Province: Kwangtung Q15175, Fou: Schiuchow Q1346617, Tcheou/Hien: Hwangtsun\n",
      "    Hwangtsun Vançun, today Huangcun, 黄村, coordinates: 24.900778941203768N, 113.60398607001083E Dehergne(1957): \"à une heure de chemin au nord de Shiuchow\". nan(nan) nan(nan)\n",
      " id: deh-r1644-makia Level: tcheou-hien Province: Kwangtung Q15175, Fou: Schiuchow Q1346617, Tcheou/Hien: Makia\n",
      "    Makia Machia, today Majia, 马家, Dehergne(1957) said Makia\"马家\" is \"à 15 kilomètres au sud de la ville\" (de Shiuchow), which should be to the south of Shiuchow, but I only found one \"马家\" in that area, but it is to the west of the city (coordinates: 24.75569541392557, 113.15960996554436), which might not be the right place. nan(nan) nan(nan)\n",
      " id: deh-r1644-motikang Level: tcheou-hien Province: Kwangtung Q15175, Fou: Schiuchow Q1346617, Tcheou/Hien: Motikang\n",
      "    Motikang Mochi, today Madigang, 麻地岗, In the Chinese translation, it is recognized as “末岗”, but in Dehergne(1957), it is noted as “麻地岗”., coordinates: 24.68899887552694N, 113.57599418283718E nan(nan) nan(nan)\n",
      " id: deh-r1644-shiuchow Level: fou Province: Kwangtung Q15175, Fou: Schiuchow Q1346617, Tcheou/Hien: Schiuchow\n",
      "    Schiuchow Chao-tcheou, today Shaozhou, 韶州, , historical administrative division. The Wikidata code is of its administrative center Qujiang 曲江, which is in the present-day City of Shaoguan 韶关.Shiuchow (Chao-tcheou) Qujiang District(district in Guangdong, People's Republic of China) 曲江区(韶关市的一个市辖区)\n",
      "    Fou: Schiuchow (Wikidata ID: Q1346617)\n",
      " id: deh-r1644-tsintsun Level: tcheou-hien Province: Kwangtung Q15175, Fou: Schiuchow Q1346617, Tcheou/Hien: Tsintsun\n",
      "    Tsintsun Cinçun, today Jingcun, 靖村, coordinates:24.840448198893206N, 113.54394322209676E. In the original book (Dehergne, 1973), it is written as \"Tsintsun\" (without g), which is wrongly spelled. In Dehergne(1973), it is written as Tsingtsun, with the Chinese name 靖村 noted. It is \"à une heure et demie de marche au nord-ouest de Siuchow.\" In the Chinese traslation, it is recognized as \"青村\", which is wrong. nan(nan) nan(nan)\n",
      " id: deh-r1644-yangsiang Level: tcheou-hien Province: Kwangtung Q15175, Fou: Schiuchow Q1346617, Tcheou/Hien: Yangsiang\n",
      "    Yangsiang (?) In the Chinese translation, it is recognized as “英洋”, which is wrong. In Dehergne(1957), it is noted as \"杨姓村\". But it cannot be found in the map. nan(nan) nan(nan)\n",
      " id: deh-r1644-shiuhing Level: fou Province: Kwangtung Q15175, Fou: Shiuhing Q59164, Tcheou/Hien: Shiuhing\n",
      "    Shiuhing Tchao-k'ing, Chaoching, today Zhaoqing, 肇庆, Shiuhing (Tchao-k'ing, actuel Hoyiu) Zhaoqing(prefecture-level city in Guangdong, China) 肇庆市(中国广东省的地级市)\n",
      "    Fou: Shiuhing (Wikidata ID: Q59164)\n",
      " id: deh-r1644-kwangtung Level: province Province: Kwangtung Q15175, Fou: nan nan, Tcheou/Hien: Kwangtung\n",
      "    Kwangtung Guangdong, today Guangdong, 广东,  Guangdong(province of China) 广东省(中华人民共和国省份)\n",
      "    Province: Kwangtung (Wikidata ID: Q15175)\n",
      " id: deh-r1644-kwichow Level: province Province: Kwichow Q47097, Fou: nan nan, Tcheou/Hien: Kwichow\n",
      "    Kwichow Koei-Tcheou, today Guizhou, 贵州,  Guizhou(landlocked province of the People's Republic of China) 贵州省(中华人民共和国省份)\n",
      "    Province: Kwichow (Wikidata ID: Q47097)\n",
      " id: deh-r1644-chengting Level: fou Province: Pequim Q956, Fou: Chengting Q197678, Tcheou/Hien: Chengting\n",
      "    Chengting Tcheng-ting, today Zhengding, 正定,  Zhengding County(county in the Shijiazhuang prefecture of Hebei, China) 正定县(河北省縣份)\n",
      "    Fou: Chengting (Wikidata ID: Q197678)\n",
      " id: deh-r1644-tingchow Level: tcheou-hien Province: Pequim Q956, Fou: Chengting Q197678, Tcheou/Hien: Tingchow\n",
      "    Tingchow Ting tcheou, today Dingzhou, 定州,  Dingzhou(County-level City of Baoding in Hebei,People's Republic of China) 定州市(中华人民共和国河北省保定市辖县级市)\n",
      " id: deh-r1644-hokien Level: fou Province: Pequim Q956, Fou: Hokien Q1601618, Tcheou/Hien: Hokien\n",
      "    Hokien Ho-kien, today Hejian, 河间,  Hejian(county-level city) 河间市(中国河北省沧州市下辖的县级市)\n",
      "    Fou: Hokien (Wikidata ID: Q1601618)\n",
      " id: deh-r1644-ningtsin Level: tcheou-hien Province: Pequim Q956, Fou: Hokien Q1601618, Tcheou/Hien: Ningtsin\n",
      "    Ningtsin Ning-tsin,Ningchin, today Ningjin, 宁津,  Ningjin County(county) 宁津县(nan)\n",
      " id: deh-r1644-wukiao Level: tcheou-hien Province: Pequim Q956, Fou: Hokien Q1601618, Tcheou/Hien: Wukiao\n",
      "    Wukiao Ou-k'iao,Wuchiao,today Wuqiao, 吴桥,  Wuqiao County(county) 吴桥县(nan)\n",
      " id: deh-r1644-kaoyang Level: tcheou-hien Province: Pequim Q956, Fou: Paoting Q58584, Tcheou/Hien: Kaoyang\n",
      "    Kaoyang Kao-yang, today Gaoyang, 高阳,  Gaoyang County(County of Baoding in Hebei province, China) 高阳县(中华人民共和国河北省保定市辖县)\n",
      " id: deh-r1644-paoting Level: fou Province: Pequim Q956, Fou: Paoting Q58584, Tcheou/Hien: Paoting\n",
      "    Paoting Paoting (Tsingyüan), today Baoding, 保定,  Baoding(prefecture-level city in Hebei Province, People's Republic of China) 保定市(中华人民共和国河北省的地级市)\n",
      "    Fou: Paoting (Wikidata ID: Q58584)\n",
      " id: deh-r1644-shulu Level: tcheou-hien Province: Pequim Q956, Fou: Paoting Q58584, Tcheou/Hien: Shulu\n",
      "    Shulu Chou-lou, today Shulu, 束鹿, , Now the city name is Xinji 辛集. Wikidata code is that of Xinji Xinji(county-level city) 辛集市(中国河北省石家庄市下辖的县级市)\n",
      " id: deh-r1644-chala Level: tcheou-hien Province: Pequim Q956, Fou: Pequim, Q956, Tcheou/Hien: Chala\n",
      "    Chala Chala (cimetière et chapelle) Zhalan Cemetery(cemetery in Beijing, China) 滕公栅栏(nan)\n",
      " id: deh-r1644-pequim Level: fou Province: Pequim Q956, Fou: Pequim, Q956, Tcheou/Hien: Pequim,\n",
      "    Pequim, today 北京, Peking (Shuntien) (1598), 1601 Beijing(capital city of China) 北京市(中華人民共和國首都暨直轄市)\n",
      "    Fou: Pequim, (Wikidata ID: Q956)\n",
      " id: deh-r1644-tacheng Level: tcheou-hien Province: Pequim Q956, Fou: Pequim, Q956, Tcheou/Hien: Tacheng\n",
      "    Tacheng Ta-tch'eng,today Dacheng, 大城县.  Dacheng County(county in Hebei, China) 大城县(中國河北省縣份)\n",
      " id: deh-r1644-tientsin Level: tcheou-hien Province: Pequim Q956, Fou: Pequim, Q956, Tcheou/Hien: Tientsin\n",
      "    Tientsin T'ien-tsin,Tienchin, today Tianjin, 天津, Tientsin Tianjin(municipality of China) 天津市(中华人民共和国的一个直辖市)\n",
      " id: deh-r1644-tungchou Level: tcheou-hien Province: Pequim Q956, Fou: Pequim, Q956, Tcheou/Hien: Tungchow\n",
      "    Tungchow T'ong-tcheou, today Tongzhou, 通州, ? Tongzhou District(district of Beijing, China) 通州區(中國北京市的市轄區)\n",
      " id: deh-r1644-pequim-provincia Level: province Province: Pequim Q956, Fou: nan nan, Tcheou/Hien: Pequim\n",
      "    Pequim Beijing(capital city of China) 北京市(中華人民共和國首都暨直轄市)\n",
      "    Province: Pequim (Wikidata ID: Q956)\n",
      " id: deh-r1644-tengchow Level: fou Province: Shangtung Q43407, Fou: Tengchow Q10428329, Tcheou/Hien: Tengchow\n",
      "    Tengchow Teng-tcheou, today Dengzhou, 登州, Tengchow (Penglai) Dengzhou Fu(historical administrative division in Shandong, China) 登州府(明清行政区划，今山东境内)\n",
      "    Fou: Tengchow (Wikidata ID: Q10428329)\n",
      " id: deh-r1644-kwanchang Level: tcheou-hien Province: Shangtung Q43407, Fou: Tsinan Q170247, Tcheou/Hien: Kwanchang\n",
      "    Kwanchang (?) In Dehergne(1957), there is no \"Kwanchang\". In the Chinese translation, it is recognized as “官昌”，but cannot be found in the map. nan(nan) nan(nan)\n",
      " id: deh-r1644-manchwang Level: tcheou-hien Province: Shangtung Q43407, Fou: Tsinan Q170247, Tcheou/Hien: Manchwang\n",
      "    Manchwang Muon choam, today Manzhuang, 满庄,  Manzhuang Town(nan) 满庄镇(nan)\n",
      " id: deh-r1644-pinchow Level: tcheou-hien Province: Shangtung Q43407, Fou: Tsinan Q170247, Tcheou/Hien: Pinchow\n",
      "    Pinchow Binzhou(prefecture-level city in Shandong, China) 滨州市(中国山东省的地级市)\n",
      " id: deh-r1644-taian Level: tcheou-hien Province: Shangtung Q43407, Fou: Tsinan Q170247, Tcheou/Hien: Taian\n",
      "    Taian T'ai-ngan, today Tai'an, 泰安, Taian tcheou Tai'an(prefecture-level city in Shandong, China) 泰安市(中国山东省的地级市)\n",
      " id: deh-r1644-tsiho Level: tcheou-hien Province: Shangtung Q43407, Fou: Tsinan Q170247, Tcheou/Hien: Tsiho\n",
      "    Tsiho today Qihe, 齐河,  Qihe County(county) 齐河县(中华人民共和国山东省德州市下属的一个县)\n",
      " id: deh-r1644-tsinan Level: fou Province: Shangtung Q43407, Fou: Tsinan Q170247, Tcheou/Hien: Tsinan\n",
      "    Tsinan Tsi-nan, today Jinan, 济南,  Jinan(capital of Shandong province, China) 济南市(中國山東省省會)\n",
      "    Fou: Tsinan (Wikidata ID: Q170247)\n",
      " id: deh-r1644-wuting Level: tcheou-hien Province: Shangtung Q43407, Fou: Tsinan Q170247, Tcheou/Hien: Wuting\n",
      "    Wuting \"\"\"Ou-ting, today Wuding, 武定,  (no coord.) located in today's Huimin County (coordinates: 37°28'44\"N, 117°29'52\"E)\"\"\"[Wuting, alors tcheou, Hweimin] nan(nan) 武定州(nan)\n",
      " id: deh-r1644-yucheng Level: tcheou-hien Province: Shangtung Q43407, Fou: Tsinan Q170247, Tcheou/Hien: Yucheng\n",
      "    Yucheng Pin-tcheou, today Binzhou, 滨州,  Binzhou(prefecture-level city in Shandong, China) 滨州市(中国山东省的地级市)\n",
      " id: deh-r1644-tsingchow-yitu Level: fou Province: Shangtung Q43407, Fou: Tsingchow Q1360781, Tcheou/Hien: Tsingchow\n",
      "    Tsingchow Ts'ing-tcheou, Chingchou, today Qingzhou, 青州, Tsingchow (Yitu) Qingzhou(county-level city in Shandong, China) 青州市(中国山东城市)\n",
      "    Fou: Tsingchow (Wikidata ID: Q1360781)\n",
      " id: deh-r1644-lintsing Level: tcheou-hien Province: Shangtung Q43407, Fou: Tungchang Q10870440, Tcheou/Hien: Lintsing\n",
      "    Lintsing Lin-ts'ing,Linching, today Linqing, 临清, Lintsing tcheou Linqing(county-level city) 临清市(中国山东省城市)\n",
      " id: deh-r1644-peichingtien Level: tcheou-hien Province: Shangtung Q43407, Fou: Tungchang Q10870440, Tcheou/Hien: Peichingtien\n",
      "    Peichingtien (?) Dehergne(1957)did not give the Chinese name of Peichingtien.In the Chinese translation, it is recognized as “北辛店村”，but the pronunciation dose not match. In addition, the “北辛店村”of Shandong is far from Dongchang. nan(nan) nan(nan)\n",
      " id: deh-r1644-tungchang Level: fou Province: Shangtung Q43407, Fou: Tungchang Q10870440, Tcheou/Hien: Tungchang\n",
      "    Tungchang Tong-tch'ang, today Dungchang, 东昌,  Dongchang Fu(former administrative division in Shandong,China) 东昌府(中国历史上的行政区)\n",
      "    Fou: Tungchang (Wikidata ID: Q10870440)\n",
      " id: deh-r1644-shangtung Level: province Province: Shangtung Q43407, Fou: nan nan, Tcheou/Hien: Shangtung\n",
      "    Shangtung Chan-tong, Shandong, 山东,  Shandong(province of China) 山東省(中国省份)\n",
      "    Province: Shangtung (Wikidata ID: Q43407)\n",
      " id: deh-r1644-kiangchow Level: tcheou-hien Province: Shansi Q46913, Fou: Pingyang Q73156, Tcheou/Hien: Kiangchow\n",
      "    Kiangchow Chiangchou, today Jiangzhou, 绛州, , historical administrative division. Now it is Xinjiang 新绛. Wikidata code is that of 新绛 Xinjiang County(county in Shanxi) 新绛县(nan)\n",
      " id: deh-r1644-kianghsien Level: tcheou-hien Province: Shansi Q46913, Fou: Pingyang Q73156, Tcheou/Hien: Kianghsien\n",
      "    Kianghsien Kiang hien, today Jiangxian, 绛县, Kianghsien (au Sud de Kiangchow) Jiang County(county) 绛县(nan)\n",
      " id: deh-r1644-kuwo Level: tcheou-hien Province: Shansi Q46913, Fou: Pingyang Q73156, Tcheou/Hien: Kuwo\n",
      "    Kuwo K'iu-wo,Chüwu, Quwo, 曲沃,  Quwo County(county) 曲沃县(nan)\n",
      " id: deh-r1644-pingyang Level: fou Province: Shansi Q46913, Fou: Pingyang Q73156, Tcheou/Hien: Pingyang\n",
      "    Pingyang P'ing-yang, today Pingyang Fu, 平阳府, wikidata:Q15905472, historical administrative division. Now it is in Linfen 临汾 Pingyang (Linfen) Linfen(prefecture-level city in Shanxi, People's Republic of China) 临汾市(中国山西省的地级市)\n",
      "    Fou: Pingyang (Wikidata ID: Q73156)\n",
      " id: deh-r1644-puchow Level: tcheou-hien Province: Shansi Q46913, Fou: Pingyang Q73156, Tcheou/Hien: Puchow\n",
      "    Puchow P'ou-tcheou, today Puzhou, 蒲州, today Q14105968, pas encore fou Puzhou Town(nan) 蒲州镇(nan)\n",
      " id: deh-r1644-siahsien Level: tcheou-hien Province: Shansi Q46913, Fou: Pingyang Q73156, Tcheou/Hien: Siahsien\n",
      "    Siahsien Hia hien, today Xiaxian, 夏县, , Dehergne(1957) noted it as “夏县”. In the Chinese translation, it is recognized as \"隰县\",which is wrong. Xia County(county) 夏县(中国山西省运城市所辖的一个县)\n",
      " id: deh-r1644-taiping Level: tcheou-hien Province: Shansi Q46913, Fou: Pingyang Q73156, Tcheou/Hien: Taiping\n",
      "    Taiping today Taiping, 太平,  (no coord.), historical administrative division. Now its administrative center is Fencheng 汾城, wikidata:Q11137504 (coordinates: 35°49'10\"N, 111°16'20\"E)Taiping (Fencheng) nan(nan) 太平县(nan)\n",
      " id: deh-r1644-pingting Level: tcheou-hien Province: Shansi Q46913, Fou: Taiyuan Q72778, Tcheou/Hien: Pingting\n",
      "    Pingting P'ing-ting, today Pingding, 平定州, , Now it is Pingding County 平定县Pingting tcheou Pingding County(county) 平定县(中国山西省的县)\n",
      " id: deh-r1644-taiyuan Level: fou Province: Shansi Q46913, Fou: Taiyuan Q72778, Tcheou/Hien: Taiyuan\n",
      "    Taiyuan T'ai-yuen, today Taiyuan, 太原,  Taiyuan(capital city of Shanxi province, China) 太原市(中国山西省省會，地級市)\n",
      "    Fou: Taiyuan (Wikidata ID: Q72778)\n",
      " id: deh-r1644-tsechow Level: fou Province: Shansi Q46913, Fou: Tsechow Q197104, Tcheou/Hien: Tsechow\n",
      "    Tsechow today Fencheng, 汾城,  Zezhou County(county) 泽州县(nan)\n",
      "    Fou: Tsechow (Wikidata ID: Q197104)\n",
      " id: deh-r1644-tsishan Level: tcheou-hien Province: Shansi Q46913, Fou: Tsechow Q197104, Tcheou/Hien: Tsishan\n",
      "    Tsishan today Zezhou, 泽州,  Zezhou County(county) 泽州县(nan)\n",
      " id: deh-r1644-yungtsi Level: tcheou-hien Province: Shansi Q46913, Fou: Tsechow Q197104, Tcheou/Hien: Yungtsi\n",
      "    Yungtsi Tsi-chan,Chishan, today Jishan, 稷山,  Jishan County(county) 稷山县(nan)\n",
      " id: deh-r1644-shansi Level: province Province: Shansi Q46913, Fou: nan nan, Tcheou/Hien: Shansi\n",
      "    Shansi Chan-si, today Shanxi, 山西,  Shanxi(province of central China with its capital at Taoyuan, the supposed original home of the prehistoric Huaxia) 山西省(中华人民共和国省份)\n",
      "    Province: Shansi (Wikidata ID: Q46913)\n",
      " id: deh-r1644-chenku Level: tcheou-hien Province: Shensi Q47974, Fou: Hanchung Q515573, Tcheou/Hien: Chengku\n",
      "    Chengku Tch'eng-kou, today Chenggu, 城固,  Chenggu County(county) 城固县(汉中市的一个县)\n",
      " id: deh-r1644-hanchung Level: fou Province: Shensi Q47974, Fou: Hanchung Q515573, Tcheou/Hien: Hanchung\n",
      "    Hanchung How-tcheou, today Huazhou, 华州, Hanchung (Nancheng) Hanzhong(prefecture-level city in Shaanxi, China) 汉中市(中国陕西省的地级市)\n",
      "    Fou: Hanchung (Wikidata ID: Q515573)\n",
      " id: deh-r1644-siao-tchai-tse Level: tcheou-hien Province: Shensi Q47974, Fou: Hanchung Q515573, Tcheou/Hien: Siao tchai tse\n",
      "    Siao tchai tse (?) In Dehergne(1957), it is noted as \"小塞子\", and in the Chinese translation, it is recognized as \"小寨子村\"。 But both places are not “ près de Cheng” as said in Dehergne(1957). nan(nan) nan(nan)\n",
      " id: deh-r1644-yanghsien Level: tcheou-hien Province: Shensi Q47974, Fou: Hanchung Q515573, Tcheou/Hien: Yanghsien\n",
      "    Yanghsien Yang Hien, today Yangxian, 洋县,  Yang County(county) 洋县(陕西省汉中市下辖的县)\n",
      " id: deh-r1644-chowchih Level: tcheou-hien Province: Shensi Q47974, Fou: Sian Q5826, Tcheou/Hien: Chowchih\n",
      "    Chowchih today Zhouzhi, 周至, , In the Chinese translation, it is written as “盩厔”. Before 1964, 周至was written as “盩厔”. Zhouzhi County(County in Shaaxi province) 周至縣(中国陕西省西安市市辖县)\n",
      " id: deh-r1644-hwachow Level: tcheou-hien Province: Shensi Q47974, Fou: Sian Q5826, Tcheou/Hien: Hwachow\n",
      "    Hwachow How-tcheou, today Huazhou, 华州,  Huazhou District(district of China) 华州区(nan)\n",
      " id: deh-r1644-kaoling Level: tcheou-hien Province: Shensi Q47974, Fou: Sian Q5826, Tcheou/Hien: Kaoling\n",
      "    Kaoling Kao-ling, today Gaoling, 高陵,  Gaoling District(District of China) 高陵区(西安市的市轄區)\n",
      " id: deh-r1644-kiao-tou Level: tcheou-hien Province: Shensi Q47974, Fou: Sian Q5826, Tcheou/Hien: Kiao-tou\n",
      "    Kiao-tou Kiao-tou (ou Tungyüanfang) Kiao-tou and Tungyüanfang are the same place. The Chinese translation recognized it as “贾都”, which might be wrong, as “贾都” cannot be found. Tungyüanfang in the Chinese reanslation it is recognized as “东院房”, but in Dehergne(1957), it is noted as \"通远坊\". And there is a \"通远天主堂\"(Tongyuan Catholic Church) there, coordinates: 34.55258137628194N,109.04672038131238E nan(nan) nan(nan)\n",
      " id: deh-r1644-sanyuan Level: tcheou-hien Province: Shensi Q47974, Fou: Sian Q5826, Tcheou/Hien: Sanyuan\n",
      "    Sanyuan Sanyuan, 三原,  Sanyuan County(county in Xianyang) 三原县(中华人民共和国陕西省咸阳市下辖县)\n",
      " id: deh-r1644-shangchow Level: tcheou-hien Province: Shensi Q47974, Fou: Sian Q5826, Tcheou/Hien: Shangchow\n",
      "    Shangchow Changtcheou, today Shangzhou, 商州,  Shangzhou District(district in Shaanxi Province, China) 商州区(中国陕西省商洛市下辖区)\n",
      " id: deh-r1644-sian Level: fou Province: Shensi Q47974, Fou: Sian Q5826, Tcheou/Hien: Sian\n",
      "    Sian Hsian, today Xi'an, 西安, Sun (Changan) Xi'an(capital of Shaanxi Province, China) 西安市(中國陝西省省會、副省級市，國家中心城市之一)\n",
      "    Fou: Sian (Wikidata ID: Q5826)\n",
      " id: deh-r1644-shensi Level: province Province: Shensi Q47974, Fou: nan nan, Tcheou/Hien: Shensi\n",
      "    Shensi Chen-si , today Shaanxi @dehergne:399 Shaanxi(province of central China with its capital Xi'an, the ancient homeland of the Zhou and center of several major dynasty) 陕西省(中国中西部省份)\n",
      "    Province: Shensi (Wikidata ID: Q47974)\n",
      " id: deh-r1644-chengtu Level: fou Province: Szechwan Q19770, Fou: Chengtu Q30002, Tcheou/Hien: Chengtu\n",
      "    Chengtu Tch'eng-tou, today Chengdu, 成都, today Chengtu (Hwayang) Chengdu(capital of Sichuan Province, China) 成都市(中国四川省省会)\n",
      "    Fou: Chengtu (Wikidata ID: Q30002)\n",
      " id: deh-r1644-mienchow Level: tcheou-hien Province: Szechwan Q19770, Fou: Chengtu Q30002, Tcheou/Hien: Mienchow\n",
      "    Mienchow Mien tcheou, today Mianzhou, 绵州, today  (no coord.) Mienchow is an historical administrative division, now it is located in the city of Mianyang (Q426130, coordinates: 31°28'1\"N, 104°44'18\"E) Mienchow(historical administrative division of China) 綿州(中國古代行政區劃)\n",
      " id: deh-r1644-chungking Level: fou Province: Szechwan Q19770, Fou: Chungking Q11725, Tcheou/Hien: Chungking\n",
      "    Chungking Tch'ong-K'ing,Chungching, today Chongqing, 重庆, Chungking (Pahsien) Chongqing(municipality of China) 重庆市(中國西部的直轄市)\n",
      "    Fou: Chungking (Wikidata ID: Q11725)\n",
      " id: deh-r1644-paoning Level: fou Province: Szechwan Q19770, Fou: Paoning Q10887586, Tcheou/Hien: Paoning\n",
      "    Paoning \"\"\"Pao-ning, today Baoning, 保宁,  (no coord.), 保宁府 historical administrative division of China, where 阆中 was in (same as Langzhong: Q1200170 coordinates: 31°35'0\"N, 105°58'19\"E\"\"\")Paoning (Langchung) Baoning Fu(historical administrative division of China) 保宁府(中國古代行政區劃)\n",
      "    Fou: Paoning (Wikidata ID: Q10887586)\n",
      " id: deh-r1644-szechwan Level: province Province: Szechwan Q19770, Fou: nan nan, Tcheou/Hien: Szechwan\n",
      "    Szechwan Se-tch'oan, today Sichuan, 四川,  Sichuan(province of China, previously inclusive of the present Chongqing Municipality) 四川省(中華人民共和國省份)\n",
      "    Province: Szechwan (Wikidata ID: Q19770)\n",
      " id: deh-r1644-yunnan Level: province Province: Yunnan Q43194, Fou: nan nan, Tcheou/Hien: Yunnan\n",
      "    Yunnan today Yunnan, 云南,  Yunnan(province of China) 云南省(中華人民共和國省份)\n",
      "    Province: Yunnan (Wikidata ID: Q43194)\n"
     ]
    }
   ],
   "source": [
    "# loop over the merged dataframe and print the information\n",
    "\n",
    "locations = []\n",
    "\n",
    "for index, row in merged_df.sort_values(['province', 'fou', 'name']).iterrows():\n",
    "    print(f\" id: {row['id']} Level: {row['level']} Province: {row['province']} {row['province_wikidata_id']}, Fou: {row['fou']} {row['fou_wikidata_id']}, Tcheou/Hien: {row['name']}\")\n",
    "    lat = row['latitude']\n",
    "    lon = row['longitude']\n",
    "    place_type = row['type'] if 'type' in row else ''\n",
    "    label = (\n",
    "        (f\"    {row['name']}\") +\n",
    "        (f\" {row['comment']}\" if row['comment'] else '') +\n",
    "        (f\" {row['english_label']}\" if row['english_label'] else '') +\n",
    "        (f\"({row['english_description']})\" if row['english_description'] else '') +\n",
    "        (f\" {row['chinese_label']}\" if row['chinese_label'] else '') +\n",
    "        (f\"({row['chinese_description']})\" if row['chinese_description'] else '')\n",
    "    )\n",
    "    print(label)\n",
    "    level = row['level']\n",
    "    if level == 'province':\n",
    "        print(f\"    Province: {row['province']} (Wikidata ID: {row['province_wikidata_id']})\")\n",
    "    elif level == 'fou':\n",
    "        print(f\"    Fou: {row['fou']} (Wikidata ID: {row['fou_wikidata_id']})\")\n",
    "    elif level == 'tcheou_hien':\n",
    "        print(f\"    Tcheou/Hien: {row['name']} (Wikidata ID: {row['wikidata_id']})\")"
   ]
  },
  {
   "cell_type": "code",
   "execution_count": 950,
   "metadata": {},
   "outputs": [
    {
     "name": "stdout",
     "output_type": "stream",
     "text": [
      "<class 'pandas.core.frame.DataFrame'>\n",
      "RangeIndex: 215 entries, 0 to 214\n",
      "Data columns (total 28 columns):\n",
      " #   Column                          Non-Null Count  Dtype \n",
      "---  ------                          --------------  ----- \n",
      " 0   province                        215 non-null    object\n",
      " 1   id                              215 non-null    object\n",
      " 2   level                           215 non-null    object\n",
      " 3   name                            215 non-null    object\n",
      " 4   name_original                   215 non-null    object\n",
      " 5   province_wikidata_id            215 non-null    object\n",
      " 6   wikidata_id                     215 non-null    object\n",
      " 7   comment                         215 non-null    object\n",
      " 8   province_id                     197 non-null    object\n",
      " 9   fou                             197 non-null    object\n",
      " 10  fou_wikidata_id                 197 non-null    object\n",
      " 11  fou_id                          135 non-null    object\n",
      " 12  year                            215 non-null    int64 \n",
      " 13  chinese_label                   189 non-null    object\n",
      " 14  english_label                   188 non-null    object\n",
      " 15  portuguese_label                88 non-null     object\n",
      " 16  english_description             177 non-null    object\n",
      " 17  chinese_description             154 non-null    object\n",
      " 18  portuguese_description          36 non-null     object\n",
      " 19  coordinates                     203 non-null    object\n",
      " 20  latitude                        203 non-null    object\n",
      " 21  longitude                       203 non-null    object\n",
      " 22  administrative_entity_id        184 non-null    object\n",
      " 23  administrative_entity_label_en  182 non-null    object\n",
      " 24  administrative_entity_label_zh  184 non-null    object\n",
      " 25  country_id                      190 non-null    object\n",
      " 26  country_label                   190 non-null    object\n",
      " 27  label                           190 non-null    object\n",
      "dtypes: int64(1), object(27)\n",
      "memory usage: 47.2+ KB\n"
     ]
    }
   ],
   "source": [
    "merged_df.info()"
   ]
  },
  {
   "cell_type": "code",
   "execution_count": 951,
   "metadata": {},
   "outputs": [
    {
     "name": "stdout",
     "output_type": "stream",
     "text": [
      "Debugging: deh-r1644-taiwan -> deh-r1644-camarri\n",
      "Debugging: Camarri with wikidata_id No wikidata\n"
     ]
    },
    {
     "data": {
      "application/vnd.plotly.v1+json": {
       "config": {
        "plotlyServerURL": "https://plot.ly",
        "responsive": true
       },
       "data": [
        {
         "lat": [
          null
         ],
         "lon": [
          null
         ],
         "marker": {
          "color": "red",
          "size": 12
         },
         "mode": "markers",
         "name": "province",
         "textfont": {
          "size": 6
         },
         "type": "scattermap"
        },
        {
         "lat": [
          null
         ],
         "lon": [
          null
         ],
         "marker": {
          "color": "blue",
          "size": 8
         },
         "mode": "markers",
         "name": "fou",
         "textfont": {
          "size": 6
         },
         "type": "scattermap"
        },
        {
         "lat": [
          null
         ],
         "lon": [
          null
         ],
         "marker": {
          "color": "green",
          "size": 5
         },
         "mode": "markers",
         "name": "tcheou-hien",
         "textfont": {
          "size": 6
         },
         "type": "scattermap"
        },
        {
         "lat": [
          30.266666666667,
          30.25
         ],
         "line": {
          "color": "red",
          "width": 1
         },
         "lon": [
          120.15,
          120.1675
         ],
         "mode": "lines",
         "showlegend": false,
         "textfont": {
          "size": 6
         },
         "type": "scattermap"
        },
        {
         "lat": [
          30.25,
          30.04998
         ],
         "line": {
          "color": "blue",
          "width": 1
         },
         "lon": [
          120.1675,
          119.93697
         ],
         "mode": "lines",
         "showlegend": false,
         "textfont": {
          "size": 6
         },
         "type": "scattermap"
        },
        {
         "lat": [
          30.25,
          30.448897
         ],
         "line": {
          "color": "blue",
          "width": 1
         },
         "lon": [
          120.1675,
          120.307504
         ],
         "mode": "lines",
         "showlegend": false,
         "textfont": {
          "size": 6
         },
         "type": "scattermap"
        },
        {
         "lat": [
          30.266666666667,
          28.95445
         ],
         "line": {
          "color": "red",
          "width": 1
         },
         "lon": [
          120.15,
          118.8763
         ],
         "mode": "lines",
         "showlegend": false,
         "textfont": {
          "size": 6
         },
         "type": "scattermap"
        },
        {
         "lat": [
          30.266666666667,
          30.8925
         ],
         "line": {
          "color": "red",
          "width": 1
         },
         "lon": [
          120.15,
          120.0875
         ],
         "mode": "lines",
         "showlegend": false,
         "textfont": {
          "size": 6
         },
         "type": "scattermap"
        },
        {
         "lat": [
          30.8925,
          30.53808
         ],
         "line": {
          "color": "blue",
          "width": 1
         },
         "lon": [
          120.0875,
          119.96297
         ],
         "mode": "lines",
         "showlegend": false,
         "textfont": {
          "size": 6
         },
         "type": "scattermap"
        },
        {
         "lat": [
          30.266666666667,
          30.7522
         ],
         "line": {
          "color": "red",
          "width": 1
         },
         "lon": [
          120.15,
          120.75
         ],
         "mode": "lines",
         "showlegend": false,
         "textfont": {
          "size": 6
         },
         "type": "scattermap"
        },
        {
         "lat": [
          30.7522,
          30.84525
         ],
         "line": {
          "color": "blue",
          "width": 1
         },
         "lon": [
          120.75,
          120.9164
         ],
         "mode": "lines",
         "showlegend": false,
         "textfont": {
          "size": 6
         },
         "type": "scattermap"
        },
        {
         "lat": [
          30.7522,
          30.4783
         ],
         "line": {
          "color": "blue",
          "width": 1
         },
         "lon": [
          120.75,
          120.18254
         ],
         "mode": "lines",
         "showlegend": false,
         "textfont": {
          "size": 6
         },
         "type": "scattermap"
        },
        {
         "lat": [
          30.7522,
          30.53055555555556
         ],
         "line": {
          "color": "blue",
          "width": 1
         },
         "lon": [
          120.75,
          120.4355555555556
         ],
         "mode": "lines",
         "showlegend": false,
         "textfont": {
          "size": 6
         },
         "type": "scattermap"
        },
        {
         "lat": [
          30.7522,
          30.6326
         ],
         "line": {
          "color": "blue",
          "width": 1
         },
         "lon": [
          120.75,
          120.54744
         ],
         "mode": "lines",
         "showlegend": false,
         "textfont": {
          "size": 6
         },
         "type": "scattermap"
        },
        {
         "lat": [
          30.266666666667,
          29.10462
         ],
         "line": {
          "color": "red",
          "width": 1
         },
         "lon": [
          120.15,
          119.64937
         ],
         "mode": "lines",
         "showlegend": false,
         "textfont": {
          "size": 6
         },
         "type": "scattermap"
        },
        {
         "lat": [
          29.10462,
          29.216667
         ],
         "line": {
          "color": "blue",
          "width": 1
         },
         "lon": [
          119.64937,
          119.472222
         ],
         "mode": "lines",
         "showlegend": false,
         "textfont": {
          "size": 6
         },
         "type": "scattermap"
        },
        {
         "lat": [
          29.10462,
          29.27853
         ],
         "line": {
          "color": "blue",
          "width": 1
         },
         "lon": [
          119.64937,
          120.22822
         ],
         "mode": "lines",
         "showlegend": false,
         "textfont": {
          "size": 6
         },
         "type": "scattermap"
        },
        {
         "lat": [
          30.266666666667,
          29.875
         ],
         "line": {
          "color": "red",
          "width": 1
         },
         "lon": [
          120.15,
          121.54916666667
         ],
         "mode": "lines",
         "showlegend": false,
         "textfont": {
          "size": 6
         },
         "type": "scattermap"
        },
        {
         "lat": [
          29.875,
          null
         ],
         "line": {
          "color": "blue",
          "width": 1
         },
         "lon": [
          121.54916666667,
          null
         ],
         "mode": "lines",
         "showlegend": false,
         "textfont": {
          "size": 6
         },
         "type": "scattermap"
        },
        {
         "lat": [
          29.875,
          30.019444444444
         ],
         "line": {
          "color": "blue",
          "width": 1
         },
         "lon": [
          121.54916666667,
          122.10277777778
         ],
         "mode": "lines",
         "showlegend": false,
         "textfont": {
          "size": 6
         },
         "type": "scattermap"
        },
        {
         "lat": [
          29.875,
          30.169699
         ],
         "line": {
          "color": "blue",
          "width": 1
         },
         "lon": [
          121.54916666667,
          121.266462
         ],
         "mode": "lines",
         "showlegend": false,
         "textfont": {
          "size": 6
         },
         "type": "scattermap"
        },
        {
         "lat": [
          30.266666666667,
          30.169699
         ],
         "line": {
          "color": "red",
          "width": 1
         },
         "lon": [
          120.15,
          121.266462
         ],
         "mode": "lines",
         "showlegend": false,
         "textfont": {
          "size": 6
         },
         "type": "scattermap"
        },
        {
         "lat": [
          30.266666666667,
          27.999128
         ],
         "line": {
          "color": "red",
          "width": 1
         },
         "lon": [
          120.15,
          120.656075
         ],
         "mode": "lines",
         "showlegend": false,
         "textfont": {
          "size": 6
         },
         "type": "scattermap"
        },
        {
         "lat": [
          27.999128,
          27.778
         ],
         "line": {
          "color": "blue",
          "width": 1
         },
         "lon": [
          120.656075,
          120.65263
         ],
         "mode": "lines",
         "showlegend": false,
         "textfont": {
          "size": 6
         },
         "type": "scattermap"
        },
        {
         "lat": [
          25.9,
          26.076944444444
         ],
         "line": {
          "color": "red",
          "width": 1
         },
         "lon": [
          118.3,
          119.29166666667
         ],
         "mode": "lines",
         "showlegend": false,
         "textfont": {
          "size": 6
         },
         "type": "scattermap"
        },
        {
         "lat": [
          26.076944444444,
          26.070555555556
         ],
         "line": {
          "color": "blue",
          "width": 1
         },
         "lon": [
          119.29166666667,
          119.23083333333
         ],
         "mode": "lines",
         "showlegend": false,
         "textfont": {
          "size": 6
         },
         "type": "scattermap"
        },
        {
         "lat": [
          26.076944444444,
          26.04646
         ],
         "line": {
          "color": "blue",
          "width": 1
         },
         "lon": [
          119.29166666667,
          119.31066
         ],
         "mode": "lines",
         "showlegend": false,
         "textfont": {
          "size": 6
         },
         "type": "scattermap"
        },
        {
         "lat": [
          26.076944444444,
          25.96253
         ],
         "line": {
          "color": "blue",
          "width": 1
         },
         "lon": [
          119.29166666667,
          119.50611
         ],
         "mode": "lines",
         "showlegend": false,
         "textfont": {
          "size": 6
         },
         "type": "scattermap"
        },
        {
         "lat": [
          26.076944444444,
          25.69974
         ],
         "line": {
          "color": "blue",
          "width": 1
         },
         "lon": [
          119.29166666667,
          119.46066
         ],
         "mode": "lines",
         "showlegend": false,
         "textfont": {
          "size": 6
         },
         "type": "scattermap"
        },
        {
         "lat": [
          26.076944444444,
          null
         ],
         "line": {
          "color": "blue",
          "width": 1
         },
         "lon": [
          119.29166666667,
          null
         ],
         "mode": "lines",
         "showlegend": false,
         "textfont": {
          "size": 6
         },
         "type": "scattermap"
        },
        {
         "lat": [
          26.076944444444,
          25.72316
         ],
         "line": {
          "color": "blue",
          "width": 1
         },
         "lon": [
          119.29166666667,
          119.37347
         ],
         "mode": "lines",
         "showlegend": false,
         "textfont": {
          "size": 6
         },
         "type": "scattermap"
        },
        {
         "lat": [
          26.076944444444,
          26.616666666667
         ],
         "line": {
          "color": "blue",
          "width": 1
         },
         "lon": [
          119.29166666667,
          118.85
         ],
         "mode": "lines",
         "showlegend": false,
         "textfont": {
          "size": 6
         },
         "type": "scattermap"
        },
        {
         "lat": [
          26.076944444444,
          26.20077
         ],
         "line": {
          "color": "blue",
          "width": 1
         },
         "lon": [
          119.29166666667,
          119.53499
         ],
         "mode": "lines",
         "showlegend": false,
         "textfont": {
          "size": 6
         },
         "type": "scattermap"
        },
        {
         "lat": [
          25.9,
          24.50932
         ],
         "line": {
          "color": "red",
          "width": 1
         },
         "lon": [
          118.3,
          117.66117
         ],
         "mode": "lines",
         "showlegend": false,
         "textfont": {
          "size": 6
         },
         "type": "scattermap"
        },
        {
         "lat": [
          24.50932,
          24.50213852506329
         ],
         "line": {
          "color": "blue",
          "width": 1
         },
         "lon": [
          117.66117,
          117.6917197408656
         ],
         "mode": "lines",
         "showlegend": false,
         "textfont": {
          "size": 6
         },
         "type": "scattermap"
        },
        {
         "lat": [
          25.9,
          24.91389
         ],
         "line": {
          "color": "red",
          "width": 1
         },
         "lon": [
          118.3,
          118.58583
         ],
         "mode": "lines",
         "showlegend": false,
         "textfont": {
          "size": 6
         },
         "type": "scattermap"
        },
        {
         "lat": [
          24.91389,
          24.479722222222
         ],
         "line": {
          "color": "blue",
          "width": 1
         },
         "lon": [
          118.58583,
          118.08194444444
         ],
         "mode": "lines",
         "showlegend": false,
         "textfont": {
          "size": 6
         },
         "type": "scattermap"
        },
        {
         "lat": [
          24.91389,
          24.71956
         ],
         "line": {
          "color": "blue",
          "width": 1
         },
         "lon": [
          118.58583,
          118.47144
         ],
         "mode": "lines",
         "showlegend": false,
         "textfont": {
          "size": 6
         },
         "type": "scattermap"
        },
        {
         "lat": [
          24.91389,
          25.03423
         ],
         "line": {
          "color": "blue",
          "width": 1
         },
         "lon": [
          118.58583,
          118.7968
         ],
         "mode": "lines",
         "showlegend": false,
         "textfont": {
          "size": 6
         },
         "type": "scattermap"
        },
        {
         "lat": [
          24.91389,
          null
         ],
         "line": {
          "color": "blue",
          "width": 1
         },
         "lon": [
          118.58583,
          null
         ],
         "mode": "lines",
         "showlegend": false,
         "textfont": {
          "size": 6
         },
         "type": "scattermap"
        },
        {
         "lat": [
          24.91389,
          25.32265
         ],
         "line": {
          "color": "blue",
          "width": 1
         },
         "lon": [
          118.58583,
          118.28633
         ],
         "mode": "lines",
         "showlegend": false,
         "textfont": {
          "size": 6
         },
         "type": "scattermap"
        },
        {
         "lat": [
          25.9,
          26.88351
         ],
         "line": {
          "color": "red",
          "width": 1
         },
         "lon": [
          118.3,
          120.00186
         ],
         "mode": "lines",
         "showlegend": false,
         "textfont": {
          "size": 6
         },
         "type": "scattermap"
        },
        {
         "lat": [
          26.88351,
          27.1
         ],
         "line": {
          "color": "blue",
          "width": 1
         },
         "lon": [
          120.00186,
          119.63333333333
         ],
         "mode": "lines",
         "showlegend": false,
         "textfont": {
          "size": 6
         },
         "type": "scattermap"
        },
        {
         "lat": [
          26.88351,
          27.02043
         ],
         "line": {
          "color": "blue",
          "width": 1
         },
         "lon": [
          120.00186,
          119.45468
         ],
         "mode": "lines",
         "showlegend": false,
         "textfont": {
          "size": 6
         },
         "type": "scattermap"
        },
        {
         "lat": [
          26.88351,
          24.94291
         ],
         "line": {
          "color": "blue",
          "width": 1
         },
         "lon": [
          120.00186,
          118.66431
         ],
         "mode": "lines",
         "showlegend": false,
         "textfont": {
          "size": 6
         },
         "type": "scattermap"
        },
        {
         "lat": [
          26.88351,
          27.06115
         ],
         "line": {
          "color": "blue",
          "width": 1
         },
         "lon": [
          120.00186,
          119.52251
         ],
         "mode": "lines",
         "showlegend": false,
         "textfont": {
          "size": 6
         },
         "type": "scattermap"
        },
        {
         "lat": [
          26.88351,
          null
         ],
         "line": {
          "color": "blue",
          "width": 1
         },
         "lon": [
          120.00186,
          null
         ],
         "mode": "lines",
         "showlegend": false,
         "textfont": {
          "size": 6
         },
         "type": "scattermap"
        },
        {
         "lat": [
          26.88351,
          26.661666666667
         ],
         "line": {
          "color": "blue",
          "width": 1
         },
         "lon": [
          120.00186,
          119.52277777778
         ],
         "mode": "lines",
         "showlegend": false,
         "textfont": {
          "size": 6
         },
         "type": "scattermap"
        },
        {
         "lat": [
          26.88351,
          27.4571
         ],
         "line": {
          "color": "blue",
          "width": 1
         },
         "lon": [
          120.00186,
          119.50973
         ],
         "mode": "lines",
         "showlegend": false,
         "textfont": {
          "size": 6
         },
         "type": "scattermap"
        },
        {
         "lat": [
          25.9,
          25.439444
         ],
         "line": {
          "color": "red",
          "width": 1
         },
         "lon": [
          118.3,
          119.010278
         ],
         "mode": "lines",
         "showlegend": false,
         "textfont": {
          "size": 6
         },
         "type": "scattermap"
        },
        {
         "lat": [
          25.439444,
          25.43395
         ],
         "line": {
          "color": "blue",
          "width": 1
         },
         "lon": [
          119.010278,
          119.0111
         ],
         "mode": "lines",
         "showlegend": false,
         "textfont": {
          "size": 6
         },
         "type": "scattermap"
        },
        {
         "lat": [
          25.439444,
          25.35973
         ],
         "line": {
          "color": "blue",
          "width": 1
         },
         "lon": [
          119.010278,
          118.69008
         ],
         "mode": "lines",
         "showlegend": false,
         "textfont": {
          "size": 6
         },
         "type": "scattermap"
        },
        {
         "lat": [
          25.9,
          27.33488
         ],
         "line": {
          "color": "red",
          "width": 1
         },
         "lon": [
          118.3,
          118.11622
         ],
         "mode": "lines",
         "showlegend": false,
         "textfont": {
          "size": 6
         },
         "type": "scattermap"
        },
        {
         "lat": [
          27.33488,
          27.33488
         ],
         "line": {
          "color": "blue",
          "width": 1
         },
         "lon": [
          118.11622,
          118.11622
         ],
         "mode": "lines",
         "showlegend": false,
         "textfont": {
          "size": 6
         },
         "type": "scattermap"
        },
        {
         "lat": [
          27.33488,
          27.75617
         ],
         "line": {
          "color": "blue",
          "width": 1
         },
         "lon": [
          118.11622,
          118.02671
         ],
         "mode": "lines",
         "showlegend": false,
         "textfont": {
          "size": 6
         },
         "type": "scattermap"
        },
        {
         "lat": [
          25.9,
          27.34165
         ],
         "line": {
          "color": "red",
          "width": 1
         },
         "lon": [
          118.3,
          117.4869
         ],
         "mode": "lines",
         "showlegend": false,
         "textfont": {
          "size": 6
         },
         "type": "scattermap"
        },
        {
         "lat": [
          27.34165,
          26.83418
         ],
         "line": {
          "color": "blue",
          "width": 1
         },
         "lon": [
          117.4869,
          116.84028
         ],
         "mode": "lines",
         "showlegend": false,
         "textfont": {
          "size": 6
         },
         "type": "scattermap"
        },
        {
         "lat": [
          27.34165,
          26.90002
         ],
         "line": {
          "color": "blue",
          "width": 1
         },
         "lon": [
          117.4869,
          117.1743
         ],
         "mode": "lines",
         "showlegend": false,
         "textfont": {
          "size": 6
         },
         "type": "scattermap"
        },
        {
         "lat": [
          25.9,
          25.83459
         ],
         "line": {
          "color": "red",
          "width": 1
         },
         "lon": [
          118.3,
          116.34795
         ],
         "mode": "lines",
         "showlegend": false,
         "textfont": {
          "size": 6
         },
         "type": "scattermap"
        },
        {
         "lat": [
          25.83459,
          26.26286
         ],
         "line": {
          "color": "blue",
          "width": 1
         },
         "lon": [
          116.34795,
          116.65196
         ],
         "mode": "lines",
         "showlegend": false,
         "textfont": {
          "size": 6
         },
         "type": "scattermap"
        },
        {
         "lat": [
          25.83459,
          26.18033
         ],
         "line": {
          "color": "blue",
          "width": 1
         },
         "lon": [
          116.34795,
          116.81228
         ],
         "mode": "lines",
         "showlegend": false,
         "textfont": {
          "size": 6
         },
         "type": "scattermap"
        },
        {
         "lat": [
          25.9,
          26.63958
         ],
         "line": {
          "color": "red",
          "width": 1
         },
         "lon": [
          118.3,
          118.1718
         ],
         "mode": "lines",
         "showlegend": false,
         "textfont": {
          "size": 6
         },
         "type": "scattermap"
        },
        {
         "lat": [
          26.63958,
          26.40278
         ],
         "line": {
          "color": "blue",
          "width": 1
         },
         "lon": [
          118.1718,
          117.78529
         ],
         "mode": "lines",
         "showlegend": false,
         "textfont": {
          "size": 6
         },
         "type": "scattermap"
        },
        {
         "lat": [
          25.9,
          23.766666666667
         ],
         "line": {
          "color": "red",
          "width": 1
         },
         "lon": [
          118.3,
          121
         ],
         "mode": "lines",
         "showlegend": false,
         "textfont": {
          "size": 6
         },
         "type": "scattermap"
        },
        {
         "lat": [
          23.766666666667,
          25.12825
         ],
         "line": {
          "color": "blue",
          "width": 1
         },
         "lon": [
          121,
          121.7419
         ],
         "mode": "lines",
         "showlegend": false,
         "textfont": {
          "size": 6
         },
         "type": "scattermap"
        },
        {
         "lat": [
          23.766666666667,
          25.166666666667
         ],
         "line": {
          "color": "blue",
          "width": 1
         },
         "lon": [
          121,
          121.43333333333
         ],
         "mode": "lines",
         "showlegend": false,
         "textfont": {
          "size": 6
         },
         "type": "scattermap"
        },
        {
         "lat": [
          23.766666666667,
          25.201218764354735
         ],
         "line": {
          "color": "blue",
          "width": 1
         },
         "lon": [
          121,
          121.68618375811317
         ],
         "mode": "lines",
         "showlegend": false,
         "textfont": {
          "size": 6
         },
         "type": "scattermap"
        },
        {
         "lat": [
          23.766666666667,
          25.22189808588497
         ],
         "line": {
          "color": "blue",
          "width": 1
         },
         "lon": [
          121,
          121.6382892794898
         ],
         "mode": "lines",
         "showlegend": false,
         "textfont": {
          "size": 6
         },
         "type": "scattermap"
        },
        {
         "lat": [
          23.766666666667,
          25.007430555556
         ],
         "line": {
          "color": "blue",
          "width": 1
         },
         "lon": [
          121,
          122.00173611111
         ],
         "mode": "lines",
         "showlegend": false,
         "textfont": {
          "size": 6
         },
         "type": "scattermap"
        },
        {
         "lat": [
          33.9,
          34.795
         ],
         "line": {
          "color": "red",
          "width": 1
         },
         "lon": [
          113.5,
          114.345
         ],
         "mode": "lines",
         "showlegend": false,
         "textfont": {
          "size": 6
         },
         "type": "scattermap"
        },
        {
         "lat": [
          34.795,
          34.99853
         ],
         "line": {
          "color": "blue",
          "width": 1
         },
         "lon": [
          114.345,
          113.7795
         ],
         "mode": "lines",
         "showlegend": false,
         "textfont": {
          "size": 6
         },
         "type": "scattermap"
        },
        {
         "lat": [
          33.9,
          34.42592
         ],
         "line": {
          "color": "red",
          "width": 1
         },
         "lon": [
          113.5,
          115.64673
         ],
         "mode": "lines",
         "showlegend": false,
         "textfont": {
          "size": 6
         },
         "type": "scattermap"
        },
        {
         "lat": [
          30.55628,
          30.55628
         ],
         "line": {
          "color": "red",
          "width": 1
         },
         "lon": [
          114.31054,
          114.31054
         ],
         "mode": "lines",
         "showlegend": false,
         "textfont": {
          "size": 6
         },
         "type": "scattermap"
        },
        {
         "lat": [
          30.55628,
          29.60558
         ],
         "line": {
          "color": "blue",
          "width": 1
         },
         "lon": [
          114.31054,
          114.49158
         ],
         "mode": "lines",
         "showlegend": false,
         "textfont": {
          "size": 6
         },
         "type": "scattermap"
        },
        {
         "lat": [
          30.55628,
          31.2575
         ],
         "line": {
          "color": "red",
          "width": 1
         },
         "lon": [
          114.31054,
          113.67833
         ],
         "mode": "lines",
         "showlegend": false,
         "textfont": {
          "size": 6
         },
         "type": "scattermap"
        },
        {
         "lat": [
          31.2575,
          31.038055555556
         ],
         "line": {
          "color": "blue",
          "width": 1
         },
         "lon": [
          113.67833,
          112.21138888889
         ],
         "mode": "lines",
         "showlegend": false,
         "textfont": {
          "size": 6
         },
         "type": "scattermap"
        },
        {
         "lat": [
          30.55628,
          30.43772
         ],
         "line": {
          "color": "red",
          "width": 1
         },
         "lon": [
          114.31054,
          114.8796
         ],
         "mode": "lines",
         "showlegend": false,
         "textfont": {
          "size": 6
         },
         "type": "scattermap"
        },
        {
         "lat": [
          30.43772,
          31.038055555556
         ],
         "line": {
          "color": "blue",
          "width": 1
         },
         "lon": [
          114.8796,
          112.21138888889
         ],
         "mode": "lines",
         "showlegend": false,
         "textfont": {
          "size": 6
         },
         "type": "scattermap"
        },
        {
         "lat": [
          30.55628,
          30.07694
         ],
         "line": {
          "color": "red",
          "width": 1
         },
         "lon": [
          114.31054,
          115.33751
         ],
         "mode": "lines",
         "showlegend": false,
         "textfont": {
          "size": 6
         },
         "type": "scattermap"
        },
        {
         "lat": [
          30.07694,
          30.06319
         ],
         "line": {
          "color": "blue",
          "width": 1
         },
         "lon": [
          115.33751,
          112.21917
         ],
         "mode": "lines",
         "showlegend": false,
         "textfont": {
          "size": 6
         },
         "type": "scattermap"
        },
        {
         "lat": [
          30.07694,
          null
         ],
         "line": {
          "color": "blue",
          "width": 1
         },
         "lon": [
          115.33751,
          null
         ],
         "mode": "lines",
         "showlegend": false,
         "textfont": {
          "size": 6
         },
         "type": "scattermap"
        },
        {
         "lat": [
          30.07694,
          29.72109
         ],
         "line": {
          "color": "blue",
          "width": 1
         },
         "lon": [
          115.33751,
          112.40368
         ],
         "mode": "lines",
         "showlegend": false,
         "textfont": {
          "size": 6
         },
         "type": "scattermap"
        },
        {
         "lat": [
          27.4,
          26.4515
         ],
         "line": {
          "color": "red",
          "width": 1
         },
         "lon": [
          111.8,
          111.59527
         ],
         "mode": "lines",
         "showlegend": false,
         "textfont": {
          "size": 6
         },
         "type": "scattermap"
        },
        {
         "lat": [
          26.4515,
          26.58949
         ],
         "line": {
          "color": "blue",
          "width": 1
         },
         "lon": [
          111.59527,
          111.84812
         ],
         "mode": "lines",
         "showlegend": false,
         "textfont": {
          "size": 6
         },
         "type": "scattermap"
        },
        {
         "lat": [
          26.4515,
          26.4269
         ],
         "line": {
          "color": "blue",
          "width": 1
         },
         "lon": [
          111.59527,
          111.994
         ],
         "mode": "lines",
         "showlegend": false,
         "textfont": {
          "size": 6
         },
         "type": "scattermap"
        },
        {
         "lat": [
          31.833333333333,
          32.30621
         ],
         "line": {
          "color": "red",
          "width": 1
         },
         "lon": [
          117,
          118.31148
         ],
         "mode": "lines",
         "showlegend": false,
         "textfont": {
          "size": 6
         },
         "type": "scattermap"
        },
        {
         "lat": [
          31.833333333333,
          29.86972222222222
         ],
         "line": {
          "color": "red",
          "width": 1
         },
         "lon": [
          117,
          118.4219444444444
         ],
         "mode": "lines",
         "showlegend": false,
         "textfont": {
          "size": 6
         },
         "type": "scattermap"
        },
        {
         "lat": [
          29.86972222222222,
          29.25
         ],
         "line": {
          "color": "blue",
          "width": 1
         },
         "lon": [
          118.4219444444444,
          117.85
         ],
         "mode": "lines",
         "showlegend": false,
         "textfont": {
          "size": 6
         },
         "type": "scattermap"
        },
        {
         "lat": [
          29.86972222222222,
          null
         ],
         "line": {
          "color": "blue",
          "width": 1
         },
         "lon": [
          118.4219444444444,
          null
         ],
         "mode": "lines",
         "showlegend": false,
         "textfont": {
          "size": 6
         },
         "type": "scattermap"
        },
        {
         "lat": [
          33,
          32.06083333333333
         ],
         "line": {
          "color": "red",
          "width": 1
         },
         "lon": [
          120,
          118.7788888888889
         ],
         "mode": "lines",
         "showlegend": false,
         "textfont": {
          "size": 6
         },
         "type": "scattermap"
        },
        {
         "lat": [
          32.06083333333333,
          32.03578
         ],
         "line": {
          "color": "blue",
          "width": 1
         },
         "lon": [
          118.7788888888889,
          118.85539
         ],
         "mode": "lines",
         "showlegend": false,
         "textfont": {
          "size": 6
         },
         "type": "scattermap"
        },
        {
         "lat": [
          32.06083333333333,
          32.06472222222222
         ],
         "line": {
          "color": "blue",
          "width": 1
         },
         "lon": [
          118.7788888888889,
          118.64
         ],
         "mode": "lines",
         "showlegend": false,
         "textfont": {
          "size": 6
         },
         "type": "scattermap"
        },
        {
         "lat": [
          32.06083333333333,
          32.16809
         ],
         "line": {
          "color": "blue",
          "width": 1
         },
         "lon": [
          118.7788888888889,
          119.04926
         ],
         "mode": "lines",
         "showlegend": false,
         "textfont": {
          "size": 6
         },
         "type": "scattermap"
        },
        {
         "lat": [
          33,
          31.81216666666667
         ],
         "line": {
          "color": "red",
          "width": 1
         },
         "lon": [
          120,
          119.9691666666667
         ],
         "mode": "lines",
         "showlegend": false,
         "textfont": {
          "size": 6
         },
         "type": "scattermap"
        },
        {
         "lat": [
          31.81216666666667,
          31.369722222222
         ],
         "line": {
          "color": "blue",
          "width": 1
         },
         "lon": [
          119.9691666666667,
          119.82388888889
         ],
         "mode": "lines",
         "showlegend": false,
         "textfont": {
          "size": 6
         },
         "type": "scattermap"
        },
        {
         "lat": [
          31.81216666666667,
          32.00582
         ],
         "line": {
          "color": "blue",
          "width": 1
         },
         "lon": [
          119.9691666666667,
          120.2547
         ],
         "mode": "lines",
         "showlegend": false,
         "textfont": {
          "size": 6
         },
         "type": "scattermap"
        },
        {
         "lat": [
          31.81216666666667,
          31.566667
         ],
         "line": {
          "color": "blue",
          "width": 1
         },
         "lon": [
          119.9691666666667,
          120.283333
         ],
         "mode": "lines",
         "showlegend": false,
         "textfont": {
          "size": 6
         },
         "type": "scattermap"
        },
        {
         "lat": [
          31.81216666666667,
          31.70204
         ],
         "line": {
          "color": "blue",
          "width": 1
         },
         "lon": [
          119.9691666666667,
          119.9377
         ],
         "mode": "lines",
         "showlegend": false,
         "textfont": {
          "size": 6
         },
         "type": "scattermap"
        },
        {
         "lat": [
          33,
          32.21086
         ],
         "line": {
          "color": "red",
          "width": 1
         },
         "lon": [
          120,
          119.45508
         ],
         "mode": "lines",
         "showlegend": false,
         "textfont": {
          "size": 6
         },
         "type": "scattermap"
        },
        {
         "lat": [
          32.21086,
          31.99483
         ],
         "line": {
          "color": "blue",
          "width": 1
         },
         "lon": [
          119.45508,
          119.57504
         ],
         "mode": "lines",
         "showlegend": false,
         "textfont": {
          "size": 6
         },
         "type": "scattermap"
        },
        {
         "lat": [
          33,
          33.50583333333334
         ],
         "line": {
          "color": "red",
          "width": 1
         },
         "lon": [
          120,
          119.1391666666667
         ],
         "mode": "lines",
         "showlegend": false,
         "textfont": {
          "size": 6
         },
         "type": "scattermap"
        },
        {
         "lat": [
          33,
          31.3
         ],
         "line": {
          "color": "red",
          "width": 1
         },
         "lon": [
          120,
          120.6194444444444
         ],
         "mode": "lines",
         "showlegend": false,
         "textfont": {
          "size": 6
         },
         "type": "scattermap"
        },
        {
         "lat": [
          31.3,
          31.264444444444443
         ],
         "line": {
          "color": "blue",
          "width": 1
         },
         "lon": [
          120.6194444444444,
          120.62805555555555
         ],
         "mode": "lines",
         "showlegend": false,
         "textfont": {
          "size": 6
         },
         "type": "scattermap"
        },
        {
         "lat": [
          31.3,
          31.337447222222
         ],
         "line": {
          "color": "blue",
          "width": 1
         },
         "lon": [
          120.6194444444444,
          121.23359166667
         ],
         "mode": "lines",
         "showlegend": false,
         "textfont": {
          "size": 6
         },
         "type": "scattermap"
        },
        {
         "lat": [
          31.3,
          31.62825
         ],
         "line": {
          "color": "blue",
          "width": 1
         },
         "lon": [
          120.6194444444444,
          121.39831
         ],
         "mode": "lines",
         "showlegend": false,
         "textfont": {
          "size": 6
         },
         "type": "scattermap"
        },
        {
         "lat": [
          33,
          31.00947583333333
         ],
         "line": {
          "color": "red",
          "width": 1
         },
         "lon": [
          120,
          121.1077575
         ],
         "mode": "lines",
         "showlegend": false,
         "textfont": {
          "size": 6
         },
         "type": "scattermap"
        },
        {
         "lat": [
          31.00947583333333,
          null
         ],
         "line": {
          "color": "blue",
          "width": 1
         },
         "lon": [
          121.1077575,
          null
         ],
         "mode": "lines",
         "showlegend": false,
         "textfont": {
          "size": 6
         },
         "type": "scattermap"
        },
        {
         "lat": [
          31.00947583333333,
          30.845691234919308
         ],
         "line": {
          "color": "blue",
          "width": 1
         },
         "lon": [
          121.1077575,
          121.3179093082612
         ],
         "mode": "lines",
         "showlegend": false,
         "textfont": {
          "size": 6
         },
         "type": "scattermap"
        },
        {
         "lat": [
          31.00947583333333,
          31.19444444444445
         ],
         "line": {
          "color": "blue",
          "width": 1
         },
         "lon": [
          121.1077575,
          121.6913888888889
         ],
         "mode": "lines",
         "showlegend": false,
         "textfont": {
          "size": 6
         },
         "type": "scattermap"
        },
        {
         "lat": [
          31.00947583333333,
          30.92004
         ],
         "line": {
          "color": "blue",
          "width": 1
         },
         "lon": [
          121.1077575,
          121.46969
         ],
         "mode": "lines",
         "showlegend": false,
         "textfont": {
          "size": 6
         },
         "type": "scattermap"
        },
        {
         "lat": [
          31.00947583333333,
          30.74392
         ],
         "line": {
          "color": "blue",
          "width": 1
         },
         "lon": [
          121.1077575,
          121.33727
         ],
         "mode": "lines",
         "showlegend": false,
         "textfont": {
          "size": 6
         },
         "type": "scattermap"
        },
        {
         "lat": [
          31.00947583333333,
          30.90227
         ],
         "line": {
          "color": "blue",
          "width": 1
         },
         "lon": [
          121.1077575,
          121.15878
         ],
         "mode": "lines",
         "showlegend": false,
         "textfont": {
          "size": 6
         },
         "type": "scattermap"
        },
        {
         "lat": [
          31.00947583333333,
          31.23222222222222
         ],
         "line": {
          "color": "blue",
          "width": 1
         },
         "lon": [
          121.1077575,
          121.4691666666667
         ],
         "mode": "lines",
         "showlegend": false,
         "textfont": {
          "size": 6
         },
         "type": "scattermap"
        },
        {
         "lat": [
          31.00947583333333,
          31.14477166666667
         ],
         "line": {
          "color": "blue",
          "width": 1
         },
         "lon": [
          121.1077575,
          121.1077575
         ],
         "mode": "lines",
         "showlegend": false,
         "textfont": {
          "size": 6
         },
         "type": "scattermap"
        },
        {
         "lat": [
          31.00947583333333,
          31.15958
         ],
         "line": {
          "color": "blue",
          "width": 1
         },
         "lon": [
          121.1077575,
          121.34666
         ],
         "mode": "lines",
         "showlegend": false,
         "textfont": {
          "size": 6
         },
         "type": "scattermap"
        },
        {
         "lat": [
          33,
          32.39117
         ],
         "line": {
          "color": "red",
          "width": 1
         },
         "lon": [
          120,
          119.43625
         ],
         "mode": "lines",
         "showlegend": false,
         "textfont": {
          "size": 6
         },
         "type": "scattermap"
        },
        {
         "lat": [
          32.39117,
          32.78469
         ],
         "line": {
          "color": "blue",
          "width": 1
         },
         "lon": [
          119.43625,
          119.44324
         ],
         "mode": "lines",
         "showlegend": false,
         "textfont": {
          "size": 6
         },
         "type": "scattermap"
        },
        {
         "lat": [
          32.39117,
          31.4
         ],
         "line": {
          "color": "blue",
          "width": 1
         },
         "lon": [
          119.43625,
          121.4
         ],
         "mode": "lines",
         "showlegend": false,
         "textfont": {
          "size": 6
         },
         "type": "scattermap"
        },
        {
         "lat": [
          32.39117,
          31.800210981845982
         ],
         "line": {
          "color": "blue",
          "width": 1
         },
         "lon": [
          119.43625,
          120.7617947082488
         ],
         "mode": "lines",
         "showlegend": false,
         "textfont": {
          "size": 6
         },
         "type": "scattermap"
        },
        {
         "lat": [
          27.3,
          28.684167
         ],
         "line": {
          "color": "red",
          "width": 1
         },
         "lon": [
          116,
          115.887222
         ],
         "mode": "lines",
         "showlegend": false,
         "textfont": {
          "size": 6
         },
         "type": "scattermap"
        },
        {
         "lat": [
          27.3,
          27.55672
         ],
         "line": {
          "color": "red",
          "width": 1
         },
         "lon": [
          116,
          116.64023
         ],
         "mode": "lines",
         "showlegend": false,
         "textfont": {
          "size": 6
         },
         "type": "scattermap"
        },
        {
         "lat": [
          27.3,
          25.3982
         ],
         "line": {
          "color": "red",
          "width": 1
         },
         "lon": [
          116,
          114.36451
         ],
         "mode": "lines",
         "showlegend": false,
         "textfont": {
          "size": 6
         },
         "type": "scattermap"
        },
        {
         "lat": [
          25.3982,
          27.516666666667
         ],
         "line": {
          "color": "blue",
          "width": 1
         },
         "lon": [
          114.36451,
          116.7
         ],
         "mode": "lines",
         "showlegend": false,
         "textfont": {
          "size": 6
         },
         "type": "scattermap"
        },
        {
         "lat": [
          25.3982,
          27.2086
         ],
         "line": {
          "color": "blue",
          "width": 1
         },
         "lon": [
          114.36451,
          116.531
         ],
         "mode": "lines",
         "showlegend": false,
         "textfont": {
          "size": 6
         },
         "type": "scattermap"
        },
        {
         "lat": [
          23.6,
          25.266666666667
         ],
         "line": {
          "color": "red",
          "width": 1
         },
         "lon": [
          108.3,
          110.28333333333
         ],
         "mode": "lines",
         "showlegend": false,
         "textfont": {
          "size": 6
         },
         "type": "scattermap"
        },
        {
         "lat": [
          23.6,
          23.483333
         ],
         "line": {
          "color": "red",
          "width": 1
         },
         "lon": [
          108.3,
          111.316667
         ],
         "mode": "lines",
         "showlegend": false,
         "textfont": {
          "size": 6
         },
         "type": "scattermap"
        },
        {
         "lat": [
          23.4,
          22.19
         ],
         "line": {
          "color": "red",
          "width": 1
         },
         "lon": [
          113.5,
          113.5380555555556
         ],
         "mode": "lines",
         "showlegend": false,
         "textfont": {
          "size": 6
         },
         "type": "scattermap"
        },
        {
         "lat": [
          22.19,
          22.21138889
         ],
         "line": {
          "color": "blue",
          "width": 1
         },
         "lon": [
          113.5380555555556,
          113.5375
         ],
         "mode": "lines",
         "showlegend": false,
         "textfont": {
          "size": 6
         },
         "type": "scattermap"
        },
        {
         "lat": [
          22.19,
          22.19503
         ],
         "line": {
          "color": "blue",
          "width": 1
         },
         "lon": [
          113.5380555555556,
          113.52729
         ],
         "mode": "lines",
         "showlegend": false,
         "textfont": {
          "size": 6
         },
         "type": "scattermap"
        },
        {
         "lat": [
          23.4,
          23.13
         ],
         "line": {
          "color": "red",
          "width": 1
         },
         "lon": [
          113.5,
          113.26
         ],
         "mode": "lines",
         "showlegend": false,
         "textfont": {
          "size": 6
         },
         "type": "scattermap"
        },
        {
         "lat": [
          23.13,
          23.04749
         ],
         "line": {
          "color": "blue",
          "width": 1
         },
         "lon": [
          113.26,
          113.74928
         ],
         "mode": "lines",
         "showlegend": false,
         "textfont": {
          "size": 6
         },
         "type": "scattermap"
        },
        {
         "lat": [
          23.13,
          23.314954073028765
         ],
         "line": {
          "color": "blue",
          "width": 1
         },
         "lon": [
          113.26,
          113.22132587290358
         ],
         "mode": "lines",
         "showlegend": false,
         "textfont": {
          "size": 6
         },
         "type": "scattermap"
        },
        {
         "lat": [
          23.13,
          22.077
         ],
         "line": {
          "color": "blue",
          "width": 1
         },
         "lon": [
          113.26,
          113.44
         ],
         "mode": "lines",
         "showlegend": false,
         "textfont": {
          "size": 6
         },
         "type": "scattermap"
        },
        {
         "lat": [
          23.4,
          19.25
         ],
         "line": {
          "color": "red",
          "width": 1
         },
         "lon": [
          113.5,
          109.6666667
         ],
         "mode": "lines",
         "showlegend": false,
         "textfont": {
          "size": 6
         },
         "type": "scattermap"
        },
        {
         "lat": [
          19.25,
          19.701847222222
         ],
         "line": {
          "color": "blue",
          "width": 1
         },
         "lon": [
          109.6666667,
          110.32945555556
         ],
         "mode": "lines",
         "showlegend": false,
         "textfont": {
          "size": 6
         },
         "type": "scattermap"
        },
        {
         "lat": [
          19.25,
          19.678430033709233
         ],
         "line": {
          "color": "blue",
          "width": 1
         },
         "lon": [
          109.6666667,
          110.3760945797476
         ],
         "mode": "lines",
         "showlegend": false,
         "textfont": {
          "size": 6
         },
         "type": "scattermap"
        },
        {
         "lat": [
          19.25,
          19.44404
         ],
         "line": {
          "color": "blue",
          "width": 1
         },
         "lon": [
          109.6666667,
          110.32549
         ],
         "mode": "lines",
         "showlegend": false,
         "textfont": {
          "size": 6
         },
         "type": "scattermap"
        },
        {
         "lat": [
          23.4,
          20.91471
         ],
         "line": {
          "color": "red",
          "width": 1
         },
         "lon": [
          113.5,
          110.08058
         ],
         "mode": "lines",
         "showlegend": false,
         "textfont": {
          "size": 6
         },
         "type": "scattermap"
        },
        {
         "lat": [
          23.4,
          25.11867
         ],
         "line": {
          "color": "red",
          "width": 1
         },
         "lon": [
          113.5,
          114.30929
         ],
         "mode": "lines",
         "showlegend": false,
         "textfont": {
          "size": 6
         },
         "type": "scattermap"
        },
        {
         "lat": [
          23.4,
          24.6828
         ],
         "line": {
          "color": "red",
          "width": 1
         },
         "lon": [
          113.5,
          113.60027
         ],
         "mode": "lines",
         "showlegend": false,
         "textfont": {
          "size": 6
         },
         "type": "scattermap"
        },
        {
         "lat": [
          24.6828,
          24.75569541392557
         ],
         "line": {
          "color": "blue",
          "width": 1
         },
         "lon": [
          113.60027,
          113.15960996554436
         ],
         "mode": "lines",
         "showlegend": false,
         "textfont": {
          "size": 6
         },
         "type": "scattermap"
        },
        {
         "lat": [
          24.6828,
          24.840448198893206
         ],
         "line": {
          "color": "blue",
          "width": 1
         },
         "lon": [
          113.60027,
          113.54394322209676
         ],
         "mode": "lines",
         "showlegend": false,
         "textfont": {
          "size": 6
         },
         "type": "scattermap"
        },
        {
         "lat": [
          24.6828,
          24.900778941203768
         ],
         "line": {
          "color": "blue",
          "width": 1
         },
         "lon": [
          113.60027,
          113.60398607001083
         ],
         "mode": "lines",
         "showlegend": false,
         "textfont": {
          "size": 6
         },
         "type": "scattermap"
        },
        {
         "lat": [
          24.6828,
          null
         ],
         "line": {
          "color": "blue",
          "width": 1
         },
         "lon": [
          113.60027,
          null
         ],
         "mode": "lines",
         "showlegend": false,
         "textfont": {
          "size": 6
         },
         "type": "scattermap"
        },
        {
         "lat": [
          24.6828,
          24.68899887552694
         ],
         "line": {
          "color": "blue",
          "width": 1
         },
         "lon": [
          113.60027,
          113.57599418283718
         ],
         "mode": "lines",
         "showlegend": false,
         "textfont": {
          "size": 6
         },
         "type": "scattermap"
        },
        {
         "lat": [
          24.6828,
          null
         ],
         "line": {
          "color": "blue",
          "width": 1
         },
         "lon": [
          113.60027,
          null
         ],
         "mode": "lines",
         "showlegend": false,
         "textfont": {
          "size": 6
         },
         "type": "scattermap"
        },
        {
         "lat": [
          23.4,
          23.05
         ],
         "line": {
          "color": "red",
          "width": 1
         },
         "lon": [
          113.5,
          112.4666666666667
         ],
         "mode": "lines",
         "showlegend": false,
         "textfont": {
          "size": 6
         },
         "type": "scattermap"
        },
        {
         "lat": [
          39.90403,
          39.90403
         ],
         "line": {
          "color": "red",
          "width": 1
         },
         "lon": [
          116.407526,
          116.407526
         ],
         "mode": "lines",
         "showlegend": false,
         "textfont": {
          "size": 6
         },
         "type": "scattermap"
        },
        {
         "lat": [
          39.90403,
          39.93016
         ],
         "line": {
          "color": "blue",
          "width": 1
         },
         "lon": [
          116.407526,
          116.3399
         ],
         "mode": "lines",
         "showlegend": false,
         "textfont": {
          "size": 6
         },
         "type": "scattermap"
        },
        {
         "lat": [
          39.90403,
          38.69824
         ],
         "line": {
          "color": "blue",
          "width": 1
         },
         "lon": [
          116.407526,
          116.63413
         ],
         "mode": "lines",
         "showlegend": false,
         "textfont": {
          "size": 6
         },
         "type": "scattermap"
        },
        {
         "lat": [
          39.90403,
          39.146666666667
         ],
         "line": {
          "color": "blue",
          "width": 1
         },
         "lon": [
          116.407526,
          117.20555555556
         ],
         "mode": "lines",
         "showlegend": false,
         "textfont": {
          "size": 6
         },
         "type": "scattermap"
        },
        {
         "lat": [
          39.90403,
          39.90858
         ],
         "line": {
          "color": "blue",
          "width": 1
         },
         "lon": [
          116.407526,
          116.65133
         ],
         "mode": "lines",
         "showlegend": false,
         "textfont": {
          "size": 6
         },
         "type": "scattermap"
        },
        {
         "lat": [
          39.90403,
          38.14602
         ],
         "line": {
          "color": "red",
          "width": 1
         },
         "lon": [
          116.407526,
          114.56507
         ],
         "mode": "lines",
         "showlegend": false,
         "textfont": {
          "size": 6
         },
         "type": "scattermap"
        },
        {
         "lat": [
          38.14602,
          38.51577
         ],
         "line": {
          "color": "blue",
          "width": 1
         },
         "lon": [
          114.56507,
          114.98448
         ],
         "mode": "lines",
         "showlegend": false,
         "textfont": {
          "size": 6
         },
         "type": "scattermap"
        },
        {
         "lat": [
          39.90403,
          38.44506
         ],
         "line": {
          "color": "red",
          "width": 1
         },
         "lon": [
          116.407526,
          116.08973
         ],
         "mode": "lines",
         "showlegend": false,
         "textfont": {
          "size": 6
         },
         "type": "scattermap"
        },
        {
         "lat": [
          38.44506,
          37.64178
         ],
         "line": {
          "color": "blue",
          "width": 1
         },
         "lon": [
          116.08973,
          116.79965
         ],
         "mode": "lines",
         "showlegend": false,
         "textfont": {
          "size": 6
         },
         "type": "scattermap"
        },
        {
         "lat": [
          38.44506,
          37.62603
         ],
         "line": {
          "color": "blue",
          "width": 1
         },
         "lon": [
          116.08973,
          116.38581
         ],
         "mode": "lines",
         "showlegend": false,
         "textfont": {
          "size": 6
         },
         "type": "scattermap"
        },
        {
         "lat": [
          39.90403,
          38.86712
         ],
         "line": {
          "color": "red",
          "width": 1
         },
         "lon": [
          116.407526,
          115.48452
         ],
         "mode": "lines",
         "showlegend": false,
         "textfont": {
          "size": 6
         },
         "type": "scattermap"
        },
        {
         "lat": [
          38.86712,
          38.69015
         ],
         "line": {
          "color": "blue",
          "width": 1
         },
         "lon": [
          115.48452,
          115.77276
         ],
         "mode": "lines",
         "showlegend": false,
         "textfont": {
          "size": 6
         },
         "type": "scattermap"
        },
        {
         "lat": [
          38.86712,
          37.94231
         ],
         "line": {
          "color": "blue",
          "width": 1
         },
         "lon": [
          115.48452,
          115.21181
         ],
         "mode": "lines",
         "showlegend": false,
         "textfont": {
          "size": 6
         },
         "type": "scattermap"
        },
        {
         "lat": [
          37.873333333333,
          37.87326
         ],
         "line": {
          "color": "red",
          "width": 1
         },
         "lon": [
          112.56444444444,
          112.54245
         ],
         "mode": "lines",
         "showlegend": false,
         "textfont": {
          "size": 6
         },
         "type": "scattermap"
        },
        {
         "lat": [
          37.87326,
          37.79488
         ],
         "line": {
          "color": "blue",
          "width": 1
         },
         "lon": [
          112.54245,
          113.62727
         ],
         "mode": "lines",
         "showlegend": false,
         "textfont": {
          "size": 6
         },
         "type": "scattermap"
        },
        {
         "lat": [
          37.873333333333,
          36.08121
         ],
         "line": {
          "color": "red",
          "width": 1
         },
         "lon": [
          112.56444444444,
          111.50865
         ],
         "mode": "lines",
         "showlegend": false,
         "textfont": {
          "size": 6
         },
         "type": "scattermap"
        },
        {
         "lat": [
          36.08121,
          35.61562
         ],
         "line": {
          "color": "blue",
          "width": 1
         },
         "lon": [
          111.50865,
          111.21634
         ],
         "mode": "lines",
         "showlegend": false,
         "textfont": {
          "size": 6
         },
         "type": "scattermap"
        },
        {
         "lat": [
          36.08121,
          35.49072
         ],
         "line": {
          "color": "blue",
          "width": 1
         },
         "lon": [
          111.50865,
          111.57067
         ],
         "mode": "lines",
         "showlegend": false,
         "textfont": {
          "size": 6
         },
         "type": "scattermap"
        },
        {
         "lat": [
          36.08121,
          35.64113
         ],
         "line": {
          "color": "blue",
          "width": 1
         },
         "lon": [
          111.50865,
          111.46925
         ],
         "mode": "lines",
         "showlegend": false,
         "textfont": {
          "size": 6
         },
         "type": "scattermap"
        },
        {
         "lat": [
          36.08121,
          34.83444
         ],
         "line": {
          "color": "blue",
          "width": 1
         },
         "lon": [
          111.50865,
          110.3245
         ],
         "mode": "lines",
         "showlegend": false,
         "textfont": {
          "size": 6
         },
         "type": "scattermap"
        },
        {
         "lat": [
          36.08121,
          35.13922
         ],
         "line": {
          "color": "blue",
          "width": 1
         },
         "lon": [
          111.50865,
          111.2158
         ],
         "mode": "lines",
         "showlegend": false,
         "textfont": {
          "size": 6
         },
         "type": "scattermap"
        },
        {
         "lat": [
          36.08121,
          35.81944444444445
         ],
         "line": {
          "color": "blue",
          "width": 1
         },
         "lon": [
          111.50865,
          111.27222222222223
         ],
         "mode": "lines",
         "showlegend": false,
         "textfont": {
          "size": 6
         },
         "type": "scattermap"
        },
        {
         "lat": [
          37.873333333333,
          35.50348
         ],
         "line": {
          "color": "red",
          "width": 1
         },
         "lon": [
          112.56444444444,
          112.83442
         ],
         "mode": "lines",
         "showlegend": false,
         "textfont": {
          "size": 6
         },
         "type": "scattermap"
        },
        {
         "lat": [
          35.50348,
          35.50348
         ],
         "line": {
          "color": "blue",
          "width": 1
         },
         "lon": [
          112.83442,
          112.83442
         ],
         "mode": "lines",
         "showlegend": false,
         "textfont": {
          "size": 6
         },
         "type": "scattermap"
        },
        {
         "lat": [
          35.50348,
          35.6027
         ],
         "line": {
          "color": "blue",
          "width": 1
         },
         "lon": [
          112.83442,
          110.97833
         ],
         "mode": "lines",
         "showlegend": false,
         "textfont": {
          "size": 6
         },
         "type": "scattermap"
        },
        {
         "lat": [
          36.4,
          36.666666666667
         ],
         "line": {
          "color": "red",
          "width": 1
         },
         "lon": [
          118.4,
          116.98333333333
         ],
         "mode": "lines",
         "showlegend": false,
         "textfont": {
          "size": 6
         },
         "type": "scattermap"
        },
        {
         "lat": [
          36.666666666667,
          36.2001
         ],
         "line": {
          "color": "blue",
          "width": 1
         },
         "lon": [
          116.98333333333,
          117.0809
         ],
         "mode": "lines",
         "showlegend": false,
         "textfont": {
          "size": 6
         },
         "type": "scattermap"
        },
        {
         "lat": [
          36.666666666667,
          null
         ],
         "line": {
          "color": "blue",
          "width": 1
         },
         "lon": [
          116.98333333333,
          null
         ],
         "mode": "lines",
         "showlegend": false,
         "textfont": {
          "size": 6
         },
         "type": "scattermap"
        },
        {
         "lat": [
          36.666666666667,
          36.06933
         ],
         "line": {
          "color": "blue",
          "width": 1
         },
         "lon": [
          116.98333333333,
          117.06846
         ],
         "mode": "lines",
         "showlegend": false,
         "textfont": {
          "size": 6
         },
         "type": "scattermap"
        },
        {
         "lat": [
          36.666666666667,
          36.7946
         ],
         "line": {
          "color": "blue",
          "width": 1
         },
         "lon": [
          116.98333333333,
          116.7588
         ],
         "mode": "lines",
         "showlegend": false,
         "textfont": {
          "size": 6
         },
         "type": "scattermap"
        },
        {
         "lat": [
          36.666666666667,
          37.47888888888889
         ],
         "line": {
          "color": "blue",
          "width": 1
         },
         "lon": [
          116.98333333333,
          117.49777777777778
         ],
         "mode": "lines",
         "showlegend": false,
         "textfont": {
          "size": 6
         },
         "type": "scattermap"
        },
        {
         "lat": [
          36.666666666667,
          37.380555555556
         ],
         "line": {
          "color": "blue",
          "width": 1
         },
         "lon": [
          116.98333333333,
          118.0125
         ],
         "mode": "lines",
         "showlegend": false,
         "textfont": {
          "size": 6
         },
         "type": "scattermap"
        },
        {
         "lat": [
          36.666666666667,
          37.380555555556
         ],
         "line": {
          "color": "blue",
          "width": 1
         },
         "lon": [
          116.98333333333,
          118.0125
         ],
         "mode": "lines",
         "showlegend": false,
         "textfont": {
          "size": 6
         },
         "type": "scattermap"
        },
        {
         "lat": [
          36.4,
          37.81666666666667
         ],
         "line": {
          "color": "red",
          "width": 1
         },
         "lon": [
          118.4,
          120.7333333333333
         ],
         "mode": "lines",
         "showlegend": false,
         "textfont": {
          "size": 6
         },
         "type": "scattermap"
        },
        {
         "lat": [
          36.4,
          36.696666666667
         ],
         "line": {
          "color": "red",
          "width": 1
         },
         "lon": [
          118.4,
          118.47972222222
         ],
         "mode": "lines",
         "showlegend": false,
         "textfont": {
          "size": 6
         },
         "type": "scattermap"
        },
        {
         "lat": [
          36.4,
          36.42194444444444
         ],
         "line": {
          "color": "red",
          "width": 1
         },
         "lon": [
          118.4,
          116.0438888888889
         ],
         "mode": "lines",
         "showlegend": false,
         "textfont": {
          "size": 6
         },
         "type": "scattermap"
        },
        {
         "lat": [
          36.42194444444444,
          null
         ],
         "line": {
          "color": "blue",
          "width": 1
         },
         "lon": [
          116.0438888888889,
          null
         ],
         "mode": "lines",
         "showlegend": false,
         "textfont": {
          "size": 6
         },
         "type": "scattermap"
        },
        {
         "lat": [
          36.42194444444444,
          36.849444444444
         ],
         "line": {
          "color": "blue",
          "width": 1
         },
         "lon": [
          116.0438888888889,
          115.70611111111
         ],
         "mode": "lines",
         "showlegend": false,
         "textfont": {
          "size": 6
         },
         "type": "scattermap"
        },
        {
         "lat": [
          34.266666666667,
          34.26111111111111
         ],
         "line": {
          "color": "red",
          "width": 1
         },
         "lon": [
          108.9,
          108.9422222222222
         ],
         "mode": "lines",
         "showlegend": false,
         "textfont": {
          "size": 6
         },
         "type": "scattermap"
        },
        {
         "lat": [
          34.26111111111111,
          34.16136
         ],
         "line": {
          "color": "blue",
          "width": 1
         },
         "lon": [
          108.9422222222222,
          108.21401
         ],
         "mode": "lines",
         "showlegend": false,
         "textfont": {
          "size": 6
         },
         "type": "scattermap"
        },
        {
         "lat": [
          34.26111111111111,
          34.53515
         ],
         "line": {
          "color": "blue",
          "width": 1
         },
         "lon": [
          108.9422222222222,
          109.0873
         ],
         "mode": "lines",
         "showlegend": false,
         "textfont": {
          "size": 6
         },
         "type": "scattermap"
        },
        {
         "lat": [
          34.26111111111111,
          34.55258137628194
         ],
         "line": {
          "color": "blue",
          "width": 1
         },
         "lon": [
          108.9422222222222,
          109.04672038131238
         ],
         "mode": "lines",
         "showlegend": false,
         "textfont": {
          "size": 6
         },
         "type": "scattermap"
        },
        {
         "lat": [
          34.26111111111111,
          34.45
         ],
         "line": {
          "color": "blue",
          "width": 1
         },
         "lon": [
          108.9422222222222,
          109.7
         ],
         "mode": "lines",
         "showlegend": false,
         "textfont": {
          "size": 6
         },
         "type": "scattermap"
        },
        {
         "lat": [
          34.26111111111111,
          34.62037
         ],
         "line": {
          "color": "blue",
          "width": 1
         },
         "lon": [
          108.9422222222222,
          108.9359
         ],
         "mode": "lines",
         "showlegend": false,
         "textfont": {
          "size": 6
         },
         "type": "scattermap"
        },
        {
         "lat": [
          34.26111111111111,
          33.86586
         ],
         "line": {
          "color": "blue",
          "width": 1
         },
         "lon": [
          108.9422222222222,
          109.9284
         ],
         "mode": "lines",
         "showlegend": false,
         "textfont": {
          "size": 6
         },
         "type": "scattermap"
        },
        {
         "lat": [
          34.266666666667,
          33.07938
         ],
         "line": {
          "color": "red",
          "width": 1
         },
         "lon": [
          108.9,
          107.02598
         ],
         "mode": "lines",
         "showlegend": false,
         "textfont": {
          "size": 6
         },
         "type": "scattermap"
        },
        {
         "lat": [
          33.07938,
          33.15405
         ],
         "line": {
          "color": "blue",
          "width": 1
         },
         "lon": [
          107.02598,
          107.32536
         ],
         "mode": "lines",
         "showlegend": false,
         "textfont": {
          "size": 6
         },
         "type": "scattermap"
        },
        {
         "lat": [
          33.07938,
          null
         ],
         "line": {
          "color": "blue",
          "width": 1
         },
         "lon": [
          107.02598,
          null
         ],
         "mode": "lines",
         "showlegend": false,
         "textfont": {
          "size": 6
         },
         "type": "scattermap"
        },
        {
         "lat": [
          33.07938,
          33.2237
         ],
         "line": {
          "color": "blue",
          "width": 1
         },
         "lon": [
          107.02598,
          107.5473
         ],
         "mode": "lines",
         "showlegend": false,
         "textfont": {
          "size": 6
         },
         "type": "scattermap"
        },
        {
         "lat": [
          30,
          30.66
         ],
         "line": {
          "color": "red",
          "width": 1
         },
         "lon": [
          103,
          104.0633333333333
         ],
         "mode": "lines",
         "showlegend": false,
         "textfont": {
          "size": 6
         },
         "type": "scattermap"
        },
        {
         "lat": [
          30.66,
          31.466944444444444
         ],
         "line": {
          "color": "blue",
          "width": 1
         },
         "lon": [
          104.0633333333333,
          104.73833333333333
         ],
         "mode": "lines",
         "showlegend": false,
         "textfont": {
          "size": 6
         },
         "type": "scattermap"
        },
        {
         "lat": [
          30,
          29.55
         ],
         "line": {
          "color": "red",
          "width": 1
         },
         "lon": [
          103,
          106.50694444444
         ],
         "mode": "lines",
         "showlegend": false,
         "textfont": {
          "size": 6
         },
         "type": "scattermap"
        },
        {
         "lat": [
          30,
          31.583333333333332
         ],
         "line": {
          "color": "red",
          "width": 1
         },
         "lon": [
          103,
          105.97194444444445
         ],
         "mode": "lines",
         "showlegend": false,
         "textfont": {
          "size": 6
         },
         "type": "scattermap"
        },
        {
         "hoverinfo": "text",
         "hoverlabel": {
          "bgcolor": "white",
          "font": {
           "size": 12
          }
         },
         "hovertext": [
          "name: Chekiang<br>original: Chekiang#Tche-kiang, today Zhejiang, 浙江,<br>@wikidata:Q16967 @dehergne:396<br><br>wikidata (Q16967)<br>en:Zhejiang (province of China)<br>zh:浙江省 (中華人民共和國東部省份)<br>pt:Zhejiang (província da China) <br>coordinates: (30.266666666667, 120.15)"
         ],
         "lat": [
          30.266666666667
         ],
         "lon": [
          120.15
         ],
         "marker": {
          "color": "red",
          "size": 12
         },
         "mode": "markers+text",
         "showlegend": false,
         "text": [
          "Chekiang"
         ],
         "textfont": {
          "size": 6
         },
         "textposition": "top center",
         "type": "scattermap"
        },
        {
         "hoverinfo": "text",
         "hoverlabel": {
          "bgcolor": "white",
          "font": {
           "size": 12
          }
         },
         "hovertext": [
          "name: Hangchou<br>original: Hangchou#Hang-tcheou, today Hangzhou,<br>杭州, @wikidata:Q4970<br><br>wikidata (Q4970)<br>en:Hangzhou (capital of Zhejiang Province, China)<br>zh:杭州市 (亞洲城市，中華人民共和國浙江省省會)<br>pt:Hangzhou (cidade na China) <br>coordinates: (30.25, 120.1675)"
         ],
         "lat": [
          30.25
         ],
         "lon": [
          120.1675
         ],
         "marker": {
          "color": "blue",
          "size": 8
         },
         "mode": "markers+text",
         "showlegend": false,
         "text": [
          "Hangchou"
         ],
         "textfont": {
          "size": 6
         },
         "textposition": "top center",
         "type": "scattermap"
        },
        {
         "hoverinfo": "text",
         "hoverlabel": {
          "bgcolor": "white",
          "font": {
           "size": 12
          }
         },
         "hovertext": [
          "name: Fuyang<br>original: Fuyang#Fou-yang, today Fuyang, 富阳,<br>@wikidata:Q1011103<br><br>wikidata (Q1011103)<br>en:Fuyang District (district of Zhejiang Province, China)<br>zh:富阳区 (中国浙江省杭州市的市辖区)<br>pt:Fuyang (nan) <br>coordinates: (30.04998, 119.93697)"
         ],
         "lat": [
          30.04998
         ],
         "lon": [
          119.93697
         ],
         "marker": {
          "color": "green",
          "size": 5
         },
         "mode": "markers+text",
         "showlegend": false,
         "text": [
          "Fuyang"
         ],
         "textfont": {
          "size": 6
         },
         "textposition": "top center",
         "type": "scattermap"
        },
        {
         "hoverinfo": "text",
         "hoverlabel": {
          "bgcolor": "white",
          "font": {
           "size": 12
          }
         },
         "hovertext": [
          "name: Jenho<br>original: Jenho#Jen-houo, today Renhe, 仁和县<br>(@wikidata:Q9385136), Historical county<br>name, coordinates: 30.448897N,<br>120.307504E<br><br>wikidata (Q9385136)<br>en:Renhe (historical administrative division of China)<br>zh:仁和县 (中國古代行政區劃)<br>pt:nan (nan) <br>coordinates: (30.448897, 120.307504)"
         ],
         "lat": [
          30.448897
         ],
         "lon": [
          120.307504
         ],
         "marker": {
          "color": "green",
          "size": 5
         },
         "mode": "markers+text",
         "showlegend": false,
         "text": [
          "Jenho"
         ],
         "textfont": {
          "size": 6
         },
         "textposition": "top center",
         "type": "scattermap"
        },
        {
         "hoverinfo": "text",
         "hoverlabel": {
          "bgcolor": "white",
          "font": {
           "size": 12
          }
         },
         "hovertext": [
          "name: Chüchow<br>original: Chüchow#\"\"\"K'iu-tcheou, today Quzhou,<br>衢州, @wikidata:Q58235, in the Chinese<br>translation it is recognized as “遂州”,<br>which is wrong, both phonetically and<br>geographically. In Dehergne(1957), it is<br>noted as \"衢州\".\"\"\"<br><br>wikidata (Q58235)<br>en:Quzhou (prefecture-level city in Zhejiang, China)<br>zh:衢州市 (中国浙江省的地级市)<br>pt:Quzhou (nan) <br>coordinates: (28.95445, 118.8763)"
         ],
         "lat": [
          28.95445
         ],
         "lon": [
          118.8763
         ],
         "marker": {
          "color": "blue",
          "size": 8
         },
         "mode": "markers+text",
         "showlegend": false,
         "text": [
          "Chüchow"
         ],
         "textfont": {
          "size": 6
         },
         "textposition": "top center",
         "type": "scattermap"
        },
        {
         "hoverinfo": "text",
         "hoverlabel": {
          "bgcolor": "white",
          "font": {
           "size": 12
          }
         },
         "hovertext": [
          "name: Huchow<br>original: Huchow#Hou-tcheou, today Huzhou, 湖州,<br>@wikidata:Q42664<br><br>wikidata (Q42664)<br>en:Huzhou (prefecture-level city in Zhejiang, China)<br>zh:湖州市 (中国浙江省的地级市)<br>pt:Huzhou (nan) <br>coordinates: (30.8925, 120.0875)"
         ],
         "lat": [
          30.8925
         ],
         "lon": [
          120.0875
         ],
         "marker": {
          "color": "blue",
          "size": 8
         },
         "mode": "markers+text",
         "showlegend": false,
         "text": [
          "Huchow"
         ],
         "textfont": {
          "size": 6
         },
         "textposition": "top center",
         "type": "scattermap"
        },
        {
         "hoverinfo": "text",
         "hoverlabel": {
          "bgcolor": "white",
          "font": {
           "size": 12
          }
         },
         "hovertext": [
          "name: Tehtsing<br>original: Tehtsing%\"\"\"\"Tehtsing du Huchow, Té-<br>ts'ingTeching# today Deqing, 德清,<br>@wikidata:Q1191987\"\"\"\"<br><br>wikidata (Q1191987)<br>en:Deqing County (county in Zhejiang, China)<br>zh:德清县 (中国浙江省湖州市下辖县)<br>pt:nan (nan) <br>coordinates: (30.53808, 119.96297)"
         ],
         "lat": [
          30.53808
         ],
         "lon": [
          119.96297
         ],
         "marker": {
          "color": "green",
          "size": 5
         },
         "mode": "markers+text",
         "showlegend": false,
         "text": [
          "Tehtsing"
         ],
         "textfont": {
          "size": 6
         },
         "textposition": "top center",
         "type": "scattermap"
        },
        {
         "hoverinfo": "text",
         "hoverlabel": {
          "bgcolor": "white",
          "font": {
           "size": 12
          }
         },
         "hovertext": [
          "name: Kashing<br>original: Kashing#Kia-hing, today Jiaxing, 嘉兴,<br>@wikidata:Q58178<br><br>wikidata (Q58178)<br>en:Jiaxing (prefecture-level city in Zhejiang, China)<br>zh:嘉兴市 (中国浙江省的地级市)<br>pt:Jiaxing (nan) <br>coordinates: (30.7522, 120.75)"
         ],
         "lat": [
          30.7522
         ],
         "lon": [
          120.75
         ],
         "marker": {
          "color": "blue",
          "size": 8
         },
         "mode": "markers+text",
         "showlegend": false,
         "text": [
          "Kashing"
         ],
         "textfont": {
          "size": 6
         },
         "textposition": "top center",
         "type": "scattermap"
        },
        {
         "hoverinfo": "text",
         "hoverlabel": {
          "bgcolor": "white",
          "font": {
           "size": 12
          }
         },
         "hovertext": [
          "name: Kashan<br>original: Kashan#Kia-chan, today Jiashan, 嘉善,<br>@wikidata:Q1361347%Kaosham<br><br>wikidata (Q1361347)<br>en:Jiashan County (county of Jiaxing, Zhejiang Province, China)<br>zh:嘉善县 (中国浙江省嘉兴市的县)<br>pt:Condado de Jiashan (nan) <br>coordinates: (30.84525, 120.9164)"
         ],
         "lat": [
          30.84525
         ],
         "lon": [
          120.9164
         ],
         "marker": {
          "color": "green",
          "size": 5
         },
         "mode": "markers+text",
         "showlegend": false,
         "text": [
          "Kashan"
         ],
         "textfont": {
          "size": 6
         },
         "textposition": "top center",
         "type": "scattermap"
        },
        {
         "hoverinfo": "text",
         "hoverlabel": {
          "bgcolor": "white",
          "font": {
           "size": 12
          }
         },
         "hovertext": [
          "name: Tangsi<br>original: Tangsi#\"\"\"\"T'ang-k'i Tangchi\", today<br>Tangqi, 塘栖 @wikidata:Q10931032, in the<br>Chinese translation it is recognized as<br>“塘拪”\"\"\"<br><br>wikidata (Q10931032)<br>en:Tangxi (Town in Hangzhou, China)<br>zh:塘栖镇 (杭州市临平区的一个下辖镇)<br>pt:nan (nan) <br>coordinates: (30.4783, 120.18254)"
         ],
         "lat": [
          30.4783
         ],
         "lon": [
          120.18254
         ],
         "marker": {
          "color": "green",
          "size": 5
         },
         "mode": "markers+text",
         "showlegend": false,
         "text": [
          "Tangsi"
         ],
         "textfont": {
          "size": 6
         },
         "textposition": "top center",
         "type": "scattermap"
        },
        {
         "hoverinfo": "text",
         "hoverlabel": {
          "bgcolor": "white",
          "font": {
           "size": 12
          }
         },
         "hovertext": [
          "name: Tsungteh<br>original: Tsungteh#Tch'ong-té,today Chongde, 崇德县<br>@wikidata:Q10270889, Historical county<br>name, located in the present Chongfu<br>崇福镇%Tsungteh (Shihmen)<br><br>wikidata (Q10270889)<br>en:Chongde County (historical county in Zhejiang, China)<br>zh:崇德县 (中国浙江省旧县名)<br>pt:nan (nan) <br>coordinates: (30.530555555555555, 120.43555555555555)"
         ],
         "lat": [
          30.53055555555556
         ],
         "lon": [
          120.4355555555556
         ],
         "marker": {
          "color": "green",
          "size": 5
         },
         "mode": "markers+text",
         "showlegend": false,
         "text": [
          "Tsungteh"
         ],
         "textfont": {
          "size": 6
         },
         "textposition": "top center",
         "type": "scattermap"
        },
        {
         "hoverinfo": "text",
         "hoverlabel": {
          "bgcolor": "white",
          "font": {
           "size": 12
          }
         },
         "hovertext": [
          "name: Tungsiang<br>original: Tungsiang#T'ong-hiang, today Tongxiang,<br>桐乡, @wikidata:Q1204548<br><br>wikidata (Q1204548)<br>en:Tongxiang City (County-level city in Zhejiang Province, China)<br>zh:桐乡市 (中国浙江省嘉兴市下辖的县级市)<br>pt:Tongxiang (nan) <br>coordinates: (30.6326, 120.54744)"
         ],
         "lat": [
          30.6326
         ],
         "lon": [
          120.54744
         ],
         "marker": {
          "color": "green",
          "size": 5
         },
         "mode": "markers+text",
         "showlegend": false,
         "text": [
          "Tungsiang"
         ],
         "textfont": {
          "size": 6
         },
         "textposition": "top center",
         "type": "scattermap"
        },
        {
         "hoverinfo": "text",
         "hoverlabel": {
          "bgcolor": "white",
          "font": {
           "size": 12
          }
         },
         "hovertext": [
          "name: Kinhwa<br>original: Kinhwa#Kin-hoa,Chinhua,today Jinhua, 金华,<br>@wikidata:Q58210<br><br>wikidata (Q58210)<br>en:Jinhua (prefecture-level city in Zhejiang, China)<br>zh:金华市 (中国浙江省中部的地级市)<br>pt:Jinhua (nan) <br>coordinates: (29.10462, 119.64937)"
         ],
         "lat": [
          29.10462
         ],
         "lon": [
          119.64937
         ],
         "marker": {
          "color": "blue",
          "size": 8
         },
         "mode": "markers+text",
         "showlegend": false,
         "text": [
          "Kinhwa"
         ],
         "textfont": {
          "size": 6
         },
         "textposition": "top center",
         "type": "scattermap"
        },
        {
         "hoverinfo": "text",
         "hoverlabel": {
          "bgcolor": "white",
          "font": {
           "size": 12
          }
         },
         "hovertext": [
          "name: Lanchi<br>original: Lanchi%(qui deviendra em 1656 R des<br>OP)Lan-k'i， today Lanxi, 兰溪,<br>@wikidata:Q1023793<br><br>wikidata (Q1023793)<br>en:Lanxi (county-level city in Zhejiang, China)<br>zh:兰溪市 (中国浙江省金华市代管的一个县级城市)<br>pt:Lanxi (nan) <br>coordinates: (29.216667, 119.472222)"
         ],
         "lat": [
          29.216667
         ],
         "lon": [
          119.472222
         ],
         "marker": {
          "color": "green",
          "size": 5
         },
         "mode": "markers+text",
         "showlegend": false,
         "text": [
          "Lanchi"
         ],
         "textfont": {
          "size": 6
         },
         "textposition": "top center",
         "type": "scattermap"
        },
        {
         "hoverinfo": "text",
         "hoverlabel": {
          "bgcolor": "white",
          "font": {
           "size": 12
          }
         },
         "hovertext": [
          "name: Tungyang<br>original: Tungyang#Tong-yang, today Dongyang, 东阳,<br>@wikidata:Q1023774<br><br>wikidata (Q1023774)<br>en:Dongyang (county-level city)<br>zh:东阳市 (浙江省金华市下辖的县级市)<br>pt:Dongyang (nan) <br>coordinates: (29.27853, 120.22822)"
         ],
         "lat": [
          29.27853
         ],
         "lon": [
          120.22822
         ],
         "marker": {
          "color": "green",
          "size": 5
         },
         "mode": "markers+text",
         "showlegend": false,
         "text": [
          "Tungyang"
         ],
         "textfont": {
          "size": 6
         },
         "textposition": "top center",
         "type": "scattermap"
        },
        {
         "hoverinfo": "text",
         "hoverlabel": {
          "bgcolor": "white",
          "font": {
           "size": 12
          }
         },
         "hovertext": [
          "name: Ningpo<br>original: Ningpo%(v. 1540?)Ning-pouo,today Ningbo,<br>宁波, @wikidata:Q42780<br><br>wikidata (Q42780)<br>en:Ningbo (prefecture-level city in Zhejiang, China)<br>zh:宁波市 (浙江省的第二大城市，副省级市)<br>pt:Ningbo (nan) <br>coordinates: (29.875, 121.54916666667)"
         ],
         "lat": [
          29.875
         ],
         "lon": [
          121.54916666667
         ],
         "marker": {
          "color": "blue",
          "size": 8
         },
         "mode": "markers+text",
         "showlegend": false,
         "text": [
          "Ningpo"
         ],
         "textfont": {
          "size": 6
         },
         "textposition": "top center",
         "type": "scattermap"
        },
        {
         "hoverinfo": "text",
         "hoverlabel": {
          "bgcolor": "white",
          "font": {
           "size": 12
          }
         },
         "hovertext": [
          "name: Tinghai<br>original: Tinghai#T'ing-hai, today Dinghai, 定海,<br>@wikidata:Q1226419<br><br>wikidata (Q1226419)<br>en:Dinghai District (district of Zhejiang Province, China)<br>zh:定海区 (nan)<br>pt:nan (nan) <br>coordinates: (30.019444444444, 122.10277777778)"
         ],
         "lat": [
          30.019444444444
         ],
         "lon": [
          122.10277777778
         ],
         "marker": {
          "color": "green",
          "size": 5
         },
         "mode": "markers+text",
         "showlegend": false,
         "text": [
          "Tinghai"
         ],
         "textfont": {
          "size": 6
         },
         "textposition": "top center",
         "type": "scattermap"
        },
        {
         "hoverinfo": "text",
         "hoverlabel": {
          "bgcolor": "white",
          "font": {
           "size": 12
          }
         },
         "hovertext": [
          "name: Tzeki<br>original: Tzeki#Ts'e-k'i,Tsuchi, today Cixi, 慈溪,<br>@wikidata:Q706161<br><br>wikidata (Q706161)<br>en:Cixi City (county-level city in Ningbo, Zhejiang Province, China)<br>zh:慈溪市 (中国浙江省宁波市代管的一个县级市)<br>pt:nan (nan) <br>coordinates: (30.169699, 121.266462)"
         ],
         "lat": [
          30.169699
         ],
         "lon": [
          121.266462
         ],
         "marker": {
          "color": "green",
          "size": 5
         },
         "mode": "markers+text",
         "showlegend": false,
         "text": [
          "Tzeki"
         ],
         "textfont": {
          "size": 6
         },
         "textposition": "top center",
         "type": "scattermap"
        },
        {
         "hoverinfo": "text",
         "hoverlabel": {
          "bgcolor": "white",
          "font": {
           "size": 12
          }
         },
         "hovertext": [
          "name: Shaoshing<br>original: Shaoshing#Chao-hing,Shaohsing, today<br>Shaoxing, 绍兴, @wikidata:Q706161<br><br>wikidata (Q706161)<br>en:Cixi City (county-level city in Ningbo, Zhejiang Province, China)<br>zh:慈溪市 (中国浙江省宁波市代管的一个县级市)<br>pt:nan (nan) <br>coordinates: (30.169699, 121.266462)"
         ],
         "lat": [
          30.169699
         ],
         "lon": [
          121.266462
         ],
         "marker": {
          "color": "blue",
          "size": 8
         },
         "mode": "markers+text",
         "showlegend": false,
         "text": [
          "Shaoshing"
         ],
         "textfont": {
          "size": 6
         },
         "textposition": "top center",
         "type": "scattermap"
        },
        {
         "hoverinfo": "text",
         "hoverlabel": {
          "bgcolor": "white",
          "font": {
           "size": 12
          }
         },
         "hovertext": [
          "name: Wenchow<br>original: Wenchow#Wen-tcheou, today Wenzhou, 温州,<br>@wikidata:Q42635<br><br>wikidata (Q42635)<br>en:Wenzhou (prefecture-level city in Zhejiang, China)<br>zh:温州市 (中国浙江省的地级市)<br>pt:Wenzhou (nan) <br>coordinates: (27.999128, 120.656075)"
         ],
         "lat": [
          27.999128
         ],
         "lon": [
          120.656075
         ],
         "marker": {
          "color": "blue",
          "size": 8
         },
         "mode": "markers+text",
         "showlegend": false,
         "text": [
          "Wenchow"
         ],
         "textfont": {
          "size": 6
         },
         "textposition": "top center",
         "type": "scattermap"
        },
        {
         "hoverinfo": "text",
         "hoverlabel": {
          "bgcolor": "white",
          "font": {
           "size": 12
          }
         },
         "hovertext": [
          "name: Juian<br>original: Juian#Joei-ngan, today Rui'an, 瑞安,<br>@wikidata:Q713357<br><br>wikidata (Q713357)<br>en:Rui'an (county-level city in China's Zhejiang province)<br>zh:瑞安市 (中国浙江省温州市的县级市)<br>pt:nan (nan) <br>coordinates: (27.778, 120.65263)"
         ],
         "lat": [
          27.778
         ],
         "lon": [
          120.65263
         ],
         "marker": {
          "color": "green",
          "size": 5
         },
         "mode": "markers+text",
         "showlegend": false,
         "text": [
          "Juian"
         ],
         "textfont": {
          "size": 6
         },
         "textposition": "top center",
         "type": "scattermap"
        },
        {
         "hoverinfo": "text",
         "hoverlabel": {
          "bgcolor": "white",
          "font": {
           "size": 12
          }
         },
         "hovertext": [
          "name: Fukien<br>original: Fukien#Fou-kien, today Fujian, 福建,<br>@wikidata:Q41705 @dehergne:397<br><br>wikidata (Q41705)<br>en:Fujian (province of the People's Republic of China, covering the mountainous coast opposite Taiwan)<br>zh:福建省 (中华人民共和国省份)<br>pt:Fujian (província da China) <br>coordinates: (25.9, 118.3)"
         ],
         "lat": [
          25.9
         ],
         "lon": [
          118.3
         ],
         "marker": {
          "color": "red",
          "size": 12
         },
         "mode": "markers+text",
         "showlegend": false,
         "text": [
          "Fukien"
         ],
         "textfont": {
          "size": 6
         },
         "textposition": "top center",
         "type": "scattermap"
        },
        {
         "hoverinfo": "text",
         "hoverlabel": {
          "bgcolor": "white",
          "font": {
           "size": 12
          }
         },
         "hovertext": [
          "name: Foochow<br>original: Foochow#Fuzhou，Fou-tcheou,Fuchou，today<br>Fuzhou, 福州, @wikidata:Q68481<br><br>wikidata (Q68481)<br>en:Fuzhou (capital city of Fujian province, China)<br>zh:福州市 (中国福建省省会，地级市)<br>pt:Fuzhou (cidade da China) <br>coordinates: (26.076944444444, 119.29166666667)"
         ],
         "lat": [
          26.076944444444
         ],
         "lon": [
          119.29166666667
         ],
         "marker": {
          "color": "blue",
          "size": 8
         },
         "mode": "markers+text",
         "showlegend": false,
         "text": [
          "Foochow"
         ],
         "textfont": {
          "size": 6
         },
         "textposition": "top center",
         "type": "scattermap"
        },
        {
         "hoverinfo": "text",
         "hoverlabel": {
          "bgcolor": "white",
          "font": {
           "size": 12
          }
         },
         "hovertext": [
          "name: Hungtang<br>original: Hungtang#\"\"\"today Hongtang, 洪塘,<br>@wikidata:Q11146687, in the Chinese<br>translation it is written as “宏塘”, and<br>in Dehergne(1957) it is \"洪堂\". But<br>actually this place is written with the<br>characters \"洪塘\".\"\"\"%bourg de Hungtang<br><br>wikidata (Q11146687)<br>en:nan (human settlement in People's Republic of China)<br>zh:洪塘 (福州) (nan)<br>pt:nan (nan) <br>coordinates: (26.070555555556, 119.23083333333)"
         ],
         "lat": [
          26.070555555556
         ],
         "lon": [
          119.23083333333
         ],
         "marker": {
          "color": "green",
          "size": 5
         },
         "mode": "markers+text",
         "showlegend": false,
         "text": [
          "Hungtang"
         ],
         "textfont": {
          "size": 6
         },
         "textposition": "top center",
         "type": "scattermap"
        },
        {
         "hoverinfo": "text",
         "hoverlabel": {
          "bgcolor": "white",
          "font": {
           "size": 12
          }
         },
         "hovertext": [
          "name: Machang<br>original: Machang#\"\"\"today Machang, 马厂村,<br>@wikidata:Q1033221 (Changshan<br>district),The Wikidata Q17033140 is that<br>of \"马厂街基督教堂\" Machang Street Christian<br>Church, but no coordinates\"\"\"%bourg de<br>Machang, Machang<br><br>wikidata (Q1033221)<br>en:Cangshan District (district of Fuzhou, Fujian, China)<br>zh:仓山区 (中国福建省福州市市辖区)<br>pt:nan (nan) <br>coordinates: (26.04646, 119.31066)"
         ],
         "lat": [
          26.04646
         ],
         "lon": [
          119.31066
         ],
         "marker": {
          "color": "green",
          "size": 5
         },
         "mode": "markers+text",
         "showlegend": false,
         "text": [
          "Machang"
         ],
         "textfont": {
          "size": 6
         },
         "textposition": "top center",
         "type": "scattermap"
        },
        {
         "hoverinfo": "text",
         "hoverlabel": {
          "bgcolor": "white",
          "font": {
           "size": 12
          }
         },
         "hovertext": [
          "name: Diongloh<br>original: Diongloh#today Changle,长乐,<br>@wikidata:Q766619%Diongloh (Tch'ang-lo),<br>Tch'ang-lo,Changlo<br><br>wikidata (Q766619)<br>en:Changle District (district in Fuzhou, Fujian, China)<br>zh:长乐区 (中国福建省福州市的区)<br>pt:nan (nan) <br>coordinates: (25.96253, 119.50611)"
         ],
         "lat": [
          25.96253
         ],
         "lon": [
          119.50611
         ],
         "marker": {
          "color": "green",
          "size": 5
         },
         "mode": "markers+text",
         "showlegend": false,
         "text": [
          "Diongloh"
         ],
         "textfont": {
          "size": 6
         },
         "textposition": "top center",
         "type": "scattermap"
        },
        {
         "hoverinfo": "text",
         "hoverlabel": {
          "bgcolor": "white",
          "font": {
           "size": 12
          }
         },
         "hovertext": [
          "name: Hoihow<br>original: Hoihow#Haikeu, today Haikou, 海口镇,<br>@wikidata:Q5639130%bourg de Hoihow<br>(Haikeu)<br><br>wikidata (Q5639130)<br>en:Haikou Town (Fuqing City) (town in Fujian Province, China)<br>zh:海口镇 (福清市) (福州市的一个镇)<br>pt:nan (nan) <br>coordinates: (25.69974, 119.46066)"
         ],
         "lat": [
          25.69974
         ],
         "lon": [
          119.46066
         ],
         "marker": {
          "color": "green",
          "size": 5
         },
         "mode": "markers+text",
         "showlegend": false,
         "text": [
          "Hoihow"
         ],
         "textfont": {
          "size": 6
         },
         "textposition": "top center",
         "type": "scattermap"
        },
        {
         "hoverinfo": "text",
         "hoverlabel": {
          "bgcolor": "white",
          "font": {
           "size": 12
          }
         },
         "hovertext": [
          "name: Futsing<br>original: Futsing#Fou-ts'ing, Fuching, today<br>Fuqing, 福清, @wikidata:Q262208<br><br>wikidata (Q262208)<br>en:Fuqing (county-level city in Fuzhou, Fujian, China)<br>zh:福清市 (中国福建省福州市下辖县级市)<br>pt:nan (nan) <br>coordinates: (25.72316, 119.37347)"
         ],
         "lat": [
          25.72316
         ],
         "lon": [
          119.37347
         ],
         "marker": {
          "color": "green",
          "size": 5
         },
         "mode": "markers+text",
         "showlegend": false,
         "text": [
          "Futsing"
         ],
         "textfont": {
          "size": 6
         },
         "textposition": "top center",
         "type": "scattermap"
        },
        {
         "hoverinfo": "text",
         "hoverlabel": {
          "bgcolor": "white",
          "font": {
           "size": 12
          }
         },
         "hovertext": [
          "name: Kutien<br>original: Kutien#Kou-t'ien, today Gutian, 古田,<br>@wikidata:Q1168209<br><br>wikidata (Q1168209)<br>en:Gutian County (county in Fujian Province, China)<br>zh:古田县 (福建省的县份)<br>pt:nan (nan) <br>coordinates: (26.616666666667, 118.85)"
         ],
         "lat": [
          26.616666666667
         ],
         "lon": [
          118.85
         ],
         "marker": {
          "color": "green",
          "size": 5
         },
         "mode": "markers+text",
         "showlegend": false,
         "text": [
          "Kutien"
         ],
         "textfont": {
          "size": 6
         },
         "textposition": "top center",
         "type": "scattermap"
        },
        {
         "hoverinfo": "text",
         "hoverlabel": {
          "bgcolor": "white",
          "font": {
           "size": 12
          }
         },
         "hovertext": [
          "name: Lienkong<br>original: Lienkong#Lien-kiang,Lienchiang, today<br>Lianjiang, 连江, @wikidata:Q204827<br><br>wikidata (Q204827)<br>en:Lianjiang County (county in Fujian, China)<br>zh:连江县 (福建县份，主体部分今由中华人民共和国控制)<br>pt:Condado de Lianjiang (nan) <br>coordinates: (26.20077, 119.53499)"
         ],
         "lat": [
          26.20077
         ],
         "lon": [
          119.53499
         ],
         "marker": {
          "color": "green",
          "size": 5
         },
         "mode": "markers+text",
         "showlegend": false,
         "text": [
          "Lienkong"
         ],
         "textfont": {
          "size": 6
         },
         "textposition": "top center",
         "type": "scattermap"
        },
        {
         "hoverinfo": "text",
         "hoverlabel": {
          "bgcolor": "white",
          "font": {
           "size": 12
          }
         },
         "hovertext": [
          "name: Changchow<br>original: Changchow#Zhangzhou, today Zhangzhou,<br>漳州, @wikidata:Q68814%Changchow (Lungki)<br><br>wikidata (Q68814)<br>en:Zhangzhou (prefecture-level city in Fujian, China)<br>zh:漳州市 (中国福建省的地级市)<br>pt:Zhangzhou (nan) <br>coordinates: (24.50932, 117.66117)"
         ],
         "lat": [
          24.50932
         ],
         "lon": [
          117.66117
         ],
         "marker": {
          "color": "blue",
          "size": 8
         },
         "mode": "markers+text",
         "showlegend": false,
         "text": [
          "Changchow"
         ],
         "textfont": {
          "size": 6
         },
         "textposition": "top center",
         "type": "scattermap"
        },
        {
         "hoverinfo": "text",
         "hoverlabel": {
          "bgcolor": "white",
          "font": {
           "size": 12
          }
         },
         "hovertext": [
          "name: Aupua<br>original: Aupua#today Houban, 后坂<br>(@wikidata:Q14420305),<br>(@geonames:1977135), coordinates:<br>24.50213852506329N,<br>117.6917197408656E%Au-poa,Heupuen<br><br>wikidata (Q14420305)<br>en:Houban (village in China)<br>zh:后坂村 (nan)<br>pt:nan (nan) <br>coordinates: (24.50213852506329, 117.6917197408656)"
         ],
         "lat": [
          24.50213852506329
         ],
         "lon": [
          117.6917197408656
         ],
         "marker": {
          "color": "green",
          "size": 5
         },
         "mode": "markers+text",
         "showlegend": false,
         "text": [
          "Aupua"
         ],
         "textfont": {
          "size": 6
         },
         "textposition": "top center",
         "type": "scattermap"
        },
        {
         "hoverinfo": "text",
         "hoverlabel": {
          "bgcolor": "white",
          "font": {
           "size": 12
          }
         },
         "hovertext": [
          "name: Chüanchow<br>original: Chüanchow#Quanzhou, Ts'iuen-tcheou,<br>today Quanzhou, 泉州, @wikidata:Q68695<br><br>wikidata (Q68695)<br>en:Quanzhou (prefecture-level city in Fujian, China)<br>zh:泉州市 (中国福建省的地级市)<br>pt:Quanzhou (nan) <br>coordinates: (24.91389, 118.58583)"
         ],
         "lat": [
          24.91389
         ],
         "lon": [
          118.58583
         ],
         "marker": {
          "color": "blue",
          "size": 8
         },
         "mode": "markers+text",
         "showlegend": false,
         "text": [
          "Chüanchow"
         ],
         "textfont": {
          "size": 6
         },
         "textposition": "top center",
         "type": "scattermap"
        },
        {
         "hoverinfo": "text",
         "hoverlabel": {
          "bgcolor": "white",
          "font": {
           "size": 12
          }
         },
         "hovertext": [
          "name: Amoy<br>original: Amoy#Hia-men,Shamen, today Xiamen, 厦门,<br>@wikidata:Q68744,%Amoy (Szeming)<br><br>wikidata (Q68744)<br>en:Xiamen (prefecture-level city in Fujian, China)<br>zh:厦门市 (中國福建省的副省級市)<br>pt:Xiamen (nan) <br>coordinates: (24.479722222222, 118.08194444444)"
         ],
         "lat": [
          24.479722222222
         ],
         "lon": [
          118.08194444444
         ],
         "marker": {
          "color": "green",
          "size": 5
         },
         "mode": "markers+text",
         "showlegend": false,
         "text": [
          "Amoy"
         ],
         "textfont": {
          "size": 6
         },
         "textposition": "top center",
         "type": "scattermap"
        },
        {
         "hoverinfo": "text",
         "hoverlabel": {
          "bgcolor": "white",
          "font": {
           "size": 12
          }
         },
         "hovertext": [
          "name: Anhai<br>original: Anhai#Ngan-hai,today Anhai,安海,<br>@wikidata:Q4764330%principaux bourgs<br><br>wikidata (Q4764330)<br>en:Anhai Town (town in Fujian Province, China)<br>zh:安海镇 (晋江市的一个镇)<br>pt:nan (nan) <br>coordinates: (24.71956, 118.47144)"
         ],
         "lat": [
          24.71956
         ],
         "lon": [
          118.47144
         ],
         "marker": {
          "color": "green",
          "size": 5
         },
         "mode": "markers+text",
         "showlegend": false,
         "text": [
          "Anhai"
         ],
         "textfont": {
          "size": 6
         },
         "textposition": "top center",
         "type": "scattermap"
        },
        {
         "hoverinfo": "text",
         "hoverlabel": {
          "bgcolor": "white",
          "font": {
           "size": 12
          }
         },
         "hovertext": [
          "name: Hweian<br>original: Hweian#Hoei-ngan, today Hui'an, 惠安,<br>@wikidata:Q1374978<br><br>wikidata (Q1374978)<br>en:Hui'an County (county)<br>zh:惠安县 (中国福建泉州的县)<br>pt:nan (nan) <br>coordinates: (25.03423, 118.7968)"
         ],
         "lat": [
          25.03423
         ],
         "lon": [
          118.7968
         ],
         "marker": {
          "color": "green",
          "size": 5
         },
         "mode": "markers+text",
         "showlegend": false,
         "text": [
          "Hweian"
         ],
         "textfont": {
          "size": 6
         },
         "textposition": "top center",
         "type": "scattermap"
        },
        {
         "hoverinfo": "text",
         "hoverlabel": {
          "bgcolor": "white",
          "font": {
           "size": 12
          }
         },
         "hovertext": [
          "name: Yungchun<br>original: Yungchun#Yong-tch'oen,Yungchin, today<br>Yongchun, 永春, @wikidata:Q1337868<br><br>wikidata (Q1337868)<br>en:Yongchun County (county in Quanzhou, Fujian, China)<br>zh:永春县 (中国福建省泉州市下辖县)<br>pt:nan (nan) <br>coordinates: (25.32265, 118.28633)"
         ],
         "lat": [
          25.32265
         ],
         "lon": [
          118.28633
         ],
         "marker": {
          "color": "green",
          "size": 5
         },
         "mode": "markers+text",
         "showlegend": false,
         "text": [
          "Yungchun"
         ],
         "textfont": {
          "size": 6
         },
         "textposition": "top center",
         "type": "scattermap"
        },
        {
         "hoverinfo": "text",
         "hoverlabel": {
          "bgcolor": "white",
          "font": {
           "size": 12
          }
         },
         "hovertext": [
          "name: Funing<br>original: Funing#Fou-ning, today Funing,<br>福宁,@wikidata:Q241877, historical<br>administrative division. The Wikidata<br>code is of its administrative center<br>Xiapu 霞浦%Funing (tcheou indép.)<br><br>wikidata (Q241877)<br>en:Xiapu County (county)<br>zh:霞浦县 (福建省宁德市下辖县)<br>pt:nan (nan) <br>coordinates: (26.88351, 120.00186)"
         ],
         "lat": [
          26.88351
         ],
         "lon": [
          120.00186
         ],
         "marker": {
          "color": "blue",
          "size": 8
         },
         "mode": "markers+text",
         "showlegend": false,
         "text": [
          "Funing"
         ],
         "textfont": {
          "size": 6
         },
         "textposition": "top center",
         "type": "scattermap"
        },
        {
         "hoverinfo": "text",
         "hoverlabel": {
          "bgcolor": "white",
          "font": {
           "size": 12
          }
         },
         "hovertext": [
          "name: Fuan<br>original: Fuan#Fou-ngan, today Fu'an, 福安,<br>@wikidata:Q1374581<br><br>wikidata (Q1374581)<br>en:Fu'an (county-level city)<br>zh:福安市 (中国福建省宁德市代管的县级市)<br>pt:Fu'an (nan) <br>coordinates: (27.1, 119.63333333333)"
         ],
         "lat": [
          27.1
         ],
         "lon": [
          119.63333333333
         ],
         "marker": {
          "color": "green",
          "size": 5
         },
         "mode": "markers+text",
         "showlegend": false,
         "text": [
          "Fuan"
         ],
         "textfont": {
          "size": 6
         },
         "textposition": "top center",
         "type": "scattermap"
        },
        {
         "hoverinfo": "text",
         "hoverlabel": {
          "bgcolor": "white",
          "font": {
           "size": 12
          }
         },
         "hovertext": [
          "name: Hiapoey<br>original: Hiapoey#\"\"\"Apuy, today Xiapi, 下邳, in the<br>Chinese translation, it is recognized as<br>\"霞浦\", but actually it is not. In<br>Dehergne(1957), it is noted as \"下邳\",<br>coordinates:<br>26.832013826263175N,119.77591087254943E<br>geonames:8579733 (China, FujianNingde<br>Shi, xiapicun), Ningde Shi -><br>@wikidata:Q28794829\"\"\"%Hiapoey (Apuy)<br><br>wikidata (Q28794829)<br>en:Ningde Shi (nan)<br>zh:nan (nan)<br>pt:nan (nan) <br>coordinates: (27.02043, 119.45468)"
         ],
         "lat": [
          27.02043
         ],
         "lon": [
          119.45468
         ],
         "marker": {
          "color": "green",
          "size": 5
         },
         "mode": "markers+text",
         "showlegend": false,
         "text": [
          "Hiapoey"
         ],
         "textfont": {
          "size": 6
         },
         "textposition": "top center",
         "type": "scattermap"
        },
        {
         "hoverinfo": "text",
         "hoverlabel": {
          "bgcolor": "white",
          "font": {
           "size": 12
          }
         },
         "hovertext": [
          "name: Lokia<br>original: Lokia#\"\"\"Lukiahsiang,Lokahoeng, today<br>Luojiaxiang, 罗家巷, in the Chinese<br>translation, it is recognized as 闾峡, but<br>in Dehergne(1957), it is noted as 罗家巷.<br>罗家巷 now is in 罗江. coordinates:<br>26.971131830911116N, 119.67270683499889E<br>geonames:8579942 Luojiangcun circa<br>@wikidata:Q1152183 \"\"\"%principaux bourgs<br><br>wikidata (Q1152183)<br>en:Luojiang District (district of China)<br>zh:洛江区 (nan)<br>pt:nan (nan) <br>coordinates: (24.94291, 118.66431)"
         ],
         "lat": [
          24.94291
         ],
         "lon": [
          118.66431
         ],
         "marker": {
          "color": "green",
          "size": 5
         },
         "mode": "markers+text",
         "showlegend": false,
         "text": [
          "Lokia"
         ],
         "textfont": {
          "size": 6
         },
         "textposition": "top center",
         "type": "scattermap"
        },
        {
         "hoverinfo": "text",
         "hoverlabel": {
          "bgcolor": "white",
          "font": {
           "size": 12
          }
         },
         "hovertext": [
          "name: Muyang<br>original: Muyang#today Muyang, 穆阳,<br>@wikidata:Q14471971%principaux bourgs,<br>Mou-yang<br><br>wikidata (Q14471971)<br>en:Muyang Town (town in Fujian Province, China)<br>zh:穆阳镇 (nan)<br>pt:nan (nan) <br>coordinates: (27.06115, 119.52251)"
         ],
         "lat": [
          27.06115
         ],
         "lon": [
          119.52251
         ],
         "marker": {
          "color": "green",
          "size": 5
         },
         "mode": "markers+text",
         "showlegend": false,
         "text": [
          "Muyang"
         ],
         "textfont": {
          "size": 6
         },
         "textposition": "top center",
         "type": "scattermap"
        },
        {
         "hoverinfo": "text",
         "hoverlabel": {
          "bgcolor": "white",
          "font": {
           "size": 12
          }
         },
         "hovertext": [
          "name: Ningteh<br>original: Ningteh#today Ningde, 宁德,<br>@wikidata:Q68919%Ning-té,Ningte<br><br>wikidata (Q68919)<br>en:Ningde (prefecture-level city in Fujian, People's Republic of China)<br>zh:宁德市 (中国福建省的地级市)<br>pt:Ningde (nan) <br>coordinates: (26.661666666667, 119.52277777778)"
         ],
         "lat": [
          26.661666666667
         ],
         "lon": [
          119.52277777778
         ],
         "marker": {
          "color": "green",
          "size": 5
         },
         "mode": "markers+text",
         "showlegend": false,
         "text": [
          "Ningteh"
         ],
         "textfont": {
          "size": 6
         },
         "textposition": "top center",
         "type": "scattermap"
        },
        {
         "hoverinfo": "text",
         "hoverlabel": {
          "bgcolor": "white",
          "font": {
           "size": 12
          }
         },
         "hovertext": [
          "name: Showning<br>original: Showning#Cheou-ning, today Shouning, 寿宁,<br>@wikidata:Q1149660<br><br>wikidata (Q1149660)<br>en:Shouning County (county)<br>zh:寿宁县 (nan)<br>pt:nan (nan) <br>coordinates: (27.4571, 119.50973)"
         ],
         "lat": [
          27.4571
         ],
         "lon": [
          119.50973
         ],
         "marker": {
          "color": "green",
          "size": 5
         },
         "mode": "markers+text",
         "showlegend": false,
         "text": [
          "Showning"
         ],
         "textfont": {
          "size": 6
         },
         "textposition": "top center",
         "type": "scattermap"
        },
        {
         "hoverinfo": "text",
         "hoverlabel": {
          "bgcolor": "white",
          "font": {
           "size": 12
          }
         },
         "hovertext": [
          "name: Hinghwa<br>original: Hinghwa#Hing-hoa,Hsinghua, today<br>Xinghua, 兴化, wikidata:Q17498990, 兴化县，the<br>wikidata code of it does not contain<br>coordinate information, which can be<br>substituted by @wikidata:Q68579，the<br>present-day Putian 莆田<br><br>wikidata (Q68579)<br>en:Putian (prefecture-level city in Fujian, China)<br>zh:莆田市 (中华人民共和国福建省地级市)<br>pt:Putian (nan) <br>coordinates: (25.439444, 119.010278)"
         ],
         "lat": [
          25.439444
         ],
         "lon": [
          119.010278
         ],
         "marker": {
          "color": "blue",
          "size": 8
         },
         "mode": "markers+text",
         "showlegend": false,
         "text": [
          "Hinghwa"
         ],
         "textfont": {
          "size": 6
         },
         "textposition": "top center",
         "type": "scattermap"
        },
        {
         "hoverinfo": "text",
         "hoverlabel": {
          "bgcolor": "white",
          "font": {
           "size": 12
          }
         },
         "hovertext": [
          "name: Putien<br>original: Putien#P'ou-t'ien, today Putian, 莆田,<br>@wikidata:Q17031936<br><br>wikidata (Q17031936)<br>en:Putian Xian (ancient county of China)<br>zh:莆田縣 (中国历史地名, 福建省莆田市)<br>pt:nan (nan) <br>coordinates: (25.43395, 119.0111)"
         ],
         "lat": [
          25.43395
         ],
         "lon": [
          119.0111
         ],
         "marker": {
          "color": "green",
          "size": 5
         },
         "mode": "markers+text",
         "showlegend": false,
         "text": [
          "Putien"
         ],
         "textfont": {
          "size": 6
         },
         "textposition": "top center",
         "type": "scattermap"
        },
        {
         "hoverinfo": "text",
         "hoverlabel": {
          "bgcolor": "white",
          "font": {
           "size": 12
          }
         },
         "hovertext": [
          "name: Sienyu<br>original: Sienyu#Sien-yeou, today Xianyou, 仙游,<br>@wikidata:Q1337926<br><br>wikidata (Q1337926)<br>en:Xianyou County (county)<br>zh:仙游县 (中国福建省莆田市代管县)<br>pt:nan (nan) <br>coordinates: (25.35973, 118.69008)"
         ],
         "lat": [
          25.35973
         ],
         "lon": [
          118.69008
         ],
         "marker": {
          "color": "green",
          "size": 5
         },
         "mode": "markers+text",
         "showlegend": false,
         "text": [
          "Sienyu"
         ],
         "textfont": {
          "size": 6
         },
         "textposition": "top center",
         "type": "scattermap"
        },
        {
         "hoverinfo": "text",
         "hoverlabel": {
          "bgcolor": "white",
          "font": {
           "size": 12
          }
         },
         "hovertext": [
          "name: Kienning<br>original: Kienning%Kienning (Kienow), Kien-yang,<br>today Jianyang, 建阳, @wikidata:Q639862<br><br>wikidata (Q639862)<br>en:Jianyang District (district of Nanping, Fujian, China)<br>zh:建阳区 (nan)<br>pt:nan (nan) <br>coordinates: (27.33488, 118.11622)"
         ],
         "lat": [
          27.33488
         ],
         "lon": [
          118.11622
         ],
         "marker": {
          "color": "blue",
          "size": 8
         },
         "mode": "markers+text",
         "showlegend": false,
         "text": [
          "Kienning"
         ],
         "textfont": {
          "size": 6
         },
         "textposition": "top center",
         "type": "scattermap"
        },
        {
         "hoverinfo": "text",
         "hoverlabel": {
          "bgcolor": "white",
          "font": {
           "size": 12
          }
         },
         "hovertext": [
          "name: Kienyang<br>original: Kienyang#Kien-yang, today Jianyang, 建阳,<br>@wikidata:Q639862<br><br>wikidata (Q639862)<br>en:Jianyang District (district of Nanping, Fujian, China)<br>zh:建阳区 (nan)<br>pt:nan (nan) <br>coordinates: (27.33488, 118.11622)"
         ],
         "lat": [
          27.33488
         ],
         "lon": [
          118.11622
         ],
         "marker": {
          "color": "green",
          "size": 5
         },
         "mode": "markers+text",
         "showlegend": false,
         "text": [
          "Kienyang"
         ],
         "textfont": {
          "size": 6
         },
         "textposition": "top center",
         "type": "scattermap"
        },
        {
         "hoverinfo": "text",
         "hoverlabel": {
          "bgcolor": "white",
          "font": {
           "size": 12
          }
         },
         "hovertext": [
          "name: Chungan<br>original: Chungan#Tch'ong-ngan, today Chong'an,<br>崇安, @wikidata:Q94945, Today the city's<br>name changed to be Wuyishan 武夷山市, and<br>the wikidata code is that of Wuyishan<br><br>wikidata (Q94945)<br>en:Wuyishan (county-level city in Nanping, China)<br>zh:武夷山市 (nan)<br>pt:nan (nan) <br>coordinates: (27.75617, 118.02671)"
         ],
         "lat": [
          27.75617
         ],
         "lon": [
          118.02671
         ],
         "marker": {
          "color": "green",
          "size": 5
         },
         "mode": "markers+text",
         "showlegend": false,
         "text": [
          "Chungan"
         ],
         "textfont": {
          "size": 6
         },
         "textposition": "top center",
         "type": "scattermap"
        },
        {
         "hoverinfo": "text",
         "hoverlabel": {
          "bgcolor": "white",
          "font": {
           "size": 12
          }
         },
         "hovertext": [
          "name: Shaowu<br>original: Shaowu#Chao-ou, today Shaowu, 邵武,<br>@wikidata:Q1025451<br><br>wikidata (Q1025451)<br>en:Shaowu (county-level city)<br>zh:邵武市 (福建省南平市代管的县级市)<br>pt:Shaowu (nan) <br>coordinates: (27.34165, 117.4869)"
         ],
         "lat": [
          27.34165
         ],
         "lon": [
          117.4869
         ],
         "marker": {
          "color": "blue",
          "size": 8
         },
         "mode": "markers+text",
         "showlegend": false,
         "text": [
          "Shaowu"
         ],
         "textfont": {
          "size": 6
         },
         "textposition": "top center",
         "type": "scattermap"
        },
        {
         "hoverinfo": "text",
         "hoverlabel": {
          "bgcolor": "white",
          "font": {
           "size": 12
          }
         },
         "hovertext": [
          "name: Kienning hien<br>original: Kienning hien#Kien-ning,Chienning, today<br>Jianning Xian, 建宁县, @wikidata:Q781559<br><br>wikidata (Q781559)<br>en:Jianning County (county)<br>zh:建宁县 (中国福建省三明市下辖县)<br>pt:nan (nan) <br>coordinates: (26.83418, 116.84028)"
         ],
         "lat": [
          26.83418
         ],
         "lon": [
          116.84028
         ],
         "marker": {
          "color": "green",
          "size": 5
         },
         "mode": "markers+text",
         "showlegend": false,
         "text": [
          "Kienning hien"
         ],
         "textfont": {
          "size": 6
         },
         "textposition": "top center",
         "type": "scattermap"
        },
        {
         "hoverinfo": "text",
         "hoverlabel": {
          "bgcolor": "white",
          "font": {
           "size": 12
          }
         },
         "hovertext": [
          "name: Taining<br>original: Taining#T'ai-ning, today Taining, 泰宁,<br>@wikidata:Q1375194<br><br>wikidata (Q1375194)<br>en:Taining County (county)<br>zh:泰宁县 (nan)<br>pt:nan (nan) <br>coordinates: (26.90002, 117.1743)"
         ],
         "lat": [
          26.90002
         ],
         "lon": [
          117.1743
         ],
         "marker": {
          "color": "green",
          "size": 5
         },
         "mode": "markers+text",
         "showlegend": false,
         "text": [
          "Taining"
         ],
         "textfont": {
          "size": 6
         },
         "textposition": "top center",
         "type": "scattermap"
        },
        {
         "hoverinfo": "text",
         "hoverlabel": {
          "bgcolor": "white",
          "font": {
           "size": 12
          }
         },
         "hovertext": [
          "name: Tingchow<br>original: Tingchow#T'ing-tcheou, today Tingzhou,<br>汀州, @wikidata:Q7808213<br><br>wikidata (Q7808213)<br>en:Tingzhou Town (town in Fujian Province, China)<br>zh:汀州镇 (nan)<br>pt:nan (nan) <br>coordinates: (25.83459, 116.34795)"
         ],
         "lat": [
          25.83459
         ],
         "lon": [
          116.34795
         ],
         "marker": {
          "color": "blue",
          "size": 8
         },
         "mode": "markers+text",
         "showlegend": false,
         "text": [
          "Tingchow"
         ],
         "textfont": {
          "size": 6
         },
         "textposition": "top center",
         "type": "scattermap"
        },
        {
         "hoverinfo": "text",
         "hoverlabel": {
          "bgcolor": "white",
          "font": {
           "size": 12
          }
         },
         "hovertext": [
          "name: Ninghwa<br>original: Ninghwa#Ning-hoa, today Ninghua, 宁化,<br>@wikidata:Q1198091<br><br>wikidata (Q1198091)<br>en:Ninghua County (county)<br>zh:宁化县 (中国福建省三明市下辖县)<br>pt:nan (nan) <br>coordinates: (26.26286, 116.65196)"
         ],
         "lat": [
          26.26286
         ],
         "lon": [
          116.65196
         ],
         "marker": {
          "color": "green",
          "size": 5
         },
         "mode": "markers+text",
         "showlegend": false,
         "text": [
          "Ninghwa"
         ],
         "textfont": {
          "size": 6
         },
         "textposition": "top center",
         "type": "scattermap"
        },
        {
         "hoverinfo": "text",
         "hoverlabel": {
          "bgcolor": "white",
          "font": {
           "size": 12
          }
         },
         "hovertext": [
          "name: Tsingliu<br>original: Tsingliu#Tsing-lowou,Chingliu, today<br>Qingliu, 清流, @wikidata:Q1198324<br><br>wikidata (Q1198324)<br>en:Qingliu County (county)<br>zh:清流县 (位於中華人民共和國福建省的縣)<br>pt:nan (nan) <br>coordinates: (26.18033, 116.81228)"
         ],
         "lat": [
          26.18033
         ],
         "lon": [
          116.81228
         ],
         "marker": {
          "color": "green",
          "size": 5
         },
         "mode": "markers+text",
         "showlegend": false,
         "text": [
          "Tsingliu"
         ],
         "textfont": {
          "size": 6
         },
         "textposition": "top center",
         "type": "scattermap"
        },
        {
         "hoverinfo": "text",
         "hoverlabel": {
          "bgcolor": "white",
          "font": {
           "size": 12
          }
         },
         "hovertext": [
          "name: Yenping<br>original: Yenping#Yen-p'ing, today Yanping, 延平,<br>@wikidata:Q1337959<br><br>wikidata (Q1337959)<br>en:Yanping District (district of China)<br>zh:延平区 (中国福建省南平市下辖区)<br>pt:nan (nan) <br>coordinates: (26.63958, 118.1718)"
         ],
         "lat": [
          26.63958
         ],
         "lon": [
          118.1718
         ],
         "marker": {
          "color": "blue",
          "size": 8
         },
         "mode": "markers+text",
         "showlegend": false,
         "text": [
          "Yenping"
         ],
         "textfont": {
          "size": 6
         },
         "textposition": "top center",
         "type": "scattermap"
        },
        {
         "hoverinfo": "text",
         "hoverlabel": {
          "bgcolor": "white",
          "font": {
           "size": 12
          }
         },
         "hovertext": [
          "name: Shahsien<br>original: Shahsien#today Shaxian, 沙县<br>@wikidata:Q1198385%Cha<br><br>wikidata (Q1198385)<br>en:Shaxian District (district in Sanming, Fujian, China)<br>zh:沙县区 (中国福建省三明市的市辖区)<br>pt:nan (nan) <br>coordinates: (26.40278, 117.78529)"
         ],
         "lat": [
          26.40278
         ],
         "lon": [
          117.78529
         ],
         "marker": {
          "color": "green",
          "size": 5
         },
         "mode": "markers+text",
         "showlegend": false,
         "text": [
          "Shahsien"
         ],
         "textfont": {
          "size": 6
         },
         "textposition": "top center",
         "type": "scattermap"
        },
        {
         "hoverinfo": "text",
         "hoverlabel": {
          "bgcolor": "white",
          "font": {
           "size": 12
          }
         },
         "hovertext": [
          "name: Taiwan<br>original: Taiwan#today Taiwan, 台湾,<br>@wikidata:Q22502%Formose (Taiwan),<br>Formosa<br><br>wikidata (Q22502)<br>en:Taiwan Island (island in East Asia; main land of the Republic of China (Taiwan))<br>zh:臺灣島 (位於西太平洋的東亞島嶼)<br>pt:Ilha Formosa (ilha na Ásia Oriental) <br>coordinates: (23.766666666667, 121)"
         ],
         "lat": [
          23.766666666667
         ],
         "lon": [
          121
         ],
         "marker": {
          "color": "blue",
          "size": 8
         },
         "mode": "markers+text",
         "showlegend": false,
         "text": [
          "Taiwan"
         ],
         "textfont": {
          "size": 6
         },
         "textposition": "top center",
         "type": "scattermap"
        },
        {
         "hoverinfo": "text",
         "hoverlabel": {
          "bgcolor": "white",
          "font": {
           "size": 12
          }
         },
         "hovertext": [
          "name: Kilung<br>original: Kilung#Ki-long, Jilong, today Keelung,<br>基隆, @wikidata:Q249996<br><br>wikidata (Q249996)<br>en:Keelung (provincial-level city and the northernmost city in Taiwan)<br>zh:基隆市 (臺灣（中華民國）省轄市、臺灣最北的都市)<br>pt:Keelung (cidade na província de Taiwan, República da China) <br>coordinates: (25.12825, 121.7419)"
         ],
         "lat": [
          25.12825
         ],
         "lon": [
          121.7419
         ],
         "marker": {
          "color": "green",
          "size": 5
         },
         "mode": "markers+text",
         "showlegend": false,
         "text": [
          "Kilung"
         ],
         "textfont": {
          "size": 6
         },
         "textposition": "top center",
         "type": "scattermap"
        },
        {
         "hoverinfo": "text",
         "hoverlabel": {
          "bgcolor": "white",
          "font": {
           "size": 12
          }
         },
         "hovertext": [
          "name: Tamsui<br>original: Tamsui#@wikidata:Q570509<br><br>wikidata (Q570509)<br>en:Tamsui District (A district in New Taipei City, Taiwan)<br>zh:淡水區 (臺灣新北市的市轄區)<br>pt:Tamsui (nan) <br>coordinates: (25.166666666667, 121.43333333333)"
         ],
         "lat": [
          25.166666666667
         ],
         "lon": [
          121.43333333333
         ],
         "marker": {
          "color": "green",
          "size": 5
         },
         "mode": "markers+text",
         "showlegend": false,
         "text": [
          "Tamsui"
         ],
         "textfont": {
          "size": 6
         },
         "textposition": "top center",
         "type": "scattermap"
        },
        {
         "hoverinfo": "text",
         "hoverlabel": {
          "bgcolor": "white",
          "font": {
           "size": 12
          }
         },
         "hovertext": [
          "name: Taparri<br>original: Taparri#\"\"\"hoje：大包里 in the Chinese<br>translation it is recognized as 塔巴里,in<br>Dehergne(1957) it is noted as 大包里, which<br>cannot be found in the map.<br>Dehergne(1957) puts it as \"Peninsule de<br>Masu, à 1 lieue nord-ouest de San<br>Salvador (社寮)\"                 today's<br>Santissima Trinidad @wikidata:Q7420445，<br>with Masu<br>coordinates:25.201218764354735N,<br>121.68618375811317E\"\"\"<br><br>wikidata (Q7420445)<br>en:Santisima Trinidad (former bay on the northeast coast of Taiwan at Keelung)<br>zh:nan (nan)<br>pt:nan (nan) <br>coordinates: (25.201218764354735, 121.68618375811317)"
         ],
         "lat": [
          25.201218764354735
         ],
         "lon": [
          121.68618375811317
         ],
         "marker": {
          "color": "green",
          "size": 5
         },
         "mode": "markers+text",
         "showlegend": false,
         "text": [
          "Taparri"
         ],
         "textfont": {
          "size": 6
         },
         "textposition": "top center",
         "type": "scattermap"
        },
        {
         "hoverinfo": "text",
         "hoverlabel": {
          "bgcolor": "white",
          "font": {
           "size": 12
          }
         },
         "hovertext": [
          "name: Camarri<br>original: Camarri#\"\"\"today Jinbaoli, 金包里, in the<br>Chinese translation it is recognized as<br>“噶玛兰”, but in Dehergne(1957) it is noted<br>as \"金包里\". It is an area in the Northern<br>Taiwan, coordinates: 25.22189808588497N,<br>121.6382892794898E\"\"\"%Quimauri<br><br>wikidata (No wikidata)<br>No wikidata <br>coordinates: (25.22189808588497, 121.6382892794898)"
         ],
         "lat": [
          25.22189808588497
         ],
         "lon": [
          121.6382892794898
         ],
         "marker": {
          "color": "green",
          "size": 5
         },
         "mode": "markers+text",
         "showlegend": false,
         "text": [
          "Camarri"
         ],
         "textfont": {
          "size": 6
         },
         "textposition": "top center",
         "type": "scattermap"
        },
        {
         "hoverinfo": "text",
         "hoverlabel": {
          "bgcolor": "white",
          "font": {
           "size": 12
          }
         },
         "hovertext": [
          "name: Santiago<br>original: Santiago#today Cape Santiago, 三貂角,<br>@wikidata:Q31106%Kakinauan, Samitiao<br><br>wikidata (Q31106)<br>en:Cape Santiago (cape located in Taiwan)<br>zh:三貂角 (位於台灣東北部的岬角)<br>pt:nan (nan) <br>coordinates: (25.007430555556, 122.00173611111)"
         ],
         "lat": [
          25.007430555556
         ],
         "lon": [
          122.00173611111
         ],
         "marker": {
          "color": "green",
          "size": 5
         },
         "mode": "markers+text",
         "showlegend": false,
         "text": [
          "Santiago"
         ],
         "textfont": {
          "size": 6
         },
         "textposition": "top center",
         "type": "scattermap"
        },
        {
         "hoverinfo": "text",
         "hoverlabel": {
          "bgcolor": "white",
          "font": {
           "size": 12
          }
         },
         "hovertext": [
          "name: Honan<br>original: Honan#today Henan, 河南, @wikidata:Q43684<br><br>wikidata (Q43684)<br>en:Henan (province of the People's Republic of China (1949-))<br>zh:河南省 (中华人民共和国省份)<br>pt:Henan (província da China) <br>coordinates: (33.9, 113.5)"
         ],
         "lat": [
          33.9
         ],
         "lon": [
          113.5
         ],
         "marker": {
          "color": "red",
          "size": 12
         },
         "mode": "markers+text",
         "showlegend": false,
         "text": [
          "Honan"
         ],
         "textfont": {
          "size": 6
         },
         "textposition": "top center",
         "type": "scattermap"
        },
        {
         "hoverinfo": "text",
         "hoverlabel": {
          "bgcolor": "white",
          "font": {
           "size": 12
          }
         },
         "hovertext": [
          "name: Kaifeng<br>original: Kaifeng%Kaifeng (Pienleang) «chrétiens<br>de la Croix» (D'Elu II 319 sq) v. 1550.,<br>chrétienté v. 1623, K'ai-fong, today<br>Kaifeng, 开封, @wikidata:Q208471<br><br>wikidata (Q208471)<br>en:Kaifeng (prefecture-level city in Henan, China, a former capital of China)<br>zh:開封市 (中國河南省的地級市)<br>pt:Kaifeng (nan) <br>coordinates: (34.795, 114.345)"
         ],
         "lat": [
          34.795
         ],
         "lon": [
          114.345
         ],
         "marker": {
          "color": "blue",
          "size": 8
         },
         "mode": "markers+text",
         "showlegend": false,
         "text": [
          "Kaifeng"
         ],
         "textfont": {
          "size": 6
         },
         "textposition": "top center",
         "type": "scattermap"
        },
        {
         "hoverinfo": "text",
         "hoverlabel": {
          "bgcolor": "white",
          "font": {
           "size": 12
          }
         },
         "hovertext": [
          "name: Yüanwu<br>original: Yüanwu#Yuen-ou, today Yuanwu, 原武,<br>@wikidata:Q10911308<br><br>wikidata (Q10911308)<br>en:Yuanwu Town (nan)<br>zh:原武镇 (中华人民共和国境内的一个乡镇级行政单位)<br>pt:nan (nan) <br>coordinates: (34.99853, 113.7795)"
         ],
         "lat": [
          34.99853
         ],
         "lon": [
          113.7795
         ],
         "marker": {
          "color": "green",
          "size": 5
         },
         "mode": "markers+text",
         "showlegend": false,
         "text": [
          "Yüanwu"
         ],
         "textfont": {
          "size": 6
         },
         "textposition": "top center",
         "type": "scattermap"
        },
        {
         "hoverinfo": "text",
         "hoverlabel": {
          "bgcolor": "white",
          "font": {
           "size": 12
          }
         },
         "hovertext": [
          "name: Kweiteh<br>original: Kweiteh#Koei-té,Kueite, today Guide, 归德,<br>@wikidata:Q404817<br><br>wikidata (Q404817)<br>en:Shangqiu (prefecture-level city in Henan, China)<br>zh:商丘市 (中國河南省的地級市)<br>pt:Shangqiu (nan) <br>coordinates: (34.42592, 115.64673)"
         ],
         "lat": [
          34.42592
         ],
         "lon": [
          115.64673
         ],
         "marker": {
          "color": "blue",
          "size": 8
         },
         "mode": "markers+text",
         "showlegend": false,
         "text": [
          "Kweiteh"
         ],
         "textfont": {
          "size": 6
         },
         "textposition": "top center",
         "type": "scattermap"
        },
        {
         "hoverinfo": "text",
         "hoverlabel": {
          "bgcolor": "white",
          "font": {
           "size": 12
          }
         },
         "hovertext": [
          "name: Hukwang<br>original: Hukwang#Huguang?, Hou-Quang, today<br>Huguang,湖广, wikidata:Q2235155 for<br>coordinates we use Wuchang District<br>@wikidata:Q1014420, where the head<br>quarters of vice-roy of Huguang<br>(wikidata:Q11563236) was located.<br><br>wikidata (Q1014420)<br>en:Wuchang District (district of Wuhan in Hubei Province, China)<br>zh:武昌区 (武汉市中心城区之一)<br>pt:nan (nan) <br>coordinates: (30.55628, 114.31054)"
         ],
         "lat": [
          30.55628
         ],
         "lon": [
          114.31054
         ],
         "marker": {
          "color": "red",
          "size": 12
         },
         "mode": "markers+text",
         "showlegend": false,
         "text": [
          "Hukwang"
         ],
         "textfont": {
          "size": 6
         },
         "textposition": "top center",
         "type": "scattermap"
        },
        {
         "hoverinfo": "text",
         "hoverlabel": {
          "bgcolor": "white",
          "font": {
           "size": 12
          }
         },
         "hovertext": [
          "name: Wuchang<br>original: Wuchang#do Hupei?, Ou-tch'ang, today<br>Wuchang, 武昌, @wikidata:Q1014420<br><br>wikidata (Q1014420)<br>en:Wuchang District (district of Wuhan in Hubei Province, China)<br>zh:武昌区 (武汉市中心城区之一)<br>pt:nan (nan) <br>coordinates: (30.55628, 114.31054)"
         ],
         "lat": [
          30.55628
         ],
         "lon": [
          114.31054
         ],
         "marker": {
          "color": "blue",
          "size": 8
         },
         "mode": "markers+text",
         "showlegend": false,
         "text": [
          "Wuchang"
         ],
         "textfont": {
          "size": 6
         },
         "textposition": "top center",
         "type": "scattermap"
        },
        {
         "hoverinfo": "text",
         "hoverlabel": {
          "bgcolor": "white",
          "font": {
           "size": 12
          }
         },
         "hovertext": [
          "name: Tungshan<br>original: Tungshan#T'ong-chan, today Tongshan, 通山,<br>@wikidata:Q1356703<br><br>wikidata (Q1356703)<br>en:Tongshan County (county in Hubei province, China)<br>zh:通山县 (中國湖北咸寧市下轄的縣)<br>pt:nan (nan) <br>coordinates: (29.60558, 114.49158)"
         ],
         "lat": [
          29.60558
         ],
         "lon": [
          114.49158
         ],
         "marker": {
          "color": "green",
          "size": 5
         },
         "mode": "markers+text",
         "showlegend": false,
         "text": [
          "Tungshan"
         ],
         "textfont": {
          "size": 6
         },
         "textposition": "top center",
         "type": "scattermap"
        },
        {
         "hoverinfo": "text",
         "hoverlabel": {
          "bgcolor": "white",
          "font": {
           "size": 12
          }
         },
         "hovertext": [
          "name: Anlu<br>original: Anlu#do Hupei?, Ngan-lou, today Anlu,<br>安陆, @wikidata:Q557934<br><br>wikidata (Q557934)<br>en:Anlu (county-level city)<br>zh:安陆市 (中国湖北省孝感市代管的一个县级市)<br>pt:Anlu (nan) <br>coordinates: (31.2575, 113.67833)"
         ],
         "lat": [
          31.2575
         ],
         "lon": [
          113.67833
         ],
         "marker": {
          "color": "blue",
          "size": 8
         },
         "mode": "markers+text",
         "showlegend": false,
         "text": [
          "Anlu"
         ],
         "textfont": {
          "size": 6
         },
         "textposition": "top center",
         "type": "scattermap"
        },
        {
         "hoverinfo": "text",
         "hoverlabel": {
          "bgcolor": "white",
          "font": {
           "size": 12
          }
         },
         "hovertext": [
          "name: Kingmen<br>original: Kingmen#Kingmen, King-men,Chingmen,<br>today Jingmen, 荆门, @wikidata:Q71323<br><br>wikidata (Q71323)<br>en:Jingmen (prefecture-level city in Hubei, China)<br>zh:荆门市 (中国湖北省中部的地级市)<br>pt:Jingmen (nan) <br>coordinates: (31.038055555556, 112.21138888889)"
         ],
         "lat": [
          31.038055555556
         ],
         "lon": [
          112.21138888889
         ],
         "marker": {
          "color": "green",
          "size": 5
         },
         "mode": "markers+text",
         "showlegend": false,
         "text": [
          "Kingmen"
         ],
         "textfont": {
          "size": 6
         },
         "textposition": "top center",
         "type": "scattermap"
        },
        {
         "hoverinfo": "text",
         "hoverlabel": {
          "bgcolor": "white",
          "font": {
           "size": 12
          }
         },
         "hovertext": [
          "name: Hwangchow<br>original: Hwangchow#do Hupei?, Hoang-tcheou, today<br>Huangzhou, 黄州, @wikidata:Q927929<br><br>wikidata (Q927929)<br>en:Huangzhou District (district in Huanggang, Hubei, China)<br>zh:黄州区 (湖北省黄冈市辖区)<br>pt:nan (nan) <br>coordinates: (30.43772, 114.8796)"
         ],
         "lat": [
          30.43772
         ],
         "lon": [
          114.8796
         ],
         "marker": {
          "color": "blue",
          "size": 8
         },
         "mode": "markers+text",
         "showlegend": false,
         "text": [
          "Hwangchow"
         ],
         "textfont": {
          "size": 6
         },
         "textposition": "top center",
         "type": "scattermap"
        },
        {
         "hoverinfo": "text",
         "hoverlabel": {
          "bgcolor": "white",
          "font": {
           "size": 12
          }
         },
         "hovertext": [
          "name: Kichow<br>original: Kichow%Kichow (Kichun), King-<br>men,Chingmen, today Jingmen, 荆门,<br>@wikidata:Q71323<br><br>wikidata (Q71323)<br>en:Jingmen (prefecture-level city in Hubei, China)<br>zh:荆门市 (中国湖北省中部的地级市)<br>pt:Jingmen (nan) <br>coordinates: (31.038055555556, 112.21138888889)"
         ],
         "lat": [
          31.038055555556
         ],
         "lon": [
          112.21138888889
         ],
         "marker": {
          "color": "green",
          "size": 5
         },
         "mode": "markers+text",
         "showlegend": false,
         "text": [
          "Kichow"
         ],
         "textfont": {
          "size": 6
         },
         "textposition": "top center",
         "type": "scattermap"
        },
        {
         "hoverinfo": "text",
         "hoverlabel": {
          "bgcolor": "white",
          "font": {
           "size": 12
          }
         },
         "hovertext": [
          "name: Kingchow<br>original: Kingchow#do Hupei?, K'i-tcheou,Chichou,<br>today Qizhou, 蕲州, @wikidata:Q14135188<br><br>wikidata (Q14135188)<br>en:Qizhou Town (nan)<br>zh:蕲州镇 (nan)<br>pt:nan (nan) <br>coordinates: (30.07694, 115.33751)"
         ],
         "lat": [
          30.07694
         ],
         "lon": [
          115.33751
         ],
         "marker": {
          "color": "blue",
          "size": 8
         },
         "mode": "markers+text",
         "showlegend": false,
         "text": [
          "Kingchow"
         ],
         "textfont": {
          "size": 6
         },
         "textposition": "top center",
         "type": "scattermap"
        },
        {
         "hoverinfo": "text",
         "hoverlabel": {
          "bgcolor": "white",
          "font": {
           "size": 12
          }
         },
         "hovertext": [
          "name: Kungan<br>original: Kungan#Kong-ngan, today Gong'an, 公安,<br>@wikidata:Q1198857<br><br>wikidata (Q1198857)<br>en:Gong'an County (county in Jingzhou, Hubei)<br>zh:公安县 (中国湖北省荆州市辖县)<br>pt:nan (nan) <br>coordinates: (30.06319, 112.21917)"
         ],
         "lat": [
          30.06319
         ],
         "lon": [
          112.21917
         ],
         "marker": {
          "color": "green",
          "size": 5
         },
         "mode": "markers+text",
         "showlegend": false,
         "text": [
          "Kungan"
         ],
         "textfont": {
          "size": 6
         },
         "textposition": "top center",
         "type": "scattermap"
        },
        {
         "hoverinfo": "text",
         "hoverlabel": {
          "bgcolor": "white",
          "font": {
           "size": 12
          }
         },
         "hovertext": [
          "name: Shihshow<br>original: Shihshow#Che-cheou, today Shishou, 石首,<br>@wikidata:Q1359319<br><br>wikidata (Q1359319)<br>en:Shishou (county-level city in Jingzhou, Hubei province, China)<br>zh:石首市 (中国湖北省荆州市代管的县级市)<br>pt:Shishou (nan) <br>coordinates: (29.72109, 112.40368)"
         ],
         "lat": [
          29.72109
         ],
         "lon": [
          112.40368
         ],
         "marker": {
          "color": "green",
          "size": 5
         },
         "mode": "markers+text",
         "showlegend": false,
         "text": [
          "Shihshow"
         ],
         "textfont": {
          "size": 6
         },
         "textposition": "top center",
         "type": "scattermap"
        },
        {
         "hoverinfo": "text",
         "hoverlabel": {
          "bgcolor": "white",
          "font": {
           "size": 12
          }
         },
         "hovertext": [
          "name: Hunan<br>original: Hunan#Hou-nan, today Hunan, 湖南,<br>@wikidata:Q45761<br><br>wikidata (Q45761)<br>en:Hunan (landlocked province in China)<br>zh:湖南省 (中国省份)<br>pt:Hunan (província da China) <br>coordinates: (27.4, 111.8)"
         ],
         "lat": [
          27.4
         ],
         "lon": [
          111.8
         ],
         "marker": {
          "color": "red",
          "size": 12
         },
         "mode": "markers+text",
         "showlegend": false,
         "text": [
          "Hunan"
         ],
         "textfont": {
          "size": 6
         },
         "textposition": "top center",
         "type": "scattermap"
        },
        {
         "hoverinfo": "text",
         "hoverlabel": {
          "bgcolor": "white",
          "font": {
           "size": 12
          }
         },
         "hovertext": [
          "name: Yungchow<br>original: Yungchow#do Hunan?, Yong-tcheou, today<br>Yongzhou, 永州, @wikidata:Q266014<br><br>wikidata (Q266014)<br>en:Yongzhou (prefecture-level city in Hunan, China)<br>zh:永州市 (中国湖南省南部的地级市)<br>pt:Yongzhou (nan) <br>coordinates: (26.4515, 111.59527)"
         ],
         "lat": [
          26.4515
         ],
         "lon": [
          111.59527
         ],
         "marker": {
          "color": "blue",
          "size": 8
         },
         "mode": "markers+text",
         "showlegend": false,
         "text": [
          "Yungchow"
         ],
         "textfont": {
          "size": 6
         },
         "textposition": "top center",
         "type": "scattermap"
        },
        {
         "hoverinfo": "text",
         "hoverlabel": {
          "bgcolor": "white",
          "font": {
           "size": 12
          }
         },
         "hovertext": [
          "name: Kiyang<br>original: Kiyang#K'i-yang,Chiyang, today Qiyang,<br>祁阳, @wikidata:Q1199641<br><br>wikidata (Q1199641)<br>en:Qiyang (county-level city in Yongzhou, Hunan, China)<br>zh:祁阳市 (中国湖南省永州市代管的县级市)<br>pt:nan (nan) <br>coordinates: (26.58949, 111.84812)"
         ],
         "lat": [
          26.58949
         ],
         "lon": [
          111.84812
         ],
         "marker": {
          "color": "green",
          "size": 5
         },
         "mode": "markers+text",
         "showlegend": false,
         "text": [
          "Kiyang"
         ],
         "textfont": {
          "size": 6
         },
         "textposition": "top center",
         "type": "scattermap"
        },
        {
         "hoverinfo": "text",
         "hoverlabel": {
          "bgcolor": "white",
          "font": {
           "size": 12
          }
         },
         "hovertext": [
          "name: Paishui<br>original: Paishui#\"\"\"Dehergne (1957) \"Dés 1587, à<br>Pascivi=Paishui (Pé-choei) 白水 du Kiyang<br>(K'i-yang) 祁陽 hien au nord-est de<br>Yungchow,...\" coordinates:26.4269N,<br>111.9940E\"\"\"<br><br>wikidata (No wikidata)<br>No wikidata <br>coordinates: (26.4269, 111.994)"
         ],
         "lat": [
          26.4269
         ],
         "lon": [
          111.994
         ],
         "marker": {
          "color": "green",
          "size": 5
         },
         "mode": "markers+text",
         "showlegend": false,
         "text": [
          "Paishui"
         ],
         "textfont": {
          "size": 6
         },
         "textposition": "top center",
         "type": "scattermap"
        },
        {
         "hoverinfo": "text",
         "hoverlabel": {
          "bgcolor": "white",
          "font": {
           "size": 12
          }
         },
         "hovertext": [
          "name: Kiangnan<br>original: Kiangnan#\"\"\"Jiangnan?today Jiangnan, 江南,<br>@wikidata:Q11133842 (no coordinates),<br>former province of China, corresponding<br>to modern-day Jiangsu and Anhui<br>provinces, coordinates:32°3'39\"N,<br>118°46'44\"E (Nankjing)\"\"\"%KIANGNAN ou<br>NANKING<br><br>wikidata (Q11133842)<br>en:Jiangnan (Province of the Qing Empire covering the area of modern Shanghai, Jiangsu, and Anhui)<br>zh:江南省 (大清帝国省份)<br>pt:nan (nan) <br>coordinates: (32.06083333333333, 118.77888888888889)"
         ],
         "lat": [
          32.06083333333333
         ],
         "lon": [
          118.77888888888889
         ],
         "marker": {
          "color": "red",
          "size": 12
         },
         "mode": "markers+text",
         "showlegend": false,
         "text": [
          "Kiangnan"
         ],
         "textfont": {
          "size": 6
         },
         "textposition": "top center",
         "type": "scattermap"
        },
        {
         "hoverinfo": "text",
         "hoverlabel": {
          "bgcolor": "white",
          "font": {
           "size": 12
          }
         },
         "hovertext": [
          "name: Anhwei<br>original: Anhwei#Anhui, Ngon-hoei, today Anhui,<br>安徽, @wikidata:Q40956<br><br>wikidata (Q40956)<br>en:Anhui (province of China)<br>zh:安徽省 (中華人民共和國省份)<br>pt:Anhui (província da China) <br>coordinates: (31.833333333333, 117)"
         ],
         "lat": [
          31.833333333333
         ],
         "lon": [
          117
         ],
         "marker": {
          "color": "red",
          "size": 12
         },
         "mode": "markers+text",
         "showlegend": false,
         "text": [
          "Anhwei"
         ],
         "textfont": {
          "size": 6
         },
         "textposition": "top center",
         "type": "scattermap"
        },
        {
         "hoverinfo": "text",
         "hoverlabel": {
          "bgcolor": "white",
          "font": {
           "size": 12
          }
         },
         "hovertext": [
          "name: Chuchow<br>original: Chuchow%Chuchow, today Chuzhou, 滁州,<br>@wikidata:Q114045<br><br>wikidata (Q114045)<br>en:Chuzhou (prefecture-level city in Anhui, China)<br>zh:滁州市 (中国安徽省的地级市)<br>pt:Chuzhou (nan) <br>coordinates: (32.30621, 118.31148)"
         ],
         "lat": [
          32.30621
         ],
         "lon": [
          118.31148
         ],
         "marker": {
          "color": "blue",
          "size": 8
         },
         "mode": "markers+text",
         "showlegend": false,
         "text": [
          "Chuchow"
         ],
         "textfont": {
          "size": 6
         },
         "textposition": "top center",
         "type": "scattermap"
        },
        {
         "hoverinfo": "text",
         "hoverlabel": {
          "bgcolor": "white",
          "font": {
           "size": 12
          }
         },
         "hovertext": [
          "name: Hweichow<br>original: Hweichow#Hoei-tcheou, today Huizhou, 徽州,<br>@wikidata:Q4358404<br><br>wikidata (Q4358404)<br>en:Huizhou (region in Anhui and Jiangxi, China)<br>zh:徽州 (nan)<br>pt:nan (nan) <br>coordinates: (29.869722222222222, 118.42194444444445)"
         ],
         "lat": [
          29.86972222222222
         ],
         "lon": [
          118.4219444444444
         ],
         "marker": {
          "color": "blue",
          "size": 8
         },
         "mode": "markers+text",
         "showlegend": false,
         "text": [
          "Hweichow"
         ],
         "textfont": {
          "size": 6
         },
         "textposition": "top center",
         "type": "scattermap"
        },
        {
         "hoverinfo": "text",
         "hoverlabel": {
          "bgcolor": "white",
          "font": {
           "size": 12
          }
         },
         "hovertext": [
          "name: Wuyan hien<br>original: Wuyan hien#Ou-yuen, today Wuyuan Xian,<br>婺源县, @wikidata:Q1357710, Wuyuan<br>historically was in Anhui province, but<br>now it is in the present-day Jiangxi<br>province<br><br>wikidata (Q1357710)<br>en:Wuyuan County (county in Shangrao, Jiangxi, China)<br>zh:婺源县 (中国江西省上饶市下辖县)<br>pt:nan (nan) <br>coordinates: (29.25, 117.85)"
         ],
         "lat": [
          29.25
         ],
         "lon": [
          117.85
         ],
         "marker": {
          "color": "green",
          "size": 5
         },
         "mode": "markers+text",
         "showlegend": false,
         "text": [
          "Wuyan hien"
         ],
         "textfont": {
          "size": 6
         },
         "textposition": "top center",
         "type": "scattermap"
        },
        {
         "hoverinfo": "text",
         "hoverlabel": {
          "bgcolor": "white",
          "font": {
           "size": 12
          }
         },
         "hovertext": [
          "name: Kiangsu<br>original: Kiangsu#Jiangju, today Jiangsu, 江苏,<br>@wikidata:Q16963<br><br>wikidata (Q16963)<br>en:Jiangsu (province of China)<br>zh:江苏省 (中華人民共和國省份)<br>pt:Jiangsu (província da China) <br>coordinates: (33, 120)"
         ],
         "lat": [
          33
         ],
         "lon": [
          120
         ],
         "marker": {
          "color": "red",
          "size": 12
         },
         "mode": "markers+text",
         "showlegend": false,
         "text": [
          "Kiangsu"
         ],
         "textfont": {
          "size": 6
         },
         "textposition": "top center",
         "type": "scattermap"
        },
        {
         "hoverinfo": "text",
         "hoverlabel": {
          "bgcolor": "white",
          "font": {
           "size": 12
          }
         },
         "hovertext": [
          "name: Nanking<br>original: Nanking#Nanjing, Nan-king,Nanching,<br>today Nanjing, 南京, @wikidata:Q16666<br><br>wikidata (Q16666)<br>en:Nanjing (capital city of Jiangsu Province, China, former capital of the Republic of China and China's Ming dynasty)<br>zh:南京市 (中国江苏省省会，副省级城市)<br>pt:Nanquim (cidade capital da Província de Jiangsu, antiga capital da República da China e da Dinastia Ming chinesa) <br>coordinates: (32.060833333333335, 118.77888888888889)"
         ],
         "lat": [
          32.06083333333333
         ],
         "lon": [
          118.7788888888889
         ],
         "marker": {
          "color": "blue",
          "size": 8
         },
         "mode": "markers+text",
         "showlegend": false,
         "text": [
          "Nanking"
         ],
         "textfont": {
          "size": 6
         },
         "textposition": "top center",
         "type": "scattermap"
        },
        {
         "hoverinfo": "text",
         "hoverlabel": {
          "bgcolor": "white",
          "font": {
           "size": 12
          }
         },
         "hovertext": [
          "name: Siaolingwei<br>original: Siaolingwei#Hiao-ling-wei,Hsiaolingwei,<br>today Xiaolingwei, 孝陵卫,<br>@wikidata:Q8044278<br><br>wikidata (Q8044278)<br>en:Xiaolingwei Subdistrict (nan)<br>zh:孝陵卫街道 (nan)<br>pt:nan (nan) <br>coordinates: (32.03578, 118.85539)"
         ],
         "lat": [
          32.03578
         ],
         "lon": [
          118.85539
         ],
         "marker": {
          "color": "green",
          "size": 5
         },
         "mode": "markers+text",
         "showlegend": false,
         "text": [
          "Siaolingwei"
         ],
         "textfont": {
          "size": 6
         },
         "textposition": "top center",
         "type": "scattermap"
        },
        {
         "hoverinfo": "text",
         "hoverlabel": {
          "bgcolor": "white",
          "font": {
           "size": 12
          }
         },
         "hovertext": [
          "name: Kaowang<br>original: Kaowang#\"\"\"today Gaowang, 高旺,<br>@wikidata:Q13721719 (no coord.), in the<br>Chinese translation, it is written as<br>“高望”, which should be “高旺”, coordinates:<br>32°3'53\"N, 118°38'24\"E (江浦街道<br>Q11134699)\"\"\"<br><br>wikidata (Q13721719)<br>en:nan (nan)<br>zh:高旺社区 (nan)<br>pt:nan (nan) <br>coordinates: (32.06472222222222, 118.64)"
         ],
         "lat": [
          32.06472222222222
         ],
         "lon": [
          118.64
         ],
         "marker": {
          "color": "green",
          "size": 5
         },
         "mode": "markers+text",
         "showlegend": false,
         "text": [
          "Kaowang"
         ],
         "textfont": {
          "size": 6
         },
         "textposition": "top center",
         "type": "scattermap"
        },
        {
         "hoverinfo": "text",
         "hoverlabel": {
          "bgcolor": "white",
          "font": {
           "size": 12
          }
         },
         "hovertext": [
          "name: Lungtan<br>original: Lungtan#today Longtan, 龙潭,<br>@wikidata:Q31853195<br><br>wikidata (Q31853195)<br>en:Longtan Subdistrict (nan)<br>zh:龙潭街道 (nan)<br>pt:nan (nan) <br>coordinates: (32.16809, 119.04926)"
         ],
         "lat": [
          32.16809
         ],
         "lon": [
          119.04926
         ],
         "marker": {
          "color": "green",
          "size": 5
         },
         "mode": "markers+text",
         "showlegend": false,
         "text": [
          "Lungtan"
         ],
         "textfont": {
          "size": 6
         },
         "textposition": "top center",
         "type": "scattermap"
        },
        {
         "hoverinfo": "text",
         "hoverlabel": {
          "bgcolor": "white",
          "font": {
           "size": 12
          }
         },
         "hovertext": [
          "name: Changchow<br>original: Changchow#today Changzhou, 常州,<br>@wikidata:Q57970%Changchow (Wutsin)<br><br>wikidata (Q57970)<br>en:Changzhou (prefecture-level city in Jiangsu, China)<br>zh:常州市 (中國江蘇省的地級市)<br>pt:Changzhou (nan) <br>coordinates: (31.812166666666666, 119.96916666666667)"
         ],
         "lat": [
          31.81216666666667
         ],
         "lon": [
          119.9691666666667
         ],
         "marker": {
          "color": "blue",
          "size": 8
         },
         "mode": "markers+text",
         "showlegend": false,
         "text": [
          "Changchow"
         ],
         "textfont": {
          "size": 6
         },
         "textposition": "top center",
         "type": "scattermap"
        },
        {
         "hoverinfo": "text",
         "hoverlabel": {
          "bgcolor": "white",
          "font": {
           "size": 12
          }
         },
         "hovertext": [
          "name: Ihing<br>original: Ihing#I-hing,Ihsing, today Yixing, 宜兴,<br>@wikidata:Q1015788<br><br>wikidata (Q1015788)<br>en:Yixing (county-level city in Wuxi, Jiangsu Province, China)<br>zh:宜兴市 (中国江苏省无锡市代管的县级市)<br>pt:Yixing (nan) <br>coordinates: (31.369722222222, 119.82388888889)"
         ],
         "lat": [
          31.369722222222
         ],
         "lon": [
          119.82388888889
         ],
         "marker": {
          "color": "green",
          "size": 5
         },
         "mode": "markers+text",
         "showlegend": false,
         "text": [
          "Ihing"
         ],
         "textfont": {
          "size": 6
         },
         "textposition": "top center",
         "type": "scattermap"
        },
        {
         "hoverinfo": "text",
         "hoverlabel": {
          "bgcolor": "white",
          "font": {
           "size": 12
          }
         },
         "hovertext": [
          "name: Tsinkiang<br>original: Tsinkiang#\"\"\"Chingchiang, today<br>Jingjiang, 靖江, @wikidata:Q428587, In the<br>original book (Dehergne, 1973), it is<br>written as \"Tsinkiang\" (without g),<br>which is wrongly spelled, because from<br>both phonetic and geographical points of<br>view, it should be Tsingkiang 靖江. In<br>Dehergne(1973), it is written as<br>Tsingjiang. And in the Chinese<br>translation, it is also recognized as<br>\"靖江\".\"\"\"<br><br>wikidata (Q428587)<br>en:Jingjiang (county-level city)<br>zh:靖江市 (中国江苏省的县级市)<br>pt:nan (nan) <br>coordinates: (32.00582, 120.2547)"
         ],
         "lat": [
          32.00582
         ],
         "lon": [
          120.2547
         ],
         "marker": {
          "color": "green",
          "size": 5
         },
         "mode": "markers+text",
         "showlegend": false,
         "text": [
          "Tsinkiang"
         ],
         "textfont": {
          "size": 6
         },
         "textposition": "top center",
         "type": "scattermap"
        },
        {
         "hoverinfo": "text",
         "hoverlabel": {
          "bgcolor": "white",
          "font": {
           "size": 12
          }
         },
         "hovertext": [
          "name: Wusih<br>original: Wusih#Ou-si,Wuhsi, today Wuxi, 无锡,<br>@wikidata:Q42651<br><br>wikidata (Q42651)<br>en:Wuxi (prefecture-level city in Jiangsu, China)<br>zh:无锡市 (中國江蘇省的地級市)<br>pt:Wuxi (nan) <br>coordinates: (31.566667, 120.283333)"
         ],
         "lat": [
          31.566667
         ],
         "lon": [
          120.283333
         ],
         "marker": {
          "color": "green",
          "size": 5
         },
         "mode": "markers+text",
         "showlegend": false,
         "text": [
          "Wusih"
         ],
         "textfont": {
          "size": 6
         },
         "textposition": "top center",
         "type": "scattermap"
        },
        {
         "hoverinfo": "text",
         "hoverlabel": {
          "bgcolor": "white",
          "font": {
           "size": 12
          }
         },
         "hovertext": [
          "name: Wutsin<br>original: Wutsin#@wikidata:Q1197421%?<br><br>wikidata (Q1197421)<br>en:Wujin District (district of Jiangsu Province, China)<br>zh:武进区 (江蘇省常州市的市辖区)<br>pt:nan (nan) <br>coordinates: (31.70204, 119.9377)"
         ],
         "lat": [
          31.70204
         ],
         "lon": [
          119.9377
         ],
         "marker": {
          "color": "green",
          "size": 5
         },
         "mode": "markers+text",
         "showlegend": false,
         "text": [
          "Wutsin"
         ],
         "textfont": {
          "size": 6
         },
         "textposition": "top center",
         "type": "scattermap"
        },
        {
         "hoverinfo": "text",
         "hoverlabel": {
          "bgcolor": "white",
          "font": {
           "size": 12
          }
         },
         "hovertext": [
          "name: Chinkiang<br>original: Chinkiang#Tchen-kiang,Chenchiang, today<br>Zhenjiang, 镇江, @wikidata:Q57958<br><br>wikidata (Q57958)<br>en:Zhenjiang (prefecture-level city in Jiangsu, China)<br>zh:鎮江市 (中國江蘇省的地級市)<br>pt:Zhenjiang (nan) <br>coordinates: (32.21086, 119.45508)"
         ],
         "lat": [
          32.21086
         ],
         "lon": [
          119.45508
         ],
         "marker": {
          "color": "blue",
          "size": 8
         },
         "mode": "markers+text",
         "showlegend": false,
         "text": [
          "Chinkiang"
         ],
         "textfont": {
          "size": 6
         },
         "textposition": "top center",
         "type": "scattermap"
        },
        {
         "hoverinfo": "text",
         "hoverlabel": {
          "bgcolor": "white",
          "font": {
           "size": 12
          }
         },
         "hovertext": [
          "name: Tanyang<br>original: Tanyang#Tan-yang, today Danyang, 丹阳,<br>@wikidata:Q925293<br><br>wikidata (Q925293)<br>en:Danyang (County-level city in Jiangsu Province, China)<br>zh:丹阳市 (中国江苏省的县级市)<br>pt:nan (nan) <br>coordinates: (31.99483, 119.57504)"
         ],
         "lat": [
          31.99483
         ],
         "lon": [
          119.57504
         ],
         "marker": {
          "color": "green",
          "size": 5
         },
         "mode": "markers+text",
         "showlegend": false,
         "text": [
          "Tanyang"
         ],
         "textfont": {
          "size": 6
         },
         "textposition": "top center",
         "type": "scattermap"
        },
        {
         "hoverinfo": "text",
         "hoverlabel": {
          "bgcolor": "white",
          "font": {
           "size": 12
          }
         },
         "hovertext": [
          "name: Hwaian<br>original: Hwaian#Hoai-ngan, today Huai'an, 淮安,<br>@wikidata:Q57818<br><br>wikidata (Q57818)<br>en:Huai'an (prefecture-level city in Jiangsu, China)<br>zh:淮安市 (中国江苏省的地级市)<br>pt:Huai’an (nan) <br>coordinates: (33.505833333333335, 119.13916666666667)"
         ],
         "lat": [
          33.50583333333334
         ],
         "lon": [
          119.1391666666667
         ],
         "marker": {
          "color": "blue",
          "size": 8
         },
         "mode": "markers+text",
         "showlegend": false,
         "text": [
          "Hwaian"
         ],
         "textfont": {
          "size": 6
         },
         "textposition": "top center",
         "type": "scattermap"
        },
        {
         "hoverinfo": "text",
         "hoverlabel": {
          "bgcolor": "white",
          "font": {
           "size": 12
          }
         },
         "hovertext": [
          "name: Soochow<br>original: Soochow#Sou-tcheou, Suchou, today<br>Suzhou, 苏州, @wikidata:Q42622%Soochow<br>(Wuhsien)<br><br>wikidata (Q42622)<br>en:Suzhou (prefecture-level city in Jiangsu, China, former capital of the kingdom of Wu)<br>zh:苏州市 (中国江苏省下辖的地级市)<br>pt:Suzhou (nan) <br>coordinates: (31.3, 120.61944444444444)"
         ],
         "lat": [
          31.3
         ],
         "lon": [
          120.6194444444444
         ],
         "marker": {
          "color": "blue",
          "size": 8
         },
         "mode": "markers+text",
         "showlegend": false,
         "text": [
          "Soochow"
         ],
         "textfont": {
          "size": 6
         },
         "textposition": "top center",
         "type": "scattermap"
        },
        {
         "hoverinfo": "text",
         "hoverlabel": {
          "bgcolor": "white",
          "font": {
           "size": 12
          }
         },
         "hovertext": [
          "name: Changshu<br>original: Changshu#\"\"\"today Wuxian, 吴县,<br>@wikidata:Q113497198 (no coord.), former<br>city in Jiangsu, coordinates:<br>31°15'52\"N, 120°37'41\"E (Q943850 Wuzhong<br>District)\"\"\"<br><br>wikidata (Q113497198)<br>en:Wuxian City (former city in Jiangsu, China)<br>zh:吳縣市 (已經撤銷的縣級市)<br>pt:nan (nan) <br>coordinates: (31.264444444444443, 120.62805555555555)"
         ],
         "lat": [
          31.264444444444443
         ],
         "lon": [
          120.62805555555555
         ],
         "marker": {
          "color": "green",
          "size": 5
         },
         "mode": "markers+text",
         "showlegend": false,
         "text": [
          "Changshu"
         ],
         "textfont": {
          "size": 6
         },
         "textposition": "top center",
         "type": "scattermap"
        },
        {
         "hoverinfo": "text",
         "hoverlabel": {
          "bgcolor": "white",
          "font": {
           "size": 12
          }
         },
         "hovertext": [
          "name: Kiating<br>original: Kiating#Kia-ting,Chiating, today<br>Jiading, 嘉定, @wikidata:Q662101<br><br>wikidata (Q662101)<br>en:Jiading (district of Shanghai, China, and former separate city)<br>zh:嘉定區 (中國上海市的市轄區)<br>pt:Jiading (distritio de Xangai, China) <br>coordinates: (31.337447222222, 121.23359166667)"
         ],
         "lat": [
          31.337447222222
         ],
         "lon": [
          121.23359166667
         ],
         "marker": {
          "color": "green",
          "size": 5
         },
         "mode": "markers+text",
         "showlegend": false,
         "text": [
          "Kiating"
         ],
         "textfont": {
          "size": 6
         },
         "textposition": "top center",
         "type": "scattermap"
        },
        {
         "hoverinfo": "text",
         "hoverlabel": {
          "bgcolor": "white",
          "font": {
           "size": 12
          }
         },
         "hovertext": [
          "name: Tsungming<br>original: Tsungming#Tch'ong-ming,Chungming, today<br>Chongming, 崇明,<br>@wikidata:Q788812%Tsungming (île)<br><br>wikidata (Q788812)<br>en:Chongming District (District)<br>zh:崇明区 (中國上海市行政區)<br>pt:Chongming (nan) <br>coordinates: (31.62825, 121.39831)"
         ],
         "lat": [
          31.62825
         ],
         "lon": [
          121.39831
         ],
         "marker": {
          "color": "green",
          "size": 5
         },
         "mode": "markers+text",
         "showlegend": false,
         "text": [
          "Tsungming"
         ],
         "textfont": {
          "size": 6
         },
         "textposition": "top center",
         "type": "scattermap"
        },
        {
         "hoverinfo": "text",
         "hoverlabel": {
          "bgcolor": "white",
          "font": {
           "size": 12
          }
         },
         "hovertext": [
          "name: Sungkiang<br>original: Sungkiang#Song-kiang,Sungching, today<br>Songjiang, 松江, @wikidata:Q11104671<br><br>wikidata (Q11104671)<br>en:Songjiang Fu (ancient superior prefecture of China)<br>zh:松江府 (中国历史行政地区)<br>pt:nan (nan) <br>coordinates: (31.009475833333333, 121.1077575)"
         ],
         "lat": [
          31.00947583333333
         ],
         "lon": [
          121.1077575
         ],
         "marker": {
          "color": "blue",
          "size": 8
         },
         "mode": "markers+text",
         "showlegend": false,
         "text": [
          "Sungkiang"
         ],
         "textfont": {
          "size": 6
         },
         "textposition": "top center",
         "type": "scattermap"
        },
        {
         "hoverinfo": "text",
         "hoverlabel": {
          "bgcolor": "white",
          "font": {
           "size": 12
          }
         },
         "hovertext": [
          "name: Mo ka pang<br>original: Mo ka pang#\"\"\"Ma kia pim, today<br>Majiabang, 马家浜, in the Chinese<br>translation it is recognized as “穆喀榜”,<br>which is wrong. Dehergne(1957, p60) said<br>it is \"马家滨\" at \"sud de Sung-kiang\". In<br>the present day it might be \"马家浜\" to the<br>south Songjiang, coordinates:<br>30.845691234919308N,<br>121.3179093082612E\"\"\"<br><br>wikidata (No wikidata)<br>No wikidata <br>coordinates: (30.845691234919308, 121.3179093082612)"
         ],
         "lat": [
          30.845691234919308
         ],
         "lon": [
          121.3179093082612
         ],
         "marker": {
          "color": "green",
          "size": 5
         },
         "mode": "markers+text",
         "showlegend": false,
         "text": [
          "Mo ka pang"
         ],
         "textfont": {
          "size": 6
         },
         "textposition": "top center",
         "type": "scattermap"
        },
        {
         "hoverinfo": "text",
         "hoverlabel": {
          "bgcolor": "white",
          "font": {
           "size": 12
          }
         },
         "hovertext": [
          "name: Chwansha<br>original: Chwansha#Tch'oan-cha, today Chuansha,<br>川沙, @wikidata:Q11055382<br><br>wikidata (Q11055382)<br>en:Chuansha County (former county of Shanghai, China)<br>zh:川沙县 (nan)<br>pt:nan (nan) <br>coordinates: (31.194444444444446, 121.6913888888889)"
         ],
         "lat": [
          31.19444444444445
         ],
         "lon": [
          121.6913888888889
         ],
         "marker": {
          "color": "green",
          "size": 5
         },
         "mode": "markers+text",
         "showlegend": false,
         "text": [
          "Chwansha"
         ],
         "textfont": {
          "size": 6
         },
         "textposition": "top center",
         "type": "scattermap"
        },
        {
         "hoverinfo": "text",
         "hoverlabel": {
          "bgcolor": "white",
          "font": {
           "size": 12
          }
         },
         "hovertext": [
          "name: Fenghsien<br>original: Fenghsien#Fong-hien,Fenghsien, today<br>Fengxian, 奉贤,<br>@wikidata:Q662694%Fenghsien (Vongtsié)<br><br>wikidata (Q662694)<br>en:Fengxian District (district of Shanghai, China)<br>zh:奉贤区 (中国上海市的市辖区)<br>pt:nan (nan) <br>coordinates: (30.92004, 121.46969)"
         ],
         "lat": [
          30.92004
         ],
         "lon": [
          121.46969
         ],
         "marker": {
          "color": "green",
          "size": 5
         },
         "mode": "markers+text",
         "showlegend": false,
         "text": [
          "Fenghsien"
         ],
         "textfont": {
          "size": 6
         },
         "textposition": "top center",
         "type": "scattermap"
        },
        {
         "hoverinfo": "text",
         "hoverlabel": {
          "bgcolor": "white",
          "font": {
           "size": 12
          }
         },
         "hovertext": [
          "name: Kinshan<br>original: Kinshan#Kin-chan,Chinshan, today<br>Jinshan, 金山, @wikidata:Q662241<br><br>wikidata (Q662241)<br>en:Jinshan District (district of Shanghai, China)<br>zh:金山区 (中国上海市的市辖区)<br>pt:nan (nan) <br>coordinates: (30.74392, 121.33727)"
         ],
         "lat": [
          30.74392
         ],
         "lon": [
          121.33727
         ],
         "marker": {
          "color": "green",
          "size": 5
         },
         "mode": "markers+text",
         "showlegend": false,
         "text": [
          "Kinshan"
         ],
         "textfont": {
          "size": 6
         },
         "textposition": "top center",
         "type": "scattermap"
        },
        {
         "hoverinfo": "text",
         "hoverlabel": {
          "bgcolor": "white",
          "font": {
           "size": 12
          }
         },
         "hovertext": [
          "name: Chuking<br>original: Chuking#Tchou-king,Chuching, today<br>Zhujing, 朱泾, @wikidata:Q11094342, in the<br>Chinese traslation it is written as<br>“诸泾”, which should be “朱泾”<br><br>wikidata (Q11094342)<br>en:Zhujing Town (nan)<br>zh:朱泾镇 (nan)<br>pt:nan (nan) <br>coordinates: (30.90227, 121.15878)"
         ],
         "lat": [
          30.90227
         ],
         "lon": [
          121.15878
         ],
         "marker": {
          "color": "green",
          "size": 5
         },
         "mode": "markers+text",
         "showlegend": false,
         "text": [
          "Chuking"
         ],
         "textfont": {
          "size": 6
         },
         "textposition": "top center",
         "type": "scattermap"
        },
        {
         "hoverinfo": "text",
         "hoverlabel": {
          "bgcolor": "white",
          "font": {
           "size": 12
          }
         },
         "hovertext": [
          "name: Shanghai<br>original: Shanghai#Chang-hai, today Shanghai, 上海,<br>@wikidata:Q8686<br><br>wikidata (Q8686)<br>en:Shanghai (provincial-level municipality in China)<br>zh:上海市 (中华人民共和国直辖市)<br>pt:Xangai (município de nível provincial na China, a maior cidade da República Popular da China) <br>coordinates: (31.232222222222223, 121.46916666666667)"
         ],
         "lat": [
          31.23222222222222
         ],
         "lon": [
          121.4691666666667
         ],
         "marker": {
          "color": "green",
          "size": 5
         },
         "mode": "markers+text",
         "showlegend": false,
         "text": [
          "Shanghai"
         ],
         "textfont": {
          "size": 6
         },
         "textposition": "top center",
         "type": "scattermap"
        },
        {
         "hoverinfo": "text",
         "hoverlabel": {
          "bgcolor": "white",
          "font": {
           "size": 12
          }
         },
         "hovertext": [
          "name: Tsingpu<br>original: Tsingpu#Ts'ing-p'ou,Chingpu, today<br>Qingpu, 青浦, @wikidata:Q46536920<br><br>wikidata (Q46536920)<br>en:Qingpu Xian (ancient county-level place of China)<br>zh:青浦县 (中国历史地名)<br>pt:nan (nan) <br>coordinates: (31.144771666666667, 121.1077575)"
         ],
         "lat": [
          31.14477166666667
         ],
         "lon": [
          121.1077575
         ],
         "marker": {
          "color": "green",
          "size": 5
         },
         "mode": "markers+text",
         "showlegend": false,
         "text": [
          "Tsingpu"
         ],
         "textfont": {
          "size": 6
         },
         "textposition": "top center",
         "type": "scattermap"
        },
        {
         "hoverinfo": "text",
         "hoverlabel": {
          "bgcolor": "white",
          "font": {
           "size": 12
          }
         },
         "hovertext": [
          "name: Tsipao<br>original: Tsipao#Tsi-pao,Chipao, today Qibao, 七宝,<br>@wikidata:Q1875153<br><br>wikidata (Q1875153)<br>en:Qibao (town in Shanghai, People's Republic of China)<br>zh:七宝镇 (上海闵行区的古镇)<br>pt:nan (nan) <br>coordinates: (31.15958, 121.34666)"
         ],
         "lat": [
          31.15958
         ],
         "lon": [
          121.34666
         ],
         "marker": {
          "color": "green",
          "size": 5
         },
         "mode": "markers+text",
         "showlegend": false,
         "text": [
          "Tsipao"
         ],
         "textfont": {
          "size": 6
         },
         "textposition": "top center",
         "type": "scattermap"
        },
        {
         "hoverinfo": "text",
         "hoverlabel": {
          "bgcolor": "white",
          "font": {
           "size": 12
          }
         },
         "hovertext": [
          "name: Yangchow<br>original: Yangchow#Yang-tcheou, today Yangzhou,<br>扬州, @wikidata:Q57906<br><br>wikidata (Q57906)<br>en:Yangzhou (prefecture-level city in Jiangsu, People's Republic of China)<br>zh:扬州市 (中国江苏省的地级市)<br>pt:Yangzhou (cidade histórica na província de Jiangsu) <br>coordinates: (32.39117, 119.43625)"
         ],
         "lat": [
          32.39117
         ],
         "lon": [
          119.43625
         ],
         "marker": {
          "color": "blue",
          "size": 8
         },
         "mode": "markers+text",
         "showlegend": false,
         "text": [
          "Yangchow"
         ],
         "textfont": {
          "size": 6
         },
         "textposition": "top center",
         "type": "scattermap"
        },
        {
         "hoverinfo": "text",
         "hoverlabel": {
          "bgcolor": "white",
          "font": {
           "size": 12
          }
         },
         "hovertext": [
          "name: Kaoyu<br>original: Kaoyu#Kao-yeou, today Gaoyou, 高邮,<br>@wikidata:Q1253949<br><br>wikidata (Q1253949)<br>en:Gaoyou (county-level city)<br>zh:高邮市 (中国江苏省扬州市的县级市)<br>pt:nan (nan) <br>coordinates: (32.78469, 119.44324)"
         ],
         "lat": [
          32.78469
         ],
         "lon": [
          119.44324
         ],
         "marker": {
          "color": "green",
          "size": 5
         },
         "mode": "markers+text",
         "showlegend": false,
         "text": [
          "Kaoyu"
         ],
         "textfont": {
          "size": 6
         },
         "textposition": "top center",
         "type": "scattermap"
        },
        {
         "hoverinfo": "text",
         "hoverlabel": {
          "bgcolor": "white",
          "font": {
           "size": 12
          }
         },
         "hovertext": [
          "name: Paoshan<br>original: Paoshan#Pao-chan, today Baoshan, 宝山,<br>@wikidata:Q661828<br><br>wikidata (Q661828)<br>en:Baoshan District (district of Shanghai, China)<br>zh:宝山区 (中国上海市的市辖区)<br>pt:nan (nan) <br>coordinates: (31.4, 121.4)"
         ],
         "lat": [
          31.4
         ],
         "lon": [
          121.4
         ],
         "marker": {
          "color": "green",
          "size": 5
         },
         "mode": "markers+text",
         "showlegend": false,
         "text": [
          "Paoshan"
         ],
         "textfont": {
          "size": 6
         },
         "textposition": "top center",
         "type": "scattermap"
        },
        {
         "hoverinfo": "text",
         "hoverlabel": {
          "bgcolor": "white",
          "font": {
           "size": 12
          }
         },
         "hovertext": [
          "name: Fushan<br>original: Fushan#today Fushan, 福山村, coordinates:<br>31.800210981845982N, 120.7617947082488E<br><br>wikidata (No wikidata)<br>No wikidata <br>coordinates: (31.800210981845982, 120.7617947082488)"
         ],
         "lat": [
          31.800210981845982
         ],
         "lon": [
          120.7617947082488
         ],
         "marker": {
          "color": "green",
          "size": 5
         },
         "mode": "markers+text",
         "showlegend": false,
         "text": [
          "Fushan"
         ],
         "textfont": {
          "size": 6
         },
         "textposition": "top center",
         "type": "scattermap"
        },
        {
         "hoverinfo": "text",
         "hoverlabel": {
          "bgcolor": "white",
          "font": {
           "size": 12
          }
         },
         "hovertext": [
          "name: Kiangsi<br>original: Kiangsi#Jiangxi, Kiang-si, today<br>Jiangxi, 江西, @wikidata:Q57052<br><br>wikidata (Q57052)<br>en:Jiangxi (province of central China, located around the Gan River south of the Yangtze)<br>zh:江西省 (中华人民共和国省份)<br>pt:Jiangxi (província da China) <br>coordinates: (27.3, 116)"
         ],
         "lat": [
          27.3
         ],
         "lon": [
          116
         ],
         "marker": {
          "color": "red",
          "size": 12
         },
         "mode": "markers+text",
         "showlegend": false,
         "text": [
          "Kiangsi"
         ],
         "textfont": {
          "size": 6
         },
         "textposition": "top center",
         "type": "scattermap"
        },
        {
         "hoverinfo": "text",
         "hoverlabel": {
          "bgcolor": "white",
          "font": {
           "size": 12
          }
         },
         "hovertext": [
          "name: Nanchang<br>original: Nanchang#Nan-tch'ang, today Nanchang,<br>南昌, @wikidata:Q171943<br><br>wikidata (Q171943)<br>en:Nanchang (capital of Jiangxi province, China)<br>zh:南昌市 (中國江西省省會，地級市)<br>pt:Nanchang (nan) <br>coordinates: (28.684167, 115.887222)"
         ],
         "lat": [
          28.684167
         ],
         "lon": [
          115.887222
         ],
         "marker": {
          "color": "blue",
          "size": 8
         },
         "mode": "markers+text",
         "showlegend": false,
         "text": [
          "Nanchang"
         ],
         "textfont": {
          "size": 6
         },
         "textposition": "top center",
         "type": "scattermap"
        },
        {
         "hoverinfo": "text",
         "hoverlabel": {
          "bgcolor": "white",
          "font": {
           "size": 12
          }
         },
         "hovertext": [
          "name: Kienchang<br>original: Kienchang#Kien-tch'ang,Chienchang, today<br>Jianchang, 建昌, @wikidata:Q11065388<br><br>wikidata (Q11065388)<br>en:Jianchang Town (nan)<br>zh:建昌镇 (中国江西省抚州市南城县下辖镇)<br>pt:nan (nan) <br>coordinates: (27.55672, 116.64023)"
         ],
         "lat": [
          27.55672
         ],
         "lon": [
          116.64023
         ],
         "marker": {
          "color": "blue",
          "size": 8
         },
         "mode": "markers+text",
         "showlegend": false,
         "text": [
          "Kienchang"
         ],
         "textfont": {
          "size": 6
         },
         "textposition": "top center",
         "type": "scattermap"
        },
        {
         "hoverinfo": "text",
         "hoverlabel": {
          "bgcolor": "white",
          "font": {
           "size": 12
          }
         },
         "hovertext": [
          "name: Nanan<br>original: Nanan#Nan-ngan, today Nan'an, 南安,<br>@wikidata:Q28794376<br><br>wikidata (Q28794376)<br>en:Nan'an Town, Dayu (nan)<br>zh:南安镇 (大余县) (nan)<br>pt:nan (nan) <br>coordinates: (25.3982, 114.36451)"
         ],
         "lat": [
          25.3982
         ],
         "lon": [
          114.36451
         ],
         "marker": {
          "color": "blue",
          "size": 8
         },
         "mode": "markers+text",
         "showlegend": false,
         "text": [
          "Nanan"
         ],
         "textfont": {
          "size": 6
         },
         "textposition": "top center",
         "type": "scattermap"
        },
        {
         "hoverinfo": "text",
         "hoverlabel": {
          "bgcolor": "white",
          "font": {
           "size": 12
          }
         },
         "hovertext": [
          "name: Nancheng<br>original: Nancheng#Nan-tch'eng, today Nancheng,<br>南城, @wikidata:Q521512<br><br>wikidata (Q521512)<br>en:Nancheng County (county)<br>zh:南城县 (中华人民共和国境内的一个县份)<br>pt:nan (nan) <br>coordinates: (27.516666666667, 116.7)"
         ],
         "lat": [
          27.516666666667
         ],
         "lon": [
          116.7
         ],
         "marker": {
          "color": "green",
          "size": 5
         },
         "mode": "markers+text",
         "showlegend": false,
         "text": [
          "Nancheng"
         ],
         "textfont": {
          "size": 6
         },
         "textposition": "top center",
         "type": "scattermap"
        },
        {
         "hoverinfo": "text",
         "hoverlabel": {
          "bgcolor": "white",
          "font": {
           "size": 12
          }
         },
         "hovertext": [
          "name: Nanfeng<br>original: Nanfeng#Nan-fong, today Nanfeng, 南丰,<br>@wikidata:Q1356725<br><br>wikidata (Q1356725)<br>en:Nanfeng County (county)<br>zh:南丰县 (中国江西省抚州市下辖县)<br>pt:nan (nan) <br>coordinates: (27.2086, 116.531)"
         ],
         "lat": [
          27.2086
         ],
         "lon": [
          116.531
         ],
         "marker": {
          "color": "green",
          "size": 5
         },
         "mode": "markers+text",
         "showlegend": false,
         "text": [
          "Nanfeng"
         ],
         "textfont": {
          "size": 6
         },
         "textposition": "top center",
         "type": "scattermap"
        },
        {
         "hoverinfo": "text",
         "hoverlabel": {
          "bgcolor": "white",
          "font": {
           "size": 12
          }
         },
         "hovertext": [
          "name: Kwangsi<br>original: Kwangsi#Guangxi, Koang-si, today<br>Guangxi, 广西, @wikidata:Q15176<br><br>wikidata (Q15176)<br>en:Guangxi (Provincial area of China organized in 1958 as an autonomous region for the Zhuang people)<br>zh:广西壮族自治区 (位于中国南方沿海的壮族自治区)<br>pt:Guangxi (região autônoma da China) <br>coordinates: (23.6, 108.3)"
         ],
         "lat": [
          23.6
         ],
         "lon": [
          108.3
         ],
         "marker": {
          "color": "red",
          "size": 12
         },
         "mode": "markers+text",
         "showlegend": false,
         "text": [
          "Kwangsi"
         ],
         "textfont": {
          "size": 6
         },
         "textposition": "top center",
         "type": "scattermap"
        },
        {
         "hoverinfo": "text",
         "hoverlabel": {
          "bgcolor": "white",
          "font": {
           "size": 12
          }
         },
         "hovertext": [
          "name: Kweilin<br>original: Kweilin#Koei-lin, today Guilin, 桂林,<br>@wikidata:Q189633<br><br>wikidata (Q189633)<br>en:Guilin (prefecture-level city in Guangxi, China)<br>zh:桂林市 (中华人民共和国广西壮族自治区下辖地级市)<br>pt:Guilin (nan) <br>coordinates: (25.266666666667, 110.28333333333)"
         ],
         "lat": [
          25.266666666667
         ],
         "lon": [
          110.28333333333
         ],
         "marker": {
          "color": "blue",
          "size": 8
         },
         "mode": "markers+text",
         "showlegend": false,
         "text": [
          "Kweilin"
         ],
         "textfont": {
          "size": 6
         },
         "textposition": "top center",
         "type": "scattermap"
        },
        {
         "hoverinfo": "text",
         "hoverlabel": {
          "bgcolor": "white",
          "font": {
           "size": 12
          }
         },
         "hovertext": [
          "name: Wuchow<br>original: Wuchow#Ou-tcheou, today Wuzhou, 梧州,<br>@wikidata:Q571652<br><br>wikidata (Q571652)<br>en:Wuzhou (prefecture-level city in Guangxi, China)<br>zh:梧州市 (中国广西壮族自治区的地级市)<br>pt:Wuzhou (nan) <br>coordinates: (23.483333, 111.316667)"
         ],
         "lat": [
          23.483333
         ],
         "lon": [
          111.316667
         ],
         "marker": {
          "color": "blue",
          "size": 8
         },
         "mode": "markers+text",
         "showlegend": false,
         "text": [
          "Wuchow"
         ],
         "textfont": {
          "size": 6
         },
         "textposition": "top center",
         "type": "scattermap"
        },
        {
         "hoverinfo": "text",
         "hoverlabel": {
          "bgcolor": "white",
          "font": {
           "size": 12
          }
         },
         "hovertext": [
          "name: Kwangtung<br>original: Kwangtung#Guangdong, today Guangdong,<br>广东, @wikidata:Q15175<br><br>wikidata (Q15175)<br>en:Guangdong (province of China)<br>zh:广东省 (中华人民共和国省份)<br>pt:Cantão (província da China) <br>coordinates: (23.4, 113.5)"
         ],
         "lat": [
          23.4
         ],
         "lon": [
          113.5
         ],
         "marker": {
          "color": "red",
          "size": 12
         },
         "mode": "markers+text",
         "showlegend": false,
         "text": [
          "Kwangtung"
         ],
         "textfont": {
          "size": 6
         },
         "textposition": "top center",
         "type": "scattermap"
        },
        {
         "hoverinfo": "text",
         "hoverlabel": {
          "bgcolor": "white",
          "font": {
           "size": 12
          }
         },
         "hovertext": [
          "name: Macau<br>original: Macau#Macau, today Macao, 澳门,<br>@wikidata:Q14773<br><br>wikidata (Q14773)<br>en:Macau (special administrative region of China)<br>zh:澳門 (中華人民共和國澳門特別行政區)<br>pt:Macau (região administrativa especial da China) <br>coordinates: (22.19, 113.53805555555556)"
         ],
         "lat": [
          22.19
         ],
         "lon": [
          113.5380555555556
         ],
         "marker": {
          "color": "blue",
          "size": 8
         },
         "mode": "markers+text",
         "showlegend": false,
         "text": [
          "Macau"
         ],
         "textfont": {
          "size": 6
         },
         "textposition": "top center",
         "type": "scattermap"
        },
        {
         "hoverinfo": "text",
         "hoverlabel": {
          "bgcolor": "white",
          "font": {
           "size": 12
          }
         },
         "hovertext": [
          "name: Tsingchow<br>original: Tsingchow#Tsingchow,Ts'ing-tcheou, today<br>Ilha Verde, 青州, @wikidata:Q3319473%Ilha<br>Verde (Tsingchow)<br><br>wikidata (Q3319473)<br>en:Ilha Verde (island in Macau)<br>zh:青洲 (澳門地名)<br>pt:Ilha Verde (ilha em Macau, China) <br>coordinates: (22.21138889, 113.5375)"
         ],
         "lat": [
          22.21138889
         ],
         "lon": [
          113.5375
         ],
         "marker": {
          "color": "green",
          "size": 5
         },
         "mode": "markers+text",
         "showlegend": false,
         "text": [
          "Tsingchow"
         ],
         "textfont": {
          "size": 6
         },
         "textposition": "top center",
         "type": "scattermap"
        },
        {
         "hoverinfo": "text",
         "hoverlabel": {
          "bgcolor": "white",
          "font": {
           "size": 12
          }
         },
         "hovertext": [
          "name: Wantchai<br>original: Wantchai#Lapa,Wantchai, today Wanzai,<br>湾仔, @wikidata:Q14342082%Lappa (Wantchai)<br><br>wikidata (Q14342082)<br>en:Wanzai Subdistrict (subdistrict of Guangdong Province, China)<br>zh:湾仔街道 (nan)<br>pt:nan (nan) <br>coordinates: (22.19503, 113.52729)"
         ],
         "lat": [
          22.19503
         ],
         "lon": [
          113.52729
         ],
         "marker": {
          "color": "green",
          "size": 5
         },
         "mode": "markers+text",
         "showlegend": false,
         "text": [
          "Wantchai"
         ],
         "textfont": {
          "size": 6
         },
         "textposition": "top center",
         "type": "scattermap"
        },
        {
         "hoverinfo": "text",
         "hoverlabel": {
          "bgcolor": "white",
          "font": {
           "size": 12
          }
         },
         "hovertext": [
          "name: Cantão<br>original: Cantão#Koang-tcheou, today Guangzhou,<br>广州, @wikidata:Q16572<br><br>wikidata (Q16572)<br>en:Guangzhou (capital city of Guangdong Province, China)<br>zh:广州市 (广东省的省会)<br>pt:Cantão (capital da província chinesa de Cantão) <br>coordinates: (23.13, 113.26)"
         ],
         "lat": [
          23.13
         ],
         "lon": [
          113.26
         ],
         "marker": {
          "color": "blue",
          "size": 8
         },
         "mode": "markers+text",
         "showlegend": false,
         "text": [
          "Cantão"
         ],
         "textfont": {
          "size": 6
         },
         "textposition": "top center",
         "type": "scattermap"
        },
        {
         "hoverinfo": "text",
         "hoverlabel": {
          "bgcolor": "white",
          "font": {
           "size": 12
          }
         },
         "hovertext": [
          "name: Tungkun<br>original: Tungkun#Tong-koan,Tungkuan, today<br>Dongguan, 东莞, @wikidata:Q59218<br><br>wikidata (Q59218)<br>en:Dongguan (prefecture-level city in Guangdong, China)<br>zh:东莞市 (中国广东省的地级市)<br>pt:Dongguan (nan) <br>coordinates: (23.04749, 113.74928)"
         ],
         "lat": [
          23.04749
         ],
         "lon": [
          113.74928
         ],
         "marker": {
          "color": "green",
          "size": 5
         },
         "mode": "markers+text",
         "showlegend": false,
         "text": [
          "Tungkun"
         ],
         "textfont": {
          "size": 6
         },
         "textposition": "top center",
         "type": "scattermap"
        },
        {
         "hoverinfo": "text",
         "hoverlabel": {
          "bgcolor": "white",
          "font": {
           "size": 12
          }
         },
         "hovertext": [
          "name: Quon yao<br>original: Quon yao#\"\"\"today Guanyao, 官窑, In the<br>Chinses translation it is recognized as<br>“高要村”，which is wrong. in Dehergne(1957),<br>it is noted as \"官窑\", coordinates:<br>23.314954073028765N,<br>113.22132587290358E\"\"\"<br><br>wikidata (No wikidata)<br>No wikidata <br>coordinates: (23.314954073028765, 113.22132587290358)"
         ],
         "lat": [
          23.314954073028765
         ],
         "lon": [
          113.22132587290358
         ],
         "marker": {
          "color": "green",
          "size": 5
         },
         "mode": "markers+text",
         "showlegend": false,
         "text": [
          "Quon yao"
         ],
         "textfont": {
          "size": 6
         },
         "textposition": "top center",
         "type": "scattermap"
        },
        {
         "hoverinfo": "text",
         "hoverlabel": {
          "bgcolor": "white",
          "font": {
           "size": 12
          }
         },
         "hovertext": [
          "name: Lampacao<br>original: Lampacao#Lampacau,Lampacão, today 浪白滘,<br>浪白澳, @wikidata:Q6482357<br><br>wikidata (Q6482357)<br>en:Lampacau (nan)<br>zh:nan (nan)<br>pt:Lampacau (nan) <br>coordinates: (22.077, 113.44)"
         ],
         "lat": [
          22.077
         ],
         "lon": [
          113.44
         ],
         "marker": {
          "color": "green",
          "size": 5
         },
         "mode": "markers+text",
         "showlegend": false,
         "text": [
          "Lampacao"
         ],
         "textfont": {
          "size": 6
         },
         "textposition": "top center",
         "type": "scattermap"
        },
        {
         "hoverinfo": "text",
         "hoverlabel": {
          "bgcolor": "white",
          "font": {
           "size": 12
          }
         },
         "hovertext": [
          "name: Kiungchow<br>original: Kiungchow#K'iong-tcheou,Chiungchou,<br>today Qiongzhou, 琼州,<br>@wikidata:Q1081204%Kiungchow (île de<br>Hainan)<br><br>wikidata (Q1081204)<br>en:Hainan Island (island in China which makes up the majority of the province of the same name)<br>zh:海南島 (南中國海的島嶼)<br>pt:ilha de Hainan (ilha da China) <br>coordinates: (19.25, 109.6666667)"
         ],
         "lat": [
          19.25
         ],
         "lon": [
          109.6666667
         ],
         "marker": {
          "color": "blue",
          "size": 8
         },
         "mode": "markers+text",
         "showlegend": false,
         "text": [
          "Kiungchow"
         ],
         "textfont": {
          "size": 6
         },
         "textposition": "top center",
         "type": "scattermap"
        },
        {
         "hoverinfo": "text",
         "hoverlabel": {
          "bgcolor": "white",
          "font": {
           "size": 12
          }
         },
         "hovertext": [
          "name: Tingan<br>original: Tingan#Ting-ngan, today Ding'an, 定安,<br>@wikidata:Q1022249<br><br>wikidata (Q1022249)<br>en:Ding'an County (county in Hainan, China)<br>zh:定安县 (海南省的一个直辖县)<br>pt:nan (nan) <br>coordinates: (19.701847222222, 110.32945555556)"
         ],
         "lat": [
          19.701847222222
         ],
         "lon": [
          110.32945555556
         ],
         "marker": {
          "color": "green",
          "size": 5
         },
         "mode": "markers+text",
         "showlegend": false,
         "text": [
          "Tingan"
         ],
         "textfont": {
          "size": 6
         },
         "textposition": "top center",
         "type": "scattermap"
        },
        {
         "hoverinfo": "text",
         "hoverlabel": {
          "bgcolor": "white",
          "font": {
           "size": 12
          }
         },
         "hovertext": [
          "name: Bankao<br>original: Bankao#\"\"\"today Xiangou, 仙沟, In the<br>Chinese translation it is recognized as<br>\"板桥\", but in Dehergne (1957), it is<br>noted as \"仙沟\". coordinates:<br>19.678430033709233N,<br>110.3760945797476E\"\"\"<br><br>wikidata (No wikidata)<br>No wikidata <br>coordinates: (19.678430033709233, 110.3760945797476)"
         ],
         "lat": [
          19.678430033709233
         ],
         "lon": [
          110.3760945797476
         ],
         "marker": {
          "color": "green",
          "size": 5
         },
         "mode": "markers+text",
         "showlegend": false,
         "text": [
          "Bankao"
         ],
         "textfont": {
          "size": 6
         },
         "textposition": "top center",
         "type": "scattermap"
        },
        {
         "hoverinfo": "text",
         "hoverlabel": {
          "bgcolor": "white",
          "font": {
           "size": 12
          }
         },
         "hovertext": [
          "name: Lungmo<br>original: Lungmo#\"\"\"Lummo, today Longmen, 龙门,<br>@wikidata:Q11181853, in the Chinese<br>translation it is written as “龙末”, but<br>but in Dehergne (1957), it is noted as<br>\"龙门\"\"\"\"<br><br>wikidata (Q11181853)<br>en:Longmen Town (nan)<br>zh:龙门镇 (nan)<br>pt:nan (nan) <br>coordinates: (19.44404, 110.32549)"
         ],
         "lat": [
          19.44404
         ],
         "lon": [
          110.32549
         ],
         "marker": {
          "color": "green",
          "size": 5
         },
         "mode": "markers+text",
         "showlegend": false,
         "text": [
          "Lungmo"
         ],
         "textfont": {
          "size": 6
         },
         "textposition": "top center",
         "type": "scattermap"
        },
        {
         "hoverinfo": "text",
         "hoverlabel": {
          "bgcolor": "white",
          "font": {
           "size": 12
          }
         },
         "hovertext": [
          "name: Luichow<br>original: Luichow#Lei-tcheou, today Leizhou, 雷州,<br>@wikidata:Q1209167<br><br>wikidata (Q1209167)<br>en:Leizhou (county-level city in Guangdong, China)<br>zh:雷州市 (中国广东省湛江市代管县级市)<br>pt:nan (nan) <br>coordinates: (20.91471, 110.08058)"
         ],
         "lat": [
          20.91471
         ],
         "lon": [
          110.08058
         ],
         "marker": {
          "color": "blue",
          "size": 8
         },
         "mode": "markers+text",
         "showlegend": false,
         "text": [
          "Luichow"
         ],
         "textfont": {
          "size": 6
         },
         "textposition": "top center",
         "type": "scattermap"
        },
        {
         "hoverinfo": "text",
         "hoverlabel": {
          "bgcolor": "white",
          "font": {
           "size": 12
          }
         },
         "hovertext": [
          "name: Namyung<br>original: Namyung#Nan-hiong, today Nanxiong, 南雄,<br>@wikidata:Q934465%Namyung (alors fou)<br><br>wikidata (Q934465)<br>en:Nanxiong (subprefecture-level city in Guangdong, China)<br>zh:南雄市 (中國廣東省縣級市)<br>pt:Nanxiong (nan) <br>coordinates: (25.11867, 114.30929)"
         ],
         "lat": [
          25.11867
         ],
         "lon": [
          114.30929
         ],
         "marker": {
          "color": "blue",
          "size": 8
         },
         "mode": "markers+text",
         "showlegend": false,
         "text": [
          "Namyung"
         ],
         "textfont": {
          "size": 6
         },
         "textposition": "top center",
         "type": "scattermap"
        },
        {
         "hoverinfo": "text",
         "hoverlabel": {
          "bgcolor": "white",
          "font": {
           "size": 12
          }
         },
         "hovertext": [
          "name: Schiuchow<br>original: Schiuchow#Chao-tcheou, today Shaozhou,<br>韶州, @wikidata:Q1346617, historical<br>administrative division. The Wikidata<br>code is of its administrative center<br>Qujiang 曲江, which is in the present-day<br>City of Shaoguan 韶关.%Shiuchow (Chao-<br>tcheou)<br><br>wikidata (Q1346617)<br>en:Qujiang District (district in Guangdong, People's Republic of China)<br>zh:曲江区 (韶关市的一个市辖区)<br>pt:nan (nan) <br>coordinates: (24.6828, 113.60027)"
         ],
         "lat": [
          24.6828
         ],
         "lon": [
          113.60027
         ],
         "marker": {
          "color": "blue",
          "size": 8
         },
         "mode": "markers+text",
         "showlegend": false,
         "text": [
          "Schiuchow"
         ],
         "textfont": {
          "size": 6
         },
         "textposition": "top center",
         "type": "scattermap"
        },
        {
         "hoverinfo": "text",
         "hoverlabel": {
          "bgcolor": "white",
          "font": {
           "size": 12
          }
         },
         "hovertext": [
          "name: Makia<br>original: Makia#\"\"\"Machia, today Majia, 马家,<br>Dehergne(1957) said Makia\"马家\" is \"à 15<br>kilomètres au sud de la ville\" (de<br>Shiuchow), which should be to the south<br>of Shiuchow, but I only found one \"马家\"<br>in that area, but it is to the west of<br>the city (coordinates:<br>24.75569541392557, 113.15960996554436),<br>which might not be the right place.\"\"\"<br><br>wikidata (No wikidata)<br>No wikidata <br>coordinates: (24.75569541392557, 113.15960996554436)"
         ],
         "lat": [
          24.75569541392557
         ],
         "lon": [
          113.15960996554436
         ],
         "marker": {
          "color": "green",
          "size": 5
         },
         "mode": "markers+text",
         "showlegend": false,
         "text": [
          "Makia"
         ],
         "textfont": {
          "size": 6
         },
         "textposition": "top center",
         "type": "scattermap"
        },
        {
         "hoverinfo": "text",
         "hoverlabel": {
          "bgcolor": "white",
          "font": {
           "size": 12
          }
         },
         "hovertext": [
          "name: Tsintsun<br>original: Tsintsun#\"\"\"Cinçun, today Jingcun, 靖村,<br>coordinates:24.840448198893206N,<br>113.54394322209676E. In the original<br>book (Dehergne, 1973), it is written as<br>\"Tsintsun\" (without g), which is wrongly<br>spelled. In Dehergne(1973), it is<br>written as Tsingtsun, with the Chinese<br>name 靖村 noted. It is \"à une heure et<br>demie de marche au nord-ouest de<br>Siuchow.\" In the Chinese traslation, it<br>is recognized as \"青村\", which is<br>wrong.\"\"\"<br><br>wikidata (No wikidata)<br>No wikidata <br>coordinates: (24.840448198893206, 113.54394322209676)"
         ],
         "lat": [
          24.840448198893206
         ],
         "lon": [
          113.54394322209676
         ],
         "marker": {
          "color": "green",
          "size": 5
         },
         "mode": "markers+text",
         "showlegend": false,
         "text": [
          "Tsintsun"
         ],
         "textfont": {
          "size": 6
         },
         "textposition": "top center",
         "type": "scattermap"
        },
        {
         "hoverinfo": "text",
         "hoverlabel": {
          "bgcolor": "white",
          "font": {
           "size": 12
          }
         },
         "hovertext": [
          "name: Hwangtsun<br>original: Hwangtsun#\"\"\"Vançun, today Huangcun, 黄村,<br>coordinates: 24.900778941203768N,<br>113.60398607001083E Dehergne(1957): \"à<br>une heure de chemin au nord de<br>Shiuchow\".\"\"\"<br><br>wikidata (No wikidata)<br>No wikidata <br>coordinates: (24.900778941203768, 113.60398607001083)"
         ],
         "lat": [
          24.900778941203768
         ],
         "lon": [
          113.60398607001083
         ],
         "marker": {
          "color": "green",
          "size": 5
         },
         "mode": "markers+text",
         "showlegend": false,
         "text": [
          "Hwangtsun"
         ],
         "textfont": {
          "size": 6
         },
         "textposition": "top center",
         "type": "scattermap"
        },
        {
         "hoverinfo": "text",
         "hoverlabel": {
          "bgcolor": "white",
          "font": {
           "size": 12
          }
         },
         "hovertext": [
          "name: Motikang<br>original: Motikang#Mochi, today Madigang, 麻地岗, In<br>the Chinese translation, it is<br>recognized as “末岗”, but in<br>Dehergne(1957), it is noted as “麻地岗”.,<br>coordinates: 24.68899887552694N,<br>113.57599418283718E<br><br>wikidata (No wikidata)<br>No wikidata <br>coordinates: (24.68899887552694, 113.57599418283718)"
         ],
         "lat": [
          24.68899887552694
         ],
         "lon": [
          113.57599418283718
         ],
         "marker": {
          "color": "green",
          "size": 5
         },
         "mode": "markers+text",
         "showlegend": false,
         "text": [
          "Motikang"
         ],
         "textfont": {
          "size": 6
         },
         "textposition": "top center",
         "type": "scattermap"
        },
        {
         "hoverinfo": "text",
         "hoverlabel": {
          "bgcolor": "white",
          "font": {
           "size": 12
          }
         },
         "hovertext": [
          "name: Shiuhing<br>original: Shiuhing#Tchao-k'ing, Chaoching, today<br>Zhaoqing, 肇庆, @wikidata:Q59164%Shiuhing<br>(Tchao-k'ing, actuel Hoyiu)<br><br>wikidata (Q59164)<br>en:Zhaoqing (prefecture-level city in Guangdong, China)<br>zh:肇庆市 (中国广东省的地级市)<br>pt:Zhaoqing (nan) <br>coordinates: (23.05, 112.46666666666667)"
         ],
         "lat": [
          23.05
         ],
         "lon": [
          112.4666666666667
         ],
         "marker": {
          "color": "blue",
          "size": 8
         },
         "mode": "markers+text",
         "showlegend": false,
         "text": [
          "Shiuhing"
         ],
         "textfont": {
          "size": 6
         },
         "textposition": "top center",
         "type": "scattermap"
        },
        {
         "hoverinfo": "text",
         "hoverlabel": {
          "bgcolor": "white",
          "font": {
           "size": 12
          }
         },
         "hovertext": [
          "name: Kwichow<br>original: Kwichow#Koei-Tcheou, today Guizhou, 贵州,<br>@wikidata:Q47097<br><br>wikidata (Q47097)<br>en:Guizhou (landlocked province of the People's Republic of China)<br>zh:贵州省 (中华人民共和国省份)<br>pt:Guizhou (província da China) <br>coordinates: (26.833333333333, 106.83333333333)"
         ],
         "lat": [
          26.833333333333
         ],
         "lon": [
          106.83333333333
         ],
         "marker": {
          "color": "red",
          "size": 12
         },
         "mode": "markers+text",
         "showlegend": false,
         "text": [
          "Kwichow"
         ],
         "textfont": {
          "size": 6
         },
         "textposition": "top center",
         "type": "scattermap"
        },
        {
         "hoverinfo": "text",
         "hoverlabel": {
          "bgcolor": "white",
          "font": {
           "size": 12
          }
         },
         "hovertext": [
          "name: Pequim<br>original: Pequim#@wikidata:Q956<br><br>wikidata (Q956)<br>en:Beijing (capital city of China)<br>zh:北京市 (中華人民共和國首都暨直轄市)<br>pt:Pequim (capital da China) <br>coordinates: (39.90403, 116.407526)"
         ],
         "lat": [
          39.90403
         ],
         "lon": [
          116.407526
         ],
         "marker": {
          "color": "red",
          "size": 12
         },
         "mode": "markers+text",
         "showlegend": false,
         "text": [
          "Pequim"
         ],
         "textfont": {
          "size": 6
         },
         "textposition": "top center",
         "type": "scattermap"
        },
        {
         "hoverinfo": "text",
         "hoverlabel": {
          "bgcolor": "white",
          "font": {
           "size": 12
          }
         },
         "hovertext": [
          "name: Pequim,<br>original: Pequim,#today 北京, @wikidata:Q956%Peking<br>(Shuntien) (1598), 1601<br><br>wikidata (Q956)<br>en:Beijing (capital city of China)<br>zh:北京市 (中華人民共和國首都暨直轄市)<br>pt:Pequim (capital da China) <br>coordinates: (39.90403, 116.407526)"
         ],
         "lat": [
          39.90403
         ],
         "lon": [
          116.407526
         ],
         "marker": {
          "color": "blue",
          "size": 8
         },
         "mode": "markers+text",
         "showlegend": false,
         "text": [
          "Pequim,"
         ],
         "textfont": {
          "size": 6
         },
         "textposition": "top center",
         "type": "scattermap"
        },
        {
         "hoverinfo": "text",
         "hoverlabel": {
          "bgcolor": "white",
          "font": {
           "size": 12
          }
         },
         "hovertext": [
          "name: Chala<br>original: Chala#@wikidata:Q4578286%Chala<br>(cimetière et chapelle)<br><br>wikidata (Q4578286)<br>en:Zhalan Cemetery (cemetery in Beijing, China)<br>zh:滕公栅栏 (nan)<br>pt:Cemitério de Chala (Cemitério jesuita em Pequim, China) <br>coordinates: (39.93016, 116.3399)"
         ],
         "lat": [
          39.93016
         ],
         "lon": [
          116.3399
         ],
         "marker": {
          "color": "green",
          "size": 5
         },
         "mode": "markers+text",
         "showlegend": false,
         "text": [
          "Chala"
         ],
         "textfont": {
          "size": 6
         },
         "textposition": "top center",
         "type": "scattermap"
        },
        {
         "hoverinfo": "text",
         "hoverlabel": {
          "bgcolor": "white",
          "font": {
           "size": 12
          }
         },
         "hovertext": [
          "name: Tacheng<br>original: Tacheng#Ta-tch'eng,today Dacheng, 大城县.<br>@wikidata:Q1156678<br><br>wikidata (Q1156678)<br>en:Dacheng County (county in Hebei, China)<br>zh:大城县 (中國河北省縣份)<br>pt:nan (nan) <br>coordinates: (38.69824, 116.63413)"
         ],
         "lat": [
          38.69824
         ],
         "lon": [
          116.63413
         ],
         "marker": {
          "color": "green",
          "size": 5
         },
         "mode": "markers+text",
         "showlegend": false,
         "text": [
          "Tacheng"
         ],
         "textfont": {
          "size": 6
         },
         "textposition": "top center",
         "type": "scattermap"
        },
        {
         "hoverinfo": "text",
         "hoverlabel": {
          "bgcolor": "white",
          "font": {
           "size": 12
          }
         },
         "hovertext": [
          "name: Tientsin<br>original: Tientsin#T'ien-tsin,Tienchin, today<br>Tianjin, 天津, @wikidata:Q11736%Tientsin<br><br>wikidata (Q11736)<br>en:Tianjin (municipality of China)<br>zh:天津市 (中华人民共和国的一个直辖市)<br>pt:Tianjin (município localizado na China) <br>coordinates: (39.146666666667, 117.20555555556)"
         ],
         "lat": [
          39.146666666667
         ],
         "lon": [
          117.20555555556
         ],
         "marker": {
          "color": "green",
          "size": 5
         },
         "mode": "markers+text",
         "showlegend": false,
         "text": [
          "Tientsin"
         ],
         "textfont": {
          "size": 6
         },
         "textposition": "top center",
         "type": "scattermap"
        },
        {
         "hoverinfo": "text",
         "hoverlabel": {
          "bgcolor": "white",
          "font": {
           "size": 12
          }
         },
         "hovertext": [
          "name: Tungchow<br>original: Tungchow#T'ong-tcheou, today Tongzhou,<br>通州, @wikidata:Q393836%?<br><br>wikidata (Q393836)<br>en:Tongzhou District (district of Beijing, China)<br>zh:通州區 (中國北京市的市轄區)<br>pt:nan (nan) <br>coordinates: (39.90858, 116.65133)"
         ],
         "lat": [
          39.90858
         ],
         "lon": [
          116.65133
         ],
         "marker": {
          "color": "green",
          "size": 5
         },
         "mode": "markers+text",
         "showlegend": false,
         "text": [
          "Tungchow"
         ],
         "textfont": {
          "size": 6
         },
         "textposition": "top center",
         "type": "scattermap"
        },
        {
         "hoverinfo": "text",
         "hoverlabel": {
          "bgcolor": "white",
          "font": {
           "size": 12
          }
         },
         "hovertext": [
          "name: Chengting<br>original: Chengting#Tcheng-ting, today Zhengding,<br>正定, @wikidata:Q197678<br><br>wikidata (Q197678)<br>en:Zhengding County (county in the Shijiazhuang prefecture of Hebei, China)<br>zh:正定县 (河北省縣份)<br>pt:nan (nan) <br>coordinates: (38.14602, 114.56507)"
         ],
         "lat": [
          38.14602
         ],
         "lon": [
          114.56507
         ],
         "marker": {
          "color": "blue",
          "size": 8
         },
         "mode": "markers+text",
         "showlegend": false,
         "text": [
          "Chengting"
         ],
         "textfont": {
          "size": 6
         },
         "textposition": "top center",
         "type": "scattermap"
        },
        {
         "hoverinfo": "text",
         "hoverlabel": {
          "bgcolor": "white",
          "font": {
           "size": 12
          }
         },
         "hovertext": [
          "name: Tingchow<br>original: Tingchow#Ting tcheou, today Dingzhou,<br>定州, @wikidata:Q645183<br><br>wikidata (Q645183)<br>en:Dingzhou (County-level City of Baoding in Hebei,People's Republic of China)<br>zh:定州市 (中华人民共和国河北省保定市辖县级市)<br>pt:Dingzhou (nan) <br>coordinates: (38.51577, 114.98448)"
         ],
         "lat": [
          38.51577
         ],
         "lon": [
          114.98448
         ],
         "marker": {
          "color": "green",
          "size": 5
         },
         "mode": "markers+text",
         "showlegend": false,
         "text": [
          "Tingchow"
         ],
         "textfont": {
          "size": 6
         },
         "textposition": "top center",
         "type": "scattermap"
        },
        {
         "hoverinfo": "text",
         "hoverlabel": {
          "bgcolor": "white",
          "font": {
           "size": 12
          }
         },
         "hovertext": [
          "name: Hokien<br>original: Hokien#Ho-kien, today Hejian, 河间,<br>@wikidata:Q1601618<br><br>wikidata (Q1601618)<br>en:Hejian (county-level city)<br>zh:河间市 (中国河北省沧州市下辖的县级市)<br>pt:Hejian (nan) <br>coordinates: (38.44506, 116.08973)"
         ],
         "lat": [
          38.44506
         ],
         "lon": [
          116.08973
         ],
         "marker": {
          "color": "blue",
          "size": 8
         },
         "mode": "markers+text",
         "showlegend": false,
         "text": [
          "Hokien"
         ],
         "textfont": {
          "size": 6
         },
         "textposition": "top center",
         "type": "scattermap"
        },
        {
         "hoverinfo": "text",
         "hoverlabel": {
          "bgcolor": "white",
          "font": {
           "size": 12
          }
         },
         "hovertext": [
          "name: Ningtsin<br>original: Ningtsin#Ning-tsin,Ningchin, today<br>Ningjin, 宁津, @wikidata:Q1197955<br><br>wikidata (Q1197955)<br>en:Ningjin County (county)<br>zh:宁津县 (nan)<br>pt:nan (nan) <br>coordinates: (37.64178, 116.79965)"
         ],
         "lat": [
          37.64178
         ],
         "lon": [
          116.79965
         ],
         "marker": {
          "color": "green",
          "size": 5
         },
         "mode": "markers+text",
         "showlegend": false,
         "text": [
          "Ningtsin"
         ],
         "textfont": {
          "size": 6
         },
         "textposition": "top center",
         "type": "scattermap"
        },
        {
         "hoverinfo": "text",
         "hoverlabel": {
          "bgcolor": "white",
          "font": {
           "size": 12
          }
         },
         "hovertext": [
          "name: Wukiao<br>original: Wukiao#Ou-k'iao,Wuchiao,today Wuqiao,<br>吴桥, @wikidata:Q474923<br><br>wikidata (Q474923)<br>en:Wuqiao County (county)<br>zh:吴桥县 (nan)<br>pt:nan (nan) <br>coordinates: (37.62603, 116.38581)"
         ],
         "lat": [
          37.62603
         ],
         "lon": [
          116.38581
         ],
         "marker": {
          "color": "green",
          "size": 5
         },
         "mode": "markers+text",
         "showlegend": false,
         "text": [
          "Wukiao"
         ],
         "textfont": {
          "size": 6
         },
         "textposition": "top center",
         "type": "scattermap"
        },
        {
         "hoverinfo": "text",
         "hoverlabel": {
          "bgcolor": "white",
          "font": {
           "size": 12
          }
         },
         "hovertext": [
          "name: Paoting<br>original: Paoting%Paoting (Tsingyüan), today<br>Baoding, 保定, @wikidata:Q58584<br><br>wikidata (Q58584)<br>en:Baoding (prefecture-level city in Hebei Province, People's Republic of China)<br>zh:保定市 (中华人民共和国河北省的地级市)<br>pt:Baoding (nan) <br>coordinates: (38.86712, 115.48452)"
         ],
         "lat": [
          38.86712
         ],
         "lon": [
          115.48452
         ],
         "marker": {
          "color": "blue",
          "size": 8
         },
         "mode": "markers+text",
         "showlegend": false,
         "text": [
          "Paoting"
         ],
         "textfont": {
          "size": 6
         },
         "textposition": "top center",
         "type": "scattermap"
        },
        {
         "hoverinfo": "text",
         "hoverlabel": {
          "bgcolor": "white",
          "font": {
           "size": 12
          }
         },
         "hovertext": [
          "name: Kaoyang<br>original: Kaoyang#Kao-yang, today Gaoyang, 高阳,<br>@wikidata:Q1196631<br><br>wikidata (Q1196631)<br>en:Gaoyang County (County of Baoding in Hebei province, China)<br>zh:高阳县 (中华人民共和国河北省保定市辖县)<br>pt:nan (nan) <br>coordinates: (38.69015, 115.77276)"
         ],
         "lat": [
          38.69015
         ],
         "lon": [
          115.77276
         ],
         "marker": {
          "color": "green",
          "size": 5
         },
         "mode": "markers+text",
         "showlegend": false,
         "text": [
          "Kaoyang"
         ],
         "textfont": {
          "size": 6
         },
         "textposition": "top center",
         "type": "scattermap"
        },
        {
         "hoverinfo": "text",
         "hoverlabel": {
          "bgcolor": "white",
          "font": {
           "size": 12
          }
         },
         "hovertext": [
          "name: Shulu<br>original: Shulu#Chou-lou, today Shulu, 束鹿,<br>@wikidata:Q1015480, Now the city name is<br>Xinji 辛集. Wikidata code is that of Xinji<br><br>wikidata (Q1015480)<br>en:Xinji (county-level city)<br>zh:辛集市 (中国河北省石家庄市下辖的县级市)<br>pt:nan (nan) <br>coordinates: (37.94231, 115.21181)"
         ],
         "lat": [
          37.94231
         ],
         "lon": [
          115.21181
         ],
         "marker": {
          "color": "green",
          "size": 5
         },
         "mode": "markers+text",
         "showlegend": false,
         "text": [
          "Shulu"
         ],
         "textfont": {
          "size": 6
         },
         "textposition": "top center",
         "type": "scattermap"
        },
        {
         "hoverinfo": "text",
         "hoverlabel": {
          "bgcolor": "white",
          "font": {
           "size": 12
          }
         },
         "hovertext": [
          "name: Shansi<br>original: Shansi#Chan-si, today Shanxi, 山西,<br>@wikidata:Q46913<br><br>wikidata (Q46913)<br>en:Shanxi (province of central China with its capital at Taoyuan, the supposed original home of the prehistoric Huaxia)<br>zh:山西省 (中华人民共和国省份)<br>pt:Shanxi (província da China) <br>coordinates: (37.873333333333, 112.56444444444)"
         ],
         "lat": [
          37.873333333333
         ],
         "lon": [
          112.56444444444
         ],
         "marker": {
          "color": "red",
          "size": 12
         },
         "mode": "markers+text",
         "showlegend": false,
         "text": [
          "Shansi"
         ],
         "textfont": {
          "size": 6
         },
         "textposition": "top center",
         "type": "scattermap"
        },
        {
         "hoverinfo": "text",
         "hoverlabel": {
          "bgcolor": "white",
          "font": {
           "size": 12
          }
         },
         "hovertext": [
          "name: Taiyuan<br>original: Taiyuan#T'ai-yuen, today Taiyuan, 太原,<br>@wikidata:Q72778<br><br>wikidata (Q72778)<br>en:Taiyuan (capital city of Shanxi province, China)<br>zh:太原市 (中国山西省省會，地級市)<br>pt:Taiyuan (capital da província de Shanxi, China) <br>coordinates: (37.87326, 112.54245)"
         ],
         "lat": [
          37.87326
         ],
         "lon": [
          112.54245
         ],
         "marker": {
          "color": "blue",
          "size": 8
         },
         "mode": "markers+text",
         "showlegend": false,
         "text": [
          "Taiyuan"
         ],
         "textfont": {
          "size": 6
         },
         "textposition": "top center",
         "type": "scattermap"
        },
        {
         "hoverinfo": "text",
         "hoverlabel": {
          "bgcolor": "white",
          "font": {
           "size": 12
          }
         },
         "hovertext": [
          "name: Pingting<br>original: Pingting#P'ing-ting, today Pingding,<br>平定州, @wikidata:Q1196978, Now it is<br>Pingding County 平定县%Pingting tcheou<br><br>wikidata (Q1196978)<br>en:Pingding County (county)<br>zh:平定县 (中国山西省的县)<br>pt:nan (nan) <br>coordinates: (37.79488, 113.62727)"
         ],
         "lat": [
          37.79488
         ],
         "lon": [
          113.62727
         ],
         "marker": {
          "color": "green",
          "size": 5
         },
         "mode": "markers+text",
         "showlegend": false,
         "text": [
          "Pingting"
         ],
         "textfont": {
          "size": 6
         },
         "textposition": "top center",
         "type": "scattermap"
        },
        {
         "hoverinfo": "text",
         "hoverlabel": {
          "bgcolor": "white",
          "font": {
           "size": 12
          }
         },
         "hovertext": [
          "name: Pingyang<br>original: Pingyang#P'ing-yang, today Pingyang Fu,<br>平阳府, wikidata:Q15905472, historical<br>administrative division. Now it is in<br>Linfen 临汾 @wikidata:Q73156%Pingyang<br>(Linfen)<br><br>wikidata (Q73156)<br>en:Linfen (prefecture-level city in Shanxi, People's Republic of China)<br>zh:临汾市 (中国山西省的地级市)<br>pt:Linfen (nan) <br>coordinates: (36.08121, 111.50865)"
         ],
         "lat": [
          36.08121
         ],
         "lon": [
          111.50865
         ],
         "marker": {
          "color": "blue",
          "size": 8
         },
         "mode": "markers+text",
         "showlegend": false,
         "text": [
          "Pingyang"
         ],
         "textfont": {
          "size": 6
         },
         "textposition": "top center",
         "type": "scattermap"
        },
        {
         "hoverinfo": "text",
         "hoverlabel": {
          "bgcolor": "white",
          "font": {
           "size": 12
          }
         },
         "hovertext": [
          "name: Kiangchow<br>original: Kiangchow#Chiangchou, today Jiangzhou,<br>绛州, @wikidata:Q1197219, historical<br>administrative division. Now it is<br>Xinjiang 新绛. Wikidata code is that of 新绛<br><br>wikidata (Q1197219)<br>en:Xinjiang County (county in Shanxi)<br>zh:新绛县 (nan)<br>pt:nan (nan) <br>coordinates: (35.61562, 111.21634)"
         ],
         "lat": [
          35.61562
         ],
         "lon": [
          111.21634
         ],
         "marker": {
          "color": "green",
          "size": 5
         },
         "mode": "markers+text",
         "showlegend": false,
         "text": [
          "Kiangchow"
         ],
         "textfont": {
          "size": 6
         },
         "textposition": "top center",
         "type": "scattermap"
        },
        {
         "hoverinfo": "text",
         "hoverlabel": {
          "bgcolor": "white",
          "font": {
           "size": 12
          }
         },
         "hovertext": [
          "name: Kianghsien<br>original: Kianghsien#Kiang hien, today Jiangxian,<br>绛县, @wikidata:Q1197307%Kianghsien (au<br>Sud de Kiangchow)<br><br>wikidata (Q1197307)<br>en:Jiang County (county)<br>zh:绛县 (nan)<br>pt:nan (nan) <br>coordinates: (35.49072, 111.57067)"
         ],
         "lat": [
          35.49072
         ],
         "lon": [
          111.57067
         ],
         "marker": {
          "color": "green",
          "size": 5
         },
         "mode": "markers+text",
         "showlegend": false,
         "text": [
          "Kianghsien"
         ],
         "textfont": {
          "size": 6
         },
         "textposition": "top center",
         "type": "scattermap"
        },
        {
         "hoverinfo": "text",
         "hoverlabel": {
          "bgcolor": "white",
          "font": {
           "size": 12
          }
         },
         "hovertext": [
          "name: Kuwo<br>original: Kuwo#K'iu-wo,Chüwu, Quwo, 曲沃,<br>@wikidata:Q1332080<br><br>wikidata (Q1332080)<br>en:Quwo County (county)<br>zh:曲沃县 (nan)<br>pt:nan (nan) <br>coordinates: (35.64113, 111.46925)"
         ],
         "lat": [
          35.64113
         ],
         "lon": [
          111.46925
         ],
         "marker": {
          "color": "green",
          "size": 5
         },
         "mode": "markers+text",
         "showlegend": false,
         "text": [
          "Kuwo"
         ],
         "textfont": {
          "size": 6
         },
         "textposition": "top center",
         "type": "scattermap"
        },
        {
         "hoverinfo": "text",
         "hoverlabel": {
          "bgcolor": "white",
          "font": {
           "size": 12
          }
         },
         "hovertext": [
          "name: Puchow<br>original: Puchow#P'ou-tcheou, today Puzhou, 蒲州,<br>today Q14105968, @wikidata:Q14105968%pas<br>encore fou<br><br>wikidata (Q14105968)<br>en:Puzhou Town (nan)<br>zh:蒲州镇 (nan)<br>pt:nan (nan) <br>coordinates: (34.83444, 110.3245)"
         ],
         "lat": [
          34.83444
         ],
         "lon": [
          110.3245
         ],
         "marker": {
          "color": "green",
          "size": 5
         },
         "mode": "markers+text",
         "showlegend": false,
         "text": [
          "Puchow"
         ],
         "textfont": {
          "size": 6
         },
         "textposition": "top center",
         "type": "scattermap"
        },
        {
         "hoverinfo": "text",
         "hoverlabel": {
          "bgcolor": "white",
          "font": {
           "size": 12
          }
         },
         "hovertext": [
          "name: Siahsien<br>original: Siahsien#\"\"\"Hia hien, today Xiaxian, 夏县,<br>@wikidata:Q612136, Dehergne(1957) noted<br>it as “夏县”. In the Chinese translation,<br>it is recognized as \"隰县\",which is<br>wrong.\"\"\"<br><br>wikidata (Q612136)<br>en:Xia County (county)<br>zh:夏县 (中国山西省运城市所辖的一个县)<br>pt:nan (nan) <br>coordinates: (35.13922, 111.2158)"
         ],
         "lat": [
          35.13922
         ],
         "lon": [
          111.2158
         ],
         "marker": {
          "color": "green",
          "size": 5
         },
         "mode": "markers+text",
         "showlegend": false,
         "text": [
          "Siahsien"
         ],
         "textfont": {
          "size": 6
         },
         "textposition": "top center",
         "type": "scattermap"
        },
        {
         "hoverinfo": "text",
         "hoverlabel": {
          "bgcolor": "white",
          "font": {
           "size": 12
          }
         },
         "hovertext": [
          "name: Taiping<br>original: Taiping#\"\"\"today Taiping, 太平,<br>@wikidata:Q18111423 (no coord.),<br>historical administrative division. Now<br>its administrative center is Fencheng<br>汾城, wikidata:Q11137504 (coordinates:<br>35°49'10\"N, 111°16'20\"E)\"\"\"%Taiping<br>(Fencheng)<br><br>wikidata (Q18111423)<br>en:nan (nan)<br>zh:太平县 (nan)<br>pt:nan (nan) <br>coordinates: (35.81944444444445, 111.27222222222223)"
         ],
         "lat": [
          35.81944444444445
         ],
         "lon": [
          111.27222222222223
         ],
         "marker": {
          "color": "green",
          "size": 5
         },
         "mode": "markers+text",
         "showlegend": false,
         "text": [
          "Taiping"
         ],
         "textfont": {
          "size": 6
         },
         "textposition": "top center",
         "type": "scattermap"
        },
        {
         "hoverinfo": "text",
         "hoverlabel": {
          "bgcolor": "white",
          "font": {
           "size": 12
          }
         },
         "hovertext": [
          "name: Tsechow<br>original: Tsechow#today Fencheng, 汾城,<br>@wikidata:Q197104<br><br>wikidata (Q197104)<br>en:Zezhou County (county)<br>zh:泽州县 (nan)<br>pt:nan (nan) <br>coordinates: (35.50348, 112.83442)"
         ],
         "lat": [
          35.50348
         ],
         "lon": [
          112.83442
         ],
         "marker": {
          "color": "blue",
          "size": 8
         },
         "mode": "markers+text",
         "showlegend": false,
         "text": [
          "Tsechow"
         ],
         "textfont": {
          "size": 6
         },
         "textposition": "top center",
         "type": "scattermap"
        },
        {
         "hoverinfo": "text",
         "hoverlabel": {
          "bgcolor": "white",
          "font": {
           "size": 12
          }
         },
         "hovertext": [
          "name: Tsishan<br>original: Tsishan#today Zezhou, 泽州,<br>@wikidata:Q197104<br><br>wikidata (Q197104)<br>en:Zezhou County (county)<br>zh:泽州县 (nan)<br>pt:nan (nan) <br>coordinates: (35.50348, 112.83442)"
         ],
         "lat": [
          35.50348
         ],
         "lon": [
          112.83442
         ],
         "marker": {
          "color": "green",
          "size": 5
         },
         "mode": "markers+text",
         "showlegend": false,
         "text": [
          "Tsishan"
         ],
         "textfont": {
          "size": 6
         },
         "textposition": "top center",
         "type": "scattermap"
        },
        {
         "hoverinfo": "text",
         "hoverlabel": {
          "bgcolor": "white",
          "font": {
           "size": 12
          }
         },
         "hovertext": [
          "name: Yungtsi<br>original: Yungtsi#Tsi-chan,Chishan, today Jishan,<br>稷山, @wikidata:Q473451<br><br>wikidata (Q473451)<br>en:Jishan County (county)<br>zh:稷山县 (nan)<br>pt:nan (nan) <br>coordinates: (35.6027, 110.97833)"
         ],
         "lat": [
          35.6027
         ],
         "lon": [
          110.97833
         ],
         "marker": {
          "color": "green",
          "size": 5
         },
         "mode": "markers+text",
         "showlegend": false,
         "text": [
          "Yungtsi"
         ],
         "textfont": {
          "size": 6
         },
         "textposition": "top center",
         "type": "scattermap"
        },
        {
         "hoverinfo": "text",
         "hoverlabel": {
          "bgcolor": "white",
          "font": {
           "size": 12
          }
         },
         "hovertext": [
          "name: Shangtung<br>original: Shangtung#Chan-tong, Shandong, 山东,<br>@wikidata:Q43407<br><br>wikidata (Q43407)<br>en:Shandong (province of China)<br>zh:山東省 (中国省份)<br>pt:Shandong (província da República Popular da China) <br>coordinates: (36.4, 118.4)"
         ],
         "lat": [
          36.4
         ],
         "lon": [
          118.4
         ],
         "marker": {
          "color": "red",
          "size": 12
         },
         "mode": "markers+text",
         "showlegend": false,
         "text": [
          "Shangtung"
         ],
         "textfont": {
          "size": 6
         },
         "textposition": "top center",
         "type": "scattermap"
        },
        {
         "hoverinfo": "text",
         "hoverlabel": {
          "bgcolor": "white",
          "font": {
           "size": 12
          }
         },
         "hovertext": [
          "name: Tsinan<br>original: Tsinan#Tsi-nan, today Jinan, 济南,<br>@wikidata:Q170247<br><br>wikidata (Q170247)<br>en:Jinan (capital of Shandong province, China)<br>zh:济南市 (中國山東省省會)<br>pt:Jinan (nan) <br>coordinates: (36.666666666667, 116.98333333333)"
         ],
         "lat": [
          36.666666666667
         ],
         "lon": [
          116.98333333333
         ],
         "marker": {
          "color": "blue",
          "size": 8
         },
         "mode": "markers+text",
         "showlegend": false,
         "text": [
          "Tsinan"
         ],
         "textfont": {
          "size": 6
         },
         "textposition": "top center",
         "type": "scattermap"
        },
        {
         "hoverinfo": "text",
         "hoverlabel": {
          "bgcolor": "white",
          "font": {
           "size": 12
          }
         },
         "hovertext": [
          "name: Taian<br>original: Taian#T'ai-ngan, today Tai'an, 泰安,<br>@wikidata:Q217681%Taian tcheou<br><br>wikidata (Q217681)<br>en:Tai'an (prefecture-level city in Shandong, China)<br>zh:泰安市 (中国山东省的地级市)<br>pt:Tai'an (nan) <br>coordinates: (36.2001, 117.0809)"
         ],
         "lat": [
          36.2001
         ],
         "lon": [
          117.0809
         ],
         "marker": {
          "color": "green",
          "size": 5
         },
         "mode": "markers+text",
         "showlegend": false,
         "text": [
          "Taian"
         ],
         "textfont": {
          "size": 6
         },
         "textposition": "top center",
         "type": "scattermap"
        },
        {
         "hoverinfo": "text",
         "hoverlabel": {
          "bgcolor": "white",
          "font": {
           "size": 12
          }
         },
         "hovertext": [
          "name: Manchwang<br>original: Manchwang#Muon choam, today Manzhuang,<br>满庄, @wikidata:Q14782428<br><br>wikidata (Q14782428)<br>en:Manzhuang Town (nan)<br>zh:满庄镇 (nan)<br>pt:nan (nan) <br>coordinates: (36.06933, 117.06846)"
         ],
         "lat": [
          36.06933
         ],
         "lon": [
          117.06846
         ],
         "marker": {
          "color": "green",
          "size": 5
         },
         "mode": "markers+text",
         "showlegend": false,
         "text": [
          "Manchwang"
         ],
         "textfont": {
          "size": 6
         },
         "textposition": "top center",
         "type": "scattermap"
        },
        {
         "hoverinfo": "text",
         "hoverlabel": {
          "bgcolor": "white",
          "font": {
           "size": 12
          }
         },
         "hovertext": [
          "name: Tsiho<br>original: Tsiho#today Qihe, 齐河, @wikidata:Q1198234<br><br>wikidata (Q1198234)<br>en:Qihe County (county)<br>zh:齐河县 (中华人民共和国山东省德州市下属的一个县)<br>pt:nan (nan) <br>coordinates: (36.7946, 116.7588)"
         ],
         "lat": [
          36.7946
         ],
         "lon": [
          116.7588
         ],
         "marker": {
          "color": "green",
          "size": 5
         },
         "mode": "markers+text",
         "showlegend": false,
         "text": [
          "Tsiho"
         ],
         "textfont": {
          "size": 6
         },
         "textposition": "top center",
         "type": "scattermap"
        },
        {
         "hoverinfo": "text",
         "hoverlabel": {
          "bgcolor": "white",
          "font": {
           "size": 12
          }
         },
         "hovertext": [
          "name: Wuting<br>original: Wuting#\"\"\"Ou-ting, today Wuding, 武定,<br>@wikidata:Q17008118 (no coord.) located<br>in today's Huimin County (coordinates:<br>37°28'44\"N, 117°29'52\"E)\"\"\"%[Wuting,<br>alors tcheou, Hweimin]<br><br>wikidata (Q17008118)<br>en:nan (nan)<br>zh:武定州 (nan)<br>pt:nan (nan) <br>coordinates: (37.47888888888889, 117.49777777777778)"
         ],
         "lat": [
          37.47888888888889
         ],
         "lon": [
          117.49777777777778
         ],
         "marker": {
          "color": "green",
          "size": 5
         },
         "mode": "markers+text",
         "showlegend": false,
         "text": [
          "Wuting"
         ],
         "textfont": {
          "size": 6
         },
         "textposition": "top center",
         "type": "scattermap"
        },
        {
         "hoverinfo": "text",
         "hoverlabel": {
          "bgcolor": "white",
          "font": {
           "size": 12
          }
         },
         "hovertext": [
          "name: Pinchow<br>original: Pinchow#@wikidata:Q373687<br><br>wikidata (Q373687)<br>en:Binzhou (prefecture-level city in Shandong, China)<br>zh:滨州市 (中国山东省的地级市)<br>pt:Binzhou (nan) <br>coordinates: (37.380555555556, 118.0125)"
         ],
         "lat": [
          37.380555555556
         ],
         "lon": [
          118.0125
         ],
         "marker": {
          "color": "green",
          "size": 5
         },
         "mode": "markers+text",
         "showlegend": false,
         "text": [
          "Pinchow"
         ],
         "textfont": {
          "size": 6
         },
         "textposition": "top center",
         "type": "scattermap"
        },
        {
         "hoverinfo": "text",
         "hoverlabel": {
          "bgcolor": "white",
          "font": {
           "size": 12
          }
         },
         "hovertext": [
          "name: Yucheng<br>original: Yucheng#Pin-tcheou, today Binzhou, 滨州,<br>@wikidata:Q373687<br><br>wikidata (Q373687)<br>en:Binzhou (prefecture-level city in Shandong, China)<br>zh:滨州市 (中国山东省的地级市)<br>pt:Binzhou (nan) <br>coordinates: (37.380555555556, 118.0125)"
         ],
         "lat": [
          37.380555555556
         ],
         "lon": [
          118.0125
         ],
         "marker": {
          "color": "green",
          "size": 5
         },
         "mode": "markers+text",
         "showlegend": false,
         "text": [
          "Yucheng"
         ],
         "textfont": {
          "size": 6
         },
         "textposition": "top center",
         "type": "scattermap"
        },
        {
         "hoverinfo": "text",
         "hoverlabel": {
          "bgcolor": "white",
          "font": {
           "size": 12
          }
         },
         "hovertext": [
          "name: Tengchow<br>original: Tengchow#Teng-tcheou, today Dengzhou,<br>登州, @wikidata:Q10428329%Tengchow<br>(Penglai)<br><br>wikidata (Q10428329)<br>en:Dengzhou Fu (historical administrative division in Shandong, China)<br>zh:登州府 (明清行政区划，今山东境内)<br>pt:nan (nan) <br>coordinates: (37.81666666666667, 120.73333333333333)"
         ],
         "lat": [
          37.81666666666667
         ],
         "lon": [
          120.7333333333333
         ],
         "marker": {
          "color": "blue",
          "size": 8
         },
         "mode": "markers+text",
         "showlegend": false,
         "text": [
          "Tengchow"
         ],
         "textfont": {
          "size": 6
         },
         "textposition": "top center",
         "type": "scattermap"
        },
        {
         "hoverinfo": "text",
         "hoverlabel": {
          "bgcolor": "white",
          "font": {
           "size": 12
          }
         },
         "hovertext": [
          "name: Tsingchow<br>original: Tsingchow#Ts'ing-tcheou, Chingchou,<br>today Qingzhou, 青州,<br>@wikidata:Q1360781%Tsingchow (Yitu)<br><br>wikidata (Q1360781)<br>en:Qingzhou (county-level city in Shandong, China)<br>zh:青州市 (中国山东城市)<br>pt:nan (nan) <br>coordinates: (36.696666666667, 118.47972222222)"
         ],
         "lat": [
          36.696666666667
         ],
         "lon": [
          118.47972222222
         ],
         "marker": {
          "color": "blue",
          "size": 8
         },
         "mode": "markers+text",
         "showlegend": false,
         "text": [
          "Tsingchow"
         ],
         "textfont": {
          "size": 6
         },
         "textposition": "top center",
         "type": "scattermap"
        },
        {
         "hoverinfo": "text",
         "hoverlabel": {
          "bgcolor": "white",
          "font": {
           "size": 12
          }
         },
         "hovertext": [
          "name: Tungchang<br>original: Tungchang#Tong-tch'ang, today Dungchang,<br>东昌, @wikidata:Q10870440<br><br>wikidata (Q10870440)<br>en:Dongchang Fu (former administrative division in Shandong,China)<br>zh:东昌府 (中国历史上的行政区)<br>pt:nan (nan) <br>coordinates: (36.42194444444444, 116.04388888888889)"
         ],
         "lat": [
          36.42194444444444
         ],
         "lon": [
          116.0438888888889
         ],
         "marker": {
          "color": "blue",
          "size": 8
         },
         "mode": "markers+text",
         "showlegend": false,
         "text": [
          "Tungchang"
         ],
         "textfont": {
          "size": 6
         },
         "textposition": "top center",
         "type": "scattermap"
        },
        {
         "hoverinfo": "text",
         "hoverlabel": {
          "bgcolor": "white",
          "font": {
           "size": 12
          }
         },
         "hovertext": [
          "name: Lintsing<br>original: Lintsing#Lin-ts'ing,Linching, today<br>Linqing, 临清, @wikidata:Q1207099%Lintsing<br>tcheou<br><br>wikidata (Q1207099)<br>en:Linqing (county-level city)<br>zh:临清市 (中国山东省城市)<br>pt:Linqing (nan) <br>coordinates: (36.849444444444, 115.70611111111)"
         ],
         "lat": [
          36.849444444444
         ],
         "lon": [
          115.70611111111
         ],
         "marker": {
          "color": "green",
          "size": 5
         },
         "mode": "markers+text",
         "showlegend": false,
         "text": [
          "Lintsing"
         ],
         "textfont": {
          "size": 6
         },
         "textposition": "top center",
         "type": "scattermap"
        },
        {
         "hoverinfo": "text",
         "hoverlabel": {
          "bgcolor": "white",
          "font": {
           "size": 12
          }
         },
         "hovertext": [
          "name: Shensi<br>original: Shensi#Chen-si @wikidata:Q47974, today<br>Shaanxi @dehergne:399<br><br>wikidata (Q47974)<br>en:Shaanxi (province of central China with its capital Xi'an, the ancient homeland of the Zhou and center of several major dynasty)<br>zh:陕西省 (中国中西部省份)<br>pt:Shaanxi (província da China) <br>coordinates: (34.266666666667, 108.9)"
         ],
         "lat": [
          34.266666666667
         ],
         "lon": [
          108.9
         ],
         "marker": {
          "color": "red",
          "size": 12
         },
         "mode": "markers+text",
         "showlegend": false,
         "text": [
          "Shensi"
         ],
         "textfont": {
          "size": 6
         },
         "textposition": "top center",
         "type": "scattermap"
        },
        {
         "hoverinfo": "text",
         "hoverlabel": {
          "bgcolor": "white",
          "font": {
           "size": 12
          }
         },
         "hovertext": [
          "name: Sian<br>original: Sian#Hsian, today Xi'an, 西安,<br>@wikidata:Q5826%Sun (Changan)<br><br>wikidata (Q5826)<br>en:Xi'an (capital of Shaanxi Province, China)<br>zh:西安市 (中國陝西省省會、副省級市，國家中心城市之一)<br>pt:Xian (capital da província de Xianxim, China) <br>coordinates: (34.26111111111111, 108.94222222222223)"
         ],
         "lat": [
          34.26111111111111
         ],
         "lon": [
          108.9422222222222
         ],
         "marker": {
          "color": "blue",
          "size": 8
         },
         "mode": "markers+text",
         "showlegend": false,
         "text": [
          "Sian"
         ],
         "textfont": {
          "size": 6
         },
         "textposition": "top center",
         "type": "scattermap"
        },
        {
         "hoverinfo": "text",
         "hoverlabel": {
          "bgcolor": "white",
          "font": {
           "size": 12
          }
         },
         "hovertext": [
          "name: Chowchih<br>original: Chowchih#today Zhouzhi, 周至,<br>@wikidata:Q198072, In the Chinese<br>translation, it is written as “盩厔”.<br>Before 1964, 周至was written as “盩厔”.<br><br>wikidata (Q198072)<br>en:Zhouzhi County (County in Shaaxi province)<br>zh:周至縣 (中国陕西省西安市市辖县)<br>pt:nan (nan) <br>coordinates: (34.16136, 108.21401)"
         ],
         "lat": [
          34.16136
         ],
         "lon": [
          108.21401
         ],
         "marker": {
          "color": "green",
          "size": 5
         },
         "mode": "markers+text",
         "showlegend": false,
         "text": [
          "Chowchih"
         ],
         "textfont": {
          "size": 6
         },
         "textposition": "top center",
         "type": "scattermap"
        },
        {
         "hoverinfo": "text",
         "hoverlabel": {
          "bgcolor": "white",
          "font": {
           "size": 12
          }
         },
         "hovertext": [
          "name: Kaoling<br>original: Kaoling#Kao-ling, today Gaoling, 高陵,<br>@wikidata:Q280060<br><br>wikidata (Q280060)<br>en:Gaoling District (District of China)<br>zh:高陵区 (西安市的市轄區)<br>pt:nan (nan) <br>coordinates: (34.53515, 109.0873)"
         ],
         "lat": [
          34.53515
         ],
         "lon": [
          109.0873
         ],
         "marker": {
          "color": "green",
          "size": 5
         },
         "mode": "markers+text",
         "showlegend": false,
         "text": [
          "Kaoling"
         ],
         "textfont": {
          "size": 6
         },
         "textposition": "top center",
         "type": "scattermap"
        },
        {
         "hoverinfo": "text",
         "hoverlabel": {
          "bgcolor": "white",
          "font": {
           "size": 12
          }
         },
         "hovertext": [
          "name: Kiao-tou<br>original: Kiao-tou#\"\"\"Kiao-tou (ou Tungyüanfang)<br>Kiao-tou and Tungyüanfang are the same<br>place. The Chinese translation<br>recognized it as “贾都”, which might be<br>wrong, as “贾都” cannot be found.<br>Tungyüanfang in the Chinese reanslation<br>it is recognized as “东院房”, but in<br>Dehergne(1957), it is noted as \"通远坊\".<br>And there is a \"通远天主堂\"(Tongyuan Catholic<br>Church) there, coordinates: 34.552581376<br>28194N,109.04672038131238E\"\"\"<br><br>wikidata (No wikidata)<br>No wikidata <br>coordinates: (34.55258137628194, 109.04672038131238)"
         ],
         "lat": [
          34.55258137628194
         ],
         "lon": [
          109.04672038131238
         ],
         "marker": {
          "color": "green",
          "size": 5
         },
         "mode": "markers+text",
         "showlegend": false,
         "text": [
          "Kiao-tou"
         ],
         "textfont": {
          "size": 6
         },
         "textposition": "top center",
         "type": "scattermap"
        },
        {
         "hoverinfo": "text",
         "hoverlabel": {
          "bgcolor": "white",
          "font": {
           "size": 12
          }
         },
         "hovertext": [
          "name: Hwachow<br>original: Hwachow#How-tcheou, today Huazhou, 华州,<br>@wikidata:Q727188<br><br>wikidata (Q727188)<br>en:Huazhou District (district of China)<br>zh:华州区 (nan)<br>pt:distrito de Huazhou (distrito na China) <br>coordinates: (34.45, 109.7)"
         ],
         "lat": [
          34.45
         ],
         "lon": [
          109.7
         ],
         "marker": {
          "color": "green",
          "size": 5
         },
         "mode": "markers+text",
         "showlegend": false,
         "text": [
          "Hwachow"
         ],
         "textfont": {
          "size": 6
         },
         "textposition": "top center",
         "type": "scattermap"
        },
        {
         "hoverinfo": "text",
         "hoverlabel": {
          "bgcolor": "white",
          "font": {
           "size": 12
          }
         },
         "hovertext": [
          "name: Sanyuan<br>original: Sanyuan#Sanyuan, 三原, @wikidata:Q1201362<br><br>wikidata (Q1201362)<br>en:Sanyuan County (county in Xianyang)<br>zh:三原县 (中华人民共和国陕西省咸阳市下辖县)<br>pt:nan (nan) <br>coordinates: (34.62037, 108.9359)"
         ],
         "lat": [
          34.62037
         ],
         "lon": [
          108.9359
         ],
         "marker": {
          "color": "green",
          "size": 5
         },
         "mode": "markers+text",
         "showlegend": false,
         "text": [
          "Sanyuan"
         ],
         "textfont": {
          "size": 6
         },
         "textposition": "top center",
         "type": "scattermap"
        },
        {
         "hoverinfo": "text",
         "hoverlabel": {
          "bgcolor": "white",
          "font": {
           "size": 12
          }
         },
         "hovertext": [
          "name: Shangchow<br>original: Shangchow#Changtcheou, today Shangzhou,<br>商州, @wikidata:Q1339355<br><br>wikidata (Q1339355)<br>en:Shangzhou District (district in Shaanxi Province, China)<br>zh:商州区 (中国陕西省商洛市下辖区)<br>pt:nan (nan) <br>coordinates: (33.86586, 109.9284)"
         ],
         "lat": [
          33.86586
         ],
         "lon": [
          109.9284
         ],
         "marker": {
          "color": "green",
          "size": 5
         },
         "mode": "markers+text",
         "showlegend": false,
         "text": [
          "Shangchow"
         ],
         "textfont": {
          "size": 6
         },
         "textposition": "top center",
         "type": "scattermap"
        },
        {
         "hoverinfo": "text",
         "hoverlabel": {
          "bgcolor": "white",
          "font": {
           "size": 12
          }
         },
         "hovertext": [
          "name: Hanchung<br>original: Hanchung#How-tcheou, today Huazhou, 华州,<br>@wikidata:Q515573%Hanchung (Nancheng)<br><br>wikidata (Q515573)<br>en:Hanzhong (prefecture-level city in Shaanxi, China)<br>zh:汉中市 (中国陕西省的地级市)<br>pt:Hanzhong (nan) <br>coordinates: (33.07938, 107.02598)"
         ],
         "lat": [
          33.07938
         ],
         "lon": [
          107.02598
         ],
         "marker": {
          "color": "blue",
          "size": 8
         },
         "mode": "markers+text",
         "showlegend": false,
         "text": [
          "Hanchung"
         ],
         "textfont": {
          "size": 6
         },
         "textposition": "top center",
         "type": "scattermap"
        },
        {
         "hoverinfo": "text",
         "hoverlabel": {
          "bgcolor": "white",
          "font": {
           "size": 12
          }
         },
         "hovertext": [
          "name: Chengku<br>original: Chengku#Tch'eng-kou, today Chenggu, 城固,<br>@wikidata:Q1069968<br><br>wikidata (Q1069968)<br>en:Chenggu County (county)<br>zh:城固县 (汉中市的一个县)<br>pt:nan (nan) <br>coordinates: (33.15405, 107.32536)"
         ],
         "lat": [
          33.15405
         ],
         "lon": [
          107.32536
         ],
         "marker": {
          "color": "green",
          "size": 5
         },
         "mode": "markers+text",
         "showlegend": false,
         "text": [
          "Chengku"
         ],
         "textfont": {
          "size": 6
         },
         "textposition": "top center",
         "type": "scattermap"
        },
        {
         "hoverinfo": "text",
         "hoverlabel": {
          "bgcolor": "white",
          "font": {
           "size": 12
          }
         },
         "hovertext": [
          "name: Yanghsien<br>original: Yanghsien#Yang Hien, today Yangxian, 洋县,<br>@wikidata:Q1201504<br><br>wikidata (Q1201504)<br>en:Yang County (county)<br>zh:洋县 (陕西省汉中市下辖的县)<br>pt:nan (nan) <br>coordinates: (33.2237, 107.5473)"
         ],
         "lat": [
          33.2237
         ],
         "lon": [
          107.5473
         ],
         "marker": {
          "color": "green",
          "size": 5
         },
         "mode": "markers+text",
         "showlegend": false,
         "text": [
          "Yanghsien"
         ],
         "textfont": {
          "size": 6
         },
         "textposition": "top center",
         "type": "scattermap"
        },
        {
         "hoverinfo": "text",
         "hoverlabel": {
          "bgcolor": "white",
          "font": {
           "size": 12
          }
         },
         "hovertext": [
          "name: Szechwan<br>original: Szechwan#Se-tch'oan, today Sichuan, 四川,<br>@wikidata:Q19770<br><br>wikidata (Q19770)<br>en:Sichuan (province of China, previously inclusive of the present Chongqing Municipality)<br>zh:四川省 (中華人民共和國省份)<br>pt:Sichuan (província da China) <br>coordinates: (30, 103)"
         ],
         "lat": [
          30
         ],
         "lon": [
          103
         ],
         "marker": {
          "color": "red",
          "size": 12
         },
         "mode": "markers+text",
         "showlegend": false,
         "text": [
          "Szechwan"
         ],
         "textfont": {
          "size": 6
         },
         "textposition": "top center",
         "type": "scattermap"
        },
        {
         "hoverinfo": "text",
         "hoverlabel": {
          "bgcolor": "white",
          "font": {
           "size": 12
          }
         },
         "hovertext": [
          "name: Chengtu<br>original: Chengtu#Tch'eng-tou, today Chengdu, 成都,<br>today @wikidata:Q30002%Chengtu (Hwayang)<br><br>wikidata (Q30002)<br>en:Chengdu (capital of Sichuan Province, China)<br>zh:成都市 (中国四川省省会)<br>pt:Chengdu (centro econômico e cultural com influência global \"Beta+\") <br>coordinates: (30.66, 104.06333333333333)"
         ],
         "lat": [
          30.66
         ],
         "lon": [
          104.0633333333333
         ],
         "marker": {
          "color": "blue",
          "size": 8
         },
         "mode": "markers+text",
         "showlegend": false,
         "text": [
          "Chengtu"
         ],
         "textfont": {
          "size": 6
         },
         "textposition": "top center",
         "type": "scattermap"
        },
        {
         "hoverinfo": "text",
         "hoverlabel": {
          "bgcolor": "white",
          "font": {
           "size": 12
          }
         },
         "hovertext": [
          "name: Mienchow<br>original: Mienchow#\"\"\"Mien tcheou, today Mianzhou,<br>绵州, today @wikidata:Q10475921 (no<br>coord.) Mienchow is an historical<br>administrative division, now it is<br>located in the city of Mianyang<br>(Q426130, coordinates: 31°28'1\"N,<br>104°44'18\"E)\"\"\"<br><br>wikidata (Q10475921)<br>en:Mienchow (historical administrative division of China)<br>zh:綿州 (中國古代行政區劃)<br>pt:nan (nan) <br>coordinates: (31.466944444444444, 104.73833333333333)"
         ],
         "lat": [
          31.466944444444444
         ],
         "lon": [
          104.73833333333333
         ],
         "marker": {
          "color": "green",
          "size": 5
         },
         "mode": "markers+text",
         "showlegend": false,
         "text": [
          "Mienchow"
         ],
         "textfont": {
          "size": 6
         },
         "textposition": "top center",
         "type": "scattermap"
        },
        {
         "hoverinfo": "text",
         "hoverlabel": {
          "bgcolor": "white",
          "font": {
           "size": 12
          }
         },
         "hovertext": [
          "name: Chungking<br>original: Chungking#Tch'ong-K'ing,Chungching,<br>today Chongqing, 重庆,<br>@wikidata:Q11725%Chungking (Pahsien)<br><br>wikidata (Q11725)<br>en:Chongqing (municipality of China)<br>zh:重庆市 (中國西部的直轄市)<br>pt:Chongqing (municipalidade da China) <br>coordinates: (29.55, 106.50694444444)"
         ],
         "lat": [
          29.55
         ],
         "lon": [
          106.50694444444
         ],
         "marker": {
          "color": "blue",
          "size": 8
         },
         "mode": "markers+text",
         "showlegend": false,
         "text": [
          "Chungking"
         ],
         "textfont": {
          "size": 6
         },
         "textposition": "top center",
         "type": "scattermap"
        },
        {
         "hoverinfo": "text",
         "hoverlabel": {
          "bgcolor": "white",
          "font": {
           "size": 12
          }
         },
         "hovertext": [
          "name: Paoning<br>original: Paoning#\"\"\"Pao-ning, today Baoning, 保宁,<br>@wikidata:Q10887586 (no coord.), 保宁府<br>historical administrative division of<br>China, where 阆中 was in (same as<br>Langzhong: Q1200170 coordinates:<br>31°35'0\"N, 105°58'19\"E\"\"\")%Paoning<br>(Langchung)<br><br>wikidata (Q10887586)<br>en:Baoning Fu (historical administrative division of China)<br>zh:保宁府 (中國古代行政區劃)<br>pt:nan (nan) <br>coordinates: (31.583333333333332, 105.97194444444445)"
         ],
         "lat": [
          31.583333333333332
         ],
         "lon": [
          105.97194444444445
         ],
         "marker": {
          "color": "blue",
          "size": 8
         },
         "mode": "markers+text",
         "showlegend": false,
         "text": [
          "Paoning"
         ],
         "textfont": {
          "size": 6
         },
         "textposition": "top center",
         "type": "scattermap"
        },
        {
         "hoverinfo": "text",
         "hoverlabel": {
          "bgcolor": "white",
          "font": {
           "size": 12
          }
         },
         "hovertext": [
          "name: Yunnan<br>original: Yunnan#today Yunnan, 云南,<br>@wikidata:Q43194<br><br>wikidata (Q43194)<br>en:Yunnan (province of China)<br>zh:云南省 (中華人民共和國省份)<br>pt:Yunnan (província da China) <br>coordinates: (25.049444444444443, 102.7088888888889)"
         ],
         "lat": [
          25.04944444444444
         ],
         "lon": [
          102.7088888888889
         ],
         "marker": {
          "color": "red",
          "size": 12
         },
         "mode": "markers+text",
         "showlegend": false,
         "text": [
          "Yunnan"
         ],
         "textfont": {
          "size": 6
         },
         "textposition": "top center",
         "type": "scattermap"
        }
       ],
       "layout": {
        "autosize": true,
        "map": {
         "center": {
          "lat": 28,
          "lon": 120
         },
         "style": "carto-positron",
         "zoom": 4
        },
        "template": {
         "data": {
          "bar": [
           {
            "error_x": {
             "color": "#2a3f5f"
            },
            "error_y": {
             "color": "#2a3f5f"
            },
            "marker": {
             "line": {
              "color": "#E5ECF6",
              "width": 0.5
             },
             "pattern": {
              "fillmode": "overlay",
              "size": 10,
              "solidity": 0.2
             }
            },
            "type": "bar"
           }
          ],
          "barpolar": [
           {
            "marker": {
             "line": {
              "color": "#E5ECF6",
              "width": 0.5
             },
             "pattern": {
              "fillmode": "overlay",
              "size": 10,
              "solidity": 0.2
             }
            },
            "type": "barpolar"
           }
          ],
          "carpet": [
           {
            "aaxis": {
             "endlinecolor": "#2a3f5f",
             "gridcolor": "white",
             "linecolor": "white",
             "minorgridcolor": "white",
             "startlinecolor": "#2a3f5f"
            },
            "baxis": {
             "endlinecolor": "#2a3f5f",
             "gridcolor": "white",
             "linecolor": "white",
             "minorgridcolor": "white",
             "startlinecolor": "#2a3f5f"
            },
            "type": "carpet"
           }
          ],
          "choropleth": [
           {
            "colorbar": {
             "outlinewidth": 0,
             "ticks": ""
            },
            "type": "choropleth"
           }
          ],
          "contour": [
           {
            "colorbar": {
             "outlinewidth": 0,
             "ticks": ""
            },
            "colorscale": [
             [
              0,
              "#0d0887"
             ],
             [
              0.1111111111111111,
              "#46039f"
             ],
             [
              0.2222222222222222,
              "#7201a8"
             ],
             [
              0.3333333333333333,
              "#9c179e"
             ],
             [
              0.4444444444444444,
              "#bd3786"
             ],
             [
              0.5555555555555556,
              "#d8576b"
             ],
             [
              0.6666666666666666,
              "#ed7953"
             ],
             [
              0.7777777777777778,
              "#fb9f3a"
             ],
             [
              0.8888888888888888,
              "#fdca26"
             ],
             [
              1,
              "#f0f921"
             ]
            ],
            "type": "contour"
           }
          ],
          "contourcarpet": [
           {
            "colorbar": {
             "outlinewidth": 0,
             "ticks": ""
            },
            "type": "contourcarpet"
           }
          ],
          "heatmap": [
           {
            "colorbar": {
             "outlinewidth": 0,
             "ticks": ""
            },
            "colorscale": [
             [
              0,
              "#0d0887"
             ],
             [
              0.1111111111111111,
              "#46039f"
             ],
             [
              0.2222222222222222,
              "#7201a8"
             ],
             [
              0.3333333333333333,
              "#9c179e"
             ],
             [
              0.4444444444444444,
              "#bd3786"
             ],
             [
              0.5555555555555556,
              "#d8576b"
             ],
             [
              0.6666666666666666,
              "#ed7953"
             ],
             [
              0.7777777777777778,
              "#fb9f3a"
             ],
             [
              0.8888888888888888,
              "#fdca26"
             ],
             [
              1,
              "#f0f921"
             ]
            ],
            "type": "heatmap"
           }
          ],
          "histogram": [
           {
            "marker": {
             "pattern": {
              "fillmode": "overlay",
              "size": 10,
              "solidity": 0.2
             }
            },
            "type": "histogram"
           }
          ],
          "histogram2d": [
           {
            "colorbar": {
             "outlinewidth": 0,
             "ticks": ""
            },
            "colorscale": [
             [
              0,
              "#0d0887"
             ],
             [
              0.1111111111111111,
              "#46039f"
             ],
             [
              0.2222222222222222,
              "#7201a8"
             ],
             [
              0.3333333333333333,
              "#9c179e"
             ],
             [
              0.4444444444444444,
              "#bd3786"
             ],
             [
              0.5555555555555556,
              "#d8576b"
             ],
             [
              0.6666666666666666,
              "#ed7953"
             ],
             [
              0.7777777777777778,
              "#fb9f3a"
             ],
             [
              0.8888888888888888,
              "#fdca26"
             ],
             [
              1,
              "#f0f921"
             ]
            ],
            "type": "histogram2d"
           }
          ],
          "histogram2dcontour": [
           {
            "colorbar": {
             "outlinewidth": 0,
             "ticks": ""
            },
            "colorscale": [
             [
              0,
              "#0d0887"
             ],
             [
              0.1111111111111111,
              "#46039f"
             ],
             [
              0.2222222222222222,
              "#7201a8"
             ],
             [
              0.3333333333333333,
              "#9c179e"
             ],
             [
              0.4444444444444444,
              "#bd3786"
             ],
             [
              0.5555555555555556,
              "#d8576b"
             ],
             [
              0.6666666666666666,
              "#ed7953"
             ],
             [
              0.7777777777777778,
              "#fb9f3a"
             ],
             [
              0.8888888888888888,
              "#fdca26"
             ],
             [
              1,
              "#f0f921"
             ]
            ],
            "type": "histogram2dcontour"
           }
          ],
          "mesh3d": [
           {
            "colorbar": {
             "outlinewidth": 0,
             "ticks": ""
            },
            "type": "mesh3d"
           }
          ],
          "parcoords": [
           {
            "line": {
             "colorbar": {
              "outlinewidth": 0,
              "ticks": ""
             }
            },
            "type": "parcoords"
           }
          ],
          "pie": [
           {
            "automargin": true,
            "type": "pie"
           }
          ],
          "scatter": [
           {
            "fillpattern": {
             "fillmode": "overlay",
             "size": 10,
             "solidity": 0.2
            },
            "type": "scatter"
           }
          ],
          "scatter3d": [
           {
            "line": {
             "colorbar": {
              "outlinewidth": 0,
              "ticks": ""
             }
            },
            "marker": {
             "colorbar": {
              "outlinewidth": 0,
              "ticks": ""
             }
            },
            "type": "scatter3d"
           }
          ],
          "scattercarpet": [
           {
            "marker": {
             "colorbar": {
              "outlinewidth": 0,
              "ticks": ""
             }
            },
            "type": "scattercarpet"
           }
          ],
          "scattergeo": [
           {
            "marker": {
             "colorbar": {
              "outlinewidth": 0,
              "ticks": ""
             }
            },
            "type": "scattergeo"
           }
          ],
          "scattergl": [
           {
            "marker": {
             "colorbar": {
              "outlinewidth": 0,
              "ticks": ""
             }
            },
            "type": "scattergl"
           }
          ],
          "scattermap": [
           {
            "marker": {
             "colorbar": {
              "outlinewidth": 0,
              "ticks": ""
             }
            },
            "type": "scattermap"
           }
          ],
          "scattermapbox": [
           {
            "marker": {
             "colorbar": {
              "outlinewidth": 0,
              "ticks": ""
             }
            },
            "type": "scattermapbox"
           }
          ],
          "scatterpolar": [
           {
            "marker": {
             "colorbar": {
              "outlinewidth": 0,
              "ticks": ""
             }
            },
            "type": "scatterpolar"
           }
          ],
          "scatterpolargl": [
           {
            "marker": {
             "colorbar": {
              "outlinewidth": 0,
              "ticks": ""
             }
            },
            "type": "scatterpolargl"
           }
          ],
          "scatterternary": [
           {
            "marker": {
             "colorbar": {
              "outlinewidth": 0,
              "ticks": ""
             }
            },
            "type": "scatterternary"
           }
          ],
          "surface": [
           {
            "colorbar": {
             "outlinewidth": 0,
             "ticks": ""
            },
            "colorscale": [
             [
              0,
              "#0d0887"
             ],
             [
              0.1111111111111111,
              "#46039f"
             ],
             [
              0.2222222222222222,
              "#7201a8"
             ],
             [
              0.3333333333333333,
              "#9c179e"
             ],
             [
              0.4444444444444444,
              "#bd3786"
             ],
             [
              0.5555555555555556,
              "#d8576b"
             ],
             [
              0.6666666666666666,
              "#ed7953"
             ],
             [
              0.7777777777777778,
              "#fb9f3a"
             ],
             [
              0.8888888888888888,
              "#fdca26"
             ],
             [
              1,
              "#f0f921"
             ]
            ],
            "type": "surface"
           }
          ],
          "table": [
           {
            "cells": {
             "fill": {
              "color": "#EBF0F8"
             },
             "line": {
              "color": "white"
             }
            },
            "header": {
             "fill": {
              "color": "#C8D4E3"
             },
             "line": {
              "color": "white"
             }
            },
            "type": "table"
           }
          ]
         },
         "layout": {
          "annotationdefaults": {
           "arrowcolor": "#2a3f5f",
           "arrowhead": 0,
           "arrowwidth": 1
          },
          "autotypenumbers": "strict",
          "coloraxis": {
           "colorbar": {
            "outlinewidth": 0,
            "ticks": ""
           }
          },
          "colorscale": {
           "diverging": [
            [
             0,
             "#8e0152"
            ],
            [
             0.1,
             "#c51b7d"
            ],
            [
             0.2,
             "#de77ae"
            ],
            [
             0.3,
             "#f1b6da"
            ],
            [
             0.4,
             "#fde0ef"
            ],
            [
             0.5,
             "#f7f7f7"
            ],
            [
             0.6,
             "#e6f5d0"
            ],
            [
             0.7,
             "#b8e186"
            ],
            [
             0.8,
             "#7fbc41"
            ],
            [
             0.9,
             "#4d9221"
            ],
            [
             1,
             "#276419"
            ]
           ],
           "sequential": [
            [
             0,
             "#0d0887"
            ],
            [
             0.1111111111111111,
             "#46039f"
            ],
            [
             0.2222222222222222,
             "#7201a8"
            ],
            [
             0.3333333333333333,
             "#9c179e"
            ],
            [
             0.4444444444444444,
             "#bd3786"
            ],
            [
             0.5555555555555556,
             "#d8576b"
            ],
            [
             0.6666666666666666,
             "#ed7953"
            ],
            [
             0.7777777777777778,
             "#fb9f3a"
            ],
            [
             0.8888888888888888,
             "#fdca26"
            ],
            [
             1,
             "#f0f921"
            ]
           ],
           "sequentialminus": [
            [
             0,
             "#0d0887"
            ],
            [
             0.1111111111111111,
             "#46039f"
            ],
            [
             0.2222222222222222,
             "#7201a8"
            ],
            [
             0.3333333333333333,
             "#9c179e"
            ],
            [
             0.4444444444444444,
             "#bd3786"
            ],
            [
             0.5555555555555556,
             "#d8576b"
            ],
            [
             0.6666666666666666,
             "#ed7953"
            ],
            [
             0.7777777777777778,
             "#fb9f3a"
            ],
            [
             0.8888888888888888,
             "#fdca26"
            ],
            [
             1,
             "#f0f921"
            ]
           ]
          },
          "colorway": [
           "#636efa",
           "#EF553B",
           "#00cc96",
           "#ab63fa",
           "#FFA15A",
           "#19d3f3",
           "#FF6692",
           "#B6E880",
           "#FF97FF",
           "#FECB52"
          ],
          "font": {
           "color": "#2a3f5f"
          },
          "geo": {
           "bgcolor": "white",
           "lakecolor": "white",
           "landcolor": "#E5ECF6",
           "showlakes": true,
           "showland": true,
           "subunitcolor": "white"
          },
          "hoverlabel": {
           "align": "left"
          },
          "hovermode": "closest",
          "mapbox": {
           "style": "light"
          },
          "paper_bgcolor": "white",
          "plot_bgcolor": "#E5ECF6",
          "polar": {
           "angularaxis": {
            "gridcolor": "white",
            "linecolor": "white",
            "ticks": ""
           },
           "bgcolor": "#E5ECF6",
           "radialaxis": {
            "gridcolor": "white",
            "linecolor": "white",
            "ticks": ""
           }
          },
          "scene": {
           "xaxis": {
            "backgroundcolor": "#E5ECF6",
            "gridcolor": "white",
            "gridwidth": 2,
            "linecolor": "white",
            "showbackground": true,
            "ticks": "",
            "zerolinecolor": "white"
           },
           "yaxis": {
            "backgroundcolor": "#E5ECF6",
            "gridcolor": "white",
            "gridwidth": 2,
            "linecolor": "white",
            "showbackground": true,
            "ticks": "",
            "zerolinecolor": "white"
           },
           "zaxis": {
            "backgroundcolor": "#E5ECF6",
            "gridcolor": "white",
            "gridwidth": 2,
            "linecolor": "white",
            "showbackground": true,
            "ticks": "",
            "zerolinecolor": "white"
           }
          },
          "shapedefaults": {
           "line": {
            "color": "#2a3f5f"
           }
          },
          "ternary": {
           "aaxis": {
            "gridcolor": "white",
            "linecolor": "white",
            "ticks": ""
           },
           "baxis": {
            "gridcolor": "white",
            "linecolor": "white",
            "ticks": ""
           },
           "bgcolor": "#E5ECF6",
           "caxis": {
            "gridcolor": "white",
            "linecolor": "white",
            "ticks": ""
           }
          },
          "title": {
           "x": 0.05
          },
          "xaxis": {
           "automargin": true,
           "gridcolor": "white",
           "linecolor": "white",
           "ticks": "",
           "title": {
            "standoff": 15
           },
           "zerolinecolor": "white",
           "zerolinewidth": 2
          },
          "yaxis": {
           "automargin": true,
           "gridcolor": "white",
           "linecolor": "white",
           "ticks": "",
           "title": {
            "standoff": 15
           },
           "zerolinecolor": "white",
           "zerolinewidth": 2
          }
         }
        },
        "title": {
         "text": "Residences 1644"
        }
       }
      }
     },
     "metadata": {},
     "output_type": "display_data"
    }
   ],
   "source": [
    "from textwrap import wrap\n",
    "import plotly.graph_objects as go\n",
    "\n",
    "# generate a dictionary for quick lookup with id as key\n",
    "locations_wikidata_dict = {row['id']: row for index, row in merged_df.iterrows()}\n",
    "\n",
    "# Define marker styles for each level\n",
    "level_styles = {\n",
    "    'province': {'color': 'red', 'size': 12},\n",
    "    'fou': {'color': 'blue', 'size': 8},\n",
    "    'tcheou-hien': {'color': 'green', 'size': 5}\n",
    "}\n",
    "\n",
    "fig = go.Figure()\n",
    "\n",
    "\n",
    "for level, style in level_styles.items():\n",
    "    fig.add_trace(go.Scattermap(\n",
    "        lon=[None],\n",
    "        lat=[None],\n",
    "        mode='markers',\n",
    "        marker=dict(color=style['color'], size=style['size']),\n",
    "        name=level\n",
    "    ))\n",
    "# Add lines for 'fou' and 'tcheou_hien'\n",
    "for _, row in merged_df.iterrows():\n",
    "    level = row.get('level')\n",
    "    if level == 'fou':\n",
    "        id_origin = row.get('province_id', None)\n",
    "        id_destination = row.get('id', None)\n",
    "        lat_origin = locations_wikidata_dict.get(id_origin, {}).get('latitude', None)\n",
    "        lon_origin = locations_wikidata_dict.get(id_origin, {}).get('longitude', None)\n",
    "        lat_destination = locations_wikidata_dict.get(id_destination, {}).get('latitude', None)\n",
    "        lon_destination = locations_wikidata_dict.get(id_destination, {}).get('longitude', None)\n",
    "        if lat_origin and lon_origin and lat_destination and lon_destination:\n",
    "            fig.add_trace(go.Scattermap(\n",
    "                lon=[float(lon_origin), float(lon_destination)],\n",
    "                lat=[float(lat_origin), float(lat_destination)],\n",
    "                mode='lines',\n",
    "                line=dict(width=1, color='red'),\n",
    "                showlegend=False\n",
    "            ))\n",
    "    elif level == 'tcheou-hien':\n",
    "        id_origin = row.get('fou_id', None)\n",
    "        id_destination = row.get('id', None)\n",
    "        lat_origin = locations_wikidata_dict.get(id_origin, {}).get('latitude', None)\n",
    "        lon_origin = locations_wikidata_dict.get(id_origin, {}).get('longitude', None)\n",
    "        lat_destination = locations_wikidata_dict.get(id_destination, {}).get('latitude', None)\n",
    "        lon_destination = locations_wikidata_dict.get(id_destination, {}).get('longitude', None)\n",
    "        if id_destination == 'Q7420445' or row['name'] == \"Camarri\": # special case for Taparri\n",
    "            print(f\"Debugging: {id_origin} -> {id_destination}\")\n",
    "            pass\n",
    "        if lat_origin and lon_origin and lat_destination and lon_destination:\n",
    "            fig.add_trace(go.Scattermap(\n",
    "                lon=[float(lon_origin), float(lon_destination)],\n",
    "                lat=[float(lat_origin), float(lat_destination)],\n",
    "                mode='lines',\n",
    "                line=dict(width=1, color='blue'),\n",
    "                showlegend=False\n",
    "            ))\n",
    "# Add Markers for each location\n",
    "for index, row in merged_df.iterrows():\n",
    "    lat = row.get('latitude')\n",
    "    lon = row.get('longitude')\n",
    "    level = row.get('level')\n",
    "    name = row.get('name')\n",
    "    english_description = row.get('english_description', '')\n",
    "    chinese_description = row.get('chinese_description', '')\n",
    "    wikidata_id = row.get('wikidata_id', '')\n",
    "    coordinates = row.get('coordinates', '')\n",
    "    if name == \"Camarri\":\n",
    "        print(f\"Debugging: {name} with wikidata_id {wikidata_id}\")\n",
    "\n",
    "    if wikidata_id != 'No wikidata':\n",
    "        english_label = row.get('english_label', '')\n",
    "        chinese_label = row.get('chinese_label', '')\n",
    "        portuguese_label = row.get('portuguese_label', '')\n",
    "        english_description = row.get('english_description', '')\n",
    "        chinese_description = row.get('chinese_description', '')\n",
    "        portuguese_description = row.get('portuguese_description', '')\n",
    "        wikidata_label = (\n",
    "                         f\"en:{english_label} ({english_description})<br>\"\n",
    "                         f\"zh:{chinese_label} ({chinese_description})<br>\"\n",
    "                         f\"pt:{portuguese_label} ({portuguese_description})\"\n",
    "        )\n",
    "    else:\n",
    "        wikidata_label = \"No wikidata\"\n",
    "        english_label = ''\n",
    "        chinese_label = ''\n",
    "        portuguese_label = ''\n",
    "        english_description = ''\n",
    "        chinese_description = ''\n",
    "        portuguese_description = ''\n",
    "\n",
    "    name_original = row.get('name_original', '')\n",
    "    comment = \"<br>\".join(wrap(name_original, width=40))\n",
    "    hover_text = f\"name: {name}<br>original: {comment}<br><br>wikidata ({wikidata_id})<br>{wikidata_label} <br>coordinates: {coordinates}\"\n",
    "\n",
    "\n",
    "    if level == 'tcheou-hien':\n",
    "        pass\n",
    "    if pd.notnull(lat) and pd.notnull(lon) and level in level_styles:\n",
    "        style = level_styles[level]\n",
    "        fig.add_trace(go.Scattermap(\n",
    "            lon=[float(lon)],\n",
    "            lat=[float(lat)],\n",
    "            mode='markers+text',\n",
    "            marker=dict(color=style['color'], size=style['size']),\n",
    "            text=[name],\n",
    "            textposition='top center',\n",
    "            hovertext=[hover_text],\n",
    "            hoverinfo='text',\n",
    "            hoverlabel=dict(bgcolor='white', font_size=12),\n",
    "            showlegend=False\n",
    "        ))\n",
    "\n",
    "# fig.update_layout(mapbox_style=\"open-street-map\")\n",
    "# fig.update_layout(margin={\"r\":0,\"t\":0,\"l\":0,\"b\":0})\n",
    "fig.update_traces(textfont=dict(size=6))\n",
    "fig.update_layout({\n",
    "    \"map\": {\"center\": {\"lat\": 28.0,\n",
    "                       \"lon\": 120.0},\n",
    "            \"zoom\": 4,\n",
    "            \"style\": \"carto-positron\",\n",
    "            }\n",
    "    },\n",
    "    title= \"Residences 1644\",\n",
    "    autosize=True,\n",
    "    )\n",
    "\n",
    "fig.show(config={\"responsive\": True})\n",
    "fig.write_html(\"../inferences/residences_1644_map.html\",\n",
    "               config={\"responsive\": True},\n",
    "               include_plotlyjs=True,\n",
    "               auto_open=False)\n"
   ]
  }
 ],
 "metadata": {
  "kernelspec": {
   "display_name": ".venv",
   "language": "python",
   "name": "python3"
  },
  "language_info": {
   "codemirror_mode": {
    "name": "ipython",
    "version": 3
   },
   "file_extension": ".py",
   "mimetype": "text/x-python",
   "name": "python",
   "nbconvert_exporter": "python",
   "pygments_lexer": "ipython3",
   "version": "3.10.16"
  }
 },
 "nbformat": 4,
 "nbformat_minor": 2
}
