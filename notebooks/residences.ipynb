{
 "cells": [
  {
   "cell_type": "markdown",
   "metadata": {},
   "source": [
    "## Jesuit communities in China (\"Chrétientés\") by Dehergne\n",
    "\n",
    "Based on Dehergne, J. (1973). Répertoire des Jésuites de Chine de 1552 à 1800. Institutum historicum ; Letouzey & Ané. https://archive.org/details/bhsi37\n",
    "\n",
    "Complemented with Dehergne, J. (1957). Les Chrétientés de Chine de la Période Ming (1581–1650). Monumenta Serica, 16(1–2), 1–136. https://doi.org/10.1080/02549948.1957.11730960 where more detailed information is provided.\n",
    "\n",
    "The Répertoire includes two lists of Jesuits residences in China. One reports to 1644 and the second to 1701.\n",
    "\n",
    "- [Planche: Carte des Chrétientés Chinoises de la fin des Ming (1644)](https://archive.org/details/bhsi37/page/398/mode/1up) and [map](https://archive.org/details/bhsi37/page/n390/mode/1up) Kleiotranscription at [sources/dehergne-locations-1644.cli](../sources/dehergne-locations-1644.cli)\n",
    "- [VII. Carte des résidences de Chine en l'année 1701](https://archive.org/details/bhsi37/page/n400/mode/1up) and [map](https://archive.org/details/bhsi37/page/n392/mode/1up) kleio transcription at [sources/dehergne-locations-1701.cli](../sources/dehergne-locations-1701.cli).\n",
    "\n",
    "### Overview\n",
    "This notebook produces tables with the names of communties, their wkidata code, and comments related to\n",
    "modern chinese spelling of the place name. \n",
    "\n",
    "The notebook also uses records related to place names in individual missionary entries in the \"Repertoire\"\n",
    "to list all the people present in a community at a given point in time.\n",
    "\n",
    "### Output\n",
    "\n",
    "**Excel files produced in this notebook:**\n",
    "- [residences-1644.xlsx](../inferences/residences-1644.xlsx)\n",
    "- [residences-1701.xlsx](../inferences/residences-1701.xlsx)\n",
    "- [residences-1644-1701.xlsx](../inferences/residences-1644-1701.xlsx)\n",
    "- [residences-names-1644-1701.xlsx](../inferences/residences-names-1644-1701.xlsx)\n",
    "- [residences-1644-1701-no-wikidata.xlsx](../inferences/residences-1644-1701-no-wikidata.xlsx)\n",
    "\n",
    "**Map produced:**\n",
    "- [residences_1644_map.html](../inferences/residences_1644_map.html)\n"
   ]
  },
  {
   "cell_type": "markdown",
   "metadata": {},
   "source": [
    "### Setup"
   ]
  },
  {
   "cell_type": "code",
   "execution_count": 57,
   "metadata": {},
   "outputs": [
    {
     "name": "stderr",
     "output_type": "stream",
     "text": [
      "WARNING:root:Reusing existing container priceless_lumiere\n"
     ]
    },
    {
     "name": "stdout",
     "output_type": "stream",
     "text": [
      "Timelink version: 1.1.26\n"
     ]
    }
   ],
   "source": [
    "import timelink\n",
    "\n",
    "print(\"Timelink version:\", timelink.__version__)\n",
    "\n",
    "tlnb = timelink.notebooks.TimelinkNotebook()\n",
    "# tlnb.print_info()"
   ]
  },
  {
   "cell_type": "markdown",
   "metadata": {},
   "source": [
    "## List of residences in 1644\n",
    "\n",
    "Loop through the list of residences in 1644 in file `dehergne-locations-1644.cli` and \n",
    "build a dataframe with the administrative structure and the wikidate of the locations. \n"
   ]
  },
  {
   "cell_type": "code",
   "execution_count": 60,
   "metadata": {},
   "outputs": [],
   "source": [
    "import pandas as pd\n",
    "from sqlalchemy import select\n",
    "from dehergne_util import get_wikidata_id\n",
    "\n",
    "geo1, geo2, geo3 = tlnb.db.get_model(['geo1','geo2','geo3'])\n",
    "stmt = select(geo1).where(geo1.inside == 'deh-chre-1644')\n",
    "\n",
    "place_list = []\n",
    "\n",
    "with tlnb.db.session() as session:\n",
    "    result = session.execute(stmt).fetchall()\n",
    "    for province, in result:\n",
    "        comment, wikidata = get_wikidata_id(province, if_missing='No wikidata')\n",
    "        # print(province.id, province.name, wikidata, comment)\n",
    "        place_list.append({'province': province.name,\n",
    "                           'id': province.id,\n",
    "                           'level': 'province',\n",
    "                           'name': province.name,\n",
    "                           'name_original': province.with_extra_info().name,\n",
    "                           'province_wikidata_id': wikidata,\n",
    "                           'wikidata_id': wikidata,\n",
    "                           'comment': comment})\n",
    "        fous = session.execute(select(geo2).where(geo2.inside == province.id)).fetchall()\n",
    "        province_wikdata = wikidata\n",
    "        for fou, in fous:\n",
    "\n",
    "            comment, wikidata = get_wikidata_id(fou, if_missing='No wikidata')\n",
    "            # print(' ', fou.name,  wikidata, comment)\n",
    "            place_list.append({'province': province.name,\n",
    "                               'province_id': province.id,\n",
    "                               'province_wikidata_id': province_wikdata,\n",
    "                               'id': fou.id,\n",
    "                               'level': 'fou',\n",
    "                               'fou':fou.name,\n",
    "                               'name': fou.name,\n",
    "                               'name_original': fou.with_extra_info().name,\n",
    "                               'fou_wikidata_id': wikidata,\n",
    "                               'wikidata_id': wikidata,\n",
    "                               'comment': comment})\n",
    "            geo3s = session.execute(select(geo3).where(geo3.inside == fou.id)).fetchall()\n",
    "            fou_wikidata = wikidata\n",
    "            for tcheou_hien, in geo3s:\n",
    "                comment, wikidata = get_wikidata_id(tcheou_hien, if_missing='No wikidata')\n",
    "                # print('   ', tcheou_hien.name, wikidata,comment,  )\n",
    "                place_list.append({'province': province.name,\n",
    "                                    'province_id': province.id,\n",
    "                                    'province_wikidata_id': province_wikdata,\n",
    "                                    'fou_id': fou.id,\n",
    "                                    'fou_wikidata_id': fou_wikidata,\n",
    "                                    'id': tcheou_hien.id,\n",
    "                                    'level': 'tcheou-hien',\n",
    "                                    'fou':fou.name,\n",
    "                                    'name': tcheou_hien.name,\n",
    "                                    'name_original': tcheou_hien.with_extra_info().name,\n",
    "                                    'wikidata_id': wikidata,\n",
    "                                    'comment': comment})\n"
   ]
  },
  {
   "cell_type": "markdown",
   "metadata": {},
   "source": [
    "#### Show one place in kleio (for debugging purposes)\n"
   ]
  },
  {
   "cell_type": "code",
   "execution_count": 61,
   "metadata": {},
   "outputs": [
    {
     "name": "stdout",
     "output_type": "stream",
     "text": [
      "geo3$Tsinkiang#\"\"\"Chingchiang, today Jingjiang, 靖江, @wikidata:Q428587, In the original book (Dehergne, 1973), it is written as \"Tsinkiang\" (without g), which is wrongly spelled, because from both phonetic and geographical points of view, it should be Tsingkiang 靖江. In Dehergne(1973), it is written as Tsingjiang. And in the Chinese translation, it is also recognized as \"靖江\".\"\"\"/geo3\n",
      "  atr$activa/sim/1635\n",
      "  atr$geoentity:name@wikidata/\"https://www.wikidata.org/wiki/Q428587\"#\"\"\"Chingchiang, today Jingjiang, 靖江, @wikidata:Q428587, In the original book (Dehergne, 1973), it is written as \"Tsinkiang\" (without g), which is wrongly spelled, because from both phonetic and geographical points of view, it should be Tsingkiang 靖江. In Dehergne(1973), it is written as Tsingjiang. And in the Chinese translation, it is also recognized as \"靖江\".\"\"\"%Q428587/1644\n"
     ]
    }
   ],
   "source": [
    "place_kleio_id = \"deh-r1644-tsinkiang-tchou\"\n",
    "\n",
    "from timelink.api.models import Geoentity\n",
    "\n",
    "with tlnb.db.session() as session:\n",
    "    geo_place = session.get(Geoentity, place_kleio_id)\n",
    "    print(geo_place.to_kleio(width=60, show_contained=True))\n",
    "\n"
   ]
  },
  {
   "cell_type": "code",
   "execution_count": 62,
   "metadata": {},
   "outputs": [
    {
     "name": "stdout",
     "output_type": "stream",
     "text": [
      "<class 'pandas.core.frame.DataFrame'>\n",
      "RangeIndex: 215 entries, 0 to 214\n",
      "Data columns (total 12 columns):\n",
      " #   Column                Non-Null Count  Dtype \n",
      "---  ------                --------------  ----- \n",
      " 0   province              215 non-null    object\n",
      " 1   id                    215 non-null    object\n",
      " 2   level                 215 non-null    object\n",
      " 3   name                  215 non-null    object\n",
      " 4   name_original         215 non-null    object\n",
      " 5   province_wikidata_id  215 non-null    object\n",
      " 6   wikidata_id           215 non-null    object\n",
      " 7   comment               215 non-null    object\n",
      " 8   province_id           197 non-null    object\n",
      " 9   fou                   197 non-null    object\n",
      " 10  fou_wikidata_id       197 non-null    object\n",
      " 11  fou_id                135 non-null    object\n",
      "dtypes: object(12)\n",
      "memory usage: 20.3+ KB\n"
     ]
    },
    {
     "data": {
      "text/html": [
       "<div>\n",
       "<style scoped>\n",
       "    .dataframe tbody tr th:only-of-type {\n",
       "        vertical-align: middle;\n",
       "    }\n",
       "\n",
       "    .dataframe tbody tr th {\n",
       "        vertical-align: top;\n",
       "    }\n",
       "\n",
       "    .dataframe thead th {\n",
       "        text-align: right;\n",
       "    }\n",
       "</style>\n",
       "<table border=\"1\" class=\"dataframe\">\n",
       "  <thead>\n",
       "    <tr style=\"text-align: right;\">\n",
       "      <th></th>\n",
       "      <th>year</th>\n",
       "      <th>id</th>\n",
       "      <th>level</th>\n",
       "      <th>province</th>\n",
       "      <th>fou</th>\n",
       "      <th>name</th>\n",
       "      <th>name_original</th>\n",
       "      <th>province_wikidata_id</th>\n",
       "      <th>fou_wikidata_id</th>\n",
       "      <th>wikidata_id</th>\n",
       "      <th>comment</th>\n",
       "    </tr>\n",
       "  </thead>\n",
       "  <tbody>\n",
       "    <tr>\n",
       "      <th>89</th>\n",
       "      <td>1644</td>\n",
       "      <td>deh-r1644-chuchow-tcheou</td>\n",
       "      <td>fou</td>\n",
       "      <td>Anhwei</td>\n",
       "      <td>Chuchow</td>\n",
       "      <td>Chuchow</td>\n",
       "      <td>Chuchow%Chuchow, today Chuzhou, 滁州, @wikidata:...</td>\n",
       "      <td>Q40956</td>\n",
       "      <td>Q114045</td>\n",
       "      <td>Q114045</td>\n",
       "      <td>Chuchow, today Chuzhou, 滁州,</td>\n",
       "    </tr>\n",
       "    <tr>\n",
       "      <th>90</th>\n",
       "      <td>1644</td>\n",
       "      <td>deh-r1644-hweichow</td>\n",
       "      <td>fou</td>\n",
       "      <td>Anhwei</td>\n",
       "      <td>Hweichow</td>\n",
       "      <td>Hweichow</td>\n",
       "      <td>Hweichow#Hoei-tcheou, today Huizhou, 徽州, @wiki...</td>\n",
       "      <td>Q40956</td>\n",
       "      <td>Q4358404</td>\n",
       "      <td>Q4358404</td>\n",
       "      <td>Hoei-tcheou, today Huizhou, 徽州,</td>\n",
       "    </tr>\n",
       "    <tr>\n",
       "      <th>92</th>\n",
       "      <td>1644</td>\n",
       "      <td>deh-r1644-tungment</td>\n",
       "      <td>tcheou-hien</td>\n",
       "      <td>Anhwei</td>\n",
       "      <td>Hweichow</td>\n",
       "      <td>Tungmen</td>\n",
       "      <td>Tungmen#\"\"\"(?) In Dehergne(1957, p51): \"Chréti...</td>\n",
       "      <td>Q40956</td>\n",
       "      <td>Q4358404</td>\n",
       "      <td>No wikidata</td>\n",
       "      <td>(?) In Dehergne(1957, p51): \"Chrétienté au Wuy...</td>\n",
       "    </tr>\n",
       "    <tr>\n",
       "      <th>91</th>\n",
       "      <td>1644</td>\n",
       "      <td>deh-r1644-wuyan-hien</td>\n",
       "      <td>tcheou-hien</td>\n",
       "      <td>Anhwei</td>\n",
       "      <td>Hweichow</td>\n",
       "      <td>Wuyan hien</td>\n",
       "      <td>Wuyan hien#Ou-yuen, today Wuyuan Xian, 婺源县, @w...</td>\n",
       "      <td>Q40956</td>\n",
       "      <td>Q4358404</td>\n",
       "      <td>Q1357710</td>\n",
       "      <td>Ou-yuen, today Wuyuan Xian, 婺源县, , Wuyuan hist...</td>\n",
       "    </tr>\n",
       "    <tr>\n",
       "      <th>88</th>\n",
       "      <td>1644</td>\n",
       "      <td>deh-r1644-anhwei</td>\n",
       "      <td>province</td>\n",
       "      <td>Anhwei</td>\n",
       "      <td>NaN</td>\n",
       "      <td>Anhwei</td>\n",
       "      <td>Anhwei#Anhui, Ngon-hoei, today Anhui, 安徽, @wik...</td>\n",
       "      <td>Q40956</td>\n",
       "      <td>NaN</td>\n",
       "      <td>Q40956</td>\n",
       "      <td>Anhui, Ngon-hoei, today Anhui, 安徽,</td>\n",
       "    </tr>\n",
       "  </tbody>\n",
       "</table>\n",
       "</div>"
      ],
      "text/plain": [
       "    year                        id        level province       fou  \\\n",
       "89  1644  deh-r1644-chuchow-tcheou          fou   Anhwei   Chuchow   \n",
       "90  1644        deh-r1644-hweichow          fou   Anhwei  Hweichow   \n",
       "92  1644        deh-r1644-tungment  tcheou-hien   Anhwei  Hweichow   \n",
       "91  1644      deh-r1644-wuyan-hien  tcheou-hien   Anhwei  Hweichow   \n",
       "88  1644          deh-r1644-anhwei     province   Anhwei       NaN   \n",
       "\n",
       "          name                                      name_original  \\\n",
       "89     Chuchow  Chuchow%Chuchow, today Chuzhou, 滁州, @wikidata:...   \n",
       "90    Hweichow  Hweichow#Hoei-tcheou, today Huizhou, 徽州, @wiki...   \n",
       "92     Tungmen  Tungmen#\"\"\"(?) In Dehergne(1957, p51): \"Chréti...   \n",
       "91  Wuyan hien  Wuyan hien#Ou-yuen, today Wuyuan Xian, 婺源县, @w...   \n",
       "88      Anhwei  Anhwei#Anhui, Ngon-hoei, today Anhui, 安徽, @wik...   \n",
       "\n",
       "   province_wikidata_id fou_wikidata_id  wikidata_id  \\\n",
       "89               Q40956         Q114045      Q114045   \n",
       "90               Q40956        Q4358404     Q4358404   \n",
       "92               Q40956        Q4358404  No wikidata   \n",
       "91               Q40956        Q4358404     Q1357710   \n",
       "88               Q40956             NaN       Q40956   \n",
       "\n",
       "                                              comment  \n",
       "89                       Chuchow, today Chuzhou, 滁州,   \n",
       "90                   Hoei-tcheou, today Huizhou, 徽州,   \n",
       "92  (?) In Dehergne(1957, p51): \"Chrétienté au Wuy...  \n",
       "91  Ou-yuen, today Wuyuan Xian, 婺源县, , Wuyuan hist...  \n",
       "88                Anhui, Ngon-hoei, today Anhui, 安徽,   "
      ]
     },
     "execution_count": 62,
     "metadata": {},
     "output_type": "execute_result"
    }
   ],
   "source": [
    "pd.set_option('display.max_rows', 300)\n",
    "# create a dataframe from the list\n",
    "places_1644_df = pd.DataFrame(place_list)\n",
    "places_1644_df.info()\n",
    "places_1644_df['year'] = 1644\n",
    "cols=['year','id','level','province',  'fou','name', 'name_original', 'province_wikidata_id', 'fou_wikidata_id','wikidata_id', 'comment']\n",
    "places_1644_df[cols].sort_values(by=['province', 'fou', 'name']).head()"
   ]
  },
  {
   "cell_type": "markdown",
   "metadata": {},
   "source": [
    "Export list of residences in 1644 to a file and list of wikidata\n",
    "ids so they can be used to fetch coordinates and other information.\n",
    "\n",
    "Ensure that notebook `wikidata-linked-data.ipynb` is run after the next cell to update cache of linked data.\n"
   ]
  },
  {
   "cell_type": "code",
   "execution_count": 63,
   "metadata": {},
   "outputs": [],
   "source": [
    "places_1644_df.to_excel('../inferences/residences-1644.xlsx', index=False)\n",
    "# save to wikidata ids directory\n",
    "places_1644_df['wikidata_id'].to_csv('../inferences/wikidata-references/residences-1644.csv', index=False)"
   ]
  },
  {
   "cell_type": "markdown",
   "metadata": {},
   "source": [
    "### Link with wikidata data\n",
    "\n",
    "Requires that `wikidata-linked-data.ipynb` has been run first to generate the `locations_wikidata_info` file used here.\n"
   ]
  },
  {
   "cell_type": "code",
   "execution_count": 67,
   "metadata": {},
   "outputs": [
    {
     "name": "stdout",
     "output_type": "stream",
     "text": [
      "Loading locations wikidata info from ../inferences/wikidata-references/locations_wikidata_info.xlsx\n"
     ]
    },
    {
     "name": "stdout",
     "output_type": "stream",
     "text": [
      "Loading locations wikidata info from ../inferences/wikidata-references/locations_wikidata_info.xlsx\n"
     ]
    },
    {
     "data": {
      "text/html": [
       "<div>\n",
       "<style scoped>\n",
       "    .dataframe tbody tr th:only-of-type {\n",
       "        vertical-align: middle;\n",
       "    }\n",
       "\n",
       "    .dataframe tbody tr th {\n",
       "        vertical-align: top;\n",
       "    }\n",
       "\n",
       "    .dataframe thead th {\n",
       "        text-align: right;\n",
       "    }\n",
       "</style>\n",
       "<table border=\"1\" class=\"dataframe\">\n",
       "  <thead>\n",
       "    <tr style=\"text-align: right;\">\n",
       "      <th></th>\n",
       "      <th>level</th>\n",
       "      <th>province</th>\n",
       "      <th>fou</th>\n",
       "      <th>name</th>\n",
       "      <th>wikidata_id</th>\n",
       "      <th>coordinates</th>\n",
       "      <th>latitude</th>\n",
       "      <th>longitude</th>\n",
       "      <th>comment</th>\n",
       "      <th>province_wikidata_id</th>\n",
       "      <th>fou_wikidata_id</th>\n",
       "    </tr>\n",
       "  </thead>\n",
       "  <tbody>\n",
       "    <tr>\n",
       "      <th>89</th>\n",
       "      <td>fou</td>\n",
       "      <td>Anhwei</td>\n",
       "      <td>Chuchow</td>\n",
       "      <td>Chuchow</td>\n",
       "      <td>Q114045</td>\n",
       "      <td>(32.30621, 118.31148)</td>\n",
       "      <td>32.30621</td>\n",
       "      <td>118.31148</td>\n",
       "      <td>Chuchow, hoje:Chuzhou, 滁州,</td>\n",
       "      <td>Q40956</td>\n",
       "      <td>Q114045</td>\n",
       "    </tr>\n",
       "    <tr>\n",
       "      <th>90</th>\n",
       "      <td>fou</td>\n",
       "      <td>Anhwei</td>\n",
       "      <td>Hweichow</td>\n",
       "      <td>Hweichow</td>\n",
       "      <td>Q4358404</td>\n",
       "      <td>(29.869722222222222, 118.42194444444445)</td>\n",
       "      <td>29.86972222222222</td>\n",
       "      <td>118.4219444444444</td>\n",
       "      <td>Hoei-tcheou, hoje:Huizhou, 徽州,</td>\n",
       "      <td>Q40956</td>\n",
       "      <td>Q4358404</td>\n",
       "    </tr>\n",
       "    <tr>\n",
       "      <th>92</th>\n",
       "      <td>tcheou-hien</td>\n",
       "      <td>Anhwei</td>\n",
       "      <td>Hweichow</td>\n",
       "      <td>Tungmen</td>\n",
       "      <td>No wikidata</td>\n",
       "      <td>NaN</td>\n",
       "      <td>NaN</td>\n",
       "      <td>NaN</td>\n",
       "      <td></td>\n",
       "      <td>Q40956</td>\n",
       "      <td>Q4358404</td>\n",
       "    </tr>\n",
       "    <tr>\n",
       "      <th>91</th>\n",
       "      <td>tcheou-hien</td>\n",
       "      <td>Anhwei</td>\n",
       "      <td>Hweichow</td>\n",
       "      <td>Wuyan hien</td>\n",
       "      <td>Q1357710</td>\n",
       "      <td>(29.25, 117.85)</td>\n",
       "      <td>29.25</td>\n",
       "      <td>117.85</td>\n",
       "      <td>Ou-yuen, hoje:Wuyuan Xian, 婺源县, , Wuyuan histo...</td>\n",
       "      <td>Q40956</td>\n",
       "      <td>Q4358404</td>\n",
       "    </tr>\n",
       "    <tr>\n",
       "      <th>88</th>\n",
       "      <td>province</td>\n",
       "      <td>Anhwei</td>\n",
       "      <td>NaN</td>\n",
       "      <td>Anhwei</td>\n",
       "      <td>Q40956</td>\n",
       "      <td>(31.833333333333, 117)</td>\n",
       "      <td>31.833333333333</td>\n",
       "      <td>117</td>\n",
       "      <td>Anhui, Ngon-hoei, hoje:Anhui, 安徽,</td>\n",
       "      <td>Q40956</td>\n",
       "      <td>NaN</td>\n",
       "    </tr>\n",
       "    <tr>\n",
       "      <th>4</th>\n",
       "      <td>fou</td>\n",
       "      <td>Chekiang</td>\n",
       "      <td>Chüchow</td>\n",
       "      <td>Chüchow</td>\n",
       "      <td>Q58235</td>\n",
       "      <td>(28.95445, 118.8763)</td>\n",
       "      <td>28.95445</td>\n",
       "      <td>118.8763</td>\n",
       "      <td>K'iu-tcheou, hoje:Quzhou, 衢州, , in the Chinese...</td>\n",
       "      <td>Q16967</td>\n",
       "      <td>Q58235</td>\n",
       "    </tr>\n",
       "    <tr>\n",
       "      <th>2</th>\n",
       "      <td>tcheou-hien</td>\n",
       "      <td>Chekiang</td>\n",
       "      <td>Hangchou</td>\n",
       "      <td>Fuyang</td>\n",
       "      <td>Q1011103</td>\n",
       "      <td>(30.04998, 119.93697)</td>\n",
       "      <td>30.04998</td>\n",
       "      <td>119.93697</td>\n",
       "      <td>Fou-yang, hoje:Fuyang, 富阳,</td>\n",
       "      <td>Q16967</td>\n",
       "      <td>Q4970</td>\n",
       "    </tr>\n",
       "    <tr>\n",
       "      <th>1</th>\n",
       "      <td>fou</td>\n",
       "      <td>Chekiang</td>\n",
       "      <td>Hangchou</td>\n",
       "      <td>Hangchou</td>\n",
       "      <td>Q4970</td>\n",
       "      <td>(30.25, 120.1675)</td>\n",
       "      <td>30.25</td>\n",
       "      <td>120.1675</td>\n",
       "      <td>Hang-tcheou, hoje: Hangzhou, 杭州,</td>\n",
       "      <td>Q16967</td>\n",
       "      <td>Q4970</td>\n",
       "    </tr>\n",
       "    <tr>\n",
       "      <th>3</th>\n",
       "      <td>tcheou-hien</td>\n",
       "      <td>Chekiang</td>\n",
       "      <td>Hangchou</td>\n",
       "      <td>Jenho</td>\n",
       "      <td>Q9385136</td>\n",
       "      <td>NaN</td>\n",
       "      <td>NaN</td>\n",
       "      <td>NaN</td>\n",
       "      <td>Jen-houo, hoje: Renhe, 仁和县 (), Historical coun...</td>\n",
       "      <td>Q16967</td>\n",
       "      <td>Q4970</td>\n",
       "    </tr>\n",
       "    <tr>\n",
       "      <th>5</th>\n",
       "      <td>fou</td>\n",
       "      <td>Chekiang</td>\n",
       "      <td>Huchow</td>\n",
       "      <td>Huchow</td>\n",
       "      <td>Q42664</td>\n",
       "      <td>(30.8925, 120.0875)</td>\n",
       "      <td>30.8925</td>\n",
       "      <td>120.0875</td>\n",
       "      <td>Hou-tcheou, hoje: Huzhou, 湖州,</td>\n",
       "      <td>Q16967</td>\n",
       "      <td>Q42664</td>\n",
       "    </tr>\n",
       "    <tr>\n",
       "      <th>6</th>\n",
       "      <td>tcheou-hien</td>\n",
       "      <td>Chekiang</td>\n",
       "      <td>Huchow</td>\n",
       "      <td>Tehtsing</td>\n",
       "      <td>Q1191987</td>\n",
       "      <td>(30.53808, 119.96297)</td>\n",
       "      <td>30.53808</td>\n",
       "      <td>119.96297</td>\n",
       "      <td>\"Tehtsing du Huchow, Té-ts'ingTeching# hoje: D...</td>\n",
       "      <td>Q16967</td>\n",
       "      <td>Q42664</td>\n",
       "    </tr>\n",
       "    <tr>\n",
       "      <th>8</th>\n",
       "      <td>tcheou-hien</td>\n",
       "      <td>Chekiang</td>\n",
       "      <td>Kashing</td>\n",
       "      <td>Kashan</td>\n",
       "      <td>Q1361347</td>\n",
       "      <td>(30.84525, 120.9164)</td>\n",
       "      <td>30.84525</td>\n",
       "      <td>120.9164</td>\n",
       "      <td>Kia-chan, hoje: Jiashan, 嘉善, Kaosham</td>\n",
       "      <td>Q16967</td>\n",
       "      <td>Q58178</td>\n",
       "    </tr>\n",
       "    <tr>\n",
       "      <th>7</th>\n",
       "      <td>fou</td>\n",
       "      <td>Chekiang</td>\n",
       "      <td>Kashing</td>\n",
       "      <td>Kashing</td>\n",
       "      <td>Q58178</td>\n",
       "      <td>(30.7522, 120.75)</td>\n",
       "      <td>30.7522</td>\n",
       "      <td>120.75</td>\n",
       "      <td>Kia-hing, hoje:Jiaxing, 嘉兴,</td>\n",
       "      <td>Q16967</td>\n",
       "      <td>Q58178</td>\n",
       "    </tr>\n",
       "    <tr>\n",
       "      <th>9</th>\n",
       "      <td>tcheou-hien</td>\n",
       "      <td>Chekiang</td>\n",
       "      <td>Kashing</td>\n",
       "      <td>Tangsi</td>\n",
       "      <td>Q10931032</td>\n",
       "      <td>(30.4783, 120.18254)</td>\n",
       "      <td>30.4783</td>\n",
       "      <td>120.18254</td>\n",
       "      <td>\"T'ang-k'i Tangchi\", hoje:Tangqi, 塘栖 , in the ...</td>\n",
       "      <td>Q16967</td>\n",
       "      <td>Q58178</td>\n",
       "    </tr>\n",
       "    <tr>\n",
       "      <th>10</th>\n",
       "      <td>tcheou-hien</td>\n",
       "      <td>Chekiang</td>\n",
       "      <td>Kashing</td>\n",
       "      <td>Tsungteh</td>\n",
       "      <td>Q10270889</td>\n",
       "      <td>(30.530555555555555, 120.43555555555555)</td>\n",
       "      <td>30.53055555555556</td>\n",
       "      <td>120.4355555555556</td>\n",
       "      <td>Tch'ong-té,hoje: Chongde, 崇德县 , Historical cou...</td>\n",
       "      <td>Q16967</td>\n",
       "      <td>Q58178</td>\n",
       "    </tr>\n",
       "    <tr>\n",
       "      <th>11</th>\n",
       "      <td>tcheou-hien</td>\n",
       "      <td>Chekiang</td>\n",
       "      <td>Kashing</td>\n",
       "      <td>Tungsiang</td>\n",
       "      <td>Q1204548</td>\n",
       "      <td>(30.6326, 120.54744)</td>\n",
       "      <td>30.6326</td>\n",
       "      <td>120.54744</td>\n",
       "      <td>T'ong-hiang, hoje:Tongxiang, 桐乡,</td>\n",
       "      <td>Q16967</td>\n",
       "      <td>Q58178</td>\n",
       "    </tr>\n",
       "    <tr>\n",
       "      <th>12</th>\n",
       "      <td>fou</td>\n",
       "      <td>Chekiang</td>\n",
       "      <td>Kinhwa</td>\n",
       "      <td>Kinhwa</td>\n",
       "      <td>Q58210</td>\n",
       "      <td>(29.10462, 119.64937)</td>\n",
       "      <td>29.10462</td>\n",
       "      <td>119.64937</td>\n",
       "      <td>Kin-hoa,Chinhua,hoje:Jinhua, 金华,</td>\n",
       "      <td>Q16967</td>\n",
       "      <td>Q58210</td>\n",
       "    </tr>\n",
       "    <tr>\n",
       "      <th>13</th>\n",
       "      <td>tcheou-hien</td>\n",
       "      <td>Chekiang</td>\n",
       "      <td>Kinhwa</td>\n",
       "      <td>Lanchi</td>\n",
       "      <td>Q1023793</td>\n",
       "      <td>(29.216667, 119.472222)</td>\n",
       "      <td>29.216667</td>\n",
       "      <td>119.472222</td>\n",
       "      <td>(qui deviendra em 1656 R des OP)Lan-k'i， hoje:...</td>\n",
       "      <td>Q16967</td>\n",
       "      <td>Q58210</td>\n",
       "    </tr>\n",
       "    <tr>\n",
       "      <th>14</th>\n",
       "      <td>tcheou-hien</td>\n",
       "      <td>Chekiang</td>\n",
       "      <td>Kinhwa</td>\n",
       "      <td>Tungyang</td>\n",
       "      <td>Q1023774</td>\n",
       "      <td>(29.27853, 120.22822)</td>\n",
       "      <td>29.27853</td>\n",
       "      <td>120.22822</td>\n",
       "      <td>Tong-yang, hoje:Dongyang, 东阳,</td>\n",
       "      <td>Q16967</td>\n",
       "      <td>Q58210</td>\n",
       "    </tr>\n",
       "    <tr>\n",
       "      <th>15</th>\n",
       "      <td>fou</td>\n",
       "      <td>Chekiang</td>\n",
       "      <td>Ningpo</td>\n",
       "      <td>Ningpo</td>\n",
       "      <td>Q42780</td>\n",
       "      <td>(29.875, 121.54916666667)</td>\n",
       "      <td>29.875</td>\n",
       "      <td>121.54916666667</td>\n",
       "      <td>(v. 1540?)Ning-pouo,hoje: Ningbo, 宁波,</td>\n",
       "      <td>Q16967</td>\n",
       "      <td>Q42780</td>\n",
       "    </tr>\n",
       "  </tbody>\n",
       "</table>\n",
       "</div>"
      ],
      "text/plain": [
       "          level  province       fou        name  wikidata_id  \\\n",
       "89          fou    Anhwei   Chuchow     Chuchow      Q114045   \n",
       "90          fou    Anhwei  Hweichow    Hweichow     Q4358404   \n",
       "92  tcheou-hien    Anhwei  Hweichow     Tungmen  No wikidata   \n",
       "91  tcheou-hien    Anhwei  Hweichow  Wuyan hien     Q1357710   \n",
       "88     province    Anhwei       NaN      Anhwei       Q40956   \n",
       "4           fou  Chekiang   Chüchow     Chüchow       Q58235   \n",
       "2   tcheou-hien  Chekiang  Hangchou      Fuyang     Q1011103   \n",
       "1           fou  Chekiang  Hangchou    Hangchou        Q4970   \n",
       "3   tcheou-hien  Chekiang  Hangchou       Jenho     Q9385136   \n",
       "5           fou  Chekiang    Huchow      Huchow       Q42664   \n",
       "6   tcheou-hien  Chekiang    Huchow    Tehtsing     Q1191987   \n",
       "8   tcheou-hien  Chekiang   Kashing      Kashan     Q1361347   \n",
       "7           fou  Chekiang   Kashing     Kashing       Q58178   \n",
       "9   tcheou-hien  Chekiang   Kashing      Tangsi    Q10931032   \n",
       "10  tcheou-hien  Chekiang   Kashing    Tsungteh    Q10270889   \n",
       "11  tcheou-hien  Chekiang   Kashing   Tungsiang     Q1204548   \n",
       "12          fou  Chekiang    Kinhwa      Kinhwa       Q58210   \n",
       "13  tcheou-hien  Chekiang    Kinhwa      Lanchi     Q1023793   \n",
       "14  tcheou-hien  Chekiang    Kinhwa    Tungyang     Q1023774   \n",
       "15          fou  Chekiang    Ningpo      Ningpo       Q42780   \n",
       "\n",
       "                                 coordinates           latitude  \\\n",
       "89                     (32.30621, 118.31148)           32.30621   \n",
       "90  (29.869722222222222, 118.42194444444445)  29.86972222222222   \n",
       "92                                       NaN                NaN   \n",
       "91                           (29.25, 117.85)              29.25   \n",
       "88                    (31.833333333333, 117)    31.833333333333   \n",
       "4                       (28.95445, 118.8763)           28.95445   \n",
       "2                      (30.04998, 119.93697)           30.04998   \n",
       "1                          (30.25, 120.1675)              30.25   \n",
       "3                                        NaN                NaN   \n",
       "5                        (30.8925, 120.0875)            30.8925   \n",
       "6                      (30.53808, 119.96297)           30.53808   \n",
       "8                       (30.84525, 120.9164)           30.84525   \n",
       "7                          (30.7522, 120.75)            30.7522   \n",
       "9                       (30.4783, 120.18254)            30.4783   \n",
       "10  (30.530555555555555, 120.43555555555555)  30.53055555555556   \n",
       "11                      (30.6326, 120.54744)            30.6326   \n",
       "12                     (29.10462, 119.64937)           29.10462   \n",
       "13                   (29.216667, 119.472222)          29.216667   \n",
       "14                     (29.27853, 120.22822)           29.27853   \n",
       "15                 (29.875, 121.54916666667)             29.875   \n",
       "\n",
       "            longitude                                            comment  \\\n",
       "89          118.31148                        Chuchow, hoje:Chuzhou, 滁州,    \n",
       "90  118.4219444444444                    Hoei-tcheou, hoje:Huizhou, 徽州,    \n",
       "92                NaN                                                      \n",
       "91             117.85  Ou-yuen, hoje:Wuyuan Xian, 婺源县, , Wuyuan histo...   \n",
       "88                117                 Anhui, Ngon-hoei, hoje:Anhui, 安徽,    \n",
       "4            118.8763  K'iu-tcheou, hoje:Quzhou, 衢州, , in the Chinese...   \n",
       "2           119.93697                        Fou-yang, hoje:Fuyang, 富阳,    \n",
       "1            120.1675                  Hang-tcheou, hoje: Hangzhou, 杭州,    \n",
       "3                 NaN  Jen-houo, hoje: Renhe, 仁和县 (), Historical coun...   \n",
       "5            120.0875                     Hou-tcheou, hoje: Huzhou, 湖州,    \n",
       "6           119.96297  \"Tehtsing du Huchow, Té-ts'ingTeching# hoje: D...   \n",
       "8            120.9164               Kia-chan, hoje: Jiashan, 嘉善, Kaosham   \n",
       "7              120.75                       Kia-hing, hoje:Jiaxing, 嘉兴,    \n",
       "9           120.18254  \"T'ang-k'i Tangchi\", hoje:Tangqi, 塘栖 , in the ...   \n",
       "10  120.4355555555556  Tch'ong-té,hoje: Chongde, 崇德县 , Historical cou...   \n",
       "11          120.54744                  T'ong-hiang, hoje:Tongxiang, 桐乡,    \n",
       "12          119.64937                  Kin-hoa,Chinhua,hoje:Jinhua, 金华,    \n",
       "13         119.472222  (qui deviendra em 1656 R des OP)Lan-k'i， hoje:...   \n",
       "14          120.22822                     Tong-yang, hoje:Dongyang, 东阳,    \n",
       "15    121.54916666667             (v. 1540?)Ning-pouo,hoje: Ningbo, 宁波,    \n",
       "\n",
       "   province_wikidata_id fou_wikidata_id  \n",
       "89               Q40956         Q114045  \n",
       "90               Q40956        Q4358404  \n",
       "92               Q40956        Q4358404  \n",
       "91               Q40956        Q4358404  \n",
       "88               Q40956             NaN  \n",
       "4                Q16967          Q58235  \n",
       "2                Q16967           Q4970  \n",
       "1                Q16967           Q4970  \n",
       "3                Q16967           Q4970  \n",
       "5                Q16967          Q42664  \n",
       "6                Q16967          Q42664  \n",
       "8                Q16967          Q58178  \n",
       "7                Q16967          Q58178  \n",
       "9                Q16967          Q58178  \n",
       "10               Q16967          Q58178  \n",
       "11               Q16967          Q58178  \n",
       "12               Q16967          Q58210  \n",
       "13               Q16967          Q58210  \n",
       "14               Q16967          Q58210  \n",
       "15               Q16967          Q42780  "
      ]
     },
     "execution_count": 67,
     "metadata": {},
     "output_type": "execute_result"
    }
   ],
   "source": [
    "# load wikidata data\n",
    "from dehergne_util import locations_wikidata_info_file\n",
    "\n",
    "# load the locations wikidata info from xlsx file\n",
    "print(\"Loading locations wikidata info from\", locations_wikidata_info_file)\n",
    "locations_wikidata_info = pd.read_excel(locations_wikidata_info_file, dtype=str)\n",
    "locations_wikidata_info.set_index('wikidata_id', inplace=True)\n",
    "\n",
    "# merge the two dataframes\n",
    "merged_df = pd.merge(places_1644_df, locations_wikidata_info, on='wikidata_id', how='left')\n",
    "cols = ['level', 'province', 'fou', 'name', 'wikidata_id', 'coordinates','latitude','longitude','comment', 'province_wikidata_id', 'fou_wikidata_id']\n",
    "merged_df[cols].sort_values(by=['province', 'fou', 'name']).head(20)"
   ]
  },
  {
   "cell_type": "markdown",
   "metadata": {},
   "source": [
    "Missing coordinates"
   ]
  },
  {
   "cell_type": "code",
   "execution_count": 60,
   "metadata": {},
   "outputs": [
    {
     "name": "stdout",
     "output_type": "stream",
     "text": [
      "Rows with missing coordinates (34):\n"
     ]
    },
    {
     "data": {
      "text/html": [
       "<div>\n",
       "<style scoped>\n",
       "    .dataframe tbody tr th:only-of-type {\n",
       "        vertical-align: middle;\n",
       "    }\n",
       "\n",
       "    .dataframe tbody tr th {\n",
       "        vertical-align: top;\n",
       "    }\n",
       "\n",
       "    .dataframe thead th {\n",
       "        text-align: right;\n",
       "    }\n",
       "</style>\n",
       "<table border=\"1\" class=\"dataframe\">\n",
       "  <thead>\n",
       "    <tr style=\"text-align: right;\">\n",
       "      <th></th>\n",
       "      <th>level</th>\n",
       "      <th>province</th>\n",
       "      <th>fou</th>\n",
       "      <th>name</th>\n",
       "      <th>wikidata_id</th>\n",
       "      <th>coordinates</th>\n",
       "      <th>latitude</th>\n",
       "      <th>longitude</th>\n",
       "      <th>comment</th>\n",
       "      <th>province_wikidata_id</th>\n",
       "      <th>fou_wikidata_id</th>\n",
       "    </tr>\n",
       "  </thead>\n",
       "  <tbody>\n",
       "    <tr>\n",
       "      <th>92</th>\n",
       "      <td>tcheou-hien</td>\n",
       "      <td>Anhwei</td>\n",
       "      <td>Hweichow</td>\n",
       "      <td>Tungmen</td>\n",
       "      <td>No wikidata</td>\n",
       "      <td>NaN</td>\n",
       "      <td>NaN</td>\n",
       "      <td>NaN</td>\n",
       "      <td></td>\n",
       "      <td>Q40956</td>\n",
       "      <td>Q4358404</td>\n",
       "    </tr>\n",
       "    <tr>\n",
       "      <th>3</th>\n",
       "      <td>tcheou-hien</td>\n",
       "      <td>Chekiang</td>\n",
       "      <td>Hangchou</td>\n",
       "      <td>Jenho</td>\n",
       "      <td>Q9385136</td>\n",
       "      <td>NaN</td>\n",
       "      <td>NaN</td>\n",
       "      <td>NaN</td>\n",
       "      <td>Jen-houo, hoje: Renhe, 仁和县 (), Historical coun...</td>\n",
       "      <td>Q16967</td>\n",
       "      <td>Q4970</td>\n",
       "    </tr>\n",
       "    <tr>\n",
       "      <th>16</th>\n",
       "      <td>tcheou-hien</td>\n",
       "      <td>Chekiang</td>\n",
       "      <td>Ningpo</td>\n",
       "      <td>Wuking</td>\n",
       "      <td>No wikidata</td>\n",
       "      <td>NaN</td>\n",
       "      <td>NaN</td>\n",
       "      <td>NaN</td>\n",
       "      <td>Uchim,Ou kin, hoje:? Dehergne(1957) did not gi...</td>\n",
       "      <td>Q16967</td>\n",
       "      <td>Q42780</td>\n",
       "    </tr>\n",
       "    <tr>\n",
       "      <th>33</th>\n",
       "      <td>tcheou-hien</td>\n",
       "      <td>Fukien</td>\n",
       "      <td>Changchow</td>\n",
       "      <td>Aupua</td>\n",
       "      <td>Q14420305</td>\n",
       "      <td>NaN</td>\n",
       "      <td>NaN</td>\n",
       "      <td>NaN</td>\n",
       "      <td>hoje: Houban, 后坂 (), (@geonames:1977135)Au-poa...</td>\n",
       "      <td>Q41705</td>\n",
       "      <td>Q68814</td>\n",
       "    </tr>\n",
       "    <tr>\n",
       "      <th>28</th>\n",
       "      <td>tcheou-hien</td>\n",
       "      <td>Fukien</td>\n",
       "      <td>Foochow</td>\n",
       "      <td>Niensien</td>\n",
       "      <td>No wikidata</td>\n",
       "      <td>NaN</td>\n",
       "      <td>NaN</td>\n",
       "      <td>NaN</td>\n",
       "      <td>Dehergne(1957, p30): \"A côté de Hai keu on c...</td>\n",
       "      <td>Q41705</td>\n",
       "      <td>Q68481</td>\n",
       "    </tr>\n",
       "    <tr>\n",
       "      <th>45</th>\n",
       "      <td>tcheou-hien</td>\n",
       "      <td>Fukien</td>\n",
       "      <td>Funing</td>\n",
       "      <td>Tingteo</td>\n",
       "      <td>No wikidata</td>\n",
       "      <td>NaN</td>\n",
       "      <td>NaN</td>\n",
       "      <td>NaN</td>\n",
       "      <td>藤头？顶头？ in the Chinese translation it is recogn...</td>\n",
       "      <td>Q41705</td>\n",
       "      <td>Q241877</td>\n",
       "    </tr>\n",
       "    <tr>\n",
       "      <th>66</th>\n",
       "      <td>tcheou-hien</td>\n",
       "      <td>Fukien</td>\n",
       "      <td>Taiwan</td>\n",
       "      <td>Camarri</td>\n",
       "      <td>No wikidata</td>\n",
       "      <td>NaN</td>\n",
       "      <td>NaN</td>\n",
       "      <td>NaN</td>\n",
       "      <td>hoje:Jinbaoli, 金包里, in the Chinese translation...</td>\n",
       "      <td>Q41705</td>\n",
       "      <td>Q22502</td>\n",
       "    </tr>\n",
       "    <tr>\n",
       "      <th>65</th>\n",
       "      <td>tcheou-hien</td>\n",
       "      <td>Fukien</td>\n",
       "      <td>Taiwan</td>\n",
       "      <td>Taparri</td>\n",
       "      <td>Q7420445</td>\n",
       "      <td>NaN</td>\n",
       "      <td>NaN</td>\n",
       "      <td>NaN</td>\n",
       "      <td>\"\"\"hoje：大包里 in the Chinese translation it is r...</td>\n",
       "      <td>Q41705</td>\n",
       "      <td>Q22502</td>\n",
       "    </tr>\n",
       "    <tr>\n",
       "      <th>81</th>\n",
       "      <td>tcheou-hien</td>\n",
       "      <td>Hukwang</td>\n",
       "      <td>Kingchow</td>\n",
       "      <td>Meng kia k'i</td>\n",
       "      <td>No wikidata</td>\n",
       "      <td>NaN</td>\n",
       "      <td>NaN</td>\n",
       "      <td>NaN</td>\n",
       "      <td></td>\n",
       "      <td>Q1014420</td>\n",
       "      <td>Q14135188</td>\n",
       "    </tr>\n",
       "    <tr>\n",
       "      <th>86</th>\n",
       "      <td>tcheou-hien</td>\n",
       "      <td>Hunan</td>\n",
       "      <td>Yungchow</td>\n",
       "      <td>Paishui</td>\n",
       "      <td>No wikidata</td>\n",
       "      <td>NaN</td>\n",
       "      <td>NaN</td>\n",
       "      <td>NaN</td>\n",
       "      <td></td>\n",
       "      <td>Q45761</td>\n",
       "      <td>Q266014</td>\n",
       "    </tr>\n",
       "    <tr>\n",
       "      <th>87</th>\n",
       "      <td>province</td>\n",
       "      <td>Kiangnan</td>\n",
       "      <td>NaN</td>\n",
       "      <td>Kiangnan</td>\n",
       "      <td>Q11133842</td>\n",
       "      <td>NaN</td>\n",
       "      <td>NaN</td>\n",
       "      <td>NaN</td>\n",
       "      <td>Jiangnan?hoje:Jiangnan, 江南, , former province ...</td>\n",
       "      <td>Q11133842</td>\n",
       "      <td>NaN</td>\n",
       "    </tr>\n",
       "    <tr>\n",
       "      <th>102</th>\n",
       "      <td>tcheou-hien</td>\n",
       "      <td>Kiangsu</td>\n",
       "      <td>Changchow</td>\n",
       "      <td>Wutsin</td>\n",
       "      <td>No wikidata</td>\n",
       "      <td>NaN</td>\n",
       "      <td>NaN</td>\n",
       "      <td>NaN</td>\n",
       "      <td>?</td>\n",
       "      <td>Q16963</td>\n",
       "      <td>Q57970</td>\n",
       "    </tr>\n",
       "    <tr>\n",
       "      <th>96</th>\n",
       "      <td>tcheou-hien</td>\n",
       "      <td>Kiangsu</td>\n",
       "      <td>Nanking</td>\n",
       "      <td>Kaowang</td>\n",
       "      <td>Q13721719</td>\n",
       "      <td>NaN</td>\n",
       "      <td>NaN</td>\n",
       "      <td>NaN</td>\n",
       "      <td>hoje: Gaowang, 高旺, , in the Chinese translatio...</td>\n",
       "      <td>Q16963</td>\n",
       "      <td>Q16666</td>\n",
       "    </tr>\n",
       "    <tr>\n",
       "      <th>107</th>\n",
       "      <td>tcheou-hien</td>\n",
       "      <td>Kiangsu</td>\n",
       "      <td>Soochow</td>\n",
       "      <td>Changshu</td>\n",
       "      <td>Q113497198</td>\n",
       "      <td>NaN</td>\n",
       "      <td>NaN</td>\n",
       "      <td>NaN</td>\n",
       "      <td>hoje:Wuxian, 吴县, , fomer city in Jiangsu</td>\n",
       "      <td>Q16963</td>\n",
       "      <td>Q42622</td>\n",
       "    </tr>\n",
       "    <tr>\n",
       "      <th>111</th>\n",
       "      <td>tcheou-hien</td>\n",
       "      <td>Kiangsu</td>\n",
       "      <td>Sungkiang</td>\n",
       "      <td>Kaokia</td>\n",
       "      <td>No wikidata</td>\n",
       "      <td>NaN</td>\n",
       "      <td>NaN</td>\n",
       "      <td>NaN</td>\n",
       "      <td>hoje: Gaojia, 高家, in the Chinese translation i...</td>\n",
       "      <td>Q16963</td>\n",
       "      <td>Q11104671</td>\n",
       "    </tr>\n",
       "    <tr>\n",
       "      <th>112</th>\n",
       "      <td>tcheou-hien</td>\n",
       "      <td>Kiangsu</td>\n",
       "      <td>Sungkiang</td>\n",
       "      <td>Mo ka pang</td>\n",
       "      <td>No wikidata</td>\n",
       "      <td>NaN</td>\n",
       "      <td>NaN</td>\n",
       "      <td>NaN</td>\n",
       "      <td>Ma kia pim, hoje: Majiabang, 马家浜, in the Chine...</td>\n",
       "      <td>Q16963</td>\n",
       "      <td>Q11104671</td>\n",
       "    </tr>\n",
       "    <tr>\n",
       "      <th>123</th>\n",
       "      <td>tcheou-hien</td>\n",
       "      <td>Kiangsu</td>\n",
       "      <td>Yangchow</td>\n",
       "      <td>Fushan</td>\n",
       "      <td>No wikidata</td>\n",
       "      <td>NaN</td>\n",
       "      <td>NaN</td>\n",
       "      <td>NaN</td>\n",
       "      <td>hoje: Fushan, 福山村, 31.800210981845982N, 120.76...</td>\n",
       "      <td>Q16963</td>\n",
       "      <td>Q57906</td>\n",
       "    </tr>\n",
       "    <tr>\n",
       "      <th>139</th>\n",
       "      <td>tcheou-hien</td>\n",
       "      <td>Kwangtung</td>\n",
       "      <td>Cantão</td>\n",
       "      <td>Quon yao</td>\n",
       "      <td>No wikidata</td>\n",
       "      <td>NaN</td>\n",
       "      <td>NaN</td>\n",
       "      <td>NaN</td>\n",
       "      <td>hoje: Guanyao, 官窑, In the Chinses translation ...</td>\n",
       "      <td>Q15175</td>\n",
       "      <td>Q16572</td>\n",
       "    </tr>\n",
       "    <tr>\n",
       "      <th>143</th>\n",
       "      <td>tcheou-hien</td>\n",
       "      <td>Kwangtung</td>\n",
       "      <td>Kiungchow</td>\n",
       "      <td>Bankao</td>\n",
       "      <td>No wikidata</td>\n",
       "      <td>NaN</td>\n",
       "      <td>NaN</td>\n",
       "      <td>NaN</td>\n",
       "      <td>hoje:Xiangou, 仙沟, In the Chinese translation i...</td>\n",
       "      <td>Q15175</td>\n",
       "      <td>Q1081204</td>\n",
       "    </tr>\n",
       "    <tr>\n",
       "      <th>151</th>\n",
       "      <td>tcheou-hien</td>\n",
       "      <td>Kwangtung</td>\n",
       "      <td>Schiuchow</td>\n",
       "      <td>Hwanghsiaping</td>\n",
       "      <td>No wikidata</td>\n",
       "      <td>NaN</td>\n",
       "      <td>NaN</td>\n",
       "      <td>NaN</td>\n",
       "      <td>Hwanghsiaping, hoje: Vankaxen, 黄下坪？, In the Ch...</td>\n",
       "      <td>Q15175</td>\n",
       "      <td>Q1346617</td>\n",
       "    </tr>\n",
       "    <tr>\n",
       "      <th>150</th>\n",
       "      <td>tcheou-hien</td>\n",
       "      <td>Kwangtung</td>\n",
       "      <td>Schiuchow</td>\n",
       "      <td>Hwangtsun</td>\n",
       "      <td>No wikidata</td>\n",
       "      <td>NaN</td>\n",
       "      <td>NaN</td>\n",
       "      <td>NaN</td>\n",
       "      <td>Vançun, hoje: Huangcun, 黄村, coordinates: 24.90...</td>\n",
       "      <td>Q15175</td>\n",
       "      <td>Q1346617</td>\n",
       "    </tr>\n",
       "    <tr>\n",
       "      <th>148</th>\n",
       "      <td>tcheou-hien</td>\n",
       "      <td>Kwangtung</td>\n",
       "      <td>Schiuchow</td>\n",
       "      <td>Makia</td>\n",
       "      <td>No wikidata</td>\n",
       "      <td>NaN</td>\n",
       "      <td>NaN</td>\n",
       "      <td>NaN</td>\n",
       "      <td>Machia, hoje: Majia, 马家, Dehergne(1957) said M...</td>\n",
       "      <td>Q15175</td>\n",
       "      <td>Q1346617</td>\n",
       "    </tr>\n",
       "    <tr>\n",
       "      <th>152</th>\n",
       "      <td>tcheou-hien</td>\n",
       "      <td>Kwangtung</td>\n",
       "      <td>Schiuchow</td>\n",
       "      <td>Motikang</td>\n",
       "      <td>No wikidata</td>\n",
       "      <td>NaN</td>\n",
       "      <td>NaN</td>\n",
       "      <td>NaN</td>\n",
       "      <td>Mochi, hoje: Madigang, 麻地岗, In the Chinese tra...</td>\n",
       "      <td>Q15175</td>\n",
       "      <td>Q1346617</td>\n",
       "    </tr>\n",
       "    <tr>\n",
       "      <th>149</th>\n",
       "      <td>tcheou-hien</td>\n",
       "      <td>Kwangtung</td>\n",
       "      <td>Schiuchow</td>\n",
       "      <td>Tsintsun</td>\n",
       "      <td>No wikidata</td>\n",
       "      <td>NaN</td>\n",
       "      <td>NaN</td>\n",
       "      <td>NaN</td>\n",
       "      <td>Cinçun, hoje: Jingcun, 靖村, coordinates:24.8404...</td>\n",
       "      <td>Q15175</td>\n",
       "      <td>Q1346617</td>\n",
       "    </tr>\n",
       "    <tr>\n",
       "      <th>153</th>\n",
       "      <td>tcheou-hien</td>\n",
       "      <td>Kwangtung</td>\n",
       "      <td>Schiuchow</td>\n",
       "      <td>Yangsiang</td>\n",
       "      <td>No wikidata</td>\n",
       "      <td>NaN</td>\n",
       "      <td>NaN</td>\n",
       "      <td>NaN</td>\n",
       "      <td>Yang-hiang, hoje: 杨姓村</td>\n",
       "      <td>Q15175</td>\n",
       "      <td>Q1346617</td>\n",
       "    </tr>\n",
       "    <tr>\n",
       "      <th>163</th>\n",
       "      <td>tcheou-hien</td>\n",
       "      <td>Pequim</td>\n",
       "      <td>Chengting</td>\n",
       "      <td>Tingchow</td>\n",
       "      <td>Q64518</td>\n",
       "      <td>NaN</td>\n",
       "      <td>NaN</td>\n",
       "      <td>NaN</td>\n",
       "      <td>Ting tcheou, hoje: Dingzhou, 定州,</td>\n",
       "      <td>Q956</td>\n",
       "      <td>Q197678</td>\n",
       "    </tr>\n",
       "    <tr>\n",
       "      <th>186</th>\n",
       "      <td>tcheou-hien</td>\n",
       "      <td>Shangtung</td>\n",
       "      <td>Tsinan</td>\n",
       "      <td>Kwanchang</td>\n",
       "      <td>No wikidata</td>\n",
       "      <td>NaN</td>\n",
       "      <td>NaN</td>\n",
       "      <td>NaN</td>\n",
       "      <td></td>\n",
       "      <td>Q43407</td>\n",
       "      <td>Q170247</td>\n",
       "    </tr>\n",
       "    <tr>\n",
       "      <th>189</th>\n",
       "      <td>tcheou-hien</td>\n",
       "      <td>Shangtung</td>\n",
       "      <td>Tsinan</td>\n",
       "      <td>Wuting</td>\n",
       "      <td>Q17008118</td>\n",
       "      <td>NaN</td>\n",
       "      <td>NaN</td>\n",
       "      <td>NaN</td>\n",
       "      <td>Ou-ting, hoje: Wuding, 武定, [Wuting, alors tche...</td>\n",
       "      <td>Q43407</td>\n",
       "      <td>Q170247</td>\n",
       "    </tr>\n",
       "    <tr>\n",
       "      <th>195</th>\n",
       "      <td>tcheou-hien</td>\n",
       "      <td>Shangtung</td>\n",
       "      <td>Tungchang</td>\n",
       "      <td>Peichingtien</td>\n",
       "      <td>No wikidata</td>\n",
       "      <td>NaN</td>\n",
       "      <td>NaN</td>\n",
       "      <td>NaN</td>\n",
       "      <td>Dehergne(1957)did not give the Chinese name of...</td>\n",
       "      <td>Q43407</td>\n",
       "      <td>Q10870440</td>\n",
       "    </tr>\n",
       "    <tr>\n",
       "      <th>179</th>\n",
       "      <td>tcheou-hien</td>\n",
       "      <td>Shansi</td>\n",
       "      <td>Pingyang</td>\n",
       "      <td>Taiping</td>\n",
       "      <td>Q18111423</td>\n",
       "      <td>NaN</td>\n",
       "      <td>NaN</td>\n",
       "      <td>NaN</td>\n",
       "      <td>hoje: Taiping, 太平, , Q1113750, historical admi...</td>\n",
       "      <td>Q46913</td>\n",
       "      <td>Q73156</td>\n",
       "    </tr>\n",
       "    <tr>\n",
       "      <th>207</th>\n",
       "      <td>tcheou-hien</td>\n",
       "      <td>Shensi</td>\n",
       "      <td>Hanchung</td>\n",
       "      <td>Siao tchai tse</td>\n",
       "      <td>No wikidata</td>\n",
       "      <td>NaN</td>\n",
       "      <td>NaN</td>\n",
       "      <td>NaN</td>\n",
       "      <td></td>\n",
       "      <td>Q47974</td>\n",
       "      <td>Q515573</td>\n",
       "    </tr>\n",
       "    <tr>\n",
       "      <th>201</th>\n",
       "      <td>tcheou-hien</td>\n",
       "      <td>Shensi</td>\n",
       "      <td>Sian</td>\n",
       "      <td>Kiao-tou</td>\n",
       "      <td>No wikidata</td>\n",
       "      <td>NaN</td>\n",
       "      <td>NaN</td>\n",
       "      <td>NaN</td>\n",
       "      <td>Kiao-tou (ou Tungyiianfang)</td>\n",
       "      <td>Q47974</td>\n",
       "      <td>Q5826</td>\n",
       "    </tr>\n",
       "    <tr>\n",
       "      <th>211</th>\n",
       "      <td>tcheou-hien</td>\n",
       "      <td>Szechwan</td>\n",
       "      <td>Chengtu</td>\n",
       "      <td>Mienchow</td>\n",
       "      <td>Q10475921</td>\n",
       "      <td>NaN</td>\n",
       "      <td>NaN</td>\n",
       "      <td>NaN</td>\n",
       "      <td>Mien tcheou, hoje: Mianzhou, 绵州, hoje:</td>\n",
       "      <td>Q19770</td>\n",
       "      <td>Q30002</td>\n",
       "    </tr>\n",
       "    <tr>\n",
       "      <th>213</th>\n",
       "      <td>fou</td>\n",
       "      <td>Szechwan</td>\n",
       "      <td>Paoning</td>\n",
       "      <td>Paoning</td>\n",
       "      <td>Q10887586</td>\n",
       "      <td>NaN</td>\n",
       "      <td>NaN</td>\n",
       "      <td>NaN</td>\n",
       "      <td>Pao-ning, hoje: Baoning, 保宁, , Q1200170, 保宁府hi...</td>\n",
       "      <td>Q19770</td>\n",
       "      <td>Q10887586</td>\n",
       "    </tr>\n",
       "  </tbody>\n",
       "</table>\n",
       "</div>"
      ],
      "text/plain": [
       "           level   province        fou            name  wikidata_id  \\\n",
       "92   tcheou-hien     Anhwei   Hweichow         Tungmen  No wikidata   \n",
       "3    tcheou-hien   Chekiang   Hangchou           Jenho     Q9385136   \n",
       "16   tcheou-hien   Chekiang     Ningpo          Wuking  No wikidata   \n",
       "33   tcheou-hien     Fukien  Changchow           Aupua    Q14420305   \n",
       "28   tcheou-hien     Fukien    Foochow        Niensien  No wikidata   \n",
       "45   tcheou-hien     Fukien     Funing         Tingteo  No wikidata   \n",
       "66   tcheou-hien     Fukien     Taiwan         Camarri  No wikidata   \n",
       "65   tcheou-hien     Fukien     Taiwan         Taparri     Q7420445   \n",
       "81   tcheou-hien    Hukwang   Kingchow    Meng kia k'i  No wikidata   \n",
       "86   tcheou-hien      Hunan   Yungchow         Paishui  No wikidata   \n",
       "87      province   Kiangnan        NaN        Kiangnan    Q11133842   \n",
       "102  tcheou-hien    Kiangsu  Changchow          Wutsin  No wikidata   \n",
       "96   tcheou-hien    Kiangsu    Nanking         Kaowang    Q13721719   \n",
       "107  tcheou-hien    Kiangsu    Soochow        Changshu   Q113497198   \n",
       "111  tcheou-hien    Kiangsu  Sungkiang          Kaokia  No wikidata   \n",
       "112  tcheou-hien    Kiangsu  Sungkiang      Mo ka pang  No wikidata   \n",
       "123  tcheou-hien    Kiangsu   Yangchow          Fushan  No wikidata   \n",
       "139  tcheou-hien  Kwangtung     Cantão        Quon yao  No wikidata   \n",
       "143  tcheou-hien  Kwangtung  Kiungchow          Bankao  No wikidata   \n",
       "151  tcheou-hien  Kwangtung  Schiuchow   Hwanghsiaping  No wikidata   \n",
       "150  tcheou-hien  Kwangtung  Schiuchow       Hwangtsun  No wikidata   \n",
       "148  tcheou-hien  Kwangtung  Schiuchow           Makia  No wikidata   \n",
       "152  tcheou-hien  Kwangtung  Schiuchow        Motikang  No wikidata   \n",
       "149  tcheou-hien  Kwangtung  Schiuchow        Tsintsun  No wikidata   \n",
       "153  tcheou-hien  Kwangtung  Schiuchow       Yangsiang  No wikidata   \n",
       "163  tcheou-hien     Pequim  Chengting        Tingchow       Q64518   \n",
       "186  tcheou-hien  Shangtung     Tsinan       Kwanchang  No wikidata   \n",
       "189  tcheou-hien  Shangtung     Tsinan          Wuting    Q17008118   \n",
       "195  tcheou-hien  Shangtung  Tungchang    Peichingtien  No wikidata   \n",
       "179  tcheou-hien     Shansi   Pingyang         Taiping    Q18111423   \n",
       "207  tcheou-hien     Shensi   Hanchung  Siao tchai tse  No wikidata   \n",
       "201  tcheou-hien     Shensi       Sian        Kiao-tou  No wikidata   \n",
       "211  tcheou-hien   Szechwan    Chengtu        Mienchow    Q10475921   \n",
       "213          fou   Szechwan    Paoning         Paoning    Q10887586   \n",
       "\n",
       "    coordinates latitude longitude  \\\n",
       "92          NaN      NaN       NaN   \n",
       "3           NaN      NaN       NaN   \n",
       "16          NaN      NaN       NaN   \n",
       "33          NaN      NaN       NaN   \n",
       "28          NaN      NaN       NaN   \n",
       "45          NaN      NaN       NaN   \n",
       "66          NaN      NaN       NaN   \n",
       "65          NaN      NaN       NaN   \n",
       "81          NaN      NaN       NaN   \n",
       "86          NaN      NaN       NaN   \n",
       "87          NaN      NaN       NaN   \n",
       "102         NaN      NaN       NaN   \n",
       "96          NaN      NaN       NaN   \n",
       "107         NaN      NaN       NaN   \n",
       "111         NaN      NaN       NaN   \n",
       "112         NaN      NaN       NaN   \n",
       "123         NaN      NaN       NaN   \n",
       "139         NaN      NaN       NaN   \n",
       "143         NaN      NaN       NaN   \n",
       "151         NaN      NaN       NaN   \n",
       "150         NaN      NaN       NaN   \n",
       "148         NaN      NaN       NaN   \n",
       "152         NaN      NaN       NaN   \n",
       "149         NaN      NaN       NaN   \n",
       "153         NaN      NaN       NaN   \n",
       "163         NaN      NaN       NaN   \n",
       "186         NaN      NaN       NaN   \n",
       "189         NaN      NaN       NaN   \n",
       "195         NaN      NaN       NaN   \n",
       "179         NaN      NaN       NaN   \n",
       "207         NaN      NaN       NaN   \n",
       "201         NaN      NaN       NaN   \n",
       "211         NaN      NaN       NaN   \n",
       "213         NaN      NaN       NaN   \n",
       "\n",
       "                                               comment province_wikidata_id  \\\n",
       "92                                                                   Q40956   \n",
       "3    Jen-houo, hoje: Renhe, 仁和县 (), Historical coun...               Q16967   \n",
       "16   Uchim,Ou kin, hoje:? Dehergne(1957) did not gi...               Q16967   \n",
       "33   hoje: Houban, 后坂 (), (@geonames:1977135)Au-poa...               Q41705   \n",
       "28   Dehergne(1957, p30): \"A côté de Hai keu on c...               Q41705   \n",
       "45   藤头？顶头？ in the Chinese translation it is recogn...               Q41705   \n",
       "66   hoje:Jinbaoli, 金包里, in the Chinese translation...               Q41705   \n",
       "65   \"\"\"hoje：大包里 in the Chinese translation it is r...               Q41705   \n",
       "81                                                                 Q1014420   \n",
       "86                                                                   Q45761   \n",
       "87   Jiangnan?hoje:Jiangnan, 江南, , former province ...            Q11133842   \n",
       "102                                                  ?               Q16963   \n",
       "96   hoje: Gaowang, 高旺, , in the Chinese translatio...               Q16963   \n",
       "107           hoje:Wuxian, 吴县, , fomer city in Jiangsu               Q16963   \n",
       "111  hoje: Gaojia, 高家, in the Chinese translation i...               Q16963   \n",
       "112  Ma kia pim, hoje: Majiabang, 马家浜, in the Chine...               Q16963   \n",
       "123  hoje: Fushan, 福山村, 31.800210981845982N, 120.76...               Q16963   \n",
       "139  hoje: Guanyao, 官窑, In the Chinses translation ...               Q15175   \n",
       "143  hoje:Xiangou, 仙沟, In the Chinese translation i...               Q15175   \n",
       "151  Hwanghsiaping, hoje: Vankaxen, 黄下坪？, In the Ch...               Q15175   \n",
       "150  Vançun, hoje: Huangcun, 黄村, coordinates: 24.90...               Q15175   \n",
       "148  Machia, hoje: Majia, 马家, Dehergne(1957) said M...               Q15175   \n",
       "152  Mochi, hoje: Madigang, 麻地岗, In the Chinese tra...               Q15175   \n",
       "149  Cinçun, hoje: Jingcun, 靖村, coordinates:24.8404...               Q15175   \n",
       "153                              Yang-hiang, hoje: 杨姓村               Q15175   \n",
       "163                  Ting tcheou, hoje: Dingzhou, 定州,                  Q956   \n",
       "186                                                                  Q43407   \n",
       "189  Ou-ting, hoje: Wuding, 武定, [Wuting, alors tche...               Q43407   \n",
       "195  Dehergne(1957)did not give the Chinese name of...               Q43407   \n",
       "179  hoje: Taiping, 太平, , Q1113750, historical admi...               Q46913   \n",
       "207                                                                  Q47974   \n",
       "201                        Kiao-tou (ou Tungyiianfang)               Q47974   \n",
       "211           Mien tcheou, hoje: Mianzhou, 绵州, hoje:                 Q19770   \n",
       "213  Pao-ning, hoje: Baoning, 保宁, , Q1200170, 保宁府hi...               Q19770   \n",
       "\n",
       "    fou_wikidata_id  \n",
       "92         Q4358404  \n",
       "3             Q4970  \n",
       "16           Q42780  \n",
       "33           Q68814  \n",
       "28           Q68481  \n",
       "45          Q241877  \n",
       "66           Q22502  \n",
       "65           Q22502  \n",
       "81        Q14135188  \n",
       "86          Q266014  \n",
       "87              NaN  \n",
       "102          Q57970  \n",
       "96           Q16666  \n",
       "107          Q42622  \n",
       "111       Q11104671  \n",
       "112       Q11104671  \n",
       "123          Q57906  \n",
       "139          Q16572  \n",
       "143        Q1081204  \n",
       "151        Q1346617  \n",
       "150        Q1346617  \n",
       "148        Q1346617  \n",
       "152        Q1346617  \n",
       "149        Q1346617  \n",
       "153        Q1346617  \n",
       "163         Q197678  \n",
       "186         Q170247  \n",
       "189         Q170247  \n",
       "195       Q10870440  \n",
       "179          Q73156  \n",
       "207         Q515573  \n",
       "201           Q5826  \n",
       "211          Q30002  \n",
       "213       Q10887586  "
      ]
     },
     "execution_count": 60,
     "metadata": {},
     "output_type": "execute_result"
    }
   ],
   "source": [
    "# list rows where coordinates are not available\n",
    "missing_coords = merged_df[merged_df['coordinates'].isna()]\n",
    "print(f\"Rows with missing coordinates ({len(missing_coords)}):\")\n",
    "missing_coords[cols].sort_values(by=['province', 'fou', 'name'])\n"
   ]
  },
  {
   "cell_type": "markdown",
   "metadata": {},
   "source": [
    "### Scan for coordinates\n",
    "\n",
    "If there is no corresponding wikidata entry, or the wikidata entry does not have coordinates, but a geo location was obtained it is introduced in the comments of the transcription and can be retrived here."
   ]
  },
  {
   "cell_type": "code",
   "execution_count": 68,
   "metadata": {},
   "outputs": [
    {
     "name": "stdout",
     "output_type": "stream",
     "text": [
      "\n",
      "Looking for coordinates of: 3 Jenho\n",
      "Jen-houo, hoje: Renhe, 仁和县 (), Historical county name, coordinates: 30.448897N, 120.307504E\n",
      "Found coordinates: (30.448897, 120.307504)\n",
      "\n",
      "Looking for coordinates of: 16 Wuking\n",
      "No coordinates found in comment for row: 16 Wuking\n",
      "\n",
      "Looking for coordinates of: 28 Niensien\n",
      "No coordinates found in comment for row: 28 Niensien\n",
      "\n",
      "Looking for coordinates of: 33 Aupua\n",
      "No coordinates found in comment for row: 33 Aupua\n",
      "\n",
      "Looking for coordinates of: 45 Tingteo\n",
      "No coordinates found in comment for row: 45 Tingteo\n",
      "\n",
      "Looking for coordinates of: 65 Taparri\n",
      "\"\"\"hoje：大包里 in the Chinese translation it is recognized as 塔巴里,in Dehergne(1957) it is noted as 大包里, which cannot be found in the map. Dehergne(1957) puts it as \"Peninsule de Masu, à 1 lieue nord-ouest de San Salvador (社寮)\"\n",
      "                today's Santissima Trinidad ， with Masu coordinates:25.201218764354735N, 121.68618375811317E\"\"\"\n",
      "Found coordinates: (25.201218764354735, 121.68618375811317)\n",
      "\n",
      "Looking for coordinates of: 66 Camarri\n",
      "hoje:Jinbaoli, 金包里, in the Chinese translation it is recognized as “噶玛兰”, but in Dehergne(1957) it is noted as \"金包里\". It is an area in the Northern Taiwan, coordinates: 25.22189808588497N, 121.6382892794898EQuimauri\n",
      "Found coordinates: (25.22189808588497, 121.6382892794898)\n",
      "\n",
      "Looking for coordinates of: 81 Meng kia k'i\n",
      "No coordinates found in comment for row: 81 Meng kia k'i\n",
      "\n",
      "Looking for coordinates of: 86 Paishui\n",
      "No coordinates found in comment for row: 86 Paishui\n",
      "\n",
      "Looking for coordinates of: 87 Kiangnan\n",
      "No coordinates found in comment for row: 87 Kiangnan\n",
      "\n",
      "Looking for coordinates of: 92 Tungmen\n",
      "No coordinates found in comment for row: 92 Tungmen\n",
      "\n",
      "Looking for coordinates of: 96 Kaowang\n",
      "No coordinates found in comment for row: 96 Kaowang\n",
      "\n",
      "Looking for coordinates of: 102 Wutsin\n",
      "No coordinates found in comment for row: 102 Wutsin\n",
      "\n",
      "Looking for coordinates of: 107 Changshu\n",
      "No coordinates found in comment for row: 107 Changshu\n",
      "\n",
      "Looking for coordinates of: 111 Kaokia\n",
      "No coordinates found in comment for row: 111 Kaokia\n",
      "\n",
      "Looking for coordinates of: 112 Mo ka pang\n",
      "Ma kia pim, hoje: Majiabang, 马家浜, in the Chinese translation it is recognized as “穆喀榜”, which is wrong. Dehergne(1957, p60) said it is \"马家滨\" at \"sud de Sung-kiang\". In the present day it might be \"马家浜\" to the south Songjiang, coordinates: 30.845691234919308N, 121.3179093082612E\n",
      "Found coordinates: (30.845691234919308, 121.3179093082612)\n",
      "\n",
      "Looking for coordinates of: 123 Fushan\n",
      "No coordinates found in comment for row: 123 Fushan\n",
      "\n",
      "Looking for coordinates of: 139 Quon yao\n",
      "hoje: Guanyao, 官窑, In the Chinses translation it is recognized as “高要村”，which is wrong. in Dehergne(1957), it is noted as \"官窑\", coordinates: 23.314954073028765N, 113.22132587290358E\n",
      "Found coordinates: (23.314954073028765, 113.22132587290358)\n",
      "\n",
      "Looking for coordinates of: 143 Bankao\n",
      "hoje:Xiangou, 仙沟, In the Chinese translation it is recognized as \"板桥\", but in Dehergne (1957), it is noted as \"仙沟\". coordinates: 19.678430033709233N, 110.3760945797476E\n",
      "Found coordinates: (19.678430033709233, 110.3760945797476)\n",
      "\n",
      "Looking for coordinates of: 148 Makia\n",
      "No coordinates found in comment for row: 148 Makia\n",
      "\n",
      "Looking for coordinates of: 149 Tsintsun\n",
      "Cinçun, hoje: Jingcun, 靖村, coordinates:24.840448198893206N, 113.54394322209676E. In the original book (Dehergne, 1973), it is written as \"Tsintsun\" (without g), which is wrongly spelled. In Dehergne(1973), it is written as Tsingtsun, with the Chinese name 靖村 noted. It is \"à une heure et demie de marche au nord-ouest de Siuchow.\" In the Chinese traslation, it is recognized as \"青村\", which is wrong.\n",
      "Found coordinates: (24.840448198893206, 113.54394322209676)\n",
      "\n",
      "Looking for coordinates of: 150 Hwangtsun\n",
      "Vançun, hoje: Huangcun, 黄村, coordinates: 24.900778941203768N, 113.60398607001083E Dehergne(1957): \"à une heure de chemin au nord de Shiuchow\".\n",
      "Found coordinates: (24.900778941203768, 113.60398607001083)\n",
      "\n",
      "Looking for coordinates of: 151 Hwanghsiaping\n",
      "No coordinates found in comment for row: 151 Hwanghsiaping\n",
      "\n",
      "Looking for coordinates of: 152 Motikang\n",
      "No coordinates found in comment for row: 152 Motikang\n",
      "\n",
      "Looking for coordinates of: 153 Yangsiang\n",
      "No coordinates found in comment for row: 153 Yangsiang\n",
      "\n",
      "Looking for coordinates of: 163 Tingchow\n",
      "No coordinates found in comment for row: 163 Tingchow\n",
      "\n",
      "Looking for coordinates of: 179 Taiping\n",
      "No coordinates found in comment for row: 179 Taiping\n",
      "\n",
      "Looking for coordinates of: 186 Kwanchang\n",
      "No coordinates found in comment for row: 186 Kwanchang\n",
      "\n",
      "Looking for coordinates of: 189 Wuting\n",
      "No coordinates found in comment for row: 189 Wuting\n",
      "\n",
      "Looking for coordinates of: 195 Peichingtien\n",
      "No coordinates found in comment for row: 195 Peichingtien\n",
      "\n",
      "Looking for coordinates of: 201 Kiao-tou\n",
      "No coordinates found in comment for row: 201 Kiao-tou\n",
      "\n",
      "Looking for coordinates of: 207 Siao tchai tse\n",
      "No coordinates found in comment for row: 207 Siao tchai tse\n",
      "\n",
      "Looking for coordinates of: 211 Mienchow\n",
      "No coordinates found in comment for row: 211 Mienchow\n",
      "\n",
      "Looking for coordinates of: 213 Paoning\n",
      "No coordinates found in comment for row: 213 Paoning\n"
     ]
    }
   ],
   "source": [
    "import re\n",
    "from dehergne_util import extract_coordinates\n",
    "\n",
    "# set the coordinates for the places that have coordinates in the comment column\n",
    "# interate rows with iterrows\n",
    "for index, row in merged_df[merged_df['coordinates'].isna()].iterrows():\n",
    "    # print()\n",
    "    # print(\"Looking for coordinates of:\", row['id'], row['name'])\n",
    "    # if row['comment'] is not NaN and contains \"coordinates\", \"latitude\", or \"longitude\"\n",
    "    if not re.search(r'coordinates:|latitude:|longitude:', row['comment'], flags=re.IGNORECASE):\n",
    "        # print(\"No coordinates found in comment for row:\", index, row['name'])\n",
    "        continue\n",
    "    coords = extract_coordinates(row['comment'])\n",
    "    if coords:\n",
    "        print()\n",
    "        print(row['comment'])\n",
    "        print(\"Found coordinates:\", coords)\n",
    "        merged_df.at[index, 'coordinates'] = coords\n",
    "        merged_df.at[index, 'latitude'] = coords[0]\n",
    "        merged_df.at[index, 'longitude'] = coords[1]\n"
   ]
  },
  {
   "cell_type": "markdown",
   "metadata": {},
   "source": [
    "### List places with no coordinates\n",
    "\n",
    "These are the ones that where not geo referenced so far."
   ]
  },
  {
   "cell_type": "code",
   "execution_count": 62,
   "metadata": {},
   "outputs": [
    {
     "data": {
      "text/html": [
       "<div>\n",
       "<style scoped>\n",
       "    .dataframe tbody tr th:only-of-type {\n",
       "        vertical-align: middle;\n",
       "    }\n",
       "\n",
       "    .dataframe tbody tr th {\n",
       "        vertical-align: top;\n",
       "    }\n",
       "\n",
       "    .dataframe thead th {\n",
       "        text-align: right;\n",
       "    }\n",
       "</style>\n",
       "<table border=\"1\" class=\"dataframe\">\n",
       "  <thead>\n",
       "    <tr style=\"text-align: right;\">\n",
       "      <th></th>\n",
       "      <th>province</th>\n",
       "      <th>level</th>\n",
       "      <th>name</th>\n",
       "      <th>province_wikidata_id</th>\n",
       "      <th>wikidata_id</th>\n",
       "      <th>comment</th>\n",
       "      <th>fou</th>\n",
       "      <th>fou_wikidata_id</th>\n",
       "      <th>year</th>\n",
       "      <th>chinese_label</th>\n",
       "      <th>...</th>\n",
       "      <th>portuguese_description</th>\n",
       "      <th>coordinates</th>\n",
       "      <th>latitude</th>\n",
       "      <th>longitude</th>\n",
       "      <th>administrative_entity_id</th>\n",
       "      <th>administrative_entity_label_en</th>\n",
       "      <th>administrative_entity_label_zh</th>\n",
       "      <th>country_id</th>\n",
       "      <th>country_label</th>\n",
       "      <th>label</th>\n",
       "    </tr>\n",
       "  </thead>\n",
       "  <tbody>\n",
       "    <tr>\n",
       "      <th>16</th>\n",
       "      <td>Chekiang</td>\n",
       "      <td>tcheou-hien</td>\n",
       "      <td>Wuking</td>\n",
       "      <td>Q16967</td>\n",
       "      <td>No wikidata</td>\n",
       "      <td>Uchim,Ou kin, hoje:? Dehergne(1957) did not gi...</td>\n",
       "      <td>Ningpo</td>\n",
       "      <td>Q42780</td>\n",
       "      <td>1644</td>\n",
       "      <td>NaN</td>\n",
       "      <td>...</td>\n",
       "      <td>NaN</td>\n",
       "      <td>NaN</td>\n",
       "      <td>NaN</td>\n",
       "      <td>NaN</td>\n",
       "      <td>NaN</td>\n",
       "      <td>NaN</td>\n",
       "      <td>NaN</td>\n",
       "      <td>NaN</td>\n",
       "      <td>NaN</td>\n",
       "      <td>NaN</td>\n",
       "    </tr>\n",
       "    <tr>\n",
       "      <th>28</th>\n",
       "      <td>Fukien</td>\n",
       "      <td>tcheou-hien</td>\n",
       "      <td>Niensien</td>\n",
       "      <td>Q41705</td>\n",
       "      <td>No wikidata</td>\n",
       "      <td>Dehergne(1957, p30): \"A côté de Hai keu on c...</td>\n",
       "      <td>Foochow</td>\n",
       "      <td>Q68481</td>\n",
       "      <td>1644</td>\n",
       "      <td>NaN</td>\n",
       "      <td>...</td>\n",
       "      <td>NaN</td>\n",
       "      <td>NaN</td>\n",
       "      <td>NaN</td>\n",
       "      <td>NaN</td>\n",
       "      <td>NaN</td>\n",
       "      <td>NaN</td>\n",
       "      <td>NaN</td>\n",
       "      <td>NaN</td>\n",
       "      <td>NaN</td>\n",
       "      <td>NaN</td>\n",
       "    </tr>\n",
       "    <tr>\n",
       "      <th>33</th>\n",
       "      <td>Fukien</td>\n",
       "      <td>tcheou-hien</td>\n",
       "      <td>Aupua</td>\n",
       "      <td>Q41705</td>\n",
       "      <td>Q14420305</td>\n",
       "      <td>hoje: Houban, 后坂 (), (@geonames:1977135)Au-poa...</td>\n",
       "      <td>Changchow</td>\n",
       "      <td>Q68814</td>\n",
       "      <td>1644</td>\n",
       "      <td>后坂村</td>\n",
       "      <td>...</td>\n",
       "      <td>NaN</td>\n",
       "      <td>NaN</td>\n",
       "      <td>NaN</td>\n",
       "      <td>NaN</td>\n",
       "      <td>Q10868117</td>\n",
       "      <td>Shangyong Town</td>\n",
       "      <td>上涌镇</td>\n",
       "      <td>Q148</td>\n",
       "      <td>People's Republic of China</td>\n",
       "      <td>Houban / 后坂村</td>\n",
       "    </tr>\n",
       "    <tr>\n",
       "      <th>45</th>\n",
       "      <td>Fukien</td>\n",
       "      <td>tcheou-hien</td>\n",
       "      <td>Tingteo</td>\n",
       "      <td>Q41705</td>\n",
       "      <td>No wikidata</td>\n",
       "      <td>藤头？顶头？ in the Chinese translation it is recogn...</td>\n",
       "      <td>Funing</td>\n",
       "      <td>Q241877</td>\n",
       "      <td>1644</td>\n",
       "      <td>NaN</td>\n",
       "      <td>...</td>\n",
       "      <td>NaN</td>\n",
       "      <td>NaN</td>\n",
       "      <td>NaN</td>\n",
       "      <td>NaN</td>\n",
       "      <td>NaN</td>\n",
       "      <td>NaN</td>\n",
       "      <td>NaN</td>\n",
       "      <td>NaN</td>\n",
       "      <td>NaN</td>\n",
       "      <td>NaN</td>\n",
       "    </tr>\n",
       "    <tr>\n",
       "      <th>81</th>\n",
       "      <td>Hukwang</td>\n",
       "      <td>tcheou-hien</td>\n",
       "      <td>Meng kia k'i</td>\n",
       "      <td>Q1014420</td>\n",
       "      <td>No wikidata</td>\n",
       "      <td></td>\n",
       "      <td>Kingchow</td>\n",
       "      <td>Q14135188</td>\n",
       "      <td>1644</td>\n",
       "      <td>NaN</td>\n",
       "      <td>...</td>\n",
       "      <td>NaN</td>\n",
       "      <td>NaN</td>\n",
       "      <td>NaN</td>\n",
       "      <td>NaN</td>\n",
       "      <td>NaN</td>\n",
       "      <td>NaN</td>\n",
       "      <td>NaN</td>\n",
       "      <td>NaN</td>\n",
       "      <td>NaN</td>\n",
       "      <td>NaN</td>\n",
       "    </tr>\n",
       "    <tr>\n",
       "      <th>86</th>\n",
       "      <td>Hunan</td>\n",
       "      <td>tcheou-hien</td>\n",
       "      <td>Paishui</td>\n",
       "      <td>Q45761</td>\n",
       "      <td>No wikidata</td>\n",
       "      <td></td>\n",
       "      <td>Yungchow</td>\n",
       "      <td>Q266014</td>\n",
       "      <td>1644</td>\n",
       "      <td>NaN</td>\n",
       "      <td>...</td>\n",
       "      <td>NaN</td>\n",
       "      <td>NaN</td>\n",
       "      <td>NaN</td>\n",
       "      <td>NaN</td>\n",
       "      <td>NaN</td>\n",
       "      <td>NaN</td>\n",
       "      <td>NaN</td>\n",
       "      <td>NaN</td>\n",
       "      <td>NaN</td>\n",
       "      <td>NaN</td>\n",
       "    </tr>\n",
       "    <tr>\n",
       "      <th>87</th>\n",
       "      <td>Kiangnan</td>\n",
       "      <td>province</td>\n",
       "      <td>Kiangnan</td>\n",
       "      <td>Q11133842</td>\n",
       "      <td>Q11133842</td>\n",
       "      <td>Jiangnan?hoje:Jiangnan, 江南, , former province ...</td>\n",
       "      <td>NaN</td>\n",
       "      <td>NaN</td>\n",
       "      <td>1644</td>\n",
       "      <td>江南省</td>\n",
       "      <td>...</td>\n",
       "      <td>NaN</td>\n",
       "      <td>NaN</td>\n",
       "      <td>NaN</td>\n",
       "      <td>NaN</td>\n",
       "      <td>Q8733</td>\n",
       "      <td>Qing dynasty</td>\n",
       "      <td>清朝</td>\n",
       "      <td>Q8733</td>\n",
       "      <td>Qing dynasty</td>\n",
       "      <td>Jiangnan / 江南省</td>\n",
       "    </tr>\n",
       "    <tr>\n",
       "      <th>92</th>\n",
       "      <td>Anhwei</td>\n",
       "      <td>tcheou-hien</td>\n",
       "      <td>Tungmen</td>\n",
       "      <td>Q40956</td>\n",
       "      <td>No wikidata</td>\n",
       "      <td></td>\n",
       "      <td>Hweichow</td>\n",
       "      <td>Q4358404</td>\n",
       "      <td>1644</td>\n",
       "      <td>NaN</td>\n",
       "      <td>...</td>\n",
       "      <td>NaN</td>\n",
       "      <td>NaN</td>\n",
       "      <td>NaN</td>\n",
       "      <td>NaN</td>\n",
       "      <td>NaN</td>\n",
       "      <td>NaN</td>\n",
       "      <td>NaN</td>\n",
       "      <td>NaN</td>\n",
       "      <td>NaN</td>\n",
       "      <td>NaN</td>\n",
       "    </tr>\n",
       "    <tr>\n",
       "      <th>96</th>\n",
       "      <td>Kiangsu</td>\n",
       "      <td>tcheou-hien</td>\n",
       "      <td>Kaowang</td>\n",
       "      <td>Q16963</td>\n",
       "      <td>Q13721719</td>\n",
       "      <td>hoje: Gaowang, 高旺, , in the Chinese translatio...</td>\n",
       "      <td>Nanking</td>\n",
       "      <td>Q16666</td>\n",
       "      <td>1644</td>\n",
       "      <td>高旺社区</td>\n",
       "      <td>...</td>\n",
       "      <td>NaN</td>\n",
       "      <td>NaN</td>\n",
       "      <td>NaN</td>\n",
       "      <td>NaN</td>\n",
       "      <td>Q11134699</td>\n",
       "      <td>Jiangpu Subdistrict</td>\n",
       "      <td>江浦街道</td>\n",
       "      <td>Q148</td>\n",
       "      <td>People's Republic of China</td>\n",
       "      <td>/ 高旺社区</td>\n",
       "    </tr>\n",
       "    <tr>\n",
       "      <th>102</th>\n",
       "      <td>Kiangsu</td>\n",
       "      <td>tcheou-hien</td>\n",
       "      <td>Wutsin</td>\n",
       "      <td>Q16963</td>\n",
       "      <td>No wikidata</td>\n",
       "      <td>?</td>\n",
       "      <td>Changchow</td>\n",
       "      <td>Q57970</td>\n",
       "      <td>1644</td>\n",
       "      <td>NaN</td>\n",
       "      <td>...</td>\n",
       "      <td>NaN</td>\n",
       "      <td>NaN</td>\n",
       "      <td>NaN</td>\n",
       "      <td>NaN</td>\n",
       "      <td>NaN</td>\n",
       "      <td>NaN</td>\n",
       "      <td>NaN</td>\n",
       "      <td>NaN</td>\n",
       "      <td>NaN</td>\n",
       "      <td>NaN</td>\n",
       "    </tr>\n",
       "    <tr>\n",
       "      <th>107</th>\n",
       "      <td>Kiangsu</td>\n",
       "      <td>tcheou-hien</td>\n",
       "      <td>Changshu</td>\n",
       "      <td>Q16963</td>\n",
       "      <td>Q113497198</td>\n",
       "      <td>hoje:Wuxian, 吴县, , fomer city in Jiangsu</td>\n",
       "      <td>Soochow</td>\n",
       "      <td>Q42622</td>\n",
       "      <td>1644</td>\n",
       "      <td>吳縣市</td>\n",
       "      <td>...</td>\n",
       "      <td>NaN</td>\n",
       "      <td>NaN</td>\n",
       "      <td>NaN</td>\n",
       "      <td>NaN</td>\n",
       "      <td>Q42622</td>\n",
       "      <td>Suzhou</td>\n",
       "      <td>苏州市</td>\n",
       "      <td>Q148</td>\n",
       "      <td>People's Republic of China</td>\n",
       "      <td>Wuxian City / 吳縣市</td>\n",
       "    </tr>\n",
       "    <tr>\n",
       "      <th>111</th>\n",
       "      <td>Kiangsu</td>\n",
       "      <td>tcheou-hien</td>\n",
       "      <td>Kaokia</td>\n",
       "      <td>Q16963</td>\n",
       "      <td>No wikidata</td>\n",
       "      <td>hoje: Gaojia, 高家, in the Chinese translation i...</td>\n",
       "      <td>Sungkiang</td>\n",
       "      <td>Q11104671</td>\n",
       "      <td>1644</td>\n",
       "      <td>NaN</td>\n",
       "      <td>...</td>\n",
       "      <td>NaN</td>\n",
       "      <td>NaN</td>\n",
       "      <td>NaN</td>\n",
       "      <td>NaN</td>\n",
       "      <td>NaN</td>\n",
       "      <td>NaN</td>\n",
       "      <td>NaN</td>\n",
       "      <td>NaN</td>\n",
       "      <td>NaN</td>\n",
       "      <td>NaN</td>\n",
       "    </tr>\n",
       "    <tr>\n",
       "      <th>123</th>\n",
       "      <td>Kiangsu</td>\n",
       "      <td>tcheou-hien</td>\n",
       "      <td>Fushan</td>\n",
       "      <td>Q16963</td>\n",
       "      <td>No wikidata</td>\n",
       "      <td>hoje: Fushan, 福山村, 31.800210981845982N, 120.76...</td>\n",
       "      <td>Yangchow</td>\n",
       "      <td>Q57906</td>\n",
       "      <td>1644</td>\n",
       "      <td>NaN</td>\n",
       "      <td>...</td>\n",
       "      <td>NaN</td>\n",
       "      <td>NaN</td>\n",
       "      <td>NaN</td>\n",
       "      <td>NaN</td>\n",
       "      <td>NaN</td>\n",
       "      <td>NaN</td>\n",
       "      <td>NaN</td>\n",
       "      <td>NaN</td>\n",
       "      <td>NaN</td>\n",
       "      <td>NaN</td>\n",
       "    </tr>\n",
       "    <tr>\n",
       "      <th>148</th>\n",
       "      <td>Kwangtung</td>\n",
       "      <td>tcheou-hien</td>\n",
       "      <td>Makia</td>\n",
       "      <td>Q15175</td>\n",
       "      <td>No wikidata</td>\n",
       "      <td>Machia, hoje: Majia, 马家, Dehergne(1957) said M...</td>\n",
       "      <td>Schiuchow</td>\n",
       "      <td>Q1346617</td>\n",
       "      <td>1644</td>\n",
       "      <td>NaN</td>\n",
       "      <td>...</td>\n",
       "      <td>NaN</td>\n",
       "      <td>NaN</td>\n",
       "      <td>NaN</td>\n",
       "      <td>NaN</td>\n",
       "      <td>NaN</td>\n",
       "      <td>NaN</td>\n",
       "      <td>NaN</td>\n",
       "      <td>NaN</td>\n",
       "      <td>NaN</td>\n",
       "      <td>NaN</td>\n",
       "    </tr>\n",
       "    <tr>\n",
       "      <th>151</th>\n",
       "      <td>Kwangtung</td>\n",
       "      <td>tcheou-hien</td>\n",
       "      <td>Hwanghsiaping</td>\n",
       "      <td>Q15175</td>\n",
       "      <td>No wikidata</td>\n",
       "      <td>Hwanghsiaping, hoje: Vankaxen, 黄下坪？, In the Ch...</td>\n",
       "      <td>Schiuchow</td>\n",
       "      <td>Q1346617</td>\n",
       "      <td>1644</td>\n",
       "      <td>NaN</td>\n",
       "      <td>...</td>\n",
       "      <td>NaN</td>\n",
       "      <td>NaN</td>\n",
       "      <td>NaN</td>\n",
       "      <td>NaN</td>\n",
       "      <td>NaN</td>\n",
       "      <td>NaN</td>\n",
       "      <td>NaN</td>\n",
       "      <td>NaN</td>\n",
       "      <td>NaN</td>\n",
       "      <td>NaN</td>\n",
       "    </tr>\n",
       "    <tr>\n",
       "      <th>152</th>\n",
       "      <td>Kwangtung</td>\n",
       "      <td>tcheou-hien</td>\n",
       "      <td>Motikang</td>\n",
       "      <td>Q15175</td>\n",
       "      <td>No wikidata</td>\n",
       "      <td>Mochi, hoje: Madigang, 麻地岗, In the Chinese tra...</td>\n",
       "      <td>Schiuchow</td>\n",
       "      <td>Q1346617</td>\n",
       "      <td>1644</td>\n",
       "      <td>NaN</td>\n",
       "      <td>...</td>\n",
       "      <td>NaN</td>\n",
       "      <td>NaN</td>\n",
       "      <td>NaN</td>\n",
       "      <td>NaN</td>\n",
       "      <td>NaN</td>\n",
       "      <td>NaN</td>\n",
       "      <td>NaN</td>\n",
       "      <td>NaN</td>\n",
       "      <td>NaN</td>\n",
       "      <td>NaN</td>\n",
       "    </tr>\n",
       "    <tr>\n",
       "      <th>153</th>\n",
       "      <td>Kwangtung</td>\n",
       "      <td>tcheou-hien</td>\n",
       "      <td>Yangsiang</td>\n",
       "      <td>Q15175</td>\n",
       "      <td>No wikidata</td>\n",
       "      <td>Yang-hiang, hoje: 杨姓村</td>\n",
       "      <td>Schiuchow</td>\n",
       "      <td>Q1346617</td>\n",
       "      <td>1644</td>\n",
       "      <td>NaN</td>\n",
       "      <td>...</td>\n",
       "      <td>NaN</td>\n",
       "      <td>NaN</td>\n",
       "      <td>NaN</td>\n",
       "      <td>NaN</td>\n",
       "      <td>NaN</td>\n",
       "      <td>NaN</td>\n",
       "      <td>NaN</td>\n",
       "      <td>NaN</td>\n",
       "      <td>NaN</td>\n",
       "      <td>NaN</td>\n",
       "    </tr>\n",
       "    <tr>\n",
       "      <th>163</th>\n",
       "      <td>Pequim</td>\n",
       "      <td>tcheou-hien</td>\n",
       "      <td>Tingchow</td>\n",
       "      <td>Q956</td>\n",
       "      <td>Q64518</td>\n",
       "      <td>Ting tcheou, hoje: Dingzhou, 定州,</td>\n",
       "      <td>Chengting</td>\n",
       "      <td>Q197678</td>\n",
       "      <td>1644</td>\n",
       "      <td>NaN</td>\n",
       "      <td>...</td>\n",
       "      <td>NaN</td>\n",
       "      <td>NaN</td>\n",
       "      <td>NaN</td>\n",
       "      <td>NaN</td>\n",
       "      <td>NaN</td>\n",
       "      <td>NaN</td>\n",
       "      <td>NaN</td>\n",
       "      <td>Q183</td>\n",
       "      <td>Germany</td>\n",
       "      <td>Angelzoom /</td>\n",
       "    </tr>\n",
       "    <tr>\n",
       "      <th>179</th>\n",
       "      <td>Shansi</td>\n",
       "      <td>tcheou-hien</td>\n",
       "      <td>Taiping</td>\n",
       "      <td>Q46913</td>\n",
       "      <td>Q18111423</td>\n",
       "      <td>hoje: Taiping, 太平, , Q1113750, historical admi...</td>\n",
       "      <td>Pingyang</td>\n",
       "      <td>Q73156</td>\n",
       "      <td>1644</td>\n",
       "      <td>太平县</td>\n",
       "      <td>...</td>\n",
       "      <td>NaN</td>\n",
       "      <td>NaN</td>\n",
       "      <td>NaN</td>\n",
       "      <td>NaN</td>\n",
       "      <td>NaN</td>\n",
       "      <td>NaN</td>\n",
       "      <td>NaN</td>\n",
       "      <td>NaN</td>\n",
       "      <td>NaN</td>\n",
       "      <td>/ 太平县</td>\n",
       "    </tr>\n",
       "    <tr>\n",
       "      <th>186</th>\n",
       "      <td>Shangtung</td>\n",
       "      <td>tcheou-hien</td>\n",
       "      <td>Kwanchang</td>\n",
       "      <td>Q43407</td>\n",
       "      <td>No wikidata</td>\n",
       "      <td></td>\n",
       "      <td>Tsinan</td>\n",
       "      <td>Q170247</td>\n",
       "      <td>1644</td>\n",
       "      <td>NaN</td>\n",
       "      <td>...</td>\n",
       "      <td>NaN</td>\n",
       "      <td>NaN</td>\n",
       "      <td>NaN</td>\n",
       "      <td>NaN</td>\n",
       "      <td>NaN</td>\n",
       "      <td>NaN</td>\n",
       "      <td>NaN</td>\n",
       "      <td>NaN</td>\n",
       "      <td>NaN</td>\n",
       "      <td>NaN</td>\n",
       "    </tr>\n",
       "    <tr>\n",
       "      <th>189</th>\n",
       "      <td>Shangtung</td>\n",
       "      <td>tcheou-hien</td>\n",
       "      <td>Wuting</td>\n",
       "      <td>Q43407</td>\n",
       "      <td>Q17008118</td>\n",
       "      <td>Ou-ting, hoje: Wuding, 武定, [Wuting, alors tche...</td>\n",
       "      <td>Tsinan</td>\n",
       "      <td>Q170247</td>\n",
       "      <td>1644</td>\n",
       "      <td>武定州</td>\n",
       "      <td>...</td>\n",
       "      <td>NaN</td>\n",
       "      <td>NaN</td>\n",
       "      <td>NaN</td>\n",
       "      <td>NaN</td>\n",
       "      <td>NaN</td>\n",
       "      <td>NaN</td>\n",
       "      <td>NaN</td>\n",
       "      <td>NaN</td>\n",
       "      <td>NaN</td>\n",
       "      <td>/ 武定州</td>\n",
       "    </tr>\n",
       "    <tr>\n",
       "      <th>195</th>\n",
       "      <td>Shangtung</td>\n",
       "      <td>tcheou-hien</td>\n",
       "      <td>Peichingtien</td>\n",
       "      <td>Q43407</td>\n",
       "      <td>No wikidata</td>\n",
       "      <td>Dehergne(1957)did not give the Chinese name of...</td>\n",
       "      <td>Tungchang</td>\n",
       "      <td>Q10870440</td>\n",
       "      <td>1644</td>\n",
       "      <td>NaN</td>\n",
       "      <td>...</td>\n",
       "      <td>NaN</td>\n",
       "      <td>NaN</td>\n",
       "      <td>NaN</td>\n",
       "      <td>NaN</td>\n",
       "      <td>NaN</td>\n",
       "      <td>NaN</td>\n",
       "      <td>NaN</td>\n",
       "      <td>NaN</td>\n",
       "      <td>NaN</td>\n",
       "      <td>NaN</td>\n",
       "    </tr>\n",
       "    <tr>\n",
       "      <th>201</th>\n",
       "      <td>Shensi</td>\n",
       "      <td>tcheou-hien</td>\n",
       "      <td>Kiao-tou</td>\n",
       "      <td>Q47974</td>\n",
       "      <td>No wikidata</td>\n",
       "      <td>Kiao-tou (ou Tungyiianfang)</td>\n",
       "      <td>Sian</td>\n",
       "      <td>Q5826</td>\n",
       "      <td>1644</td>\n",
       "      <td>NaN</td>\n",
       "      <td>...</td>\n",
       "      <td>NaN</td>\n",
       "      <td>NaN</td>\n",
       "      <td>NaN</td>\n",
       "      <td>NaN</td>\n",
       "      <td>NaN</td>\n",
       "      <td>NaN</td>\n",
       "      <td>NaN</td>\n",
       "      <td>NaN</td>\n",
       "      <td>NaN</td>\n",
       "      <td>NaN</td>\n",
       "    </tr>\n",
       "    <tr>\n",
       "      <th>207</th>\n",
       "      <td>Shensi</td>\n",
       "      <td>tcheou-hien</td>\n",
       "      <td>Siao tchai tse</td>\n",
       "      <td>Q47974</td>\n",
       "      <td>No wikidata</td>\n",
       "      <td></td>\n",
       "      <td>Hanchung</td>\n",
       "      <td>Q515573</td>\n",
       "      <td>1644</td>\n",
       "      <td>NaN</td>\n",
       "      <td>...</td>\n",
       "      <td>NaN</td>\n",
       "      <td>NaN</td>\n",
       "      <td>NaN</td>\n",
       "      <td>NaN</td>\n",
       "      <td>NaN</td>\n",
       "      <td>NaN</td>\n",
       "      <td>NaN</td>\n",
       "      <td>NaN</td>\n",
       "      <td>NaN</td>\n",
       "      <td>NaN</td>\n",
       "    </tr>\n",
       "    <tr>\n",
       "      <th>211</th>\n",
       "      <td>Szechwan</td>\n",
       "      <td>tcheou-hien</td>\n",
       "      <td>Mienchow</td>\n",
       "      <td>Q19770</td>\n",
       "      <td>Q10475921</td>\n",
       "      <td>Mien tcheou, hoje: Mianzhou, 绵州, hoje:</td>\n",
       "      <td>Chengtu</td>\n",
       "      <td>Q30002</td>\n",
       "      <td>1644</td>\n",
       "      <td>綿州</td>\n",
       "      <td>...</td>\n",
       "      <td>NaN</td>\n",
       "      <td>NaN</td>\n",
       "      <td>NaN</td>\n",
       "      <td>NaN</td>\n",
       "      <td>Q28408618</td>\n",
       "      <td>Sichuan</td>\n",
       "      <td>四川省</td>\n",
       "      <td>Q8733</td>\n",
       "      <td>Qing dynasty</td>\n",
       "      <td>Mienchow / 綿州</td>\n",
       "    </tr>\n",
       "    <tr>\n",
       "      <th>213</th>\n",
       "      <td>Szechwan</td>\n",
       "      <td>fou</td>\n",
       "      <td>Paoning</td>\n",
       "      <td>Q19770</td>\n",
       "      <td>Q10887586</td>\n",
       "      <td>Pao-ning, hoje: Baoning, 保宁, , Q1200170, 保宁府hi...</td>\n",
       "      <td>Paoning</td>\n",
       "      <td>Q10887586</td>\n",
       "      <td>1644</td>\n",
       "      <td>保宁府</td>\n",
       "      <td>...</td>\n",
       "      <td>NaN</td>\n",
       "      <td>NaN</td>\n",
       "      <td>NaN</td>\n",
       "      <td>NaN</td>\n",
       "      <td>Q28408618</td>\n",
       "      <td>Sichuan</td>\n",
       "      <td>四川省</td>\n",
       "      <td>Q8733</td>\n",
       "      <td>Qing dynasty</td>\n",
       "      <td>Baoning Fu / 保宁府</td>\n",
       "    </tr>\n",
       "  </tbody>\n",
       "</table>\n",
       "<p>26 rows × 24 columns</p>\n",
       "</div>"
      ],
      "text/plain": [
       "      province        level            name province_wikidata_id  wikidata_id  \\\n",
       "16    Chekiang  tcheou-hien          Wuking               Q16967  No wikidata   \n",
       "28      Fukien  tcheou-hien        Niensien               Q41705  No wikidata   \n",
       "33      Fukien  tcheou-hien           Aupua               Q41705    Q14420305   \n",
       "45      Fukien  tcheou-hien         Tingteo               Q41705  No wikidata   \n",
       "81     Hukwang  tcheou-hien    Meng kia k'i             Q1014420  No wikidata   \n",
       "86       Hunan  tcheou-hien         Paishui               Q45761  No wikidata   \n",
       "87    Kiangnan     province        Kiangnan            Q11133842    Q11133842   \n",
       "92      Anhwei  tcheou-hien         Tungmen               Q40956  No wikidata   \n",
       "96     Kiangsu  tcheou-hien         Kaowang               Q16963    Q13721719   \n",
       "102    Kiangsu  tcheou-hien          Wutsin               Q16963  No wikidata   \n",
       "107    Kiangsu  tcheou-hien        Changshu               Q16963   Q113497198   \n",
       "111    Kiangsu  tcheou-hien          Kaokia               Q16963  No wikidata   \n",
       "123    Kiangsu  tcheou-hien          Fushan               Q16963  No wikidata   \n",
       "148  Kwangtung  tcheou-hien           Makia               Q15175  No wikidata   \n",
       "151  Kwangtung  tcheou-hien   Hwanghsiaping               Q15175  No wikidata   \n",
       "152  Kwangtung  tcheou-hien        Motikang               Q15175  No wikidata   \n",
       "153  Kwangtung  tcheou-hien       Yangsiang               Q15175  No wikidata   \n",
       "163     Pequim  tcheou-hien        Tingchow                 Q956       Q64518   \n",
       "179     Shansi  tcheou-hien         Taiping               Q46913    Q18111423   \n",
       "186  Shangtung  tcheou-hien       Kwanchang               Q43407  No wikidata   \n",
       "189  Shangtung  tcheou-hien          Wuting               Q43407    Q17008118   \n",
       "195  Shangtung  tcheou-hien    Peichingtien               Q43407  No wikidata   \n",
       "201     Shensi  tcheou-hien        Kiao-tou               Q47974  No wikidata   \n",
       "207     Shensi  tcheou-hien  Siao tchai tse               Q47974  No wikidata   \n",
       "211   Szechwan  tcheou-hien        Mienchow               Q19770    Q10475921   \n",
       "213   Szechwan          fou         Paoning               Q19770    Q10887586   \n",
       "\n",
       "                                               comment        fou  \\\n",
       "16   Uchim,Ou kin, hoje:? Dehergne(1957) did not gi...     Ningpo   \n",
       "28   Dehergne(1957, p30): \"A côté de Hai keu on c...    Foochow   \n",
       "33   hoje: Houban, 后坂 (), (@geonames:1977135)Au-poa...  Changchow   \n",
       "45   藤头？顶头？ in the Chinese translation it is recogn...     Funing   \n",
       "81                                                       Kingchow   \n",
       "86                                                       Yungchow   \n",
       "87   Jiangnan?hoje:Jiangnan, 江南, , former province ...        NaN   \n",
       "92                                                       Hweichow   \n",
       "96   hoje: Gaowang, 高旺, , in the Chinese translatio...    Nanking   \n",
       "102                                                  ?  Changchow   \n",
       "107           hoje:Wuxian, 吴县, , fomer city in Jiangsu    Soochow   \n",
       "111  hoje: Gaojia, 高家, in the Chinese translation i...  Sungkiang   \n",
       "123  hoje: Fushan, 福山村, 31.800210981845982N, 120.76...   Yangchow   \n",
       "148  Machia, hoje: Majia, 马家, Dehergne(1957) said M...  Schiuchow   \n",
       "151  Hwanghsiaping, hoje: Vankaxen, 黄下坪？, In the Ch...  Schiuchow   \n",
       "152  Mochi, hoje: Madigang, 麻地岗, In the Chinese tra...  Schiuchow   \n",
       "153                              Yang-hiang, hoje: 杨姓村  Schiuchow   \n",
       "163                  Ting tcheou, hoje: Dingzhou, 定州,   Chengting   \n",
       "179  hoje: Taiping, 太平, , Q1113750, historical admi...   Pingyang   \n",
       "186                                                        Tsinan   \n",
       "189  Ou-ting, hoje: Wuding, 武定, [Wuting, alors tche...     Tsinan   \n",
       "195  Dehergne(1957)did not give the Chinese name of...  Tungchang   \n",
       "201                        Kiao-tou (ou Tungyiianfang)       Sian   \n",
       "207                                                      Hanchung   \n",
       "211           Mien tcheou, hoje: Mianzhou, 绵州, hoje:      Chengtu   \n",
       "213  Pao-ning, hoje: Baoning, 保宁, , Q1200170, 保宁府hi...    Paoning   \n",
       "\n",
       "    fou_wikidata_id  year chinese_label  ... portuguese_description  \\\n",
       "16           Q42780  1644           NaN  ...                    NaN   \n",
       "28           Q68481  1644           NaN  ...                    NaN   \n",
       "33           Q68814  1644           后坂村  ...                    NaN   \n",
       "45          Q241877  1644           NaN  ...                    NaN   \n",
       "81        Q14135188  1644           NaN  ...                    NaN   \n",
       "86          Q266014  1644           NaN  ...                    NaN   \n",
       "87              NaN  1644           江南省  ...                    NaN   \n",
       "92         Q4358404  1644           NaN  ...                    NaN   \n",
       "96           Q16666  1644          高旺社区  ...                    NaN   \n",
       "102          Q57970  1644           NaN  ...                    NaN   \n",
       "107          Q42622  1644           吳縣市  ...                    NaN   \n",
       "111       Q11104671  1644           NaN  ...                    NaN   \n",
       "123          Q57906  1644           NaN  ...                    NaN   \n",
       "148        Q1346617  1644           NaN  ...                    NaN   \n",
       "151        Q1346617  1644           NaN  ...                    NaN   \n",
       "152        Q1346617  1644           NaN  ...                    NaN   \n",
       "153        Q1346617  1644           NaN  ...                    NaN   \n",
       "163         Q197678  1644           NaN  ...                    NaN   \n",
       "179          Q73156  1644           太平县  ...                    NaN   \n",
       "186         Q170247  1644           NaN  ...                    NaN   \n",
       "189         Q170247  1644           武定州  ...                    NaN   \n",
       "195       Q10870440  1644           NaN  ...                    NaN   \n",
       "201           Q5826  1644           NaN  ...                    NaN   \n",
       "207         Q515573  1644           NaN  ...                    NaN   \n",
       "211          Q30002  1644            綿州  ...                    NaN   \n",
       "213       Q10887586  1644           保宁府  ...                    NaN   \n",
       "\n",
       "    coordinates latitude longitude administrative_entity_id  \\\n",
       "16          NaN      NaN       NaN                      NaN   \n",
       "28          NaN      NaN       NaN                      NaN   \n",
       "33          NaN      NaN       NaN                Q10868117   \n",
       "45          NaN      NaN       NaN                      NaN   \n",
       "81          NaN      NaN       NaN                      NaN   \n",
       "86          NaN      NaN       NaN                      NaN   \n",
       "87          NaN      NaN       NaN                    Q8733   \n",
       "92          NaN      NaN       NaN                      NaN   \n",
       "96          NaN      NaN       NaN                Q11134699   \n",
       "102         NaN      NaN       NaN                      NaN   \n",
       "107         NaN      NaN       NaN                   Q42622   \n",
       "111         NaN      NaN       NaN                      NaN   \n",
       "123         NaN      NaN       NaN                      NaN   \n",
       "148         NaN      NaN       NaN                      NaN   \n",
       "151         NaN      NaN       NaN                      NaN   \n",
       "152         NaN      NaN       NaN                      NaN   \n",
       "153         NaN      NaN       NaN                      NaN   \n",
       "163         NaN      NaN       NaN                      NaN   \n",
       "179         NaN      NaN       NaN                      NaN   \n",
       "186         NaN      NaN       NaN                      NaN   \n",
       "189         NaN      NaN       NaN                      NaN   \n",
       "195         NaN      NaN       NaN                      NaN   \n",
       "201         NaN      NaN       NaN                      NaN   \n",
       "207         NaN      NaN       NaN                      NaN   \n",
       "211         NaN      NaN       NaN                Q28408618   \n",
       "213         NaN      NaN       NaN                Q28408618   \n",
       "\n",
       "    administrative_entity_label_en administrative_entity_label_zh country_id  \\\n",
       "16                             NaN                            NaN        NaN   \n",
       "28                             NaN                            NaN        NaN   \n",
       "33                  Shangyong Town                            上涌镇       Q148   \n",
       "45                             NaN                            NaN        NaN   \n",
       "81                             NaN                            NaN        NaN   \n",
       "86                             NaN                            NaN        NaN   \n",
       "87                    Qing dynasty                             清朝      Q8733   \n",
       "92                             NaN                            NaN        NaN   \n",
       "96             Jiangpu Subdistrict                           江浦街道       Q148   \n",
       "102                            NaN                            NaN        NaN   \n",
       "107                         Suzhou                            苏州市       Q148   \n",
       "111                            NaN                            NaN        NaN   \n",
       "123                            NaN                            NaN        NaN   \n",
       "148                            NaN                            NaN        NaN   \n",
       "151                            NaN                            NaN        NaN   \n",
       "152                            NaN                            NaN        NaN   \n",
       "153                            NaN                            NaN        NaN   \n",
       "163                            NaN                            NaN       Q183   \n",
       "179                            NaN                            NaN        NaN   \n",
       "186                            NaN                            NaN        NaN   \n",
       "189                            NaN                            NaN        NaN   \n",
       "195                            NaN                            NaN        NaN   \n",
       "201                            NaN                            NaN        NaN   \n",
       "207                            NaN                            NaN        NaN   \n",
       "211                        Sichuan                            四川省      Q8733   \n",
       "213                        Sichuan                            四川省      Q8733   \n",
       "\n",
       "                  country_label              label  \n",
       "16                          NaN                NaN  \n",
       "28                          NaN                NaN  \n",
       "33   People's Republic of China       Houban / 后坂村  \n",
       "45                          NaN                NaN  \n",
       "81                          NaN                NaN  \n",
       "86                          NaN                NaN  \n",
       "87                 Qing dynasty     Jiangnan / 江南省  \n",
       "92                          NaN                NaN  \n",
       "96   People's Republic of China             / 高旺社区  \n",
       "102                         NaN                NaN  \n",
       "107  People's Republic of China  Wuxian City / 吳縣市  \n",
       "111                         NaN                NaN  \n",
       "123                         NaN                NaN  \n",
       "148                         NaN                NaN  \n",
       "151                         NaN                NaN  \n",
       "152                         NaN                NaN  \n",
       "153                         NaN                NaN  \n",
       "163                     Germany       Angelzoom /   \n",
       "179                         NaN              / 太平县  \n",
       "186                         NaN                NaN  \n",
       "189                         NaN              / 武定州  \n",
       "195                         NaN                NaN  \n",
       "201                         NaN                NaN  \n",
       "207                         NaN                NaN  \n",
       "211                Qing dynasty      Mienchow / 綿州  \n",
       "213                Qing dynasty   Baoning Fu / 保宁府  \n",
       "\n",
       "[26 rows x 24 columns]"
      ]
     },
     "execution_count": 62,
     "metadata": {},
     "output_type": "execute_result"
    }
   ],
   "source": [
    "# List rows in merged_df where the 'coordinates' column is NaN\n",
    "missing_coords_df = merged_df[merged_df['coordinates'].isna()]\n",
    "missing_coords_df"
   ]
  },
  {
   "cell_type": "markdown",
   "metadata": {},
   "source": [
    "### Map the structure of residences linking places to their enclosing administrative units."
   ]
  },
  {
   "cell_type": "code",
   "execution_count": 63,
   "metadata": {},
   "outputs": [
    {
     "name": "stderr",
     "output_type": "stream",
     "text": [
      "3367.06s - pydevd: Sending message related to process being replaced timed-out after 5 seconds\n"
     ]
    },
    {
     "name": "stderr",
     "output_type": "stream",
     "text": [
      "3367.06s - pydevd: Sending message related to process being replaced timed-out after 5 seconds\n"
     ]
    },
    {
     "name": "stdout",
     "output_type": "stream",
     "text": [
      ".bash_profile RUN!\n",
      "Requirement already satisfied: plotly in /Users/jrc/mhk-home/sources/dehergne/.venv/lib/python3.10/site-packages (6.1.2)\n",
      "Requirement already satisfied: narwhals>=1.15.1 in /Users/jrc/mhk-home/sources/dehergne/.venv/lib/python3.10/site-packages (from plotly) (1.41.0)\n",
      "Requirement already satisfied: packaging in /Users/jrc/mhk-home/sources/dehergne/.venv/lib/python3.10/site-packages (from plotly) (23.2)\n",
      "Requirement already satisfied: plotly in /Users/jrc/mhk-home/sources/dehergne/.venv/lib/python3.10/site-packages (6.1.2)\n",
      "Requirement already satisfied: narwhals>=1.15.1 in /Users/jrc/mhk-home/sources/dehergne/.venv/lib/python3.10/site-packages (from plotly) (1.41.0)\n",
      "Requirement already satisfied: packaging in /Users/jrc/mhk-home/sources/dehergne/.venv/lib/python3.10/site-packages (from plotly) (23.2)\n",
      "Note: you may need to restart the kernel to use updated packages.\n",
      "Note: you may need to restart the kernel to use updated packages.\n"
     ]
    }
   ],
   "source": [
    "%pip install plotly"
   ]
  },
  {
   "cell_type": "code",
   "execution_count": 70,
   "metadata": {},
   "outputs": [
    {
     "name": "stdout",
     "output_type": "stream",
     "text": [
      " (Level: fou) Province: Anhwei Q40956, Fou: Chuchow Q114045, Tcheou/Hien: Chuchow\n",
      "Chuchow Chuchow, hoje:Chuzhou, 滁州,  Chuzhou(prefecture-level city in Anhui, China) 滁州市(中国安徽省的地级市)\n",
      "  Fou: Chuchow (Wikidata ID: Q114045)\n",
      " (Level: fou) Province: Anhwei Q40956, Fou: Hweichow Q4358404, Tcheou/Hien: Hweichow\n",
      "Hweichow Hoei-tcheou, hoje:Huizhou, 徽州,  Huizhou(region in Anhui and Jiangxi, China) 徽州(nan)\n",
      "  Fou: Hweichow (Wikidata ID: Q4358404)\n",
      " (Level: tcheou-hien) Province: Anhwei Q40956, Fou: Hweichow Q4358404, Tcheou/Hien: Tungmen\n",
      "Tungmen nan(nan) nan(nan)\n",
      " (Level: tcheou-hien) Province: Anhwei Q40956, Fou: Hweichow Q4358404, Tcheou/Hien: Wuyan hien\n",
      "Wuyan hien Ou-yuen, hoje:Wuyuan Xian, 婺源县, , Wuyuan historically was in Anhui province, but now it is in the present-day Jiangxi province Wuyuan County(county in Shangrao, Jiangxi, China) 婺源县(中国江西省上饶市下辖县)\n",
      " (Level: province) Province: Anhwei Q40956, Fou: nan nan, Tcheou/Hien: Anhwei\n",
      "Anhwei Anhui, Ngon-hoei, hoje:Anhui, 安徽,  Anhui(province of China) 安徽省(中華人民共和國省份)\n",
      "  Province: Anhwei (Wikidata ID: Q40956)\n",
      " (Level: fou) Province: Chekiang Q16967, Fou: Chüchow Q58235, Tcheou/Hien: Chüchow\n",
      "Chüchow K'iu-tcheou, hoje:Quzhou, 衢州, , in the Chinese translation it is recognized as “遂州”, which is wrong, both phonetically and geographically. In Dehergne(1957), it is noted as \"衢州\". Quzhou(prefecture-level city in Zhejiang, China) 衢州市(中国浙江省的地级市)\n",
      "  Fou: Chüchow (Wikidata ID: Q58235)\n",
      " (Level: tcheou-hien) Province: Chekiang Q16967, Fou: Hangchou Q4970, Tcheou/Hien: Fuyang\n",
      "Fuyang Fou-yang, hoje:Fuyang, 富阳,  Fuyang District(district of Zhejiang Province, China) 富阳区(中国浙江省杭州市的市辖区)\n",
      " (Level: fou) Province: Chekiang Q16967, Fou: Hangchou Q4970, Tcheou/Hien: Hangchou\n",
      "Hangchou Hang-tcheou, hoje: Hangzhou, 杭州,  Hangzhou(capital of Zhejiang Province, China) 杭州市(亞洲城市，中華人民共和國浙江省省會)\n",
      "  Fou: Hangchou (Wikidata ID: Q4970)\n",
      " (Level: tcheou-hien) Province: Chekiang Q16967, Fou: Hangchou Q4970, Tcheou/Hien: Jenho\n",
      "Jenho Jen-houo, hoje: Renhe, 仁和县 (), Historical county name, coordinates: 30.448897N, 120.307504E Renhe(historical administrative division of China) 仁和县(中國古代行政區劃)\n",
      " (Level: fou) Province: Chekiang Q16967, Fou: Huchow Q42664, Tcheou/Hien: Huchow\n",
      "Huchow Hou-tcheou, hoje: Huzhou, 湖州,  Huzhou(prefecture-level city in Zhejiang, China) 湖州市(中国浙江省的地级市)\n",
      "  Fou: Huchow (Wikidata ID: Q42664)\n",
      " (Level: tcheou-hien) Province: Chekiang Q16967, Fou: Huchow Q42664, Tcheou/Hien: Tehtsing\n",
      "Tehtsing \"Tehtsing du Huchow, Té-ts'ingTeching# hoje: Deqing, 德清, \" Deqing County(county in Zhejiang, China) 德清县(中国浙江省湖州市下辖县)\n",
      " (Level: tcheou-hien) Province: Chekiang Q16967, Fou: Kashing Q58178, Tcheou/Hien: Kashan\n",
      "Kashan Kia-chan, hoje: Jiashan, 嘉善, Kaosham Jiashan County(county of Jiaxing, Zhejiang Province, China) 嘉善县(中国浙江省嘉兴市的县)\n",
      " (Level: fou) Province: Chekiang Q16967, Fou: Kashing Q58178, Tcheou/Hien: Kashing\n",
      "Kashing Kia-hing, hoje:Jiaxing, 嘉兴,  Jiaxing(prefecture-level city in Zhejiang, China) 嘉兴市(中国浙江省的地级市)\n",
      "  Fou: Kashing (Wikidata ID: Q58178)\n",
      " (Level: tcheou-hien) Province: Chekiang Q16967, Fou: Kashing Q58178, Tcheou/Hien: Tangsi\n",
      "Tangsi \"T'ang-k'i Tangchi\", hoje:Tangqi, 塘栖 , in the Chinese translation it is recognized as “塘拪” Tangxi(Town in Hangzhou, China) 塘栖镇(杭州市临平区的一个下辖镇)\n",
      " (Level: tcheou-hien) Province: Chekiang Q16967, Fou: Kashing Q58178, Tcheou/Hien: Tsungteh\n",
      "Tsungteh Tch'ong-té,hoje: Chongde, 崇德县 , Historical county name, located in the present Chongfu 崇福镇Tsungteh (Shihmen) Chongde County(historical county in Zhejiang, China) 崇德县(中国浙江省旧县名)\n",
      " (Level: tcheou-hien) Province: Chekiang Q16967, Fou: Kashing Q58178, Tcheou/Hien: Tungsiang\n",
      "Tungsiang T'ong-hiang, hoje:Tongxiang, 桐乡,  Tongxiang City(County-level city in Zhejiang Province, China) 桐乡市(中国浙江省嘉兴市下辖的县级市)\n",
      " (Level: fou) Province: Chekiang Q16967, Fou: Kinhwa Q58210, Tcheou/Hien: Kinhwa\n",
      "Kinhwa Kin-hoa,Chinhua,hoje:Jinhua, 金华,  Jinhua(prefecture-level city in Zhejiang, China) 金华市(中国浙江省中部的地级市)\n",
      "  Fou: Kinhwa (Wikidata ID: Q58210)\n",
      " (Level: tcheou-hien) Province: Chekiang Q16967, Fou: Kinhwa Q58210, Tcheou/Hien: Lanchi\n",
      "Lanchi (qui deviendra em 1656 R des OP)Lan-k'i， hoje:Lanxi, 兰溪,  Lanxi(county-level city in Zhejiang, China) 兰溪市(中国浙江省金华市代管的一个县级城市)\n",
      " (Level: tcheou-hien) Province: Chekiang Q16967, Fou: Kinhwa Q58210, Tcheou/Hien: Tungyang\n",
      "Tungyang Tong-yang, hoje:Dongyang, 东阳,  Dongyang(county-level city) 东阳市(浙江省金华市下辖的县级市)\n",
      " (Level: fou) Province: Chekiang Q16967, Fou: Ningpo Q42780, Tcheou/Hien: Ningpo\n",
      "Ningpo (v. 1540?)Ning-pouo,hoje: Ningbo, 宁波,  Ningbo(prefecture-level city in Zhejiang, China) 宁波市(浙江省的第二大城市，副省级市)\n",
      "  Fou: Ningpo (Wikidata ID: Q42780)\n",
      " (Level: tcheou-hien) Province: Chekiang Q16967, Fou: Ningpo Q42780, Tcheou/Hien: Tinghai\n",
      "Tinghai T'ing-hai, hoje:Dinghai, 定海,  Dinghai District(district of Zhejiang Province, China) 定海区(nan)\n",
      " (Level: tcheou-hien) Province: Chekiang Q16967, Fou: Ningpo Q42780, Tcheou/Hien: Tzeki\n",
      "Tzeki Ts'e-k'i,Tsuchi, hoje:Cixi, 慈溪,  Cixi City(county-level city in Ningbo, Zhejiang Province, China) 慈溪市(中国浙江省宁波市代管的一个县级市)\n",
      " (Level: tcheou-hien) Province: Chekiang Q16967, Fou: Ningpo Q42780, Tcheou/Hien: Wuking\n",
      "Wuking Uchim,Ou kin, hoje:? Dehergne(1957) did not give its Chinese name. In the Chinese translation it is recognized as “五井村”, which cannot be found.bourg de Wuking nan(nan) nan(nan)\n",
      " (Level: fou) Province: Chekiang Q16967, Fou: Shaoshing Q706161, Tcheou/Hien: Shaoshing\n",
      "Shaoshing Chao-hing,Shaohsing, hoje:Shaoxing, 绍兴,  Cixi City(county-level city in Ningbo, Zhejiang Province, China) 慈溪市(中国浙江省宁波市代管的一个县级市)\n",
      "  Fou: Shaoshing (Wikidata ID: Q706161)\n",
      " (Level: tcheou-hien) Province: Chekiang Q16967, Fou: Wenchow Q42635, Tcheou/Hien: Juian\n",
      "Juian Joei-ngan, hoje:Rui'an, 瑞安,  Rui'an(county-level city in China's Zhejiang province) 瑞安市(中国浙江省温州市的县级市)\n",
      " (Level: fou) Province: Chekiang Q16967, Fou: Wenchow Q42635, Tcheou/Hien: Wenchow\n",
      "Wenchow Wen-tcheou, hoje:Wenzhou, 温州,  Wenzhou(prefecture-level city in Zhejiang, China) 温州市(中国浙江省的地级市)\n",
      "  Fou: Wenchow (Wikidata ID: Q42635)\n",
      " (Level: province) Province: Chekiang Q16967, Fou: nan nan, Tcheou/Hien: Chekiang\n",
      "Chekiang Tche-kiang, hoje:Zhejiang, 浙江,  @dehergne:396 Zhejiang(province of China) 浙江省(中華人民共和國東部省份)\n",
      "  Province: Chekiang (Wikidata ID: Q16967)\n",
      " (Level: tcheou-hien) Province: Fukien Q41705, Fou: Changchow Q68814, Tcheou/Hien: Aupua\n",
      "Aupua hoje: Houban, 后坂 (), (@geonames:1977135)Au-poa,Heupuen Houban(village in China) 后坂村(nan)\n",
      " (Level: fou) Province: Fukien Q41705, Fou: Changchow Q68814, Tcheou/Hien: Changchow\n",
      "Changchow Zhangzhou, hoje:Zhangzhou, 漳州, Changchow (Lungki) Zhangzhou(prefecture-level city in Fujian, China) 漳州市(中国福建省的地级市)\n",
      "  Fou: Changchow (Wikidata ID: Q68814)\n",
      " (Level: tcheou-hien) Province: Fukien Q41705, Fou: Chüanchow Q68695, Tcheou/Hien: Amoy\n",
      "Amoy Hia-men,Shamen, hoje:Xiamen, 厦门, ,Amoy (Szeming) Xiamen(prefecture-level city in Fujian, China) 厦门市(中國福建省的副省級市)\n",
      " (Level: tcheou-hien) Province: Fukien Q41705, Fou: Chüanchow Q68695, Tcheou/Hien: Anhai\n",
      "Anhai Ngan-hai,hoje:Anhai,安海, principaux bourgs Anhai Town(town in Fujian Province, China) 安海镇(晋江市的一个镇)\n",
      " (Level: fou) Province: Fukien Q41705, Fou: Chüanchow Q68695, Tcheou/Hien: Chüanchow\n",
      "Chüanchow Quanzhou, Ts'iuen-tcheou, hoje:Quanzhou, 泉州,  Quanzhou(prefecture-level city in Fujian, China) 泉州市(中国福建省的地级市)\n",
      "  Fou: Chüanchow (Wikidata ID: Q68695)\n",
      " (Level: tcheou-hien) Province: Fukien Q41705, Fou: Chüanchow Q68695, Tcheou/Hien: Hweian\n",
      "Hweian Hoei-ngan, hoje:Hui'an, 惠安,  Hui'an County(county) 惠安县(中国福建泉州的县)\n",
      " (Level: tcheou-hien) Province: Fukien Q41705, Fou: Chüanchow Q68695, Tcheou/Hien: Tsingkiang\n",
      "Tsingkiang Chingchiang ,Tsin-kiang, hoje: Jingjiang, 靖江, . In the original book (Dehergne, 1973), it is written as \"Tsinkiang\" (without g), which is wrongly spelled, because from both phonetic and geographical points of view, it should be Tsingkiang 靖江. In Dehergne(1973), it is written as Tsingjiang. And in the Chinese translation, it is also recognized as \"靖江\".Tsinkiang Jingjiang(county-level city) 靖江市(中国江苏省的县级市)\n",
      " (Level: tcheou-hien) Province: Fukien Q41705, Fou: Chüanchow Q68695, Tcheou/Hien: Yungchun\n",
      "Yungchun Yong-tch'oen,Yungchin, hoje:Yongchun, 永春,  Yongchun County(county in Quanzhou, Fujian, China) 永春县(中国福建省泉州市下辖县)\n",
      " (Level: tcheou-hien) Province: Fukien Q41705, Fou: Foochow Q68481, Tcheou/Hien: Diongloh\n",
      "Diongloh hoje: Changle,长乐, Diongloh (Tch'ang-lo), Tch'ang-lo,Changlo Changle District(district in Fuzhou, Fujian, China) 长乐区(中国福建省福州市的区)\n",
      " (Level: fou) Province: Fukien Q41705, Fou: Foochow Q68481, Tcheou/Hien: Foochow\n",
      "Foochow Fuzhou，Fou-tcheou,Fuchou，hoje: Fuzhou, 福州,  Fuzhou(capital city of Fujian province, China) 福州市(中国福建省省会，地级市)\n",
      "  Fou: Foochow (Wikidata ID: Q68481)\n",
      " (Level: tcheou-hien) Province: Fukien Q41705, Fou: Foochow Q68481, Tcheou/Hien: Futsing\n",
      "Futsing Fou-ts'ing, Fuching, hoje:Fuqing, 福清,  Fuqing(county-level city in Fuzhou, Fujian, China) 福清市(中国福建省福州市下辖县级市)\n",
      " (Level: tcheou-hien) Province: Fukien Q41705, Fou: Foochow Q68481, Tcheou/Hien: Hoihow\n",
      "Hoihow Haikeu, hoje: Haikou, 海口镇, bourg de Hoihow (Haikeu) Haikou Town (Fuqing City)(town in Fujian Province, China) 海口镇 (福清市)(福州市的一个镇)\n",
      " (Level: tcheou-hien) Province: Fukien Q41705, Fou: Foochow Q68481, Tcheou/Hien: Hungtang\n",
      "Hungtang hoje: Hongtang, 洪塘, , in the Chinese translation it is written as “宏塘”, and in Dehergne(1957) it is \"洪堂\". But actually this place is written with the characters \"洪塘\".bourg de Hungtang nan(human settlement in People's Republic of China) 洪塘 (福州)(nan)\n",
      " (Level: tcheou-hien) Province: Fukien Q41705, Fou: Foochow Q68481, Tcheou/Hien: Kutien\n",
      "Kutien Kou-t'ien, hoje:Gutian, 古田,  Gutian County(county in Fujian Province, China) 古田县(福建省的县份)\n",
      " (Level: tcheou-hien) Province: Fukien Q41705, Fou: Foochow Q68481, Tcheou/Hien: Lienkong\n",
      "Lienkong Lien-kiang,Lienchiang, hoje:Lianjiang, 连江,  Lianjiang County(county in Fujian, China) 连江县(福建县份，主体部分今由中华人民共和国控制)\n",
      " (Level: tcheou-hien) Province: Fukien Q41705, Fou: Foochow Q68481, Tcheou/Hien: Machang\n",
      "Machang hoje: Machang, 马厂村,  (Changshan district),The Wikidata Q17033140 is that of \"马厂街基督教堂\" Machang Street Christian Church, but no coordinatesbourg de Machang, Machang Cangshan District(district of Fuzhou, Fujian, China) 仓山区(中国福建省福州市市辖区)\n",
      " (Level: tcheou-hien) Province: Fukien Q41705, Fou: Foochow Q68481, Tcheou/Hien: Niensien\n",
      "Niensien Dehergne(1957, p30): \"A côté de Hai keu on cite, en 1639, une chrétienté \" Nien sien \", dont nous ignorons tout.\"bourg de Niensien nan(nan) nan(nan)\n",
      " (Level: tcheou-hien) Province: Fukien Q41705, Fou: Funing Q241877, Tcheou/Hien: Fuan\n",
      "Fuan Fou-ngan, hoje:Fu'an, 福安,  Fu'an(county-level city) 福安市(中国福建省宁德市代管的县级市)\n",
      " (Level: fou) Province: Fukien Q41705, Fou: Funing Q241877, Tcheou/Hien: Funing\n",
      "Funing Fou-ning, hoje:Funing, 福宁,, historical administrative division. The Wikidata code is of its administrative center Xiapu 霞浦Funing (tcheou indép.) Xiapu County(county) 霞浦县(福建省宁德市下辖县)\n",
      "  Fou: Funing (Wikidata ID: Q241877)\n",
      " (Level: tcheou-hien) Province: Fukien Q41705, Fou: Funing Q241877, Tcheou/Hien: Hiapoey\n",
      "Hiapoey Apuy, hoje: Xiapi, 下邳, in the Chinese translation, it is recognized as \"霞浦\", but actually it is not. In Dehergne(1957), it is noted as \"下邳\", coordinates: 26.832013826263175N,119.77591087254943E geonames:8579733 (China, FujianNingde Shi, xiapicun), Ningde Shi -> Hiapoey (Apuy) Ningde Shi(nan) nan(nan)\n",
      " (Level: tcheou-hien) Province: Fukien Q41705, Fou: Funing Q241877, Tcheou/Hien: Lokia\n",
      "Lokia \"\"\"Lukiahsiang,Lokahoeng, hoje:Luojiaxiang, 罗家巷, in the Chinese translation, it is recognized as 闾峡, but in Dehergne(1957), it is noted as 罗家巷. 罗家巷 now is in 罗江. coordinates: 26.971131830911116N, 119.67270683499889E geonames:8579942 Luojiangcun circa  \"\"\"principaux bourgs Luojiang District(district of China) 洛江区(nan)\n",
      " (Level: tcheou-hien) Province: Fukien Q41705, Fou: Funing Q241877, Tcheou/Hien: Muyang\n",
      "Muyang hoje:Muyang, 穆阳, principaux bourgs, Mou-yang Muyang Town(town in Fujian Province, China) 穆阳镇(nan)\n",
      " (Level: tcheou-hien) Province: Fukien Q41705, Fou: Funing Q241877, Tcheou/Hien: Ningteh\n",
      "Ningteh hoje: Ningde, 宁德, Ning-té,Ningte Ningde(prefecture-level city in Fujian, People's Republic of China) 宁德市(中国福建省的地级市)\n",
      " (Level: tcheou-hien) Province: Fukien Q41705, Fou: Funing Q241877, Tcheou/Hien: Showning\n",
      "Showning Cheou-ning, hoje:Shouning, 寿宁,  Shouning County(county) 寿宁县(nan)\n",
      " (Level: tcheou-hien) Province: Fukien Q41705, Fou: Funing Q241877, Tcheou/Hien: Tingteo\n",
      "Tingteo 藤头？顶头？ in the Chinese translation it is recognized as “丁岛”, which is wrong, in Dehergne(1957, p35), it said \"identification de la localité n'est pas facile.\" And several possible Chinese names were given, not sure which is the right one. nan(nan) nan(nan)\n",
      " (Level: fou) Province: Fukien Q41705, Fou: Hinghwa Q68579, Tcheou/Hien: Hinghwa\n",
      "Hinghwa Hing-hoa,Hsinghua, hoje:Xinghua, 兴化, wikidata:Q17498990, 兴化县，the wikidata code of it does not contain coordinate information, which can be substituted by ，the present-day Putian 莆田 Putian(prefecture-level city in Fujian, China) 莆田市(中华人民共和国福建省地级市)\n",
      "  Fou: Hinghwa (Wikidata ID: Q68579)\n",
      " (Level: tcheou-hien) Province: Fukien Q41705, Fou: Hinghwa Q68579, Tcheou/Hien: Putien\n",
      "Putien P'ou-t'ien, hoje:Putian, 莆田,  Putian Xian(ancient county of China) 莆田縣(中国历史地名, 福建省莆田市)\n",
      " (Level: tcheou-hien) Province: Fukien Q41705, Fou: Hinghwa Q68579, Tcheou/Hien: Sienyu\n",
      "Sienyu Sien-yeou, hoje:Xianyou, 仙游,  Xianyou County(county) 仙游县(中国福建省莆田市代管县)\n",
      " (Level: tcheou-hien) Province: Fukien Q41705, Fou: Kienning Q639862, Tcheou/Hien: Chungan\n",
      "Chungan Tch'ong-ngan, hoje:Chong'an, 崇安, , Today the city's name changed to be Wuyishan 武夷山市, and the wikidata code is that of Wuyishan Wuyishan(county-level city in Nanping, China) 武夷山市(nan)\n",
      " (Level: fou) Province: Fukien Q41705, Fou: Kienning Q639862, Tcheou/Hien: Kienning\n",
      "Kienning Kienning (Kienow), Kien-yang, hoje:Jianyang, 建阳,  Jianyang District(district of Nanping, Fujian, China) 建阳区(nan)\n",
      "  Fou: Kienning (Wikidata ID: Q639862)\n",
      " (Level: tcheou-hien) Province: Fukien Q41705, Fou: Kienning Q639862, Tcheou/Hien: Kienyang\n",
      "Kienyang Kien-yang, hoje:Jianyang, 建阳,  Jianyang District(district of Nanping, Fujian, China) 建阳区(nan)\n",
      " (Level: tcheou-hien) Province: Fukien Q41705, Fou: Shaowu Q1025451, Tcheou/Hien: Kienning hien\n",
      "Kienning hien Kien-ning,Chienning, hoje:Jianning Xian, 建宁县,  Jianning County(county) 建宁县(中国福建省三明市下辖县)\n",
      " (Level: fou) Province: Fukien Q41705, Fou: Shaowu Q1025451, Tcheou/Hien: Shaowu\n",
      "Shaowu Chao-ou, hoje:Shaowu, 邵武,  Shaowu(county-level city) 邵武市(福建省南平市代管的县级市)\n",
      "  Fou: Shaowu (Wikidata ID: Q1025451)\n",
      " (Level: tcheou-hien) Province: Fukien Q41705, Fou: Shaowu Q1025451, Tcheou/Hien: Taining\n",
      "Taining T'ai-ning, hoje:Taining, 泰宁,  Taining County(county) 泰宁县(nan)\n",
      " (Level: tcheou-hien) Province: Fukien Q41705, Fou: Taiwan Q22502, Tcheou/Hien: Camarri\n",
      "Camarri hoje:Jinbaoli, 金包里, in the Chinese translation it is recognized as “噶玛兰”, but in Dehergne(1957) it is noted as \"金包里\". It is an area in the Northern Taiwan, coordinates: 25.22189808588497N, 121.6382892794898EQuimauri nan(nan) nan(nan)\n",
      " (Level: tcheou-hien) Province: Fukien Q41705, Fou: Taiwan Q22502, Tcheou/Hien: Kilung\n",
      "Kilung Ki-long, Jilong, hoje:Keelung, 基隆,  Keelung(provincial-level city and the northernmost city in Taiwan) 基隆市(臺灣（中華民國）省轄市、臺灣最北的都市)\n",
      " (Level: tcheou-hien) Province: Fukien Q41705, Fou: Taiwan Q22502, Tcheou/Hien: Santiago\n",
      "Santiago hoje:Cape Santiago, 三貂角, Kakinauan, Samitiao Cape Santiago(cape located in Taiwan) 三貂角(位於台灣東北部的岬角)\n",
      " (Level: fou) Province: Fukien Q41705, Fou: Taiwan Q22502, Tcheou/Hien: Taiwan\n",
      "Taiwan hoje:Taiwan, 台湾, Formose (Taiwan), Formosa Taiwan Island(island in East Asia; main land of the Republic of China (Taiwan)) 臺灣島(位於西太平洋的東亞島嶼)\n",
      "  Fou: Taiwan (Wikidata ID: Q22502)\n",
      " (Level: tcheou-hien) Province: Fukien Q41705, Fou: Taiwan Q22502, Tcheou/Hien: Tamsui\n",
      "Tamsui Tamsui District(A district in New Taipei City, Taiwan) 淡水區(臺灣新北市的市轄區)\n",
      " (Level: tcheou-hien) Province: Fukien Q41705, Fou: Taiwan Q22502, Tcheou/Hien: Taparri\n",
      "Taparri \"\"\"hoje：大包里 in the Chinese translation it is recognized as 塔巴里,in Dehergne(1957) it is noted as 大包里, which cannot be found in the map. Dehergne(1957) puts it as \"Peninsule de Masu, à 1 lieue nord-ouest de San Salvador (社寮)\"\n",
      "                today's Santissima Trinidad ， with Masu coordinates:25.201218764354735N, 121.68618375811317E\"\"\" Santisima Trinidad(former bay on the northeast coast of Taiwan at Keelung) nan(nan)\n",
      " (Level: tcheou-hien) Province: Fukien Q41705, Fou: Tingchow Q7808213, Tcheou/Hien: Ninghwa\n",
      "Ninghwa Ning-hoa, hoje:Ninghua, 宁化,  Ninghua County(county) 宁化县(中国福建省三明市下辖县)\n",
      " (Level: fou) Province: Fukien Q41705, Fou: Tingchow Q7808213, Tcheou/Hien: Tingchow\n",
      "Tingchow T'ing-tcheou, hoje:Tingzhou, 汀州,  Tingzhou Town(town in Fujian Province, China) 汀州镇(nan)\n",
      "  Fou: Tingchow (Wikidata ID: Q7808213)\n",
      " (Level: tcheou-hien) Province: Fukien Q41705, Fou: Tingchow Q7808213, Tcheou/Hien: Tsingliu\n",
      "Tsingliu Tsing-lowou,Chingliu, hoje:Qingliu, 清流,  Qingliu County(county) 清流县(位於中華人民共和國福建省的縣)\n",
      " (Level: tcheou-hien) Province: Fukien Q41705, Fou: Yenping Q1337959, Tcheou/Hien: Shahsien\n",
      "Shahsien hoje: Shaxian, 沙县 Cha Shaxian District(district in Sanming, Fujian, China) 沙县区(中国福建省三明市的市辖区)\n",
      " (Level: fou) Province: Fukien Q41705, Fou: Yenping Q1337959, Tcheou/Hien: Yenping\n",
      "Yenping Yen-p'ing, hoje:Yanping, 延平,  Yanping District(district of China) 延平区(中国福建省南平市下辖区)\n",
      "  Fou: Yenping (Wikidata ID: Q1337959)\n",
      " (Level: province) Province: Fukien Q41705, Fou: nan nan, Tcheou/Hien: Fukien\n",
      "Fukien Fou-kien, hoje: Fujian, 福建,  @dehergne:397 Fujian(province of the People's Republic of China, covering the mountainous coast opposite Taiwan) 福建省(中华人民共和国省份)\n",
      "  Province: Fukien (Wikidata ID: Q41705)\n",
      " (Level: fou) Province: Honan Q43684, Fou: Kaifeng Q208471, Tcheou/Hien: Kaifeng\n",
      "Kaifeng Kaifeng (Pienleang) «chrétiens de la Croix» (D'Elu II 319 sq) v. 1550., chrétienté v. 1623, K'ai-fong, hoje:Kaifeng, 开封,  Kaifeng(prefecture-level city in Henan, China, a former capital of China) 開封市(中國河南省的地級市)\n",
      "  Fou: Kaifeng (Wikidata ID: Q208471)\n",
      " (Level: tcheou-hien) Province: Honan Q43684, Fou: Kaifeng Q208471, Tcheou/Hien: Yüanwu\n",
      "Yüanwu Yuen-ou, hoje:Yuanwu, 原武,  Yuanwu Town(nan) 原武镇(中华人民共和国境内的一个乡镇级行政单位)\n",
      " (Level: fou) Province: Honan Q43684, Fou: Kweiteh Q404817, Tcheou/Hien: Kweiteh\n",
      "Kweiteh Koei-té,Kueite, hoje: Guide, 归德,  Shangqiu(prefecture-level city in Henan, China) 商丘市(中國河南省的地級市)\n",
      "  Fou: Kweiteh (Wikidata ID: Q404817)\n",
      " (Level: province) Province: Honan Q43684, Fou: nan nan, Tcheou/Hien: Honan\n",
      "Honan hoje:Henan, 河南,  Henan(province of the People's Republic of China (1949-)) 河南省(中华人民共和国省份)\n",
      "  Province: Honan (Wikidata ID: Q43684)\n",
      " (Level: fou) Province: Hukwang Q1014420, Fou: Anlu Q557934, Tcheou/Hien: Anlu\n",
      "Anlu do Hupei?, Ngan-lou, hoje:Anlu, 安陆,  Anlu(county-level city) 安陆市(中国湖北省孝感市代管的一个县级市)\n",
      "  Fou: Anlu (Wikidata ID: Q557934)\n",
      " (Level: tcheou-hien) Province: Hukwang Q1014420, Fou: Anlu Q557934, Tcheou/Hien: Kingmen\n",
      "Kingmen Kingmen, King-men,Chingmen, hoje:Jingmen, 荆门,  Jingmen(prefecture-level city in Hubei, China) 荆门市(中国湖北省中部的地级市)\n",
      " (Level: fou) Province: Hukwang Q1014420, Fou: Hwangchow Q927929, Tcheou/Hien: Hwangchow\n",
      "Hwangchow do Hupei?, Hoang-tcheou, hoje:Huangzhou, 黄州,  Huangzhou District(district in Huanggang, Hubei, China) 黄州区(湖北省黄冈市辖区)\n",
      "  Fou: Hwangchow (Wikidata ID: Q927929)\n",
      " (Level: tcheou-hien) Province: Hukwang Q1014420, Fou: Hwangchow Q927929, Tcheou/Hien: Kichow\n",
      "Kichow Kichow (Kichun), King-men,Chingmen, hoje:Jingmen, 荆门,  Jingmen(prefecture-level city in Hubei, China) 荆门市(中国湖北省中部的地级市)\n",
      " (Level: fou) Province: Hukwang Q1014420, Fou: Kingchow Q14135188, Tcheou/Hien: Kingchow\n",
      "Kingchow do Hupei?, K'i-tcheou,Chichou, hoje: Qizhou, 蕲州,  Qizhou Town(nan) 蕲州镇(nan)\n",
      "  Fou: Kingchow (Wikidata ID: Q14135188)\n",
      " (Level: tcheou-hien) Province: Hukwang Q1014420, Fou: Kingchow Q14135188, Tcheou/Hien: Kungan\n",
      "Kungan Kong-ngan, hoje:Gong'an, 公安,  Gong'an County(county in Jingzhou, Hubei) 公安县(中国湖北省荆州市辖县)\n",
      " (Level: tcheou-hien) Province: Hukwang Q1014420, Fou: Kingchow Q14135188, Tcheou/Hien: Meng kia k'i\n",
      "Meng kia k'i nan(nan) nan(nan)\n",
      " (Level: tcheou-hien) Province: Hukwang Q1014420, Fou: Kingchow Q14135188, Tcheou/Hien: Shihshow\n",
      "Shihshow Che-cheou, hoje:Shishou, 石首,  Shishou(county-level city in Jingzhou, Hubei province, China) 石首市(中国湖北省荆州市代管的县级市)\n",
      " (Level: tcheou-hien) Province: Hukwang Q1014420, Fou: Wuchang Q1014420, Tcheou/Hien: Tungshan\n",
      "Tungshan T'ong-chan, hoje:Tongshan, 通山,  Tongshan County(county in Hubei province, China) 通山县(中國湖北咸寧市下轄的縣)\n",
      " (Level: fou) Province: Hukwang Q1014420, Fou: Wuchang Q1014420, Tcheou/Hien: Wuchang\n",
      "Wuchang do Hupei?, Ou-tch'ang, hoje:Wuchang, 武昌,  Wuchang District(district of Wuhan in Hubei Province, China) 武昌区(武汉市中心城区之一)\n",
      "  Fou: Wuchang (Wikidata ID: Q1014420)\n",
      " (Level: province) Province: Hukwang Q1014420, Fou: nan nan, Tcheou/Hien: Hukwang\n",
      "Hukwang Huguang?, Hou-Quang, hoje:Huguang,湖广, wikidata:Q2235155 for coordinates we use Wuchang District , where the head quarters of vice-roy of Huguang (wikidata:Q11563236) was located. Wuchang District(district of Wuhan in Hubei Province, China) 武昌区(武汉市中心城区之一)\n",
      "  Province: Hukwang (Wikidata ID: Q1014420)\n",
      " (Level: tcheou-hien) Province: Hunan Q45761, Fou: Yungchow Q266014, Tcheou/Hien: Kiyang\n",
      "Kiyang K'i-yang,Chiyang, hoje:Qiyang, 祁阳,  Qiyang(county-level city in Yongzhou, Hunan, China) 祁阳市(中国湖南省永州市代管的县级市)\n",
      " (Level: tcheou-hien) Province: Hunan Q45761, Fou: Yungchow Q266014, Tcheou/Hien: Paishui\n",
      "Paishui nan(nan) nan(nan)\n",
      " (Level: fou) Province: Hunan Q45761, Fou: Yungchow Q266014, Tcheou/Hien: Yungchow\n",
      "Yungchow do Hunan?, Yong-tcheou, hoje:Yongzhou, 永州,  Yongzhou(prefecture-level city in Hunan, China) 永州市(中国湖南省南部的地级市)\n",
      "  Fou: Yungchow (Wikidata ID: Q266014)\n",
      " (Level: province) Province: Hunan Q45761, Fou: nan nan, Tcheou/Hien: Hunan\n",
      "Hunan Hou-nan, hoje:Hunan, 湖南,  Hunan(landlocked province in China) 湖南省(中国省份)\n",
      "  Province: Hunan (Wikidata ID: Q45761)\n",
      " (Level: province) Province: Kiangnan Q11133842, Fou: nan nan, Tcheou/Hien: Kiangnan\n",
      "Kiangnan Jiangnan?hoje:Jiangnan, 江南, , former province of China, corresponding to modern-day Jiangsu and Anhui provincesKIANGNAN ou NANKING Jiangnan(Province of the Qing Empire covering the area of modern Shanghai, Jiangsu, and Anhui) 江南省(大清帝国省份)\n",
      "  Province: Kiangnan (Wikidata ID: Q11133842)\n",
      " (Level: fou) Province: Kiangsi Q57052, Fou: Kienchang Q11065388, Tcheou/Hien: Kienchang\n",
      "Kienchang Kien-tch'ang,Chienchang, hoje:Jianchang, 建昌,  Jianchang Town(nan) 建昌镇(中国江西省抚州市南城县下辖镇)\n",
      "  Fou: Kienchang (Wikidata ID: Q11065388)\n",
      " (Level: fou) Province: Kiangsi Q57052, Fou: Nanan Q28794376, Tcheou/Hien: Nanan\n",
      "Nanan Nan-ngan, hoje: Nan'an, 南安,  Nan'an Town, Dayu(nan) 南安镇 (大余县)(nan)\n",
      "  Fou: Nanan (Wikidata ID: Q28794376)\n",
      " (Level: tcheou-hien) Province: Kiangsi Q57052, Fou: Nanan Q28794376, Tcheou/Hien: Nancheng\n",
      "Nancheng Nan-tch'eng, hoje:Nancheng, 南城,  Nancheng County(county) 南城县(中华人民共和国境内的一个县份)\n",
      " (Level: tcheou-hien) Province: Kiangsi Q57052, Fou: Nanan Q28794376, Tcheou/Hien: Nanfeng\n",
      "Nanfeng Nan-fong, hoje: Nanfeng, 南丰,  Nanfeng County(county) 南丰县(中国江西省抚州市下辖县)\n",
      " (Level: fou) Province: Kiangsi Q57052, Fou: Nanchang Q171943, Tcheou/Hien: Nanchang\n",
      "Nanchang Nan-tch'ang, hoje:Nanchang, 南昌,  Nanchang(capital of Jiangxi province, China) 南昌市(中國江西省省會，地級市)\n",
      "  Fou: Nanchang (Wikidata ID: Q171943)\n",
      " (Level: province) Province: Kiangsi Q57052, Fou: nan nan, Tcheou/Hien: Kiangsi\n",
      "Kiangsi Jiangxi, Kiang-si, hoje: Jiangxi, 江西,  Jiangxi(province of central China, located around the Gan River south of the Yangtze) 江西省(中华人民共和国省份)\n",
      "  Province: Kiangsi (Wikidata ID: Q57052)\n",
      " (Level: fou) Province: Kiangsu Q16963, Fou: Changchow Q57970, Tcheou/Hien: Changchow\n",
      "Changchow hoje:Changzhou, 常州, Changchow (Wutsin) Changzhou(prefecture-level city in Jiangsu, China) 常州市(中國江蘇省的地級市)\n",
      "  Fou: Changchow (Wikidata ID: Q57970)\n",
      " (Level: tcheou-hien) Province: Kiangsu Q16963, Fou: Changchow Q57970, Tcheou/Hien: Ihing\n",
      "Ihing I-hing,Ihsing, hoje:Yixing, 宜兴,  Yixing(county-level city in Wuxi, Jiangsu Province, China) 宜兴市(中国江苏省无锡市代管的县级市)\n",
      " (Level: tcheou-hien) Province: Kiangsu Q16963, Fou: Changchow Q57970, Tcheou/Hien: Tsinkiang\n",
      "Tsinkiang Chingchiang, hoje:Jingjiang, 靖江, , In the original book (Dehergne, 1973), it is written as \"Tsinkiang\" (without g), which is wrongly spelled, because from both phonetic and geographical points of view, it should be Tsingkiang 靖江. In Dehergne(1973), it is written as Tsingjiang. And in the Chinese translation, it is also recognized as \"靖江\". Jingjiang(county-level city) 靖江市(中国江苏省的县级市)\n",
      " (Level: tcheou-hien) Province: Kiangsu Q16963, Fou: Changchow Q57970, Tcheou/Hien: Wusih\n",
      "Wusih Ou-si,Wuhsi, hoje:Wuxi, 无锡,  Wuxi(prefecture-level city in Jiangsu, China) 无锡市(中國江蘇省的地級市)\n",
      " (Level: tcheou-hien) Province: Kiangsu Q16963, Fou: Changchow Q57970, Tcheou/Hien: Wutsin\n",
      "Wutsin ? nan(nan) nan(nan)\n",
      " (Level: fou) Province: Kiangsu Q16963, Fou: Chinkiang Q57958, Tcheou/Hien: Chinkiang\n",
      "Chinkiang Tchen-kiang,Chenchiang, hoje:Zhenjiang, 镇江,  Zhenjiang(prefecture-level city in Jiangsu, China) 鎮江市(中國江蘇省的地級市)\n",
      "  Fou: Chinkiang (Wikidata ID: Q57958)\n",
      " (Level: tcheou-hien) Province: Kiangsu Q16963, Fou: Chinkiang Q57958, Tcheou/Hien: Tanyang\n",
      "Tanyang Tan-yang, hoje:Danyang, 丹阳,  Danyang(County-level city in Jiangsu Province, China) 丹阳市(中国江苏省的县级市)\n",
      " (Level: fou) Province: Kiangsu Q16963, Fou: Hwaian Q57818, Tcheou/Hien: Hwaian\n",
      "Hwaian Hoai-ngan, hoje:Huai'an, 淮安,  Huai'an(prefecture-level city in Jiangsu, China) 淮安市(中国江苏省的地级市)\n",
      "  Fou: Hwaian (Wikidata ID: Q57818)\n",
      " (Level: tcheou-hien) Province: Kiangsu Q16963, Fou: Nanking Q16666, Tcheou/Hien: Kaowang\n",
      "Kaowang hoje: Gaowang, 高旺, , in the Chinese translation, it is written as “高望”, which should be “高旺”. nan(nan) 高旺社区(nan)\n",
      " (Level: tcheou-hien) Province: Kiangsu Q16963, Fou: Nanking Q16666, Tcheou/Hien: Lungtan\n",
      "Lungtan hoje:Longtan, 龙潭,  Longtan Subdistrict(nan) 龙潭街道(nan)\n",
      " (Level: fou) Province: Kiangsu Q16963, Fou: Nanking Q16666, Tcheou/Hien: Nanking\n",
      "Nanking Nanjing, Nan-king,Nanching, hoje: Nanjing, 南京,  Nanjing(capital city of Jiangsu Province, China, former capital of the Republic of China and China's Ming dynasty) 南京市(中国江苏省省会，副省级城市)\n",
      "  Fou: Nanking (Wikidata ID: Q16666)\n",
      " (Level: tcheou-hien) Province: Kiangsu Q16963, Fou: Nanking Q16666, Tcheou/Hien: Siaolingwei\n",
      "Siaolingwei Hiao-ling-wei,Hsiaolingwei, hoje: Xiaolingwei, 孝陵卫,  Xiaolingwei Subdistrict(nan) 孝陵卫街道(nan)\n",
      " (Level: tcheou-hien) Province: Kiangsu Q16963, Fou: Soochow Q42622, Tcheou/Hien: Changshu\n",
      "Changshu hoje:Wuxian, 吴县, , fomer city in Jiangsu Wuxian City(former city in Jiangsu, China) 吳縣市(已經撤銷的縣級市)\n",
      " (Level: tcheou-hien) Province: Kiangsu Q16963, Fou: Soochow Q42622, Tcheou/Hien: Kiating\n",
      "Kiating Kia-ting,Chiating, hoje:Jiading, 嘉定,  Jiading(district of Shanghai, China, and former separate city) 嘉定區(中國上海市的市轄區)\n",
      " (Level: fou) Province: Kiangsu Q16963, Fou: Soochow Q42622, Tcheou/Hien: Soochow\n",
      "Soochow Sou-tcheou, Suchou, hoje:Suzhou, 苏州, Soochow (Wuhsien) Suzhou(prefecture-level city in Jiangsu, China, former capital of the kingdom of Wu) 苏州市(中国江苏省下辖的地级市)\n",
      "  Fou: Soochow (Wikidata ID: Q42622)\n",
      " (Level: tcheou-hien) Province: Kiangsu Q16963, Fou: Soochow Q42622, Tcheou/Hien: Tsungming\n",
      "Tsungming Tch'ong-ming,Chungming, hoje: Chongming, 崇明, Tsungming (île) Chongming District(District) 崇明区(中國上海市行政區)\n",
      " (Level: tcheou-hien) Province: Kiangsu Q16963, Fou: Sungkiang Q11104671, Tcheou/Hien: Chuking\n",
      "Chuking Tchou-king,Chuching, hoje:Zhujing, 朱泾, , in the Chinese traslation it is written as “诸泾”, which should be “朱泾” Zhujing Town(nan) 朱泾镇(nan)\n",
      " (Level: tcheou-hien) Province: Kiangsu Q16963, Fou: Sungkiang Q11104671, Tcheou/Hien: Chwansha\n",
      "Chwansha Tch'oan-cha, hoje:Chuansha, 川沙,  Chuansha County(former county of Shanghai, China) 川沙县(nan)\n",
      " (Level: tcheou-hien) Province: Kiangsu Q16963, Fou: Sungkiang Q11104671, Tcheou/Hien: Fenghsien\n",
      "Fenghsien Fong-hien,Fenghsien, hoje:Fengxian, 奉贤, Fenghsien (Vongtsié) Fengxian District(district of Shanghai, China) 奉贤区(中国上海市的市辖区)\n",
      " (Level: tcheou-hien) Province: Kiangsu Q16963, Fou: Sungkiang Q11104671, Tcheou/Hien: Kaokia\n",
      "Kaokia hoje: Gaojia, 高家, in the Chinese translation it is recognized as “高家岗”, which actually is not in that area. It should be “高家”. Dehergne(1957, p60) said \"'Cao kia' près de Cié pao (=Tsipao) est citée dans l'annuelle de 1643 (JS 122 185). Il y a un 高家 plus près de Sungkiang, à l'est.\" nan(nan) nan(nan)\n",
      " (Level: tcheou-hien) Province: Kiangsu Q16963, Fou: Sungkiang Q11104671, Tcheou/Hien: Kinshan\n",
      "Kinshan Kin-chan,Chinshan, hoje: Jinshan, 金山,  Jinshan District(district of Shanghai, China) 金山区(中国上海市的市辖区)\n",
      " (Level: tcheou-hien) Province: Kiangsu Q16963, Fou: Sungkiang Q11104671, Tcheou/Hien: Mo ka pang\n",
      "Mo ka pang Ma kia pim, hoje: Majiabang, 马家浜, in the Chinese translation it is recognized as “穆喀榜”, which is wrong. Dehergne(1957, p60) said it is \"马家滨\" at \"sud de Sung-kiang\". In the present day it might be \"马家浜\" to the south Songjiang, coordinates: 30.845691234919308N, 121.3179093082612E nan(nan) nan(nan)\n",
      " (Level: tcheou-hien) Province: Kiangsu Q16963, Fou: Sungkiang Q11104671, Tcheou/Hien: Shanghai\n",
      "Shanghai Chang-hai, hoje: Shanghai, 上海,  Shanghai(provincial-level municipality in China) 上海市(中华人民共和国直辖市)\n",
      " (Level: fou) Province: Kiangsu Q16963, Fou: Sungkiang Q11104671, Tcheou/Hien: Sungkiang\n",
      "Sungkiang Song-kiang,Sungching, hoje: Songjiang, 松江,  Songjiang Fu(ancient superior prefecture of China) 松江府(中国历史行政地区)\n",
      "  Fou: Sungkiang (Wikidata ID: Q11104671)\n",
      " (Level: tcheou-hien) Province: Kiangsu Q16963, Fou: Sungkiang Q11104671, Tcheou/Hien: Tsingpu\n",
      "Tsingpu Ts'ing-p'ou,Chingpu, hoje: Qingpu, 青浦,  Qingpu Xian(ancient county-level place of China) 青浦县(中国历史地名)\n",
      " (Level: tcheou-hien) Province: Kiangsu Q16963, Fou: Sungkiang Q11104671, Tcheou/Hien: Tsipao\n",
      "Tsipao Tsi-pao,Chipao, hoje: Qibao, 七宝,  Qibao(town in Shanghai, People's Republic of China) 七宝镇(上海闵行区的古镇)\n",
      " (Level: tcheou-hien) Province: Kiangsu Q16963, Fou: Yangchow Q57906, Tcheou/Hien: Fushan\n",
      "Fushan hoje: Fushan, 福山村, 31.800210981845982N, 120.7617947082488E nan(nan) nan(nan)\n",
      " (Level: tcheou-hien) Province: Kiangsu Q16963, Fou: Yangchow Q57906, Tcheou/Hien: Kaoyu\n",
      "Kaoyu Kao-yeou, hoje: Gaoyou, 高邮,  Gaoyou(county-level city) 高邮市(中国江苏省扬州市的县级市)\n",
      " (Level: tcheou-hien) Province: Kiangsu Q16963, Fou: Yangchow Q57906, Tcheou/Hien: Paoshan\n",
      "Paoshan Pao-chan, hoje: Baoshan, 宝山,  Baoshan District(district of Shanghai, China) 宝山区(中国上海市的市辖区)\n",
      " (Level: fou) Province: Kiangsu Q16963, Fou: Yangchow Q57906, Tcheou/Hien: Yangchow\n",
      "Yangchow Yang-tcheou, hoje: Yangzhou, 扬州,  Yangzhou(prefecture-level city in Jiangsu, People's Republic of China) 扬州市(中国江苏省的地级市)\n",
      "  Fou: Yangchow (Wikidata ID: Q57906)\n",
      " (Level: province) Province: Kiangsu Q16963, Fou: nan nan, Tcheou/Hien: Kiangsu\n",
      "Kiangsu Jiangju, hoje: Jiangsu, 江苏,  Jiangsu(province of China) 江苏省(中華人民共和國省份)\n",
      "  Province: Kiangsu (Wikidata ID: Q16963)\n",
      " (Level: fou) Province: Kwangsi Q15176, Fou: Kweilin Q189633, Tcheou/Hien: Kweilin\n",
      "Kweilin Koei-lin, hoje: Guilin, 桂林,  Guilin(prefecture-level city in Guangxi, China) 桂林市(中华人民共和国广西壮族自治区下辖地级市)\n",
      "  Fou: Kweilin (Wikidata ID: Q189633)\n",
      " (Level: fou) Province: Kwangsi Q15176, Fou: Wuchow Q571652, Tcheou/Hien: Wuchow\n",
      "Wuchow Ou-tcheou, hoje: Wuzhou, 梧州,  Wuzhou(prefecture-level city in Guangxi, China) 梧州市(中国广西壮族自治区的地级市)\n",
      "  Fou: Wuchow (Wikidata ID: Q571652)\n",
      " (Level: province) Province: Kwangsi Q15176, Fou: nan nan, Tcheou/Hien: Kwangsi\n",
      "Kwangsi Guangxi, Koang-si, hoje: Guangxi, 广西,  Guangxi(Provincial area of China organized in 1958 as an autonomous region for the Zhuang people) 广西壮族自治区(位于中国南方沿海的壮族自治区)\n",
      "  Province: Kwangsi (Wikidata ID: Q15176)\n",
      " (Level: fou) Province: Kwangtung Q15175, Fou: Cantão Q16572, Tcheou/Hien: Cantão\n",
      "Cantão Koang-tcheou, hoje:Guangzhou, 广州,  Guangzhou(capital city of Guangdong Province, China) 广州市(广东省的省会)\n",
      "  Fou: Cantão (Wikidata ID: Q16572)\n",
      " (Level: tcheou-hien) Province: Kwangtung Q15175, Fou: Cantão Q16572, Tcheou/Hien: Lampacao\n",
      "Lampacao Lampacau,Lampacão, hoje: 浪白滘, 浪白澳,  Lampacau(nan) nan(nan)\n",
      " (Level: tcheou-hien) Province: Kwangtung Q15175, Fou: Cantão Q16572, Tcheou/Hien: Quon yao\n",
      "Quon yao hoje: Guanyao, 官窑, In the Chinses translation it is recognized as “高要村”，which is wrong. in Dehergne(1957), it is noted as \"官窑\", coordinates: 23.314954073028765N, 113.22132587290358E nan(nan) nan(nan)\n",
      " (Level: tcheou-hien) Province: Kwangtung Q15175, Fou: Cantão Q16572, Tcheou/Hien: Tungkun\n",
      "Tungkun Tong-koan,Tungkuan, hoje:Dongguan, 东莞,  Dongguan(prefecture-level city in Guangdong, China) 东莞市(中国广东省的地级市)\n",
      " (Level: tcheou-hien) Province: Kwangtung Q15175, Fou: Kiungchow Q1081204, Tcheou/Hien: Bankao\n",
      "Bankao hoje:Xiangou, 仙沟, In the Chinese translation it is recognized as \"板桥\", but in Dehergne (1957), it is noted as \"仙沟\". coordinates: 19.678430033709233N, 110.3760945797476E nan(nan) nan(nan)\n",
      " (Level: fou) Province: Kwangtung Q15175, Fou: Kiungchow Q1081204, Tcheou/Hien: Kiungchow\n",
      "Kiungchow K'iong-tcheou,Chiungchou, hoje: Qiongzhou, 琼州, Kiungchow (île de Hainan) Hainan Island(island in China which makes up the majority of the province of the same name) 海南島(南中國海的島嶼)\n",
      "  Fou: Kiungchow (Wikidata ID: Q1081204)\n",
      " (Level: tcheou-hien) Province: Kwangtung Q15175, Fou: Kiungchow Q1081204, Tcheou/Hien: Lungmo\n",
      "Lungmo Lummo, hoje: Longmen, 龙门, , in the Chinese translation it is written as “龙末”, but but in Dehergne (1957), it is noted as \"龙门\" Longmen Town(nan) 龙门镇(nan)\n",
      " (Level: tcheou-hien) Province: Kwangtung Q15175, Fou: Kiungchow Q1081204, Tcheou/Hien: Tingan\n",
      "Tingan Ting-ngan, hoje: Ding'an, 定安,  Ding'an County(county in Hainan, China) 定安县(海南省的一个直辖县)\n",
      " (Level: fou) Province: Kwangtung Q15175, Fou: Luichow Q1209167, Tcheou/Hien: Luichow\n",
      "Luichow Lei-tcheou, hoje: Leizhou, 雷州,  Leizhou(county-level city in Guangdong, China) 雷州市(中国广东省湛江市代管县级市)\n",
      "  Fou: Luichow (Wikidata ID: Q1209167)\n",
      " (Level: fou) Province: Kwangtung Q15175, Fou: Macau Q14773, Tcheou/Hien: Macau\n",
      "Macau Macau, hoje: Macao, 澳门,  Macau(special administrative region of China) 澳門(中華人民共和國澳門特別行政區)\n",
      "  Fou: Macau (Wikidata ID: Q14773)\n",
      " (Level: tcheou-hien) Province: Kwangtung Q15175, Fou: Macau Q14773, Tcheou/Hien: Tsingchow\n",
      "Tsingchow Tsingchow,Ts'ing-tcheou, hoje: Ilha Verde, 青州, Ilha Verde (Tsingchow) Ilha Verde(island in Macau) 青洲(澳門地名)\n",
      " (Level: tcheou-hien) Province: Kwangtung Q15175, Fou: Macau Q14773, Tcheou/Hien: Wantchai\n",
      "Wantchai Lapa,Wantchai, hoje: Wanzai, 湾仔, Lappa (Wantchai) Wanzai Subdistrict(subdistrict of Guangdong Province, China) 湾仔街道(nan)\n",
      " (Level: fou) Province: Kwangtung Q15175, Fou: Namyung Q934465, Tcheou/Hien: Namyung\n",
      "Namyung Nan-hiong, hoje: Nanxiong, 南雄, Namyung (alors fou) Nanxiong(subprefecture-level city in Guangdong, China) 南雄市(中國廣東省縣級市)\n",
      "  Fou: Namyung (Wikidata ID: Q934465)\n",
      " (Level: tcheou-hien) Province: Kwangtung Q15175, Fou: Schiuchow Q1346617, Tcheou/Hien: Hwanghsiaping\n",
      "Hwanghsiaping Hwanghsiaping, hoje: Vankaxen, 黄下坪？, In the Chinese translation, it is recognized as \"黄下坪\". Dehergne(1957):\"Hwanghsiaping (\" Vankaxen \") à 15 li à l'ouest de Shiuchow.\" But it cannot be found in the map. nan(nan) nan(nan)\n",
      " (Level: tcheou-hien) Province: Kwangtung Q15175, Fou: Schiuchow Q1346617, Tcheou/Hien: Hwangtsun\n",
      "Hwangtsun Vançun, hoje: Huangcun, 黄村, coordinates: 24.900778941203768N, 113.60398607001083E Dehergne(1957): \"à une heure de chemin au nord de Shiuchow\". nan(nan) nan(nan)\n",
      " (Level: tcheou-hien) Province: Kwangtung Q15175, Fou: Schiuchow Q1346617, Tcheou/Hien: Makia\n",
      "Makia Machia, hoje: Majia, 马家, Dehergne(1957) said Makia\"马家\" is \"à 15 kilomètres au sud de la ville\" (de Shiuchow), which should be to the south of Shiuchow, but I only found one \"马家\" in that area, but it is to the west of the city (24.75569541392557, 113.15960996554436), which might not be the right place. nan(nan) nan(nan)\n",
      " (Level: tcheou-hien) Province: Kwangtung Q15175, Fou: Schiuchow Q1346617, Tcheou/Hien: Motikang\n",
      "Motikang Mochi, hoje: Madigang, 麻地岗, In the Chinese translation, it is recognized as “末岗”, but in Dehergne(1957), it is noted as “麻地岗”., 24.68899887552694N, 113.57599418283718E nan(nan) nan(nan)\n",
      " (Level: fou) Province: Kwangtung Q15175, Fou: Schiuchow Q1346617, Tcheou/Hien: Schiuchow\n",
      "Schiuchow Chao-tcheou, hoje: Shaozhou, 韶州, , historical administrative division. The Wikidata code is of its administrative center Qujiang 曲江, which is in the present-day City of Shaoguan 韶关.Shiuchow (Chao-tcheou) Qujiang District(district in Guangdong, People's Republic of China) 曲江区(韶关市的一个市辖区)\n",
      "  Fou: Schiuchow (Wikidata ID: Q1346617)\n",
      " (Level: tcheou-hien) Province: Kwangtung Q15175, Fou: Schiuchow Q1346617, Tcheou/Hien: Tsintsun\n",
      "Tsintsun Cinçun, hoje: Jingcun, 靖村, coordinates:24.840448198893206N, 113.54394322209676E. In the original book (Dehergne, 1973), it is written as \"Tsintsun\" (without g), which is wrongly spelled. In Dehergne(1973), it is written as Tsingtsun, with the Chinese name 靖村 noted. It is \"à une heure et demie de marche au nord-ouest de Siuchow.\" In the Chinese traslation, it is recognized as \"青村\", which is wrong. nan(nan) nan(nan)\n",
      " (Level: tcheou-hien) Province: Kwangtung Q15175, Fou: Schiuchow Q1346617, Tcheou/Hien: Yangsiang\n",
      "Yangsiang Yang-hiang, hoje: 杨姓村 nan(nan) nan(nan)\n",
      " (Level: fou) Province: Kwangtung Q15175, Fou: Shiuhing Q59164, Tcheou/Hien: Shiuhing\n",
      "Shiuhing Tchao-k'ing, Chaoching, hoje: Zhaoqing, 肇庆, Shiuhing (Tchao-k'ing, actuel Hoyiu) Zhaoqing(prefecture-level city in Guangdong, China) 肇庆市(中国广东省的地级市)\n",
      "  Fou: Shiuhing (Wikidata ID: Q59164)\n",
      " (Level: province) Province: Kwangtung Q15175, Fou: nan nan, Tcheou/Hien: Kwangtung\n",
      "Kwangtung Guangdong, hoje:Guangdong, 广东,  Guangdong(province of China) 广东省(中华人民共和国省份)\n",
      "  Province: Kwangtung (Wikidata ID: Q15175)\n",
      " (Level: province) Province: Kwichow Q47097, Fou: nan nan, Tcheou/Hien: Kwichow\n",
      "Kwichow Koei-Tcheou, hoje: Guizhou, 贵州,  Guizhou(landlocked province of the People's Republic of China) 贵州省(中华人民共和国省份)\n",
      "  Province: Kwichow (Wikidata ID: Q47097)\n",
      " (Level: fou) Province: Pequim Q956, Fou: Chengting Q197678, Tcheou/Hien: Chengting\n",
      "Chengting Tcheng-ting, hoje: Zhengding, 正定,  Zhengding County(county in the Shijiazhuang prefecture of Hebei, China) 正定县(河北省縣份)\n",
      "  Fou: Chengting (Wikidata ID: Q197678)\n",
      " (Level: tcheou-hien) Province: Pequim Q956, Fou: Chengting Q197678, Tcheou/Hien: Tingchow\n",
      "Tingchow Ting tcheou, hoje: Dingzhou, 定州,  Angelzoom(solo project) nan(nan)\n",
      " (Level: fou) Province: Pequim Q956, Fou: Hokien Q1601618, Tcheou/Hien: Hokien\n",
      "Hokien Ho-kien, hoje: Hejian, 河间,  Hejian(county-level city) 河间市(中国河北省沧州市下辖的县级市)\n",
      "  Fou: Hokien (Wikidata ID: Q1601618)\n",
      " (Level: tcheou-hien) Province: Pequim Q956, Fou: Hokien Q1601618, Tcheou/Hien: Ningtsin\n",
      "Ningtsin Ning-tsin,Ningchin, hoje: Ningjin, 宁津,  Ningjin County(county) 宁津县(nan)\n",
      " (Level: tcheou-hien) Province: Pequim Q956, Fou: Hokien Q1601618, Tcheou/Hien: Wukiao\n",
      "Wukiao Ou-k'iao,Wuchiao,hoje: Wuqiao, 吴桥,  Wuqiao County(county) 吴桥县(nan)\n",
      " (Level: tcheou-hien) Province: Pequim Q956, Fou: Paoting Q58584, Tcheou/Hien: Kaoyang\n",
      "Kaoyang Kao-yang, hoje: Gaoyang, 高阳,  Gaoyang County(County of Baoding in Hebei province, China) 高阳县(中华人民共和国河北省保定市辖县)\n",
      " (Level: fou) Province: Pequim Q956, Fou: Paoting Q58584, Tcheou/Hien: Paoting\n",
      "Paoting Paoting (Tsingyüan), hoje: Baoding, 保定,  Baoding(prefecture-level city in Hebei Province, People's Republic of China) 保定市(中华人民共和国河北省的地级市)\n",
      "  Fou: Paoting (Wikidata ID: Q58584)\n",
      " (Level: tcheou-hien) Province: Pequim Q956, Fou: Paoting Q58584, Tcheou/Hien: Shulu\n",
      "Shulu Chou-lou, hoje: Shulu, 束鹿, , Now the city name is Xinji 辛集. Wikidata code is that of Xinji Xinji(county-level city) 辛集市(中国河北省石家庄市下辖的县级市)\n",
      " (Level: tcheou-hien) Province: Pequim Q956, Fou: Pequim, Q956, Tcheou/Hien: Chala\n",
      "Chala Chala (cimetière et chapelle) Zhalan Cemetery(cemetery in Beijing, China) 滕公栅栏(nan)\n",
      " (Level: fou) Province: Pequim Q956, Fou: Pequim, Q956, Tcheou/Hien: Pequim,\n",
      "Pequim, hoje: 北京, Peking (Shuntien) (1598), 1601 Beijing(capital city of China) 北京市(中華人民共和國首都暨直轄市)\n",
      "  Fou: Pequim, (Wikidata ID: Q956)\n",
      " (Level: tcheou-hien) Province: Pequim Q956, Fou: Pequim, Q956, Tcheou/Hien: Tacheng\n",
      "Tacheng Ta-tch'eng,hoje: Dacheng, 大城县.  Dacheng County(county in Hebei, China) 大城县(中國河北省縣份)\n",
      " (Level: tcheou-hien) Province: Pequim Q956, Fou: Pequim, Q956, Tcheou/Hien: Tientsin\n",
      "Tientsin T'ien-tsin,Tienchin, hoje: Tianjin, 天津, Tientsin Tianjin(municipality of China) 天津市(中华人民共和国的一个直辖市)\n",
      " (Level: tcheou-hien) Province: Pequim Q956, Fou: Pequim, Q956, Tcheou/Hien: Tungchow\n",
      "Tungchow T'ong-tcheou, hoje: Tongzhou, 通州, ? Tongzhou District(district of Beijing, China) 通州區(中國北京市的市轄區)\n",
      " (Level: province) Province: Pequim Q956, Fou: nan nan, Tcheou/Hien: Pequim\n",
      "Pequim Beijing(capital city of China) 北京市(中華人民共和國首都暨直轄市)\n",
      "  Province: Pequim (Wikidata ID: Q956)\n",
      " (Level: fou) Province: Shangtung Q43407, Fou: Tengchow Q10428329, Tcheou/Hien: Tengchow\n",
      "Tengchow Teng-tcheou, hoje: Dengzhou, 登州, Tengchow (Penglai) Dengzhou Fu(historical administrative division in Shandong, China) 登州府(明清行政区划，今山东境内)\n",
      "  Fou: Tengchow (Wikidata ID: Q10428329)\n",
      " (Level: tcheou-hien) Province: Shangtung Q43407, Fou: Tsinan Q170247, Tcheou/Hien: Kwanchang\n",
      "Kwanchang nan(nan) nan(nan)\n",
      " (Level: tcheou-hien) Province: Shangtung Q43407, Fou: Tsinan Q170247, Tcheou/Hien: Manchwang\n",
      "Manchwang Muon choam, hoje: Manzhuang, 满庄,  Manzhuang Town(nan) 满庄镇(nan)\n",
      " (Level: tcheou-hien) Province: Shangtung Q43407, Fou: Tsinan Q170247, Tcheou/Hien: Pinchow\n",
      "Pinchow Binzhou(prefecture-level city in Shandong, China) 滨州市(中国山东省的地级市)\n",
      " (Level: tcheou-hien) Province: Shangtung Q43407, Fou: Tsinan Q170247, Tcheou/Hien: Taian\n",
      "Taian T'ai-ngan, hoje: Tai'an, 泰安, Taian tcheou Tai'an(prefecture-level city in Shandong, China) 泰安市(中国山东省的地级市)\n",
      " (Level: tcheou-hien) Province: Shangtung Q43407, Fou: Tsinan Q170247, Tcheou/Hien: Tsiho\n",
      "Tsiho hoje: Qihe, 齐河,  Qihe County(county) 齐河县(中华人民共和国山东省德州市下属的一个县)\n",
      " (Level: fou) Province: Shangtung Q43407, Fou: Tsinan Q170247, Tcheou/Hien: Tsinan\n",
      "Tsinan Tsi-nan, hoje: Jinan, 济南,  Jinan(capital of Shandong province, China) 济南市(中國山東省省會)\n",
      "  Fou: Tsinan (Wikidata ID: Q170247)\n",
      " (Level: tcheou-hien) Province: Shangtung Q43407, Fou: Tsinan Q170247, Tcheou/Hien: Wuting\n",
      "Wuting Ou-ting, hoje: Wuding, 武定, [Wuting, alors tcheou, Hweimin] nan(nan) 武定州(nan)\n",
      " (Level: tcheou-hien) Province: Shangtung Q43407, Fou: Tsinan Q170247, Tcheou/Hien: Yucheng\n",
      "Yucheng Pin-tcheou, hoje: Binzhou, 滨州,  Binzhou(prefecture-level city in Shandong, China) 滨州市(中国山东省的地级市)\n",
      " (Level: fou) Province: Shangtung Q43407, Fou: Tsingchow Q1360781, Tcheou/Hien: Tsingchow\n",
      "Tsingchow Ts'ing-tcheou, Chingchou, hoje: Qingzhou, 青州, Tsingchow (Yitu) Qingzhou(county-level city in Shandong, China) 青州市(中国山东城市)\n",
      "  Fou: Tsingchow (Wikidata ID: Q1360781)\n",
      " (Level: tcheou-hien) Province: Shangtung Q43407, Fou: Tungchang Q10870440, Tcheou/Hien: Lintsing\n",
      "Lintsing Lin-ts'ing,Linching, hoje: Linqing, 临清, Lintsing tcheou Linqing(county-level city) 临清市(中国山东省城市)\n",
      " (Level: tcheou-hien) Province: Shangtung Q43407, Fou: Tungchang Q10870440, Tcheou/Hien: Peichingtien\n",
      "Peichingtien Dehergne(1957)did not give the Chinese name of Peichingtien.In the Chinese translation, it is recognized as “北辛店村”，but the pronunciation dose not match. In addition, the “北辛店村”of Shandong is far from Dongchang. nan(nan) nan(nan)\n",
      " (Level: fou) Province: Shangtung Q43407, Fou: Tungchang Q10870440, Tcheou/Hien: Tungchang\n",
      "Tungchang Tong-tch'ang, hoje: Dungchang, 东昌,  Dongchang Fu(former administrative division in Shandong,China) 东昌府(中国历史上的行政区)\n",
      "  Fou: Tungchang (Wikidata ID: Q10870440)\n",
      " (Level: province) Province: Shangtung Q43407, Fou: nan nan, Tcheou/Hien: Shangtung\n",
      "Shangtung Chan-tong, Shandong, 山东,  Shandong(province of China) 山東省(中国省份)\n",
      "  Province: Shangtung (Wikidata ID: Q43407)\n",
      " (Level: tcheou-hien) Province: Shansi Q46913, Fou: Pingyang Q73156, Tcheou/Hien: Kiangchow\n",
      "Kiangchow Chiangchou, hoje: Jiangzhou, 绛州, , historical administrative division. Now it is Xinjiang 新绛. Wikidata code is that of 新绛 Xinjiang County(county in Shanxi) 新绛县(nan)\n",
      " (Level: tcheou-hien) Province: Shansi Q46913, Fou: Pingyang Q73156, Tcheou/Hien: Kianghsien\n",
      "Kianghsien Kiang hien, hoje: Jiangxian, 绛县, Kianghsien (au Sud de Kiangchow) Jiang County(county) 绛县(nan)\n",
      " (Level: tcheou-hien) Province: Shansi Q46913, Fou: Pingyang Q73156, Tcheou/Hien: Kuwo\n",
      "Kuwo K'iu-wo,Chüwu, Quwo, 曲沃,  Quwo County(county) 曲沃县(nan)\n",
      " (Level: fou) Province: Shansi Q46913, Fou: Pingyang Q73156, Tcheou/Hien: Pingyang\n",
      "Pingyang P'ing-yang, hoje: Pingyang Fu, 平阳府, wikidata:Q15905472, historical administrative division. Now it is in Linfen 临汾 Pingyang (Linfen) Linfen(prefecture-level city in Shanxi, People's Republic of China) 临汾市(中国山西省的地级市)\n",
      "  Fou: Pingyang (Wikidata ID: Q73156)\n",
      " (Level: tcheou-hien) Province: Shansi Q46913, Fou: Pingyang Q73156, Tcheou/Hien: Puchow\n",
      "Puchow P'ou-tcheou, hoje: Puzhou, 蒲州, hoje: Q14105968, pas encore fou Puzhou Town(nan) 蒲州镇(nan)\n",
      " (Level: tcheou-hien) Province: Shansi Q46913, Fou: Pingyang Q73156, Tcheou/Hien: Siahsien\n",
      "Siahsien Hia hien, hoje: Xiaxian, 夏县, , Dehergne(1957) noted it as “夏县”. In the Chinese translation, it is recognized as \"隰县\",which is wrong. Xia County(county) 夏县(中国山西省运城市所辖的一个县)\n",
      " (Level: tcheou-hien) Province: Shansi Q46913, Fou: Pingyang Q73156, Tcheou/Hien: Taiping\n",
      "Taiping hoje: Taiping, 太平, , Q1113750, historical administrative division. Now its administrative center is Fencheng 汾城, Wikidata also refer to that of Fencheng: Q1113750Taiping (Fencheng) nan(nan) 太平县(nan)\n",
      " (Level: tcheou-hien) Province: Shansi Q46913, Fou: Taiyuan Q72778, Tcheou/Hien: Pingting\n",
      "Pingting P'ing-ting, hoje: Pingding, 平定州, , Now it is Pingding County 平定县Pingting tcheou Pingding County(county) 平定县(中国山西省的县)\n",
      " (Level: fou) Province: Shansi Q46913, Fou: Taiyuan Q72778, Tcheou/Hien: Taiyuan\n",
      "Taiyuan T'ai-yuen, hoje: Taiyuan, 太原,  Taiyuan(capital city of Shanxi province, China) 太原市(中国山西省省會，地級市)\n",
      "  Fou: Taiyuan (Wikidata ID: Q72778)\n",
      " (Level: fou) Province: Shansi Q46913, Fou: Tsechow Q197104, Tcheou/Hien: Tsechow\n",
      "Tsechow hoje: Fencheng, 汾城,  Zezhou County(county) 泽州县(nan)\n",
      "  Fou: Tsechow (Wikidata ID: Q197104)\n",
      " (Level: tcheou-hien) Province: Shansi Q46913, Fou: Tsechow Q197104, Tcheou/Hien: Tsishan\n",
      "Tsishan hoje: Zezhou, 泽州,  Zezhou County(county) 泽州县(nan)\n",
      " (Level: tcheou-hien) Province: Shansi Q46913, Fou: Tsechow Q197104, Tcheou/Hien: Yungtsi\n",
      "Yungtsi Tsi-chan,Chishan, hoje: Jishan, 稷山,  Jishan County(county) 稷山县(nan)\n",
      " (Level: province) Province: Shansi Q46913, Fou: nan nan, Tcheou/Hien: Shansi\n",
      "Shansi Chan-si, hoje: Shanxi, 山西,  Shanxi(province of central China with its capital at Taoyuan, the supposed original home of the prehistoric Huaxia) 山西省(中华人民共和国省份)\n",
      "  Province: Shansi (Wikidata ID: Q46913)\n",
      " (Level: tcheou-hien) Province: Shensi Q47974, Fou: Hanchung Q515573, Tcheou/Hien: Chengku\n",
      "Chengku Tch'eng-kou, hoje: Chenggu, 城固,  Chenggu County(county) 城固县(汉中市的一个县)\n",
      " (Level: fou) Province: Shensi Q47974, Fou: Hanchung Q515573, Tcheou/Hien: Hanchung\n",
      "Hanchung How-tcheou, hoje: Huazhou, 华州, Hanchung (Nancheng) Hanzhong(prefecture-level city in Shaanxi, China) 汉中市(中国陕西省的地级市)\n",
      "  Fou: Hanchung (Wikidata ID: Q515573)\n",
      " (Level: tcheou-hien) Province: Shensi Q47974, Fou: Hanchung Q515573, Tcheou/Hien: Siao tchai tse\n",
      "Siao tchai tse nan(nan) nan(nan)\n",
      " (Level: tcheou-hien) Province: Shensi Q47974, Fou: Hanchung Q515573, Tcheou/Hien: Yanghsien\n",
      "Yanghsien Yang Hien, hoje: Yangxian, 洋县,  Yang County(county) 洋县(陕西省汉中市下辖的县)\n",
      " (Level: tcheou-hien) Province: Shensi Q47974, Fou: Sian Q5826, Tcheou/Hien: Chowchih\n",
      "Chowchih hoje: Zhouzhi, 周至, , In the Chinese translation, it is written as “盩厔”. Before 1964, 周至was written as “盩厔”. Zhouzhi County(County in Shaaxi province) 周至縣(中国陕西省西安市市辖县)\n",
      " (Level: tcheou-hien) Province: Shensi Q47974, Fou: Sian Q5826, Tcheou/Hien: Hwachow\n",
      "Hwachow How-tcheou, hoje: Huazhou, 华州,  Huazhou District(district of China) 华州区(nan)\n",
      " (Level: tcheou-hien) Province: Shensi Q47974, Fou: Sian Q5826, Tcheou/Hien: Kaoling\n",
      "Kaoling Kao-ling, hoje: Gaoling, 高陵,  Gaoling District(District of China) 高陵区(西安市的市轄區)\n",
      " (Level: tcheou-hien) Province: Shensi Q47974, Fou: Sian Q5826, Tcheou/Hien: Kiao-tou\n",
      "Kiao-tou Kiao-tou (ou Tungyiianfang) nan(nan) nan(nan)\n",
      " (Level: tcheou-hien) Province: Shensi Q47974, Fou: Sian Q5826, Tcheou/Hien: Sanyuan\n",
      "Sanyuan Sanyuan, 三原,  Sanyuan County(county in Xianyang) 三原县(中华人民共和国陕西省咸阳市下辖县)\n",
      " (Level: tcheou-hien) Province: Shensi Q47974, Fou: Sian Q5826, Tcheou/Hien: Shangchow\n",
      "Shangchow Changtcheou, hoje: Shangzhou, 商州,  Shangzhou District(district in Shaanxi Province, China) 商州区(中国陕西省商洛市下辖区)\n",
      " (Level: fou) Province: Shensi Q47974, Fou: Sian Q5826, Tcheou/Hien: Sian\n",
      "Sian Hsian, hoje: Xi'an, 西安, Sun (Changan) Xi'an(capital of Shaanxi Province, China) 西安市(中國陝西省省會、副省級市，國家中心城市之一)\n",
      "  Fou: Sian (Wikidata ID: Q5826)\n",
      " (Level: province) Province: Shensi Q47974, Fou: nan nan, Tcheou/Hien: Shensi\n",
      "Shensi Chen-si , hoje: Shaanxi @dehergne:399 Shaanxi(province of central China with its capital Xi'an, the ancient homeland of the Zhou and center of several major dynasty) 陕西省(中国中西部省份)\n",
      "  Province: Shensi (Wikidata ID: Q47974)\n",
      " (Level: fou) Province: Szechwan Q19770, Fou: Chengtu Q30002, Tcheou/Hien: Chengtu\n",
      "Chengtu Tch'eng-tou, hoje: Chengdu, 成都, hoje: Chengtu (Hwayang) Chengdu(capital of Sichuan Province, China) 成都市(中国四川省省会)\n",
      "  Fou: Chengtu (Wikidata ID: Q30002)\n",
      " (Level: tcheou-hien) Province: Szechwan Q19770, Fou: Chengtu Q30002, Tcheou/Hien: Mienchow\n",
      "Mienchow Mien tcheou, hoje: Mianzhou, 绵州, hoje:   Mienchow(historical administrative division of China) 綿州(中國古代行政區劃)\n",
      " (Level: fou) Province: Szechwan Q19770, Fou: Chungking Q11725, Tcheou/Hien: Chungking\n",
      "Chungking Tch'ong-K'ing,Chungching, hoje: Chongqing, 重庆, Chungking (Pahsien) Chongqing(municipality of China) 重庆市(中國西部的直轄市)\n",
      "  Fou: Chungking (Wikidata ID: Q11725)\n",
      " (Level: fou) Province: Szechwan Q19770, Fou: Paoning Q10887586, Tcheou/Hien: Paoning\n",
      "Paoning Pao-ning, hoje: Baoning, 保宁, , Q1200170, 保宁府historical administrative division of China, where 阆中 was in, Wikidata code also refer to that of Langzhong: Q1200170Paoning (Langchung) Baoning Fu(historical administrative division of China) 保宁府(中國古代行政區劃)\n",
      "  Fou: Paoning (Wikidata ID: Q10887586)\n",
      " (Level: province) Province: Szechwan Q19770, Fou: nan nan, Tcheou/Hien: Szechwan\n",
      "Szechwan Se-tch'oan, hoje: Sichuan, 四川,  Sichuan(province of China, previously inclusive of the present Chongqing Municipality) 四川省(中華人民共和國省份)\n",
      "  Province: Szechwan (Wikidata ID: Q19770)\n",
      " (Level: province) Province: Yunnan Q43194, Fou: nan nan, Tcheou/Hien: Yunnan\n",
      "Yunnan hoje: Yunnan, 云南,  Yunnan(province of China) 云南省(中華人民共和國省份)\n",
      "  Province: Yunnan (Wikidata ID: Q43194)\n"
     ]
    }
   ],
   "source": [
    "# loop over the merged dataframe and print the information\n",
    "\n",
    "locations = []\n",
    "\n",
    "for index, row in merged_df.sort_values(['province', 'fou', 'name']).iterrows():\n",
    "    print(f\" id: {row['id']} Level: {row['level']} Province: {row['province']} {row['province_wikidata_id']}, Fou: {row['fou']} {row['fou_wikidata_id']}, Tcheou/Hien: {row['name']}\")\n",
    "    lat = row['latitude']\n",
    "    lon = row['longitude']\n",
    "    place_type = row['type'] if 'type' in row else ''\n",
    "    label = (\n",
    "        (f\"    {row['name']}\") +\n",
    "        (f\" {row['comment']}\" if row['comment'] else '') +\n",
    "        (f\" {row['english_label']}\" if row['english_label'] else '') +\n",
    "        (f\"({row['english_description']})\" if row['english_description'] else '') +\n",
    "        (f\" {row['chinese_label']}\" if row['chinese_label'] else '') +\n",
    "        (f\"({row['chinese_description']})\" if row['chinese_description'] else '')\n",
    "    )\n",
    "    print(label)\n",
    "    level = row['level']\n",
    "    if level == 'province':\n",
    "        print(f\"    Province: {row['province']} (Wikidata ID: {row['province_wikidata_id']})\")\n",
    "    elif level == 'fou':\n",
    "        print(f\"    Fou: {row['fou']} (Wikidata ID: {row['fou_wikidata_id']})\")\n",
    "    elif level == 'tcheou_hien':\n",
    "        print(f\"    Tcheou/Hien: {row['name']} (Wikidata ID: {row['wikidata_id']})\")"
   ]
  },
  {
   "cell_type": "code",
   "execution_count": 73,
   "metadata": {},
   "outputs": [
    {
     "name": "stdout",
     "output_type": "stream",
     "text": [
      "Debugging: Q22502 -> Q7420445\n"
     ]
    },
    {
     "name": "stdout",
     "output_type": "stream",
     "text": [
      "Debugging: Q22502 -> Q7420445\n"
     ]
    },
    {
     "data": {
      "application/vnd.plotly.v1+json": {
       "config": {
        "plotlyServerURL": "https://plot.ly"
       },
       "data": [
        {
         "lat": [
          null
         ],
         "lon": [
          null
         ],
         "marker": {
          "color": "red",
          "size": 12
         },
         "mode": "markers",
         "name": "province",
         "type": "scattermap"
        },
        {
         "lat": [
          null
         ],
         "lon": [
          null
         ],
         "marker": {
          "color": "blue",
          "size": 8
         },
         "mode": "markers",
         "name": "fou",
         "type": "scattermap"
        },
        {
         "lat": [
          null
         ],
         "lon": [
          null
         ],
         "marker": {
          "color": "green",
          "size": 5
         },
         "mode": "markers",
         "name": "tcheou-hien",
         "type": "scattermap"
        },
        {
         "lat": [
          30.266666666667,
          30.25
         ],
         "line": {
          "color": "red",
          "width": 1
         },
         "lon": [
          120.15,
          120.1675
         ],
         "mode": "lines",
         "showlegend": false,
         "type": "scattermap"
        },
        {
         "lat": [
          30.25,
          30.04998
         ],
         "line": {
          "color": "blue",
          "width": 1
         },
         "lon": [
          120.1675,
          119.93697
         ],
         "mode": "lines",
         "showlegend": false,
         "type": "scattermap"
        },
        {
         "lat": [
          30.25,
          30.448897
         ],
         "line": {
          "color": "blue",
          "width": 1
         },
         "lon": [
          120.1675,
          120.307504
         ],
         "mode": "lines",
         "showlegend": false,
         "type": "scattermap"
        },
        {
         "lat": [
          30.266666666667,
          28.95445
         ],
         "line": {
          "color": "red",
          "width": 1
         },
         "lon": [
          120.15,
          118.8763
         ],
         "mode": "lines",
         "showlegend": false,
         "type": "scattermap"
        },
        {
         "lat": [
          30.266666666667,
          30.8925
         ],
         "line": {
          "color": "red",
          "width": 1
         },
         "lon": [
          120.15,
          120.0875
         ],
         "mode": "lines",
         "showlegend": false,
         "type": "scattermap"
        },
        {
         "lat": [
          30.8925,
          30.53808
         ],
         "line": {
          "color": "blue",
          "width": 1
         },
         "lon": [
          120.0875,
          119.96297
         ],
         "mode": "lines",
         "showlegend": false,
         "type": "scattermap"
        },
        {
         "lat": [
          30.266666666667,
          30.7522
         ],
         "line": {
          "color": "red",
          "width": 1
         },
         "lon": [
          120.15,
          120.75
         ],
         "mode": "lines",
         "showlegend": false,
         "type": "scattermap"
        },
        {
         "lat": [
          30.7522,
          30.84525
         ],
         "line": {
          "color": "blue",
          "width": 1
         },
         "lon": [
          120.75,
          120.9164
         ],
         "mode": "lines",
         "showlegend": false,
         "type": "scattermap"
        },
        {
         "lat": [
          30.7522,
          30.4783
         ],
         "line": {
          "color": "blue",
          "width": 1
         },
         "lon": [
          120.75,
          120.18254
         ],
         "mode": "lines",
         "showlegend": false,
         "type": "scattermap"
        },
        {
         "lat": [
          30.7522,
          30.53055555555556
         ],
         "line": {
          "color": "blue",
          "width": 1
         },
         "lon": [
          120.75,
          120.4355555555556
         ],
         "mode": "lines",
         "showlegend": false,
         "type": "scattermap"
        },
        {
         "lat": [
          30.7522,
          30.6326
         ],
         "line": {
          "color": "blue",
          "width": 1
         },
         "lon": [
          120.75,
          120.54744
         ],
         "mode": "lines",
         "showlegend": false,
         "type": "scattermap"
        },
        {
         "lat": [
          30.266666666667,
          29.10462
         ],
         "line": {
          "color": "red",
          "width": 1
         },
         "lon": [
          120.15,
          119.64937
         ],
         "mode": "lines",
         "showlegend": false,
         "type": "scattermap"
        },
        {
         "lat": [
          29.10462,
          29.216667
         ],
         "line": {
          "color": "blue",
          "width": 1
         },
         "lon": [
          119.64937,
          119.472222
         ],
         "mode": "lines",
         "showlegend": false,
         "type": "scattermap"
        },
        {
         "lat": [
          29.10462,
          29.27853
         ],
         "line": {
          "color": "blue",
          "width": 1
         },
         "lon": [
          119.64937,
          120.22822
         ],
         "mode": "lines",
         "showlegend": false,
         "type": "scattermap"
        },
        {
         "lat": [
          30.266666666667,
          29.875
         ],
         "line": {
          "color": "red",
          "width": 1
         },
         "lon": [
          120.15,
          121.54916666667
         ],
         "mode": "lines",
         "showlegend": false,
         "type": "scattermap"
        },
        {
         "lat": [
          29.875,
          null
         ],
         "line": {
          "color": "blue",
          "width": 1
         },
         "lon": [
          121.54916666667,
          null
         ],
         "mode": "lines",
         "showlegend": false,
         "type": "scattermap"
        },
        {
         "lat": [
          29.875,
          30.019444444444
         ],
         "line": {
          "color": "blue",
          "width": 1
         },
         "lon": [
          121.54916666667,
          122.10277777778
         ],
         "mode": "lines",
         "showlegend": false,
         "type": "scattermap"
        },
        {
         "lat": [
          29.875,
          30.169699
         ],
         "line": {
          "color": "blue",
          "width": 1
         },
         "lon": [
          121.54916666667,
          121.266462
         ],
         "mode": "lines",
         "showlegend": false,
         "type": "scattermap"
        },
        {
         "lat": [
          30.266666666667,
          30.169699
         ],
         "line": {
          "color": "red",
          "width": 1
         },
         "lon": [
          120.15,
          121.266462
         ],
         "mode": "lines",
         "showlegend": false,
         "type": "scattermap"
        },
        {
         "lat": [
          30.266666666667,
          27.999128
         ],
         "line": {
          "color": "red",
          "width": 1
         },
         "lon": [
          120.15,
          120.656075
         ],
         "mode": "lines",
         "showlegend": false,
         "type": "scattermap"
        },
        {
         "lat": [
          27.999128,
          27.778
         ],
         "line": {
          "color": "blue",
          "width": 1
         },
         "lon": [
          120.656075,
          120.65263
         ],
         "mode": "lines",
         "showlegend": false,
         "type": "scattermap"
        },
        {
         "lat": [
          25.9,
          26.076944444444
         ],
         "line": {
          "color": "red",
          "width": 1
         },
         "lon": [
          118.3,
          119.29166666667
         ],
         "mode": "lines",
         "showlegend": false,
         "type": "scattermap"
        },
        {
         "lat": [
          26.076944444444,
          26.070555555556
         ],
         "line": {
          "color": "blue",
          "width": 1
         },
         "lon": [
          119.29166666667,
          119.23083333333
         ],
         "mode": "lines",
         "showlegend": false,
         "type": "scattermap"
        },
        {
         "lat": [
          26.076944444444,
          26.04646
         ],
         "line": {
          "color": "blue",
          "width": 1
         },
         "lon": [
          119.29166666667,
          119.31066
         ],
         "mode": "lines",
         "showlegend": false,
         "type": "scattermap"
        },
        {
         "lat": [
          26.076944444444,
          25.96253
         ],
         "line": {
          "color": "blue",
          "width": 1
         },
         "lon": [
          119.29166666667,
          119.50611
         ],
         "mode": "lines",
         "showlegend": false,
         "type": "scattermap"
        },
        {
         "lat": [
          26.076944444444,
          25.69974
         ],
         "line": {
          "color": "blue",
          "width": 1
         },
         "lon": [
          119.29166666667,
          119.46066
         ],
         "mode": "lines",
         "showlegend": false,
         "type": "scattermap"
        },
        {
         "lat": [
          26.076944444444,
          null
         ],
         "line": {
          "color": "blue",
          "width": 1
         },
         "lon": [
          119.29166666667,
          null
         ],
         "mode": "lines",
         "showlegend": false,
         "type": "scattermap"
        },
        {
         "lat": [
          26.076944444444,
          25.72316
         ],
         "line": {
          "color": "blue",
          "width": 1
         },
         "lon": [
          119.29166666667,
          119.37347
         ],
         "mode": "lines",
         "showlegend": false,
         "type": "scattermap"
        },
        {
         "lat": [
          26.076944444444,
          26.616666666667
         ],
         "line": {
          "color": "blue",
          "width": 1
         },
         "lon": [
          119.29166666667,
          118.85
         ],
         "mode": "lines",
         "showlegend": false,
         "type": "scattermap"
        },
        {
         "lat": [
          26.076944444444,
          26.20077
         ],
         "line": {
          "color": "blue",
          "width": 1
         },
         "lon": [
          119.29166666667,
          119.53499
         ],
         "mode": "lines",
         "showlegend": false,
         "type": "scattermap"
        },
        {
         "lat": [
          25.9,
          24.50932
         ],
         "line": {
          "color": "red",
          "width": 1
         },
         "lon": [
          118.3,
          117.66117
         ],
         "mode": "lines",
         "showlegend": false,
         "type": "scattermap"
        },
        {
         "lat": [
          24.50932,
          null
         ],
         "line": {
          "color": "blue",
          "width": 1
         },
         "lon": [
          117.66117,
          null
         ],
         "mode": "lines",
         "showlegend": false,
         "type": "scattermap"
        },
        {
         "lat": [
          25.9,
          24.91389
         ],
         "line": {
          "color": "red",
          "width": 1
         },
         "lon": [
          118.3,
          118.58583
         ],
         "mode": "lines",
         "showlegend": false,
         "type": "scattermap"
        },
        {
         "lat": [
          24.91389,
          24.479722222222
         ],
         "line": {
          "color": "blue",
          "width": 1
         },
         "lon": [
          118.58583,
          118.08194444444
         ],
         "mode": "lines",
         "showlegend": false,
         "type": "scattermap"
        },
        {
         "lat": [
          24.91389,
          24.71956
         ],
         "line": {
          "color": "blue",
          "width": 1
         },
         "lon": [
          118.58583,
          118.47144
         ],
         "mode": "lines",
         "showlegend": false,
         "type": "scattermap"
        },
        {
         "lat": [
          24.91389,
          25.03423
         ],
         "line": {
          "color": "blue",
          "width": 1
         },
         "lon": [
          118.58583,
          118.7968
         ],
         "mode": "lines",
         "showlegend": false,
         "type": "scattermap"
        },
        {
         "lat": [
          24.91389,
          32.00582
         ],
         "line": {
          "color": "blue",
          "width": 1
         },
         "lon": [
          118.58583,
          120.2547
         ],
         "mode": "lines",
         "showlegend": false,
         "type": "scattermap"
        },
        {
         "lat": [
          24.91389,
          25.32265
         ],
         "line": {
          "color": "blue",
          "width": 1
         },
         "lon": [
          118.58583,
          118.28633
         ],
         "mode": "lines",
         "showlegend": false,
         "type": "scattermap"
        },
        {
         "lat": [
          25.9,
          26.88351
         ],
         "line": {
          "color": "red",
          "width": 1
         },
         "lon": [
          118.3,
          120.00186
         ],
         "mode": "lines",
         "showlegend": false,
         "type": "scattermap"
        },
        {
         "lat": [
          26.88351,
          27.1
         ],
         "line": {
          "color": "blue",
          "width": 1
         },
         "lon": [
          120.00186,
          119.63333333333
         ],
         "mode": "lines",
         "showlegend": false,
         "type": "scattermap"
        },
        {
         "lat": [
          26.88351,
          27.02043
         ],
         "line": {
          "color": "blue",
          "width": 1
         },
         "lon": [
          120.00186,
          119.45468
         ],
         "mode": "lines",
         "showlegend": false,
         "type": "scattermap"
        },
        {
         "lat": [
          26.88351,
          24.94291
         ],
         "line": {
          "color": "blue",
          "width": 1
         },
         "lon": [
          120.00186,
          118.66431
         ],
         "mode": "lines",
         "showlegend": false,
         "type": "scattermap"
        },
        {
         "lat": [
          26.88351,
          27.06115
         ],
         "line": {
          "color": "blue",
          "width": 1
         },
         "lon": [
          120.00186,
          119.52251
         ],
         "mode": "lines",
         "showlegend": false,
         "type": "scattermap"
        },
        {
         "lat": [
          26.88351,
          null
         ],
         "line": {
          "color": "blue",
          "width": 1
         },
         "lon": [
          120.00186,
          null
         ],
         "mode": "lines",
         "showlegend": false,
         "type": "scattermap"
        },
        {
         "lat": [
          26.88351,
          26.661666666667
         ],
         "line": {
          "color": "blue",
          "width": 1
         },
         "lon": [
          120.00186,
          119.52277777778
         ],
         "mode": "lines",
         "showlegend": false,
         "type": "scattermap"
        },
        {
         "lat": [
          26.88351,
          27.4571
         ],
         "line": {
          "color": "blue",
          "width": 1
         },
         "lon": [
          120.00186,
          119.50973
         ],
         "mode": "lines",
         "showlegend": false,
         "type": "scattermap"
        },
        {
         "lat": [
          25.9,
          25.439444
         ],
         "line": {
          "color": "red",
          "width": 1
         },
         "lon": [
          118.3,
          119.010278
         ],
         "mode": "lines",
         "showlegend": false,
         "type": "scattermap"
        },
        {
         "lat": [
          25.439444,
          25.43395
         ],
         "line": {
          "color": "blue",
          "width": 1
         },
         "lon": [
          119.010278,
          119.0111
         ],
         "mode": "lines",
         "showlegend": false,
         "type": "scattermap"
        },
        {
         "lat": [
          25.439444,
          25.35973
         ],
         "line": {
          "color": "blue",
          "width": 1
         },
         "lon": [
          119.010278,
          118.69008
         ],
         "mode": "lines",
         "showlegend": false,
         "type": "scattermap"
        },
        {
         "lat": [
          25.9,
          27.33488
         ],
         "line": {
          "color": "red",
          "width": 1
         },
         "lon": [
          118.3,
          118.11622
         ],
         "mode": "lines",
         "showlegend": false,
         "type": "scattermap"
        },
        {
         "lat": [
          27.33488,
          27.33488
         ],
         "line": {
          "color": "blue",
          "width": 1
         },
         "lon": [
          118.11622,
          118.11622
         ],
         "mode": "lines",
         "showlegend": false,
         "type": "scattermap"
        },
        {
         "lat": [
          27.33488,
          27.75617
         ],
         "line": {
          "color": "blue",
          "width": 1
         },
         "lon": [
          118.11622,
          118.02671
         ],
         "mode": "lines",
         "showlegend": false,
         "type": "scattermap"
        },
        {
         "lat": [
          25.9,
          27.34165
         ],
         "line": {
          "color": "red",
          "width": 1
         },
         "lon": [
          118.3,
          117.4869
         ],
         "mode": "lines",
         "showlegend": false,
         "type": "scattermap"
        },
        {
         "lat": [
          27.34165,
          26.83418
         ],
         "line": {
          "color": "blue",
          "width": 1
         },
         "lon": [
          117.4869,
          116.84028
         ],
         "mode": "lines",
         "showlegend": false,
         "type": "scattermap"
        },
        {
         "lat": [
          27.34165,
          26.90002
         ],
         "line": {
          "color": "blue",
          "width": 1
         },
         "lon": [
          117.4869,
          117.1743
         ],
         "mode": "lines",
         "showlegend": false,
         "type": "scattermap"
        },
        {
         "lat": [
          25.9,
          25.83459
         ],
         "line": {
          "color": "red",
          "width": 1
         },
         "lon": [
          118.3,
          116.34795
         ],
         "mode": "lines",
         "showlegend": false,
         "type": "scattermap"
        },
        {
         "lat": [
          25.83459,
          26.26286
         ],
         "line": {
          "color": "blue",
          "width": 1
         },
         "lon": [
          116.34795,
          116.65196
         ],
         "mode": "lines",
         "showlegend": false,
         "type": "scattermap"
        },
        {
         "lat": [
          25.83459,
          26.18033
         ],
         "line": {
          "color": "blue",
          "width": 1
         },
         "lon": [
          116.34795,
          116.81228
         ],
         "mode": "lines",
         "showlegend": false,
         "type": "scattermap"
        },
        {
         "lat": [
          25.9,
          26.63958
         ],
         "line": {
          "color": "red",
          "width": 1
         },
         "lon": [
          118.3,
          118.1718
         ],
         "mode": "lines",
         "showlegend": false,
         "type": "scattermap"
        },
        {
         "lat": [
          26.63958,
          26.40278
         ],
         "line": {
          "color": "blue",
          "width": 1
         },
         "lon": [
          118.1718,
          117.78529
         ],
         "mode": "lines",
         "showlegend": false,
         "type": "scattermap"
        },
        {
         "lat": [
          25.9,
          23.766666666667
         ],
         "line": {
          "color": "red",
          "width": 1
         },
         "lon": [
          118.3,
          121
         ],
         "mode": "lines",
         "showlegend": false,
         "type": "scattermap"
        },
        {
         "lat": [
          23.766666666667,
          25.12825
         ],
         "line": {
          "color": "blue",
          "width": 1
         },
         "lon": [
          121,
          121.7419
         ],
         "mode": "lines",
         "showlegend": false,
         "type": "scattermap"
        },
        {
         "lat": [
          23.766666666667,
          25.166666666667
         ],
         "line": {
          "color": "blue",
          "width": 1
         },
         "lon": [
          121,
          121.43333333333
         ],
         "mode": "lines",
         "showlegend": false,
         "type": "scattermap"
        },
        {
         "lat": [
          23.766666666667,
          25.201218764354735
         ],
         "line": {
          "color": "blue",
          "width": 1
         },
         "lon": [
          121,
          121.68618375811317
         ],
         "mode": "lines",
         "showlegend": false,
         "type": "scattermap"
        },
        {
         "lat": [
          23.766666666667,
          null
         ],
         "line": {
          "color": "blue",
          "width": 1
         },
         "lon": [
          121,
          null
         ],
         "mode": "lines",
         "showlegend": false,
         "type": "scattermap"
        },
        {
         "lat": [
          23.766666666667,
          25.007430555556
         ],
         "line": {
          "color": "blue",
          "width": 1
         },
         "lon": [
          121,
          122.00173611111
         ],
         "mode": "lines",
         "showlegend": false,
         "type": "scattermap"
        },
        {
         "lat": [
          33.9,
          34.795
         ],
         "line": {
          "color": "red",
          "width": 1
         },
         "lon": [
          113.5,
          114.345
         ],
         "mode": "lines",
         "showlegend": false,
         "type": "scattermap"
        },
        {
         "lat": [
          34.795,
          34.99853
         ],
         "line": {
          "color": "blue",
          "width": 1
         },
         "lon": [
          114.345,
          113.7795
         ],
         "mode": "lines",
         "showlegend": false,
         "type": "scattermap"
        },
        {
         "lat": [
          33.9,
          34.42592
         ],
         "line": {
          "color": "red",
          "width": 1
         },
         "lon": [
          113.5,
          115.64673
         ],
         "mode": "lines",
         "showlegend": false,
         "type": "scattermap"
        },
        {
         "lat": [
          30.55628,
          30.55628
         ],
         "line": {
          "color": "red",
          "width": 1
         },
         "lon": [
          114.31054,
          114.31054
         ],
         "mode": "lines",
         "showlegend": false,
         "type": "scattermap"
        },
        {
         "lat": [
          30.55628,
          29.60558
         ],
         "line": {
          "color": "blue",
          "width": 1
         },
         "lon": [
          114.31054,
          114.49158
         ],
         "mode": "lines",
         "showlegend": false,
         "type": "scattermap"
        },
        {
         "lat": [
          30.55628,
          31.2575
         ],
         "line": {
          "color": "red",
          "width": 1
         },
         "lon": [
          114.31054,
          113.67833
         ],
         "mode": "lines",
         "showlegend": false,
         "type": "scattermap"
        },
        {
         "lat": [
          31.2575,
          31.038055555556
         ],
         "line": {
          "color": "blue",
          "width": 1
         },
         "lon": [
          113.67833,
          112.21138888889
         ],
         "mode": "lines",
         "showlegend": false,
         "type": "scattermap"
        },
        {
         "lat": [
          30.55628,
          30.43772
         ],
         "line": {
          "color": "red",
          "width": 1
         },
         "lon": [
          114.31054,
          114.8796
         ],
         "mode": "lines",
         "showlegend": false,
         "type": "scattermap"
        },
        {
         "lat": [
          30.43772,
          31.038055555556
         ],
         "line": {
          "color": "blue",
          "width": 1
         },
         "lon": [
          114.8796,
          112.21138888889
         ],
         "mode": "lines",
         "showlegend": false,
         "type": "scattermap"
        },
        {
         "lat": [
          30.55628,
          30.07694
         ],
         "line": {
          "color": "red",
          "width": 1
         },
         "lon": [
          114.31054,
          115.33751
         ],
         "mode": "lines",
         "showlegend": false,
         "type": "scattermap"
        },
        {
         "lat": [
          30.07694,
          30.06319
         ],
         "line": {
          "color": "blue",
          "width": 1
         },
         "lon": [
          115.33751,
          112.21917
         ],
         "mode": "lines",
         "showlegend": false,
         "type": "scattermap"
        },
        {
         "lat": [
          30.07694,
          null
         ],
         "line": {
          "color": "blue",
          "width": 1
         },
         "lon": [
          115.33751,
          null
         ],
         "mode": "lines",
         "showlegend": false,
         "type": "scattermap"
        },
        {
         "lat": [
          30.07694,
          29.72109
         ],
         "line": {
          "color": "blue",
          "width": 1
         },
         "lon": [
          115.33751,
          112.40368
         ],
         "mode": "lines",
         "showlegend": false,
         "type": "scattermap"
        },
        {
         "lat": [
          27.4,
          26.4515
         ],
         "line": {
          "color": "red",
          "width": 1
         },
         "lon": [
          111.8,
          111.59527
         ],
         "mode": "lines",
         "showlegend": false,
         "type": "scattermap"
        },
        {
         "lat": [
          26.4515,
          26.58949
         ],
         "line": {
          "color": "blue",
          "width": 1
         },
         "lon": [
          111.59527,
          111.84812
         ],
         "mode": "lines",
         "showlegend": false,
         "type": "scattermap"
        },
        {
         "lat": [
          26.4515,
          null
         ],
         "line": {
          "color": "blue",
          "width": 1
         },
         "lon": [
          111.59527,
          null
         ],
         "mode": "lines",
         "showlegend": false,
         "type": "scattermap"
        },
        {
         "lat": [
          31.833333333333,
          32.30621
         ],
         "line": {
          "color": "red",
          "width": 1
         },
         "lon": [
          117,
          118.31148
         ],
         "mode": "lines",
         "showlegend": false,
         "type": "scattermap"
        },
        {
         "lat": [
          31.833333333333,
          29.86972222222222
         ],
         "line": {
          "color": "red",
          "width": 1
         },
         "lon": [
          117,
          118.4219444444444
         ],
         "mode": "lines",
         "showlegend": false,
         "type": "scattermap"
        },
        {
         "lat": [
          29.86972222222222,
          29.25
         ],
         "line": {
          "color": "blue",
          "width": 1
         },
         "lon": [
          118.4219444444444,
          117.85
         ],
         "mode": "lines",
         "showlegend": false,
         "type": "scattermap"
        },
        {
         "lat": [
          29.86972222222222,
          null
         ],
         "line": {
          "color": "blue",
          "width": 1
         },
         "lon": [
          118.4219444444444,
          null
         ],
         "mode": "lines",
         "showlegend": false,
         "type": "scattermap"
        },
        {
         "lat": [
          33,
          32.06083333333333
         ],
         "line": {
          "color": "red",
          "width": 1
         },
         "lon": [
          120,
          118.7788888888889
         ],
         "mode": "lines",
         "showlegend": false,
         "type": "scattermap"
        },
        {
         "lat": [
          32.06083333333333,
          32.03578
         ],
         "line": {
          "color": "blue",
          "width": 1
         },
         "lon": [
          118.7788888888889,
          118.85539
         ],
         "mode": "lines",
         "showlegend": false,
         "type": "scattermap"
        },
        {
         "lat": [
          32.06083333333333,
          null
         ],
         "line": {
          "color": "blue",
          "width": 1
         },
         "lon": [
          118.7788888888889,
          null
         ],
         "mode": "lines",
         "showlegend": false,
         "type": "scattermap"
        },
        {
         "lat": [
          32.06083333333333,
          32.16809
         ],
         "line": {
          "color": "blue",
          "width": 1
         },
         "lon": [
          118.7788888888889,
          119.04926
         ],
         "mode": "lines",
         "showlegend": false,
         "type": "scattermap"
        },
        {
         "lat": [
          33,
          31.81216666666667
         ],
         "line": {
          "color": "red",
          "width": 1
         },
         "lon": [
          120,
          119.9691666666667
         ],
         "mode": "lines",
         "showlegend": false,
         "type": "scattermap"
        },
        {
         "lat": [
          31.81216666666667,
          31.369722222222
         ],
         "line": {
          "color": "blue",
          "width": 1
         },
         "lon": [
          119.9691666666667,
          119.82388888889
         ],
         "mode": "lines",
         "showlegend": false,
         "type": "scattermap"
        },
        {
         "lat": [
          31.81216666666667,
          32.00582
         ],
         "line": {
          "color": "blue",
          "width": 1
         },
         "lon": [
          119.9691666666667,
          120.2547
         ],
         "mode": "lines",
         "showlegend": false,
         "type": "scattermap"
        },
        {
         "lat": [
          31.81216666666667,
          31.566667
         ],
         "line": {
          "color": "blue",
          "width": 1
         },
         "lon": [
          119.9691666666667,
          120.283333
         ],
         "mode": "lines",
         "showlegend": false,
         "type": "scattermap"
        },
        {
         "lat": [
          31.81216666666667,
          null
         ],
         "line": {
          "color": "blue",
          "width": 1
         },
         "lon": [
          119.9691666666667,
          null
         ],
         "mode": "lines",
         "showlegend": false,
         "type": "scattermap"
        },
        {
         "lat": [
          33,
          32.21086
         ],
         "line": {
          "color": "red",
          "width": 1
         },
         "lon": [
          120,
          119.45508
         ],
         "mode": "lines",
         "showlegend": false,
         "type": "scattermap"
        },
        {
         "lat": [
          32.21086,
          31.99483
         ],
         "line": {
          "color": "blue",
          "width": 1
         },
         "lon": [
          119.45508,
          119.57504
         ],
         "mode": "lines",
         "showlegend": false,
         "type": "scattermap"
        },
        {
         "lat": [
          33,
          33.50583333333334
         ],
         "line": {
          "color": "red",
          "width": 1
         },
         "lon": [
          120,
          119.1391666666667
         ],
         "mode": "lines",
         "showlegend": false,
         "type": "scattermap"
        },
        {
         "lat": [
          33,
          31.3
         ],
         "line": {
          "color": "red",
          "width": 1
         },
         "lon": [
          120,
          120.6194444444444
         ],
         "mode": "lines",
         "showlegend": false,
         "type": "scattermap"
        },
        {
         "lat": [
          31.3,
          null
         ],
         "line": {
          "color": "blue",
          "width": 1
         },
         "lon": [
          120.6194444444444,
          null
         ],
         "mode": "lines",
         "showlegend": false,
         "type": "scattermap"
        },
        {
         "lat": [
          31.3,
          31.337447222222
         ],
         "line": {
          "color": "blue",
          "width": 1
         },
         "lon": [
          120.6194444444444,
          121.23359166667
         ],
         "mode": "lines",
         "showlegend": false,
         "type": "scattermap"
        },
        {
         "lat": [
          31.3,
          31.62825
         ],
         "line": {
          "color": "blue",
          "width": 1
         },
         "lon": [
          120.6194444444444,
          121.39831
         ],
         "mode": "lines",
         "showlegend": false,
         "type": "scattermap"
        },
        {
         "lat": [
          33,
          31.00947583333333
         ],
         "line": {
          "color": "red",
          "width": 1
         },
         "lon": [
          120,
          121.1077575
         ],
         "mode": "lines",
         "showlegend": false,
         "type": "scattermap"
        },
        {
         "lat": [
          31.00947583333333,
          null
         ],
         "line": {
          "color": "blue",
          "width": 1
         },
         "lon": [
          121.1077575,
          null
         ],
         "mode": "lines",
         "showlegend": false,
         "type": "scattermap"
        },
        {
         "lat": [
          31.00947583333333,
          null
         ],
         "line": {
          "color": "blue",
          "width": 1
         },
         "lon": [
          121.1077575,
          null
         ],
         "mode": "lines",
         "showlegend": false,
         "type": "scattermap"
        },
        {
         "lat": [
          31.00947583333333,
          31.19444444444445
         ],
         "line": {
          "color": "blue",
          "width": 1
         },
         "lon": [
          121.1077575,
          121.6913888888889
         ],
         "mode": "lines",
         "showlegend": false,
         "type": "scattermap"
        },
        {
         "lat": [
          31.00947583333333,
          30.92004
         ],
         "line": {
          "color": "blue",
          "width": 1
         },
         "lon": [
          121.1077575,
          121.46969
         ],
         "mode": "lines",
         "showlegend": false,
         "type": "scattermap"
        },
        {
         "lat": [
          31.00947583333333,
          30.74392
         ],
         "line": {
          "color": "blue",
          "width": 1
         },
         "lon": [
          121.1077575,
          121.33727
         ],
         "mode": "lines",
         "showlegend": false,
         "type": "scattermap"
        },
        {
         "lat": [
          31.00947583333333,
          30.90227
         ],
         "line": {
          "color": "blue",
          "width": 1
         },
         "lon": [
          121.1077575,
          121.15878
         ],
         "mode": "lines",
         "showlegend": false,
         "type": "scattermap"
        },
        {
         "lat": [
          31.00947583333333,
          31.23222222222222
         ],
         "line": {
          "color": "blue",
          "width": 1
         },
         "lon": [
          121.1077575,
          121.4691666666667
         ],
         "mode": "lines",
         "showlegend": false,
         "type": "scattermap"
        },
        {
         "lat": [
          31.00947583333333,
          31.14477166666667
         ],
         "line": {
          "color": "blue",
          "width": 1
         },
         "lon": [
          121.1077575,
          121.1077575
         ],
         "mode": "lines",
         "showlegend": false,
         "type": "scattermap"
        },
        {
         "lat": [
          31.00947583333333,
          31.15958
         ],
         "line": {
          "color": "blue",
          "width": 1
         },
         "lon": [
          121.1077575,
          121.34666
         ],
         "mode": "lines",
         "showlegend": false,
         "type": "scattermap"
        },
        {
         "lat": [
          33,
          32.39117
         ],
         "line": {
          "color": "red",
          "width": 1
         },
         "lon": [
          120,
          119.43625
         ],
         "mode": "lines",
         "showlegend": false,
         "type": "scattermap"
        },
        {
         "lat": [
          32.39117,
          32.78469
         ],
         "line": {
          "color": "blue",
          "width": 1
         },
         "lon": [
          119.43625,
          119.44324
         ],
         "mode": "lines",
         "showlegend": false,
         "type": "scattermap"
        },
        {
         "lat": [
          32.39117,
          31.4
         ],
         "line": {
          "color": "blue",
          "width": 1
         },
         "lon": [
          119.43625,
          121.4
         ],
         "mode": "lines",
         "showlegend": false,
         "type": "scattermap"
        },
        {
         "lat": [
          32.39117,
          null
         ],
         "line": {
          "color": "blue",
          "width": 1
         },
         "lon": [
          119.43625,
          null
         ],
         "mode": "lines",
         "showlegend": false,
         "type": "scattermap"
        },
        {
         "lat": [
          27.3,
          28.684167
         ],
         "line": {
          "color": "red",
          "width": 1
         },
         "lon": [
          116,
          115.887222
         ],
         "mode": "lines",
         "showlegend": false,
         "type": "scattermap"
        },
        {
         "lat": [
          27.3,
          27.55672
         ],
         "line": {
          "color": "red",
          "width": 1
         },
         "lon": [
          116,
          116.64023
         ],
         "mode": "lines",
         "showlegend": false,
         "type": "scattermap"
        },
        {
         "lat": [
          27.3,
          25.3982
         ],
         "line": {
          "color": "red",
          "width": 1
         },
         "lon": [
          116,
          114.36451
         ],
         "mode": "lines",
         "showlegend": false,
         "type": "scattermap"
        },
        {
         "lat": [
          25.3982,
          27.516666666667
         ],
         "line": {
          "color": "blue",
          "width": 1
         },
         "lon": [
          114.36451,
          116.7
         ],
         "mode": "lines",
         "showlegend": false,
         "type": "scattermap"
        },
        {
         "lat": [
          25.3982,
          27.2086
         ],
         "line": {
          "color": "blue",
          "width": 1
         },
         "lon": [
          114.36451,
          116.531
         ],
         "mode": "lines",
         "showlegend": false,
         "type": "scattermap"
        },
        {
         "lat": [
          23.6,
          25.266666666667
         ],
         "line": {
          "color": "red",
          "width": 1
         },
         "lon": [
          108.3,
          110.28333333333
         ],
         "mode": "lines",
         "showlegend": false,
         "type": "scattermap"
        },
        {
         "lat": [
          23.6,
          23.483333
         ],
         "line": {
          "color": "red",
          "width": 1
         },
         "lon": [
          108.3,
          111.316667
         ],
         "mode": "lines",
         "showlegend": false,
         "type": "scattermap"
        },
        {
         "lat": [
          23.4,
          22.19
         ],
         "line": {
          "color": "red",
          "width": 1
         },
         "lon": [
          113.5,
          113.5380555555556
         ],
         "mode": "lines",
         "showlegend": false,
         "type": "scattermap"
        },
        {
         "lat": [
          22.19,
          22.21138889
         ],
         "line": {
          "color": "blue",
          "width": 1
         },
         "lon": [
          113.5380555555556,
          113.5375
         ],
         "mode": "lines",
         "showlegend": false,
         "type": "scattermap"
        },
        {
         "lat": [
          22.19,
          22.19503
         ],
         "line": {
          "color": "blue",
          "width": 1
         },
         "lon": [
          113.5380555555556,
          113.52729
         ],
         "mode": "lines",
         "showlegend": false,
         "type": "scattermap"
        },
        {
         "lat": [
          23.4,
          23.13
         ],
         "line": {
          "color": "red",
          "width": 1
         },
         "lon": [
          113.5,
          113.26
         ],
         "mode": "lines",
         "showlegend": false,
         "type": "scattermap"
        },
        {
         "lat": [
          23.13,
          23.04749
         ],
         "line": {
          "color": "blue",
          "width": 1
         },
         "lon": [
          113.26,
          113.74928
         ],
         "mode": "lines",
         "showlegend": false,
         "type": "scattermap"
        },
        {
         "lat": [
          23.13,
          null
         ],
         "line": {
          "color": "blue",
          "width": 1
         },
         "lon": [
          113.26,
          null
         ],
         "mode": "lines",
         "showlegend": false,
         "type": "scattermap"
        },
        {
         "lat": [
          23.13,
          22.077
         ],
         "line": {
          "color": "blue",
          "width": 1
         },
         "lon": [
          113.26,
          113.44
         ],
         "mode": "lines",
         "showlegend": false,
         "type": "scattermap"
        },
        {
         "lat": [
          23.4,
          19.25
         ],
         "line": {
          "color": "red",
          "width": 1
         },
         "lon": [
          113.5,
          109.6666667
         ],
         "mode": "lines",
         "showlegend": false,
         "type": "scattermap"
        },
        {
         "lat": [
          19.25,
          19.701847222222
         ],
         "line": {
          "color": "blue",
          "width": 1
         },
         "lon": [
          109.6666667,
          110.32945555556
         ],
         "mode": "lines",
         "showlegend": false,
         "type": "scattermap"
        },
        {
         "lat": [
          19.25,
          null
         ],
         "line": {
          "color": "blue",
          "width": 1
         },
         "lon": [
          109.6666667,
          null
         ],
         "mode": "lines",
         "showlegend": false,
         "type": "scattermap"
        },
        {
         "lat": [
          19.25,
          19.44404
         ],
         "line": {
          "color": "blue",
          "width": 1
         },
         "lon": [
          109.6666667,
          110.32549
         ],
         "mode": "lines",
         "showlegend": false,
         "type": "scattermap"
        },
        {
         "lat": [
          23.4,
          20.91471
         ],
         "line": {
          "color": "red",
          "width": 1
         },
         "lon": [
          113.5,
          110.08058
         ],
         "mode": "lines",
         "showlegend": false,
         "type": "scattermap"
        },
        {
         "lat": [
          23.4,
          25.11867
         ],
         "line": {
          "color": "red",
          "width": 1
         },
         "lon": [
          113.5,
          114.30929
         ],
         "mode": "lines",
         "showlegend": false,
         "type": "scattermap"
        },
        {
         "lat": [
          23.4,
          24.6828
         ],
         "line": {
          "color": "red",
          "width": 1
         },
         "lon": [
          113.5,
          113.60027
         ],
         "mode": "lines",
         "showlegend": false,
         "type": "scattermap"
        },
        {
         "lat": [
          24.6828,
          null
         ],
         "line": {
          "color": "blue",
          "width": 1
         },
         "lon": [
          113.60027,
          null
         ],
         "mode": "lines",
         "showlegend": false,
         "type": "scattermap"
        },
        {
         "lat": [
          24.6828,
          null
         ],
         "line": {
          "color": "blue",
          "width": 1
         },
         "lon": [
          113.60027,
          null
         ],
         "mode": "lines",
         "showlegend": false,
         "type": "scattermap"
        },
        {
         "lat": [
          24.6828,
          null
         ],
         "line": {
          "color": "blue",
          "width": 1
         },
         "lon": [
          113.60027,
          null
         ],
         "mode": "lines",
         "showlegend": false,
         "type": "scattermap"
        },
        {
         "lat": [
          24.6828,
          null
         ],
         "line": {
          "color": "blue",
          "width": 1
         },
         "lon": [
          113.60027,
          null
         ],
         "mode": "lines",
         "showlegend": false,
         "type": "scattermap"
        },
        {
         "lat": [
          24.6828,
          null
         ],
         "line": {
          "color": "blue",
          "width": 1
         },
         "lon": [
          113.60027,
          null
         ],
         "mode": "lines",
         "showlegend": false,
         "type": "scattermap"
        },
        {
         "lat": [
          24.6828,
          null
         ],
         "line": {
          "color": "blue",
          "width": 1
         },
         "lon": [
          113.60027,
          null
         ],
         "mode": "lines",
         "showlegend": false,
         "type": "scattermap"
        },
        {
         "lat": [
          23.4,
          23.05
         ],
         "line": {
          "color": "red",
          "width": 1
         },
         "lon": [
          113.5,
          112.4666666666667
         ],
         "mode": "lines",
         "showlegend": false,
         "type": "scattermap"
        },
        {
         "lat": [
          39.90403,
          39.90403
         ],
         "line": {
          "color": "red",
          "width": 1
         },
         "lon": [
          116.407526,
          116.407526
         ],
         "mode": "lines",
         "showlegend": false,
         "type": "scattermap"
        },
        {
         "lat": [
          39.90403,
          39.93016
         ],
         "line": {
          "color": "blue",
          "width": 1
         },
         "lon": [
          116.407526,
          116.3399
         ],
         "mode": "lines",
         "showlegend": false,
         "type": "scattermap"
        },
        {
         "lat": [
          39.90403,
          38.69824
         ],
         "line": {
          "color": "blue",
          "width": 1
         },
         "lon": [
          116.407526,
          116.63413
         ],
         "mode": "lines",
         "showlegend": false,
         "type": "scattermap"
        },
        {
         "lat": [
          39.90403,
          39.146666666667
         ],
         "line": {
          "color": "blue",
          "width": 1
         },
         "lon": [
          116.407526,
          117.20555555556
         ],
         "mode": "lines",
         "showlegend": false,
         "type": "scattermap"
        },
        {
         "lat": [
          39.90403,
          39.90858
         ],
         "line": {
          "color": "blue",
          "width": 1
         },
         "lon": [
          116.407526,
          116.65133
         ],
         "mode": "lines",
         "showlegend": false,
         "type": "scattermap"
        },
        {
         "lat": [
          39.90403,
          38.14602
         ],
         "line": {
          "color": "red",
          "width": 1
         },
         "lon": [
          116.407526,
          114.56507
         ],
         "mode": "lines",
         "showlegend": false,
         "type": "scattermap"
        },
        {
         "lat": [
          38.14602,
          null
         ],
         "line": {
          "color": "blue",
          "width": 1
         },
         "lon": [
          114.56507,
          null
         ],
         "mode": "lines",
         "showlegend": false,
         "type": "scattermap"
        },
        {
         "lat": [
          39.90403,
          38.44506
         ],
         "line": {
          "color": "red",
          "width": 1
         },
         "lon": [
          116.407526,
          116.08973
         ],
         "mode": "lines",
         "showlegend": false,
         "type": "scattermap"
        },
        {
         "lat": [
          38.44506,
          37.64178
         ],
         "line": {
          "color": "blue",
          "width": 1
         },
         "lon": [
          116.08973,
          116.79965
         ],
         "mode": "lines",
         "showlegend": false,
         "type": "scattermap"
        },
        {
         "lat": [
          38.44506,
          37.62603
         ],
         "line": {
          "color": "blue",
          "width": 1
         },
         "lon": [
          116.08973,
          116.38581
         ],
         "mode": "lines",
         "showlegend": false,
         "type": "scattermap"
        },
        {
         "lat": [
          39.90403,
          38.86712
         ],
         "line": {
          "color": "red",
          "width": 1
         },
         "lon": [
          116.407526,
          115.48452
         ],
         "mode": "lines",
         "showlegend": false,
         "type": "scattermap"
        },
        {
         "lat": [
          38.86712,
          38.69015
         ],
         "line": {
          "color": "blue",
          "width": 1
         },
         "lon": [
          115.48452,
          115.77276
         ],
         "mode": "lines",
         "showlegend": false,
         "type": "scattermap"
        },
        {
         "lat": [
          38.86712,
          37.94231
         ],
         "line": {
          "color": "blue",
          "width": 1
         },
         "lon": [
          115.48452,
          115.21181
         ],
         "mode": "lines",
         "showlegend": false,
         "type": "scattermap"
        },
        {
         "lat": [
          37.873333333333,
          37.87326
         ],
         "line": {
          "color": "red",
          "width": 1
         },
         "lon": [
          112.56444444444,
          112.54245
         ],
         "mode": "lines",
         "showlegend": false,
         "type": "scattermap"
        },
        {
         "lat": [
          37.87326,
          37.79488
         ],
         "line": {
          "color": "blue",
          "width": 1
         },
         "lon": [
          112.54245,
          113.62727
         ],
         "mode": "lines",
         "showlegend": false,
         "type": "scattermap"
        },
        {
         "lat": [
          37.873333333333,
          36.08121
         ],
         "line": {
          "color": "red",
          "width": 1
         },
         "lon": [
          112.56444444444,
          111.50865
         ],
         "mode": "lines",
         "showlegend": false,
         "type": "scattermap"
        },
        {
         "lat": [
          36.08121,
          35.61562
         ],
         "line": {
          "color": "blue",
          "width": 1
         },
         "lon": [
          111.50865,
          111.21634
         ],
         "mode": "lines",
         "showlegend": false,
         "type": "scattermap"
        },
        {
         "lat": [
          36.08121,
          35.49072
         ],
         "line": {
          "color": "blue",
          "width": 1
         },
         "lon": [
          111.50865,
          111.57067
         ],
         "mode": "lines",
         "showlegend": false,
         "type": "scattermap"
        },
        {
         "lat": [
          36.08121,
          35.64113
         ],
         "line": {
          "color": "blue",
          "width": 1
         },
         "lon": [
          111.50865,
          111.46925
         ],
         "mode": "lines",
         "showlegend": false,
         "type": "scattermap"
        },
        {
         "lat": [
          36.08121,
          34.83444
         ],
         "line": {
          "color": "blue",
          "width": 1
         },
         "lon": [
          111.50865,
          110.3245
         ],
         "mode": "lines",
         "showlegend": false,
         "type": "scattermap"
        },
        {
         "lat": [
          36.08121,
          35.13922
         ],
         "line": {
          "color": "blue",
          "width": 1
         },
         "lon": [
          111.50865,
          111.2158
         ],
         "mode": "lines",
         "showlegend": false,
         "type": "scattermap"
        },
        {
         "lat": [
          36.08121,
          null
         ],
         "line": {
          "color": "blue",
          "width": 1
         },
         "lon": [
          111.50865,
          null
         ],
         "mode": "lines",
         "showlegend": false,
         "type": "scattermap"
        },
        {
         "lat": [
          37.873333333333,
          35.50348
         ],
         "line": {
          "color": "red",
          "width": 1
         },
         "lon": [
          112.56444444444,
          112.83442
         ],
         "mode": "lines",
         "showlegend": false,
         "type": "scattermap"
        },
        {
         "lat": [
          35.50348,
          35.50348
         ],
         "line": {
          "color": "blue",
          "width": 1
         },
         "lon": [
          112.83442,
          112.83442
         ],
         "mode": "lines",
         "showlegend": false,
         "type": "scattermap"
        },
        {
         "lat": [
          35.50348,
          35.6027
         ],
         "line": {
          "color": "blue",
          "width": 1
         },
         "lon": [
          112.83442,
          110.97833
         ],
         "mode": "lines",
         "showlegend": false,
         "type": "scattermap"
        },
        {
         "lat": [
          36.4,
          36.666666666667
         ],
         "line": {
          "color": "red",
          "width": 1
         },
         "lon": [
          118.4,
          116.98333333333
         ],
         "mode": "lines",
         "showlegend": false,
         "type": "scattermap"
        },
        {
         "lat": [
          36.666666666667,
          36.2001
         ],
         "line": {
          "color": "blue",
          "width": 1
         },
         "lon": [
          116.98333333333,
          117.0809
         ],
         "mode": "lines",
         "showlegend": false,
         "type": "scattermap"
        },
        {
         "lat": [
          36.666666666667,
          null
         ],
         "line": {
          "color": "blue",
          "width": 1
         },
         "lon": [
          116.98333333333,
          null
         ],
         "mode": "lines",
         "showlegend": false,
         "type": "scattermap"
        },
        {
         "lat": [
          36.666666666667,
          36.06933
         ],
         "line": {
          "color": "blue",
          "width": 1
         },
         "lon": [
          116.98333333333,
          117.06846
         ],
         "mode": "lines",
         "showlegend": false,
         "type": "scattermap"
        },
        {
         "lat": [
          36.666666666667,
          36.7946
         ],
         "line": {
          "color": "blue",
          "width": 1
         },
         "lon": [
          116.98333333333,
          116.7588
         ],
         "mode": "lines",
         "showlegend": false,
         "type": "scattermap"
        },
        {
         "lat": [
          36.666666666667,
          null
         ],
         "line": {
          "color": "blue",
          "width": 1
         },
         "lon": [
          116.98333333333,
          null
         ],
         "mode": "lines",
         "showlegend": false,
         "type": "scattermap"
        },
        {
         "lat": [
          36.666666666667,
          37.380555555556
         ],
         "line": {
          "color": "blue",
          "width": 1
         },
         "lon": [
          116.98333333333,
          118.0125
         ],
         "mode": "lines",
         "showlegend": false,
         "type": "scattermap"
        },
        {
         "lat": [
          36.666666666667,
          37.380555555556
         ],
         "line": {
          "color": "blue",
          "width": 1
         },
         "lon": [
          116.98333333333,
          118.0125
         ],
         "mode": "lines",
         "showlegend": false,
         "type": "scattermap"
        },
        {
         "lat": [
          36.4,
          37.81666666666667
         ],
         "line": {
          "color": "red",
          "width": 1
         },
         "lon": [
          118.4,
          120.7333333333333
         ],
         "mode": "lines",
         "showlegend": false,
         "type": "scattermap"
        },
        {
         "lat": [
          36.4,
          36.696666666667
         ],
         "line": {
          "color": "red",
          "width": 1
         },
         "lon": [
          118.4,
          118.47972222222
         ],
         "mode": "lines",
         "showlegend": false,
         "type": "scattermap"
        },
        {
         "lat": [
          36.4,
          36.42194444444444
         ],
         "line": {
          "color": "red",
          "width": 1
         },
         "lon": [
          118.4,
          116.0438888888889
         ],
         "mode": "lines",
         "showlegend": false,
         "type": "scattermap"
        },
        {
         "lat": [
          36.42194444444444,
          null
         ],
         "line": {
          "color": "blue",
          "width": 1
         },
         "lon": [
          116.0438888888889,
          null
         ],
         "mode": "lines",
         "showlegend": false,
         "type": "scattermap"
        },
        {
         "lat": [
          36.42194444444444,
          36.849444444444
         ],
         "line": {
          "color": "blue",
          "width": 1
         },
         "lon": [
          116.0438888888889,
          115.70611111111
         ],
         "mode": "lines",
         "showlegend": false,
         "type": "scattermap"
        },
        {
         "lat": [
          34.266666666667,
          34.26111111111111
         ],
         "line": {
          "color": "red",
          "width": 1
         },
         "lon": [
          108.9,
          108.9422222222222
         ],
         "mode": "lines",
         "showlegend": false,
         "type": "scattermap"
        },
        {
         "lat": [
          34.26111111111111,
          34.16136
         ],
         "line": {
          "color": "blue",
          "width": 1
         },
         "lon": [
          108.9422222222222,
          108.21401
         ],
         "mode": "lines",
         "showlegend": false,
         "type": "scattermap"
        },
        {
         "lat": [
          34.26111111111111,
          34.53515
         ],
         "line": {
          "color": "blue",
          "width": 1
         },
         "lon": [
          108.9422222222222,
          109.0873
         ],
         "mode": "lines",
         "showlegend": false,
         "type": "scattermap"
        },
        {
         "lat": [
          34.26111111111111,
          null
         ],
         "line": {
          "color": "blue",
          "width": 1
         },
         "lon": [
          108.9422222222222,
          null
         ],
         "mode": "lines",
         "showlegend": false,
         "type": "scattermap"
        },
        {
         "lat": [
          34.26111111111111,
          34.45
         ],
         "line": {
          "color": "blue",
          "width": 1
         },
         "lon": [
          108.9422222222222,
          109.7
         ],
         "mode": "lines",
         "showlegend": false,
         "type": "scattermap"
        },
        {
         "lat": [
          34.26111111111111,
          34.62037
         ],
         "line": {
          "color": "blue",
          "width": 1
         },
         "lon": [
          108.9422222222222,
          108.9359
         ],
         "mode": "lines",
         "showlegend": false,
         "type": "scattermap"
        },
        {
         "lat": [
          34.26111111111111,
          33.86586
         ],
         "line": {
          "color": "blue",
          "width": 1
         },
         "lon": [
          108.9422222222222,
          109.9284
         ],
         "mode": "lines",
         "showlegend": false,
         "type": "scattermap"
        },
        {
         "lat": [
          34.266666666667,
          33.07938
         ],
         "line": {
          "color": "red",
          "width": 1
         },
         "lon": [
          108.9,
          107.02598
         ],
         "mode": "lines",
         "showlegend": false,
         "type": "scattermap"
        },
        {
         "lat": [
          33.07938,
          33.15405
         ],
         "line": {
          "color": "blue",
          "width": 1
         },
         "lon": [
          107.02598,
          107.32536
         ],
         "mode": "lines",
         "showlegend": false,
         "type": "scattermap"
        },
        {
         "lat": [
          33.07938,
          null
         ],
         "line": {
          "color": "blue",
          "width": 1
         },
         "lon": [
          107.02598,
          null
         ],
         "mode": "lines",
         "showlegend": false,
         "type": "scattermap"
        },
        {
         "lat": [
          33.07938,
          33.2237
         ],
         "line": {
          "color": "blue",
          "width": 1
         },
         "lon": [
          107.02598,
          107.5473
         ],
         "mode": "lines",
         "showlegend": false,
         "type": "scattermap"
        },
        {
         "lat": [
          30,
          30.66
         ],
         "line": {
          "color": "red",
          "width": 1
         },
         "lon": [
          103,
          104.0633333333333
         ],
         "mode": "lines",
         "showlegend": false,
         "type": "scattermap"
        },
        {
         "lat": [
          30.66,
          null
         ],
         "line": {
          "color": "blue",
          "width": 1
         },
         "lon": [
          104.0633333333333,
          null
         ],
         "mode": "lines",
         "showlegend": false,
         "type": "scattermap"
        },
        {
         "lat": [
          30,
          29.55
         ],
         "line": {
          "color": "red",
          "width": 1
         },
         "lon": [
          103,
          106.50694444444
         ],
         "mode": "lines",
         "showlegend": false,
         "type": "scattermap"
        },
        {
         "lat": [
          30,
          null
         ],
         "line": {
          "color": "red",
          "width": 1
         },
         "lon": [
          103,
          null
         ],
         "mode": "lines",
         "showlegend": false,
         "type": "scattermap"
        },
        {
         "hoverinfo": "text",
         "hoverlabel": {
          "bgcolor": "white",
          "font": {
           "size": 12
          }
         },
         "hovertext": [
          "Name: Chekiang<br>Comment: Tche-kiang, hoje:Zhejiang, 浙江,  @dehergne:396"
         ],
         "lat": [
          30.266666666667
         ],
         "lon": [
          120.15
         ],
         "marker": {
          "color": "red",
          "size": 12
         },
         "mode": "markers",
         "showlegend": false,
         "type": "scattermap"
        },
        {
         "hoverinfo": "text",
         "hoverlabel": {
          "bgcolor": "white",
          "font": {
           "size": 12
          }
         },
         "hovertext": [
          "Name: Hangchou<br>Comment: Hang-tcheou, hoje: Hangzhou, 杭州,"
         ],
         "lat": [
          30.25
         ],
         "lon": [
          120.1675
         ],
         "marker": {
          "color": "blue",
          "size": 8
         },
         "mode": "markers",
         "showlegend": false,
         "type": "scattermap"
        },
        {
         "hoverinfo": "text",
         "hoverlabel": {
          "bgcolor": "white",
          "font": {
           "size": 12
          }
         },
         "hovertext": [
          "Name: Fuyang<br>Comment: Fou-yang, hoje:Fuyang, 富阳,"
         ],
         "lat": [
          30.04998
         ],
         "lon": [
          119.93697
         ],
         "marker": {
          "color": "green",
          "size": 5
         },
         "mode": "markers",
         "showlegend": false,
         "type": "scattermap"
        },
        {
         "hoverinfo": "text",
         "hoverlabel": {
          "bgcolor": "white",
          "font": {
           "size": 12
          }
         },
         "hovertext": [
          "Name: Jenho<br>Comment: Jen-houo, hoje: Renhe, 仁和县 (), Historical county name,<br>coordinates: 30.448897N, 120.307504E"
         ],
         "lat": [
          30.448897
         ],
         "lon": [
          120.307504
         ],
         "marker": {
          "color": "green",
          "size": 5
         },
         "mode": "markers",
         "showlegend": false,
         "type": "scattermap"
        },
        {
         "hoverinfo": "text",
         "hoverlabel": {
          "bgcolor": "white",
          "font": {
           "size": 12
          }
         },
         "hovertext": [
          "Name: Chüchow<br>Comment: K'iu-tcheou, hoje:Quzhou, 衢州, , in the Chinese translation<br>it is recognized as “遂州”, which is wrong, both phonetically<br>and geographically. In Dehergne(1957), it is noted as \"衢州\"."
         ],
         "lat": [
          28.95445
         ],
         "lon": [
          118.8763
         ],
         "marker": {
          "color": "blue",
          "size": 8
         },
         "mode": "markers",
         "showlegend": false,
         "type": "scattermap"
        },
        {
         "hoverinfo": "text",
         "hoverlabel": {
          "bgcolor": "white",
          "font": {
           "size": 12
          }
         },
         "hovertext": [
          "Name: Huchow<br>Comment: Hou-tcheou, hoje: Huzhou, 湖州,"
         ],
         "lat": [
          30.8925
         ],
         "lon": [
          120.0875
         ],
         "marker": {
          "color": "blue",
          "size": 8
         },
         "mode": "markers",
         "showlegend": false,
         "type": "scattermap"
        },
        {
         "hoverinfo": "text",
         "hoverlabel": {
          "bgcolor": "white",
          "font": {
           "size": 12
          }
         },
         "hovertext": [
          "Name: Tehtsing<br>Comment: \"Tehtsing du Huchow, Té-ts'ingTeching# hoje: Deqing, 德清, \""
         ],
         "lat": [
          30.53808
         ],
         "lon": [
          119.96297
         ],
         "marker": {
          "color": "green",
          "size": 5
         },
         "mode": "markers",
         "showlegend": false,
         "type": "scattermap"
        },
        {
         "hoverinfo": "text",
         "hoverlabel": {
          "bgcolor": "white",
          "font": {
           "size": 12
          }
         },
         "hovertext": [
          "Name: Kashing<br>Comment: Kia-hing, hoje:Jiaxing, 嘉兴,"
         ],
         "lat": [
          30.7522
         ],
         "lon": [
          120.75
         ],
         "marker": {
          "color": "blue",
          "size": 8
         },
         "mode": "markers",
         "showlegend": false,
         "type": "scattermap"
        },
        {
         "hoverinfo": "text",
         "hoverlabel": {
          "bgcolor": "white",
          "font": {
           "size": 12
          }
         },
         "hovertext": [
          "Name: Kashan<br>Comment: Kia-chan, hoje: Jiashan, 嘉善, Kaosham"
         ],
         "lat": [
          30.84525
         ],
         "lon": [
          120.9164
         ],
         "marker": {
          "color": "green",
          "size": 5
         },
         "mode": "markers",
         "showlegend": false,
         "type": "scattermap"
        },
        {
         "hoverinfo": "text",
         "hoverlabel": {
          "bgcolor": "white",
          "font": {
           "size": 12
          }
         },
         "hovertext": [
          "Name: Tangsi<br>Comment: \"T'ang-k'i Tangchi\", hoje:Tangqi, 塘栖 , in the Chinese<br>translation it is recognized as “塘拪”"
         ],
         "lat": [
          30.4783
         ],
         "lon": [
          120.18254
         ],
         "marker": {
          "color": "green",
          "size": 5
         },
         "mode": "markers",
         "showlegend": false,
         "type": "scattermap"
        },
        {
         "hoverinfo": "text",
         "hoverlabel": {
          "bgcolor": "white",
          "font": {
           "size": 12
          }
         },
         "hovertext": [
          "Name: Tsungteh<br>Comment: Tch'ong-té,hoje: Chongde, 崇德县 , Historical county name,<br>located in the present Chongfu 崇福镇Tsungteh (Shihmen)"
         ],
         "lat": [
          30.53055555555556
         ],
         "lon": [
          120.4355555555556
         ],
         "marker": {
          "color": "green",
          "size": 5
         },
         "mode": "markers",
         "showlegend": false,
         "type": "scattermap"
        },
        {
         "hoverinfo": "text",
         "hoverlabel": {
          "bgcolor": "white",
          "font": {
           "size": 12
          }
         },
         "hovertext": [
          "Name: Tungsiang<br>Comment: T'ong-hiang, hoje:Tongxiang, 桐乡,"
         ],
         "lat": [
          30.6326
         ],
         "lon": [
          120.54744
         ],
         "marker": {
          "color": "green",
          "size": 5
         },
         "mode": "markers",
         "showlegend": false,
         "type": "scattermap"
        },
        {
         "hoverinfo": "text",
         "hoverlabel": {
          "bgcolor": "white",
          "font": {
           "size": 12
          }
         },
         "hovertext": [
          "Name: Kinhwa<br>Comment: Kin-hoa,Chinhua,hoje:Jinhua, 金华,"
         ],
         "lat": [
          29.10462
         ],
         "lon": [
          119.64937
         ],
         "marker": {
          "color": "blue",
          "size": 8
         },
         "mode": "markers",
         "showlegend": false,
         "type": "scattermap"
        },
        {
         "hoverinfo": "text",
         "hoverlabel": {
          "bgcolor": "white",
          "font": {
           "size": 12
          }
         },
         "hovertext": [
          "Name: Lanchi<br>Comment: (qui deviendra em 1656 R des OP)Lan-k'i， hoje:Lanxi, 兰溪,"
         ],
         "lat": [
          29.216667
         ],
         "lon": [
          119.472222
         ],
         "marker": {
          "color": "green",
          "size": 5
         },
         "mode": "markers",
         "showlegend": false,
         "type": "scattermap"
        },
        {
         "hoverinfo": "text",
         "hoverlabel": {
          "bgcolor": "white",
          "font": {
           "size": 12
          }
         },
         "hovertext": [
          "Name: Tungyang<br>Comment: Tong-yang, hoje:Dongyang, 东阳,"
         ],
         "lat": [
          29.27853
         ],
         "lon": [
          120.22822
         ],
         "marker": {
          "color": "green",
          "size": 5
         },
         "mode": "markers",
         "showlegend": false,
         "type": "scattermap"
        },
        {
         "hoverinfo": "text",
         "hoverlabel": {
          "bgcolor": "white",
          "font": {
           "size": 12
          }
         },
         "hovertext": [
          "Name: Ningpo<br>Comment: (v. 1540?)Ning-pouo,hoje: Ningbo, 宁波,"
         ],
         "lat": [
          29.875
         ],
         "lon": [
          121.54916666667
         ],
         "marker": {
          "color": "blue",
          "size": 8
         },
         "mode": "markers",
         "showlegend": false,
         "type": "scattermap"
        },
        {
         "hoverinfo": "text",
         "hoverlabel": {
          "bgcolor": "white",
          "font": {
           "size": 12
          }
         },
         "hovertext": [
          "Name: Tinghai<br>Comment: T'ing-hai, hoje:Dinghai, 定海,"
         ],
         "lat": [
          30.019444444444
         ],
         "lon": [
          122.10277777778
         ],
         "marker": {
          "color": "green",
          "size": 5
         },
         "mode": "markers",
         "showlegend": false,
         "type": "scattermap"
        },
        {
         "hoverinfo": "text",
         "hoverlabel": {
          "bgcolor": "white",
          "font": {
           "size": 12
          }
         },
         "hovertext": [
          "Name: Tzeki<br>Comment: Ts'e-k'i,Tsuchi, hoje:Cixi, 慈溪,"
         ],
         "lat": [
          30.169699
         ],
         "lon": [
          121.266462
         ],
         "marker": {
          "color": "green",
          "size": 5
         },
         "mode": "markers",
         "showlegend": false,
         "type": "scattermap"
        },
        {
         "hoverinfo": "text",
         "hoverlabel": {
          "bgcolor": "white",
          "font": {
           "size": 12
          }
         },
         "hovertext": [
          "Name: Shaoshing<br>Comment: Chao-hing,Shaohsing, hoje:Shaoxing, 绍兴,"
         ],
         "lat": [
          30.169699
         ],
         "lon": [
          121.266462
         ],
         "marker": {
          "color": "blue",
          "size": 8
         },
         "mode": "markers",
         "showlegend": false,
         "type": "scattermap"
        },
        {
         "hoverinfo": "text",
         "hoverlabel": {
          "bgcolor": "white",
          "font": {
           "size": 12
          }
         },
         "hovertext": [
          "Name: Wenchow<br>Comment: Wen-tcheou, hoje:Wenzhou, 温州,"
         ],
         "lat": [
          27.999128
         ],
         "lon": [
          120.656075
         ],
         "marker": {
          "color": "blue",
          "size": 8
         },
         "mode": "markers",
         "showlegend": false,
         "type": "scattermap"
        },
        {
         "hoverinfo": "text",
         "hoverlabel": {
          "bgcolor": "white",
          "font": {
           "size": 12
          }
         },
         "hovertext": [
          "Name: Juian<br>Comment: Joei-ngan, hoje:Rui'an, 瑞安,"
         ],
         "lat": [
          27.778
         ],
         "lon": [
          120.65263
         ],
         "marker": {
          "color": "green",
          "size": 5
         },
         "mode": "markers",
         "showlegend": false,
         "type": "scattermap"
        },
        {
         "hoverinfo": "text",
         "hoverlabel": {
          "bgcolor": "white",
          "font": {
           "size": 12
          }
         },
         "hovertext": [
          "Name: Fukien<br>Comment: Fou-kien, hoje: Fujian, 福建,  @dehergne:397"
         ],
         "lat": [
          25.9
         ],
         "lon": [
          118.3
         ],
         "marker": {
          "color": "red",
          "size": 12
         },
         "mode": "markers",
         "showlegend": false,
         "type": "scattermap"
        },
        {
         "hoverinfo": "text",
         "hoverlabel": {
          "bgcolor": "white",
          "font": {
           "size": 12
          }
         },
         "hovertext": [
          "Name: Foochow<br>Comment: Fuzhou，Fou-tcheou,Fuchou，hoje: Fuzhou, 福州,"
         ],
         "lat": [
          26.076944444444
         ],
         "lon": [
          119.29166666667
         ],
         "marker": {
          "color": "blue",
          "size": 8
         },
         "mode": "markers",
         "showlegend": false,
         "type": "scattermap"
        },
        {
         "hoverinfo": "text",
         "hoverlabel": {
          "bgcolor": "white",
          "font": {
           "size": 12
          }
         },
         "hovertext": [
          "Name: Hungtang<br>Comment: hoje: Hongtang, 洪塘, , in the Chinese translation it is<br>written as “宏塘”, and in Dehergne(1957) it is \"洪堂\". But<br>actually this place is written with the characters<br>\"洪塘\".bourg de Hungtang"
         ],
         "lat": [
          26.070555555556
         ],
         "lon": [
          119.23083333333
         ],
         "marker": {
          "color": "green",
          "size": 5
         },
         "mode": "markers",
         "showlegend": false,
         "type": "scattermap"
        },
        {
         "hoverinfo": "text",
         "hoverlabel": {
          "bgcolor": "white",
          "font": {
           "size": 12
          }
         },
         "hovertext": [
          "Name: Machang<br>Comment: hoje: Machang, 马厂村,  (Changshan district),The Wikidata<br>Q17033140 is that of \"马厂街基督教堂\" Machang Street Christian<br>Church, but no coordinatesbourg de Machang, Machang"
         ],
         "lat": [
          26.04646
         ],
         "lon": [
          119.31066
         ],
         "marker": {
          "color": "green",
          "size": 5
         },
         "mode": "markers",
         "showlegend": false,
         "type": "scattermap"
        },
        {
         "hoverinfo": "text",
         "hoverlabel": {
          "bgcolor": "white",
          "font": {
           "size": 12
          }
         },
         "hovertext": [
          "Name: Diongloh<br>Comment: hoje: Changle,长乐, Diongloh (Tch'ang-lo), Tch'ang-lo,Changlo"
         ],
         "lat": [
          25.96253
         ],
         "lon": [
          119.50611
         ],
         "marker": {
          "color": "green",
          "size": 5
         },
         "mode": "markers",
         "showlegend": false,
         "type": "scattermap"
        },
        {
         "hoverinfo": "text",
         "hoverlabel": {
          "bgcolor": "white",
          "font": {
           "size": 12
          }
         },
         "hovertext": [
          "Name: Hoihow<br>Comment: Haikeu, hoje: Haikou, 海口镇, bourg de Hoihow (Haikeu)"
         ],
         "lat": [
          25.69974
         ],
         "lon": [
          119.46066
         ],
         "marker": {
          "color": "green",
          "size": 5
         },
         "mode": "markers",
         "showlegend": false,
         "type": "scattermap"
        },
        {
         "hoverinfo": "text",
         "hoverlabel": {
          "bgcolor": "white",
          "font": {
           "size": 12
          }
         },
         "hovertext": [
          "Name: Futsing<br>Comment: Fou-ts'ing, Fuching, hoje:Fuqing, 福清,"
         ],
         "lat": [
          25.72316
         ],
         "lon": [
          119.37347
         ],
         "marker": {
          "color": "green",
          "size": 5
         },
         "mode": "markers",
         "showlegend": false,
         "type": "scattermap"
        },
        {
         "hoverinfo": "text",
         "hoverlabel": {
          "bgcolor": "white",
          "font": {
           "size": 12
          }
         },
         "hovertext": [
          "Name: Kutien<br>Comment: Kou-t'ien, hoje:Gutian, 古田,"
         ],
         "lat": [
          26.616666666667
         ],
         "lon": [
          118.85
         ],
         "marker": {
          "color": "green",
          "size": 5
         },
         "mode": "markers",
         "showlegend": false,
         "type": "scattermap"
        },
        {
         "hoverinfo": "text",
         "hoverlabel": {
          "bgcolor": "white",
          "font": {
           "size": 12
          }
         },
         "hovertext": [
          "Name: Lienkong<br>Comment: Lien-kiang,Lienchiang, hoje:Lianjiang, 连江,"
         ],
         "lat": [
          26.20077
         ],
         "lon": [
          119.53499
         ],
         "marker": {
          "color": "green",
          "size": 5
         },
         "mode": "markers",
         "showlegend": false,
         "type": "scattermap"
        },
        {
         "hoverinfo": "text",
         "hoverlabel": {
          "bgcolor": "white",
          "font": {
           "size": 12
          }
         },
         "hovertext": [
          "Name: Changchow<br>Comment: Zhangzhou, hoje:Zhangzhou, 漳州, Changchow (Lungki)"
         ],
         "lat": [
          24.50932
         ],
         "lon": [
          117.66117
         ],
         "marker": {
          "color": "blue",
          "size": 8
         },
         "mode": "markers",
         "showlegend": false,
         "type": "scattermap"
        },
        {
         "hoverinfo": "text",
         "hoverlabel": {
          "bgcolor": "white",
          "font": {
           "size": 12
          }
         },
         "hovertext": [
          "Name: Chüanchow<br>Comment: Quanzhou, Ts'iuen-tcheou, hoje:Quanzhou, 泉州,"
         ],
         "lat": [
          24.91389
         ],
         "lon": [
          118.58583
         ],
         "marker": {
          "color": "blue",
          "size": 8
         },
         "mode": "markers",
         "showlegend": false,
         "type": "scattermap"
        },
        {
         "hoverinfo": "text",
         "hoverlabel": {
          "bgcolor": "white",
          "font": {
           "size": 12
          }
         },
         "hovertext": [
          "Name: Amoy<br>Comment: Hia-men,Shamen, hoje:Xiamen, 厦门, ,Amoy (Szeming)"
         ],
         "lat": [
          24.479722222222
         ],
         "lon": [
          118.08194444444
         ],
         "marker": {
          "color": "green",
          "size": 5
         },
         "mode": "markers",
         "showlegend": false,
         "type": "scattermap"
        },
        {
         "hoverinfo": "text",
         "hoverlabel": {
          "bgcolor": "white",
          "font": {
           "size": 12
          }
         },
         "hovertext": [
          "Name: Anhai<br>Comment: Ngan-hai,hoje:Anhai,安海, principaux bourgs"
         ],
         "lat": [
          24.71956
         ],
         "lon": [
          118.47144
         ],
         "marker": {
          "color": "green",
          "size": 5
         },
         "mode": "markers",
         "showlegend": false,
         "type": "scattermap"
        },
        {
         "hoverinfo": "text",
         "hoverlabel": {
          "bgcolor": "white",
          "font": {
           "size": 12
          }
         },
         "hovertext": [
          "Name: Hweian<br>Comment: Hoei-ngan, hoje:Hui'an, 惠安,"
         ],
         "lat": [
          25.03423
         ],
         "lon": [
          118.7968
         ],
         "marker": {
          "color": "green",
          "size": 5
         },
         "mode": "markers",
         "showlegend": false,
         "type": "scattermap"
        },
        {
         "hoverinfo": "text",
         "hoverlabel": {
          "bgcolor": "white",
          "font": {
           "size": 12
          }
         },
         "hovertext": [
          "Name: Tsingkiang<br>Comment: Chingchiang ,Tsin-kiang, hoje: Jingjiang, 靖江, . In the<br>original book (Dehergne, 1973), it is written as \"Tsinkiang\"<br>(without g), which is wrongly spelled, because from both<br>phonetic and geographical points of view, it should be<br>Tsingkiang 靖江. In Dehergne(1973), it is written as<br>Tsingjiang. And in the Chinese translation, it is also<br>recognized as \"靖江\".Tsinkiang"
         ],
         "lat": [
          32.00582
         ],
         "lon": [
          120.2547
         ],
         "marker": {
          "color": "green",
          "size": 5
         },
         "mode": "markers",
         "showlegend": false,
         "type": "scattermap"
        },
        {
         "hoverinfo": "text",
         "hoverlabel": {
          "bgcolor": "white",
          "font": {
           "size": 12
          }
         },
         "hovertext": [
          "Name: Yungchun<br>Comment: Yong-tch'oen,Yungchin, hoje:Yongchun, 永春,"
         ],
         "lat": [
          25.32265
         ],
         "lon": [
          118.28633
         ],
         "marker": {
          "color": "green",
          "size": 5
         },
         "mode": "markers",
         "showlegend": false,
         "type": "scattermap"
        },
        {
         "hoverinfo": "text",
         "hoverlabel": {
          "bgcolor": "white",
          "font": {
           "size": 12
          }
         },
         "hovertext": [
          "Name: Funing<br>Comment: Fou-ning, hoje:Funing, 福宁,, historical administrative<br>division. The Wikidata code is of its administrative center<br>Xiapu 霞浦Funing (tcheou indép.)"
         ],
         "lat": [
          26.88351
         ],
         "lon": [
          120.00186
         ],
         "marker": {
          "color": "blue",
          "size": 8
         },
         "mode": "markers",
         "showlegend": false,
         "type": "scattermap"
        },
        {
         "hoverinfo": "text",
         "hoverlabel": {
          "bgcolor": "white",
          "font": {
           "size": 12
          }
         },
         "hovertext": [
          "Name: Fuan<br>Comment: Fou-ngan, hoje:Fu'an, 福安,"
         ],
         "lat": [
          27.1
         ],
         "lon": [
          119.63333333333
         ],
         "marker": {
          "color": "green",
          "size": 5
         },
         "mode": "markers",
         "showlegend": false,
         "type": "scattermap"
        },
        {
         "hoverinfo": "text",
         "hoverlabel": {
          "bgcolor": "white",
          "font": {
           "size": 12
          }
         },
         "hovertext": [
          "Name: Hiapoey<br>Comment: Apuy, hoje: Xiapi, 下邳, in the Chinese translation, it is<br>recognized as \"霞浦\", but actually it is not. In<br>Dehergne(1957), it is noted as \"下邳\", coordinates:<br>26.832013826263175N,119.77591087254943E geonames:8579733<br>(China, FujianNingde Shi, xiapicun), Ningde Shi -> Hiapoey<br>(Apuy)"
         ],
         "lat": [
          27.02043
         ],
         "lon": [
          119.45468
         ],
         "marker": {
          "color": "green",
          "size": 5
         },
         "mode": "markers",
         "showlegend": false,
         "type": "scattermap"
        },
        {
         "hoverinfo": "text",
         "hoverlabel": {
          "bgcolor": "white",
          "font": {
           "size": 12
          }
         },
         "hovertext": [
          "Name: Lokia<br>Comment: \"\"\"Lukiahsiang,Lokahoeng, hoje:Luojiaxiang, 罗家巷, in the<br>Chinese translation, it is recognized as 闾峡, but in<br>Dehergne(1957), it is noted as 罗家巷. 罗家巷 now is in 罗江.<br>coordinates: 26.971131830911116N, 119.67270683499889E<br>geonames:8579942 Luojiangcun circa  \"\"\"principaux bourgs"
         ],
         "lat": [
          24.94291
         ],
         "lon": [
          118.66431
         ],
         "marker": {
          "color": "green",
          "size": 5
         },
         "mode": "markers",
         "showlegend": false,
         "type": "scattermap"
        },
        {
         "hoverinfo": "text",
         "hoverlabel": {
          "bgcolor": "white",
          "font": {
           "size": 12
          }
         },
         "hovertext": [
          "Name: Muyang<br>Comment: hoje:Muyang, 穆阳, principaux bourgs, Mou-yang"
         ],
         "lat": [
          27.06115
         ],
         "lon": [
          119.52251
         ],
         "marker": {
          "color": "green",
          "size": 5
         },
         "mode": "markers",
         "showlegend": false,
         "type": "scattermap"
        },
        {
         "hoverinfo": "text",
         "hoverlabel": {
          "bgcolor": "white",
          "font": {
           "size": 12
          }
         },
         "hovertext": [
          "Name: Ningteh<br>Comment: hoje: Ningde, 宁德, Ning-té,Ningte"
         ],
         "lat": [
          26.661666666667
         ],
         "lon": [
          119.52277777778
         ],
         "marker": {
          "color": "green",
          "size": 5
         },
         "mode": "markers",
         "showlegend": false,
         "type": "scattermap"
        },
        {
         "hoverinfo": "text",
         "hoverlabel": {
          "bgcolor": "white",
          "font": {
           "size": 12
          }
         },
         "hovertext": [
          "Name: Showning<br>Comment: Cheou-ning, hoje:Shouning, 寿宁,"
         ],
         "lat": [
          27.4571
         ],
         "lon": [
          119.50973
         ],
         "marker": {
          "color": "green",
          "size": 5
         },
         "mode": "markers",
         "showlegend": false,
         "type": "scattermap"
        },
        {
         "hoverinfo": "text",
         "hoverlabel": {
          "bgcolor": "white",
          "font": {
           "size": 12
          }
         },
         "hovertext": [
          "Name: Hinghwa<br>Comment: Hing-hoa,Hsinghua, hoje:Xinghua, 兴化, wikidata:Q17498990,<br>兴化县，the wikidata code of it does not contain coordinate<br>information, which can be substituted by ，the present-day<br>Putian 莆田"
         ],
         "lat": [
          25.439444
         ],
         "lon": [
          119.010278
         ],
         "marker": {
          "color": "blue",
          "size": 8
         },
         "mode": "markers",
         "showlegend": false,
         "type": "scattermap"
        },
        {
         "hoverinfo": "text",
         "hoverlabel": {
          "bgcolor": "white",
          "font": {
           "size": 12
          }
         },
         "hovertext": [
          "Name: Putien<br>Comment: P'ou-t'ien, hoje:Putian, 莆田,"
         ],
         "lat": [
          25.43395
         ],
         "lon": [
          119.0111
         ],
         "marker": {
          "color": "green",
          "size": 5
         },
         "mode": "markers",
         "showlegend": false,
         "type": "scattermap"
        },
        {
         "hoverinfo": "text",
         "hoverlabel": {
          "bgcolor": "white",
          "font": {
           "size": 12
          }
         },
         "hovertext": [
          "Name: Sienyu<br>Comment: Sien-yeou, hoje:Xianyou, 仙游,"
         ],
         "lat": [
          25.35973
         ],
         "lon": [
          118.69008
         ],
         "marker": {
          "color": "green",
          "size": 5
         },
         "mode": "markers",
         "showlegend": false,
         "type": "scattermap"
        },
        {
         "hoverinfo": "text",
         "hoverlabel": {
          "bgcolor": "white",
          "font": {
           "size": 12
          }
         },
         "hovertext": [
          "Name: Kienning<br>Comment: Kienning (Kienow), Kien-yang, hoje:Jianyang, 建阳,"
         ],
         "lat": [
          27.33488
         ],
         "lon": [
          118.11622
         ],
         "marker": {
          "color": "blue",
          "size": 8
         },
         "mode": "markers",
         "showlegend": false,
         "type": "scattermap"
        },
        {
         "hoverinfo": "text",
         "hoverlabel": {
          "bgcolor": "white",
          "font": {
           "size": 12
          }
         },
         "hovertext": [
          "Name: Kienyang<br>Comment: Kien-yang, hoje:Jianyang, 建阳,"
         ],
         "lat": [
          27.33488
         ],
         "lon": [
          118.11622
         ],
         "marker": {
          "color": "green",
          "size": 5
         },
         "mode": "markers",
         "showlegend": false,
         "type": "scattermap"
        },
        {
         "hoverinfo": "text",
         "hoverlabel": {
          "bgcolor": "white",
          "font": {
           "size": 12
          }
         },
         "hovertext": [
          "Name: Chungan<br>Comment: Tch'ong-ngan, hoje:Chong'an, 崇安, , Today the city's name<br>changed to be Wuyishan 武夷山市, and the wikidata code is that<br>of Wuyishan"
         ],
         "lat": [
          27.75617
         ],
         "lon": [
          118.02671
         ],
         "marker": {
          "color": "green",
          "size": 5
         },
         "mode": "markers",
         "showlegend": false,
         "type": "scattermap"
        },
        {
         "hoverinfo": "text",
         "hoverlabel": {
          "bgcolor": "white",
          "font": {
           "size": 12
          }
         },
         "hovertext": [
          "Name: Shaowu<br>Comment: Chao-ou, hoje:Shaowu, 邵武,"
         ],
         "lat": [
          27.34165
         ],
         "lon": [
          117.4869
         ],
         "marker": {
          "color": "blue",
          "size": 8
         },
         "mode": "markers",
         "showlegend": false,
         "type": "scattermap"
        },
        {
         "hoverinfo": "text",
         "hoverlabel": {
          "bgcolor": "white",
          "font": {
           "size": 12
          }
         },
         "hovertext": [
          "Name: Kienning hien<br>Comment: Kien-ning,Chienning, hoje:Jianning Xian, 建宁县,"
         ],
         "lat": [
          26.83418
         ],
         "lon": [
          116.84028
         ],
         "marker": {
          "color": "green",
          "size": 5
         },
         "mode": "markers",
         "showlegend": false,
         "type": "scattermap"
        },
        {
         "hoverinfo": "text",
         "hoverlabel": {
          "bgcolor": "white",
          "font": {
           "size": 12
          }
         },
         "hovertext": [
          "Name: Taining<br>Comment: T'ai-ning, hoje:Taining, 泰宁,"
         ],
         "lat": [
          26.90002
         ],
         "lon": [
          117.1743
         ],
         "marker": {
          "color": "green",
          "size": 5
         },
         "mode": "markers",
         "showlegend": false,
         "type": "scattermap"
        },
        {
         "hoverinfo": "text",
         "hoverlabel": {
          "bgcolor": "white",
          "font": {
           "size": 12
          }
         },
         "hovertext": [
          "Name: Tingchow<br>Comment: T'ing-tcheou, hoje:Tingzhou, 汀州,"
         ],
         "lat": [
          25.83459
         ],
         "lon": [
          116.34795
         ],
         "marker": {
          "color": "blue",
          "size": 8
         },
         "mode": "markers",
         "showlegend": false,
         "type": "scattermap"
        },
        {
         "hoverinfo": "text",
         "hoverlabel": {
          "bgcolor": "white",
          "font": {
           "size": 12
          }
         },
         "hovertext": [
          "Name: Ninghwa<br>Comment: Ning-hoa, hoje:Ninghua, 宁化,"
         ],
         "lat": [
          26.26286
         ],
         "lon": [
          116.65196
         ],
         "marker": {
          "color": "green",
          "size": 5
         },
         "mode": "markers",
         "showlegend": false,
         "type": "scattermap"
        },
        {
         "hoverinfo": "text",
         "hoverlabel": {
          "bgcolor": "white",
          "font": {
           "size": 12
          }
         },
         "hovertext": [
          "Name: Tsingliu<br>Comment: Tsing-lowou,Chingliu, hoje:Qingliu, 清流,"
         ],
         "lat": [
          26.18033
         ],
         "lon": [
          116.81228
         ],
         "marker": {
          "color": "green",
          "size": 5
         },
         "mode": "markers",
         "showlegend": false,
         "type": "scattermap"
        },
        {
         "hoverinfo": "text",
         "hoverlabel": {
          "bgcolor": "white",
          "font": {
           "size": 12
          }
         },
         "hovertext": [
          "Name: Yenping<br>Comment: Yen-p'ing, hoje:Yanping, 延平,"
         ],
         "lat": [
          26.63958
         ],
         "lon": [
          118.1718
         ],
         "marker": {
          "color": "blue",
          "size": 8
         },
         "mode": "markers",
         "showlegend": false,
         "type": "scattermap"
        },
        {
         "hoverinfo": "text",
         "hoverlabel": {
          "bgcolor": "white",
          "font": {
           "size": 12
          }
         },
         "hovertext": [
          "Name: Shahsien<br>Comment: hoje: Shaxian, 沙县 Cha"
         ],
         "lat": [
          26.40278
         ],
         "lon": [
          117.78529
         ],
         "marker": {
          "color": "green",
          "size": 5
         },
         "mode": "markers",
         "showlegend": false,
         "type": "scattermap"
        },
        {
         "hoverinfo": "text",
         "hoverlabel": {
          "bgcolor": "white",
          "font": {
           "size": 12
          }
         },
         "hovertext": [
          "Name: Taiwan<br>Comment: hoje:Taiwan, 台湾, Formose (Taiwan), Formosa"
         ],
         "lat": [
          23.766666666667
         ],
         "lon": [
          121
         ],
         "marker": {
          "color": "blue",
          "size": 8
         },
         "mode": "markers",
         "showlegend": false,
         "type": "scattermap"
        },
        {
         "hoverinfo": "text",
         "hoverlabel": {
          "bgcolor": "white",
          "font": {
           "size": 12
          }
         },
         "hovertext": [
          "Name: Kilung<br>Comment: Ki-long, Jilong, hoje:Keelung, 基隆,"
         ],
         "lat": [
          25.12825
         ],
         "lon": [
          121.7419
         ],
         "marker": {
          "color": "green",
          "size": 5
         },
         "mode": "markers",
         "showlegend": false,
         "type": "scattermap"
        },
        {
         "hoverinfo": "text",
         "hoverlabel": {
          "bgcolor": "white",
          "font": {
           "size": 12
          }
         },
         "hovertext": [
          "Name: Tamsui<br>Comment: "
         ],
         "lat": [
          25.166666666667
         ],
         "lon": [
          121.43333333333
         ],
         "marker": {
          "color": "green",
          "size": 5
         },
         "mode": "markers",
         "showlegend": false,
         "type": "scattermap"
        },
        {
         "hoverinfo": "text",
         "hoverlabel": {
          "bgcolor": "white",
          "font": {
           "size": 12
          }
         },
         "hovertext": [
          "Name: Taparri<br>Comment: \"\"\"hoje：大包里 in the Chinese translation it is recognized as<br>塔巴里,in Dehergne(1957) it is noted as 大包里, which cannot be<br>found in the map. Dehergne(1957) puts it as \"Peninsule de<br>Masu, à 1 lieue nord-ouest de San Salvador (社寮)\"<br>today's Santissima Trinidad ， with Masu<br>coordinates:25.201218764354735N, 121.68618375811317E\"\"\""
         ],
         "lat": [
          25.201218764354735
         ],
         "lon": [
          121.68618375811317
         ],
         "marker": {
          "color": "green",
          "size": 5
         },
         "mode": "markers",
         "showlegend": false,
         "type": "scattermap"
        },
        {
         "hoverinfo": "text",
         "hoverlabel": {
          "bgcolor": "white",
          "font": {
           "size": 12
          }
         },
         "hovertext": [
          "Name: Camarri<br>Comment: hoje:Jinbaoli, 金包里, in the Chinese translation it is<br>recognized as “噶玛兰”, but in Dehergne(1957) it is noted as<br>\"金包里\". It is an area in the Northern Taiwan, coordinates:<br>25.22189808588497N, 121.6382892794898EQuimauri"
         ],
         "lat": [
          25.22189808588497
         ],
         "lon": [
          121.6382892794898
         ],
         "marker": {
          "color": "green",
          "size": 5
         },
         "mode": "markers",
         "showlegend": false,
         "type": "scattermap"
        },
        {
         "hoverinfo": "text",
         "hoverlabel": {
          "bgcolor": "white",
          "font": {
           "size": 12
          }
         },
         "hovertext": [
          "Name: Santiago<br>Comment: hoje:Cape Santiago, 三貂角, Kakinauan, Samitiao"
         ],
         "lat": [
          25.007430555556
         ],
         "lon": [
          122.00173611111
         ],
         "marker": {
          "color": "green",
          "size": 5
         },
         "mode": "markers",
         "showlegend": false,
         "type": "scattermap"
        },
        {
         "hoverinfo": "text",
         "hoverlabel": {
          "bgcolor": "white",
          "font": {
           "size": 12
          }
         },
         "hovertext": [
          "Name: Honan<br>Comment: hoje:Henan, 河南,"
         ],
         "lat": [
          33.9
         ],
         "lon": [
          113.5
         ],
         "marker": {
          "color": "red",
          "size": 12
         },
         "mode": "markers",
         "showlegend": false,
         "type": "scattermap"
        },
        {
         "hoverinfo": "text",
         "hoverlabel": {
          "bgcolor": "white",
          "font": {
           "size": 12
          }
         },
         "hovertext": [
          "Name: Kaifeng<br>Comment: Kaifeng (Pienleang) «chrétiens de la Croix» (D'Elu II 319<br>sq) v. 1550., chrétienté v. 1623, K'ai-fong, hoje:Kaifeng,<br>开封,"
         ],
         "lat": [
          34.795
         ],
         "lon": [
          114.345
         ],
         "marker": {
          "color": "blue",
          "size": 8
         },
         "mode": "markers",
         "showlegend": false,
         "type": "scattermap"
        },
        {
         "hoverinfo": "text",
         "hoverlabel": {
          "bgcolor": "white",
          "font": {
           "size": 12
          }
         },
         "hovertext": [
          "Name: Yüanwu<br>Comment: Yuen-ou, hoje:Yuanwu, 原武,"
         ],
         "lat": [
          34.99853
         ],
         "lon": [
          113.7795
         ],
         "marker": {
          "color": "green",
          "size": 5
         },
         "mode": "markers",
         "showlegend": false,
         "type": "scattermap"
        },
        {
         "hoverinfo": "text",
         "hoverlabel": {
          "bgcolor": "white",
          "font": {
           "size": 12
          }
         },
         "hovertext": [
          "Name: Kweiteh<br>Comment: Koei-té,Kueite, hoje: Guide, 归德,"
         ],
         "lat": [
          34.42592
         ],
         "lon": [
          115.64673
         ],
         "marker": {
          "color": "blue",
          "size": 8
         },
         "mode": "markers",
         "showlegend": false,
         "type": "scattermap"
        },
        {
         "hoverinfo": "text",
         "hoverlabel": {
          "bgcolor": "white",
          "font": {
           "size": 12
          }
         },
         "hovertext": [
          "Name: Hukwang<br>Comment: Huguang?, Hou-Quang, hoje:Huguang,湖广, wikidata:Q2235155 for<br>coordinates we use Wuchang District , where the head<br>quarters of vice-roy of Huguang (wikidata:Q11563236) was<br>located."
         ],
         "lat": [
          30.55628
         ],
         "lon": [
          114.31054
         ],
         "marker": {
          "color": "red",
          "size": 12
         },
         "mode": "markers",
         "showlegend": false,
         "type": "scattermap"
        },
        {
         "hoverinfo": "text",
         "hoverlabel": {
          "bgcolor": "white",
          "font": {
           "size": 12
          }
         },
         "hovertext": [
          "Name: Wuchang<br>Comment: do Hupei?, Ou-tch'ang, hoje:Wuchang, 武昌,"
         ],
         "lat": [
          30.55628
         ],
         "lon": [
          114.31054
         ],
         "marker": {
          "color": "blue",
          "size": 8
         },
         "mode": "markers",
         "showlegend": false,
         "type": "scattermap"
        },
        {
         "hoverinfo": "text",
         "hoverlabel": {
          "bgcolor": "white",
          "font": {
           "size": 12
          }
         },
         "hovertext": [
          "Name: Tungshan<br>Comment: T'ong-chan, hoje:Tongshan, 通山,"
         ],
         "lat": [
          29.60558
         ],
         "lon": [
          114.49158
         ],
         "marker": {
          "color": "green",
          "size": 5
         },
         "mode": "markers",
         "showlegend": false,
         "type": "scattermap"
        },
        {
         "hoverinfo": "text",
         "hoverlabel": {
          "bgcolor": "white",
          "font": {
           "size": 12
          }
         },
         "hovertext": [
          "Name: Anlu<br>Comment: do Hupei?, Ngan-lou, hoje:Anlu, 安陆,"
         ],
         "lat": [
          31.2575
         ],
         "lon": [
          113.67833
         ],
         "marker": {
          "color": "blue",
          "size": 8
         },
         "mode": "markers",
         "showlegend": false,
         "type": "scattermap"
        },
        {
         "hoverinfo": "text",
         "hoverlabel": {
          "bgcolor": "white",
          "font": {
           "size": 12
          }
         },
         "hovertext": [
          "Name: Kingmen<br>Comment: Kingmen, King-men,Chingmen, hoje:Jingmen, 荆门,"
         ],
         "lat": [
          31.038055555556
         ],
         "lon": [
          112.21138888889
         ],
         "marker": {
          "color": "green",
          "size": 5
         },
         "mode": "markers",
         "showlegend": false,
         "type": "scattermap"
        },
        {
         "hoverinfo": "text",
         "hoverlabel": {
          "bgcolor": "white",
          "font": {
           "size": 12
          }
         },
         "hovertext": [
          "Name: Hwangchow<br>Comment: do Hupei?, Hoang-tcheou, hoje:Huangzhou, 黄州,"
         ],
         "lat": [
          30.43772
         ],
         "lon": [
          114.8796
         ],
         "marker": {
          "color": "blue",
          "size": 8
         },
         "mode": "markers",
         "showlegend": false,
         "type": "scattermap"
        },
        {
         "hoverinfo": "text",
         "hoverlabel": {
          "bgcolor": "white",
          "font": {
           "size": 12
          }
         },
         "hovertext": [
          "Name: Kichow<br>Comment: Kichow (Kichun), King-men,Chingmen, hoje:Jingmen, 荆门,"
         ],
         "lat": [
          31.038055555556
         ],
         "lon": [
          112.21138888889
         ],
         "marker": {
          "color": "green",
          "size": 5
         },
         "mode": "markers",
         "showlegend": false,
         "type": "scattermap"
        },
        {
         "hoverinfo": "text",
         "hoverlabel": {
          "bgcolor": "white",
          "font": {
           "size": 12
          }
         },
         "hovertext": [
          "Name: Kingchow<br>Comment: do Hupei?, K'i-tcheou,Chichou, hoje: Qizhou, 蕲州,"
         ],
         "lat": [
          30.07694
         ],
         "lon": [
          115.33751
         ],
         "marker": {
          "color": "blue",
          "size": 8
         },
         "mode": "markers",
         "showlegend": false,
         "type": "scattermap"
        },
        {
         "hoverinfo": "text",
         "hoverlabel": {
          "bgcolor": "white",
          "font": {
           "size": 12
          }
         },
         "hovertext": [
          "Name: Kungan<br>Comment: Kong-ngan, hoje:Gong'an, 公安,"
         ],
         "lat": [
          30.06319
         ],
         "lon": [
          112.21917
         ],
         "marker": {
          "color": "green",
          "size": 5
         },
         "mode": "markers",
         "showlegend": false,
         "type": "scattermap"
        },
        {
         "hoverinfo": "text",
         "hoverlabel": {
          "bgcolor": "white",
          "font": {
           "size": 12
          }
         },
         "hovertext": [
          "Name: Shihshow<br>Comment: Che-cheou, hoje:Shishou, 石首,"
         ],
         "lat": [
          29.72109
         ],
         "lon": [
          112.40368
         ],
         "marker": {
          "color": "green",
          "size": 5
         },
         "mode": "markers",
         "showlegend": false,
         "type": "scattermap"
        },
        {
         "hoverinfo": "text",
         "hoverlabel": {
          "bgcolor": "white",
          "font": {
           "size": 12
          }
         },
         "hovertext": [
          "Name: Hunan<br>Comment: Hou-nan, hoje:Hunan, 湖南,"
         ],
         "lat": [
          27.4
         ],
         "lon": [
          111.8
         ],
         "marker": {
          "color": "red",
          "size": 12
         },
         "mode": "markers",
         "showlegend": false,
         "type": "scattermap"
        },
        {
         "hoverinfo": "text",
         "hoverlabel": {
          "bgcolor": "white",
          "font": {
           "size": 12
          }
         },
         "hovertext": [
          "Name: Yungchow<br>Comment: do Hunan?, Yong-tcheou, hoje:Yongzhou, 永州,"
         ],
         "lat": [
          26.4515
         ],
         "lon": [
          111.59527
         ],
         "marker": {
          "color": "blue",
          "size": 8
         },
         "mode": "markers",
         "showlegend": false,
         "type": "scattermap"
        },
        {
         "hoverinfo": "text",
         "hoverlabel": {
          "bgcolor": "white",
          "font": {
           "size": 12
          }
         },
         "hovertext": [
          "Name: Kiyang<br>Comment: K'i-yang,Chiyang, hoje:Qiyang, 祁阳,"
         ],
         "lat": [
          26.58949
         ],
         "lon": [
          111.84812
         ],
         "marker": {
          "color": "green",
          "size": 5
         },
         "mode": "markers",
         "showlegend": false,
         "type": "scattermap"
        },
        {
         "hoverinfo": "text",
         "hoverlabel": {
          "bgcolor": "white",
          "font": {
           "size": 12
          }
         },
         "hovertext": [
          "Name: Anhwei<br>Comment: Anhui, Ngon-hoei, hoje:Anhui, 安徽,"
         ],
         "lat": [
          31.833333333333
         ],
         "lon": [
          117
         ],
         "marker": {
          "color": "red",
          "size": 12
         },
         "mode": "markers",
         "showlegend": false,
         "type": "scattermap"
        },
        {
         "hoverinfo": "text",
         "hoverlabel": {
          "bgcolor": "white",
          "font": {
           "size": 12
          }
         },
         "hovertext": [
          "Name: Chuchow<br>Comment: Chuchow, hoje:Chuzhou, 滁州,"
         ],
         "lat": [
          32.30621
         ],
         "lon": [
          118.31148
         ],
         "marker": {
          "color": "blue",
          "size": 8
         },
         "mode": "markers",
         "showlegend": false,
         "type": "scattermap"
        },
        {
         "hoverinfo": "text",
         "hoverlabel": {
          "bgcolor": "white",
          "font": {
           "size": 12
          }
         },
         "hovertext": [
          "Name: Hweichow<br>Comment: Hoei-tcheou, hoje:Huizhou, 徽州,"
         ],
         "lat": [
          29.86972222222222
         ],
         "lon": [
          118.4219444444444
         ],
         "marker": {
          "color": "blue",
          "size": 8
         },
         "mode": "markers",
         "showlegend": false,
         "type": "scattermap"
        },
        {
         "hoverinfo": "text",
         "hoverlabel": {
          "bgcolor": "white",
          "font": {
           "size": 12
          }
         },
         "hovertext": [
          "Name: Wuyan hien<br>Comment: Ou-yuen, hoje:Wuyuan Xian, 婺源县, , Wuyuan historically was in<br>Anhui province, but now it is in the present-day Jiangxi<br>province"
         ],
         "lat": [
          29.25
         ],
         "lon": [
          117.85
         ],
         "marker": {
          "color": "green",
          "size": 5
         },
         "mode": "markers",
         "showlegend": false,
         "type": "scattermap"
        },
        {
         "hoverinfo": "text",
         "hoverlabel": {
          "bgcolor": "white",
          "font": {
           "size": 12
          }
         },
         "hovertext": [
          "Name: Kiangsu<br>Comment: Jiangju, hoje: Jiangsu, 江苏,"
         ],
         "lat": [
          33
         ],
         "lon": [
          120
         ],
         "marker": {
          "color": "red",
          "size": 12
         },
         "mode": "markers",
         "showlegend": false,
         "type": "scattermap"
        },
        {
         "hoverinfo": "text",
         "hoverlabel": {
          "bgcolor": "white",
          "font": {
           "size": 12
          }
         },
         "hovertext": [
          "Name: Nanking<br>Comment: Nanjing, Nan-king,Nanching, hoje: Nanjing, 南京,"
         ],
         "lat": [
          32.06083333333333
         ],
         "lon": [
          118.7788888888889
         ],
         "marker": {
          "color": "blue",
          "size": 8
         },
         "mode": "markers",
         "showlegend": false,
         "type": "scattermap"
        },
        {
         "hoverinfo": "text",
         "hoverlabel": {
          "bgcolor": "white",
          "font": {
           "size": 12
          }
         },
         "hovertext": [
          "Name: Siaolingwei<br>Comment: Hiao-ling-wei,Hsiaolingwei, hoje: Xiaolingwei, 孝陵卫,"
         ],
         "lat": [
          32.03578
         ],
         "lon": [
          118.85539
         ],
         "marker": {
          "color": "green",
          "size": 5
         },
         "mode": "markers",
         "showlegend": false,
         "type": "scattermap"
        },
        {
         "hoverinfo": "text",
         "hoverlabel": {
          "bgcolor": "white",
          "font": {
           "size": 12
          }
         },
         "hovertext": [
          "Name: Lungtan<br>Comment: hoje:Longtan, 龙潭,"
         ],
         "lat": [
          32.16809
         ],
         "lon": [
          119.04926
         ],
         "marker": {
          "color": "green",
          "size": 5
         },
         "mode": "markers",
         "showlegend": false,
         "type": "scattermap"
        },
        {
         "hoverinfo": "text",
         "hoverlabel": {
          "bgcolor": "white",
          "font": {
           "size": 12
          }
         },
         "hovertext": [
          "Name: Changchow<br>Comment: hoje:Changzhou, 常州, Changchow (Wutsin)"
         ],
         "lat": [
          31.81216666666667
         ],
         "lon": [
          119.9691666666667
         ],
         "marker": {
          "color": "blue",
          "size": 8
         },
         "mode": "markers",
         "showlegend": false,
         "type": "scattermap"
        },
        {
         "hoverinfo": "text",
         "hoverlabel": {
          "bgcolor": "white",
          "font": {
           "size": 12
          }
         },
         "hovertext": [
          "Name: Ihing<br>Comment: I-hing,Ihsing, hoje:Yixing, 宜兴,"
         ],
         "lat": [
          31.369722222222
         ],
         "lon": [
          119.82388888889
         ],
         "marker": {
          "color": "green",
          "size": 5
         },
         "mode": "markers",
         "showlegend": false,
         "type": "scattermap"
        },
        {
         "hoverinfo": "text",
         "hoverlabel": {
          "bgcolor": "white",
          "font": {
           "size": 12
          }
         },
         "hovertext": [
          "Name: Tsinkiang<br>Comment: Chingchiang, hoje:Jingjiang, 靖江, , In the original book<br>(Dehergne, 1973), it is written as \"Tsinkiang\" (without g),<br>which is wrongly spelled, because from both phonetic and<br>geographical points of view, it should be Tsingkiang 靖江. In<br>Dehergne(1973), it is written as Tsingjiang. And in the<br>Chinese translation, it is also recognized as \"靖江\"."
         ],
         "lat": [
          32.00582
         ],
         "lon": [
          120.2547
         ],
         "marker": {
          "color": "green",
          "size": 5
         },
         "mode": "markers",
         "showlegend": false,
         "type": "scattermap"
        },
        {
         "hoverinfo": "text",
         "hoverlabel": {
          "bgcolor": "white",
          "font": {
           "size": 12
          }
         },
         "hovertext": [
          "Name: Wusih<br>Comment: Ou-si,Wuhsi, hoje:Wuxi, 无锡,"
         ],
         "lat": [
          31.566667
         ],
         "lon": [
          120.283333
         ],
         "marker": {
          "color": "green",
          "size": 5
         },
         "mode": "markers",
         "showlegend": false,
         "type": "scattermap"
        },
        {
         "hoverinfo": "text",
         "hoverlabel": {
          "bgcolor": "white",
          "font": {
           "size": 12
          }
         },
         "hovertext": [
          "Name: Chinkiang<br>Comment: Tchen-kiang,Chenchiang, hoje:Zhenjiang, 镇江,"
         ],
         "lat": [
          32.21086
         ],
         "lon": [
          119.45508
         ],
         "marker": {
          "color": "blue",
          "size": 8
         },
         "mode": "markers",
         "showlegend": false,
         "type": "scattermap"
        },
        {
         "hoverinfo": "text",
         "hoverlabel": {
          "bgcolor": "white",
          "font": {
           "size": 12
          }
         },
         "hovertext": [
          "Name: Tanyang<br>Comment: Tan-yang, hoje:Danyang, 丹阳,"
         ],
         "lat": [
          31.99483
         ],
         "lon": [
          119.57504
         ],
         "marker": {
          "color": "green",
          "size": 5
         },
         "mode": "markers",
         "showlegend": false,
         "type": "scattermap"
        },
        {
         "hoverinfo": "text",
         "hoverlabel": {
          "bgcolor": "white",
          "font": {
           "size": 12
          }
         },
         "hovertext": [
          "Name: Hwaian<br>Comment: Hoai-ngan, hoje:Huai'an, 淮安,"
         ],
         "lat": [
          33.50583333333334
         ],
         "lon": [
          119.1391666666667
         ],
         "marker": {
          "color": "blue",
          "size": 8
         },
         "mode": "markers",
         "showlegend": false,
         "type": "scattermap"
        },
        {
         "hoverinfo": "text",
         "hoverlabel": {
          "bgcolor": "white",
          "font": {
           "size": 12
          }
         },
         "hovertext": [
          "Name: Soochow<br>Comment: Sou-tcheou, Suchou, hoje:Suzhou, 苏州, Soochow (Wuhsien)"
         ],
         "lat": [
          31.3
         ],
         "lon": [
          120.6194444444444
         ],
         "marker": {
          "color": "blue",
          "size": 8
         },
         "mode": "markers",
         "showlegend": false,
         "type": "scattermap"
        },
        {
         "hoverinfo": "text",
         "hoverlabel": {
          "bgcolor": "white",
          "font": {
           "size": 12
          }
         },
         "hovertext": [
          "Name: Kiating<br>Comment: Kia-ting,Chiating, hoje:Jiading, 嘉定,"
         ],
         "lat": [
          31.337447222222
         ],
         "lon": [
          121.23359166667
         ],
         "marker": {
          "color": "green",
          "size": 5
         },
         "mode": "markers",
         "showlegend": false,
         "type": "scattermap"
        },
        {
         "hoverinfo": "text",
         "hoverlabel": {
          "bgcolor": "white",
          "font": {
           "size": 12
          }
         },
         "hovertext": [
          "Name: Tsungming<br>Comment: Tch'ong-ming,Chungming, hoje: Chongming, 崇明, Tsungming (île)"
         ],
         "lat": [
          31.62825
         ],
         "lon": [
          121.39831
         ],
         "marker": {
          "color": "green",
          "size": 5
         },
         "mode": "markers",
         "showlegend": false,
         "type": "scattermap"
        },
        {
         "hoverinfo": "text",
         "hoverlabel": {
          "bgcolor": "white",
          "font": {
           "size": 12
          }
         },
         "hovertext": [
          "Name: Sungkiang<br>Comment: Song-kiang,Sungching, hoje: Songjiang, 松江,"
         ],
         "lat": [
          31.00947583333333
         ],
         "lon": [
          121.1077575
         ],
         "marker": {
          "color": "blue",
          "size": 8
         },
         "mode": "markers",
         "showlegend": false,
         "type": "scattermap"
        },
        {
         "hoverinfo": "text",
         "hoverlabel": {
          "bgcolor": "white",
          "font": {
           "size": 12
          }
         },
         "hovertext": [
          "Name: Mo ka pang<br>Comment: Ma kia pim, hoje: Majiabang, 马家浜, in the Chinese translation<br>it is recognized as “穆喀榜”, which is wrong. Dehergne(1957,<br>p60) said it is \"马家滨\" at \"sud de Sung-kiang\". In the present<br>day it might be \"马家浜\" to the south Songjiang, coordinates:<br>30.845691234919308N, 121.3179093082612E"
         ],
         "lat": [
          30.845691234919308
         ],
         "lon": [
          121.3179093082612
         ],
         "marker": {
          "color": "green",
          "size": 5
         },
         "mode": "markers",
         "showlegend": false,
         "type": "scattermap"
        },
        {
         "hoverinfo": "text",
         "hoverlabel": {
          "bgcolor": "white",
          "font": {
           "size": 12
          }
         },
         "hovertext": [
          "Name: Chwansha<br>Comment: Tch'oan-cha, hoje:Chuansha, 川沙,"
         ],
         "lat": [
          31.19444444444445
         ],
         "lon": [
          121.6913888888889
         ],
         "marker": {
          "color": "green",
          "size": 5
         },
         "mode": "markers",
         "showlegend": false,
         "type": "scattermap"
        },
        {
         "hoverinfo": "text",
         "hoverlabel": {
          "bgcolor": "white",
          "font": {
           "size": 12
          }
         },
         "hovertext": [
          "Name: Fenghsien<br>Comment: Fong-hien,Fenghsien, hoje:Fengxian, 奉贤, Fenghsien (Vongtsié)"
         ],
         "lat": [
          30.92004
         ],
         "lon": [
          121.46969
         ],
         "marker": {
          "color": "green",
          "size": 5
         },
         "mode": "markers",
         "showlegend": false,
         "type": "scattermap"
        },
        {
         "hoverinfo": "text",
         "hoverlabel": {
          "bgcolor": "white",
          "font": {
           "size": 12
          }
         },
         "hovertext": [
          "Name: Kinshan<br>Comment: Kin-chan,Chinshan, hoje: Jinshan, 金山,"
         ],
         "lat": [
          30.74392
         ],
         "lon": [
          121.33727
         ],
         "marker": {
          "color": "green",
          "size": 5
         },
         "mode": "markers",
         "showlegend": false,
         "type": "scattermap"
        },
        {
         "hoverinfo": "text",
         "hoverlabel": {
          "bgcolor": "white",
          "font": {
           "size": 12
          }
         },
         "hovertext": [
          "Name: Chuking<br>Comment: Tchou-king,Chuching, hoje:Zhujing, 朱泾, , in the Chinese<br>traslation it is written as “诸泾”, which should be “朱泾”"
         ],
         "lat": [
          30.90227
         ],
         "lon": [
          121.15878
         ],
         "marker": {
          "color": "green",
          "size": 5
         },
         "mode": "markers",
         "showlegend": false,
         "type": "scattermap"
        },
        {
         "hoverinfo": "text",
         "hoverlabel": {
          "bgcolor": "white",
          "font": {
           "size": 12
          }
         },
         "hovertext": [
          "Name: Shanghai<br>Comment: Chang-hai, hoje: Shanghai, 上海,"
         ],
         "lat": [
          31.23222222222222
         ],
         "lon": [
          121.4691666666667
         ],
         "marker": {
          "color": "green",
          "size": 5
         },
         "mode": "markers",
         "showlegend": false,
         "type": "scattermap"
        },
        {
         "hoverinfo": "text",
         "hoverlabel": {
          "bgcolor": "white",
          "font": {
           "size": 12
          }
         },
         "hovertext": [
          "Name: Tsingpu<br>Comment: Ts'ing-p'ou,Chingpu, hoje: Qingpu, 青浦,"
         ],
         "lat": [
          31.14477166666667
         ],
         "lon": [
          121.1077575
         ],
         "marker": {
          "color": "green",
          "size": 5
         },
         "mode": "markers",
         "showlegend": false,
         "type": "scattermap"
        },
        {
         "hoverinfo": "text",
         "hoverlabel": {
          "bgcolor": "white",
          "font": {
           "size": 12
          }
         },
         "hovertext": [
          "Name: Tsipao<br>Comment: Tsi-pao,Chipao, hoje: Qibao, 七宝,"
         ],
         "lat": [
          31.15958
         ],
         "lon": [
          121.34666
         ],
         "marker": {
          "color": "green",
          "size": 5
         },
         "mode": "markers",
         "showlegend": false,
         "type": "scattermap"
        },
        {
         "hoverinfo": "text",
         "hoverlabel": {
          "bgcolor": "white",
          "font": {
           "size": 12
          }
         },
         "hovertext": [
          "Name: Yangchow<br>Comment: Yang-tcheou, hoje: Yangzhou, 扬州,"
         ],
         "lat": [
          32.39117
         ],
         "lon": [
          119.43625
         ],
         "marker": {
          "color": "blue",
          "size": 8
         },
         "mode": "markers",
         "showlegend": false,
         "type": "scattermap"
        },
        {
         "hoverinfo": "text",
         "hoverlabel": {
          "bgcolor": "white",
          "font": {
           "size": 12
          }
         },
         "hovertext": [
          "Name: Kaoyu<br>Comment: Kao-yeou, hoje: Gaoyou, 高邮,"
         ],
         "lat": [
          32.78469
         ],
         "lon": [
          119.44324
         ],
         "marker": {
          "color": "green",
          "size": 5
         },
         "mode": "markers",
         "showlegend": false,
         "type": "scattermap"
        },
        {
         "hoverinfo": "text",
         "hoverlabel": {
          "bgcolor": "white",
          "font": {
           "size": 12
          }
         },
         "hovertext": [
          "Name: Paoshan<br>Comment: Pao-chan, hoje: Baoshan, 宝山,"
         ],
         "lat": [
          31.4
         ],
         "lon": [
          121.4
         ],
         "marker": {
          "color": "green",
          "size": 5
         },
         "mode": "markers",
         "showlegend": false,
         "type": "scattermap"
        },
        {
         "hoverinfo": "text",
         "hoverlabel": {
          "bgcolor": "white",
          "font": {
           "size": 12
          }
         },
         "hovertext": [
          "Name: Kiangsi<br>Comment: Jiangxi, Kiang-si, hoje: Jiangxi, 江西,"
         ],
         "lat": [
          27.3
         ],
         "lon": [
          116
         ],
         "marker": {
          "color": "red",
          "size": 12
         },
         "mode": "markers",
         "showlegend": false,
         "type": "scattermap"
        },
        {
         "hoverinfo": "text",
         "hoverlabel": {
          "bgcolor": "white",
          "font": {
           "size": 12
          }
         },
         "hovertext": [
          "Name: Nanchang<br>Comment: Nan-tch'ang, hoje:Nanchang, 南昌,"
         ],
         "lat": [
          28.684167
         ],
         "lon": [
          115.887222
         ],
         "marker": {
          "color": "blue",
          "size": 8
         },
         "mode": "markers",
         "showlegend": false,
         "type": "scattermap"
        },
        {
         "hoverinfo": "text",
         "hoverlabel": {
          "bgcolor": "white",
          "font": {
           "size": 12
          }
         },
         "hovertext": [
          "Name: Kienchang<br>Comment: Kien-tch'ang,Chienchang, hoje:Jianchang, 建昌,"
         ],
         "lat": [
          27.55672
         ],
         "lon": [
          116.64023
         ],
         "marker": {
          "color": "blue",
          "size": 8
         },
         "mode": "markers",
         "showlegend": false,
         "type": "scattermap"
        },
        {
         "hoverinfo": "text",
         "hoverlabel": {
          "bgcolor": "white",
          "font": {
           "size": 12
          }
         },
         "hovertext": [
          "Name: Nanan<br>Comment: Nan-ngan, hoje: Nan'an, 南安,"
         ],
         "lat": [
          25.3982
         ],
         "lon": [
          114.36451
         ],
         "marker": {
          "color": "blue",
          "size": 8
         },
         "mode": "markers",
         "showlegend": false,
         "type": "scattermap"
        },
        {
         "hoverinfo": "text",
         "hoverlabel": {
          "bgcolor": "white",
          "font": {
           "size": 12
          }
         },
         "hovertext": [
          "Name: Nancheng<br>Comment: Nan-tch'eng, hoje:Nancheng, 南城,"
         ],
         "lat": [
          27.516666666667
         ],
         "lon": [
          116.7
         ],
         "marker": {
          "color": "green",
          "size": 5
         },
         "mode": "markers",
         "showlegend": false,
         "type": "scattermap"
        },
        {
         "hoverinfo": "text",
         "hoverlabel": {
          "bgcolor": "white",
          "font": {
           "size": 12
          }
         },
         "hovertext": [
          "Name: Nanfeng<br>Comment: Nan-fong, hoje: Nanfeng, 南丰,"
         ],
         "lat": [
          27.2086
         ],
         "lon": [
          116.531
         ],
         "marker": {
          "color": "green",
          "size": 5
         },
         "mode": "markers",
         "showlegend": false,
         "type": "scattermap"
        },
        {
         "hoverinfo": "text",
         "hoverlabel": {
          "bgcolor": "white",
          "font": {
           "size": 12
          }
         },
         "hovertext": [
          "Name: Kwangsi<br>Comment: Guangxi, Koang-si, hoje: Guangxi, 广西,"
         ],
         "lat": [
          23.6
         ],
         "lon": [
          108.3
         ],
         "marker": {
          "color": "red",
          "size": 12
         },
         "mode": "markers",
         "showlegend": false,
         "type": "scattermap"
        },
        {
         "hoverinfo": "text",
         "hoverlabel": {
          "bgcolor": "white",
          "font": {
           "size": 12
          }
         },
         "hovertext": [
          "Name: Kweilin<br>Comment: Koei-lin, hoje: Guilin, 桂林,"
         ],
         "lat": [
          25.266666666667
         ],
         "lon": [
          110.28333333333
         ],
         "marker": {
          "color": "blue",
          "size": 8
         },
         "mode": "markers",
         "showlegend": false,
         "type": "scattermap"
        },
        {
         "hoverinfo": "text",
         "hoverlabel": {
          "bgcolor": "white",
          "font": {
           "size": 12
          }
         },
         "hovertext": [
          "Name: Wuchow<br>Comment: Ou-tcheou, hoje: Wuzhou, 梧州,"
         ],
         "lat": [
          23.483333
         ],
         "lon": [
          111.316667
         ],
         "marker": {
          "color": "blue",
          "size": 8
         },
         "mode": "markers",
         "showlegend": false,
         "type": "scattermap"
        },
        {
         "hoverinfo": "text",
         "hoverlabel": {
          "bgcolor": "white",
          "font": {
           "size": 12
          }
         },
         "hovertext": [
          "Name: Kwangtung<br>Comment: Guangdong, hoje:Guangdong, 广东,"
         ],
         "lat": [
          23.4
         ],
         "lon": [
          113.5
         ],
         "marker": {
          "color": "red",
          "size": 12
         },
         "mode": "markers",
         "showlegend": false,
         "type": "scattermap"
        },
        {
         "hoverinfo": "text",
         "hoverlabel": {
          "bgcolor": "white",
          "font": {
           "size": 12
          }
         },
         "hovertext": [
          "Name: Macau<br>Comment: Macau, hoje: Macao, 澳门,"
         ],
         "lat": [
          22.19
         ],
         "lon": [
          113.5380555555556
         ],
         "marker": {
          "color": "blue",
          "size": 8
         },
         "mode": "markers",
         "showlegend": false,
         "type": "scattermap"
        },
        {
         "hoverinfo": "text",
         "hoverlabel": {
          "bgcolor": "white",
          "font": {
           "size": 12
          }
         },
         "hovertext": [
          "Name: Tsingchow<br>Comment: Tsingchow,Ts'ing-tcheou, hoje: Ilha Verde, 青州, Ilha Verde<br>(Tsingchow)"
         ],
         "lat": [
          22.21138889
         ],
         "lon": [
          113.5375
         ],
         "marker": {
          "color": "green",
          "size": 5
         },
         "mode": "markers",
         "showlegend": false,
         "type": "scattermap"
        },
        {
         "hoverinfo": "text",
         "hoverlabel": {
          "bgcolor": "white",
          "font": {
           "size": 12
          }
         },
         "hovertext": [
          "Name: Wantchai<br>Comment: Lapa,Wantchai, hoje: Wanzai, 湾仔, Lappa (Wantchai)"
         ],
         "lat": [
          22.19503
         ],
         "lon": [
          113.52729
         ],
         "marker": {
          "color": "green",
          "size": 5
         },
         "mode": "markers",
         "showlegend": false,
         "type": "scattermap"
        },
        {
         "hoverinfo": "text",
         "hoverlabel": {
          "bgcolor": "white",
          "font": {
           "size": 12
          }
         },
         "hovertext": [
          "Name: Cantão<br>Comment: Koang-tcheou, hoje:Guangzhou, 广州,"
         ],
         "lat": [
          23.13
         ],
         "lon": [
          113.26
         ],
         "marker": {
          "color": "blue",
          "size": 8
         },
         "mode": "markers",
         "showlegend": false,
         "type": "scattermap"
        },
        {
         "hoverinfo": "text",
         "hoverlabel": {
          "bgcolor": "white",
          "font": {
           "size": 12
          }
         },
         "hovertext": [
          "Name: Tungkun<br>Comment: Tong-koan,Tungkuan, hoje:Dongguan, 东莞,"
         ],
         "lat": [
          23.04749
         ],
         "lon": [
          113.74928
         ],
         "marker": {
          "color": "green",
          "size": 5
         },
         "mode": "markers",
         "showlegend": false,
         "type": "scattermap"
        },
        {
         "hoverinfo": "text",
         "hoverlabel": {
          "bgcolor": "white",
          "font": {
           "size": 12
          }
         },
         "hovertext": [
          "Name: Quon yao<br>Comment: hoje: Guanyao, 官窑, In the Chinses translation it is<br>recognized as “高要村”，which is wrong. in Dehergne(1957), it is<br>noted as \"官窑\", coordinates: 23.314954073028765N,<br>113.22132587290358E"
         ],
         "lat": [
          23.314954073028765
         ],
         "lon": [
          113.22132587290358
         ],
         "marker": {
          "color": "green",
          "size": 5
         },
         "mode": "markers",
         "showlegend": false,
         "type": "scattermap"
        },
        {
         "hoverinfo": "text",
         "hoverlabel": {
          "bgcolor": "white",
          "font": {
           "size": 12
          }
         },
         "hovertext": [
          "Name: Lampacao<br>Comment: Lampacau,Lampacão, hoje: 浪白滘, 浪白澳,"
         ],
         "lat": [
          22.077
         ],
         "lon": [
          113.44
         ],
         "marker": {
          "color": "green",
          "size": 5
         },
         "mode": "markers",
         "showlegend": false,
         "type": "scattermap"
        },
        {
         "hoverinfo": "text",
         "hoverlabel": {
          "bgcolor": "white",
          "font": {
           "size": 12
          }
         },
         "hovertext": [
          "Name: Kiungchow<br>Comment: K'iong-tcheou,Chiungchou, hoje: Qiongzhou, 琼州, Kiungchow<br>(île de Hainan)"
         ],
         "lat": [
          19.25
         ],
         "lon": [
          109.6666667
         ],
         "marker": {
          "color": "blue",
          "size": 8
         },
         "mode": "markers",
         "showlegend": false,
         "type": "scattermap"
        },
        {
         "hoverinfo": "text",
         "hoverlabel": {
          "bgcolor": "white",
          "font": {
           "size": 12
          }
         },
         "hovertext": [
          "Name: Tingan<br>Comment: Ting-ngan, hoje: Ding'an, 定安,"
         ],
         "lat": [
          19.701847222222
         ],
         "lon": [
          110.32945555556
         ],
         "marker": {
          "color": "green",
          "size": 5
         },
         "mode": "markers",
         "showlegend": false,
         "type": "scattermap"
        },
        {
         "hoverinfo": "text",
         "hoverlabel": {
          "bgcolor": "white",
          "font": {
           "size": 12
          }
         },
         "hovertext": [
          "Name: Bankao<br>Comment: hoje:Xiangou, 仙沟, In the Chinese translation it is<br>recognized as \"板桥\", but in Dehergne (1957), it is noted as<br>\"仙沟\". coordinates: 19.678430033709233N, 110.3760945797476E"
         ],
         "lat": [
          19.678430033709233
         ],
         "lon": [
          110.3760945797476
         ],
         "marker": {
          "color": "green",
          "size": 5
         },
         "mode": "markers",
         "showlegend": false,
         "type": "scattermap"
        },
        {
         "hoverinfo": "text",
         "hoverlabel": {
          "bgcolor": "white",
          "font": {
           "size": 12
          }
         },
         "hovertext": [
          "Name: Lungmo<br>Comment: Lummo, hoje: Longmen, 龙门, , in the Chinese translation it is<br>written as “龙末”, but but in Dehergne (1957), it is noted as<br>\"龙门\""
         ],
         "lat": [
          19.44404
         ],
         "lon": [
          110.32549
         ],
         "marker": {
          "color": "green",
          "size": 5
         },
         "mode": "markers",
         "showlegend": false,
         "type": "scattermap"
        },
        {
         "hoverinfo": "text",
         "hoverlabel": {
          "bgcolor": "white",
          "font": {
           "size": 12
          }
         },
         "hovertext": [
          "Name: Luichow<br>Comment: Lei-tcheou, hoje: Leizhou, 雷州,"
         ],
         "lat": [
          20.91471
         ],
         "lon": [
          110.08058
         ],
         "marker": {
          "color": "blue",
          "size": 8
         },
         "mode": "markers",
         "showlegend": false,
         "type": "scattermap"
        },
        {
         "hoverinfo": "text",
         "hoverlabel": {
          "bgcolor": "white",
          "font": {
           "size": 12
          }
         },
         "hovertext": [
          "Name: Namyung<br>Comment: Nan-hiong, hoje: Nanxiong, 南雄, Namyung (alors fou)"
         ],
         "lat": [
          25.11867
         ],
         "lon": [
          114.30929
         ],
         "marker": {
          "color": "blue",
          "size": 8
         },
         "mode": "markers",
         "showlegend": false,
         "type": "scattermap"
        },
        {
         "hoverinfo": "text",
         "hoverlabel": {
          "bgcolor": "white",
          "font": {
           "size": 12
          }
         },
         "hovertext": [
          "Name: Schiuchow<br>Comment: Chao-tcheou, hoje: Shaozhou, 韶州, , historical administrative<br>division. The Wikidata code is of its administrative center<br>Qujiang 曲江, which is in the present-day City of Shaoguan<br>韶关.Shiuchow (Chao-tcheou)"
         ],
         "lat": [
          24.6828
         ],
         "lon": [
          113.60027
         ],
         "marker": {
          "color": "blue",
          "size": 8
         },
         "mode": "markers",
         "showlegend": false,
         "type": "scattermap"
        },
        {
         "hoverinfo": "text",
         "hoverlabel": {
          "bgcolor": "white",
          "font": {
           "size": 12
          }
         },
         "hovertext": [
          "Name: Tsintsun<br>Comment: Cinçun, hoje: Jingcun, 靖村, coordinates:24.840448198893206N,<br>113.54394322209676E. In the original book (Dehergne, 1973),<br>it is written as \"Tsintsun\" (without g), which is wrongly<br>spelled. In Dehergne(1973), it is written as Tsingtsun, with<br>the Chinese name 靖村 noted. It is \"à une heure et demie de<br>marche au nord-ouest de Siuchow.\" In the Chinese traslation,<br>it is recognized as \"青村\", which is wrong."
         ],
         "lat": [
          24.840448198893206
         ],
         "lon": [
          113.54394322209676
         ],
         "marker": {
          "color": "green",
          "size": 5
         },
         "mode": "markers",
         "showlegend": false,
         "type": "scattermap"
        },
        {
         "hoverinfo": "text",
         "hoverlabel": {
          "bgcolor": "white",
          "font": {
           "size": 12
          }
         },
         "hovertext": [
          "Name: Hwangtsun<br>Comment: Vançun, hoje: Huangcun, 黄村, coordinates:<br>24.900778941203768N, 113.60398607001083E Dehergne(1957): \"à<br>une heure de chemin au nord de Shiuchow\"."
         ],
         "lat": [
          24.900778941203768
         ],
         "lon": [
          113.60398607001083
         ],
         "marker": {
          "color": "green",
          "size": 5
         },
         "mode": "markers",
         "showlegend": false,
         "type": "scattermap"
        },
        {
         "hoverinfo": "text",
         "hoverlabel": {
          "bgcolor": "white",
          "font": {
           "size": 12
          }
         },
         "hovertext": [
          "Name: Shiuhing<br>Comment: Tchao-k'ing, Chaoching, hoje: Zhaoqing, 肇庆, Shiuhing<br>(Tchao-k'ing, actuel Hoyiu)"
         ],
         "lat": [
          23.05
         ],
         "lon": [
          112.4666666666667
         ],
         "marker": {
          "color": "blue",
          "size": 8
         },
         "mode": "markers",
         "showlegend": false,
         "type": "scattermap"
        },
        {
         "hoverinfo": "text",
         "hoverlabel": {
          "bgcolor": "white",
          "font": {
           "size": 12
          }
         },
         "hovertext": [
          "Name: Kwichow<br>Comment: Koei-Tcheou, hoje: Guizhou, 贵州,"
         ],
         "lat": [
          26.833333333333
         ],
         "lon": [
          106.83333333333
         ],
         "marker": {
          "color": "red",
          "size": 12
         },
         "mode": "markers",
         "showlegend": false,
         "type": "scattermap"
        },
        {
         "hoverinfo": "text",
         "hoverlabel": {
          "bgcolor": "white",
          "font": {
           "size": 12
          }
         },
         "hovertext": [
          "Name: Pequim<br>Comment: "
         ],
         "lat": [
          39.90403
         ],
         "lon": [
          116.407526
         ],
         "marker": {
          "color": "red",
          "size": 12
         },
         "mode": "markers",
         "showlegend": false,
         "type": "scattermap"
        },
        {
         "hoverinfo": "text",
         "hoverlabel": {
          "bgcolor": "white",
          "font": {
           "size": 12
          }
         },
         "hovertext": [
          "Name: Pequim,<br>Comment: hoje: 北京, Peking (Shuntien) (1598), 1601"
         ],
         "lat": [
          39.90403
         ],
         "lon": [
          116.407526
         ],
         "marker": {
          "color": "blue",
          "size": 8
         },
         "mode": "markers",
         "showlegend": false,
         "type": "scattermap"
        },
        {
         "hoverinfo": "text",
         "hoverlabel": {
          "bgcolor": "white",
          "font": {
           "size": 12
          }
         },
         "hovertext": [
          "Name: Chala<br>Comment: Chala (cimetière et chapelle)"
         ],
         "lat": [
          39.93016
         ],
         "lon": [
          116.3399
         ],
         "marker": {
          "color": "green",
          "size": 5
         },
         "mode": "markers",
         "showlegend": false,
         "type": "scattermap"
        },
        {
         "hoverinfo": "text",
         "hoverlabel": {
          "bgcolor": "white",
          "font": {
           "size": 12
          }
         },
         "hovertext": [
          "Name: Tacheng<br>Comment: Ta-tch'eng,hoje: Dacheng, 大城县."
         ],
         "lat": [
          38.69824
         ],
         "lon": [
          116.63413
         ],
         "marker": {
          "color": "green",
          "size": 5
         },
         "mode": "markers",
         "showlegend": false,
         "type": "scattermap"
        },
        {
         "hoverinfo": "text",
         "hoverlabel": {
          "bgcolor": "white",
          "font": {
           "size": 12
          }
         },
         "hovertext": [
          "Name: Tientsin<br>Comment: T'ien-tsin,Tienchin, hoje: Tianjin, 天津, Tientsin"
         ],
         "lat": [
          39.146666666667
         ],
         "lon": [
          117.20555555556
         ],
         "marker": {
          "color": "green",
          "size": 5
         },
         "mode": "markers",
         "showlegend": false,
         "type": "scattermap"
        },
        {
         "hoverinfo": "text",
         "hoverlabel": {
          "bgcolor": "white",
          "font": {
           "size": 12
          }
         },
         "hovertext": [
          "Name: Tungchow<br>Comment: T'ong-tcheou, hoje: Tongzhou, 通州, ?"
         ],
         "lat": [
          39.90858
         ],
         "lon": [
          116.65133
         ],
         "marker": {
          "color": "green",
          "size": 5
         },
         "mode": "markers",
         "showlegend": false,
         "type": "scattermap"
        },
        {
         "hoverinfo": "text",
         "hoverlabel": {
          "bgcolor": "white",
          "font": {
           "size": 12
          }
         },
         "hovertext": [
          "Name: Chengting<br>Comment: Tcheng-ting, hoje: Zhengding, 正定,"
         ],
         "lat": [
          38.14602
         ],
         "lon": [
          114.56507
         ],
         "marker": {
          "color": "blue",
          "size": 8
         },
         "mode": "markers",
         "showlegend": false,
         "type": "scattermap"
        },
        {
         "hoverinfo": "text",
         "hoverlabel": {
          "bgcolor": "white",
          "font": {
           "size": 12
          }
         },
         "hovertext": [
          "Name: Hokien<br>Comment: Ho-kien, hoje: Hejian, 河间,"
         ],
         "lat": [
          38.44506
         ],
         "lon": [
          116.08973
         ],
         "marker": {
          "color": "blue",
          "size": 8
         },
         "mode": "markers",
         "showlegend": false,
         "type": "scattermap"
        },
        {
         "hoverinfo": "text",
         "hoverlabel": {
          "bgcolor": "white",
          "font": {
           "size": 12
          }
         },
         "hovertext": [
          "Name: Ningtsin<br>Comment: Ning-tsin,Ningchin, hoje: Ningjin, 宁津,"
         ],
         "lat": [
          37.64178
         ],
         "lon": [
          116.79965
         ],
         "marker": {
          "color": "green",
          "size": 5
         },
         "mode": "markers",
         "showlegend": false,
         "type": "scattermap"
        },
        {
         "hoverinfo": "text",
         "hoverlabel": {
          "bgcolor": "white",
          "font": {
           "size": 12
          }
         },
         "hovertext": [
          "Name: Wukiao<br>Comment: Ou-k'iao,Wuchiao,hoje: Wuqiao, 吴桥,"
         ],
         "lat": [
          37.62603
         ],
         "lon": [
          116.38581
         ],
         "marker": {
          "color": "green",
          "size": 5
         },
         "mode": "markers",
         "showlegend": false,
         "type": "scattermap"
        },
        {
         "hoverinfo": "text",
         "hoverlabel": {
          "bgcolor": "white",
          "font": {
           "size": 12
          }
         },
         "hovertext": [
          "Name: Paoting<br>Comment: Paoting (Tsingyüan), hoje: Baoding, 保定,"
         ],
         "lat": [
          38.86712
         ],
         "lon": [
          115.48452
         ],
         "marker": {
          "color": "blue",
          "size": 8
         },
         "mode": "markers",
         "showlegend": false,
         "type": "scattermap"
        },
        {
         "hoverinfo": "text",
         "hoverlabel": {
          "bgcolor": "white",
          "font": {
           "size": 12
          }
         },
         "hovertext": [
          "Name: Kaoyang<br>Comment: Kao-yang, hoje: Gaoyang, 高阳,"
         ],
         "lat": [
          38.69015
         ],
         "lon": [
          115.77276
         ],
         "marker": {
          "color": "green",
          "size": 5
         },
         "mode": "markers",
         "showlegend": false,
         "type": "scattermap"
        },
        {
         "hoverinfo": "text",
         "hoverlabel": {
          "bgcolor": "white",
          "font": {
           "size": 12
          }
         },
         "hovertext": [
          "Name: Shulu<br>Comment: Chou-lou, hoje: Shulu, 束鹿, , Now the city name is Xinji 辛集.<br>Wikidata code is that of Xinji"
         ],
         "lat": [
          37.94231
         ],
         "lon": [
          115.21181
         ],
         "marker": {
          "color": "green",
          "size": 5
         },
         "mode": "markers",
         "showlegend": false,
         "type": "scattermap"
        },
        {
         "hoverinfo": "text",
         "hoverlabel": {
          "bgcolor": "white",
          "font": {
           "size": 12
          }
         },
         "hovertext": [
          "Name: Shansi<br>Comment: Chan-si, hoje: Shanxi, 山西,"
         ],
         "lat": [
          37.873333333333
         ],
         "lon": [
          112.56444444444
         ],
         "marker": {
          "color": "red",
          "size": 12
         },
         "mode": "markers",
         "showlegend": false,
         "type": "scattermap"
        },
        {
         "hoverinfo": "text",
         "hoverlabel": {
          "bgcolor": "white",
          "font": {
           "size": 12
          }
         },
         "hovertext": [
          "Name: Taiyuan<br>Comment: T'ai-yuen, hoje: Taiyuan, 太原,"
         ],
         "lat": [
          37.87326
         ],
         "lon": [
          112.54245
         ],
         "marker": {
          "color": "blue",
          "size": 8
         },
         "mode": "markers",
         "showlegend": false,
         "type": "scattermap"
        },
        {
         "hoverinfo": "text",
         "hoverlabel": {
          "bgcolor": "white",
          "font": {
           "size": 12
          }
         },
         "hovertext": [
          "Name: Pingting<br>Comment: P'ing-ting, hoje: Pingding, 平定州, , Now it is Pingding County<br>平定县Pingting tcheou"
         ],
         "lat": [
          37.79488
         ],
         "lon": [
          113.62727
         ],
         "marker": {
          "color": "green",
          "size": 5
         },
         "mode": "markers",
         "showlegend": false,
         "type": "scattermap"
        },
        {
         "hoverinfo": "text",
         "hoverlabel": {
          "bgcolor": "white",
          "font": {
           "size": 12
          }
         },
         "hovertext": [
          "Name: Pingyang<br>Comment: P'ing-yang, hoje: Pingyang Fu, 平阳府, wikidata:Q15905472,<br>historical administrative division. Now it is in Linfen 临汾<br>Pingyang (Linfen)"
         ],
         "lat": [
          36.08121
         ],
         "lon": [
          111.50865
         ],
         "marker": {
          "color": "blue",
          "size": 8
         },
         "mode": "markers",
         "showlegend": false,
         "type": "scattermap"
        },
        {
         "hoverinfo": "text",
         "hoverlabel": {
          "bgcolor": "white",
          "font": {
           "size": 12
          }
         },
         "hovertext": [
          "Name: Kiangchow<br>Comment: Chiangchou, hoje: Jiangzhou, 绛州, , historical administrative<br>division. Now it is Xinjiang 新绛. Wikidata code is that of 新绛"
         ],
         "lat": [
          35.61562
         ],
         "lon": [
          111.21634
         ],
         "marker": {
          "color": "green",
          "size": 5
         },
         "mode": "markers",
         "showlegend": false,
         "type": "scattermap"
        },
        {
         "hoverinfo": "text",
         "hoverlabel": {
          "bgcolor": "white",
          "font": {
           "size": 12
          }
         },
         "hovertext": [
          "Name: Kianghsien<br>Comment: Kiang hien, hoje: Jiangxian, 绛县, Kianghsien (au Sud de<br>Kiangchow)"
         ],
         "lat": [
          35.49072
         ],
         "lon": [
          111.57067
         ],
         "marker": {
          "color": "green",
          "size": 5
         },
         "mode": "markers",
         "showlegend": false,
         "type": "scattermap"
        },
        {
         "hoverinfo": "text",
         "hoverlabel": {
          "bgcolor": "white",
          "font": {
           "size": 12
          }
         },
         "hovertext": [
          "Name: Kuwo<br>Comment: K'iu-wo,Chüwu, Quwo, 曲沃,"
         ],
         "lat": [
          35.64113
         ],
         "lon": [
          111.46925
         ],
         "marker": {
          "color": "green",
          "size": 5
         },
         "mode": "markers",
         "showlegend": false,
         "type": "scattermap"
        },
        {
         "hoverinfo": "text",
         "hoverlabel": {
          "bgcolor": "white",
          "font": {
           "size": 12
          }
         },
         "hovertext": [
          "Name: Puchow<br>Comment: P'ou-tcheou, hoje: Puzhou, 蒲州, hoje: Q14105968, pas encore<br>fou"
         ],
         "lat": [
          34.83444
         ],
         "lon": [
          110.3245
         ],
         "marker": {
          "color": "green",
          "size": 5
         },
         "mode": "markers",
         "showlegend": false,
         "type": "scattermap"
        },
        {
         "hoverinfo": "text",
         "hoverlabel": {
          "bgcolor": "white",
          "font": {
           "size": 12
          }
         },
         "hovertext": [
          "Name: Siahsien<br>Comment: Hia hien, hoje: Xiaxian, 夏县, , Dehergne(1957) noted it as<br>“夏县”. In the Chinese translation, it is recognized as<br>\"隰县\",which is wrong."
         ],
         "lat": [
          35.13922
         ],
         "lon": [
          111.2158
         ],
         "marker": {
          "color": "green",
          "size": 5
         },
         "mode": "markers",
         "showlegend": false,
         "type": "scattermap"
        },
        {
         "hoverinfo": "text",
         "hoverlabel": {
          "bgcolor": "white",
          "font": {
           "size": 12
          }
         },
         "hovertext": [
          "Name: Tsechow<br>Comment: hoje: Fencheng, 汾城,"
         ],
         "lat": [
          35.50348
         ],
         "lon": [
          112.83442
         ],
         "marker": {
          "color": "blue",
          "size": 8
         },
         "mode": "markers",
         "showlegend": false,
         "type": "scattermap"
        },
        {
         "hoverinfo": "text",
         "hoverlabel": {
          "bgcolor": "white",
          "font": {
           "size": 12
          }
         },
         "hovertext": [
          "Name: Tsishan<br>Comment: hoje: Zezhou, 泽州,"
         ],
         "lat": [
          35.50348
         ],
         "lon": [
          112.83442
         ],
         "marker": {
          "color": "green",
          "size": 5
         },
         "mode": "markers",
         "showlegend": false,
         "type": "scattermap"
        },
        {
         "hoverinfo": "text",
         "hoverlabel": {
          "bgcolor": "white",
          "font": {
           "size": 12
          }
         },
         "hovertext": [
          "Name: Yungtsi<br>Comment: Tsi-chan,Chishan, hoje: Jishan, 稷山,"
         ],
         "lat": [
          35.6027
         ],
         "lon": [
          110.97833
         ],
         "marker": {
          "color": "green",
          "size": 5
         },
         "mode": "markers",
         "showlegend": false,
         "type": "scattermap"
        },
        {
         "hoverinfo": "text",
         "hoverlabel": {
          "bgcolor": "white",
          "font": {
           "size": 12
          }
         },
         "hovertext": [
          "Name: Shangtung<br>Comment: Chan-tong, Shandong, 山东,"
         ],
         "lat": [
          36.4
         ],
         "lon": [
          118.4
         ],
         "marker": {
          "color": "red",
          "size": 12
         },
         "mode": "markers",
         "showlegend": false,
         "type": "scattermap"
        },
        {
         "hoverinfo": "text",
         "hoverlabel": {
          "bgcolor": "white",
          "font": {
           "size": 12
          }
         },
         "hovertext": [
          "Name: Tsinan<br>Comment: Tsi-nan, hoje: Jinan, 济南,"
         ],
         "lat": [
          36.666666666667
         ],
         "lon": [
          116.98333333333
         ],
         "marker": {
          "color": "blue",
          "size": 8
         },
         "mode": "markers",
         "showlegend": false,
         "type": "scattermap"
        },
        {
         "hoverinfo": "text",
         "hoverlabel": {
          "bgcolor": "white",
          "font": {
           "size": 12
          }
         },
         "hovertext": [
          "Name: Taian<br>Comment: T'ai-ngan, hoje: Tai'an, 泰安, Taian tcheou"
         ],
         "lat": [
          36.2001
         ],
         "lon": [
          117.0809
         ],
         "marker": {
          "color": "green",
          "size": 5
         },
         "mode": "markers",
         "showlegend": false,
         "type": "scattermap"
        },
        {
         "hoverinfo": "text",
         "hoverlabel": {
          "bgcolor": "white",
          "font": {
           "size": 12
          }
         },
         "hovertext": [
          "Name: Manchwang<br>Comment: Muon choam, hoje: Manzhuang, 满庄,"
         ],
         "lat": [
          36.06933
         ],
         "lon": [
          117.06846
         ],
         "marker": {
          "color": "green",
          "size": 5
         },
         "mode": "markers",
         "showlegend": false,
         "type": "scattermap"
        },
        {
         "hoverinfo": "text",
         "hoverlabel": {
          "bgcolor": "white",
          "font": {
           "size": 12
          }
         },
         "hovertext": [
          "Name: Tsiho<br>Comment: hoje: Qihe, 齐河,"
         ],
         "lat": [
          36.7946
         ],
         "lon": [
          116.7588
         ],
         "marker": {
          "color": "green",
          "size": 5
         },
         "mode": "markers",
         "showlegend": false,
         "type": "scattermap"
        },
        {
         "hoverinfo": "text",
         "hoverlabel": {
          "bgcolor": "white",
          "font": {
           "size": 12
          }
         },
         "hovertext": [
          "Name: Pinchow<br>Comment: "
         ],
         "lat": [
          37.380555555556
         ],
         "lon": [
          118.0125
         ],
         "marker": {
          "color": "green",
          "size": 5
         },
         "mode": "markers",
         "showlegend": false,
         "type": "scattermap"
        },
        {
         "hoverinfo": "text",
         "hoverlabel": {
          "bgcolor": "white",
          "font": {
           "size": 12
          }
         },
         "hovertext": [
          "Name: Yucheng<br>Comment: Pin-tcheou, hoje: Binzhou, 滨州,"
         ],
         "lat": [
          37.380555555556
         ],
         "lon": [
          118.0125
         ],
         "marker": {
          "color": "green",
          "size": 5
         },
         "mode": "markers",
         "showlegend": false,
         "type": "scattermap"
        },
        {
         "hoverinfo": "text",
         "hoverlabel": {
          "bgcolor": "white",
          "font": {
           "size": 12
          }
         },
         "hovertext": [
          "Name: Tengchow<br>Comment: Teng-tcheou, hoje: Dengzhou, 登州, Tengchow (Penglai)"
         ],
         "lat": [
          37.81666666666667
         ],
         "lon": [
          120.7333333333333
         ],
         "marker": {
          "color": "blue",
          "size": 8
         },
         "mode": "markers",
         "showlegend": false,
         "type": "scattermap"
        },
        {
         "hoverinfo": "text",
         "hoverlabel": {
          "bgcolor": "white",
          "font": {
           "size": 12
          }
         },
         "hovertext": [
          "Name: Tsingchow<br>Comment: Ts'ing-tcheou, Chingchou, hoje: Qingzhou, 青州, Tsingchow<br>(Yitu)"
         ],
         "lat": [
          36.696666666667
         ],
         "lon": [
          118.47972222222
         ],
         "marker": {
          "color": "blue",
          "size": 8
         },
         "mode": "markers",
         "showlegend": false,
         "type": "scattermap"
        },
        {
         "hoverinfo": "text",
         "hoverlabel": {
          "bgcolor": "white",
          "font": {
           "size": 12
          }
         },
         "hovertext": [
          "Name: Tungchang<br>Comment: Tong-tch'ang, hoje: Dungchang, 东昌,"
         ],
         "lat": [
          36.42194444444444
         ],
         "lon": [
          116.0438888888889
         ],
         "marker": {
          "color": "blue",
          "size": 8
         },
         "mode": "markers",
         "showlegend": false,
         "type": "scattermap"
        },
        {
         "hoverinfo": "text",
         "hoverlabel": {
          "bgcolor": "white",
          "font": {
           "size": 12
          }
         },
         "hovertext": [
          "Name: Lintsing<br>Comment: Lin-ts'ing,Linching, hoje: Linqing, 临清, Lintsing tcheou"
         ],
         "lat": [
          36.849444444444
         ],
         "lon": [
          115.70611111111
         ],
         "marker": {
          "color": "green",
          "size": 5
         },
         "mode": "markers",
         "showlegend": false,
         "type": "scattermap"
        },
        {
         "hoverinfo": "text",
         "hoverlabel": {
          "bgcolor": "white",
          "font": {
           "size": 12
          }
         },
         "hovertext": [
          "Name: Shensi<br>Comment: Chen-si , hoje: Shaanxi @dehergne:399"
         ],
         "lat": [
          34.266666666667
         ],
         "lon": [
          108.9
         ],
         "marker": {
          "color": "red",
          "size": 12
         },
         "mode": "markers",
         "showlegend": false,
         "type": "scattermap"
        },
        {
         "hoverinfo": "text",
         "hoverlabel": {
          "bgcolor": "white",
          "font": {
           "size": 12
          }
         },
         "hovertext": [
          "Name: Sian<br>Comment: Hsian, hoje: Xi'an, 西安, Sun (Changan)"
         ],
         "lat": [
          34.26111111111111
         ],
         "lon": [
          108.9422222222222
         ],
         "marker": {
          "color": "blue",
          "size": 8
         },
         "mode": "markers",
         "showlegend": false,
         "type": "scattermap"
        },
        {
         "hoverinfo": "text",
         "hoverlabel": {
          "bgcolor": "white",
          "font": {
           "size": 12
          }
         },
         "hovertext": [
          "Name: Chowchih<br>Comment: hoje: Zhouzhi, 周至, , In the Chinese translation, it is<br>written as “盩厔”. Before 1964, 周至was written as “盩厔”."
         ],
         "lat": [
          34.16136
         ],
         "lon": [
          108.21401
         ],
         "marker": {
          "color": "green",
          "size": 5
         },
         "mode": "markers",
         "showlegend": false,
         "type": "scattermap"
        },
        {
         "hoverinfo": "text",
         "hoverlabel": {
          "bgcolor": "white",
          "font": {
           "size": 12
          }
         },
         "hovertext": [
          "Name: Kaoling<br>Comment: Kao-ling, hoje: Gaoling, 高陵,"
         ],
         "lat": [
          34.53515
         ],
         "lon": [
          109.0873
         ],
         "marker": {
          "color": "green",
          "size": 5
         },
         "mode": "markers",
         "showlegend": false,
         "type": "scattermap"
        },
        {
         "hoverinfo": "text",
         "hoverlabel": {
          "bgcolor": "white",
          "font": {
           "size": 12
          }
         },
         "hovertext": [
          "Name: Hwachow<br>Comment: How-tcheou, hoje: Huazhou, 华州,"
         ],
         "lat": [
          34.45
         ],
         "lon": [
          109.7
         ],
         "marker": {
          "color": "green",
          "size": 5
         },
         "mode": "markers",
         "showlegend": false,
         "type": "scattermap"
        },
        {
         "hoverinfo": "text",
         "hoverlabel": {
          "bgcolor": "white",
          "font": {
           "size": 12
          }
         },
         "hovertext": [
          "Name: Sanyuan<br>Comment: Sanyuan, 三原,"
         ],
         "lat": [
          34.62037
         ],
         "lon": [
          108.9359
         ],
         "marker": {
          "color": "green",
          "size": 5
         },
         "mode": "markers",
         "showlegend": false,
         "type": "scattermap"
        },
        {
         "hoverinfo": "text",
         "hoverlabel": {
          "bgcolor": "white",
          "font": {
           "size": 12
          }
         },
         "hovertext": [
          "Name: Shangchow<br>Comment: Changtcheou, hoje: Shangzhou, 商州,"
         ],
         "lat": [
          33.86586
         ],
         "lon": [
          109.9284
         ],
         "marker": {
          "color": "green",
          "size": 5
         },
         "mode": "markers",
         "showlegend": false,
         "type": "scattermap"
        },
        {
         "hoverinfo": "text",
         "hoverlabel": {
          "bgcolor": "white",
          "font": {
           "size": 12
          }
         },
         "hovertext": [
          "Name: Hanchung<br>Comment: How-tcheou, hoje: Huazhou, 华州, Hanchung (Nancheng)"
         ],
         "lat": [
          33.07938
         ],
         "lon": [
          107.02598
         ],
         "marker": {
          "color": "blue",
          "size": 8
         },
         "mode": "markers",
         "showlegend": false,
         "type": "scattermap"
        },
        {
         "hoverinfo": "text",
         "hoverlabel": {
          "bgcolor": "white",
          "font": {
           "size": 12
          }
         },
         "hovertext": [
          "Name: Chengku<br>Comment: Tch'eng-kou, hoje: Chenggu, 城固,"
         ],
         "lat": [
          33.15405
         ],
         "lon": [
          107.32536
         ],
         "marker": {
          "color": "green",
          "size": 5
         },
         "mode": "markers",
         "showlegend": false,
         "type": "scattermap"
        },
        {
         "hoverinfo": "text",
         "hoverlabel": {
          "bgcolor": "white",
          "font": {
           "size": 12
          }
         },
         "hovertext": [
          "Name: Yanghsien<br>Comment: Yang Hien, hoje: Yangxian, 洋县,"
         ],
         "lat": [
          33.2237
         ],
         "lon": [
          107.5473
         ],
         "marker": {
          "color": "green",
          "size": 5
         },
         "mode": "markers",
         "showlegend": false,
         "type": "scattermap"
        },
        {
         "hoverinfo": "text",
         "hoverlabel": {
          "bgcolor": "white",
          "font": {
           "size": 12
          }
         },
         "hovertext": [
          "Name: Szechwan<br>Comment: Se-tch'oan, hoje: Sichuan, 四川,"
         ],
         "lat": [
          30
         ],
         "lon": [
          103
         ],
         "marker": {
          "color": "red",
          "size": 12
         },
         "mode": "markers",
         "showlegend": false,
         "type": "scattermap"
        },
        {
         "hoverinfo": "text",
         "hoverlabel": {
          "bgcolor": "white",
          "font": {
           "size": 12
          }
         },
         "hovertext": [
          "Name: Chengtu<br>Comment: Tch'eng-tou, hoje: Chengdu, 成都, hoje: Chengtu (Hwayang)"
         ],
         "lat": [
          30.66
         ],
         "lon": [
          104.0633333333333
         ],
         "marker": {
          "color": "blue",
          "size": 8
         },
         "mode": "markers",
         "showlegend": false,
         "type": "scattermap"
        },
        {
         "hoverinfo": "text",
         "hoverlabel": {
          "bgcolor": "white",
          "font": {
           "size": 12
          }
         },
         "hovertext": [
          "Name: Chungking<br>Comment: Tch'ong-K'ing,Chungching, hoje: Chongqing, 重庆, Chungking<br>(Pahsien)"
         ],
         "lat": [
          29.55
         ],
         "lon": [
          106.50694444444
         ],
         "marker": {
          "color": "blue",
          "size": 8
         },
         "mode": "markers",
         "showlegend": false,
         "type": "scattermap"
        },
        {
         "hoverinfo": "text",
         "hoverlabel": {
          "bgcolor": "white",
          "font": {
           "size": 12
          }
         },
         "hovertext": [
          "Name: Yunnan<br>Comment: hoje: Yunnan, 云南,"
         ],
         "lat": [
          25.04944444444444
         ],
         "lon": [
          102.7088888888889
         ],
         "marker": {
          "color": "red",
          "size": 12
         },
         "mode": "markers",
         "showlegend": false,
         "type": "scattermap"
        }
       ],
       "layout": {
        "height": 800,
        "mapbox": {
         "center": {
          "lat": 34.0479,
          "lon": 120.6197
         },
         "style": "open-street-map",
         "zoom": 9
        },
        "margin": {
         "b": 0,
         "l": 0,
         "r": 0,
         "t": 0
        },
        "template": {
         "data": {
          "bar": [
           {
            "error_x": {
             "color": "#2a3f5f"
            },
            "error_y": {
             "color": "#2a3f5f"
            },
            "marker": {
             "line": {
              "color": "#E5ECF6",
              "width": 0.5
             },
             "pattern": {
              "fillmode": "overlay",
              "size": 10,
              "solidity": 0.2
             }
            },
            "type": "bar"
           }
          ],
          "barpolar": [
           {
            "marker": {
             "line": {
              "color": "#E5ECF6",
              "width": 0.5
             },
             "pattern": {
              "fillmode": "overlay",
              "size": 10,
              "solidity": 0.2
             }
            },
            "type": "barpolar"
           }
          ],
          "carpet": [
           {
            "aaxis": {
             "endlinecolor": "#2a3f5f",
             "gridcolor": "white",
             "linecolor": "white",
             "minorgridcolor": "white",
             "startlinecolor": "#2a3f5f"
            },
            "baxis": {
             "endlinecolor": "#2a3f5f",
             "gridcolor": "white",
             "linecolor": "white",
             "minorgridcolor": "white",
             "startlinecolor": "#2a3f5f"
            },
            "type": "carpet"
           }
          ],
          "choropleth": [
           {
            "colorbar": {
             "outlinewidth": 0,
             "ticks": ""
            },
            "type": "choropleth"
           }
          ],
          "contour": [
           {
            "colorbar": {
             "outlinewidth": 0,
             "ticks": ""
            },
            "colorscale": [
             [
              0,
              "#0d0887"
             ],
             [
              0.1111111111111111,
              "#46039f"
             ],
             [
              0.2222222222222222,
              "#7201a8"
             ],
             [
              0.3333333333333333,
              "#9c179e"
             ],
             [
              0.4444444444444444,
              "#bd3786"
             ],
             [
              0.5555555555555556,
              "#d8576b"
             ],
             [
              0.6666666666666666,
              "#ed7953"
             ],
             [
              0.7777777777777778,
              "#fb9f3a"
             ],
             [
              0.8888888888888888,
              "#fdca26"
             ],
             [
              1,
              "#f0f921"
             ]
            ],
            "type": "contour"
           }
          ],
          "contourcarpet": [
           {
            "colorbar": {
             "outlinewidth": 0,
             "ticks": ""
            },
            "type": "contourcarpet"
           }
          ],
          "heatmap": [
           {
            "colorbar": {
             "outlinewidth": 0,
             "ticks": ""
            },
            "colorscale": [
             [
              0,
              "#0d0887"
             ],
             [
              0.1111111111111111,
              "#46039f"
             ],
             [
              0.2222222222222222,
              "#7201a8"
             ],
             [
              0.3333333333333333,
              "#9c179e"
             ],
             [
              0.4444444444444444,
              "#bd3786"
             ],
             [
              0.5555555555555556,
              "#d8576b"
             ],
             [
              0.6666666666666666,
              "#ed7953"
             ],
             [
              0.7777777777777778,
              "#fb9f3a"
             ],
             [
              0.8888888888888888,
              "#fdca26"
             ],
             [
              1,
              "#f0f921"
             ]
            ],
            "type": "heatmap"
           }
          ],
          "histogram": [
           {
            "marker": {
             "pattern": {
              "fillmode": "overlay",
              "size": 10,
              "solidity": 0.2
             }
            },
            "type": "histogram"
           }
          ],
          "histogram2d": [
           {
            "colorbar": {
             "outlinewidth": 0,
             "ticks": ""
            },
            "colorscale": [
             [
              0,
              "#0d0887"
             ],
             [
              0.1111111111111111,
              "#46039f"
             ],
             [
              0.2222222222222222,
              "#7201a8"
             ],
             [
              0.3333333333333333,
              "#9c179e"
             ],
             [
              0.4444444444444444,
              "#bd3786"
             ],
             [
              0.5555555555555556,
              "#d8576b"
             ],
             [
              0.6666666666666666,
              "#ed7953"
             ],
             [
              0.7777777777777778,
              "#fb9f3a"
             ],
             [
              0.8888888888888888,
              "#fdca26"
             ],
             [
              1,
              "#f0f921"
             ]
            ],
            "type": "histogram2d"
           }
          ],
          "histogram2dcontour": [
           {
            "colorbar": {
             "outlinewidth": 0,
             "ticks": ""
            },
            "colorscale": [
             [
              0,
              "#0d0887"
             ],
             [
              0.1111111111111111,
              "#46039f"
             ],
             [
              0.2222222222222222,
              "#7201a8"
             ],
             [
              0.3333333333333333,
              "#9c179e"
             ],
             [
              0.4444444444444444,
              "#bd3786"
             ],
             [
              0.5555555555555556,
              "#d8576b"
             ],
             [
              0.6666666666666666,
              "#ed7953"
             ],
             [
              0.7777777777777778,
              "#fb9f3a"
             ],
             [
              0.8888888888888888,
              "#fdca26"
             ],
             [
              1,
              "#f0f921"
             ]
            ],
            "type": "histogram2dcontour"
           }
          ],
          "mesh3d": [
           {
            "colorbar": {
             "outlinewidth": 0,
             "ticks": ""
            },
            "type": "mesh3d"
           }
          ],
          "parcoords": [
           {
            "line": {
             "colorbar": {
              "outlinewidth": 0,
              "ticks": ""
             }
            },
            "type": "parcoords"
           }
          ],
          "pie": [
           {
            "automargin": true,
            "type": "pie"
           }
          ],
          "scatter": [
           {
            "fillpattern": {
             "fillmode": "overlay",
             "size": 10,
             "solidity": 0.2
            },
            "type": "scatter"
           }
          ],
          "scatter3d": [
           {
            "line": {
             "colorbar": {
              "outlinewidth": 0,
              "ticks": ""
             }
            },
            "marker": {
             "colorbar": {
              "outlinewidth": 0,
              "ticks": ""
             }
            },
            "type": "scatter3d"
           }
          ],
          "scattercarpet": [
           {
            "marker": {
             "colorbar": {
              "outlinewidth": 0,
              "ticks": ""
             }
            },
            "type": "scattercarpet"
           }
          ],
          "scattergeo": [
           {
            "marker": {
             "colorbar": {
              "outlinewidth": 0,
              "ticks": ""
             }
            },
            "type": "scattergeo"
           }
          ],
          "scattergl": [
           {
            "marker": {
             "colorbar": {
              "outlinewidth": 0,
              "ticks": ""
             }
            },
            "type": "scattergl"
           }
          ],
          "scattermap": [
           {
            "marker": {
             "colorbar": {
              "outlinewidth": 0,
              "ticks": ""
             }
            },
            "type": "scattermap"
           }
          ],
          "scattermapbox": [
           {
            "marker": {
             "colorbar": {
              "outlinewidth": 0,
              "ticks": ""
             }
            },
            "type": "scattermapbox"
           }
          ],
          "scatterpolar": [
           {
            "marker": {
             "colorbar": {
              "outlinewidth": 0,
              "ticks": ""
             }
            },
            "type": "scatterpolar"
           }
          ],
          "scatterpolargl": [
           {
            "marker": {
             "colorbar": {
              "outlinewidth": 0,
              "ticks": ""
             }
            },
            "type": "scatterpolargl"
           }
          ],
          "scatterternary": [
           {
            "marker": {
             "colorbar": {
              "outlinewidth": 0,
              "ticks": ""
             }
            },
            "type": "scatterternary"
           }
          ],
          "surface": [
           {
            "colorbar": {
             "outlinewidth": 0,
             "ticks": ""
            },
            "colorscale": [
             [
              0,
              "#0d0887"
             ],
             [
              0.1111111111111111,
              "#46039f"
             ],
             [
              0.2222222222222222,
              "#7201a8"
             ],
             [
              0.3333333333333333,
              "#9c179e"
             ],
             [
              0.4444444444444444,
              "#bd3786"
             ],
             [
              0.5555555555555556,
              "#d8576b"
             ],
             [
              0.6666666666666666,
              "#ed7953"
             ],
             [
              0.7777777777777778,
              "#fb9f3a"
             ],
             [
              0.8888888888888888,
              "#fdca26"
             ],
             [
              1,
              "#f0f921"
             ]
            ],
            "type": "surface"
           }
          ],
          "table": [
           {
            "cells": {
             "fill": {
              "color": "#EBF0F8"
             },
             "line": {
              "color": "white"
             }
            },
            "header": {
             "fill": {
              "color": "#C8D4E3"
             },
             "line": {
              "color": "white"
             }
            },
            "type": "table"
           }
          ]
         },
         "layout": {
          "annotationdefaults": {
           "arrowcolor": "#2a3f5f",
           "arrowhead": 0,
           "arrowwidth": 1
          },
          "autotypenumbers": "strict",
          "coloraxis": {
           "colorbar": {
            "outlinewidth": 0,
            "ticks": ""
           }
          },
          "colorscale": {
           "diverging": [
            [
             0,
             "#8e0152"
            ],
            [
             0.1,
             "#c51b7d"
            ],
            [
             0.2,
             "#de77ae"
            ],
            [
             0.3,
             "#f1b6da"
            ],
            [
             0.4,
             "#fde0ef"
            ],
            [
             0.5,
             "#f7f7f7"
            ],
            [
             0.6,
             "#e6f5d0"
            ],
            [
             0.7,
             "#b8e186"
            ],
            [
             0.8,
             "#7fbc41"
            ],
            [
             0.9,
             "#4d9221"
            ],
            [
             1,
             "#276419"
            ]
           ],
           "sequential": [
            [
             0,
             "#0d0887"
            ],
            [
             0.1111111111111111,
             "#46039f"
            ],
            [
             0.2222222222222222,
             "#7201a8"
            ],
            [
             0.3333333333333333,
             "#9c179e"
            ],
            [
             0.4444444444444444,
             "#bd3786"
            ],
            [
             0.5555555555555556,
             "#d8576b"
            ],
            [
             0.6666666666666666,
             "#ed7953"
            ],
            [
             0.7777777777777778,
             "#fb9f3a"
            ],
            [
             0.8888888888888888,
             "#fdca26"
            ],
            [
             1,
             "#f0f921"
            ]
           ],
           "sequentialminus": [
            [
             0,
             "#0d0887"
            ],
            [
             0.1111111111111111,
             "#46039f"
            ],
            [
             0.2222222222222222,
             "#7201a8"
            ],
            [
             0.3333333333333333,
             "#9c179e"
            ],
            [
             0.4444444444444444,
             "#bd3786"
            ],
            [
             0.5555555555555556,
             "#d8576b"
            ],
            [
             0.6666666666666666,
             "#ed7953"
            ],
            [
             0.7777777777777778,
             "#fb9f3a"
            ],
            [
             0.8888888888888888,
             "#fdca26"
            ],
            [
             1,
             "#f0f921"
            ]
           ]
          },
          "colorway": [
           "#636efa",
           "#EF553B",
           "#00cc96",
           "#ab63fa",
           "#FFA15A",
           "#19d3f3",
           "#FF6692",
           "#B6E880",
           "#FF97FF",
           "#FECB52"
          ],
          "font": {
           "color": "#2a3f5f"
          },
          "geo": {
           "bgcolor": "white",
           "lakecolor": "white",
           "landcolor": "#E5ECF6",
           "showlakes": true,
           "showland": true,
           "subunitcolor": "white"
          },
          "hoverlabel": {
           "align": "left"
          },
          "hovermode": "closest",
          "mapbox": {
           "style": "light"
          },
          "paper_bgcolor": "white",
          "plot_bgcolor": "#E5ECF6",
          "polar": {
           "angularaxis": {
            "gridcolor": "white",
            "linecolor": "white",
            "ticks": ""
           },
           "bgcolor": "#E5ECF6",
           "radialaxis": {
            "gridcolor": "white",
            "linecolor": "white",
            "ticks": ""
           }
          },
          "scene": {
           "xaxis": {
            "backgroundcolor": "#E5ECF6",
            "gridcolor": "white",
            "gridwidth": 2,
            "linecolor": "white",
            "showbackground": true,
            "ticks": "",
            "zerolinecolor": "white"
           },
           "yaxis": {
            "backgroundcolor": "#E5ECF6",
            "gridcolor": "white",
            "gridwidth": 2,
            "linecolor": "white",
            "showbackground": true,
            "ticks": "",
            "zerolinecolor": "white"
           },
           "zaxis": {
            "backgroundcolor": "#E5ECF6",
            "gridcolor": "white",
            "gridwidth": 2,
            "linecolor": "white",
            "showbackground": true,
            "ticks": "",
            "zerolinecolor": "white"
           }
          },
          "shapedefaults": {
           "line": {
            "color": "#2a3f5f"
           }
          },
          "ternary": {
           "aaxis": {
            "gridcolor": "white",
            "linecolor": "white",
            "ticks": ""
           },
           "baxis": {
            "gridcolor": "white",
            "linecolor": "white",
            "ticks": ""
           },
           "bgcolor": "#E5ECF6",
           "caxis": {
            "gridcolor": "white",
            "linecolor": "white",
            "ticks": ""
           }
          },
          "title": {
           "x": 0.05
          },
          "xaxis": {
           "automargin": true,
           "gridcolor": "white",
           "linecolor": "white",
           "ticks": "",
           "title": {
            "standoff": 15
           },
           "zerolinecolor": "white",
           "zerolinewidth": 2
          },
          "yaxis": {
           "automargin": true,
           "gridcolor": "white",
           "linecolor": "white",
           "ticks": "",
           "title": {
            "standoff": 15
           },
           "zerolinecolor": "white",
           "zerolinewidth": 2
          }
         }
        },
        "title": {
         "text": "Residences in Chekiang (1644)"
        },
        "width": 800
       }
      }
     },
     "metadata": {},
     "output_type": "display_data"
    }
   ],
   "source": [
    "from textwrap import wrap\n",
    "import plotly.graph_objects as go\n",
    "\n",
    "# generate a dictionary for quick lookup with id as key\n",
    "locations_wikidata_dict = {row['id']: row for index, row in merged_df.iterrows()}\n",
    "\n",
    "# Define marker styles for each level\n",
    "level_styles = {\n",
    "    'province': {'color': 'red', 'size': 12},\n",
    "    'fou': {'color': 'blue', 'size': 8},\n",
    "    'tcheou-hien': {'color': 'green', 'size': 5}\n",
    "}\n",
    "\n",
    "fig = go.Figure()\n",
    "\n",
    "\n",
    "for level, style in level_styles.items():\n",
    "    fig.add_trace(go.Scattermap(\n",
    "        lon=[None],\n",
    "        lat=[None],\n",
    "        mode='markers',\n",
    "        marker=dict(color=style['color'], size=style['size']),\n",
    "        name=level\n",
    "    ))\n",
    "# Add lines for 'fou' and 'tcheou_hien'\n",
    "for _, row in merged_df.iterrows():\n",
    "    level = row.get('level')\n",
    "    if level == 'fou':\n",
    "        id_origin = row.get('province_id', None)\n",
    "        id_destination = row.get('id', None)\n",
    "        lat_origin = locations_wikidata_dict.get(id_origin, {}).get('latitude', None)\n",
    "        lon_origin = locations_wikidata_dict.get(id_origin, {}).get('longitude', None)\n",
    "        lat_destination = locations_wikidata_dict.get(id_destination, {}).get('latitude', None)\n",
    "        lon_destination = locations_wikidata_dict.get(id_destination, {}).get('longitude', None)\n",
    "        if lat_origin and lon_origin and lat_destination and lon_destination:\n",
    "            fig.add_trace(go.Scattermap(\n",
    "                lon=[float(lon_origin), float(lon_destination)],\n",
    "                lat=[float(lat_origin), float(lat_destination)],\n",
    "                mode='lines',\n",
    "                line=dict(width=1, color='red'),\n",
    "                showlegend=False\n",
    "            ))\n",
    "    elif level == 'tcheou-hien':\n",
    "        id_origin = row.get('fou_id', None)\n",
    "        id_destination = row.get('id', None)\n",
    "        lat_origin = locations_wikidata_dict.get(id_origin, {}).get('latitude', None)\n",
    "        lon_origin = locations_wikidata_dict.get(id_origin, {}).get('longitude', None)\n",
    "        lat_destination = locations_wikidata_dict.get(id_destination, {}).get('latitude', None)\n",
    "        lon_destination = locations_wikidata_dict.get(id_destination, {}).get('longitude', None)\n",
    "        if id_destination == 'Q7420445' or row['name'] == \"Camarri\": # special case for Taparri\n",
    "            print(f\"Debugging: {id_origin} -> {id_destination}\")\n",
    "            pass\n",
    "        if lat_origin and lon_origin and lat_destination and lon_destination:\n",
    "            fig.add_trace(go.Scattermap(\n",
    "                lon=[float(lon_origin), float(lon_destination)],\n",
    "                lat=[float(lat_origin), float(lat_destination)],\n",
    "                mode='lines',\n",
    "                line=dict(width=1, color='blue'),\n",
    "                showlegend=False\n",
    "            ))\n",
    "# Add Markers for each location\n",
    "for index, row in merged_df.iterrows():\n",
    "    lat = row.get('latitude')\n",
    "    lon = row.get('longitude')\n",
    "    level = row.get('level')\n",
    "    name = row.get('name')\n",
    "    english_description = row.get('english_description', '')\n",
    "    chinese_description = row.get('chinese_description', '')\n",
    "    wikidata_id = row.get('wikidata_id', '')\n",
    "    coordinates = row.get('coordinates', '')\n",
    "    if name == \"Camarri\":\n",
    "        print(f\"Debugging: {name} with wikidata_id {wikidata_id}\")\n",
    "\n",
    "    if wikidata_id != 'No wikidata':\n",
    "        english_label = row.get('english_label', '')\n",
    "        chinese_label = row.get('chinese_label', '')\n",
    "        portuguese_label = row.get('portuguese_label', '')\n",
    "        english_description = row.get('english_description', '')\n",
    "        chinese_description = row.get('chinese_description', '')\n",
    "        portuguese_description = row.get('portuguese_description', '')\n",
    "        wikidata_label = (\n",
    "                         f\"en:{english_label} ({english_description})<br>\"\n",
    "                         f\"zh:{chinese_label} ({chinese_description})<br>\"\n",
    "                         f\"pt:{portuguese_label} ({portuguese_description})\"\n",
    "        )\n",
    "    else:\n",
    "        wikidata_label = \"No wikidata\"\n",
    "        english_label = ''\n",
    "        chinese_label = ''\n",
    "        portuguese_label = ''\n",
    "        english_description = ''\n",
    "        chinese_description = ''\n",
    "        portuguese_description = ''\n",
    "\n",
    "    name_original = row.get('name_original', '')\n",
    "    comment = \"<br>\".join(wrap(name_original, width=40))\n",
    "    hover_text = f\"name: {name}<br>original: {comment}<br><br>wikidata ({wikidata_id})<br>{wikidata_label} <br>coordinates: {coordinates}\"\n",
    "\n",
    "\n",
    "    if level == 'tcheou-hien':\n",
    "        pass\n",
    "    if pd.notnull(lat) and pd.notnull(lon) and level in level_styles:\n",
    "        style = level_styles[level]\n",
    "        fig.add_trace(go.Scattermap(\n",
    "            lon=[float(lon)],\n",
    "            lat=[float(lat)],\n",
    "            mode='markers+text',\n",
    "            marker=dict(color=style['color'], size=style['size']),\n",
    "            text=[name],\n",
    "            textposition='top center',\n",
    "            hovertext=[hover_text],\n",
    "            hoverinfo='text',\n",
    "            hoverlabel=dict(bgcolor='white', font_size=12),\n",
    "            showlegend=False\n",
    "        ))\n",
    "\n",
    "# fig.update_layout(mapbox_style=\"open-street-map\")\n",
    "# fig.update_layout(margin={\"r\":0,\"t\":0,\"l\":0,\"b\":0})\n",
    "fig.update_traces(textfont=dict(size=6))\n",
    "fig.update_layout({\n",
    "    \"map\": {\"center\": {\"lat\": 28.0,\n",
    "                       \"lon\": 120.0},\n",
    "            \"zoom\": 4,\n",
    "            \"style\": \"carto-positron\",\n",
    "            }\n",
    "    },\n",
    "    title= \"Residences 1644\",\n",
    "    annotations=[dict(\n",
    "        x=0,\n",
    "        y=-0.1,\n",
    "        xref=\"paper\",\n",
    "        yref=\"paper\",\n",
    "        text=\"<a href='https://archive.org/details/bhsi37/page/n390/mode/1up'>Source</a>\",\n",
    "        showarrow=False,\n",
    "        font=dict(size=10)\n",
    "    )],\n",
    "    autosize=True,\n",
    "    )\n",
    "\n",
    "fig.show(config={\"responsive\": True})\n",
    "fig.write_html(\"../inferences/residences_1644_map.html\",\n",
    "               config={\"responsive\": True},\n",
    "               include_plotlyjs=True,\n",
    "               auto_open=False)\n"
   ]
  },
  {
   "cell_type": "markdown",
   "metadata": {},
   "source": [
    "### Wrapping Hover Text\n",
    "Plotly does not automatically wrap long hover labels. To wrap text, insert HTML `<br>` tags or use Python's `textwrap`:\n",
    "\n",
    "```python\n",
    "from textwrap import wrap\n",
    "raw = f\"{name}: {comment}\"\n",
    "# wrap at 30 characters and join with <br>\n",
    "wrapped = \"<br>\".join(wrap(raw, width=30))\n",
    "fig.add_trace(go.Scattermap(\n",
    "    lon=[lon], lat=[lat], mode='markers',\n",
    "    hovertext=[wrapped], hoverinfo='text',\n",
    "    marker=dict(color='blue', size=8)\n",
    "))\n",
    "```\n",
    "This forces line breaks in your hover label at the desired width."
   ]
  }
 ],
 "metadata": {
  "kernelspec": {
   "display_name": ".venv",
   "language": "python",
   "name": "python3"
  },
  "language_info": {
   "codemirror_mode": {
    "name": "ipython",
    "version": 3
   },
   "file_extension": ".py",
   "mimetype": "text/x-python",
   "name": "python",
   "nbconvert_exporter": "python",
   "pygments_lexer": "ipython3",
   "version": "3.10.16"
  }
 },
 "nbformat": 4,
 "nbformat_minor": 2
}
