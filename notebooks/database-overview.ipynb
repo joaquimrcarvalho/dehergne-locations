{
 "cells": [
  {
   "cell_type": "markdown",
   "metadata": {},
   "source": [
    "# Database overview notebook"
   ]
  },
  {
   "cell_type": "markdown",
   "metadata": {},
   "source": [
    "> First time use: follow instructions in the README.md file in this directory."
   ]
  },
  {
   "cell_type": "code",
   "execution_count": 3,
   "metadata": {},
   "outputs": [
    {
     "name": "stderr",
     "output_type": "stream",
     "text": [
      "WARNING:root:Reusing existing container jolly_noyce\n"
     ]
    },
    {
     "name": "stdout",
     "output_type": "stream",
     "text": [
      "Timelink version: 1.1.25\n",
      "Project name: dehergne-repertoire\n",
      "Project home: /Users/jrc/develop/dehergne-repertoire\n",
      "Database type: sqlite\n",
      "Database name: dehergne_repertoire\n",
      "Kleio image: timelinkserver/kleio-server\n",
      "Kleio server token: OPlFi...\n",
      "Kleio server URL: http://127.0.0.1:8088\n",
      "Kleio server home: /Users/jrc/develop/dehergne-repertoire\n",
      "Kleio server container: jolly_noyce\n",
      "Kleio version requested: latest\n",
      "Kleio server version: 12.8.593 (2025-03-16 21:55:53)\n",
      "SQLite directory: /Users/jrc/develop/dehergne-repertoire/database/sqlite\n",
      "Database version: 6ccf1ef385a6\n",
      "Call print_info(show_token=True) to show the Kleio Server token\n",
      "Call print_info(show_password=True) to show the Postgres password\n",
      "TimelinkNotebook(project_name=dehergne-repertoire, project_home=/Users/jrc/develop/dehergne-repertoire, db_type=sqlite, db_name=dehergne_repertoire, kleio_image=timelinkserver/kleio-server, kleio_version=latest, postgres_image=postgres, postgres_version=latest)\n"
     ]
    }
   ],
   "source": [
    "from timelink.notebooks import TimelinkNotebook\n",
    "\n",
    "tlnb = TimelinkNotebook()\n",
    "tlnb.print_info()\n"
   ]
  },
  {
   "cell_type": "markdown",
   "metadata": {},
   "source": [
    "## Ligar à base de dados\n",
    "\n",
    "---\n",
    "\n",
    "## Connect to database"
   ]
  },
  {
   "cell_type": "code",
   "execution_count": 4,
   "metadata": {},
   "outputs": [],
   "source": [
    "from timelink.api.database import TimelinkDatabase\n",
    "\n",
    "# to connect to a postgresql database\n",
    "# do: db_type='postgresql' and db_name='timelink' and db_user='postgres' and db_password='postgres' and db_host='localhost'\n",
    "\n",
    "db: TimelinkDatabase = tlnb.db"
   ]
  },
  {
   "cell_type": "markdown",
   "metadata": {},
   "source": [
    "## Database status"
   ]
  },
  {
   "cell_type": "code",
   "execution_count": 5,
   "metadata": {},
   "outputs": [
    {
     "name": "stdout",
     "output_type": "stream",
     "text": [
      "('act', 28)\n",
      "('attribute', 26742)\n",
      "('class', 10)\n",
      "('geoentity', 359)\n",
      "('person', 2132)\n",
      "('relation', 3532)\n",
      "('rentity', 46)\n",
      "('source', 29)\n"
     ]
    }
   ],
   "source": [
    "from sqlalchemy import text\n",
    "\n",
    "with db.session() as session:\n",
    "    result = session.execute(text(\"select class, count(*) from entities group by class\"))\n",
    "    for row in result:\n",
    "        print(row)\n",
    "\n"
   ]
  },
  {
   "cell_type": "markdown",
   "metadata": {},
   "source": [
    "## Recent sources"
   ]
  },
  {
   "cell_type": "code",
   "execution_count": 6,
   "metadata": {},
   "outputs": [
    {
     "name": "stdout",
     "output_type": "stream",
     "text": [
      "dehergne-b                       2025-04-14 08:09:15 /kleio-home/sources/dehergne-b.cli\n",
      "dehergne-r                       2025-04-14 08:04:10 /kleio-home/sources/dehergne-r.cli\n",
      "dehergne-m                       2025-04-14 08:04:03 /kleio-home/sources/dehergne-m.cli\n",
      "dehergne-l                       2025-04-14 08:03:57 /kleio-home/sources/dehergne-l.cli\n",
      "dehergne-c                       2025-04-14 08:03:48 /kleio-home/sources/dehergne-c.cli\n",
      "dehergne-p                       2025-04-14 07:25:19 /kleio-home/sources/dehergne-p.cli\n",
      "dehergne-f                       2025-04-14 07:21:30 /kleio-home/sources/dehergne-f.cli\n",
      "dehergne-h                       2025-04-14 05:40:33 /kleio-home/sources/dehergne-h.cli\n",
      "dehergne-e                       2025-04-14 05:40:31 /kleio-home/sources/dehergne-e.cli\n",
      "dehergne-z                       2025-04-14 05:38:12 /kleio-home/sources/dehergne-z.cli\n",
      "dehergne-v                       2025-04-14 05:38:08 /kleio-home/sources/dehergne-v.cli\n",
      "dehergne-k                       2025-04-14 05:35:43 /kleio-home/sources/dehergne-k.cli\n",
      "dehergne-d                       2025-04-14 05:35:30 /kleio-home/sources/dehergne-d.cli\n",
      "dehergne-a                       2025-04-14 05:35:19 /kleio-home/sources/dehergne-a.cli\n",
      "dehergne-y                       2025-04-14 05:12:58 /kleio-home/sources/dehergne-y.cli\n"
     ]
    }
   ],
   "source": [
    "number_of_sources = 15\n",
    "\n",
    "Source = db.get_model('source')\n",
    "\n",
    "with db.session() as session:\n",
    "    sources = session.query(Source).order_by(Source.updated.desc()).all()\n",
    "    for source in sources[:number_of_sources]:\n",
    "        print(f\"{source.id:32} {source.updated:%Y-%m-%d %H:%M:%S} {source.kleiofile}\")\n"
   ]
  },
  {
   "cell_type": "markdown",
   "metadata": {},
   "source": [
    "## Mostrar uma fonte\n",
    "\n",
    "---\n",
    "\n",
    "## Show a source"
   ]
  },
  {
   "cell_type": "code",
   "execution_count": 7,
   "metadata": {},
   "outputs": [
    {
     "name": "stdout",
     "output_type": "stream",
     "text": [
      "fonte$dehergne-locations-1644/0/type=geoinformation/ref=None/loc=None/kleiofile=\"/kleio-home/sources/dehergne-locations-1644.cli\"\"/replaces=None/obs=\"\"\"\n",
      "      Planche: Carte des Chrétientés Chinoises de la fin des Ming (1644).p. 353\n",
      "\n",
      "      _Diocèse_\n",
      "      Depuis 1514, l'évêché de Funchal (île de Madère)\n",
      "      s'étend jusqu'aux extrémi-\n",
      "      tés de l'Asie. Depuis le 3 nov. 1534 est\n",
      "      créé l'évêché de Goa, dont est déta-\n",
      "      ché, le 23 janv. 1576, le diocèse de\n",
      "      Macao, qui sera amputé, 14 février\n",
      "      1588, du Japon (évêché de Funai):\n",
      "      l'évêché de Macao comprend théori-\n",
      "      quement tout l'empire de Chine.\n",
      "\n",
      "      _Provinces Jésuites_\n",
      "\n",
      "      la vice-province du Japon (province en\n",
      "      1611); en 1623, la vice-province de Chine\n",
      "      indépendante du Japon en est déta-\n",
      "      chée; mais un visiteur jésuite contrôle\n",
      "      l'une et l'autre.\n",
      "\n",
      "      La Chine impériale distingue dans chaque province civile les _fou_, préfec-\n",
      "      tures ou villes de premier ordre, dont dépendent les _tcheou_ et les _hien_. D'au-\n",
      "      tres agglomérations importantes comme Tientsin (alors wei) ou encore Amoy\n",
      "      et Fatshan n'ont pas reçu le titre de hien. Dans notre tableau, les villes autres\n",
      "      que les fou sont mises en italiques, et la capitale de chaque province, en\n",
      "      majuscule. Sur la carte, nous mettons en lettres majuscules les seuls fou et\n",
      "      tcheou possédant une chrétienté (pour les tcheou, majuscules penchées); les\n",
      "      hien, en lettres ordinaires, et nous n'inscrivons (en petites lettres) que les\n",
      "      bourgs et demeures chrétiennes antérieures à la persécution de 1615.\n",
      "         Pour les jésuites de l'époque, le mot collège désigne une résidence prin-\n",
      "      cipale d'où dépendent (d'un point de vue économique beaucoup plus que juri-\n",
      "      dique), un certain nombre de petites résidences qui lui sont rattachées. La\n",
      "      carte, qui accompagne ces pages comme celle des résidences en 1701, est due au\n",
      "      Père Pierre Moreau, SJ., et nous lui exprimons ici nos remerciements.\n",
      "         Une résidence est une maison propriété de la mission: elle est soit occupée\n",
      "      par un ou plusieurs missionnaire (ici: R) ou cette anné-là, sans prêtre\n",
      "      à demeure (R'); tandis que le mot église s'applique à une chapelle, un oratoire\n",
      "      ou un temple plus important ; d'autres fois, le prêtre dit la messe chez des fidè-\n",
      "      les, dans leur propre maison. Toute résidence possède une église ou oratoire.\n",
      "      Sur la carte, les Résidences sont marquées par un cercle. Résidences et chré-\n",
      "      tientés sont, à l'époque, presque toutes aux Jésuites. Dans le cas contraire,\n",
      "      nous faisons suivre le nom de la localité de la mention de l'Ordre qui les pos-\n",
      "      sède: (OP), Dominicains; (OFM), Franciscains; (OESA), Augustins.\n",
      "         On observera que le cours du Fleuve Jaune n'était pas le même qu'actuel-\n",
      "      lement, et que les chrétientés se sont développées le long des grandes routes\n",
      "      (le fait est frappant pour la région du Kiangnan). Pour les chrétientés an-\n",
      "      ciennes des Ming voir aussi MS XVI, 1957 (avec carte en couleurs).\n",
      "\n",
      "      N.B. N.B. Pour compléter ce tableau des antiquités chrétiennes de la Chine, rap-\n",
      "      pelons qu'en Mongolie à Olon-Sume, ancienne capitale des Ongiit nestoriens,\n",
      "      il y eut, outre une église nestorienne, une église catholique de Giovanni de Mon-\n",
      "      tecorvino (1247-1328) « le plus ancien exemple de sanctuaire catholique en Ex-\n",
      "      trême-Orient » Egami, Namio dans Journal Asiatique, CCXL 1952, 155-167 cf NZM\n",
      "      1954, p. 56); du même, Découverte 'l'église romaine' établie au XIII' siècle\n",
      "      en Mongolie, Conferenze, Rome, 1955, 41-55; cf BernahdC-Maitrb], Henri, La dé-\n",
      "      couverte des Nestoriens Mongols aux Ordos et l'Histoire ancienne du Christia-\n",
      "      nisme en Extrême-Orient, Tientsin, 1935. — Les ruines de l'église franciscaine\n",
      "      de Nankin au XIV* siècle ont été décrites par Prip-Molleb dans la revue\n",
      "      danoise Artes; résumé dans Chinese Recorder, 1935, 654-656 et hors-texte 641.\n",
      "      Etc.\n",
      "\n",
      "      NOTA TRANSCRIÇÃO\n",
      "\n",
      "      \"geo1$ = Provincia\"\n",
      "      \"geo2$ = fou (perfeitura ou cidade de 1ª ordem)\"\n",
      "      \"geo3$ = tcheou-hien\"\n",
      "\n",
      "      Em cada entrada o formato é\n",
      "\n",
      "         \"geoN$Nome geográfico/Tipo (província, fou, tcheou-hien)/id=deh-r1644-nome\"\n",
      "\n",
      "      Exº\n",
      "         \"geo1$Chekiang#Zhejiang/província/deh-r1644-chekiang\"\n",
      "         \"geo2$Hangchou#Hangzhou/capital provincial/deh-r1644-hangzhou\"\n",
      "         \"geo3$Fuyang/tchou-hien/deh-r1644-fuyang\"\n",
      "\n",
      "      Nos locais onde há presença de missionários:\n",
      "\n",
      "         \"atr$residencia-missao/Jesuíta/16110000 (onde aparece R)\"\n",
      "         \"atr$residencia-missao/Dominicanos%OP/16560000\"\n",
      "                        (quando passa a residência de outra ordem\n",
      "                         ver abreviaturas na legenda do mapa, exº p.354 em Kinhua)\n",
      "         \"atr$activa/sim/16110000\"         (onde só aparece uma data)\n",
      "\n",
      "      edited by Skye\n",
      "      and Joaquim Carvalho\n",
      "      and Alicia\n",
      "      \"\"\"\n",
      "  atr$historical-source:id@dehergne/\"https://archive.org/details/bhsi37/page/n396/mode/1up\"#@dehergne:396%396/\n",
      "  geodesc$deh-chre-1644/16440000/type=geodesc/ref=None/loc=None\n",
      "    geo1$Chekiang#Tche-kiang, hoje:Zhejiang, 浙江, @wikidata:Q16967 @dehergne:396/geo1\n",
      "      atr$geoentity:name@wikidata/\"https://www.wikidata.org/wiki/Q16967\"#Tche-kiang, hoje:Zhejiang, 浙江, @wikidata:Q16967 @dehergne:396%Q16967/1644\n",
      "      atr$geoentity:name@dehergne/\"https://archive.org/details/bhsi37/page/n396/mode/1up\"#Tche-kiang, hoje:Zhejiang, 浙江, @wikidata:Q16967 @dehergne:396%396/1644\n",
      "    geo1$Fukien#Fou-kien, hoje: Fujian, 福建, @wikidata:Q41705 @dehergne:397/geo1\n",
      "      atr$geoentity:name@wikidata/\"https://www.wikidata.org/wiki/Q41705\"#Fou-kien, hoje: Fujian, 福建, @wikidata:Q41705 @dehergne:397%Q41705/1644\n",
      "      atr$geoentity:name@dehergne/\"https://archive.org/details/bhsi37/page/n397/mode/1up\"#Fou-kien, hoje: Fujian, 福建, @wikidata:Q41705 @dehergne:397%397/1644\n",
      "    geo1$Honan#hoje:Henan, 河南, @wikidata:Q43684/geo1/obs=(12 ou 13 chrétientés en 1641)\n",
      "      atr$geoentity:name@wikidata/\"https://www.wikidata.org/wiki/Q43684\"#hoje:Henan, 河南, @wikidata:Q43684%Q43684/1644\n",
      "    geo1$Hukwang#Huguang?, Hou-Quang, hoje:Huguang,湖广, @wikidata:Q2235155/geo1/obs=Former province of China, corresponding to modern-day Hubei and Hunan provinces\n",
      "      <rel$geografica/pertence região/Hukwang/deh-r1644-hukwang/1644\n",
      "      <rel$geografica/pertence região/Hunan/deh-r1644-hunan/1644\n",
      "      <rel$geografica/pertence região/Hukwang/deh-r1644-hukwang/1644\n",
      "      atr$geoentity:name@wikidata/\"https://www.wikidata.org/wiki/Q2235155\"#Huguang?, Hou-Quang, hoje:Huguang,湖广, @wikidata:Q2235155%Q2235155/1644\n",
      "      atr$alternative-name@wikidata/\"https://www.wikidata.org/wiki/Q46862\"%Houpeh/1644\n",
      "      atr$alternative-name/Houpeh#Hou-pe, hoje:Hubei,湖北， @wikidata:Q46862/1644\n",
      "    geo1$Hunan#Hou-nan, hoje:Hunan, 湖南, @wikidata:Q45761/geo1\n",
      "      rel$geografica/pertence região/Hukwang/deh-r1644-hunan/1644\n",
      "      atr$geoentity:name@wikidata/\"https://www.wikidata.org/wiki/Q45761\"#Hou-nan, hoje:Hunan, 湖南, @wikidata:Q45761%Q45761/1644\n",
      "    geo1$Kiangnan#Jiangnan?hoje:Jiangnan, 江南, @wikidata:Q11133842, former province of China, corresponding to modern-day Jiangsu and Anhui provinces%KIANGNAN ou NANKING/geo1\n",
      "      <rel$geografica/pertence região/Anhwei/deh-r1644-anhwei/1644\n",
      "      <rel$geografica/pertence região/Kiangsu/deh-r1644-kiangsu/1644\n",
      "      atr$geoentity:name@wikidata/\"https://www.wikidata.org/wiki/Q11133842\"#Jiangnan?hoje:Jiangnan, 江南, @wikidata:Q11133842, former province of China, corresponding to modern-day Jiangsu and Anhui provinces%Q11133842/1644\n",
      "    geo1$Anhwei#Anhui, Ngon-hoei, hoje:Anhui, 安徽, @wikidata:Q40956/geo1\n",
      "      rel$geografica/pertence região/Kiangnan/deh-r1644-anhwei/1644\n",
      "      atr$geoentity:name@wikidata/\"https://www.wikidata.org/wiki/Q40956\"#Anhui, Ngon-hoei, hoje:Anhui, 安徽, @wikidata:Q40956%Q40956/1644\n",
      "    geo1$Kiangsu#Jiangju, hoje: Jiangsu, 江苏, @wikidata:Q16963/geo1\n",
      "      rel$geografica/pertence região/Kiangnan/deh-r1644-kiangsu/1644\n",
      "      atr$geoentity:name@wikidata/\"https://www.wikidata.org/wiki/Q16963\"#Jiangju, hoje: Jiangsu, 江苏, @wikidata:Q16963%Q16963/1644\n",
      "    geo1$Kiangsi#Jiangxi, Kiang-si, hoje: Jiangxi, 江西, @wikidata: Q57052/geo1\n",
      "      atr$geoentity:name@wikidata/\"https://www.wikidata.org/wiki/Q57052\"#Jiangxi, Kiang-si, hoje: Jiangxi, 江西, @wikidata: Q57052%Q57052/1644\n",
      "    geo1$Kwangsi#Guangxi, Koang-si, hoje: Guangxi, 广西, @wikidata: Q15176/geo1\n",
      "      atr$geoentity:name@wikidata/\"https://www.wikidata.org/wiki/Q15176\"#Guangxi, Koang-si, hoje: Guangxi, 广西, @wikidata: Q15176%Q15176/1644\n",
      "    geo1$Kwangtung#Guangdong, hoje:Guangdong, 广东, @wikidata: Q15175/geo1\n",
      "      atr$geoentity:name@wikidata/\"https://www.wikidata.org/wiki/Q15175\"#Guangdong, hoje:Guangdong, 广东, @wikidata: Q15175%Q15175/1644\n",
      "    geo1$Kwichow#Koei-Tcheou, hoje: Guizhou, 贵州, @wikidata: Q47097/geo1/obs=nada\n",
      "      atr$geoentity:name@wikidata/\"https://www.wikidata.org/wiki/Q47097\"#Koei-Tcheou, hoje: Guizhou, 贵州, @wikidata: Q47097%Q47097/1644\n",
      "    geo1$Pequim#@wikidata: Q956/geo1\n",
      "      atr$geoentity:name@wikidata/\"https://www.wikidata.org/wiki/Q956\"#@wikidata: Q956%Q956/1644\n",
      "    geo1$Shansi#Chan-si, hoje: Shanxi, 山西, @wikidata: Q46913/geo1\n",
      "      atr$geoentity:name@wikidata/\"https://www.wikidata.org/wiki/Q46913\"#Chan-si, hoje: Shanxi, 山西, @wikidata: Q46913%Q46913/1644\n",
      "    geo1$Shangtung#Chan-tong, Shandong, 山东, @wikidata: Q43407/geo1\n",
      "      atr$geoentity:name@wikidata/\"https://www.wikidata.org/wiki/Q43407\"#Chan-tong, Shandong, 山东, @wikidata: Q43407%Q43407/1644\n",
      "    geo1$Shensi#Chen-si @wikidata:Q47974, hoje: Shaanxi @dehergne:399/geo1\n",
      "      atr$geoentity:name@wikidata/\"https://www.wikidata.org/wiki/Q47974\"#Chen-si @wikidata:Q47974, hoje: Shaanxi @dehergne:399%Q47974/1644\n",
      "      atr$geoentity:name@dehergne/\"https://archive.org/details/bhsi37/page/n399/mode/1up\"#Chen-si @wikidata:Q47974, hoje: Shaanxi @dehergne:399%399/1644\n",
      "    geo1$Szechwan#Se-tch'oan, hoje: Sichuan, 四川, @wikidata:Q19770/geo1\n",
      "      atr$geoentity:name@wikidata/\"https://www.wikidata.org/wiki/Q19770\"#Se-tch'oan, hoje: Sichuan, 四川, @wikidata:Q19770%Q19770/1644\n",
      "    geo1$Yunnan#hoje: Yunnan, 云南, @wikidata: Q43194/geo1\n",
      "      atr$geoentity:name@wikidata/\"https://www.wikidata.org/wiki/Q43194\"#hoje: Yunnan, 云南, @wikidata: Q43194%Q43194/1644\n",
      "      atr$activa/sim/<1638#antes desta data havia lá cristãos\n"
     ]
    }
   ],
   "source": [
    "id = 'dehergne-locations-1644'\n",
    "with db.session() as session:\n",
    "    source = session.get(Source,id)\n",
    "    print(source.to_kleio())"
   ]
  },
  {
   "cell_type": "markdown",
   "metadata": {},
   "source": [
    "## Obter modelos para acesso aos dados\n",
    "\n",
    "---\n",
    "\n",
    "## Obtain models for data access"
   ]
  },
  {
   "cell_type": "code",
   "execution_count": 8,
   "metadata": {},
   "outputs": [
    {
     "data": {
      "text/plain": [
       "['entity',\n",
       " 'attribute',\n",
       " 'relation',\n",
       " 'act',\n",
       " 'source',\n",
       " 'aregister',\n",
       " 'person',\n",
       " 'object',\n",
       " 'geoentity',\n",
       " 'rentity',\n",
       " 'class']"
      ]
     },
     "execution_count": 8,
     "metadata": {},
     "output_type": "execute_result"
    }
   ],
   "source": [
    "db.get_models_ids()\n"
   ]
  },
  {
   "cell_type": "code",
   "execution_count": 9,
   "metadata": {},
   "outputs": [
    {
     "name": "stdout",
     "output_type": "stream",
     "text": [
      "geo1$Chekiang#Tche-kiang, hoje:Zhejiang, 浙江, @wikidata:Q16967 @dehergne:396/geo1\n",
      "  atr$geoentity:name@wikidata/\"https://www.wikidata.org/wiki/Q16967\"#Tche-kiang, hoje:Zhejiang, 浙江, @wikidata:Q16967 @dehergne:396%Q16967/1644\n",
      "  atr$geoentity:name@dehergne/\"https://archive.org/details/bhsi37/page/n396/mode/1up\"#Tche-kiang, hoje:Zhejiang, 浙江, @wikidata:Q16967 @dehergne:396%396/1644\n",
      "\n",
      "geo2$Hangchou#Hang-tcheou, hoje: Hangzhou, 杭州, @wikidata:Q4970/geo2\n",
      "  atr$activa/sim/1611\n",
      "  atr$residencia-missao/Jesuíta/1611\n",
      "  atr$geoentity:name@wikidata/\"https://www.wikidata.org/wiki/Q4970\"#Hang-tcheou, hoje: Hangzhou, 杭州, @wikidata:Q4970%Q4970/1644\n",
      "\n",
      "geo3$Fuyang#Fou-yang, hoje:Fuyang, 富阳, @wikidata:Q1011103/geo3\n",
      "  atr$activa/sim/1642\n",
      "  atr$geoentity:name@wikidata/\"https://www.wikidata.org/wiki/Q1011103\"#Fou-yang, hoje:Fuyang, 富阳, @wikidata:Q1011103%Q1011103/1644\n",
      "\n",
      "geo3$Jenho#Jen-houo, hoje: Renhe, 仁和县, Historical county name. coordinate: 30.448897N, 120.307504E/geo3/obs=no wikidata.\n",
      "  atr$activa/sim/1608\n",
      "\n",
      "geo2$Chüchow#\"\"\"K'iu-tcheou, hoje:Quzhou, 衢州, @wikidata:Q58235, in the Chinese translation it is recognized as “遂州”, which is wrong, both phonetically and geographically. In Dehergne(1957), it is noted as \"衢州\".\"\"\"/geo2/obs=\"\"\"      in the Chinese translation it is recognized as “遂州”, which is wrong, both\n",
      "  phonetically and geographically. In Dehergne(1957), it is noted as \"衢州\".\n",
      "  \"\"\"\n",
      "  atr$activa/sim/1613\n",
      "  atr$geoentity:name@wikidata/\"https://www.wikidata.org/wiki/Q58235\"#\"\"\"K'iu-tcheou, hoje:Quzhou, 衢州, @wikidata:Q58235, in the Chinese translation it is recognized as “遂州”, which is wrong, both phonetically and geographically. In Dehergne(1957), it is noted as \"衢州\".\"\"\"%Q58235/1644\n",
      "\n",
      "geo2$Huchow#Hou-tcheou, hoje: Huzhou, 湖州, @wikidata:Q42664/geo2\n",
      "  atr$geoentity:name@wikidata/\"https://www.wikidata.org/wiki/Q42664\"#Hou-tcheou, hoje: Huzhou, 湖州, @wikidata:Q42664%Q42664/1644\n",
      "\n",
      "geo3$Tehtsing%\"\"\"\"Tehtsing du Huchow, Té-ts'ing;Teching, hoje: Deqing, 德清, @wikidata:Q1191987\"\"\"\"/geo3\n",
      "  atr$activa/sim/1620\n",
      "\n",
      "geo2$Kashing#Kia-hing, hoje:Jiaxing, 嘉兴, @wikidata:Q58178/geo2\n",
      "  atr$geoentity:name@wikidata/\"https://www.wikidata.org/wiki/Q58178\"#Kia-hing, hoje:Jiaxing, 嘉兴, @wikidata:Q58178%Q58178/1644\n",
      "\n",
      "geo3$Kashan#Kia-chan, hoje: Jiashan, 嘉善, @wikidata:Q1361347%Kaosham/geo3/obs=\"\"\"\n",
      "               The place name in the book Dehergne(1973) is \"Kaoshan\", and in the Chinese translation it is recognized as “高山”. But this place cannot be found. According to Dehergne(1957), it probably shoud be \"Kashan 嘉善\", which means in the 1973 book, this place is wrongly spelled by mistake.\"\"\"\n",
      "  atr$activa/sim/1640\n",
      "  atr$geoentity:name@wikidata/\"https://www.wikidata.org/wiki/Q1361347\"#Kia-chan, hoje: Jiashan, 嘉善, @wikidata:Q1361347%Q1361347/1644\n",
      "\n",
      "geo3$Tangsi#\"\"\"\"T'ang-k'i Tangchi\", hoje:Tangqi, 塘栖 @wikidata:Q10931032, in the Chinese translation it is recognized as “塘拪”\"\"\"/geo3\n",
      "  atr$activa/sim/1642\n",
      "  atr$geoentity:name@wikidata/\"https://www.wikidata.org/wiki/Q10931032\"#\"T'ang-k'i Tangchi\", hoje:Tangqi, 塘栖 @wikidata:Q10931032, in the Chinese translation it is recognized as “塘拪”%Q10931032/1644\n",
      "\n"
     ]
    }
   ],
   "source": [
    "Model = db.get_model('geoentity')\n",
    "\n",
    "with db.session() as session:\n",
    "    entities = session.query(Model).all()\n",
    "    for entity in entities[:10]:\n",
    "        print(entity.to_kleio())\n",
    "        print()"
   ]
  }
 ],
 "metadata": {
  "kernelspec": {
   "display_name": ".venv",
   "language": "python",
   "name": "python3"
  },
  "language_info": {
   "codemirror_mode": {
    "name": "ipython",
    "version": 3
   },
   "file_extension": ".py",
   "mimetype": "text/x-python",
   "name": "python",
   "nbconvert_exporter": "python",
   "pygments_lexer": "ipython3",
   "version": "3.13.2"
  },
  "metadata": {
   "interpreter": {
    "hash": "7eb78c199a872a9864157d40ba1a3a21c75b2dca99a04068f89256c905325ae7"
   }
  },
  "orig_nbformat": 2
 },
 "nbformat": 4,
 "nbformat_minor": 2
}
