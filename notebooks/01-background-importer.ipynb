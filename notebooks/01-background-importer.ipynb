{
 "cells": [
  {
   "cell_type": "markdown",
   "id": "0fd0c038",
   "metadata": {},
   "source": [
    "\n",
    "### Keept the database update as Kleio files are translated\n",
    "Updates source translations and imports into database sources with no errors.\n",
    "\n",
    "Only changed files since last import, or new files, will be processed."
   ]
  },
  {
   "cell_type": "code",
   "execution_count": 2,
   "id": "787a5b7b",
   "metadata": {},
   "outputs": [
    {
     "name": "stderr",
     "output_type": "stream",
     "text": [
      "WARNING:root:Reusing existing container priceless_lumiere\n"
     ]
    },
    {
     "name": "stdout",
     "output_type": "stream",
     "text": [
      "Timelink version: 1.1.26\n",
      "Project name: dehergne\n",
      "Project home: /Users/jrc/mhk-home/sources/dehergne\n",
      "Database type: sqlite\n",
      "Database name: dehergne\n",
      "Kleio image: timelinkserver/kleio-server\n",
      "Kleio server token: 0GCEi...\n",
      "Kleio server URL: http://127.0.0.1:8088\n",
      "Kleio server home: /Users/jrc/mhk-home/sources/dehergne\n",
      "Kleio server container: priceless_lumiere\n",
      "Kleio version requested: latest\n",
      "Kleio server version: 12.8.593 (2025-03-16 21:55:53)\n",
      "SQLite directory: /Users/jrc/mhk-home/sources/dehergne/database/sqlite\n",
      "Database version: 6ccf1ef385a6\n",
      "Call print_info(show_token=True) to show the Kleio Server token\n",
      "Call print_info(show_password=True) to show the Postgres password\n",
      "TimelinkNotebook(project_name=dehergne, project_home=/Users/jrc/mhk-home/sources/dehergne, db_type=sqlite, db_name=dehergne, kleio_image=timelinkserver/kleio-server, kleio_version=latest, postgres_image=postgres, postgres_version=latest)\n"
     ]
    }
   ],
   "source": [
    "from timelink.notebooks import TimelinkNotebook\n",
    "\n",
    "tlnb = TimelinkNotebook()\n",
    "tlnb.print_info()\n"
   ]
  },
  {
   "cell_type": "code",
   "execution_count": null,
   "id": "7c121937",
   "metadata": {},
   "outputs": [
    {
     "data": {
      "text/html": [
       "<style>.jp-OutputArea-output { font-size: 1.5em; }</style>"
      ],
      "text/plain": [
       "<IPython.core.display.HTML object>"
      ]
     },
     "metadata": {},
     "output_type": "display_data"
    },
    {
     "name": "stdout",
     "output_type": "stream",
     "text": [
      "kleio_home_path: /Users/jrc/mhk-home/sources/dehergne\n"
     ]
    },
    {
     "name": "stderr",
     "output_type": "stream",
     "text": [
      "INFO:root:Importing sources/dehergne-locations-1644.cli\n",
      "2025-05-31 23:57:55,173 - INFO - Importing sources/dehergne-locations-1644.cli\n",
      "2025-05-31 23:57:55,173 - INFO - Importing sources/dehergne-locations-1644.cli\n",
      "2025-05-31 23:57:55,173 - INFO - Importing sources/dehergne-locations-1644.cli\n",
      "INFO:root:Storing 2 postponed relations\n",
      "2025-05-31 23:57:59,800 - INFO - Storing 2 postponed relations\n",
      "2025-05-31 23:57:59,800 - INFO - Storing 2 postponed relations\n",
      "2025-05-31 23:57:59,800 - INFO - Storing 2 postponed relations\n",
      "INFO:root:Monitoring changes in /Users/jrc/mhk-home/sources/dehergne\n",
      "2025-05-31 23:58:00,827 - INFO - Monitoring changes in /Users/jrc/mhk-home/sources/dehergne\n",
      "2025-05-31 23:58:00,827 - INFO - Monitoring changes in /Users/jrc/mhk-home/sources/dehergne\n",
      "2025-05-31 23:58:00,827 - INFO - Monitoring changes in /Users/jrc/mhk-home/sources/dehergne\n",
      "INFO:root:Detected changes in files: ['/Users/jrc/mhk-home/sources/dehergne/sources/dehergne-locations-1644.cli']\n",
      "2025-06-01 00:03:52,305 - INFO - Detected changes in files: ['/Users/jrc/mhk-home/sources/dehergne/sources/dehergne-locations-1644.cli']\n",
      "2025-06-01 00:03:52,305 - INFO - Detected changes in files: ['/Users/jrc/mhk-home/sources/dehergne/sources/dehergne-locations-1644.cli']\n",
      "2025-06-01 00:03:52,305 - INFO - Detected changes in files: ['/Users/jrc/mhk-home/sources/dehergne/sources/dehergne-locations-1644.cli']\n",
      "INFO:root:Request translation of T sources/dehergne-locations-1644.cli\n",
      "2025-06-01 00:03:56,143 - INFO - Request translation of T sources/dehergne-locations-1644.cli\n",
      "2025-06-01 00:03:56,143 - INFO - Request translation of T sources/dehergne-locations-1644.cli\n",
      "2025-06-01 00:03:56,143 - INFO - Request translation of T sources/dehergne-locations-1644.cli\n",
      "INFO:root:Importing sources/dehergne-locations-1644.cli\n",
      "2025-06-01 00:04:28,776 - INFO - Importing sources/dehergne-locations-1644.cli\n",
      "2025-06-01 00:04:28,776 - INFO - Importing sources/dehergne-locations-1644.cli\n",
      "2025-06-01 00:04:28,776 - INFO - Importing sources/dehergne-locations-1644.cli\n",
      "INFO:root:Storing 2 postponed relations\n",
      "2025-06-01 00:04:34,890 - INFO - Storing 2 postponed relations\n",
      "2025-06-01 00:04:34,890 - INFO - Storing 2 postponed relations\n",
      "2025-06-01 00:04:34,890 - INFO - Storing 2 postponed relations\n",
      "INFO:root:Detected changes in files: ['/Users/jrc/mhk-home/sources/dehergne/sources/dehergne-locations-1644.cli']\n",
      "2025-06-01 00:04:46,246 - INFO - Detected changes in files: ['/Users/jrc/mhk-home/sources/dehergne/sources/dehergne-locations-1644.cli']\n",
      "2025-06-01 00:04:46,246 - INFO - Detected changes in files: ['/Users/jrc/mhk-home/sources/dehergne/sources/dehergne-locations-1644.cli']\n",
      "2025-06-01 00:04:46,246 - INFO - Detected changes in files: ['/Users/jrc/mhk-home/sources/dehergne/sources/dehergne-locations-1644.cli']\n"
     ]
    }
   ],
   "source": [
    "import logging\n",
    "import os\n",
    "import time\n",
    "logging.basicConfig(level=logging.INFO)\n",
    "# show logging in the notebook\n",
    "from IPython.display import display, HTML\n",
    "display(HTML(\"<style>.jp-OutputArea-output { font-size: 1.5em; }</style>\"))\n",
    "# Set up logging to display in the notebook\n",
    "logger = logging.getLogger()\n",
    "logger.setLevel(logging.INFO)\n",
    "handler = logging.StreamHandler()\n",
    "handler.setLevel(logging.INFO)\n",
    "formatter = logging.Formatter('%(asctime)s - %(levelname)s - %(message)s')\n",
    "handler.setFormatter(formatter)\n",
    "logger.addHandler(handler)\n",
    "# Set up the logging configuration\n",
    "# Set the logging level to INFO\n",
    "# Set the format for the log messages\n",
    "kleio_home_path = tlnb.kleio_server.get_kleio_home()\n",
    "print(f\"kleio_home_path: {kleio_home_path}\")\n",
    "# Monitor the directory for changes\n",
    "def monitor_kleio_home(path):\n",
    "    logging.info(f\"Monitoring changes in {path}\")\n",
    "    # Initial scan of all files in subdirectories\n",
    "    previous_files = {}\n",
    "    for dirpath, _, filenames in os.walk(path):\n",
    "        for filename in filenames:\n",
    "            # Only monitor Kleio files\n",
    "            if not filename.lower().endswith((\".cli\", \".kleio\")):\n",
    "                continue\n",
    "            fullpath = os.path.join(dirpath, filename)\n",
    "            try:\n",
    "                previous_files[fullpath] = os.path.getmtime(fullpath)\n",
    "            except OSError:\n",
    "                continue\n",
    "    while True:\n",
    "        time.sleep(10)  # Check every 10 seconds\n",
    "        # Scan again recursively\n",
    "        current_files = {}\n",
    "        for dirpath, _, filenames in os.walk(path):\n",
    "            for filename in filenames:\n",
    "                # Only monitor Kleio files\n",
    "                if not filename.lower().endswith((\".cli\", \".kleio\")):\n",
    "                    continue\n",
    "                fullpath = os.path.join(dirpath, filename)\n",
    "                try:\n",
    "                    current_files[fullpath] = os.path.getmtime(fullpath)\n",
    "                except OSError:\n",
    "                    continue\n",
    "        changed_files = [f for f in current_files if f not in previous_files or current_files[f] != previous_files[f]]\n",
    "        if changed_files:\n",
    "            logging.info(f\"Detected changes in files: {changed_files}\")\n",
    "            tlnb.update_from_sources(path='')\n",
    "        previous_files = current_files\n",
    "\n",
    "tlnb.db.update_from_sources(path='', with_import_errors=True)\n",
    "monitor_kleio_home(kleio_home_path)"
   ]
  }
 ],
 "metadata": {
  "kernelspec": {
   "display_name": ".venv",
   "language": "python",
   "name": "python3"
  },
  "language_info": {
   "codemirror_mode": {
    "name": "ipython",
    "version": 3
   },
   "file_extension": ".py",
   "mimetype": "text/x-python",
   "name": "python",
   "nbconvert_exporter": "python",
   "pygments_lexer": "ipython3",
   "version": "3.10.16"
  }
 },
 "nbformat": 4,
 "nbformat_minor": 5
}
