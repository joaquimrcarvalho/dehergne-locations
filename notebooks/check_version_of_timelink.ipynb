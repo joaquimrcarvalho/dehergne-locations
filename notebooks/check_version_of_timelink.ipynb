{
 "cells": [
  {
   "cell_type": "markdown",
   "id": "e59d6035",
   "metadata": {},
   "source": [
    "## Check version of timelink\n",
    "\n",
    "If the cell bellow updates timelink a Restart of the notebook is needed (click Restart in the bar on top of this window)"
   ]
  },
  {
   "cell_type": "code",
   "execution_count": 2,
   "id": "2543d72d",
   "metadata": {},
   "outputs": [
    {
     "name": "stdout",
     "output_type": "stream",
     "text": [
      "1.1.25 1.1.25\n"
     ]
    }
   ],
   "source": [
    "import timelink as tl\n",
    "\n",
    "print(tl.version, tl.get_latest_version())"
   ]
  },
  {
   "cell_type": "code",
   "execution_count": 1,
   "id": "cd4672fd",
   "metadata": {},
   "outputs": [],
   "source": [
    "%%capture\n",
    "% pip install --upgrade timelink"
   ]
  }
 ],
 "metadata": {
  "kernelspec": {
   "display_name": ".venv",
   "language": "python",
   "name": "python3"
  },
  "language_info": {
   "codemirror_mode": {
    "name": "ipython",
    "version": 3
   },
   "file_extension": ".py",
   "mimetype": "text/x-python",
   "name": "python",
   "nbconvert_exporter": "python",
   "pygments_lexer": "ipython3",
   "version": "3.10.16"
  }
 },
 "nbformat": 4,
 "nbformat_minor": 5
}
