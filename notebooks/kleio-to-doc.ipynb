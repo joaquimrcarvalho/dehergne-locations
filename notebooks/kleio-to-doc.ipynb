{
 "cells": [
  {
   "cell_type": "markdown",
   "metadata": {},
   "source": [
    "# Convert Kleio files to \"doc\"\n",
    "\n",
    "This notebook converts kleio files to Microsoft Word files.\n",
    "\n",
    "Kleio files are plain text files. Since they use a special extension (.cli ou .kleio)\n",
    "they do not open in Microsoft Word per default. The code here creates a copy of the Kleio file that is recognized by Microsoft Word.\n",
    "\n",
    "Two parameters are necessary to run this code:\n",
    "\n",
    "* The path to a directory with the Kleio files\n",
    "* A path to a directory to receive the Word files. Directories will be created as necessary\n",
    "\n",
    "Requirements:\n",
    "\n",
    "- python-docx "
   ]
  },
  {
   "cell_type": "code",
   "execution_count": 2,
   "metadata": {},
   "outputs": [
    {
     "name": "stdout",
     "output_type": "stream",
     "text": [
      ".bash_profile RUN!\n",
      "Collecting python-docx\n",
      "  Downloading python_docx-1.1.2-py3-none-any.whl.metadata (2.0 kB)\n",
      "Collecting lxml>=3.1.0 (from python-docx)\n",
      "  Downloading lxml-5.3.0-cp310-cp310-macosx_10_9_universal2.whl.metadata (3.8 kB)\n",
      "Requirement already satisfied: typing-extensions>=4.9.0 in /Users/jrc/mhk-home/sources/dehergne-locations/.venv/lib/python3.10/site-packages (from python-docx) (4.11.0)\n",
      "Downloading python_docx-1.1.2-py3-none-any.whl (244 kB)\n",
      "Downloading lxml-5.3.0-cp310-cp310-macosx_10_9_universal2.whl (8.1 MB)\n",
      "\u001b[2K   \u001b[90m━━━━━━━━━━━━━━━━━━━━━━━━━━━━━━━━━━━━━━━━\u001b[0m \u001b[32m8.1/8.1 MB\u001b[0m \u001b[31m7.7 MB/s\u001b[0m eta \u001b[36m0:00:00\u001b[0ma \u001b[36m0:00:01\u001b[0m\n",
      "\u001b[?25hInstalling collected packages: lxml, python-docx\n",
      "Successfully installed lxml-5.3.0 python-docx-1.1.2\n"
     ]
    }
   ],
   "source": [
    "! pip install python-docx"
   ]
  },
  {
   "cell_type": "markdown",
   "metadata": {},
   "source": [
    "## Define paths"
   ]
  },
  {
   "cell_type": "code",
   "execution_count": 3,
   "metadata": {},
   "outputs": [],
   "source": [
    "kleio_files = \"../sources/\"\n",
    "word_files = \"../inferences/word/\""
   ]
  },
  {
   "cell_type": "code",
   "execution_count": 7,
   "metadata": {},
   "outputs": [],
   "source": [
    "import os\n",
    "from docx import Document\n",
    "\n",
    "# Ensure the output directory exists\n",
    "os.makedirs(word_files, exist_ok=True)\n",
    "\n",
    "# Loop through all files in the kleio_files directory\n",
    "for filename in os.listdir(kleio_files):\n",
    "    file_path = os.path.join(kleio_files, filename)\n",
    "    if os.path.isfile(file_path) and (filename.endswith(\".cli\") or filename.endswith(\".kleio\")):\n",
    "        # Read the content of the file\n",
    "        with open(file_path, 'r', encoding='utf-8') as file:\n",
    "            content = file.read()\n",
    "\n",
    "        # Create a new Word document\n",
    "        doc = Document()\n",
    "        doc.add_paragraph(content)\n",
    "\n",
    "        # Save the document to the word_files directory\n",
    "        word_filename = os.path.splitext(filename)[0] + \".docx\"\n",
    "        doc.save(os.path.join(word_files, word_filename))"
   ]
  }
 ],
 "metadata": {
  "kernelspec": {
   "display_name": ".venv",
   "language": "python",
   "name": "python3"
  },
  "language_info": {
   "codemirror_mode": {
    "name": "ipython",
    "version": 3
   },
   "file_extension": ".py",
   "mimetype": "text/x-python",
   "name": "python",
   "nbconvert_exporter": "python",
   "pygments_lexer": "ipython3",
   "version": "3.10.16"
  }
 },
 "nbformat": 4,
 "nbformat_minor": 2
}
