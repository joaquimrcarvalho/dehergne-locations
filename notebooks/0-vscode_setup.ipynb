{
 "cells": [
  {
   "cell_type": "markdown",
   "metadata": {},
   "source": [
    "## Setup the time link extension"
   ]
  },
  {
   "cell_type": "markdown",
   "metadata": {},
   "source": [
    "Only do this once per project.\n",
    "\n",
    "1. Make sure you have read the [instructions](README.md) with initial setup of VSCode Python and Jupyter notebooks.\n",
    "\n"
   ]
  },
  {
   "cell_type": "markdown",
   "metadata": {},
   "source": [
    "2. If you do not have the Timelink VScode extension install it from: https://marketplace.visualstudio.com/items?itemName=time-link.timelink-vscode-web\n",
    "\n"
   ]
  },
  {
   "cell_type": "markdown",
   "metadata": {},
   "source": [
    "### Get the parameters from Timelink Notebook interface"
   ]
  },
  {
   "cell_type": "markdown",
   "metadata": {},
   "source": [
    "It may be necessary to execute the following cells if the Timelink \n",
    "complains about not being able to connect to the Kleio Server.\n",
    "\n",
    "Normally you need to run this after a restart."
   ]
  },
  {
   "cell_type": "code",
   "execution_count": 1,
   "metadata": {},
   "outputs": [
    {
     "name": "stderr",
     "output_type": "stream",
     "text": [
      "WARNING:root:Reusing existing container interesting_proskuriakova\n"
     ]
    },
    {
     "name": "stdout",
     "output_type": "stream",
     "text": [
      "Timelink version: 1.1.25\n",
      "Project name: dehergne\n",
      "Project home: /Users/jrc/mhk-home/sources/dehergne\n",
      "Database type: sqlite\n",
      "Database name: dehergne\n",
      "Kleio image: timelinkserver/kleio-server\n",
      "Kleio server token: fyKCz...\n",
      "Kleio server URL: http://127.0.0.1:8094\n",
      "Kleio server home: /Users/jrc/mhk-home/sources/dehergne\n",
      "Kleio server container: interesting_proskuriakova\n",
      "Kleio version requested: latest\n",
      "Kleio server version: 12.8.593 (2025-03-16 21:55:53)\n",
      "SQLite directory: /Users/jrc/mhk-home/sources/dehergne/database/sqlite\n",
      "Database version: 6ccf1ef385a6\n",
      "Call print_info(show_token=True) to show the Kleio Server token\n",
      "Call print_info(show_password=True) to show the Postgres password\n",
      "TimelinkNotebook(project_name=dehergne, project_home=/Users/jrc/mhk-home/sources/dehergne, db_type=sqlite, db_name=dehergne, kleio_image=timelinkserver/kleio-server, kleio_version=latest, postgres_image=postgres, postgres_version=latest)\n"
     ]
    }
   ],
   "source": [
    "from timelink.notebooks import TimelinkNotebook\n",
    "\n",
    "tlnb = TimelinkNotebook()\n",
    "\n",
    "kleio_home = tlnb.kleio_server.get_kleio_home()\n",
    "kleio_token = tlnb.kleio_server.get_token()\n",
    "kleio_url = tlnb.kleio_server.get_url()\n",
    "tlnb.print_info(show_token=False)\n",
    "\n"
   ]
  },
  {
   "cell_type": "code",
   "execution_count": 3,
   "metadata": {},
   "outputs": [
    {
     "name": "stdout",
     "output_type": "stream",
     "text": [
      "Workspace settings updated successfully.\n"
     ]
    }
   ],
   "source": [
    "import json\n",
    "import os\n",
    "\n",
    "# Path to the workspace settings file\n",
    "workspace_path = kleio_home\n",
    "settings_path = os.path.join(workspace_path, '.vscode', 'settings.json')\n",
    "\n",
    "# Ensure the .vscode directory exists\n",
    "os.makedirs(os.path.dirname(settings_path), exist_ok=True)\n",
    "\n",
    "# Read the existing settings\n",
    "if os.path.exists(settings_path):\n",
    "    with open(settings_path, 'r') as file:\n",
    "        settings = json.load(file)\n",
    "else:\n",
    "    settings = {}\n",
    "\n",
    "# Update the settings with your desired preferences\n",
    "# Example: Set the editor font size to 14\n",
    "settings['timelink.kleio.kleioServerHome'] = kleio_home\n",
    "settings['timelink.kleio.kleioServerToken'] = kleio_token\n",
    "settings['timelink.kleio.kleioServerUrl'] = kleio_url\n",
    "\n",
    "# Write the updated settings back to the file\n",
    "with open(settings_path, 'w') as file:\n",
    "    json.dump(settings, file, indent=4)\n",
    "\n",
    "print(\"Workspace settings updated successfully.\")"
   ]
  },
  {
   "cell_type": "markdown",
   "metadata": {},
   "source": []
  }
 ],
 "metadata": {
  "kernelspec": {
   "display_name": ".venv",
   "language": "python",
   "name": "python3"
  },
  "language_info": {
   "codemirror_mode": {
    "name": "ipython",
    "version": 3
   },
   "file_extension": ".py",
   "mimetype": "text/x-python",
   "name": "python",
   "nbconvert_exporter": "python",
   "pygments_lexer": "ipython3",
   "version": "3.10.16"
  }
 },
 "nbformat": 4,
 "nbformat_minor": 2
}
